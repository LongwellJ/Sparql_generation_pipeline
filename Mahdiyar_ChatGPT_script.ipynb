{
 "cells": [
  {
   "cell_type": "markdown",
   "metadata": {
    "id": "SsLT8q27Jsvn"
   },
   "source": [
    "###Packages"
   ]
  },
  {
   "cell_type": "code",
   "execution_count": null,
   "metadata": {
    "colab": {
     "base_uri": "https://localhost:8080/"
    },
    "id": "7nwCutWouiXf",
    "outputId": "060be03f-822d-4a09-8d28-c86478388219"
   },
   "outputs": [
    {
     "name": "stdout",
     "output_type": "stream",
     "text": [
      "Collecting SPARQLWrapper\n",
      "  Downloading SPARQLWrapper-2.0.0-py3-none-any.whl.metadata (2.0 kB)\n",
      "Collecting rdflib>=6.1.1 (from SPARQLWrapper)\n",
      "  Downloading rdflib-7.0.0-py3-none-any.whl.metadata (11 kB)\n",
      "Collecting isodate<0.7.0,>=0.6.0 (from rdflib>=6.1.1->SPARQLWrapper)\n",
      "  Downloading isodate-0.6.1-py2.py3-none-any.whl.metadata (9.6 kB)\n",
      "Requirement already satisfied: pyparsing<4,>=2.1.0 in /usr/local/lib/python3.10/dist-packages (from rdflib>=6.1.1->SPARQLWrapper) (3.1.4)\n",
      "Requirement already satisfied: six in /usr/local/lib/python3.10/dist-packages (from isodate<0.7.0,>=0.6.0->rdflib>=6.1.1->SPARQLWrapper) (1.16.0)\n",
      "Downloading SPARQLWrapper-2.0.0-py3-none-any.whl (28 kB)\n",
      "Downloading rdflib-7.0.0-py3-none-any.whl (531 kB)\n",
      "\u001b[2K   \u001b[90m━━━━━━━━━━━━━━━━━━━━━━━━━━━━━━━━━━━━━━━━\u001b[0m \u001b[32m531.9/531.9 kB\u001b[0m \u001b[31m10.9 MB/s\u001b[0m eta \u001b[36m0:00:00\u001b[0m\n",
      "\u001b[?25hDownloading isodate-0.6.1-py2.py3-none-any.whl (41 kB)\n",
      "\u001b[2K   \u001b[90m━━━━━━━━━━━━━━━━━━━━━━━━━━━━━━━━━━━━━━━━\u001b[0m \u001b[32m41.7/41.7 kB\u001b[0m \u001b[31m1.5 MB/s\u001b[0m eta \u001b[36m0:00:00\u001b[0m\n",
      "\u001b[?25hInstalling collected packages: isodate, rdflib, SPARQLWrapper\n",
      "Successfully installed SPARQLWrapper-2.0.0 isodate-0.6.1 rdflib-7.0.0\n",
      "Collecting openai\n",
      "  Downloading openai-1.44.1-py3-none-any.whl.metadata (22 kB)\n",
      "Requirement already satisfied: anyio<5,>=3.5.0 in /usr/local/lib/python3.10/dist-packages (from openai) (3.7.1)\n",
      "Requirement already satisfied: distro<2,>=1.7.0 in /usr/lib/python3/dist-packages (from openai) (1.7.0)\n",
      "Collecting httpx<1,>=0.23.0 (from openai)\n",
      "  Downloading httpx-0.27.2-py3-none-any.whl.metadata (7.1 kB)\n",
      "Collecting jiter<1,>=0.4.0 (from openai)\n",
      "  Downloading jiter-0.5.0-cp310-cp310-manylinux_2_17_x86_64.manylinux2014_x86_64.whl.metadata (3.6 kB)\n",
      "Requirement already satisfied: pydantic<3,>=1.9.0 in /usr/local/lib/python3.10/dist-packages (from openai) (2.9.1)\n",
      "Requirement already satisfied: sniffio in /usr/local/lib/python3.10/dist-packages (from openai) (1.3.1)\n",
      "Requirement already satisfied: tqdm>4 in /usr/local/lib/python3.10/dist-packages (from openai) (4.66.5)\n",
      "Requirement already satisfied: typing-extensions<5,>=4.11 in /usr/local/lib/python3.10/dist-packages (from openai) (4.12.2)\n",
      "Requirement already satisfied: idna>=2.8 in /usr/local/lib/python3.10/dist-packages (from anyio<5,>=3.5.0->openai) (3.8)\n",
      "Requirement already satisfied: exceptiongroup in /usr/local/lib/python3.10/dist-packages (from anyio<5,>=3.5.0->openai) (1.2.2)\n",
      "Requirement already satisfied: certifi in /usr/local/lib/python3.10/dist-packages (from httpx<1,>=0.23.0->openai) (2024.8.30)\n",
      "Collecting httpcore==1.* (from httpx<1,>=0.23.0->openai)\n",
      "  Downloading httpcore-1.0.5-py3-none-any.whl.metadata (20 kB)\n",
      "Collecting h11<0.15,>=0.13 (from httpcore==1.*->httpx<1,>=0.23.0->openai)\n",
      "  Downloading h11-0.14.0-py3-none-any.whl.metadata (8.2 kB)\n",
      "Requirement already satisfied: annotated-types>=0.6.0 in /usr/local/lib/python3.10/dist-packages (from pydantic<3,>=1.9.0->openai) (0.7.0)\n",
      "Requirement already satisfied: pydantic-core==2.23.3 in /usr/local/lib/python3.10/dist-packages (from pydantic<3,>=1.9.0->openai) (2.23.3)\n",
      "Downloading openai-1.44.1-py3-none-any.whl (373 kB)\n",
      "\u001b[2K   \u001b[90m━━━━━━━━━━━━━━━━━━━━━━━━━━━━━━━━━━━━━━━━\u001b[0m \u001b[32m373.5/373.5 kB\u001b[0m \u001b[31m13.0 MB/s\u001b[0m eta \u001b[36m0:00:00\u001b[0m\n",
      "\u001b[?25hDownloading httpx-0.27.2-py3-none-any.whl (76 kB)\n",
      "\u001b[2K   \u001b[90m━━━━━━━━━━━━━━━━━━━━━━━━━━━━━━━━━━━━━━━━\u001b[0m \u001b[32m76.4/76.4 kB\u001b[0m \u001b[31m4.1 MB/s\u001b[0m eta \u001b[36m0:00:00\u001b[0m\n",
      "\u001b[?25hDownloading httpcore-1.0.5-py3-none-any.whl (77 kB)\n",
      "\u001b[2K   \u001b[90m━━━━━━━━━━━━━━━━━━━━━━━━━━━━━━━━━━━━━━━━\u001b[0m \u001b[32m77.9/77.9 kB\u001b[0m \u001b[31m3.4 MB/s\u001b[0m eta \u001b[36m0:00:00\u001b[0m\n",
      "\u001b[?25hDownloading jiter-0.5.0-cp310-cp310-manylinux_2_17_x86_64.manylinux2014_x86_64.whl (318 kB)\n",
      "\u001b[2K   \u001b[90m━━━━━━━━━━━━━━━━━━━━━━━━━━━━━━━━━━━━━━━━\u001b[0m \u001b[32m318.9/318.9 kB\u001b[0m \u001b[31m10.6 MB/s\u001b[0m eta \u001b[36m0:00:00\u001b[0m\n",
      "\u001b[?25hDownloading h11-0.14.0-py3-none-any.whl (58 kB)\n",
      "\u001b[2K   \u001b[90m━━━━━━━━━━━━━━━━━━━━━━━━━━━━━━━━━━━━━━━━\u001b[0m \u001b[32m58.3/58.3 kB\u001b[0m \u001b[31m2.8 MB/s\u001b[0m eta \u001b[36m0:00:00\u001b[0m\n",
      "\u001b[?25hInstalling collected packages: jiter, h11, httpcore, httpx, openai\n",
      "Successfully installed h11-0.14.0 httpcore-1.0.5 httpx-0.27.2 jiter-0.5.0 openai-1.44.1\n"
     ]
    }
   ],
   "source": [
    "!pip install SPARQLWrapper\n",
    "!pip install openai\n",
    "from IPython.display import HTML, display\n",
    "\n",
    "def set_css():\n",
    "  display(HTML('''\n",
    "  <style>\n",
    "    pre {\n",
    "        white-space: pre-wrap;\n",
    "    }\n",
    "  </style>\n",
    "  '''))\n",
    "get_ipython().events.register('pre_run_cell', set_css)"
   ]
  },
  {
   "cell_type": "markdown",
   "metadata": {
    "id": "AT9uSVsSkpd3"
   },
   "source": [
    "###getting correct answers from endpoint Booleans not working check 2024-02-02 revisions"
   ]
  },
  {
   "cell_type": "code",
   "execution_count": null,
   "metadata": {
    "colab": {
     "base_uri": "https://localhost:8080/",
     "height": 211
    },
    "id": "2k8MH30OvW2L",
    "outputId": "b2ecad0b-e125-4d4f-cf1e-387bb2f6735c"
   },
   "outputs": [
    {
     "data": {
      "text/html": [
       "\n",
       "  <style>\n",
       "    pre {\n",
       "        white-space: pre-wrap;\n",
       "    }\n",
       "  </style>\n",
       "  "
      ],
      "text/plain": [
       "<IPython.core.display.HTML object>"
      ]
     },
     "metadata": {},
     "output_type": "display_data"
    },
    {
     "ename": "FileNotFoundError",
     "evalue": "[Errno 2] No such file or directory: '/content/LCQUAD-train-data.json'",
     "output_type": "error",
     "traceback": [
      "\u001b[0;31m---------------------------------------------------------------------------\u001b[0m",
      "\u001b[0;31mFileNotFoundError\u001b[0m                         Traceback (most recent call last)",
      "\u001b[0;32m<ipython-input-9-e8fdc2249cd5>\u001b[0m in \u001b[0;36m<cell line: 27>\u001b[0;34m()\u001b[0m\n\u001b[1;32m     25\u001b[0m \u001b[0;34m\u001b[0m\u001b[0m\n\u001b[1;32m     26\u001b[0m \u001b[0mqueries\u001b[0m \u001b[0;34m=\u001b[0m \u001b[0;34m[\u001b[0m\u001b[0;34m]\u001b[0m\u001b[0;34m\u001b[0m\u001b[0;34m\u001b[0m\u001b[0m\n\u001b[0;32m---> 27\u001b[0;31m \u001b[0;32mwith\u001b[0m \u001b[0mopen\u001b[0m\u001b[0;34m(\u001b[0m\u001b[0;34m'/content/LCQUAD-train-data.json'\u001b[0m\u001b[0;34m,\u001b[0m \u001b[0;34m'r'\u001b[0m\u001b[0;34m)\u001b[0m \u001b[0;32mas\u001b[0m \u001b[0mf\u001b[0m\u001b[0;34m:\u001b[0m\u001b[0;34m\u001b[0m\u001b[0;34m\u001b[0m\u001b[0m\n\u001b[0m\u001b[1;32m     28\u001b[0m   \u001b[0mdata\u001b[0m \u001b[0;34m=\u001b[0m \u001b[0mjson\u001b[0m\u001b[0;34m.\u001b[0m\u001b[0mload\u001b[0m\u001b[0;34m(\u001b[0m\u001b[0mf\u001b[0m\u001b[0;34m)\u001b[0m\u001b[0;34m\u001b[0m\u001b[0;34m\u001b[0m\u001b[0m\n\u001b[1;32m     29\u001b[0m   \u001b[0mqueries\u001b[0m \u001b[0;34m=\u001b[0m \u001b[0;34m[\u001b[0m\u001b[0md\u001b[0m\u001b[0;34m[\u001b[0m\u001b[0;34m'sparql_query'\u001b[0m\u001b[0;34m]\u001b[0m \u001b[0;32mfor\u001b[0m \u001b[0md\u001b[0m \u001b[0;32min\u001b[0m \u001b[0mdata\u001b[0m\u001b[0;34m]\u001b[0m\u001b[0;34m\u001b[0m\u001b[0;34m\u001b[0m\u001b[0m\n",
      "\u001b[0;31mFileNotFoundError\u001b[0m: [Errno 2] No such file or directory: '/content/LCQUAD-train-data.json'"
     ]
    }
   ],
   "source": [
    "import requests\n",
    "import json\n",
    "from SPARQLWrapper import SPARQLWrapper, JSON\n",
    "from copy import deepcopy\n",
    "from tqdm import trange\n",
    "dbpedia_endpoint = \"http://dbpedia.org/sparql\"\n",
    "\n",
    "\n",
    "def execute_sparql_query(query):\n",
    "    sparql = SPARQLWrapper(dbpedia_endpoint)\n",
    "    sparql.setQuery(query)\n",
    "    sparql.setReturnFormat(JSON)\n",
    "\n",
    "    try:\n",
    "        results = sparql.queryAndConvert()\n",
    "        return results\n",
    "    except Exception as e:\n",
    "        print(f\"\\nerror executing SPARQL query: {e}\")\n",
    "        #error_count+=1\n",
    "        #print(error_count)\n",
    "        return None\n",
    "\n",
    "def process_text(txt):\n",
    "    return txt.strip().lower().replace(':','').replace('.','').replace('/','').replace('_','')\n",
    "\n",
    "queries = []\n",
    "with open('/content/LCQUAD-train-data.json', 'r') as f:\n",
    "  data = json.load(f)\n",
    "  queries = [d['sparql_query'] for d in data]\n",
    "  questions = [d['corrected_question'] for d in data]\n",
    "  ids = [d['sparql_template_id'] for d in data]\n",
    "  final = []\n",
    "  #gold_ans = [d['new_answers'] for d in data]\n",
    "  #pred = [d['pred'] for d in data]\n",
    "  #answers = [d['answers'] for d in data]\n",
    "  #triples = [d['triples'] for d in data]\n",
    "  #new_triples = [d['new_triples'] for d in data]\n",
    "  #new_query = [d['new_query'] for d in data]\n",
    "  #print(ids)\n",
    "  # for j in range(len(gold_ans)):\n",
    "  #     if len(list(gold_ans[j].keys())) == 0:\n",
    "  #         ans = []\n",
    "  #     else:\n",
    "  #         assert len(list(gold_ans[j].keys())) == 1\n",
    "  #         gold_ans[j] = deepcopy(next(iter(gold_ans[j].values())))\n",
    "final = []\n",
    "#print(type(final))\n",
    "# print(len(new_triples))\n",
    "# print(len(queries))\n",
    "gold_answers = {}\n",
    "for i in trange(len(queries)):\n",
    "    query = queries[i]\n",
    "    pred_answers = {}\n",
    "    results = execute_sparql_query(query)\n",
    "    #print(results)\n",
    "    try:\n",
    "      for result in results[\"results\"][\"bindings\"]:\n",
    "          for var_name, var_data in result.items():\n",
    "            var_value = var_data[\"value\"]\n",
    "            #print(var_name)\n",
    "            #print(var_value)\n",
    "            if var_name in pred_answers.keys():\n",
    "              pred_answers[var_name].append(var_value)\n",
    "            else:\n",
    "              pred_answers[var_name] = [var_value]\n",
    "      gold_answers[i]=pred_answers\n",
    "    except:\n",
    "      print('probably a boolean')\n",
    "    if 'boolean' in results.keys():\n",
    "      gold_answers[i] = results['boolean']\n",
    "    #print(gold_answers[i])\n",
    "      #for result in results['results']['bindings']:\n",
    "        #print(result)\n",
    "    #print(\"the pred answer is :\", pred_answers)\n",
    "    #print(gold_ans[i])\n",
    "    final.append({'id': ids[i],'query': query, 'question':questions[i], 'answers':gold_answers[i]})\n",
    "\n",
    "hybrid = json.dumps(final, indent=4)\n",
    "with open('/content/test4.json', 'w') as outfile:\n",
    "    outfile.write(hybrid)\n",
    "\n",
    "\n"
   ]
  },
  {
   "cell_type": "markdown",
   "metadata": {
    "id": "hMZFtpzYBRW6"
   },
   "source": [
    "###compuing hits @1 or micro f1@1 I think TN is acctually considered a TP here\n"
   ]
  },
  {
   "cell_type": "code",
   "execution_count": null,
   "metadata": {
    "colab": {
     "base_uri": "https://localhost:8080/",
     "height": 211
    },
    "id": "NkXgGiHP4Fwi",
    "outputId": "a0da13d8-9208-467f-f118-a1fe1bb3130d"
   },
   "outputs": [
    {
     "data": {
      "text/html": [
       "\n",
       "  <style>\n",
       "    pre {\n",
       "        white-space: pre-wrap;\n",
       "    }\n",
       "  </style>\n",
       "  "
      ],
      "text/plain": [
       "<IPython.core.display.HTML object>"
      ]
     },
     "metadata": {},
     "output_type": "display_data"
    },
    {
     "ename": "FileNotFoundError",
     "evalue": "[Errno 2] No such file or directory: '/content/mistral-7b-ER-5_epochs_test_parsed.json'",
     "output_type": "error",
     "traceback": [
      "\u001b[0;31m---------------------------------------------------------------------------\u001b[0m",
      "\u001b[0;31mFileNotFoundError\u001b[0m                         Traceback (most recent call last)",
      "\u001b[0;32m<ipython-input-7-64f10c5f675b>\u001b[0m in \u001b[0;36m<cell line: 95>\u001b[0;34m()\u001b[0m\n\u001b[1;32m     93\u001b[0m \u001b[0mFP_t\u001b[0m\u001b[0;34m=\u001b[0m\u001b[0;36m0\u001b[0m\u001b[0;34m\u001b[0m\u001b[0;34m\u001b[0m\u001b[0m\n\u001b[1;32m     94\u001b[0m \u001b[0mFN_t\u001b[0m\u001b[0;34m=\u001b[0m\u001b[0;36m0\u001b[0m\u001b[0;34m\u001b[0m\u001b[0;34m\u001b[0m\u001b[0m\n\u001b[0;32m---> 95\u001b[0;31m \u001b[0;32mwith\u001b[0m \u001b[0mopen\u001b[0m\u001b[0;34m(\u001b[0m\u001b[0;34m'/content/mistral-7b-ER-5_epochs_test_parsed.json'\u001b[0m\u001b[0;34m,\u001b[0m \u001b[0;34m'r'\u001b[0m\u001b[0;34m)\u001b[0m \u001b[0;32mas\u001b[0m \u001b[0mf\u001b[0m\u001b[0;34m:\u001b[0m\u001b[0;34m\u001b[0m\u001b[0;34m\u001b[0m\u001b[0m\n\u001b[0m\u001b[1;32m     96\u001b[0m   \u001b[0mdata\u001b[0m \u001b[0;34m=\u001b[0m \u001b[0mjson\u001b[0m\u001b[0;34m.\u001b[0m\u001b[0mload\u001b[0m\u001b[0;34m(\u001b[0m\u001b[0mf\u001b[0m\u001b[0;34m)\u001b[0m\u001b[0;34m\u001b[0m\u001b[0;34m\u001b[0m\u001b[0m\n\u001b[1;32m     97\u001b[0m   \u001b[0mqueries\u001b[0m \u001b[0;34m=\u001b[0m \u001b[0;34m[\u001b[0m\u001b[0md\u001b[0m\u001b[0;34m[\u001b[0m\u001b[0;34m'predicted_query'\u001b[0m\u001b[0;34m]\u001b[0m \u001b[0;32mfor\u001b[0m \u001b[0md\u001b[0m \u001b[0;32min\u001b[0m \u001b[0mdata\u001b[0m\u001b[0;34m]\u001b[0m\u001b[0;34m\u001b[0m\u001b[0;34m\u001b[0m\u001b[0m\n",
      "\u001b[0;31mFileNotFoundError\u001b[0m: [Errno 2] No such file or directory: '/content/mistral-7b-ER-5_epochs_test_parsed.json'"
     ]
    }
   ],
   "source": [
    "import requests\n",
    "import json\n",
    "from SPARQLWrapper import SPARQLWrapper, JSON\n",
    "from copy import deepcopy\n",
    "from tqdm import trange\n",
    "dbpedia_endpoint = \"http://dbpedia.org/sparql\"\n",
    "\n",
    "\n",
    "error_count = 0\n",
    "def execute_sparql_query(query):\n",
    "    sparql = SPARQLWrapper(dbpedia_endpoint)\n",
    "    sparql.setQuery(query)\n",
    "    sparql.setReturnFormat(JSON)\n",
    "\n",
    "    try:\n",
    "        results = sparql.queryAndConvert()\n",
    "        return results\n",
    "    except Exception as e:\n",
    "        print(f\"\\nerror executing SPARQL query: {e}\")\n",
    "        #error_count+=1\n",
    "        #print(error_count)\n",
    "        return None\n",
    "\n",
    "def process_text(txt):\n",
    "    #return txt.strip().lower().replace(':','').replace('.','').replace('/','').replace('_','')\n",
    "    return txt\n",
    "\n",
    "##use hits @1 instead\n",
    "def eval(gold, pred, boolean=False):\n",
    "  TP, FP, FN = 0, 0, 0\n",
    "  print(gold, pred)\n",
    "  # if gold is None and pred is None:\n",
    "  #       return 0, 0, 0  # Return default values if both are None\n",
    "\n",
    "  # if gold is None and not pred is None:\n",
    "  #       return 0, 1, 0  # Return default values if either is None\n",
    "\n",
    "  # if gold is not None and pred is None:\n",
    "  #       return 0, 0, 1  # Return default values if either is None\n",
    "\n",
    "  # if gold is None or pred is None:\n",
    "  #       return 0, 0, 0  # Return default values if either is None\n",
    "  print(type(pred))\n",
    "  print(type(gold))\n",
    "  for item in pred:\n",
    "    print('we started the loop')\n",
    "    new_item = process_text(item) if not boolean else item\n",
    "    print('we processed the text')\n",
    "\n",
    "    #print(new_item)\n",
    "    if new_item in gold:\n",
    "      #print('checked if new item in gold')\n",
    "      TP += 1\n",
    "      #print('added to TP')\n",
    "      #return TP, FP, FN\n",
    "    else:\n",
    "      FP += 1\n",
    "      print('added to FP')\n",
    "      #return TP, FP, FN\n",
    "    pred = list(map(lambda x: process_text(x), pred)) if not boolean else pred\n",
    "    if item and not pred:\n",
    "      #print(item, pred)\n",
    "      FN += 1\n",
    "    return TP, FP, FN\n",
    "\n",
    "# def eval(gold, pred, boolean=False):\n",
    "#     TP, FP, FN = 0, 0, 0\n",
    "#     for item in pred:\n",
    "#         new_item = process_text(item) if not boolean else item\n",
    "#         print(new_item)\n",
    "#         if new_item in gold:\n",
    "#             TP += 1\n",
    "#         else:\n",
    "#             FP += 1\n",
    "#             #print(\"we had a flase positive\")\n",
    "#     pred = list(map(lambda x: process_text(x), pred)) if not boolean else pred\n",
    "#     for item in gold:\n",
    "#         if item not in pred:\n",
    "#             FN += 1\n",
    "#             #print('we had a flase negative')\n",
    "#     acc = TP / len(pred)\n",
    "#     recall = TP / (TP + FN)\n",
    "#     precision = TP / (TP + FP)\n",
    "#     f1 = ((2 * (precision * recall)) / (precision + recall)) if (precision + recall != 0) else 0\n",
    "#     if f1 !=1:\n",
    "#       print(\"this one did not work\")\n",
    "#     rec, pre = recall, precision\n",
    "#     return acc, rec, pre, f1\n",
    "\n",
    "queries = []\n",
    "TN_t=0\n",
    "TP_t=0\n",
    "FP_t=0\n",
    "FN_t=0\n",
    "with open('/content/mistral-7b-ER-5_epochs_test_parsed.json', 'r') as f:\n",
    "  data = json.load(f)\n",
    "  queries = [d['predicted_query'] for d in data]\n",
    "  ids = [d['id'] for d in data]\n",
    "  gold_ans = [d['new_answers'] for d in data]\n",
    "  for j in range(len(gold_ans)):\n",
    "      #print(type(gold_ans[j]))\n",
    "      if len(list(gold_ans[j].keys())) == 0:\n",
    "          ans = []\n",
    "      else:\n",
    "          assert len(list(gold_ans[j].keys())) == 1\n",
    "          gold_ans[j] = deepcopy(next(iter(gold_ans[j].values())))\n",
    "\n",
    "#total_acc, total_rec, total_pre, total_f1 = 0, 0, 0, 0\n",
    "for i in trange(len(queries)):\n",
    "    query = queries[i]\n",
    "    #print(query)\n",
    "    pred_answers = {}\n",
    "    results = execute_sparql_query(query)\n",
    "\n",
    "    if (type(gold_ans[i]) != bool and len(gold_ans[i]) == 0) and (not results): # if results == None -> syntax error\n",
    "        print(f'\\nsyntax error for sample #{ids[i]}')\n",
    "        #error_count+=1\n",
    "        TP_t+=1\n",
    "        # total_acc += 1\n",
    "        # total_rec += 1\n",
    "        # total_pre += 1\n",
    "        # total_f1 += 1\n",
    "        continue\n",
    "    elif type(gold_ans[i]) != bool and (len(gold_ans[i]) > 0) and (not results): # if results == None -> syntax error\n",
    "        print(f'\\nsyntax error for sample #{ids[i]}')\n",
    "        error_count+=1\n",
    "\n",
    "        continue\n",
    "    elif type(gold_ans[i]) == bool and (not results):\n",
    "        print(f'\\nsyntax error for sample #{ids[i]}')\n",
    "        error_count+=1\n",
    "\n",
    "        continue\n",
    "    if 'boolean' in results.keys():\n",
    "        TP, FP, FN = eval([gold_ans[i]], [results['boolean']], boolean=True)\n",
    "        TP_t+=TP\n",
    "        FP_t+=FP\n",
    "        FN_t+=FN\n",
    "        print(\"total so far is\", TP_t+TN_t+FP_t+FN_t+error_count)\n",
    "        # total_acc += acc\n",
    "        # total_rec += rec\n",
    "        # total_pre += pre\n",
    "        # total_f1 += f1\n",
    "        continue\n",
    "    else:\n",
    "        for result in results[\"results\"][\"bindings\"]:\n",
    "            for var_name, var_data in result.items():\n",
    "                var_value = var_data[\"value\"]\n",
    "                if var_name in pred_answers.keys():\n",
    "                    pred_answers[var_name].append(var_value)\n",
    "                else:\n",
    "                    pred_answers[var_name] = [var_value]\n",
    "    if (type(gold_ans[i]) != bool) and (len(gold_ans[i]) == 0) and (len(list(pred_answers.keys())) == 0):\n",
    "        # total_acc += 1\n",
    "        # total_rec += 1\n",
    "        # total_pre += 1\n",
    "        # total_f1 += 1\n",
    "        TN_t+=1\n",
    "        print(\"total so far is\", TP_t+TN_t+FP_t+FN_t+error_count)\n",
    "\n",
    "        continue\n",
    "    elif (type(gold_ans[i]) != bool) and (len(gold_ans[i]) > 0) and (len(list(pred_answers.keys())) == 0):\n",
    "        print(f'\\nempty predicted answer set for sample #{ids[i]}')\n",
    "        FN_t+=1\n",
    "        print(\"total so far is\", TP_t+TN_t+FP_t+FN_t+error_count)\n",
    "\n",
    "        continue\n",
    "    elif (type(gold_ans[i]) != bool) and (len(gold_ans[i]) == 0) and (len(list(pred_answers.keys())) > 0):\n",
    "        print(f'\\npredicted answer set was supposed to be empty for sample #{ids[i]}')\n",
    "        FP_t+=1\n",
    "        print(\"total so far is\", TP_t+TN_t+FP_t+FN_t+error_count)\n",
    "\n",
    "        continue\n",
    "    elif type(gold_ans[i]) == bool:\n",
    "        print(f'\\nresults are not of type boolean for sample #{ids[i]}')\n",
    "        FP_t+=1\n",
    "        print(\"total so far is\", TP_t+TN_t+FP_t+FN_t+error_count)\n",
    "\n",
    "        continue\n",
    "    try:\n",
    "        assert len(list(pred_answers.keys())) == 1\n",
    "    except:\n",
    "        print(f'\\nresults dict has more keys than expected for sample #{ids[i]}')\n",
    "        print(\"total so far is\", TP_t+TN_t+FP_t+FN_t+error_count)\n",
    "\n",
    "        continue\n",
    "    pred_ans = next(iter(pred_answers.values()))\n",
    "    #print(f\"gold_ans[{i}]: {gold_ans[i]}\")\n",
    "    TP, FP, FN = eval(list(map(lambda x: process_text(x), gold_ans[i])), pred_ans)\n",
    "    TP_t+=TP\n",
    "    FP_t+=FP\n",
    "    FN_t+=FN\n",
    "    print(TP_t)\n",
    "    print(TN_t)\n",
    "    print(FP_t)\n",
    "    print(FN_t)\n",
    "    print(error_count)\n",
    "    print(\"total so far is\", TP_t+TN_t+FP_t+FN_t+error_count)\n",
    "    # total_acc += acc\n",
    "    # total_rec += rec\n",
    "    # total_pre += pre\n",
    "    # total_f1 += f1\n",
    "    # print(f'\\ninfo for sample #{ids[i]}:')\n",
    "    # print(f'acc = {acc}, rec = {rec}, pre = {pre}, f1 = {f1}')\n",
    "    # print('\\n'.join(gold_ans[i]))\n",
    "    # print('---')\n",
    "    # print('\\n'.join(pred_ans))\n",
    "    # print()\n",
    "# print(f'\\nacc: {total_acc / len(queries)}')\n",
    "# print(f'rec: {total_rec / len(queries)}')\n",
    "# print(f'pre: {total_pre / len(queries)}')\n",
    "# print(f'f1: {total_f1 / len(queries)}')\n",
    "print(TP_t)\n",
    "print(TN_t)\n",
    "print(FP_t)\n",
    "print(FN_t)\n",
    "print(error_count)\n",
    "print(\"total so far is\", TP_t+TN_t+FP_t+FN_t+error_count)\n",
    "TP_t=TP_t+TN_t\n",
    "prec=TP_t / (TP_t+FP_t)\n",
    "rec =TP_t / (TP_t+FN_t+error_count)\n",
    "\n",
    "f1 = ((2 * (prec * rec)) / (prec + rec))\n",
    "print(f'rec: {rec}')\n",
    "print(f'pre: {prec}')\n",
    "print(f'f1: {f1}')"
   ]
  },
  {
   "cell_type": "markdown",
   "metadata": {
    "id": "pHTFuqmGBmUx"
   },
   "source": [
    "###compute Mahdiyar f1 Macro F1"
   ]
  },
  {
   "cell_type": "code",
   "execution_count": null,
   "metadata": {
    "colab": {
     "base_uri": "https://localhost:8080/",
     "height": 1000
    },
    "id": "eiqgYM-ekqpR",
    "outputId": "a1c7a24a-7a4a-4255-d1e5-e002c35aa71c"
   },
   "outputs": [
    {
     "data": {
      "text/html": [
       "\n",
       "  <style>\n",
       "    pre {\n",
       "        white-space: pre-wrap;\n",
       "    }\n",
       "  </style>\n",
       "  "
      ],
      "text/plain": [
       "<IPython.core.display.HTML object>"
      ]
     },
     "metadata": {},
     "output_type": "display_data"
    },
    {
     "name": "stderr",
     "output_type": "stream",
     "text": [
      "  1%|▏         | 2/150 [00:01<01:51,  1.33it/s]"
     ]
    },
    {
     "name": "stdout",
     "output_type": "stream",
     "text": [
      "\n",
      "empty predicted answer set for sample #98\n"
     ]
    },
    {
     "name": "stderr",
     "output_type": "stream",
     "text": [
      "\r  2%|▏         | 3/150 [00:02<01:53,  1.30it/s]"
     ]
    },
    {
     "name": "stdout",
     "output_type": "stream",
     "text": [
      "\n",
      "empty predicted answer set for sample #86\n"
     ]
    },
    {
     "name": "stderr",
     "output_type": "stream",
     "text": [
      "\r  3%|▎         | 4/150 [00:03<01:47,  1.35it/s]"
     ]
    },
    {
     "name": "stdout",
     "output_type": "stream",
     "text": [
      "\n",
      "empty predicted answer set for sample #84\n"
     ]
    },
    {
     "name": "stderr",
     "output_type": "stream",
     "text": [
      "  5%|▍         | 7/150 [00:05<01:40,  1.42it/s]"
     ]
    },
    {
     "name": "stdout",
     "output_type": "stream",
     "text": [
      "\n",
      "empty predicted answer set for sample #66\n"
     ]
    },
    {
     "name": "stderr",
     "output_type": "stream",
     "text": [
      "\r  5%|▌         | 8/150 [00:05<01:38,  1.44it/s]"
     ]
    },
    {
     "name": "stdout",
     "output_type": "stream",
     "text": [
      "\n",
      "empty predicted answer set for sample #64\n"
     ]
    },
    {
     "name": "stderr",
     "output_type": "stream",
     "text": [
      "  7%|▋         | 10/150 [00:07<01:36,  1.46it/s]"
     ]
    },
    {
     "name": "stdout",
     "output_type": "stream",
     "text": [
      "\n",
      "empty predicted answer set for sample #56\n"
     ]
    },
    {
     "name": "stderr",
     "output_type": "stream",
     "text": [
      "\r  7%|▋         | 11/150 [00:07<01:35,  1.45it/s]"
     ]
    },
    {
     "name": "stdout",
     "output_type": "stream",
     "text": [
      "\n",
      "error executing SPARQL query: QueryBadFormed: A bad request has been sent to the endpoint: probably the SPARQL query is badly formed. \n",
      "\n",
      "Response:\n",
      "b\"Virtuoso 37000 Error SP030: SPARQL compiler, line 2: syntax error at '(' before '?x'\\n\\nSPARQL query:\\n#output-format:application/sparql-results+json\\nSELECT DISTINCT ?uri WHERE { ?uri a <http://dbpedia.org/ontology/FrequentFlyerProgram> ; <http://dbpedia.org/ontology/airline> ?x } GROUP BY ?uri ORDER BY COUNT(?x) OFFSET 0 LIMIT 1\\n\"\n",
      "\n",
      "syntax error for sample #49\n"
     ]
    },
    {
     "name": "stderr",
     "output_type": "stream",
     "text": [
      "  9%|▊         | 13/150 [00:09<01:34,  1.45it/s]"
     ]
    },
    {
     "name": "stdout",
     "output_type": "stream",
     "text": [
      "\n",
      "error executing SPARQL query: QueryBadFormed: A bad request has been sent to the endpoint: probably the SPARQL query is badly formed. \n",
      "\n",
      "Response:\n",
      "b\"Virtuoso 37000 Error SP030: SPARQL compiler, line 2: Aggregates are allowed only in result sets at ')' before '>'\\n\\nSPARQL query:\\n#output-format:application/sparql-results+json\\nSELECT DISTINCT ?uri WHERE { ?uri a <http://dbpedia.org/ontology/Country> ; <http://dbpedia.org/ontology/cave> ?cave FILTER ( COUNT(?cave) > 2 ) }\\n\"\n",
      "\n",
      "syntax error for sample #42\n"
     ]
    },
    {
     "name": "stderr",
     "output_type": "stream",
     "text": [
      " 10%|█         | 15/150 [00:10<01:32,  1.46it/s]"
     ]
    },
    {
     "name": "stdout",
     "output_type": "stream",
     "text": [
      "\n",
      "empty predicted answer set for sample #37\n"
     ]
    },
    {
     "name": "stderr",
     "output_type": "stream",
     "text": [
      " 13%|█▎        | 19/150 [00:13<01:28,  1.47it/s]"
     ]
    },
    {
     "name": "stdout",
     "output_type": "stream",
     "text": [
      "\n",
      "empty predicted answer set for sample #23\n"
     ]
    },
    {
     "name": "stderr",
     "output_type": "stream",
     "text": [
      " 15%|█▍        | 22/150 [00:15<01:27,  1.46it/s]"
     ]
    },
    {
     "name": "stdout",
     "output_type": "stream",
     "text": [
      "\n",
      "empty predicted answer set for sample #214\n"
     ]
    },
    {
     "name": "stderr",
     "output_type": "stream",
     "text": [
      " 17%|█▋        | 26/150 [00:18<01:27,  1.42it/s]"
     ]
    },
    {
     "name": "stdout",
     "output_type": "stream",
     "text": [
      "\n",
      "empty predicted answer set for sample #197\n"
     ]
    },
    {
     "name": "stderr",
     "output_type": "stream",
     "text": [
      "\r 18%|█▊        | 27/150 [00:18<01:26,  1.43it/s]"
     ]
    },
    {
     "name": "stdout",
     "output_type": "stream",
     "text": [
      "\n",
      "empty predicted answer set for sample #196\n"
     ]
    },
    {
     "name": "stderr",
     "output_type": "stream",
     "text": [
      "\r 19%|█▊        | 28/150 [00:19<01:24,  1.44it/s]"
     ]
    },
    {
     "name": "stdout",
     "output_type": "stream",
     "text": [
      "\n",
      "empty predicted answer set for sample #188\n"
     ]
    },
    {
     "name": "stderr",
     "output_type": "stream",
     "text": [
      " 23%|██▎       | 35/150 [00:24<01:31,  1.25it/s]"
     ]
    },
    {
     "name": "stdout",
     "output_type": "stream",
     "text": [
      "\n",
      "empty predicted answer set for sample #160\n"
     ]
    },
    {
     "name": "stderr",
     "output_type": "stream",
     "text": [
      " 25%|██▍       | 37/150 [00:26<01:23,  1.36it/s]"
     ]
    },
    {
     "name": "stdout",
     "output_type": "stream",
     "text": [
      "\n",
      "empty predicted answer set for sample #157\n"
     ]
    },
    {
     "name": "stderr",
     "output_type": "stream",
     "text": [
      " 26%|██▌       | 39/150 [00:27<01:18,  1.42it/s]"
     ]
    },
    {
     "name": "stdout",
     "output_type": "stream",
     "text": [
      "\n",
      "empty predicted answer set for sample #150\n"
     ]
    },
    {
     "name": "stderr",
     "output_type": "stream",
     "text": [
      " 27%|██▋       | 41/150 [00:28<01:15,  1.44it/s]"
     ]
    },
    {
     "name": "stdout",
     "output_type": "stream",
     "text": [
      "\n",
      "empty predicted answer set for sample #25\n"
     ]
    },
    {
     "name": "stderr",
     "output_type": "stream",
     "text": [
      " 29%|██▉       | 44/150 [00:31<01:15,  1.40it/s]"
     ]
    },
    {
     "name": "stdout",
     "output_type": "stream",
     "text": [
      "\n",
      "empty predicted answer set for sample #139\n"
     ]
    },
    {
     "name": "stderr",
     "output_type": "stream",
     "text": [
      "\r 30%|███       | 45/150 [00:31<01:14,  1.41it/s]"
     ]
    },
    {
     "name": "stdout",
     "output_type": "stream",
     "text": [
      "\n",
      "empty predicted answer set for sample #137\n"
     ]
    },
    {
     "name": "stderr",
     "output_type": "stream",
     "text": [
      " 31%|███▏      | 47/150 [00:33<01:14,  1.39it/s]"
     ]
    },
    {
     "name": "stdout",
     "output_type": "stream",
     "text": [
      "\n",
      "empty predicted answer set for sample #134\n"
     ]
    },
    {
     "name": "stderr",
     "output_type": "stream",
     "text": [
      " 35%|███▍      | 52/150 [00:36<01:07,  1.46it/s]"
     ]
    },
    {
     "name": "stdout",
     "output_type": "stream",
     "text": [
      "\n",
      "empty predicted answer set for sample #124\n"
     ]
    },
    {
     "name": "stderr",
     "output_type": "stream",
     "text": [
      "\r 35%|███▌      | 53/150 [00:37<01:14,  1.30it/s]"
     ]
    },
    {
     "name": "stdout",
     "output_type": "stream",
     "text": [
      "\n",
      "empty predicted answer set for sample #123\n"
     ]
    },
    {
     "name": "stderr",
     "output_type": "stream",
     "text": [
      " 37%|███▋      | 56/150 [00:39<01:06,  1.40it/s]"
     ]
    },
    {
     "name": "stdout",
     "output_type": "stream",
     "text": [
      "\n",
      "results are not of type boolean for sample #117\n"
     ]
    },
    {
     "name": "stderr",
     "output_type": "stream",
     "text": [
      "\r 38%|███▊      | 57/150 [00:40<01:05,  1.42it/s]"
     ]
    },
    {
     "name": "stdout",
     "output_type": "stream",
     "text": [
      "\n",
      "empty predicted answer set for sample #59\n"
     ]
    },
    {
     "name": "stderr",
     "output_type": "stream",
     "text": [
      " 40%|████      | 60/150 [00:43<01:15,  1.19it/s]"
     ]
    },
    {
     "name": "stdout",
     "output_type": "stream",
     "text": [
      "\n",
      "predicted answer set was supposed to be empty for sample #10\n"
     ]
    },
    {
     "name": "stderr",
     "output_type": "stream",
     "text": [
      " 42%|████▏     | 63/150 [00:45<01:04,  1.36it/s]"
     ]
    },
    {
     "name": "stdout",
     "output_type": "stream",
     "text": [
      "\n",
      "predicted answer set was supposed to be empty for sample #129\n"
     ]
    },
    {
     "name": "stderr",
     "output_type": "stream",
     "text": [
      " 44%|████▍     | 66/150 [00:47<00:59,  1.42it/s]"
     ]
    },
    {
     "name": "stdout",
     "output_type": "stream",
     "text": [
      "\n",
      "empty predicted answer set for sample #7\n"
     ]
    },
    {
     "name": "stderr",
     "output_type": "stream",
     "text": [
      " 46%|████▌     | 69/150 [00:49<00:59,  1.37it/s]"
     ]
    },
    {
     "name": "stdout",
     "output_type": "stream",
     "text": [
      "\n",
      "empty predicted answer set for sample #39\n"
     ]
    },
    {
     "name": "stderr",
     "output_type": "stream",
     "text": [
      "\r 47%|████▋     | 70/150 [00:50<00:57,  1.40it/s]"
     ]
    },
    {
     "name": "stdout",
     "output_type": "stream",
     "text": [
      "\n",
      "empty predicted answer set for sample #83\n"
     ]
    },
    {
     "name": "stderr",
     "output_type": "stream",
     "text": [
      "\r 47%|████▋     | 71/150 [00:51<00:55,  1.42it/s]"
     ]
    },
    {
     "name": "stdout",
     "output_type": "stream",
     "text": [
      "\n",
      "empty predicted answer set for sample #71\n"
     ]
    },
    {
     "name": "stderr",
     "output_type": "stream",
     "text": [
      " 49%|████▊     | 73/150 [00:52<00:54,  1.43it/s]"
     ]
    },
    {
     "name": "stdout",
     "output_type": "stream",
     "text": [
      "\n",
      "empty predicted answer set for sample #209\n"
     ]
    },
    {
     "name": "stderr",
     "output_type": "stream",
     "text": [
      "\r 49%|████▉     | 74/150 [00:53<00:52,  1.44it/s]"
     ]
    },
    {
     "name": "stdout",
     "output_type": "stream",
     "text": [
      "\n",
      "error executing SPARQL query: QueryBadFormed: A bad request has been sent to the endpoint: probably the SPARQL query is badly formed. \n",
      "\n",
      "Response:\n",
      "b\"Virtuoso 37000 Error SP030: SPARQL compiler, line 2: Aggregates are allowed only in result sets at ')' before '>'\\n\\nSPARQL query:\\n#output-format:application/sparql-results+json\\nSELECT DISTINCT ?uri WHERE { ?uri a <http://dbpedia.org/ontology/Country> ; <http://dbpedia.org/ontology/volcano> ?x FILTER ( COUNT(?x) > 10 ) }\\n\"\n",
      "\n",
      "syntax error for sample #105\n"
     ]
    },
    {
     "name": "stderr",
     "output_type": "stream",
     "text": [
      " 51%|█████     | 76/150 [00:54<00:51,  1.45it/s]"
     ]
    },
    {
     "name": "stdout",
     "output_type": "stream",
     "text": [
      "\n",
      "empty predicted answer set for sample #102\n"
     ]
    },
    {
     "name": "stderr",
     "output_type": "stream",
     "text": [
      " 52%|█████▏    | 78/150 [00:55<00:49,  1.46it/s]"
     ]
    },
    {
     "name": "stdout",
     "output_type": "stream",
     "text": [
      "\n",
      "empty predicted answer set for sample #34\n"
     ]
    },
    {
     "name": "stderr",
     "output_type": "stream",
     "text": [
      "\r 53%|█████▎    | 79/150 [00:56<00:48,  1.46it/s]"
     ]
    },
    {
     "name": "stdout",
     "output_type": "stream",
     "text": [
      "\n",
      "empty predicted answer set for sample #145\n"
     ]
    },
    {
     "name": "stderr",
     "output_type": "stream",
     "text": [
      " 55%|█████▌    | 83/150 [00:59<00:46,  1.44it/s]"
     ]
    },
    {
     "name": "stdout",
     "output_type": "stream",
     "text": [
      "\n",
      "empty predicted answer set for sample #212\n"
     ]
    },
    {
     "name": "stderr",
     "output_type": "stream",
     "text": [
      " 57%|█████▋    | 86/150 [01:01<00:45,  1.40it/s]"
     ]
    },
    {
     "name": "stdout",
     "output_type": "stream",
     "text": [
      "\n",
      "results are not of type boolean for sample #79\n"
     ]
    },
    {
     "name": "stderr",
     "output_type": "stream",
     "text": [
      " 59%|█████▊    | 88/150 [01:02<00:43,  1.43it/s]"
     ]
    },
    {
     "name": "stdout",
     "output_type": "stream",
     "text": [
      "\n",
      "empty predicted answer set for sample #80\n"
     ]
    },
    {
     "name": "stderr",
     "output_type": "stream",
     "text": [
      " 60%|██████    | 90/150 [01:04<00:41,  1.45it/s]"
     ]
    },
    {
     "name": "stdout",
     "output_type": "stream",
     "text": [
      "\n",
      "predicted answer set was supposed to be empty for sample #107\n"
     ]
    },
    {
     "name": "stderr",
     "output_type": "stream",
     "text": [
      "\r 61%|██████    | 91/150 [01:04<00:40,  1.46it/s]"
     ]
    },
    {
     "name": "stdout",
     "output_type": "stream",
     "text": [
      "\n",
      "empty predicted answer set for sample #163\n"
     ]
    },
    {
     "name": "stderr",
     "output_type": "stream",
     "text": [
      " 62%|██████▏   | 93/150 [01:06<00:39,  1.45it/s]"
     ]
    },
    {
     "name": "stdout",
     "output_type": "stream",
     "text": [
      "\n",
      "empty predicted answer set for sample #51\n"
     ]
    },
    {
     "name": "stderr",
     "output_type": "stream",
     "text": [
      " 67%|██████▋   | 101/150 [01:12<00:35,  1.39it/s]"
     ]
    },
    {
     "name": "stdout",
     "output_type": "stream",
     "text": [
      "\n",
      "error executing SPARQL query: QueryBadFormed: A bad request has been sent to the endpoint: probably the SPARQL query is badly formed. \n",
      "\n",
      "Response:\n",
      "b\"Virtuoso 37000 Error SP030: SPARQL compiler, line 2: syntax error at '(' before 'film'\\n\\nSPARQL query:\\n#output-format:application/sparql-results+json\\nPREFIX dbo: <http://dbpedia.org/ontology/> PREFIX res: <http://dbpedia.org/resource/> SELECT DISTINCT ?uri WHERE { ?uri dbo:knownFor res:Scarface_(film) }\\n\"\n",
      "\n",
      "syntax error for sample #63\n"
     ]
    },
    {
     "name": "stderr",
     "output_type": "stream",
     "text": [
      " 69%|██████▉   | 104/150 [01:14<00:32,  1.42it/s]"
     ]
    },
    {
     "name": "stdout",
     "output_type": "stream",
     "text": [
      "\n",
      "empty predicted answer set for sample #207\n"
     ]
    },
    {
     "name": "stderr",
     "output_type": "stream",
     "text": [
      " 71%|███████▏  | 107/150 [01:16<00:29,  1.45it/s]"
     ]
    },
    {
     "name": "stdout",
     "output_type": "stream",
     "text": [
      "\n",
      "empty predicted answer set for sample #103\n"
     ]
    },
    {
     "name": "stderr",
     "output_type": "stream",
     "text": [
      " 75%|███████▍  | 112/150 [01:19<00:26,  1.45it/s]"
     ]
    },
    {
     "name": "stdout",
     "output_type": "stream",
     "text": [
      "\n",
      "empty predicted answer set for sample #82\n"
     ]
    },
    {
     "name": "stderr",
     "output_type": "stream",
     "text": [
      " 77%|███████▋  | 115/150 [01:21<00:24,  1.45it/s]"
     ]
    },
    {
     "name": "stdout",
     "output_type": "stream",
     "text": [
      "\n",
      "empty predicted answer set for sample #171\n"
     ]
    },
    {
     "name": "stderr",
     "output_type": "stream",
     "text": [
      "\r 77%|███████▋  | 116/150 [01:22<00:23,  1.45it/s]"
     ]
    },
    {
     "name": "stdout",
     "output_type": "stream",
     "text": [
      "\n",
      "empty predicted answer set for sample #182\n"
     ]
    },
    {
     "name": "stderr",
     "output_type": "stream",
     "text": [
      "\r 78%|███████▊  | 117/150 [01:23<00:23,  1.43it/s]"
     ]
    },
    {
     "name": "stdout",
     "output_type": "stream",
     "text": [
      "\n",
      "empty predicted answer set for sample #13\n"
     ]
    },
    {
     "name": "stderr",
     "output_type": "stream",
     "text": [
      "\r 79%|███████▊  | 118/150 [01:23<00:22,  1.42it/s]"
     ]
    },
    {
     "name": "stdout",
     "output_type": "stream",
     "text": [
      "\n",
      "empty predicted answer set for sample #114\n"
     ]
    },
    {
     "name": "stderr",
     "output_type": "stream",
     "text": [
      " 81%|████████▏ | 122/150 [01:26<00:19,  1.44it/s]"
     ]
    },
    {
     "name": "stdout",
     "output_type": "stream",
     "text": [
      "\n",
      "empty predicted answer set for sample #26\n"
     ]
    },
    {
     "name": "stderr",
     "output_type": "stream",
     "text": [
      "\r 82%|████████▏ | 123/150 [01:27<00:18,  1.45it/s]"
     ]
    },
    {
     "name": "stdout",
     "output_type": "stream",
     "text": [
      "\n",
      "empty predicted answer set for sample #60\n"
     ]
    },
    {
     "name": "stderr",
     "output_type": "stream",
     "text": [
      " 83%|████████▎ | 125/150 [01:28<00:17,  1.44it/s]"
     ]
    },
    {
     "name": "stdout",
     "output_type": "stream",
     "text": [
      "\n",
      "empty predicted answer set for sample #206\n"
     ]
    },
    {
     "name": "stderr",
     "output_type": "stream",
     "text": [
      " 85%|████████▍ | 127/150 [01:30<00:17,  1.30it/s]"
     ]
    },
    {
     "name": "stdout",
     "output_type": "stream",
     "text": [
      "\n",
      "empty predicted answer set for sample #20\n"
     ]
    },
    {
     "name": "stderr",
     "output_type": "stream",
     "text": [
      "\r 85%|████████▌ | 128/150 [01:30<00:16,  1.35it/s]"
     ]
    },
    {
     "name": "stdout",
     "output_type": "stream",
     "text": [
      "\n",
      "error executing SPARQL query: QueryBadFormed: A bad request has been sent to the endpoint: probably the SPARQL query is badly formed. \n",
      "\n",
      "Response:\n",
      "b\"Virtuoso 37000 Error SP030: SPARQL compiler, line 0: Too many closing parentheses at '}'\\n\\nSPARQL query:\\n#output-format:application/sparql-results+json\\nSELECT DISTINCT ?uri WHERE { ?uri a <http://dbpedia.org/ontology/Library> ; <http://dbpedia.org/ontology/establishmentYear> ?date } GROUP BY ?uri HAVING ( ?date < 1400 ) }\\n\"\n",
      "\n",
      "syntax error for sample #169\n"
     ]
    },
    {
     "name": "stderr",
     "output_type": "stream",
     "text": [
      " 87%|████████▋ | 130/150 [01:32<00:14,  1.34it/s]"
     ]
    },
    {
     "name": "stdout",
     "output_type": "stream",
     "text": [
      "\n",
      "empty predicted answer set for sample #192\n"
     ]
    },
    {
     "name": "stderr",
     "output_type": "stream",
     "text": [
      "\r 87%|████████▋ | 131/150 [01:33<00:13,  1.37it/s]"
     ]
    },
    {
     "name": "stdout",
     "output_type": "stream",
     "text": [
      "\n",
      "empty predicted answer set for sample #78\n"
     ]
    },
    {
     "name": "stderr",
     "output_type": "stream",
     "text": [
      " 89%|████████▉ | 134/150 [01:35<00:11,  1.43it/s]"
     ]
    },
    {
     "name": "stdout",
     "output_type": "stream",
     "text": [
      "\n",
      "empty predicted answer set for sample #174\n"
     ]
    },
    {
     "name": "stderr",
     "output_type": "stream",
     "text": [
      "\r 90%|█████████ | 135/150 [01:35<00:10,  1.44it/s]"
     ]
    },
    {
     "name": "stdout",
     "output_type": "stream",
     "text": [
      "\n",
      "empty predicted answer set for sample #189\n"
     ]
    },
    {
     "name": "stderr",
     "output_type": "stream",
     "text": [
      "\r 91%|█████████ | 136/150 [01:36<00:09,  1.44it/s]"
     ]
    },
    {
     "name": "stdout",
     "output_type": "stream",
     "text": [
      "\n",
      "empty predicted answer set for sample #152\n"
     ]
    },
    {
     "name": "stderr",
     "output_type": "stream",
     "text": [
      " 93%|█████████▎| 139/150 [01:38<00:07,  1.45it/s]"
     ]
    },
    {
     "name": "stdout",
     "output_type": "stream",
     "text": [
      "\n",
      "empty predicted answer set for sample #95\n"
     ]
    },
    {
     "name": "stderr",
     "output_type": "stream",
     "text": [
      " 95%|█████████▌| 143/150 [01:41<00:04,  1.45it/s]"
     ]
    },
    {
     "name": "stdout",
     "output_type": "stream",
     "text": [
      "\n",
      "error executing SPARQL query: QueryBadFormed: A bad request has been sent to the endpoint: probably the SPARQL query is badly formed. \n",
      "\n",
      "Response:\n",
      "b\"Virtuoso 37000 Error SP030: SPARQL compiler, line 2: syntax error at 'FILTER' before '('\\n\\nSPARQL query:\\n#output-format:application/sparql-results+json\\nSELECT DISTINCT ?uri WHERE { ?uri a <http://dbpedia.org/ontology/Country> ; <http://dbpedia.org/ontology/capital> ?capital } GROUP BY ?uri FILTER ( ?uri <http://dbpedia.org/ontology/country> <http://dbpedia.org/resource/Africa> )\\n\"\n",
      "\n",
      "syntax error for sample #138\n"
     ]
    },
    {
     "name": "stderr",
     "output_type": "stream",
     "text": [
      " 97%|█████████▋| 146/150 [01:43<00:02,  1.41it/s]"
     ]
    },
    {
     "name": "stdout",
     "output_type": "stream",
     "text": [
      "\n",
      "empty predicted answer set for sample #14\n"
     ]
    },
    {
     "name": "stderr",
     "output_type": "stream",
     "text": [
      " 99%|█████████▊| 148/150 [01:45<00:01,  1.40it/s]"
     ]
    },
    {
     "name": "stdout",
     "output_type": "stream",
     "text": [
      "\n",
      "empty predicted answer set for sample #148\n"
     ]
    },
    {
     "name": "stderr",
     "output_type": "stream",
     "text": [
      "100%|██████████| 150/150 [01:46<00:00,  1.41it/s]"
     ]
    },
    {
     "name": "stdout",
     "output_type": "stream",
     "text": [
      "\n",
      "empty predicted answer set for sample #179\n",
      "\n",
      "acc: 0.42933139241179447\n",
      "rec: 0.44193882043943084\n",
      "pre: 0.42933139241179447\n",
      "f1: 0.4247702033614239\n",
      "errors:  6\n"
     ]
    },
    {
     "name": "stderr",
     "output_type": "stream",
     "text": [
      "\n"
     ]
    }
   ],
   "source": [
    "import requests\n",
    "import json\n",
    "from SPARQLWrapper import SPARQLWrapper, JSON\n",
    "from copy import deepcopy\n",
    "from tqdm import trange\n",
    "dbpedia_endpoint = \"http://dbpedia.org/sparql\"\n",
    "\n",
    "\n",
    "error_count = 0\n",
    "def execute_sparql_query(query):\n",
    "    sparql = SPARQLWrapper(dbpedia_endpoint)\n",
    "    sparql.setQuery(query)\n",
    "    sparql.setReturnFormat(JSON)\n",
    "\n",
    "    try:\n",
    "        results = sparql.queryAndConvert()\n",
    "        return results\n",
    "    except Exception as e:\n",
    "        print(f\"\\nerror executing SPARQL query: {e}\")\n",
    "        #error_count+=1\n",
    "        #print(error_count)\n",
    "        return None\n",
    "\n",
    "def process_text(txt):\n",
    "    #return txt.strip().lower().replace(':','').replace('.','').replace('/','').replace('_','')\n",
    "    return txt\n",
    "def eval(gold, pred, boolean=False):\n",
    "    TP, FP, FN = 0, 0, 0\n",
    "    for item in pred:\n",
    "        new_item = process_text(item) if not boolean else item\n",
    "        if new_item in gold:\n",
    "            TP += 1\n",
    "        else:\n",
    "            FP += 1\n",
    "    pred = list(map(lambda x: process_text(x), pred)) if not boolean else pred\n",
    "    for item in gold:\n",
    "        if item not in pred:\n",
    "            FN += 1\n",
    "    acc = TP / len(pred)\n",
    "    recall = TP / (TP + FN)\n",
    "    precision = TP / (TP + FP)\n",
    "    f1 = ((2 * (precision * recall)) / (precision + recall)) if (precision + recall != 0) else 0\n",
    "    rec, pre = recall, precision\n",
    "    return acc, rec, pre, f1\n",
    "\n",
    "queries = []\n",
    "with open('/content/mistral-7b-5-RT-5_epochs_test_parsed.json', 'r', encoding='utf-8' ) as f:\n",
    "  data = json.load(f)\n",
    "  queries = [d['predicted_query'] for d in data]\n",
    "  ids = [d['id'] for d in data]\n",
    "  gold_ans = [d['new_answers'] for d in data]\n",
    "  for j in range(len(gold_ans)):\n",
    "      if len(list(gold_ans[j].keys())) == 0:\n",
    "          ans = []\n",
    "      else:\n",
    "          assert len(list(gold_ans[j].keys())) == 1\n",
    "          gold_ans[j] = deepcopy(next(iter(gold_ans[j].values())))\n",
    "\n",
    "total_acc, total_rec, total_pre, total_f1 = 0, 0, 0, 0\n",
    "for i in trange(len(queries)):\n",
    "    query = queries[i]\n",
    "    pred_answers = {}\n",
    "    results = execute_sparql_query(query)\n",
    "    if (type(gold_ans[i]) != bool and len(gold_ans[i]) == 0) and (not results): # if results == None -> syntax error\n",
    "        print(f'\\nsyntax error for sample #{ids[i]}')\n",
    "        #error_count+=1\n",
    "        total_acc += 1\n",
    "        total_rec += 1\n",
    "        total_pre += 1\n",
    "        total_f1 += 1\n",
    "        continue\n",
    "    elif type(gold_ans[i]) != bool and (len(gold_ans[i]) > 0) and (not results): # if results == None -> syntax error\n",
    "        print(f'\\nsyntax error for sample #{ids[i]}')\n",
    "        error_count+=1\n",
    "\n",
    "        continue\n",
    "    elif type(gold_ans[i]) == bool and (not results):\n",
    "        print(f'\\nsyntax error for sample #{ids[i]}')\n",
    "        error_count+=1\n",
    "\n",
    "        continue\n",
    "    if 'boolean' in results.keys():\n",
    "        acc, rec, pre, f1 = eval([gold_ans[i]], [results['boolean']], boolean=True)\n",
    "        total_acc += acc\n",
    "        total_rec += rec\n",
    "        total_pre += pre\n",
    "        total_f1 += f1\n",
    "        continue\n",
    "    else:\n",
    "        for result in results[\"results\"][\"bindings\"]:\n",
    "            for var_name, var_data in result.items():\n",
    "                var_value = var_data[\"value\"]\n",
    "                if var_name in pred_answers.keys():\n",
    "                    pred_answers[var_name].append(var_value)\n",
    "                else:\n",
    "                    pred_answers[var_name] = [var_value]\n",
    "    if (type(gold_ans[i]) != bool) and (len(gold_ans[i]) == 0) and (len(list(pred_answers.keys())) == 0):\n",
    "        total_acc += 1\n",
    "        total_rec += 1\n",
    "        total_pre += 1\n",
    "        total_f1 += 1\n",
    "        continue\n",
    "    elif (type(gold_ans[i]) != bool) and (len(gold_ans[i]) > 0) and (len(list(pred_answers.keys())) == 0):\n",
    "        print(f'\\nempty predicted answer set for sample #{ids[i]}')\n",
    "        continue\n",
    "    elif (type(gold_ans[i]) != bool) and (len(gold_ans[i]) == 0) and (len(list(pred_answers.keys())) > 0):\n",
    "        print(f'\\npredicted answer set was supposed to be empty for sample #{ids[i]}')\n",
    "        continue\n",
    "    elif type(gold_ans[i]) == bool:\n",
    "        print(f'\\nresults are not of type boolean for sample #{ids[i]}')\n",
    "        continue\n",
    "    try:\n",
    "        assert len(list(pred_answers.keys())) == 1\n",
    "    except:\n",
    "        print(f'\\nresults dict has more keys than expected for sample #{ids[i]}')\n",
    "        continue\n",
    "    pred_ans = next(iter(pred_answers.values()))\n",
    "    #print(pred_ans, gold_ans[i])\n",
    "    acc, rec, pre, f1 = eval(list(map(lambda x: process_text(x), gold_ans[i])), pred_ans)\n",
    "    total_acc += acc\n",
    "    total_rec += rec\n",
    "    total_pre += pre\n",
    "    total_f1 += f1\n",
    "print(f'\\nacc: {total_acc / len(queries)}')\n",
    "print(f'rec: {total_rec / len(queries)}')\n",
    "print(f'pre: {total_pre / len(queries)}')\n",
    "print(f'f1: {total_f1 / len(queries)}')\n",
    "print('errors: ', error_count)"
   ]
  },
  {
   "cell_type": "markdown",
   "metadata": {
    "id": "G-I8nSKKIw8k"
   },
   "source": [
    "**Compute** Macro F1 QALD metric from https://ceur-ws.org/Vol-2241/paper-06.pdf\n",
    "Same as regular Macro F1 but If the golden answerset is not empty but the QA system responds with an empty answerset, it is assumed that the system determined that it cannot answer the question. Here we set the precision to 1 and the recall and Fmeasure to 0.\n"
   ]
  },
  {
   "cell_type": "code",
   "execution_count": null,
   "metadata": {
    "colab": {
     "base_uri": "https://localhost:8080/",
     "height": 1000
    },
    "id": "OV5seU12IwmK",
    "outputId": "4b35e780-dd9d-4cc3-b2d0-9df659a7e880"
   },
   "outputs": [
    {
     "data": {
      "text/html": [
       "\n",
       "  <style>\n",
       "    pre {\n",
       "        white-space: pre-wrap;\n",
       "    }\n",
       "  </style>\n",
       "  "
      ],
      "text/plain": [
       "<IPython.core.display.HTML object>"
      ]
     },
     "metadata": {},
     "output_type": "display_data"
    },
    {
     "name": "stderr",
     "output_type": "stream",
     "text": [
      "  0%|          | 2/1000 [00:01<14:04,  1.18it/s]"
     ]
    },
    {
     "name": "stdout",
     "output_type": "stream",
     "text": [
      "\n",
      "empty predicted answer set for sample #3293\n"
     ]
    },
    {
     "name": "stderr",
     "output_type": "stream",
     "text": [
      "  0%|          | 4/1000 [00:03<14:15,  1.16it/s]"
     ]
    },
    {
     "name": "stdout",
     "output_type": "stream",
     "text": [
      "['http://dbpedia.org/resource/Chess'] ['http://dbpedia.org/resource/Chess']\n"
     ]
    },
    {
     "name": "stderr",
     "output_type": "stream",
     "text": [
      "  1%|          | 7/1000 [00:05<13:03,  1.27it/s]"
     ]
    },
    {
     "name": "stdout",
     "output_type": "stream",
     "text": [
      "\n",
      "empty predicted answer set for sample #193\n"
     ]
    },
    {
     "name": "stderr",
     "output_type": "stream",
     "text": [
      "\r  1%|          | 8/1000 [00:06<12:52,  1.28it/s]"
     ]
    },
    {
     "name": "stdout",
     "output_type": "stream",
     "text": [
      "\n",
      "empty predicted answer set for sample #3057\n"
     ]
    },
    {
     "name": "stderr",
     "output_type": "stream",
     "text": [
      "  1%|          | 12/1000 [00:09<12:40,  1.30it/s]"
     ]
    },
    {
     "name": "stdout",
     "output_type": "stream",
     "text": [
      "\n",
      "empty predicted answer set for sample #768\n"
     ]
    },
    {
     "name": "stderr",
     "output_type": "stream",
     "text": [
      "\r  1%|▏         | 13/1000 [00:10<12:35,  1.31it/s]"
     ]
    },
    {
     "name": "stdout",
     "output_type": "stream",
     "text": [
      "['0'] ['26912']\n"
     ]
    },
    {
     "name": "stderr",
     "output_type": "stream",
     "text": [
      "\r  1%|▏         | 14/1000 [00:11<12:57,  1.27it/s]"
     ]
    },
    {
     "name": "stdout",
     "output_type": "stream",
     "text": [
      "\n",
      "empty predicted answer set for sample #3090\n"
     ]
    },
    {
     "name": "stderr",
     "output_type": "stream",
     "text": [
      "  2%|▏         | 16/1000 [00:12<12:41,  1.29it/s]"
     ]
    },
    {
     "name": "stdout",
     "output_type": "stream",
     "text": [
      "['http://dbpedia.org/resource/Basketball', 'http://dbpedia.org/resource/Cricket', 'http://dbpedia.org/resource/Handball', 'http://dbpedia.org/resource/Association_football', 'http://dbpedia.org/resource/Chess', 'http://dbpedia.org/resource/Sport_of_athletics'] ['http://dbpedia.org/resource/Chess']\n"
     ]
    },
    {
     "name": "stderr",
     "output_type": "stream",
     "text": [
      "  2%|▏         | 18/1000 [00:14<12:30,  1.31it/s]"
     ]
    },
    {
     "name": "stdout",
     "output_type": "stream",
     "text": [
      "\n",
      "predicted answer set was supposed to be empty for sample #4938\n"
     ]
    },
    {
     "name": "stderr",
     "output_type": "stream",
     "text": [
      "\r  2%|▏         | 19/1000 [00:15<12:36,  1.30it/s]"
     ]
    },
    {
     "name": "stdout",
     "output_type": "stream",
     "text": [
      "['0'] ['19']\n"
     ]
    },
    {
     "name": "stderr",
     "output_type": "stream",
     "text": [
      "\r  2%|▏         | 20/1000 [00:15<12:35,  1.30it/s]"
     ]
    },
    {
     "name": "stdout",
     "output_type": "stream",
     "text": [
      "\n",
      "empty predicted answer set for sample #4448\n"
     ]
    },
    {
     "name": "stderr",
     "output_type": "stream",
     "text": [
      "\r  2%|▏         | 21/1000 [00:16<12:30,  1.31it/s]"
     ]
    },
    {
     "name": "stdout",
     "output_type": "stream",
     "text": [
      "['http://dbpedia.org/resource/Commonwealth_of_Massachusetts', 'http://dbpedia.org/resource/Massachusetts'] ['http://dbpedia.org/resource/Commonwealth_of_Massachusetts', 'http://dbpedia.org/resource/Massachusetts']\n"
     ]
    },
    {
     "name": "stderr",
     "output_type": "stream",
     "text": [
      "\r  2%|▏         | 22/1000 [00:17<12:28,  1.31it/s]"
     ]
    },
    {
     "name": "stdout",
     "output_type": "stream",
     "text": [
      "\n",
      "empty predicted answer set for sample #2717\n"
     ]
    },
    {
     "name": "stderr",
     "output_type": "stream",
     "text": [
      "  2%|▏         | 24/1000 [00:19<15:08,  1.07it/s]"
     ]
    },
    {
     "name": "stdout",
     "output_type": "stream",
     "text": [
      "\n",
      "empty predicted answer set for sample #3389\n"
     ]
    },
    {
     "name": "stderr",
     "output_type": "stream",
     "text": [
      "\r  2%|▎         | 25/1000 [00:20<17:48,  1.10s/it]"
     ]
    },
    {
     "name": "stdout",
     "output_type": "stream",
     "text": [
      "\n",
      "empty predicted answer set for sample #722\n"
     ]
    },
    {
     "name": "stderr",
     "output_type": "stream",
     "text": [
      "\r  3%|▎         | 26/1000 [00:21<16:08,  1.01it/s]"
     ]
    },
    {
     "name": "stdout",
     "output_type": "stream",
     "text": [
      "['0'] ['11']\n"
     ]
    },
    {
     "name": "stderr",
     "output_type": "stream",
     "text": [
      "  3%|▎         | 31/1000 [00:25<13:08,  1.23it/s]"
     ]
    },
    {
     "name": "stdout",
     "output_type": "stream",
     "text": [
      "['http://dbpedia.org/resource/Brian_Eastick', 'http://dbpedia.org/resource/David_Burnside_(footballer)', 'http://dbpedia.org/resource/Paul_Simpson_(footballer)', 'http://dbpedia.org/resource/Paul_Williams_(footballer,_born_1971)', 'http://dbpedia.org/resource/Peter_Taylor_(footballer,_born_1953)', 'http://dbpedia.org/resource/Chris_Ramsey_(footballer)', 'http://dbpedia.org/resource/Andy_Edwards_(footballer,_born_1971)', 'http://dbpedia.org/resource/Lee_Carsley', 'http://dbpedia.org/resource/Aidy_Boothroyd', 'http://dbpedia.org/resource/Neil_Dewsnip', 'http://dbpedia.org/resource/Keith_Downing', 'http://dbpedia.org/resource/Mark_Robson_(footballer)', 'http://dbpedia.org/resource/Ian_Foster_(footballer)'] ['http://dbpedia.org/resource/Peter_Taylor_(footballer,_born_1953)', 'http://dbpedia.org/resource/Lee_Carsley', 'http://dbpedia.org/resource/Aidy_Boothroyd']\n"
     ]
    },
    {
     "name": "stderr",
     "output_type": "stream",
     "text": [
      "\r  3%|▎         | 32/1000 [00:26<12:49,  1.26it/s]"
     ]
    },
    {
     "name": "stdout",
     "output_type": "stream",
     "text": [
      "['0'] ['18']\n"
     ]
    },
    {
     "name": "stderr",
     "output_type": "stream",
     "text": [
      "\r  3%|▎         | 33/1000 [00:27<12:42,  1.27it/s]"
     ]
    },
    {
     "name": "stdout",
     "output_type": "stream",
     "text": [
      "\n",
      "results are not of type boolean for sample #4579\n"
     ]
    },
    {
     "name": "stderr",
     "output_type": "stream",
     "text": [
      "\r  3%|▎         | 34/1000 [00:27<12:29,  1.29it/s]"
     ]
    },
    {
     "name": "stdout",
     "output_type": "stream",
     "text": [
      "\n",
      "empty predicted answer set for sample #326\n"
     ]
    },
    {
     "name": "stderr",
     "output_type": "stream",
     "text": [
      "  4%|▎         | 36/1000 [00:29<12:37,  1.27it/s]"
     ]
    },
    {
     "name": "stdout",
     "output_type": "stream",
     "text": [
      "['0'] ['22']\n"
     ]
    },
    {
     "name": "stderr",
     "output_type": "stream",
     "text": [
      "\r  4%|▎         | 37/1000 [00:30<13:12,  1.21it/s]"
     ]
    },
    {
     "name": "stdout",
     "output_type": "stream",
     "text": [
      "\n",
      "empty predicted answer set for sample #1724\n"
     ]
    },
    {
     "name": "stderr",
     "output_type": "stream",
     "text": [
      "  4%|▍         | 39/1000 [00:31<12:42,  1.26it/s]"
     ]
    },
    {
     "name": "stdout",
     "output_type": "stream",
     "text": [
      "\n",
      "empty predicted answer set for sample #2523\n"
     ]
    },
    {
     "name": "stderr",
     "output_type": "stream",
     "text": [
      "\r  4%|▍         | 40/1000 [00:32<12:26,  1.29it/s]"
     ]
    },
    {
     "name": "stdout",
     "output_type": "stream",
     "text": [
      "\n",
      "empty predicted answer set for sample #341\n"
     ]
    },
    {
     "name": "stderr",
     "output_type": "stream",
     "text": [
      "  4%|▍         | 43/1000 [00:35<13:26,  1.19it/s]"
     ]
    },
    {
     "name": "stdout",
     "output_type": "stream",
     "text": [
      "\n",
      "empty predicted answer set for sample #688\n"
     ]
    },
    {
     "name": "stderr",
     "output_type": "stream",
     "text": [
      "\r  4%|▍         | 44/1000 [00:36<13:06,  1.22it/s]"
     ]
    },
    {
     "name": "stdout",
     "output_type": "stream",
     "text": [
      "\n",
      "empty predicted answer set for sample #3432\n"
     ]
    },
    {
     "name": "stderr",
     "output_type": "stream",
     "text": [
      "\r  4%|▍         | 45/1000 [00:36<12:51,  1.24it/s]"
     ]
    },
    {
     "name": "stdout",
     "output_type": "stream",
     "text": [
      "['0'] ['372']\n"
     ]
    },
    {
     "name": "stderr",
     "output_type": "stream",
     "text": [
      "  5%|▍         | 48/1000 [00:39<13:15,  1.20it/s]"
     ]
    },
    {
     "name": "stdout",
     "output_type": "stream",
     "text": [
      "['126'] ['126']\n"
     ]
    },
    {
     "name": "stderr",
     "output_type": "stream",
     "text": [
      "\r  5%|▍         | 49/1000 [00:40<12:48,  1.24it/s]"
     ]
    },
    {
     "name": "stdout",
     "output_type": "stream",
     "text": [
      "\n",
      "predicted answer set was supposed to be empty for sample #1492\n"
     ]
    },
    {
     "name": "stderr",
     "output_type": "stream",
     "text": [
      "\r  5%|▌         | 50/1000 [00:40<12:32,  1.26it/s]"
     ]
    },
    {
     "name": "stdout",
     "output_type": "stream",
     "text": [
      "\n",
      "empty predicted answer set for sample #3953\n"
     ]
    },
    {
     "name": "stderr",
     "output_type": "stream",
     "text": [
      "  5%|▌         | 53/1000 [00:43<13:44,  1.15it/s]"
     ]
    },
    {
     "name": "stdout",
     "output_type": "stream",
     "text": [
      "\n",
      "empty predicted answer set for sample #661\n"
     ]
    },
    {
     "name": "stderr",
     "output_type": "stream",
     "text": [
      "\r  5%|▌         | 54/1000 [00:44<13:05,  1.20it/s]"
     ]
    },
    {
     "name": "stdout",
     "output_type": "stream",
     "text": [
      "['http://dbpedia.org/resource/Chuck_Dukowski'] ['http://dbpedia.org/resource/Micah_Nelson', 'Jeff Smith', 'Nikita Sorokin', 'Milo Gonzalez', 'Tony Peluso']\n"
     ]
    },
    {
     "name": "stderr",
     "output_type": "stream",
     "text": [
      "  6%|▌         | 58/1000 [00:47<12:03,  1.30it/s]"
     ]
    },
    {
     "name": "stdout",
     "output_type": "stream",
     "text": [
      "\n",
      "empty predicted answer set for sample #4706\n"
     ]
    },
    {
     "name": "stderr",
     "output_type": "stream",
     "text": [
      "  6%|▌         | 60/1000 [00:50<18:11,  1.16s/it]"
     ]
    },
    {
     "name": "stdout",
     "output_type": "stream",
     "text": [
      "\n",
      "empty predicted answer set for sample #3572\n"
     ]
    },
    {
     "name": "stderr",
     "output_type": "stream",
     "text": [
      "\r  6%|▌         | 61/1000 [00:51<16:12,  1.04s/it]"
     ]
    },
    {
     "name": "stdout",
     "output_type": "stream",
     "text": [
      "['0'] ['4']\n"
     ]
    },
    {
     "name": "stderr",
     "output_type": "stream",
     "text": [
      "\r  6%|▌         | 62/1000 [00:52<14:49,  1.05it/s]"
     ]
    },
    {
     "name": "stdout",
     "output_type": "stream",
     "text": [
      "\n",
      "empty predicted answer set for sample #1203\n"
     ]
    },
    {
     "name": "stderr",
     "output_type": "stream",
     "text": [
      "\r  6%|▋         | 63/1000 [00:53<14:40,  1.06it/s]"
     ]
    },
    {
     "name": "stdout",
     "output_type": "stream",
     "text": [
      "\n",
      "predicted answer set was supposed to be empty for sample #1990\n"
     ]
    },
    {
     "name": "stderr",
     "output_type": "stream",
     "text": [
      "  6%|▋         | 65/1000 [00:54<13:04,  1.19it/s]"
     ]
    },
    {
     "name": "stdout",
     "output_type": "stream",
     "text": [
      "\n",
      "empty predicted answer set for sample #4852\n"
     ]
    },
    {
     "name": "stderr",
     "output_type": "stream",
     "text": [
      "\r  7%|▋         | 66/1000 [00:55<12:36,  1.23it/s]"
     ]
    },
    {
     "name": "stdout",
     "output_type": "stream",
     "text": [
      "['http://dbpedia.org/resource/Colorado', 'http://dbpedia.org/resource/Englewood,_Colorado', 'http://dbpedia.org/resource/Arapahoe_County,_Colorado'] ['http://dbpedia.org/resource/Colorado', 'http://dbpedia.org/resource/Englewood,_Colorado', 'http://dbpedia.org/resource/Arapahoe_County,_Colorado']\n"
     ]
    },
    {
     "name": "stderr",
     "output_type": "stream",
     "text": [
      "\r  7%|▋         | 67/1000 [00:56<12:18,  1.26it/s]"
     ]
    },
    {
     "name": "stdout",
     "output_type": "stream",
     "text": [
      "\n",
      "empty predicted answer set for sample #4167\n"
     ]
    },
    {
     "name": "stderr",
     "output_type": "stream",
     "text": [
      "\r  7%|▋         | 68/1000 [00:56<12:07,  1.28it/s]"
     ]
    },
    {
     "name": "stdout",
     "output_type": "stream",
     "text": [
      "\n",
      "empty predicted answer set for sample #762\n"
     ]
    },
    {
     "name": "stderr",
     "output_type": "stream",
     "text": [
      "\r  7%|▋         | 69/1000 [00:57<11:58,  1.30it/s]"
     ]
    },
    {
     "name": "stdout",
     "output_type": "stream",
     "text": [
      "\n",
      "empty predicted answer set for sample #875\n"
     ]
    },
    {
     "name": "stderr",
     "output_type": "stream",
     "text": [
      "\r  7%|▋         | 70/1000 [00:58<11:52,  1.30it/s]"
     ]
    },
    {
     "name": "stdout",
     "output_type": "stream",
     "text": [
      "['http://dbpedia.org/resource/Carlos_Villa', 'http://dbpedia.org/resource/Melvino_Garretti', 'http://dbpedia.org/resource/Merle_Temkin', 'http://dbpedia.org/resource/Anne_Appleby', 'http://dbpedia.org/resource/Uri_Katzenstein', 'http://dbpedia.org/resource/Elizabeth_King_(artist)', 'http://dbpedia.org/resource/Elizabeth_Sher', 'http://dbpedia.org/resource/Annie_Leibovitz', 'http://dbpedia.org/resource/Liza_Lou', 'http://dbpedia.org/resource/Shirley_Julian', 'http://dbpedia.org/resource/Michael_Arcega', 'http://dbpedia.org/resource/Catherine_Opie', 'http://dbpedia.org/resource/Ala_Ebtekar', 'http://dbpedia.org/resource/Dani_Tull', 'http://dbpedia.org/resource/Erlin_Geffrard', 'http://dbpedia.org/resource/Frances_Baldwin', 'http://dbpedia.org/resource/Rebeca_Bollinger', 'http://dbpedia.org/resource/Michael_Light', 'http://dbpedia.org/resource/Rashin_Fahandej'] ['http://dbpedia.org/resource/Ronald_Davis', 'http://dbpedia.org/resource/Ronnie_Landfield', 'http://dbpedia.org/resource/Roy_De_Forest', 'http://dbpedia.org/resource/Sarah_Cain', 'http://dbpedia.org/resource/Beth_Van_Hoesen', 'http://dbpedia.org/resource/Debra_Drexler', 'http://dbpedia.org/resource/Paul_McCarthy', 'http://dbpedia.org/resource/Peter_Kovál', 'http://dbpedia.org/resource/Peter_Reginato', 'http://dbpedia.org/resource/Rita_Keegan', 'http://dbpedia.org/resource/Robert_Graham_(sculptor)', 'http://dbpedia.org/resource/Vena_Kava', 'http://dbpedia.org/resource/Deborah_Remington', 'http://dbpedia.org/resource/James_Zar', 'http://dbpedia.org/resource/Louise_Janin', 'http://dbpedia.org/resource/Neil_Williams_(artist)', 'http://dbpedia.org/resource/Emily_Carr', 'http://dbpedia.org/resource/Thom_Merrick', 'http://dbpedia.org/resource/Lin_Evola', 'http://dbpedia.org/resource/Linda_Lomahaftewa', 'http://dbpedia.org/resource/Mark_Bulwinkle', 'http://dbpedia.org/resource/Tullio_DeSantis', 'http://dbpedia.org/resource/Daniela_Franco', 'http://dbpedia.org/resource/Gregory_Gillespie', 'http://dbpedia.org/resource/Gutzon_Borglum', 'http://dbpedia.org/resource/Helen_Hyde', 'http://dbpedia.org/resource/Jason_Rhoades', 'http://dbpedia.org/resource/Arthur_Frank_Mathews', 'http://dbpedia.org/resource/Jess_Collins', 'http://dbpedia.org/resource/Jim_Franklin_(artist)', 'http://dbpedia.org/resource/Karl_Kasten', 'http://dbpedia.org/resource/T._C._Cannon', 'http://dbpedia.org/resource/Michael_Heizer', 'http://dbpedia.org/resource/Ralph_Stackpole', 'http://dbpedia.org/resource/Saber_(artist)', 'http://dbpedia.org/resource/Lynn_Marie_Kirby', 'http://dbpedia.org/resource/Vernon_Pratt', 'http://dbpedia.org/resource/Tricia_Ward']\n"
     ]
    },
    {
     "name": "stderr",
     "output_type": "stream",
     "text": [
      "  7%|▋         | 72/1000 [00:59<11:42,  1.32it/s]"
     ]
    },
    {
     "name": "stdout",
     "output_type": "stream",
     "text": [
      "\n",
      "empty predicted answer set for sample #2687\n"
     ]
    },
    {
     "name": "stderr",
     "output_type": "stream",
     "text": [
      "\r  7%|▋         | 73/1000 [01:00<13:01,  1.19it/s]"
     ]
    },
    {
     "name": "stdout",
     "output_type": "stream",
     "text": [
      "\n",
      "empty predicted answer set for sample #3600\n"
     ]
    },
    {
     "name": "stderr",
     "output_type": "stream",
     "text": [
      "\r  7%|▋         | 74/1000 [01:03<21:26,  1.39s/it]"
     ]
    },
    {
     "name": "stdout",
     "output_type": "stream",
     "text": [
      "['0'] ['0']\n"
     ]
    },
    {
     "name": "stderr",
     "output_type": "stream",
     "text": [
      "  8%|▊         | 76/1000 [01:05<16:28,  1.07s/it]"
     ]
    },
    {
     "name": "stdout",
     "output_type": "stream",
     "text": [
      "['0'] ['1']\n"
     ]
    },
    {
     "name": "stderr",
     "output_type": "stream",
     "text": [
      "\r  8%|▊         | 77/1000 [01:06<17:54,  1.16s/it]"
     ]
    },
    {
     "name": "stdout",
     "output_type": "stream",
     "text": [
      "\n",
      "empty predicted answer set for sample #4124\n"
     ]
    },
    {
     "name": "stderr",
     "output_type": "stream",
     "text": [
      "  8%|▊         | 79/1000 [01:07<14:37,  1.05it/s]"
     ]
    },
    {
     "name": "stdout",
     "output_type": "stream",
     "text": [
      "['4'] ['8']\n"
     ]
    },
    {
     "name": "stderr",
     "output_type": "stream",
     "text": [
      "\r  8%|▊         | 80/1000 [01:08<13:40,  1.12it/s]"
     ]
    },
    {
     "name": "stdout",
     "output_type": "stream",
     "text": [
      "\n",
      "empty predicted answer set for sample #3877\n"
     ]
    },
    {
     "name": "stderr",
     "output_type": "stream",
     "text": [
      "  8%|▊         | 85/1000 [01:12<11:44,  1.30it/s]"
     ]
    },
    {
     "name": "stdout",
     "output_type": "stream",
     "text": [
      "['http://dbpedia.org/resource/Becker_(TV_series)', \"http://dbpedia.org/resource/Blansky's_Beauties\", 'http://dbpedia.org/resource/Blind_Justice_(TV_series)', 'http://dbpedia.org/resource/Bram_&_Alice', 'http://dbpedia.org/resource/Delta_County,_U.S.A.', 'http://dbpedia.org/resource/Perfect_Gentlemen_(film)', 'http://dbpedia.org/resource/Viper_(TV_series)', 'http://dbpedia.org/resource/Medical_Investigation', 'http://dbpedia.org/resource/Medium_(TV_series)', 'http://dbpedia.org/resource/Men,_Women_&_Dogs', 'http://dbpedia.org/resource/Clueless_(TV_series)', 'http://dbpedia.org/resource/Frasier', 'http://dbpedia.org/resource/Mission:_Impossible_(1966_TV_series)', 'http://dbpedia.org/resource/Mission:_Impossible_(1988_TV_series)', 'http://dbpedia.org/resource/Mork_&_Mindy/Laverne_&_Shirley/Fonz_Hour', 'http://dbpedia.org/resource/The_Mommies_(TV_series)', 'http://dbpedia.org/resource/The_Trouble_with_Normal_(TV_series)', 'http://dbpedia.org/resource/The_Untouchables_(1993_TV_series)', 'http://dbpedia.org/resource/Andy_Richter_Controls_the_Universe', 'http://dbpedia.org/resource/Love,_Inc._(TV_series)', 'http://dbpedia.org/resource/Love_&_Money', 'http://dbpedia.org/resource/Love_Monkey', 'http://dbpedia.org/resource/Sister,_Sister_(TV_series)', 'http://dbpedia.org/resource/Walker,_Texas_Ranger:_Trial_by_Fire', 'http://dbpedia.org/resource/Wheels_of_Terror', 'http://dbpedia.org/resource/Wings_(1990_TV_series)', 'http://dbpedia.org/resource/Almost_Perfect', 'http://dbpedia.org/resource/Duckman', 'http://dbpedia.org/resource/Everybody_Hates_Chris', 'http://dbpedia.org/resource/Fired_Up_(TV_series)', 'http://dbpedia.org/resource/Now_and_Again', 'http://dbpedia.org/resource/Numbers_(TV_series)', 'http://dbpedia.org/resource/Out_of_Practice', 'http://dbpedia.org/resource/Paper_Moon_(TV_series)', \"http://dbpedia.org/resource/It's_All_Relative\", 'http://dbpedia.org/resource/Taxi_(TV_series)', \"http://dbpedia.org/resource/That's_Life_(2000_TV_series)\", \"http://dbpedia.org/resource/The_Bad_Girl's_Guide\", 'http://dbpedia.org/resource/The_Dead_Zone_(TV_series)', 'http://dbpedia.org/resource/The_Fonz_and_the_Happy_Days_Gang', 'http://dbpedia.org/resource/The_Godfather_Saga', 'http://dbpedia.org/resource/Cheers', 'http://dbpedia.org/resource/Keen_Eddie', 'http://dbpedia.org/resource/LateLine', 'http://dbpedia.org/resource/Laverne_&_Shirley', 'http://dbpedia.org/resource/Laverne_&_Shirley_(1981_TV_series)', 'http://dbpedia.org/resource/Do_Over', 'http://dbpedia.org/resource/Philly_(TV_series)', 'http://dbpedia.org/resource/South_Beach_(2006_TV_series)', 'http://dbpedia.org/resource/In-Laws', 'http://dbpedia.org/resource/Kristin_(TV_series)', 'http://dbpedia.org/resource/Nash_Bridges', 'http://dbpedia.org/resource/One_on_One_(TV_series)', 'http://dbpedia.org/resource/Red_Alert_(film)', 'http://dbpedia.org/resource/Second_Time_Around_(TV_series)', 'http://dbpedia.org/resource/Sex,_Love_&_Secrets'] [\"http://dbpedia.org/resource/Blansky's_Beauties\", 'http://dbpedia.org/resource/Blind_Justice_(TV_series)', 'http://dbpedia.org/resource/Bram_&_Alice', 'http://dbpedia.org/resource/Delta_County,_U.S.A.', 'http://dbpedia.org/resource/Perfect_Gentlemen_(film)', 'http://dbpedia.org/resource/Viper_(TV_series)', 'http://dbpedia.org/resource/Medical_Investigation', 'http://dbpedia.org/resource/Men,_Women_&_Dogs', 'http://dbpedia.org/resource/Clueless_(TV_series)', 'http://dbpedia.org/resource/Mission:_Impossible_(1966_TV_series)', 'http://dbpedia.org/resource/Mission:_Impossible_(1988_TV_series)', 'http://dbpedia.org/resource/Mork_&_Mindy/Laverne_&_Shirley/Fonz_Hour', 'http://dbpedia.org/resource/The_Mommies_(TV_series)', 'http://dbpedia.org/resource/The_Trouble_with_Normal_(TV_series)', 'http://dbpedia.org/resource/The_Untouchables_(1993_TV_series)', 'http://dbpedia.org/resource/Andy_Richter_Controls_the_Universe', 'http://dbpedia.org/resource/Love,_Inc._(TV_series)', 'http://dbpedia.org/resource/Love_&_Money', 'http://dbpedia.org/resource/Love_Monkey', 'http://dbpedia.org/resource/Sister,_Sister_(TV_series)', 'http://dbpedia.org/resource/Walker,_Texas_Ranger:_Trial_by_Fire', 'http://dbpedia.org/resource/Wheels_of_Terror', 'http://dbpedia.org/resource/Almost_Perfect', 'http://dbpedia.org/resource/Fired_Up_(TV_series)', 'http://dbpedia.org/resource/Now_and_Again', 'http://dbpedia.org/resource/Out_of_Practice', 'http://dbpedia.org/resource/Paper_Moon_(TV_series)', \"http://dbpedia.org/resource/That's_Life_(2000_TV_series)\", 'http://dbpedia.org/resource/The_Dead_Zone_(TV_series)', 'http://dbpedia.org/resource/The_Fonz_and_the_Happy_Days_Gang', 'http://dbpedia.org/resource/The_Godfather_Saga', 'http://dbpedia.org/resource/Keen_Eddie', 'http://dbpedia.org/resource/LateLine', 'http://dbpedia.org/resource/Laverne_&_Shirley_(1981_TV_series)', 'http://dbpedia.org/resource/Do_Over', 'http://dbpedia.org/resource/Philly_(TV_series)', 'http://dbpedia.org/resource/In-Laws', 'http://dbpedia.org/resource/Kristin_(TV_series)', 'http://dbpedia.org/resource/One_on_One_(TV_series)', 'http://dbpedia.org/resource/Red_Alert_(film)', 'http://dbpedia.org/resource/Second_Time_Around_(TV_series)']\n"
     ]
    },
    {
     "name": "stderr",
     "output_type": "stream",
     "text": [
      "  9%|▉         | 88/1000 [01:14<12:00,  1.27it/s]"
     ]
    },
    {
     "name": "stdout",
     "output_type": "stream",
     "text": [
      "['0'] ['12']\n"
     ]
    },
    {
     "name": "stderr",
     "output_type": "stream",
     "text": [
      "\r  9%|▉         | 89/1000 [01:15<11:47,  1.29it/s]"
     ]
    },
    {
     "name": "stdout",
     "output_type": "stream",
     "text": [
      "['0'] ['1265']\n"
     ]
    },
    {
     "name": "stderr",
     "output_type": "stream",
     "text": [
      " 10%|▉         | 95/1000 [01:20<11:38,  1.30it/s]"
     ]
    },
    {
     "name": "stdout",
     "output_type": "stream",
     "text": [
      "['0'] ['0']\n"
     ]
    },
    {
     "name": "stderr",
     "output_type": "stream",
     "text": [
      "\r 10%|▉         | 96/1000 [01:20<11:30,  1.31it/s]"
     ]
    },
    {
     "name": "stdout",
     "output_type": "stream",
     "text": [
      "\n",
      "empty predicted answer set for sample #3502\n"
     ]
    },
    {
     "name": "stderr",
     "output_type": "stream",
     "text": [
      "\r 10%|▉         | 97/1000 [01:21<11:24,  1.32it/s]"
     ]
    },
    {
     "name": "stdout",
     "output_type": "stream",
     "text": [
      "[\"http://dbpedia.org/resource/Monty_Python's_Life_of_Brian\"] [\"http://dbpedia.org/resource/Monty_Python's_Life_of_Brian\"]\n"
     ]
    },
    {
     "name": "stderr",
     "output_type": "stream",
     "text": [
      " 10%|█         | 101/1000 [01:24<11:18,  1.33it/s]"
     ]
    },
    {
     "name": "stdout",
     "output_type": "stream",
     "text": [
      "['http://dbpedia.org/resource/Marijohn_Wilkin'] ['http://dbpedia.org/resource/Eminem', 'http://dbpedia.org/resource/Tupac_Shakur', 'http://dbpedia.org/resource/Nate_Dogg']\n"
     ]
    },
    {
     "name": "stderr",
     "output_type": "stream",
     "text": [
      "\r 10%|█         | 102/1000 [01:25<11:17,  1.33it/s]"
     ]
    },
    {
     "name": "stdout",
     "output_type": "stream",
     "text": [
      "['http://dbpedia.org/resource/Roman_Holiday_(1987_film)', 'http://dbpedia.org/resource/Day_by_Day_(American_TV_series)', 'http://dbpedia.org/resource/Dear_John_(American_TV_series)', 'http://dbpedia.org/resource/Petrocelli', 'http://dbpedia.org/resource/Encore!_Encore!', 'http://dbpedia.org/resource/Grandpa_Goes_to_Washington', 'http://dbpedia.org/resource/The_Lives_of_Jenny_Dolan', 'http://dbpedia.org/resource/The_Powers_of_Matthew_Star', 'http://dbpedia.org/resource/The_Pursuit_of_Happiness_(1995_TV_series)', 'http://dbpedia.org/resource/The_Tortellis', 'http://dbpedia.org/resource/Shooter_(1988_film)', 'http://dbpedia.org/resource/Shōgun_(1980_miniseries)', \"http://dbpedia.org/resource/Wallenberg:_A_Hero's_Story\", \"http://dbpedia.org/resource/Who's_Watching_the_Kids%3F\", 'http://dbpedia.org/resource/Act_of_Love_(1980_film)', 'http://dbpedia.org/resource/All_Is_Forgiven_(TV_series)', 'http://dbpedia.org/resource/Down_Home_(TV_series)', \"http://dbpedia.org/resource/Flesh_'n'_Blood_(TV_series)\", 'http://dbpedia.org/resource/Growing_Up_Brady_(film)', \"http://dbpedia.org/resource/Here's_Boomer\", 'http://dbpedia.org/resource/The_Brady_Bunch', 'http://dbpedia.org/resource/The_Bronx_Zoo_(TV_series)', 'http://dbpedia.org/resource/The_Home_Court', 'http://dbpedia.org/resource/Archer_(1975_TV_series)', 'http://dbpedia.org/resource/Poor_Devil_(1973_film)', 'http://dbpedia.org/resource/Nero_Wolfe_(1981_TV_series)'] ['http://dbpedia.org/resource/Roman_Holiday_(1987_film)', 'http://dbpedia.org/resource/Day_by_Day_(American_TV_series)', 'http://dbpedia.org/resource/Dear_John_(American_TV_series)', 'http://dbpedia.org/resource/Petrocelli', 'http://dbpedia.org/resource/Encore!_Encore!', 'http://dbpedia.org/resource/Grandpa_Goes_to_Washington', 'http://dbpedia.org/resource/The_Lives_of_Jenny_Dolan', 'http://dbpedia.org/resource/The_Powers_of_Matthew_Star', 'http://dbpedia.org/resource/The_Pursuit_of_Happiness_(1995_TV_series)', 'http://dbpedia.org/resource/The_Tortellis', 'http://dbpedia.org/resource/Shooter_(1988_film)', 'http://dbpedia.org/resource/Shōgun_(1980_miniseries)', \"http://dbpedia.org/resource/Wallenberg:_A_Hero's_Story\", \"http://dbpedia.org/resource/Who's_Watching_the_Kids%3F\", 'http://dbpedia.org/resource/Act_of_Love_(1980_film)', 'http://dbpedia.org/resource/All_Is_Forgiven_(TV_series)', 'http://dbpedia.org/resource/Down_Home_(TV_series)', \"http://dbpedia.org/resource/Flesh_'n'_Blood_(TV_series)\", 'http://dbpedia.org/resource/Growing_Up_Brady_(film)', \"http://dbpedia.org/resource/Here's_Boomer\", 'http://dbpedia.org/resource/The_Brady_Bunch', 'http://dbpedia.org/resource/The_Bronx_Zoo_(TV_series)', 'http://dbpedia.org/resource/The_Home_Court', 'http://dbpedia.org/resource/Archer_(1975_TV_series)', 'http://dbpedia.org/resource/Poor_Devil_(1973_film)', 'http://dbpedia.org/resource/Nero_Wolfe_(1981_TV_series)']\n"
     ]
    },
    {
     "name": "stderr",
     "output_type": "stream",
     "text": [
      " 10%|█         | 105/1000 [01:27<11:20,  1.32it/s]"
     ]
    },
    {
     "name": "stdout",
     "output_type": "stream",
     "text": [
      "\n",
      "empty predicted answer set for sample #3417\n"
     ]
    },
    {
     "name": "stderr",
     "output_type": "stream",
     "text": [
      "\r 11%|█         | 106/1000 [01:28<11:16,  1.32it/s]"
     ]
    },
    {
     "name": "stdout",
     "output_type": "stream",
     "text": [
      "\n",
      "empty predicted answer set for sample #3476\n"
     ]
    },
    {
     "name": "stderr",
     "output_type": "stream",
     "text": [
      "\r 11%|█         | 107/1000 [01:29<11:17,  1.32it/s]"
     ]
    },
    {
     "name": "stdout",
     "output_type": "stream",
     "text": [
      "\n",
      "empty predicted answer set for sample #2861\n"
     ]
    },
    {
     "name": "stderr",
     "output_type": "stream",
     "text": [
      "\r 11%|█         | 108/1000 [01:30<12:03,  1.23it/s]"
     ]
    },
    {
     "name": "stdout",
     "output_type": "stream",
     "text": [
      "\n",
      "empty predicted answer set for sample #1792\n"
     ]
    },
    {
     "name": "stderr",
     "output_type": "stream",
     "text": [
      "\r 11%|█         | 109/1000 [01:30<11:47,  1.26it/s]"
     ]
    },
    {
     "name": "stdout",
     "output_type": "stream",
     "text": [
      "['0'] ['0']\n"
     ]
    },
    {
     "name": "stderr",
     "output_type": "stream",
     "text": [
      " 11%|█         | 112/1000 [01:33<11:18,  1.31it/s]"
     ]
    },
    {
     "name": "stdout",
     "output_type": "stream",
     "text": [
      "['http://dbpedia.org/resource/A_Time_to_Kill_(1996_film)', 'http://dbpedia.org/resource/The_Da_Vinci_Code_(film)'] ['http://dbpedia.org/resource/A_Time_to_Kill_(1996_film)', 'http://dbpedia.org/resource/The_Da_Vinci_Code_(film)']\n"
     ]
    },
    {
     "name": "stderr",
     "output_type": "stream",
     "text": [
      "\r 11%|█▏        | 113/1000 [01:33<11:15,  1.31it/s]"
     ]
    },
    {
     "name": "stdout",
     "output_type": "stream",
     "text": [
      "['65'] ['32']\n"
     ]
    },
    {
     "name": "stderr",
     "output_type": "stream",
     "text": [
      "\r 11%|█▏        | 114/1000 [01:34<11:12,  1.32it/s]"
     ]
    },
    {
     "name": "stdout",
     "output_type": "stream",
     "text": [
      "\n",
      "empty predicted answer set for sample #603\n"
     ]
    },
    {
     "name": "stderr",
     "output_type": "stream",
     "text": [
      "\r 12%|█▏        | 115/1000 [01:35<11:11,  1.32it/s]"
     ]
    },
    {
     "name": "stdout",
     "output_type": "stream",
     "text": [
      "['0'] ['12']\n"
     ]
    },
    {
     "name": "stderr",
     "output_type": "stream",
     "text": [
      "\r 12%|█▏        | 116/1000 [01:36<11:06,  1.33it/s]"
     ]
    },
    {
     "name": "stdout",
     "output_type": "stream",
     "text": [
      "\n",
      "empty predicted answer set for sample #4531\n"
     ]
    },
    {
     "name": "stderr",
     "output_type": "stream",
     "text": [
      " 12%|█▏        | 122/1000 [01:40<11:03,  1.32it/s]"
     ]
    },
    {
     "name": "stdout",
     "output_type": "stream",
     "text": [
      "['http://dbpedia.org/resource/The_Sacketts'] ['http://dbpedia.org/resource/Captain_Power_and_the_Soldiers_of_the_Future', 'http://dbpedia.org/resource/Hypernauts', 'http://dbpedia.org/resource/The_Sacketts', 'http://dbpedia.org/resource/Babylon_5', 'http://dbpedia.org/resource/Babylon_5:_A_Call_to_Arms', 'http://dbpedia.org/resource/Babylon_5:_In_the_Beginning', 'http://dbpedia.org/resource/Babylon_5:_The_Gathering', 'http://dbpedia.org/resource/Babylon_5:_The_Legend_of_the_Rangers', 'http://dbpedia.org/resource/Babylon_5:_The_River_of_Souls', 'http://dbpedia.org/resource/Babylon_5:_Thirdspace']\n"
     ]
    },
    {
     "name": "stderr",
     "output_type": "stream",
     "text": [
      " 12%|█▎        | 125/1000 [01:43<11:05,  1.31it/s]"
     ]
    },
    {
     "name": "stdout",
     "output_type": "stream",
     "text": [
      "\n",
      "empty predicted answer set for sample #3281\n"
     ]
    },
    {
     "name": "stderr",
     "output_type": "stream",
     "text": [
      "\r 13%|█▎        | 126/1000 [01:43<11:00,  1.32it/s]"
     ]
    },
    {
     "name": "stdout",
     "output_type": "stream",
     "text": [
      "\n",
      "empty predicted answer set for sample #4971\n"
     ]
    },
    {
     "name": "stderr",
     "output_type": "stream",
     "text": [
      "\r 13%|█▎        | 127/1000 [01:44<10:58,  1.33it/s]"
     ]
    },
    {
     "name": "stdout",
     "output_type": "stream",
     "text": [
      "['http://dbpedia.org/resource/Prince_Gong_(Qing_dynasty)', 'http://dbpedia.org/resource/Hoàng_Hoa_Thám', 'http://dbpedia.org/resource/Jules_Ferry', 'http://dbpedia.org/resource/Empress_Dowager_Cixi', 'http://dbpedia.org/resource/Liu_Mingchuan', 'http://dbpedia.org/resource/Liu_Yongfu', \"http://dbpedia.org/resource/Louis_Brière_de_l'Isle\", 'http://dbpedia.org/resource/Su_Yuanchun', 'http://dbpedia.org/resource/Zhang_Peilun', 'http://dbpedia.org/resource/Zuo_Zongtang', 'http://dbpedia.org/resource/Feng_Zicai', 'http://dbpedia.org/resource/Wang_Debang', 'http://dbpedia.org/resource/Amédée_Courbet', 'http://dbpedia.org/resource/Jacques_Duchesne', 'http://dbpedia.org/resource/Tang_Jingsong', 'http://dbpedia.org/resource/Laurent_Giovanninelli', 'http://dbpedia.org/resource/Sun_Kaihua', 'http://dbpedia.org/resource/Sébastien_Lespès', 'http://dbpedia.org/resource/Wei_Gang', 'http://dbpedia.org/resource/Hoàng_Kế_Viêm', 'http://dbpedia.org/resource/Pan_Dingxin', 'http://dbpedia.org/resource/François_de_Négrier', 'http://dbpedia.org/resource/Chen_Jia', 'http://dbpedia.org/resource/Fang_Yousheng', 'http://dbpedia.org/resource/Jiang_Zonghan', 'http://dbpedia.org/resource/Wang_Xiaochi'] ['http://dbpedia.org/resource/Annam_(French_protectorate)', 'http://dbpedia.org/resource/Tonkin_(French_protectorate)']\n"
     ]
    },
    {
     "name": "stderr",
     "output_type": "stream",
     "text": [
      "\r 13%|█▎        | 128/1000 [01:45<10:56,  1.33it/s]"
     ]
    },
    {
     "name": "stdout",
     "output_type": "stream",
     "text": [
      "\n",
      "empty predicted answer set for sample #4612\n"
     ]
    },
    {
     "name": "stderr",
     "output_type": "stream",
     "text": [
      "\r 13%|█▎        | 129/1000 [01:46<10:55,  1.33it/s]"
     ]
    },
    {
     "name": "stdout",
     "output_type": "stream",
     "text": [
      "\n",
      "empty predicted answer set for sample #2443\n"
     ]
    },
    {
     "name": "stderr",
     "output_type": "stream",
     "text": [
      " 13%|█▎        | 131/1000 [01:48<13:05,  1.11it/s]"
     ]
    },
    {
     "name": "stdout",
     "output_type": "stream",
     "text": [
      "\n",
      "empty predicted answer set for sample #2349\n"
     ]
    },
    {
     "name": "stderr",
     "output_type": "stream",
     "text": [
      "\r 13%|█▎        | 132/1000 [01:48<12:22,  1.17it/s]"
     ]
    },
    {
     "name": "stdout",
     "output_type": "stream",
     "text": [
      "['0'] ['157']\n"
     ]
    },
    {
     "name": "stderr",
     "output_type": "stream",
     "text": [
      "\r 13%|█▎        | 133/1000 [01:49<11:54,  1.21it/s]"
     ]
    },
    {
     "name": "stdout",
     "output_type": "stream",
     "text": [
      "['55'] ['30']\n"
     ]
    },
    {
     "name": "stderr",
     "output_type": "stream",
     "text": [
      " 14%|█▎        | 136/1000 [01:52<11:41,  1.23it/s]"
     ]
    },
    {
     "name": "stdout",
     "output_type": "stream",
     "text": [
      "\n",
      "results are not of type boolean for sample #4795\n"
     ]
    },
    {
     "name": "stderr",
     "output_type": "stream",
     "text": [
      "\r 14%|█▎        | 137/1000 [01:52<11:26,  1.26it/s]"
     ]
    },
    {
     "name": "stdout",
     "output_type": "stream",
     "text": [
      "['http://dbpedia.org/resource/Iva_Davies', 'J. Saarelaht, K. Ceberano, R. Smith', 'Jex Saarelaht, Kate Ceberano, Russell Smith', 'R. Jones, S. McKinney', 'Raymond Jones, Sam McKinney', 'http://dbpedia.org/resource/Lin_Buckfield', 'Robert Goodge, Ian Cox', 'http://dbpedia.org/resource/Martin_Plaza', 'http://dbpedia.org/resource/Reg_Mombassa', '* Iva Davies\\n* Robert Kretschmer\\n* Andy Qunta', '* Iva Davies\\n* Robert Kretschmer', '* Iva Davies\\n* John Oates', 'Martin Plaza, Reg Mombassa', \"http://dbpedia.org/resource/Peter_O'Doherty\", 'http://dbpedia.org/resource/Greedy_Smith', 'http://dbpedia.org/resource/Kate_Ceberano', '', 'Ian Cox', 'Stephen Charlesworth', 'Barbara Hogarth', 'Robert Goodge', 'Cameron Newman', 'Kate Ceberano, Cameron Newman, Robert Goodge, Ian Cox, Barbara Hogarth, Stephen Charlesworth', 'http://dbpedia.org/resource/John_Field_(songwriter)', 'Greedy Smith', 'http://dbpedia.org/resource/Stephen_Cummings', 'http://dbpedia.org/resource/Martin_Armiger', 'Cummings', 'Stephen Cummings', 'Martin Plaza'] ['http://dbpedia.org/resource/Connecticut']\n"
     ]
    },
    {
     "name": "stderr",
     "output_type": "stream",
     "text": [
      " 14%|█▍        | 139/1000 [01:54<11:04,  1.30it/s]"
     ]
    },
    {
     "name": "stdout",
     "output_type": "stream",
     "text": [
      "\n",
      "empty predicted answer set for sample #2116\n"
     ]
    },
    {
     "name": "stderr",
     "output_type": "stream",
     "text": [
      "\r 14%|█▍        | 140/1000 [01:55<10:55,  1.31it/s]"
     ]
    },
    {
     "name": "stdout",
     "output_type": "stream",
     "text": [
      "\n",
      "empty predicted answer set for sample #1834\n"
     ]
    },
    {
     "name": "stderr",
     "output_type": "stream",
     "text": [
      "\r 14%|█▍        | 141/1000 [01:55<10:50,  1.32it/s]"
     ]
    },
    {
     "name": "stdout",
     "output_type": "stream",
     "text": [
      "\n",
      "empty predicted answer set for sample #793\n"
     ]
    },
    {
     "name": "stderr",
     "output_type": "stream",
     "text": [
      " 14%|█▍        | 143/1000 [01:57<10:42,  1.33it/s]"
     ]
    },
    {
     "name": "stdout",
     "output_type": "stream",
     "text": [
      "\n",
      "results are not of type boolean for sample #2674\n"
     ]
    },
    {
     "name": "stderr",
     "output_type": "stream",
     "text": [
      " 14%|█▍        | 145/1000 [01:58<10:43,  1.33it/s]"
     ]
    },
    {
     "name": "stdout",
     "output_type": "stream",
     "text": [
      "['0'] ['79']\n"
     ]
    },
    {
     "name": "stderr",
     "output_type": "stream",
     "text": [
      " 15%|█▍        | 149/1000 [02:02<11:28,  1.24it/s]"
     ]
    },
    {
     "name": "stdout",
     "output_type": "stream",
     "text": [
      "\n",
      "empty predicted answer set for sample #4432\n"
     ]
    },
    {
     "name": "stderr",
     "output_type": "stream",
     "text": [
      " 15%|█▌        | 151/1000 [02:03<11:06,  1.27it/s]"
     ]
    },
    {
     "name": "stdout",
     "output_type": "stream",
     "text": [
      "\n",
      "empty predicted answer set for sample #2853\n"
     ]
    },
    {
     "name": "stderr",
     "output_type": "stream",
     "text": [
      " 15%|█▌        | 153/1000 [02:05<10:48,  1.31it/s]"
     ]
    },
    {
     "name": "stdout",
     "output_type": "stream",
     "text": [
      "\n",
      "predicted answer set was supposed to be empty for sample #1865\n"
     ]
    },
    {
     "name": "stderr",
     "output_type": "stream",
     "text": [
      "\r 15%|█▌        | 154/1000 [02:06<10:40,  1.32it/s]"
     ]
    },
    {
     "name": "stdout",
     "output_type": "stream",
     "text": [
      "\n",
      "empty predicted answer set for sample #1857\n"
     ]
    },
    {
     "name": "stderr",
     "output_type": "stream",
     "text": [
      "\r 16%|█▌        | 155/1000 [02:06<10:35,  1.33it/s]"
     ]
    },
    {
     "name": "stdout",
     "output_type": "stream",
     "text": [
      "\n",
      "empty predicted answer set for sample #2645\n"
     ]
    },
    {
     "name": "stderr",
     "output_type": "stream",
     "text": [
      " 16%|█▌        | 158/1000 [02:09<13:18,  1.05it/s]"
     ]
    },
    {
     "name": "stdout",
     "output_type": "stream",
     "text": [
      "\n",
      "empty predicted answer set for sample #950\n"
     ]
    },
    {
     "name": "stderr",
     "output_type": "stream",
     "text": [
      "\r 16%|█▌        | 159/1000 [02:10<12:32,  1.12it/s]"
     ]
    },
    {
     "name": "stdout",
     "output_type": "stream",
     "text": [
      "['Cleopatra V and Berenice IV', 'Cleopatra VII and Ptolemy XIII'] ['http://dbpedia.org/resource/Cleopatra']\n"
     ]
    },
    {
     "name": "stderr",
     "output_type": "stream",
     "text": [
      " 16%|█▋        | 163/1000 [02:13<10:54,  1.28it/s]"
     ]
    },
    {
     "name": "stdout",
     "output_type": "stream",
     "text": [
      "\n",
      "empty predicted answer set for sample #419\n"
     ]
    },
    {
     "name": "stderr",
     "output_type": "stream",
     "text": [
      " 16%|█▋        | 165/1000 [02:15<10:39,  1.31it/s]"
     ]
    },
    {
     "name": "stdout",
     "output_type": "stream",
     "text": [
      "\n",
      "empty predicted answer set for sample #1254\n"
     ]
    },
    {
     "name": "stderr",
     "output_type": "stream",
     "text": [
      " 17%|█▋        | 167/1000 [02:16<10:29,  1.32it/s]"
     ]
    },
    {
     "name": "stdout",
     "output_type": "stream",
     "text": [
      "['http://dbpedia.org/resource/Luther_Dixon', 'http://dbpedia.org/resource/Shirley_Owens'] ['http://dbpedia.org/resource/Rod_Stewart']\n"
     ]
    },
    {
     "name": "stderr",
     "output_type": "stream",
     "text": [
      "\r 17%|█▋        | 168/1000 [02:17<10:29,  1.32it/s]"
     ]
    },
    {
     "name": "stdout",
     "output_type": "stream",
     "text": [
      "['95'] ['0']\n"
     ]
    },
    {
     "name": "stderr",
     "output_type": "stream",
     "text": [
      "\r 17%|█▋        | 169/1000 [02:18<12:24,  1.12it/s]"
     ]
    },
    {
     "name": "stdout",
     "output_type": "stream",
     "text": [
      "\n",
      "empty predicted answer set for sample #2626\n"
     ]
    },
    {
     "name": "stderr",
     "output_type": "stream",
     "text": [
      " 17%|█▋        | 173/1000 [02:22<12:17,  1.12it/s]"
     ]
    },
    {
     "name": "stdout",
     "output_type": "stream",
     "text": [
      "\n",
      "empty predicted answer set for sample #4018\n"
     ]
    },
    {
     "name": "stderr",
     "output_type": "stream",
     "text": [
      " 18%|█▊        | 175/1000 [02:23<11:15,  1.22it/s]"
     ]
    },
    {
     "name": "stdout",
     "output_type": "stream",
     "text": [
      "\n",
      "empty predicted answer set for sample #3687\n"
     ]
    },
    {
     "name": "stderr",
     "output_type": "stream",
     "text": [
      " 18%|█▊        | 178/1000 [02:26<11:35,  1.18it/s]"
     ]
    },
    {
     "name": "stdout",
     "output_type": "stream",
     "text": [
      "\n",
      "empty predicted answer set for sample #3054\n"
     ]
    },
    {
     "name": "stderr",
     "output_type": "stream",
     "text": [
      "\r 18%|█▊        | 179/1000 [02:27<11:10,  1.23it/s]"
     ]
    },
    {
     "name": "stdout",
     "output_type": "stream",
     "text": [
      "\n",
      "predicted answer set was supposed to be empty for sample #1248\n"
     ]
    },
    {
     "name": "stderr",
     "output_type": "stream",
     "text": [
      "\r 18%|█▊        | 180/1000 [02:28<13:38,  1.00it/s]"
     ]
    },
    {
     "name": "stdout",
     "output_type": "stream",
     "text": [
      "\n",
      "empty predicted answer set for sample #2192\n"
     ]
    },
    {
     "name": "stderr",
     "output_type": "stream",
     "text": [
      "\r 18%|█▊        | 181/1000 [02:29<12:34,  1.09it/s]"
     ]
    },
    {
     "name": "stdout",
     "output_type": "stream",
     "text": [
      "\n",
      "empty predicted answer set for sample #2712\n"
     ]
    },
    {
     "name": "stderr",
     "output_type": "stream",
     "text": [
      "\r 18%|█▊        | 182/1000 [02:30<11:50,  1.15it/s]"
     ]
    },
    {
     "name": "stdout",
     "output_type": "stream",
     "text": [
      "['http://dbpedia.org/resource/Carlo_Cecchi', 'http://dbpedia.org/resource/Fabrizio_Bentivoglio', 'http://dbpedia.org/resource/Valerie_Kaprisky'] ['http://dbpedia.org/resource/University_of_British_Columbia', 'http://dbpedia.org/resource/Stanford_University']\n"
     ]
    },
    {
     "name": "stderr",
     "output_type": "stream",
     "text": [
      "\r 18%|█▊        | 183/1000 [02:31<11:55,  1.14it/s]"
     ]
    },
    {
     "name": "stdout",
     "output_type": "stream",
     "text": [
      "\n",
      "empty predicted answer set for sample #2190\n"
     ]
    },
    {
     "name": "stderr",
     "output_type": "stream",
     "text": [
      "\r 18%|█▊        | 184/1000 [02:32<12:00,  1.13it/s]"
     ]
    },
    {
     "name": "stdout",
     "output_type": "stream",
     "text": [
      "['0'] ['9']\n"
     ]
    },
    {
     "name": "stderr",
     "output_type": "stream",
     "text": [
      "\r 18%|█▊        | 185/1000 [02:32<11:27,  1.19it/s]"
     ]
    },
    {
     "name": "stdout",
     "output_type": "stream",
     "text": [
      "['15'] ['1']\n"
     ]
    },
    {
     "name": "stderr",
     "output_type": "stream",
     "text": [
      " 19%|█▊        | 187/1000 [02:34<10:44,  1.26it/s]"
     ]
    },
    {
     "name": "stdout",
     "output_type": "stream",
     "text": [
      "\n",
      "error executing SPARQL query: QueryBadFormed: A bad request has been sent to the endpoint: probably the SPARQL query is badly formed. \n",
      "\n",
      "Response:\n",
      "b\"Virtuoso 37000 Error SP030: SPARQL compiler, line 2: syntax error at '<http://dbpedia.org/ontology/relative>' before '<http://dbpedia.org/resource/Duck_family_(Disney)>'\\n\\nSPARQL query:\\n#output-format:application/sparql-results+json\\nSELECT DISTINCT ?uri WHERE {?uri <http://dbpedia.org/property/relatives> <http://dbpedia.org/resource/Huey,_Dewey,_and_Louie> <http://dbpedia.org/ontology/relative> <http://dbpedia.org/resource/Duck_family_(Disney)> }\\n\"\n",
      "\n",
      "syntax error for sample #1863\n"
     ]
    },
    {
     "name": "stderr",
     "output_type": "stream",
     "text": [
      " 19%|█▉        | 191/1000 [02:37<10:16,  1.31it/s]"
     ]
    },
    {
     "name": "stdout",
     "output_type": "stream",
     "text": [
      "\n",
      "empty predicted answer set for sample #1065\n"
     ]
    },
    {
     "name": "stderr",
     "output_type": "stream",
     "text": [
      "\r 19%|█▉        | 192/1000 [02:37<10:09,  1.33it/s]"
     ]
    },
    {
     "name": "stdout",
     "output_type": "stream",
     "text": [
      "['http://dbpedia.org/resource/Russi_Taylor', 'http://dbpedia.org/resource/Clarence_Nash', 'http://dbpedia.org/resource/Tony_Anselmo', 'Dewey: Ben Schwartz', 'Dewey: Pamela Adlon', 'Huey: Danny Pudi', 'Huey: Jeannie Elias', 'In DuckTales :', 'In Quack Pack:', 'Louie: Bobby Moynihan', 'Louie: Elizabeth Daily'] ['http://dbpedia.org/resource/Donald_Duck']\n"
     ]
    },
    {
     "name": "stderr",
     "output_type": "stream",
     "text": [
      "\r 19%|█▉        | 193/1000 [02:38<10:06,  1.33it/s]"
     ]
    },
    {
     "name": "stdout",
     "output_type": "stream",
     "text": [
      "\n",
      "empty predicted answer set for sample #2621\n"
     ]
    },
    {
     "name": "stderr",
     "output_type": "stream",
     "text": [
      " 20%|█▉        | 195/1000 [02:40<09:59,  1.34it/s]"
     ]
    },
    {
     "name": "stdout",
     "output_type": "stream",
     "text": [
      "['http://dbpedia.org/resource/Euro'] ['Euro a']\n"
     ]
    },
    {
     "name": "stderr",
     "output_type": "stream",
     "text": [
      "\r 20%|█▉        | 196/1000 [02:40<09:57,  1.35it/s]"
     ]
    },
    {
     "name": "stdout",
     "output_type": "stream",
     "text": [
      "['0'] ['28']\n"
     ]
    },
    {
     "name": "stderr",
     "output_type": "stream",
     "text": [
      "\r 20%|█▉        | 197/1000 [02:41<09:56,  1.35it/s]"
     ]
    },
    {
     "name": "stdout",
     "output_type": "stream",
     "text": [
      "\n",
      "empty predicted answer set for sample #4372\n"
     ]
    },
    {
     "name": "stderr",
     "output_type": "stream",
     "text": [
      " 20%|██        | 201/1000 [02:45<10:46,  1.24it/s]"
     ]
    },
    {
     "name": "stdout",
     "output_type": "stream",
     "text": [
      "\n",
      "empty predicted answer set for sample #2965\n"
     ]
    },
    {
     "name": "stderr",
     "output_type": "stream",
     "text": [
      "\r 20%|██        | 202/1000 [02:45<10:30,  1.27it/s]"
     ]
    },
    {
     "name": "stdout",
     "output_type": "stream",
     "text": [
      "\n",
      "predicted answer set was supposed to be empty for sample #3391\n"
     ]
    },
    {
     "name": "stderr",
     "output_type": "stream",
     "text": [
      " 20%|██        | 204/1000 [02:47<10:13,  1.30it/s]"
     ]
    },
    {
     "name": "stdout",
     "output_type": "stream",
     "text": [
      "\n",
      "empty predicted answer set for sample #4896\n"
     ]
    },
    {
     "name": "stderr",
     "output_type": "stream",
     "text": [
      "\r 20%|██        | 205/1000 [02:48<10:06,  1.31it/s]"
     ]
    },
    {
     "name": "stdout",
     "output_type": "stream",
     "text": [
      "\n",
      "empty predicted answer set for sample #2635\n"
     ]
    },
    {
     "name": "stderr",
     "output_type": "stream",
     "text": [
      "\r 21%|██        | 206/1000 [02:49<13:28,  1.02s/it]"
     ]
    },
    {
     "name": "stdout",
     "output_type": "stream",
     "text": [
      "\n",
      "empty predicted answer set for sample #3530\n"
     ]
    },
    {
     "name": "stderr",
     "output_type": "stream",
     "text": [
      "\r 21%|██        | 207/1000 [02:50<12:26,  1.06it/s]"
     ]
    },
    {
     "name": "stdout",
     "output_type": "stream",
     "text": [
      "['0'] ['276']\n"
     ]
    },
    {
     "name": "stderr",
     "output_type": "stream",
     "text": [
      " 21%|██        | 209/1000 [02:52<13:01,  1.01it/s]"
     ]
    },
    {
     "name": "stdout",
     "output_type": "stream",
     "text": [
      "\n",
      "empty predicted answer set for sample #4332\n"
     ]
    },
    {
     "name": "stderr",
     "output_type": "stream",
     "text": [
      "\r 21%|██        | 210/1000 [02:53<12:00,  1.10it/s]"
     ]
    },
    {
     "name": "stdout",
     "output_type": "stream",
     "text": [
      "['0'] ['3']\n"
     ]
    },
    {
     "name": "stderr",
     "output_type": "stream",
     "text": [
      "\r 21%|██        | 211/1000 [02:54<11:21,  1.16it/s]"
     ]
    },
    {
     "name": "stdout",
     "output_type": "stream",
     "text": [
      "\n",
      "empty predicted answer set for sample #4027\n"
     ]
    },
    {
     "name": "stderr",
     "output_type": "stream",
     "text": [
      " 21%|██▏       | 213/1000 [02:55<11:04,  1.19it/s]"
     ]
    },
    {
     "name": "stdout",
     "output_type": "stream",
     "text": [
      "['0'] ['0']\n"
     ]
    },
    {
     "name": "stderr",
     "output_type": "stream",
     "text": [
      "\r 21%|██▏       | 214/1000 [02:56<10:40,  1.23it/s]"
     ]
    },
    {
     "name": "stdout",
     "output_type": "stream",
     "text": [
      "\n",
      "empty predicted answer set for sample #3677\n"
     ]
    },
    {
     "name": "stderr",
     "output_type": "stream",
     "text": [
      "\r 22%|██▏       | 215/1000 [02:57<10:22,  1.26it/s]"
     ]
    },
    {
     "name": "stdout",
     "output_type": "stream",
     "text": [
      "['Jessica Alba', 'Ricky Gervais', '', 'Joel McHale', 'Daryl Sabara', 'Jeremy Piven', 'Rowan Blanchard', 'Alexa Vega', 'Mason Cook'] ['http://dbpedia.org/resource/Juni_Cortez', 'http://dbpedia.org/resource/Carmen_Cortez', 'http://dbpedia.org/resource/Machete_(character)']\n"
     ]
    },
    {
     "name": "stderr",
     "output_type": "stream",
     "text": [
      "\r 22%|██▏       | 216/1000 [02:57<10:08,  1.29it/s]"
     ]
    },
    {
     "name": "stdout",
     "output_type": "stream",
     "text": [
      "\n",
      "empty predicted answer set for sample #4864\n"
     ]
    },
    {
     "name": "stderr",
     "output_type": "stream",
     "text": [
      "\r 22%|██▏       | 217/1000 [02:58<10:01,  1.30it/s]"
     ]
    },
    {
     "name": "stdout",
     "output_type": "stream",
     "text": [
      "['http://dbpedia.org/resource/Antonina_Armato', 'http://dbpedia.org/resource/Tim_James_(music_producer)', 'Miley Cyrus', '', 'Devrim Karaoglu'] ['http://dbpedia.org/resource/Crown_of_Spain']\n"
     ]
    },
    {
     "name": "stderr",
     "output_type": "stream",
     "text": [
      " 22%|██▏       | 219/1000 [03:00<09:51,  1.32it/s]"
     ]
    },
    {
     "name": "stdout",
     "output_type": "stream",
     "text": [
      "\n",
      "empty predicted answer set for sample #4955\n"
     ]
    },
    {
     "name": "stderr",
     "output_type": "stream",
     "text": [
      " 22%|██▏       | 221/1000 [03:01<09:48,  1.32it/s]"
     ]
    },
    {
     "name": "stdout",
     "output_type": "stream",
     "text": [
      "['0'] ['268']\n"
     ]
    },
    {
     "name": "stderr",
     "output_type": "stream",
     "text": [
      " 22%|██▏       | 223/1000 [03:03<09:43,  1.33it/s]"
     ]
    },
    {
     "name": "stdout",
     "output_type": "stream",
     "text": [
      "\n",
      "predicted answer set was supposed to be empty for sample #320\n"
     ]
    },
    {
     "name": "stderr",
     "output_type": "stream",
     "text": [
      "\r 22%|██▏       | 224/1000 [03:04<10:56,  1.18it/s]"
     ]
    },
    {
     "name": "stdout",
     "output_type": "stream",
     "text": [
      "['0'] ['1268']\n"
     ]
    },
    {
     "name": "stderr",
     "output_type": "stream",
     "text": [
      "\r 22%|██▎       | 225/1000 [03:05<10:32,  1.23it/s]"
     ]
    },
    {
     "name": "stdout",
     "output_type": "stream",
     "text": [
      "['http://dbpedia.org/resource/Chess'] ['http://dbpedia.org/resource/Chess']\n"
     ]
    },
    {
     "name": "stderr",
     "output_type": "stream",
     "text": [
      "\r 23%|██▎       | 226/1000 [03:05<10:18,  1.25it/s]"
     ]
    },
    {
     "name": "stdout",
     "output_type": "stream",
     "text": [
      "['0'] ['127']\n"
     ]
    },
    {
     "name": "stderr",
     "output_type": "stream",
     "text": [
      " 23%|██▎       | 229/1000 [03:08<09:49,  1.31it/s]"
     ]
    },
    {
     "name": "stdout",
     "output_type": "stream",
     "text": [
      "['0'] ['1']\n"
     ]
    },
    {
     "name": "stderr",
     "output_type": "stream",
     "text": [
      "\r 23%|██▎       | 230/1000 [03:08<09:57,  1.29it/s]"
     ]
    },
    {
     "name": "stdout",
     "output_type": "stream",
     "text": [
      "['0'] ['0']\n"
     ]
    },
    {
     "name": "stderr",
     "output_type": "stream",
     "text": [
      "\r 23%|██▎       | 231/1000 [03:09<09:50,  1.30it/s]"
     ]
    },
    {
     "name": "stdout",
     "output_type": "stream",
     "text": [
      "\n",
      "empty predicted answer set for sample #2039\n"
     ]
    },
    {
     "name": "stderr",
     "output_type": "stream",
     "text": [
      "\r 23%|██▎       | 232/1000 [03:10<09:44,  1.31it/s]"
     ]
    },
    {
     "name": "stdout",
     "output_type": "stream",
     "text": [
      "\n",
      "empty predicted answer set for sample #901\n"
     ]
    },
    {
     "name": "stderr",
     "output_type": "stream",
     "text": [
      " 23%|██▎       | 234/1000 [03:11<09:45,  1.31it/s]"
     ]
    },
    {
     "name": "stdout",
     "output_type": "stream",
     "text": [
      "\n",
      "results are not of type boolean for sample #2026\n"
     ]
    },
    {
     "name": "stderr",
     "output_type": "stream",
     "text": [
      "\r 24%|██▎       | 235/1000 [03:13<12:00,  1.06it/s]"
     ]
    },
    {
     "name": "stdout",
     "output_type": "stream",
     "text": [
      "['http://dbpedia.org/resource/Cakewalk_(film)', 'http://dbpedia.org/resource/Calapor_(film)', 'http://dbpedia.org/resource/Captain_Kishore', 'http://dbpedia.org/resource/Care_of_Footpath_2', 'http://dbpedia.org/resource/Beda_Paar', 'http://dbpedia.org/resource/Bees_Saal_Pehle', 'http://dbpedia.org/resource/Beharoopia', 'http://dbpedia.org/resource/Prague_(2013_film)', 'http://dbpedia.org/resource/Pranaam', 'http://dbpedia.org/resource/Prassthanam', 'http://dbpedia.org/resource/Prem_Ratan_Dhan_Payo', 'http://dbpedia.org/resource/Prithvi_Vallabh', 'http://dbpedia.org/resource/Puraskar', 'http://dbpedia.org/resource/Pyaar_Ka_Punchnama_2', 'http://dbpedia.org/resource/Pyaar_Tune_Kya_Kiya', 'http://dbpedia.org/resource/Pyaasa_(2002_film)', 'http://dbpedia.org/resource/Qayamat_(1983_film)', 'http://dbpedia.org/resource/Qayamat_Se_Qayamat_Tak', 'http://dbpedia.org/resource/Rocket_Singh:_Salesman_of_the_Year', 'http://dbpedia.org/resource/Rocky_Handsome', 'http://dbpedia.org/resource/Samaanta', 'http://dbpedia.org/resource/Samaj_Ko_Badal_Dalo_(1947_film)', 'http://dbpedia.org/resource/Sanjog_(1943_film)', 'http://dbpedia.org/resource/Sansar_(1971_film)', 'http://dbpedia.org/resource/Saraswatichandra_(film)', 'http://dbpedia.org/resource/Sasural_(1941_film)', 'http://dbpedia.org/resource/Satellite_Shankar', 'http://dbpedia.org/resource/Savera_(1942_film)', 'http://dbpedia.org/resource/Sawan_Aya_Re', 'http://dbpedia.org/resource/Monsoon_(2015_film)', 'http://dbpedia.org/resource/Musafir_(1940_film)', 'http://dbpedia.org/resource/Maa_Baap_Ki_Laaj', 'http://dbpedia.org/resource/Mera_Geet', 'http://dbpedia.org/resource/Mera_Khwab', 'http://dbpedia.org/resource/Mere_Raja', 'http://dbpedia.org/resource/Mere_Saath_Chal', 'http://dbpedia.org/resource/Mere_Sajan', 'http://dbpedia.org/resource/Meri_Bahen', 'http://dbpedia.org/resource/Meri_Khwahish', 'http://dbpedia.org/resource/Moojrim', 'http://dbpedia.org/resource/Reshmi_Sari', 'http://dbpedia.org/resource/Barsaat_Ki_Ek_Raat', 'http://dbpedia.org/resource/Bedardi', 'http://dbpedia.org/resource/Behram_Khan', 'http://dbpedia.org/resource/Beiimaan_Love', 'http://dbpedia.org/resource/Beqasoor', 'http://dbpedia.org/resource/Bewaqoof', 'http://dbpedia.org/resource/Bhaag_Johnny', 'http://dbpedia.org/resource/Bhairavsingh_–_Ek_Rashtra_sevak', 'http://dbpedia.org/resource/Bhaktaraj', 'http://dbpedia.org/resource/Bhanwara', 'http://dbpedia.org/resource/Bharat_Milap', 'http://dbpedia.org/resource/Bhartrahari', 'http://dbpedia.org/resource/Bholi_Lutaran', 'http://dbpedia.org/resource/Bhoothnath_Returns', 'http://dbpedia.org/resource/Bittoo_Boss', 'http://dbpedia.org/resource/Biwi_Aur_Makan', 'http://dbpedia.org/resource/Bombay_Talkies_(film)', 'http://dbpedia.org/resource/Bombay_Velvet', 'http://dbpedia.org/resource/Bombay_by_Nite', 'http://dbpedia.org/resource/Bombay_to_Goa_(2007_film)', 'http://dbpedia.org/resource/Brahma_(1994_film)', 'http://dbpedia.org/resource/Daulat_(1982_film)', 'http://dbpedia.org/resource/Dedh_Ishqiya', 'http://dbpedia.org/resource/Delhi_Safari', 'http://dbpedia.org/resource/Desh_Drohi_(1980_film)', 'http://dbpedia.org/resource/Alibaba_Marjinaa', 'http://dbpedia.org/resource/Antarnaad', 'http://dbpedia.org/resource/Apna_Desh_Paraye_Log', 'http://dbpedia.org/resource/Apna_Ghar', 'http://dbpedia.org/resource/Apna_Paraya', 'http://dbpedia.org/resource/Apne_Begaane', 'http://dbpedia.org/resource/Hogaya_Dimaagh_Ka_Dahi', 'http://dbpedia.org/resource/Honourable_Mention', 'http://dbpedia.org/resource/Hulla', 'http://dbpedia.org/resource/Hum_Dil_De_Chuke_Sanam', 'http://dbpedia.org/resource/Hum_Saath-Saath_Hain', 'http://dbpedia.org/resource/Hum_To_Chale_Pardes', 'http://dbpedia.org/resource/Hum_Tum_Dushman_Dushman', 'http://dbpedia.org/resource/Humayun_(film)', 'http://dbpedia.org/resource/Hungama_(1971_film)', 'http://dbpedia.org/resource/Johnny_Gaddaar', 'http://dbpedia.org/resource/Journey_of_Bhangover', 'http://dbpedia.org/resource/Judgementall_Hai_Kya', 'http://dbpedia.org/resource/Julie_(1975_film)', 'http://dbpedia.org/resource/Bhagta_Bhoot', 'http://dbpedia.org/resource/Bhagya_Laxmi', 'http://dbpedia.org/resource/Bhaichara', 'http://dbpedia.org/resource/Bhakta_Kabir', 'http://dbpedia.org/resource/Bhakta_Raidas', 'http://dbpedia.org/resource/Bhakta_Surdas', 'http://dbpedia.org/resource/Bhalai', 'http://dbpedia.org/resource/Bhedi_Khazana', 'http://dbpedia.org/resource/Bhookh_(1947_film)', 'http://dbpedia.org/resource/Pati_Parmeshwar_(film)', 'http://dbpedia.org/resource/Pehle_Aap', 'http://dbpedia.org/resource/Right_Here,_Right_Now_(film)', 'http://dbpedia.org/resource/Char_Aankhen', 'http://dbpedia.org/resource/Daku_Aur_Mahatma', 'http://dbpedia.org/resource/Ulti_Ganga', 'http://dbpedia.org/resource/Ummeed_(1941_film)', 'http://dbpedia.org/resource/UnIndian', 'http://dbpedia.org/resource/Upaasna', 'http://dbpedia.org/resource/Vaade_Iraade', 'http://dbpedia.org/resource/Vanmala', 'http://dbpedia.org/resource/Vasantsena_(1942_film)', 'http://dbpedia.org/resource/Veer_Kunal', 'http://dbpedia.org/resource/Dawat', 'http://dbpedia.org/resource/Deepak_Mahal', 'http://dbpedia.org/resource/Dev_Kanya', 'http://dbpedia.org/resource/Devar', 'http://dbpedia.org/resource/Door_Chalen', 'http://dbpedia.org/resource/Door_Nahin_Manzil', 'http://dbpedia.org/resource/Dorangia_Daku', 'http://dbpedia.org/resource/Dost_Aur_Dushman', 'http://dbpedia.org/resource/Double_Cross_(1972_film)', 'http://dbpedia.org/resource/Doust_(film)', 'http://dbpedia.org/resource/Dukh_Sukh', 'http://dbpedia.org/resource/Duniya_Diwani', 'http://dbpedia.org/resource/Duniya_Ek_Tamasha', 'http://dbpedia.org/resource/Duniya_Tumhari_Hai', 'http://dbpedia.org/resource/Durga_(2002_film)', 'http://dbpedia.org/resource/Inkaar_(1943_film)', 'http://dbpedia.org/resource/Insaan_(1944_film)', 'http://dbpedia.org/resource/Insaan_Aur_Shaitan', 'http://dbpedia.org/resource/Jadu_Ka_Shankh', 'http://dbpedia.org/resource/Jadu_Nagri', 'http://dbpedia.org/resource/Jadu_Tona', 'http://dbpedia.org/resource/Jadugar', 'http://dbpedia.org/resource/Jadui_Putli', 'http://dbpedia.org/resource/Jag_Biti', 'http://dbpedia.org/resource/Jagat_Mohini', 'http://dbpedia.org/resource/Jai_Bangladesh', 'http://dbpedia.org/resource/Jai_Jwala', 'http://dbpedia.org/resource/Jai_Santoshi_Maa', 'http://dbpedia.org/resource/Jai_Swadesh', 'http://dbpedia.org/resource/Jamna_Par', 'http://dbpedia.org/resource/Janam_Janam_Na_Saath', 'http://dbpedia.org/resource/Kunwara_Badan', 'http://dbpedia.org/resource/Toofan_Queen', 'http://dbpedia.org/resource/Yaad_Rahe', 'http://dbpedia.org/resource/Prem_Sangeet', 'http://dbpedia.org/resource/Pehchan_(1946_film)', 'http://dbpedia.org/resource/Prem_Ki_Duniya', 'http://dbpedia.org/resource/Taqrar', 'http://dbpedia.org/resource/16_December_(film)', 'http://dbpedia.org/resource/18.11:_A_Code_of_Secrecy', 'http://dbpedia.org/resource/Commando:_A_One_Man_Army', 'http://dbpedia.org/resource/Anban_(film)', 'http://dbpedia.org/resource/Masti_(2004_film)', 'http://dbpedia.org/resource/Masti_(film_series)', 'http://dbpedia.org/resource/Mastizaade', 'http://dbpedia.org/resource/Matrubhoomi', 'http://dbpedia.org/resource/Mauj', 'http://dbpedia.org/resource/Maya_Darpan', 'http://dbpedia.org/resource/Medha_Sharma', 'http://dbpedia.org/resource/Meera_Ka_Mohan', 'http://dbpedia.org/resource/Saat_Phere_(film)', 'http://dbpedia.org/resource/Sahara_(1943_Hindi_film)', 'http://dbpedia.org/resource/Saheb,_Biwi_Aur_Gangster', 'http://dbpedia.org/resource/Saheb,_Biwi_Aur_Gangster_3', 'http://dbpedia.org/resource/Saheb,_Biwi_Aur_Gangster_Returns', 'http://dbpedia.org/resource/Sajan_(1947_film)', 'http://dbpedia.org/resource/Sallu_Ki_Shaadi', 'http://dbpedia.org/resource/Chhed_Chhad', 'http://dbpedia.org/resource/Chhota_Sa_Ghar', 'http://dbpedia.org/resource/Chhoti_Bahu', 'http://dbpedia.org/resource/Chhoti_Maa', 'http://dbpedia.org/resource/Gauri_(1943_film)', 'http://dbpedia.org/resource/Gayatri_Mahima', 'http://dbpedia.org/resource/Geeta_(1940_film)', 'http://dbpedia.org/resource/Uttara_Abhimanyu', 'http://dbpedia.org/resource/Wayda', 'http://dbpedia.org/resource/Sandesha', 'http://dbpedia.org/resource/Salgirah', 'http://dbpedia.org/resource/Sampark', 'http://dbpedia.org/resource/Shayar-e-Kashmir_Mahjoor', 'http://dbpedia.org/resource/Punar_Milan', 'http://dbpedia.org/resource/Raadha_Aur_Seeta', 'http://dbpedia.org/resource/1857_(film)', 'http://dbpedia.org/resource/Cocktail_(2012_film)', 'http://dbpedia.org/resource/Ek_Baap_Chhe_Bete', 'http://dbpedia.org/resource/Ek_Hindustani', 'http://dbpedia.org/resource/Ek_Paheli', 'http://dbpedia.org/resource/Ek_Phool_Teen_Kante', 'http://dbpedia.org/resource/Ek_Thi_Daayan', 'http://dbpedia.org/resource/Ek_Thi_Larki', 'http://dbpedia.org/resource/Ekhon_Nedekha_Nodir_Xhipare', 'http://dbpedia.org/resource/Ekram_(film)', 'http://dbpedia.org/resource/English_Vinglish', 'http://dbpedia.org/resource/Fraud_Saiyaan', 'http://dbpedia.org/resource/Fredrick_(film)', 'http://dbpedia.org/resource/Fugly_(film)', 'http://dbpedia.org/resource/Game_(2011_film)', 'http://dbpedia.org/resource/Gangoobai', 'http://dbpedia.org/resource/Garib_(film)', 'http://dbpedia.org/resource/Ghanchakkar_(film)', 'http://dbpedia.org/resource/Ghata', 'http://dbpedia.org/resource/Ghulam_(film)', 'http://dbpedia.org/resource/Go_Goa_Gone', 'http://dbpedia.org/resource/Great_Grand_Masti', 'http://dbpedia.org/resource/Mishawr_Rawhoshyo', 'http://dbpedia.org/resource/Mohabbat_Aur_Jung', 'http://dbpedia.org/resource/Mohabbat_Ki_Kasauti', 'http://dbpedia.org/resource/Monica_(2011_film)', 'http://dbpedia.org/resource/Motichoor_Chaknachoor', 'http://dbpedia.org/resource/Mujhse_Shaadi_Karogi', 'http://dbpedia.org/resource/Muskurahat_(1943_film)', 'http://dbpedia.org/resource/My_Name_Is_Khan', 'http://dbpedia.org/resource/Na_Tum_Jaano_Na_Hum', 'http://dbpedia.org/resource/Naami_Chor', 'http://dbpedia.org/resource/Nache_Nagin_Gali_Gali', 'http://dbpedia.org/resource/Nadaan_(1943_film)', 'http://dbpedia.org/resource/Nadaan_(1971_film)', 'http://dbpedia.org/resource/Nai_Zindagi', 'http://dbpedia.org/resource/Namaste_Wahala', 'http://dbpedia.org/resource/Namumkin', 'http://dbpedia.org/resource/The_Perfect_Murder_(1988_film)', 'http://dbpedia.org/resource/The_Saint_(1941_film)', 'http://dbpedia.org/resource/The_Sky_Is_Pink', 'http://dbpedia.org/resource/The_Xposé', 'http://dbpedia.org/resource/The_Zoya_Factor_(film)', 'http://dbpedia.org/resource/Thoda_Lutf_Thoda_Ishq', 'http://dbpedia.org/resource/Damaad', 'http://dbpedia.org/resource/Laat_Saheb', 'http://dbpedia.org/resource/Ladki_Jawan_Ho_Gayi', 'http://dbpedia.org/resource/Ladki_Pasand_Hai', 'http://dbpedia.org/resource/Lagaam', 'http://dbpedia.org/resource/Laheri_Badmash', 'http://dbpedia.org/resource/Laheri_Cameraman', 'http://dbpedia.org/resource/Pak_Daman', 'http://dbpedia.org/resource/Vijay_Lakshmi', 'http://dbpedia.org/resource/Swarna_Bhoomi', 'http://dbpedia.org/resource/Ankahee_(1985_film)', 'http://dbpedia.org/resource/Ankush', 'http://dbpedia.org/resource/Aradhana_(1969_film)', 'http://dbpedia.org/resource/Armaan_(1942_film)', 'http://dbpedia.org/resource/Life_Ki_Toh_Lag_Gayi', 'http://dbpedia.org/resource/Loafer_(1996_film)', 'http://dbpedia.org/resource/Lootera', 'http://dbpedia.org/resource/Lorie_(film)', 'http://dbpedia.org/resource/Love_Day_-_Pyaar_Ka_Din', 'http://dbpedia.org/resource/Love_Exchange_(film)', 'http://dbpedia.org/resource/Loveshhuda', 'http://dbpedia.org/resource/Luv_Shuv_Tey_Chicken_Khurana', 'http://dbpedia.org/resource/Maa_Baap', 'http://dbpedia.org/resource/Maa_Ka_Aanchal', 'http://dbpedia.org/resource/Made_in_China_(2019_film)', 'http://dbpedia.org/resource/Madras_Cafe', 'http://dbpedia.org/resource/Mafia_(1996_film)', 'http://dbpedia.org/resource/Mahakavi_Kalidas_(1942_film)', 'http://dbpedia.org/resource/Maharathi_Karna', 'http://dbpedia.org/resource/Mahasati_Ansuya', 'http://dbpedia.org/resource/Mahatma_Vidur', 'http://dbpedia.org/resource/Maheman', 'http://dbpedia.org/resource/Major_(film)', 'http://dbpedia.org/resource/Mala_(1941_film)', 'http://dbpedia.org/resource/Malan_(film)', 'http://dbpedia.org/resource/Malik_Ek', 'http://dbpedia.org/resource/Man_Jaiye', 'http://dbpedia.org/resource/Man_Ki_Jeet', 'http://dbpedia.org/resource/Mangal_Pandey:_The_Rising', 'http://dbpedia.org/resource/Call_Girl_(1974_film)', 'http://dbpedia.org/resource/Chor_Chor', 'http://dbpedia.org/resource/Shootout_at_Wadala', 'http://dbpedia.org/resource/Shuruaat_Ka_Interval', 'http://dbpedia.org/resource/Sindoor_(1947_film)', 'http://dbpedia.org/resource/Singh_Is_Bliing', 'http://dbpedia.org/resource/Sneh_Bandhan', 'http://dbpedia.org/resource/Strings_of_Passion', 'http://dbpedia.org/resource/Suhaag_Raat', 'http://dbpedia.org/resource/Sukhi_Jeevan', 'http://dbpedia.org/resource/Yudhpath', 'http://dbpedia.org/resource/Yuvvraaj', 'http://dbpedia.org/resource/Zamane_Se_Poocho', 'http://dbpedia.org/resource/Zaroorat', 'http://dbpedia.org/resource/Zulfiqar_(film)', 'http://dbpedia.org/resource/Hamara_Desh', 'http://dbpedia.org/resource/Hari_Darshan', 'http://dbpedia.org/resource/House_No._13', 'http://dbpedia.org/resource/Khamosh_Nigahen_(1946_film)', 'http://dbpedia.org/resource/Khel_Khilari_Ka', 'http://dbpedia.org/resource/Krishna_Leela_(1946_film)', 'http://dbpedia.org/resource/Magadraj', 'http://dbpedia.org/resource/Maha_Sati_Savitri', 'http://dbpedia.org/resource/Maharani_Minaldevi', 'http://dbpedia.org/resource/Mahek', 'http://dbpedia.org/resource/Main_Hari', 'http://dbpedia.org/resource/Street_Singer_(film)', 'http://dbpedia.org/resource/Swapna_(1942_film)', 'http://dbpedia.org/resource/Mauji_Jeevan', 'http://dbpedia.org/resource/Maya_Nagari', 'http://dbpedia.org/resource/Mazdoor_Zindabaad', 'http://dbpedia.org/resource/Awesome_Mausam', 'http://dbpedia.org/resource/Azadi-e-Watan', 'http://dbpedia.org/resource/Baadshaho', 'http://dbpedia.org/resource/Baaghi_(2016_film)', 'http://dbpedia.org/resource/Bachchon_Ka_Khel', 'http://dbpedia.org/resource/Badalti_Duniya', 'http://dbpedia.org/resource/Badnam_Basti', 'http://dbpedia.org/resource/Baghi_Sipahi', 'http://dbpedia.org/resource/Bahaar_Aane_Tak', 'http://dbpedia.org/resource/Bahurani_(1940_film)', 'http://dbpedia.org/resource/Bajrangi_Bhaijaan', 'http://dbpedia.org/resource/Bambai_Ki_Sair', 'http://dbpedia.org/resource/Bambaiwali', 'http://dbpedia.org/resource/Bandhan_(1956_film)', 'http://dbpedia.org/resource/Bandook', 'http://dbpedia.org/resource/Bansari_(1943_film)', 'http://dbpedia.org/resource/C_Kkompany', 'http://dbpedia.org/resource/Agni_Rekha', 'http://dbpedia.org/resource/Tohfa_Mohabbat_Ka', 'http://dbpedia.org/resource/Traffic_(2016_film)', 'http://dbpedia.org/resource/Tum_Mere_Ho', 'http://dbpedia.org/resource/U,_Me_Aur_Ghar', 'http://dbpedia.org/resource/Dard_(1947_film)', 'http://dbpedia.org/resource/Dark_Rainbow', 'http://dbpedia.org/resource/Das_Baje', 'http://dbpedia.org/resource/Daughter_of_Sindbad', 'http://dbpedia.org/resource/Daulat_(1949_film)', 'http://dbpedia.org/resource/Wamaq_Azra', 'http://dbpedia.org/resource/Wedding_Pullav', 'http://dbpedia.org/resource/Do_Bhai_(1947_film)', 'http://dbpedia.org/resource/Do_Khiladi', 'http://dbpedia.org/resource/Do_Mastane', 'http://dbpedia.org/resource/Dr._Kumar', 'http://dbpedia.org/resource/Dr._Vidya', 'http://dbpedia.org/resource/Gaali', 'http://dbpedia.org/resource/Ganga_Sagar_(film)', 'http://dbpedia.org/resource/Gaon_Ki_Gori', 'http://dbpedia.org/resource/Haar_Jeet_(1940_film)', 'http://dbpedia.org/resource/Haathi_Ke_Daant', 'http://dbpedia.org/resource/Haso_Haso_Ai_Duniyawallaon', 'http://dbpedia.org/resource/Hawai_Khautala', 'http://dbpedia.org/resource/Heera-Moti', 'http://dbpedia.org/resource/Jhuthi_Sharm', 'http://dbpedia.org/resource/Jungle_Ki_Pukar', 'http://dbpedia.org/resource/Kasauti_(1941_film)', 'http://dbpedia.org/resource/Lal_Salaam_(2002_film)', 'http://dbpedia.org/resource/Laxmi_Narayan_(film)', 'http://dbpedia.org/resource/Raaton_Ka_Raja', 'http://dbpedia.org/resource/Phir_Bhi', 'http://dbpedia.org/resource/Rahgir', 'http://dbpedia.org/resource/Naramsimha', 'http://dbpedia.org/resource/Nirali_Duniya', 'http://dbpedia.org/resource/Nishad_(film)', 'http://dbpedia.org/resource/A_Flat_(film)', 'http://dbpedia.org/resource/Aa_Gaya_Hero', 'http://dbpedia.org/resource/Aadmi_Aur_Aurat', 'http://dbpedia.org/resource/Aaj_Ka_Hindustan', 'http://dbpedia.org/resource/Aaj_Ki_Duniya', 'http://dbpedia.org/resource/Aakhri_Cheekh', 'http://dbpedia.org/resource/Aangan_Ki_Kali', 'http://dbpedia.org/resource/Aarakshan', 'http://dbpedia.org/resource/Aarop', 'http://dbpedia.org/resource/Aashiqui.in', 'http://dbpedia.org/resource/Abla_Ki_Shakti', 'http://dbpedia.org/resource/Accident_on_Hill_Road', 'http://dbpedia.org/resource/Adhuri_Kahani', 'http://dbpedia.org/resource/Adventures_of_Ali-Baba_and_the_Forty_Thieves_(film)', 'http://dbpedia.org/resource/Airlift_(film)', 'http://dbpedia.org/resource/Aiyyaa', 'http://dbpedia.org/resource/Akele_Hum_Akele_Tum', 'http://dbpedia.org/resource/Albela_(1951_film)', 'http://dbpedia.org/resource/All_Is_Well_(2015_film)', 'http://dbpedia.org/resource/Amar_Jyoti', 'http://dbpedia.org/resource/Amar_Raj', 'http://dbpedia.org/resource/Anarbala', 'http://dbpedia.org/resource/Aiye', 'http://dbpedia.org/resource/Daaku_Aur_Jawan', 'http://dbpedia.org/resource/Daaman_Aur_Aag', 'http://dbpedia.org/resource/Daku_Hasina', 'http://dbpedia.org/resource/Dattak', 'http://dbpedia.org/resource/Dream_Girl_(2019_film)', 'http://dbpedia.org/resource/Duhai', 'http://dbpedia.org/resource/Dum_Kaata', 'http://dbpedia.org/resource/Dunno_Y..._Na_Jaane_Kyon', 'http://dbpedia.org/resource/Dunno_Y2..._Life_Is_a_Moment', 'http://dbpedia.org/resource/Dushman_(1939_film)', 'http://dbpedia.org/resource/Farebi', 'http://dbpedia.org/resource/Farishta_Ya_Qatil', 'http://dbpedia.org/resource/Farz_Ki_Jung', 'http://dbpedia.org/resource/Fashion_(2008_film)', 'http://dbpedia.org/resource/Fauj_Mein_Mauj', 'http://dbpedia.org/resource/Force_(2011_film)', 'http://dbpedia.org/resource/Balak_Aur_Janwar', 'http://dbpedia.org/resource/Balak_Dhruv', 'http://dbpedia.org/resource/Balidaan_(1971_film)', 'http://dbpedia.org/resource/Bandagi', 'http://dbpedia.org/resource/Bandhan_(1969_film)', 'http://dbpedia.org/resource/Bandukwali', 'http://dbpedia.org/resource/Barat_(film)', 'http://dbpedia.org/resource/Nirmala_(1938_film)', 'http://dbpedia.org/resource/Nishane_Bazi', 'http://dbpedia.org/resource/Padmashree_Laloo_Prasad_Yadav', 'http://dbpedia.org/resource/Pagal_(film)', 'http://dbpedia.org/resource/Pagalpanti_(2019_film)', 'http://dbpedia.org/resource/Pagli_(film)', 'http://dbpedia.org/resource/Pagli_Duniya', 'http://dbpedia.org/resource/Paheli', 'http://dbpedia.org/resource/Pal_Pal_Dil_Ke_Paas', 'http://dbpedia.org/resource/Pandit_Aur_Pathan', 'http://dbpedia.org/resource/Panga_(film)', 'http://dbpedia.org/resource/Panghat', 'http://dbpedia.org/resource/Papa_Kahte_Hain', 'http://dbpedia.org/resource/Parakh_(1944_film)', 'http://dbpedia.org/resource/Parbat_Pe_Apna_Dera', 'http://dbpedia.org/resource/Pardesi_(1970_film)', 'http://dbpedia.org/resource/Pareshaan_Parinda', 'http://dbpedia.org/resource/Parwane', 'http://dbpedia.org/resource/Charnon_Ki_Dasi', 'http://dbpedia.org/resource/Chaubees_Ghante', 'http://dbpedia.org/resource/Chehra_(1946_film)', 'http://dbpedia.org/resource/Chudiyan', 'http://dbpedia.org/resource/Dhadkan_(1946_film)', 'http://dbpedia.org/resource/Dhamkee', 'http://dbpedia.org/resource/Dhandora', 'http://dbpedia.org/resource/Dhanwan_(1946_film)', 'http://dbpedia.org/resource/Dharma_Bandhan', 'http://dbpedia.org/resource/Dharmatma_(1935_film)', 'http://dbpedia.org/resource/Dharti_Mata_(film)', 'http://dbpedia.org/resource/Dhiraj', 'http://dbpedia.org/resource/Dhongee', 'http://dbpedia.org/resource/Dhuen_Ki_Lakeer', 'http://dbpedia.org/resource/Dil_(1946_film)', 'http://dbpedia.org/resource/Dillagi_(1942_film)', 'http://dbpedia.org/resource/Flying_Prince', 'http://dbpedia.org/resource/Gomti_Ke_Kinare', 'http://dbpedia.org/resource/Gopal_Krishna_(1979_film)', 'http://dbpedia.org/resource/Hanuman_Vijay', 'http://dbpedia.org/resource/Haqdar', 'http://dbpedia.org/resource/Haqeeqat_(1964_film)', 'http://dbpedia.org/resource/Har_Har_Gange', 'http://dbpedia.org/resource/Himalay_Se_Ooncha', 'http://dbpedia.org/resource/Hindustan_Hamara_(1940_film)', 'http://dbpedia.org/resource/Hindustani_Sipahi', 'http://dbpedia.org/resource/Ishaara_(1943_film)', 'http://dbpedia.org/resource/Kaagaz_Ki_Nao', 'http://dbpedia.org/resource/Kab%3F_Kyoon%3F_Aur_Kahan%3F', 'http://dbpedia.org/resource/Kahani_Hum_Sab_Ki', 'http://dbpedia.org/resource/Kanoon_Ki_Awaaz', 'http://dbpedia.org/resource/Keemat_(1946_film)', 'http://dbpedia.org/resource/Khooni', 'http://dbpedia.org/resource/Khush_Naseeb', 'http://dbpedia.org/resource/Kora_Badan', 'http://dbpedia.org/resource/The_Desire_(2010_film)', 'http://dbpedia.org/resource/Pyar_Ki_Jeet_(1948_film)', 'http://dbpedia.org/resource/Qaidi_(1940_film)', 'http://dbpedia.org/resource/Radio_(2009_film)', 'http://dbpedia.org/resource/Raees_(1976_film)', 'http://dbpedia.org/resource/Rekha_(film)', 'http://dbpedia.org/resource/Guddu_Rangeela', 'http://dbpedia.org/resource/Gunah_Aur_Kanoon', 'http://dbpedia.org/resource/Hamara_Ghar_(1950_film)', 'http://dbpedia.org/resource/Hamari_Baat', 'http://dbpedia.org/resource/Hamari_Betiyan', 'http://dbpedia.org/resource/Hanuman_Patal_Vijay', 'http://dbpedia.org/resource/Hare_Kanch_Ki_Chooriyan', 'http://dbpedia.org/resource/Hasina_Aur_Nagina', 'http://dbpedia.org/resource/Haunted_Hills', 'http://dbpedia.org/resource/Hawaizaada', 'http://dbpedia.org/resource/Hero_(2015_Hindi_film)', 'http://dbpedia.org/resource/Heroine_(2012_film)', 'http://dbpedia.org/resource/Heropanti', 'http://dbpedia.org/resource/Hey_Bro', 'http://dbpedia.org/resource/Himmat_(1941_film)', 'http://dbpedia.org/resource/Hind_Ka_Lal', 'http://dbpedia.org/resource/Attention_(film)', 'http://dbpedia.org/resource/Issaq', 'http://dbpedia.org/resource/Jabariya_Jodi', 'http://dbpedia.org/resource/Jackpot_(2013_film)', 'http://dbpedia.org/resource/Jadoo_(1951_film)', 'http://dbpedia.org/resource/Jadui_Bandhan', 'http://dbpedia.org/resource/Jai_Jawan_Jai_Makan', 'http://dbpedia.org/resource/Jai_Radhe_Krishna', 'http://dbpedia.org/resource/Jaisi_Karni_Waisi_Bharnii', 'http://dbpedia.org/resource/Jawab_(1942_film)', 'http://dbpedia.org/resource/Jazbaa', 'http://dbpedia.org/resource/Jeena_Isi_Ka_Naam_Hai_(film)', 'http://dbpedia.org/resource/Jeena_Yahan', 'http://dbpedia.org/resource/Jeete_Hain_Shaan_Se', 'http://dbpedia.org/resource/Jeevan_Mukt', 'http://dbpedia.org/resource/Jeevan_Yatra', 'http://dbpedia.org/resource/Babumoshai_Bandookbaaz', 'http://dbpedia.org/resource/Badi_Baat', 'http://dbpedia.org/resource/Badi_Maa', 'http://dbpedia.org/resource/Badla_(1943_film)', 'http://dbpedia.org/resource/Badnami', 'http://dbpedia.org/resource/Baghdad_Ka_Chor', 'http://dbpedia.org/resource/Bahana_(1942_film)', 'http://dbpedia.org/resource/Baharon_Phool_Barsao', 'http://dbpedia.org/resource/Bal_Bramhachari', 'http://dbpedia.org/resource/Talaash:_The_Answer_Lies_Within', 'http://dbpedia.org/resource/Tamanna_(1942_film)', 'http://dbpedia.org/resource/Tangewala', 'http://dbpedia.org/resource/Tansen_(film)', 'http://dbpedia.org/resource/Tapasya_(1976_film)', 'http://dbpedia.org/resource/Tere_Bina_Kya_Jeena', 'http://dbpedia.org/resource/Tere_Jism_Se_Jaan_Tak', 'http://dbpedia.org/resource/Tere_Liye_(film)', 'http://dbpedia.org/resource/Teri_Meri_Ik_Jindri', 'http://dbpedia.org/resource/Thackeray_(film)', 'http://dbpedia.org/resource/The_Final_Inch', 'http://dbpedia.org/resource/The_Jungle_Princess_(1942_film)', 'http://dbpedia.org/resource/Humjoli_(1946_film)', 'http://dbpedia.org/resource/Hunterwali_Ki_Beti', 'http://dbpedia.org/resource/Jeevan_(film)', 'http://dbpedia.org/resource/Jeevan_Swapna', 'http://dbpedia.org/resource/Jina_Sikho', 'http://dbpedia.org/resource/Nagin_Aur_Suhagin', 'http://dbpedia.org/resource/Shahi_Khazana', 'http://dbpedia.org/resource/Shahenshah_Babar', 'http://dbpedia.org/resource/Usha_Haran', 'http://dbpedia.org/resource/Arjun_Patiala', 'http://dbpedia.org/resource/Arohan_(film)', 'http://dbpedia.org/resource/Aadab_Arz', 'http://dbpedia.org/resource/Aahuti_(1950_film)', 'http://dbpedia.org/resource/Aai_Bahar', 'http://dbpedia.org/resource/Aaina_(1944_film)', 'http://dbpedia.org/resource/Aaj_Ka_Ye_Ghar', 'http://dbpedia.org/resource/Aaj_Ki_Dhara', 'http://dbpedia.org/resource/Aakhri_Kasam', 'http://dbpedia.org/resource/Aangan_(1973_film)', 'http://dbpedia.org/resource/Aankh_Ki_Sharm', 'http://dbpedia.org/resource/Aankh_Michouli', 'http://dbpedia.org/resource/Aap_Ki_Sewa_Mein', 'http://dbpedia.org/resource/Aashiana', 'http://dbpedia.org/resource/Agar..._If', 'http://dbpedia.org/resource/Chak_De!_India', 'http://dbpedia.org/resource/Chakra_(1981_film)', 'http://dbpedia.org/resource/Chakradhaar', 'http://dbpedia.org/resource/Chalis_Karod', 'http://dbpedia.org/resource/Chalti_Duniya', 'http://dbpedia.org/resource/Chandan_Ka_Palna', 'http://dbpedia.org/resource/Chandidas_(film)', 'http://dbpedia.org/resource/Chandrasena_(1935_film)', 'http://dbpedia.org/resource/Chauranghee', 'http://dbpedia.org/resource/Chhapaak', 'http://dbpedia.org/resource/Chhoti_Si_Mulaqat', 'http://dbpedia.org/resource/Chicken_Curry_Law', 'http://dbpedia.org/resource/Chittagong_(film)', 'http://dbpedia.org/resource/Jhoota_Kahin_Ka', 'http://dbpedia.org/resource/Jhumke', 'http://dbpedia.org/resource/Jodi_Breakers', 'http://dbpedia.org/resource/Johar_Mehmood_in_Hong_Kong', 'http://dbpedia.org/resource/Junooniyat', 'http://dbpedia.org/resource/Kaal_Sandhya', 'http://dbpedia.org/resource/Kaarnama', 'http://dbpedia.org/resource/Kabhi_Dhoop_Kabhi_Chhaon', 'http://dbpedia.org/resource/Kai_Po_Che!', 'http://dbpedia.org/resource/Kalabaaz', 'http://dbpedia.org/resource/Kalichaat', 'http://dbpedia.org/resource/Kalyug_(1981_film)', 'http://dbpedia.org/resource/Kalyug_Aur_Ramayan', 'http://dbpedia.org/resource/Kapoor_&_Sons', 'http://dbpedia.org/resource/Katti_Batti', 'http://dbpedia.org/resource/Keep_Safe_Distance_(film)', 'http://dbpedia.org/resource/Khamma_Mara_Veera', 'http://dbpedia.org/resource/Khazanchi_Ki_Beti', 'http://dbpedia.org/resource/Khoobsurat_(1999_film)', 'http://dbpedia.org/resource/Khoon_Ka_Badla_Khoon', 'http://dbpedia.org/resource/Khooni_Laash', 'http://dbpedia.org/resource/Khooni_Murda', 'http://dbpedia.org/resource/Ladaai_Ke_Baad', 'http://dbpedia.org/resource/Lagan_(1941_film)', 'http://dbpedia.org/resource/Laheri_Jeewan', 'http://dbpedia.org/resource/Lal_Haveli_(film)', 'http://dbpedia.org/resource/Lalaji', 'http://dbpedia.org/resource/Lalkar', 'http://dbpedia.org/resource/Lamhaa', 'http://dbpedia.org/resource/Bichchade_Balam', 'http://dbpedia.org/resource/Blackout_(1942_film)', 'http://dbpedia.org/resource/Sultan_(2016_film)', 'http://dbpedia.org/resource/Summer_2007', 'http://dbpedia.org/resource/Tadbir', 'http://dbpedia.org/resource/Taj_Mahal_(1941_film)', 'http://dbpedia.org/resource/Ek_Raat', 'http://dbpedia.org/resource/Ek_Thi_Reeta', 'http://dbpedia.org/resource/Honeymoon_(1973_film)', 'http://dbpedia.org/resource/Jaan_Hazir_Hai', 'http://dbpedia.org/resource/Jawan_Ki_Pukar', 'http://dbpedia.org/resource/Jawani_Ka_Rang', 'http://dbpedia.org/resource/Tower_House_(film)', 'http://dbpedia.org/resource/Yasmin_(1955_film)', 'http://dbpedia.org/resource/Zameen_(1943_film)', 'http://dbpedia.org/resource/Mit_Jayenge_Mitane_Wale', 'http://dbpedia.org/resource/Mohabbat_Ki_Jeet', 'http://dbpedia.org/resource/Tatar_Ka_Chor', 'http://dbpedia.org/resource/Red_Signal', 'http://dbpedia.org/resource/Dhadkan', 'http://dbpedia.org/resource/Dil_Ki_Rahen', 'http://dbpedia.org/resource/Din_Dahade', 'http://dbpedia.org/resource/Diwana_(1952_film)', 'http://dbpedia.org/resource/Do_Bachche_Dus_Haath', 'http://dbpedia.org/resource/Do_Boond_Pani', 'http://dbpedia.org/resource/Do_Chattane', 'http://dbpedia.org/resource/Do_Hanso_Ka_Joda', 'http://dbpedia.org/resource/Do_Jhoot', 'http://dbpedia.org/resource/Do_Phool_(1958_film)', 'http://dbpedia.org/resource/Dor_(film)', 'http://dbpedia.org/resource/Arzoo_(1942_film)', 'http://dbpedia.org/resource/Ashirwad', 'http://dbpedia.org/resource/Awaaz_De_Kahan_Hai', 'http://dbpedia.org/resource/Azad_Mohabbat', 'http://dbpedia.org/resource/Manzil_(1936_film)', 'http://dbpedia.org/resource/Marigold_(2007_film)', 'http://dbpedia.org/resource/Bulbule_Baghdad', 'http://dbpedia.org/resource/Phhir', 'http://dbpedia.org/resource/Phool_(1945_film)', 'http://dbpedia.org/resource/Piya_Ghar_Aaja', 'http://dbpedia.org/resource/Pizza_(2014_film)', 'http://dbpedia.org/resource/Poonji', 'http://dbpedia.org/resource/Sohni_Mahiwal_(1946_film)', 'http://dbpedia.org/resource/Son_of_Sardaar', 'http://dbpedia.org/resource/Sorry_Daddy', 'http://dbpedia.org/resource/Circus_Ki_Sundari', 'http://dbpedia.org/resource/Hum_Sub_Chor_Hain_(1973_film)', 'http://dbpedia.org/resource/Huma_Gun_Anmogaldi', 'http://dbpedia.org/resource/I_Love_New_Year', 'http://dbpedia.org/resource/Kis_Kisko_Pyaar_Karoon', 'http://dbpedia.org/resource/Kitaab', 'http://dbpedia.org/resource/Kites_(film)', 'http://dbpedia.org/resource/Krishna_Bhakta_Bodana', 'http://dbpedia.org/resource/Kunwara_Baap_(1942_film)', 'http://dbpedia.org/resource/Kyaa_Super_Kool_Hain_Hum', 'http://dbpedia.org/resource/Mera_Desh_Mera_Dharam', 'http://dbpedia.org/resource/Mere_Sartaj', 'http://dbpedia.org/resource/Meri_Biwi_Ki_Shaadi', 'http://dbpedia.org/resource/Milap', 'http://dbpedia.org/resource/Nari_(film)', 'http://dbpedia.org/resource/Nartaki_(1940_film)', 'http://dbpedia.org/resource/Nartaki_(1963_film)', 'http://dbpedia.org/resource/Naukar_(1943_film)', 'http://dbpedia.org/resource/Nyaydaata', 'http://dbpedia.org/resource/Officer_(2001_film)', 'http://dbpedia.org/resource/Omar_Khaiyyam', 'http://dbpedia.org/resource/Omkara_(2006_film)', 'http://dbpedia.org/resource/One_by_Two_(2014_film)', 'http://dbpedia.org/resource/Raabta_(film)', 'http://dbpedia.org/resource/Rab_Ne_Bana_Di_Jodi', 'http://dbpedia.org/resource/Race_(2008_film)', 'http://dbpedia.org/resource/Rafoo_Chakkar', 'http://dbpedia.org/resource/Raftaar_(film)', 'http://dbpedia.org/resource/Rahgeer', 'http://dbpedia.org/resource/Raj_Nartaki', 'http://dbpedia.org/resource/Raja_(1943_film)', 'http://dbpedia.org/resource/Raja_Natwarlal', 'http://dbpedia.org/resource/Raja_Rani_(1942_film)', 'http://dbpedia.org/resource/Ranbanka', 'http://dbpedia.org/resource/Rangeela_(1995_film)', 'http://dbpedia.org/resource/Rangoon_(2017_Hindi_film)', 'http://dbpedia.org/resource/Rangrezz', 'http://dbpedia.org/resource/Rani_(1943_film)', 'http://dbpedia.org/resource/Rani_Sahiba', 'http://dbpedia.org/resource/Raunaq', 'http://dbpedia.org/resource/Chamakti_Bijli', 'http://dbpedia.org/resource/Chambal_Ki_Raani', 'http://dbpedia.org/resource/Chand_Chakori', 'http://dbpedia.org/resource/Shaandaar_(2015_film)', 'http://dbpedia.org/resource/Shabaab_(film)', 'http://dbpedia.org/resource/Shalimar_(1946_film)', 'http://dbpedia.org/resource/Shama_(film)', 'http://dbpedia.org/resource/Shankar_Hussain', 'http://dbpedia.org/resource/Shararat_(1944_film)', 'http://dbpedia.org/resource/Sharda_(1942_film)', 'http://dbpedia.org/resource/Shart_(1986_film)', 'http://dbpedia.org/resource/Shehnai_(1947_film)', 'http://dbpedia.org/resource/Sheikh_Chilli_(film)', 'http://dbpedia.org/resource/Sheth_N_L_High_School', 'http://dbpedia.org/resource/Shikari_(1946_film)', 'http://dbpedia.org/resource/Shimla_Mirchi', 'http://dbpedia.org/resource/Yamla_Pagla_Deewana_2', 'http://dbpedia.org/resource/Kisan_Aur_Bhagwan', 'http://dbpedia.org/resource/Kiski_Biwi', 'http://dbpedia.org/resource/Kismat_Ka_Dhani', 'http://dbpedia.org/resource/Maa_Bahen_Aur_Biwi', 'http://dbpedia.org/resource/Madhusudan_(film)', 'http://dbpedia.org/resource/Mamta_(1942_film)', 'http://dbpedia.org/resource/Mamta_(1952_film)', 'http://dbpedia.org/resource/Manthan_(1941_film)', 'http://dbpedia.org/resource/Masoom_(1941_film)', 'http://dbpedia.org/resource/Mata_(1942_film)', 'http://dbpedia.org/resource/Rukmini_Swayamvar', 'http://dbpedia.org/resource/Shirdi_Ke_Sai_Baba', 'http://dbpedia.org/resource/Sewa_(film)', 'http://dbpedia.org/resource/Shaadi_(1941_film)', 'http://dbpedia.org/resource/Vijay_(1942_film)', 'http://dbpedia.org/resource/Naya_Tarana', 'http://dbpedia.org/resource/Shodh', 'http://dbpedia.org/resource/Zalim_Saudagar', 'http://dbpedia.org/resource/Saubhagya', 'http://dbpedia.org/resource/Gwalan', 'http://dbpedia.org/resource/Shikshaa', 'http://dbpedia.org/resource/Vakil_Saheb', 'http://dbpedia.org/resource/Rangila_Jawan', 'http://dbpedia.org/resource/Sajjo_Rani', 'http://dbpedia.org/resource/Sham_Savera', 'http://dbpedia.org/resource/Zameen_Aasmaan_(1946_film)', 'http://dbpedia.org/resource/Ever_Ready_(film)', 'http://dbpedia.org/resource/Ghar_Basake_Dekho', 'http://dbpedia.org/resource/Ghar_Ka_Chiraag_(1967_film)', 'http://dbpedia.org/resource/Ghar_Ki_Laaj', 'http://dbpedia.org/resource/Ghar_Ki_Rani', 'http://dbpedia.org/resource/Ghar_Ki_Shobha', 'http://dbpedia.org/resource/Ghar_Sansar_(1942_film)', 'http://dbpedia.org/resource/Man_Mandir', 'http://dbpedia.org/resource/Raja_Rani_Ko_Chahiye_Pasina', 'http://dbpedia.org/resource/Naatak', 'http://dbpedia.org/resource/Nagad_Narayan', 'http://dbpedia.org/resource/Nai_Kahani', 'http://dbpedia.org/resource/Nai_Maa', 'http://dbpedia.org/resource/Zevar', 'http://dbpedia.org/resource/Panchhi', 'http://dbpedia.org/resource/Shamsherbaaz', 'http://dbpedia.org/resource/Talwarwala', 'http://dbpedia.org/resource/Motorwali', 'http://dbpedia.org/resource/Mr._Jhatpat', 'http://dbpedia.org/resource/Sachcha_Sapna', 'http://dbpedia.org/resource/Saaz_Aur_Sanam', 'http://dbpedia.org/resource/Shri_Ramanuja', 'http://dbpedia.org/resource/Swaminath', 'http://dbpedia.org/resource/Suleh_(film)', 'http://dbpedia.org/resource/Sikh_Phulwari', 'http://dbpedia.org/resource/Veer_Ghatotkach', 'http://dbpedia.org/resource/Paanch_Dushman', 'http://dbpedia.org/resource/Pattharon_Ka_Saudagar', 'http://dbpedia.org/resource/Shankar_Shambhu', 'http://dbpedia.org/resource/Woh_Din_Yaad_Karo', 'http://dbpedia.org/resource/Prabhat', 'http://dbpedia.org/resource/Sunayana', 'http://dbpedia.org/resource/Tum_Aur_Main', 'http://dbpedia.org/resource/Phandebaaz', 'http://dbpedia.org/resource/Rajput_Ramani', 'http://dbpedia.org/resource/Ramu_Ustad', 'http://dbpedia.org/resource/Return_of_Toofan_Mail', 'http://dbpedia.org/resource/Subah_Shyam', 'http://dbpedia.org/resource/Pyara_Watan', 'http://dbpedia.org/resource/Sati_Seeta', 'http://dbpedia.org/resource/The_Law_(1943_film)', 'http://dbpedia.org/resource/Panihari', 'http://dbpedia.org/resource/Paraye_Bas_Mein', 'http://dbpedia.org/resource/Prithviraj_Samyogita', 'http://dbpedia.org/resource/Rangile_Dost', 'http://dbpedia.org/resource/Shankar_Parvati', 'http://dbpedia.org/resource/Vartak_Nagar', 'http://dbpedia.org/resource/Yatrik', 'http://dbpedia.org/resource/Shahenshah_Akbar', 'http://dbpedia.org/resource/Wapas', 'http://dbpedia.org/resource/Rasili', 'http://dbpedia.org/resource/Uss_Paar_(film)', 'http://dbpedia.org/resource/Swadesh_Sewa', 'http://dbpedia.org/resource/Stunt_King', 'http://dbpedia.org/resource/Taxi-Taxie'] ['http://dbpedia.org/resource/Beef_and_the_Banana', 'http://dbpedia.org/resource/Prince_Gustaf_(film)', 'http://dbpedia.org/resource/Rocket_Brothers', 'http://dbpedia.org/resource/Sami_Blood', 'http://dbpedia.org/resource/Sandor_slash_Ida_(film)', 'http://dbpedia.org/resource/En_karl_i_köket', 'http://dbpedia.org/resource/Enchanted_Walk', 'http://dbpedia.org/resource/Encounter_with_Life', 'http://dbpedia.org/resource/Encounters_in_the_Twilight', 'http://dbpedia.org/resource/Motherhood_(1945_film)', 'http://dbpedia.org/resource/My_Sister_and_I_(1950_film)', 'http://dbpedia.org/resource/Meeting_in_the_Night', 'http://dbpedia.org/resource/Men_in_the_Dark', 'http://dbpedia.org/resource/More_Than_a_Match_for_the_Navy', 'http://dbpedia.org/resource/Morianna', 'http://dbpedia.org/resource/Olof_–_forsfararen', 'http://dbpedia.org/resource/On_These_Shoulders', 'http://dbpedia.org/resource/One,_But_a_Lion!', 'http://dbpedia.org/resource/One_Fiancée_at_a_Time', 'http://dbpedia.org/resource/One_Swallow_Does_Not_Make_a_Summer', 'http://dbpedia.org/resource/Only_One_Night_(1939_film)', 'http://dbpedia.org/resource/Only_a_Waiter', 'http://dbpedia.org/resource/Only_a_Woman_(1941_film)', 'http://dbpedia.org/resource/Private_Bom', 'http://dbpedia.org/resource/Private_Karlsson_on_Leave', 'http://dbpedia.org/resource/Before_the_Storm_(2000_film)', 'http://dbpedia.org/resource/Bert:_The_Last_Virgin', 'http://dbpedia.org/resource/Black_Roses_(1932_film)', 'http://dbpedia.org/resource/Black_Roses_(1945_film)', 'http://dbpedia.org/resource/Blackjack_(1990_film)', 'http://dbpedia.org/resource/Blå_måndag', 'http://dbpedia.org/resource/Deadline_(2001_film)', 'http://dbpedia.org/resource/Den_ofrivillige_golfaren', 'http://dbpedia.org/resource/Desmond_&_the_Swamp_Barbarian_Trap', 'http://dbpedia.org/resource/Hotel_Paradise_(1937_film)', 'http://dbpedia.org/resource/Hotel_St._Pauli', 'http://dbpedia.org/resource/Hur_många_kramar_finns_det_i_världen%3F', 'http://dbpedia.org/resource/Jolanta_the_Elusive_Pig', 'http://dbpedia.org/resource/Between_Brothers_(film)', 'http://dbpedia.org/resource/Between_Us_Barons', 'http://dbpedia.org/resource/Peter-No-Tail_and_the_Great_Treasure_Hunt', 'http://dbpedia.org/resource/Peter-No-Tail_in_Americat', 'http://dbpedia.org/resource/Pettson_&_Findus:_Fun_Stuff', 'http://dbpedia.org/resource/Rififi_in_Stockholm', 'http://dbpedia.org/resource/Customs_Officer_Bom', 'http://dbpedia.org/resource/Ulla,_My_Ulla', 'http://dbpedia.org/resource/Under_False_Flag_(1935_film)', 'http://dbpedia.org/resource/Variety_Is_the_Spice_of_Life', 'http://dbpedia.org/resource/Varning_för_Jönssonligan', 'http://dbpedia.org/resource/Viking_(2016_film)', 'http://dbpedia.org/resource/Dear_Relatives', 'http://dbpedia.org/resource/Defiance_(1952_film)', 'http://dbpedia.org/resource/Desire_(1946_Swedish_film)', 'http://dbpedia.org/resource/Dunungen', 'http://dbpedia.org/resource/Dynamite_(1947_film)', 'http://dbpedia.org/resource/Each_Heart_Has_Its_Own_Story', 'http://dbpedia.org/resource/Each_to_His_Own_Way', 'http://dbpedia.org/resource/Eaglets', 'http://dbpedia.org/resource/Incorrigible_(1946_film)', 'http://dbpedia.org/resource/Instead_of_Abracadabra', 'http://dbpedia.org/resource/International_Match', 'http://dbpedia.org/resource/Life_Begins_Today', 'http://dbpedia.org/resource/Life_Goes_On_(1941_film)', 'http://dbpedia.org/resource/Life_Starts_Now_(film)', 'http://dbpedia.org/resource/Life_and_Death_(1943_film)', 'http://dbpedia.org/resource/Life_at_Forsbyholm_Manor', 'http://dbpedia.org/resource/Life_in_the_Country_(1943_film)', 'http://dbpedia.org/resource/Life_in_the_Finnish_Woods', 'http://dbpedia.org/resource/Lilla_Jönssonligan', 'http://dbpedia.org/resource/Peggy_on_a_Spree', 'http://dbpedia.org/resource/Nothing_Is_Forgotten', 'http://dbpedia.org/resource/Robinson_in_Roslagen', \"http://dbpedia.org/resource/We're_All_Errand_Boys\", 'http://dbpedia.org/resource/We_House_Slaves', 'http://dbpedia.org/resource/We_Need_Each_Other_(film)', 'http://dbpedia.org/resource/We_at_Solglantan', 'http://dbpedia.org/resource/We_at_Väddö', 'http://dbpedia.org/resource/Wedding_Night_(1947_film)', 'http://dbpedia.org/resource/When_Love_Came_to_the_Village', 'http://dbpedia.org/resource/When_the_Meadows_Blossom', 'http://dbpedia.org/resource/When_the_Mills_are_Running', 'http://dbpedia.org/resource/Whoops!_(film)', 'http://dbpedia.org/resource/Widower_Jarl', 'http://dbpedia.org/resource/Come_and_Blow_the_Horn', \"http://dbpedia.org/resource/Andersson's_Kalle_(1934_film)\", \"http://dbpedia.org/resource/Andersson's_Kalle_(1950_film)\", \"http://dbpedia.org/resource/Andersson's_Kalle_(1972_film)\", \"http://dbpedia.org/resource/Andersson's_Kalle_on_Top_Form\", 'http://dbpedia.org/resource/Men_of_the_Navy', 'http://dbpedia.org/resource/S.O.S._–_En_segelsällskapsresa', 'http://dbpedia.org/resource/Elvira_Madigan_(1943_film)', 'http://dbpedia.org/resource/Gentleman_with_a_Briefcase', 'http://dbpedia.org/resource/Love_Goes_Up_and_Down', 'http://dbpedia.org/resource/Love_Wins_Out', 'http://dbpedia.org/resource/Love_and_Deficit', 'http://dbpedia.org/resource/Love_and_the_Home_Guard', 'http://dbpedia.org/resource/Lovely_Is_the_Summer_Night', 'http://dbpedia.org/resource/Night_Child_(1956_film)', 'http://dbpedia.org/resource/Nightmare_(1965_film)', 'http://dbpedia.org/resource/No_Tomorrow_(1957_film)', 'http://dbpedia.org/resource/No_Way_Back_(1947_film)', 'http://dbpedia.org/resource/Nothing_But_the_Truth_(1939_film)', 'http://dbpedia.org/resource/Swinging_at_the_Castle', 'http://dbpedia.org/resource/Raggen', 'http://dbpedia.org/resource/Rail_Workers', 'http://dbpedia.org/resource/Time_of_Desire', 'http://dbpedia.org/resource/Egen_ingång', \"http://dbpedia.org/resource/Elina:_As_If_I_Wasn't_There\", 'http://dbpedia.org/resource/Elvira_Madigan_(1967_film)', 'http://dbpedia.org/resource/En_dag_skall_gry', 'http://dbpedia.org/resource/Frida_–_The_DVD', 'http://dbpedia.org/resource/Fröken_Chic', 'http://dbpedia.org/resource/Första_divisionen', 'http://dbpedia.org/resource/Gabrielle_(1954_film)', 'http://dbpedia.org/resource/Giliap', 'http://dbpedia.org/resource/Miss_April_(1958_film)', 'http://dbpedia.org/resource/Miss_Kicki', 'http://dbpedia.org/resource/Modiga_mindre_män', 'http://dbpedia.org/resource/Money_(1946_film)', 'http://dbpedia.org/resource/Moon_Over_Hellesta', 'http://dbpedia.org/resource/My_Friend_Oscar', 'http://dbpedia.org/resource/My_Sister,_My_Love_(film)', 'http://dbpedia.org/resource/Comrades_in_Uniform', 'http://dbpedia.org/resource/Conflict_(1937_film)', 'http://dbpedia.org/resource/Crime_and_Punishment_(1945_film)', 'http://dbpedia.org/resource/Crime_in_Paradise', 'http://dbpedia.org/resource/Crime_in_the_Sun', 'http://dbpedia.org/resource/The_Man_Who_Quit_Smoking', 'http://dbpedia.org/resource/The_Man_from_Majorca', 'http://dbpedia.org/resource/The_Man_on_the_Roof', 'http://dbpedia.org/resource/The_Nuthouse_(film)', 'http://dbpedia.org/resource/The_Red_Day', 'http://dbpedia.org/resource/The_Sixth_Shot', 'http://dbpedia.org/resource/The_Southsiders', 'http://dbpedia.org/resource/The_Virgin_Spring', 'http://dbpedia.org/resource/The_White_Cat_(film)', 'http://dbpedia.org/resource/The_Women_Around_Larsson', \"http://dbpedia.org/resource/There's_a_Fire_Burning\", 'http://dbpedia.org/resource/Dance,_My_Doll', 'http://dbpedia.org/resource/Dance_in_the_Smoke', 'http://dbpedia.org/resource/Dance_on_Roses', 'http://dbpedia.org/resource/Dangerous_Paradise_(1931_film)', 'http://dbpedia.org/resource/Dangerous_Spring', 'http://dbpedia.org/resource/Dangerous_Ways', 'http://dbpedia.org/resource/Laila_(1958_film)', 'http://dbpedia.org/resource/Marriageable_Daughters', 'http://dbpedia.org/resource/Oroligt_blod', 'http://dbpedia.org/resource/Voyage_in_the_Night', 'http://dbpedia.org/resource/1939_(film)', 'http://dbpedia.org/resource/Lilla_Jönssonligan_och_cornflakeskuppen', 'http://dbpedia.org/resource/Lilla_Jönssonligan_på_kollo', 'http://dbpedia.org/resource/Lilla_Jönssonligan_på_styva_linan', 'http://dbpedia.org/resource/Lilla_Märta_kommer_tillbaka', 'http://dbpedia.org/resource/Lotta_flyttar_hemifrån', 'http://dbpedia.org/resource/Lotta_på_Bråkmakargatan', 'http://dbpedia.org/resource/Lyckan_kommer', 'http://dbpedia.org/resource/Lärarinna_på_vift', 'http://dbpedia.org/resource/Maedeli_la_brèche', 'http://dbpedia.org/resource/Making_Babies_(2001_film)', 'http://dbpedia.org/resource/Bohus_Battalion', 'http://dbpedia.org/resource/Café_Lunchrasten', 'http://dbpedia.org/resource/Stade_81', 'http://dbpedia.org/resource/Storm_(2005_film)', 'http://dbpedia.org/resource/Students_in_Paris', 'http://dbpedia.org/resource/Suddenly_(2006_film)', 'http://dbpedia.org/resource/Close_Relations_(1935_film)', 'http://dbpedia.org/resource/Colourful_Pages', 'http://dbpedia.org/resource/Zero_Tolerance_(1999_film)', 'http://dbpedia.org/resource/Zozo', 'http://dbpedia.org/resource/Äktenskapsbrottaren', 'http://dbpedia.org/resource/Ålder_okänd', 'http://dbpedia.org/resource/Emilie_Högquist_(film)', 'http://dbpedia.org/resource/Father_Bom', 'http://dbpedia.org/resource/Fransson_the_Terrible', \"http://dbpedia.org/resource/Frida's_Songs\", 'http://dbpedia.org/resource/Fridolf_Stands_Up!', \"http://dbpedia.org/resource/Fridolf_in_the_Lion's_Den\", 'http://dbpedia.org/resource/Half_Way_to_Heaven_(1931_film)', 'http://dbpedia.org/resource/House_Slaves_(1933_film)', 'http://dbpedia.org/resource/House_of_Women_(1953_film)', 'http://dbpedia.org/resource/How_to_Love_(film)', 'http://dbpedia.org/resource/How_to_Tame_a_Real_Man', 'http://dbpedia.org/resource/Kristin_Commands', 'http://dbpedia.org/resource/Kungliga_patrasket', 'http://dbpedia.org/resource/Paradise_(1955_film)', 'http://dbpedia.org/resource/Pippi_Goes_on_Board_(film)', 'http://dbpedia.org/resource/Pippi_Longstocking_(1969_film)', 'http://dbpedia.org/resource/Pippi_in_the_South_Seas_(film)', 'http://dbpedia.org/resource/Poker_(film)', 'http://dbpedia.org/resource/Sunshine_(1948_film)', 'http://dbpedia.org/resource/Surplus:_Terrorized_into_Being_Consumers', 'http://dbpedia.org/resource/The_Talk_of_the_Town_(1941_film)', 'http://dbpedia.org/resource/Med_dej_i_mina_armar', 'http://dbpedia.org/resource/My_Name_Is_Puck', 'http://dbpedia.org/resource/My_Passionate_Longing', 'http://dbpedia.org/resource/My_People_Are_Not_Yours', \"http://dbpedia.org/resource/Baldwin's_Wedding\", 'http://dbpedia.org/resource/65,_66_and_I', 'http://dbpedia.org/resource/9_millimeter', 'http://dbpedia.org/resource/Thunder_and_Lightning_(1938_film)', 'http://dbpedia.org/resource/Tjenare_kungen', 'http://dbpedia.org/resource/To_Kill_a_Child_(1953_film)', 'http://dbpedia.org/resource/Tommy_(2014_film)', \"http://dbpedia.org/resource/Tomorrow's_Melody\", 'http://dbpedia.org/resource/Darling_of_Mine', 'http://dbpedia.org/resource/Wallander:_Innan_frosten', 'http://dbpedia.org/resource/Wandering_with_the_Moon', 'http://dbpedia.org/resource/We_Three_Debutantes', 'http://dbpedia.org/resource/Whalers_(film)', 'http://dbpedia.org/resource/Wild_Birds', 'http://dbpedia.org/resource/Dollar_(film)', 'http://dbpedia.org/resource/Drakhjärta', 'http://dbpedia.org/resource/Girl_from_the_Mountain_Village', 'http://dbpedia.org/resource/He,_She_and_the_Money', \"http://dbpedia.org/resource/Heart's_Desire_(1960_film)\", 'http://dbpedia.org/resource/John_Ericsson,_Victor_of_Hampton_Roads', 'http://dbpedia.org/resource/Jolly_Musicians', 'http://dbpedia.org/resource/Just_a_Bugler', 'http://dbpedia.org/resource/Lars_Hård', 'http://dbpedia.org/resource/Lasse-Maja_(film)', 'http://dbpedia.org/resource/Laugh_Bomb', 'http://dbpedia.org/resource/Line_Six', 'http://dbpedia.org/resource/Loffe_as_a_Millionaire', 'http://dbpedia.org/resource/Loffe_the_Tramp', 'http://dbpedia.org/resource/491_(film)', 'http://dbpedia.org/resource/Aida_(1987_film)', \"http://dbpedia.org/resource/All_the_World's_Delights\", 'http://dbpedia.org/resource/Dragonetti:_The_Ruthless_Contract_Killer', 'http://dbpedia.org/resource/Désirée_(film)', 'http://dbpedia.org/resource/Ebba_the_Movie', 'http://dbpedia.org/resource/Every_Other_Week', 'http://dbpedia.org/resource/Expedition_Linné', 'http://dbpedia.org/resource/Flames_in_the_Dark', 'http://dbpedia.org/resource/Flight_of_the_Eagle', 'http://dbpedia.org/resource/Fram_för_lilla_Märta', 'http://dbpedia.org/resource/Banketten', 'http://dbpedia.org/resource/Bashful_Anton', 'http://dbpedia.org/resource/Bright_Prospects', \"http://dbpedia.org/resource/Brita_in_the_Merchant's_House\", 'http://dbpedia.org/resource/Pappa_polis_(TV_series)', 'http://dbpedia.org/resource/Captured_by_a_Voice', 'http://dbpedia.org/resource/Career_(1938_film)', 'http://dbpedia.org/resource/Charlotte_Löwensköld_(1930_film)', \"http://dbpedia.org/resource/Dante's_Mysteries\", 'http://dbpedia.org/resource/Dinner_for_Two_(1947_film)', 'http://dbpedia.org/resource/Dirty_Diaries', 'http://dbpedia.org/resource/For_Better,_for_Worse_(1938_film)', 'http://dbpedia.org/resource/Good_Friends_and_Faithful_Neighbours_(1938_film)', 'http://dbpedia.org/resource/Good_Friends_and_Faithful_Neighbours_(1960_film)', \"http://dbpedia.org/resource/Goransson's_Boy\", 'http://dbpedia.org/resource/Harald_the_Stalwart', 'http://dbpedia.org/resource/His_Majesty_Must_Wait', 'http://dbpedia.org/resource/It_Is_My_Music', 'http://dbpedia.org/resource/It_Pays_to_Advertise_(1936_film)', \"http://dbpedia.org/resource/Kalle's_Inn\", 'http://dbpedia.org/resource/Kalle_Karlsson_of_Jularbo', 'http://dbpedia.org/resource/Katrina_(1943_film)', 'http://dbpedia.org/resource/Knockout_at_the_Breakfast_Club', 'http://dbpedia.org/resource/The_Dangerous_Game_(1933_film)', 'http://dbpedia.org/resource/The_Glass_Mountain_(1953_film)', 'http://dbpedia.org/resource/Lucky_Young_Lady', 'http://dbpedia.org/resource/Resan_till_dej', 'http://dbpedia.org/resource/Maria_of_Kvarngarden', 'http://dbpedia.org/resource/Hamsun_(film)', 'http://dbpedia.org/resource/Hanna_in_Society', 'http://dbpedia.org/resource/Heaven_and_Pancake', 'http://dbpedia.org/resource/His_Excellency_(1944_film)', \"http://dbpedia.org/resource/His_Life's_Match\", 'http://dbpedia.org/resource/Jack_of_Hearts_(1950_film)', 'http://dbpedia.org/resource/Jag_är_din_krigare', 'http://dbpedia.org/resource/Jalla!_Jalla!', 'http://dbpedia.org/resource/Count_Only_the_Happy_Moments', 'http://dbpedia.org/resource/Count_Svensson', 'http://dbpedia.org/resource/The_Architecture_of_Doom', 'http://dbpedia.org/resource/The_Crown_Jewels_(film)', 'http://dbpedia.org/resource/The_Family_Secret_(1936_film)', 'http://dbpedia.org/resource/The_Final_Countdown_Tour_1986:_Live_in_Sweden_–_20th_Anniversary_Edition', 'http://dbpedia.org/resource/The_Gladiators_(film)', 'http://dbpedia.org/resource/The_Great_Amateur', 'http://dbpedia.org/resource/The_Halo_Is_Slipping', 'http://dbpedia.org/resource/The_Lady_in_Black_(1958_film)', 'http://dbpedia.org/resource/Jens_Mansson_in_America', \"http://dbpedia.org/resource/Soldier's_Reminder\", 'http://dbpedia.org/resource/Stage_Entrance_(film)', 'http://dbpedia.org/resource/U-Boat_39', 'http://dbpedia.org/resource/Young_Blood_(1943_film)', 'http://dbpedia.org/resource/Young_Summer_(film)', 'http://dbpedia.org/resource/Youth_in_Danger', 'http://dbpedia.org/resource/Arn:_The_Knight_Templar', 'http://dbpedia.org/resource/As_It_Is_in_Heaven', 'http://dbpedia.org/resource/A_Crime_(1940_film)', 'http://dbpedia.org/resource/A_Cruise_in_the_Albertina', 'http://dbpedia.org/resource/A_Difficult_Parish', \"http://dbpedia.org/resource/A_Doll's_House_(1956_film)\", \"http://dbpedia.org/resource/A_Dreamer's_Journey_(film)\", 'http://dbpedia.org/resource/A_Ghost_on_Holiday', 'http://dbpedia.org/resource/A_Girl_for_Me', 'http://dbpedia.org/resource/A_Goat_in_the_Garden', 'http://dbpedia.org/resource/A_Lion_in_Town', 'http://dbpedia.org/resource/A_Little_Nest', 'http://dbpedia.org/resource/A_Night_at_Glimmingehus', 'http://dbpedia.org/resource/A_Night_in_the_Archipelago', 'http://dbpedia.org/resource/A_Night_of_Love_by_the_Öresund', 'http://dbpedia.org/resource/A_Real_Man_(film)', 'http://dbpedia.org/resource/A_Sailor_on_Horseback', 'http://dbpedia.org/resource/A_Stolen_Waltz', 'http://dbpedia.org/resource/A_Swedish_Tiger_(film)', 'http://dbpedia.org/resource/A_Wedding_Night_at_Stjarnehov', 'http://dbpedia.org/resource/Adolf_Strongarm', 'http://dbpedia.org/resource/Adventure_(1936_film)', 'http://dbpedia.org/resource/Adventure_in_Pyjamas', 'http://dbpedia.org/resource/Adventurer_(film)', 'http://dbpedia.org/resource/Affairs_of_a_Model', 'http://dbpedia.org/resource/Charlie_Strapp_and_Froggy_Ball_Flying_High', 'http://dbpedia.org/resource/Johansson_and_Vestman', 'http://dbpedia.org/resource/Jönssonligan_dyker_upp_igen', 'http://dbpedia.org/resource/Jönssonligan_får_guldfeber', 'http://dbpedia.org/resource/Jönssonligan_och_Dynamit-Harry', 'http://dbpedia.org/resource/Jönssonligan_och_den_svarta_diamanten', 'http://dbpedia.org/resource/Jönssonligan_spelar_högt', 'http://dbpedia.org/resource/Jönssonligans_största_kupp', 'http://dbpedia.org/resource/Kalle_Stropp,_Grodan_Boll_och_deras_vänner', 'http://dbpedia.org/resource/Kalle_Stropp_och_Grodan_Boll_räddar_Hönan', 'http://dbpedia.org/resource/Karlsson_på_taket_(film)', \"http://dbpedia.org/resource/L'imitateur\", 'http://dbpedia.org/resource/Big_Lasse_of_Delsbo', 'http://dbpedia.org/resource/Blizzard_(1944_film)', 'http://dbpedia.org/resource/Blonde_in_Bondage', 'http://dbpedia.org/resource/Blondie,_Beef_and_the_Banana', 'http://dbpedia.org/resource/Blue_Sky_(1955_film)', 'http://dbpedia.org/resource/Summer_and_Sinners', 'http://dbpedia.org/resource/Sunshine_Follows_Rain', 'http://dbpedia.org/resource/Swedenhielms', 'http://dbpedia.org/resource/Sällskapsresan_2_–_Snowroller', 'http://dbpedia.org/resource/Sökarna', 'http://dbpedia.org/resource/Her_Little_Majesty_(1939_film)', 'http://dbpedia.org/resource/Her_Melody', 'http://dbpedia.org/resource/Heroes_in_Yellow_and_Blue', 'http://dbpedia.org/resource/Hidden_in_the_Fog', 'http://dbpedia.org/resource/Hide_and_Seek_(1963_film)', 'http://dbpedia.org/resource/Terrorists:_The_Kids_They_Sentenced', 'http://dbpedia.org/resource/The_Dress_(1964_film)', 'http://dbpedia.org/resource/The_Girl_from_the_Marsh_Croft_(1947_film)', 'http://dbpedia.org/resource/The_Great_Love_(1938_film)', 'http://dbpedia.org/resource/The_Invisible_Wall_(1944_film)', 'http://dbpedia.org/resource/The_People_of_Simlang_Valley_(1947_film)', 'http://dbpedia.org/resource/The_Street_(1949_film)', 'http://dbpedia.org/resource/The_Three_of_Us_(1940_film)', 'http://dbpedia.org/resource/The_Vicious_Circle_(1967_film)', \"http://dbpedia.org/resource/The_Österman_Brothers'_Virago_(1932_film)\", \"http://dbpedia.org/resource/The_Österman_Brothers'_Virago_(1945_film)\", 'http://dbpedia.org/resource/Tired_Theodore_(1945_film)', 'http://dbpedia.org/resource/Tonight_or_Never_(1941_film)', \"http://dbpedia.org/resource/Mister_Collins'_Adventure\", 'http://dbpedia.org/resource/Modern_Wives', 'http://dbpedia.org/resource/Realm_of_Man', 'http://dbpedia.org/resource/Salka_Valka', 'http://dbpedia.org/resource/The_Andersson_Family', 'http://dbpedia.org/resource/Dolly_Takes_a_Chance', \"http://dbpedia.org/resource/Don't_Cry_Wolf_(film)\", \"http://dbpedia.org/resource/Don't_Give_Up_(film)\", \"http://dbpedia.org/resource/Art_for_Art's_Sake_(film)\", \"http://dbpedia.org/resource/Augusta's_Little_Misstep\", 'http://dbpedia.org/resource/Bom_the_Flyer', \"http://dbpedia.org/resource/Boman's_Boy\", 'http://dbpedia.org/resource/Pippi_on_the_Run', 'http://dbpedia.org/resource/Solstorm', 'http://dbpedia.org/resource/Som_folk_är_mest', 'http://dbpedia.org/resource/Circus_(1939_film)', 'http://dbpedia.org/resource/Classmates_(1952_film)', 'http://dbpedia.org/resource/Fiancée_for_Hire', \"http://dbpedia.org/resource/Guest_at_One's_Own_Home\", 'http://dbpedia.org/resource/Ticket_to_Paradise_(1962_film)', 'http://dbpedia.org/resource/Wanted_(1939_film)', 'http://dbpedia.org/resource/Håkan_Bråkan_&_Josef', 'http://dbpedia.org/resource/I_Am_Curious_(Blue)', 'http://dbpedia.org/resource/I_Am_Curious_(Yellow)', 'http://dbpedia.org/resource/I_trollskogen', 'http://dbpedia.org/resource/If_I_Could_Marry_the_Minister', 'http://dbpedia.org/resource/Illusive_Tracks', 'http://dbpedia.org/resource/Interlude_(1946_film)', 'http://dbpedia.org/resource/Intermezzo_(1936_film)', 'http://dbpedia.org/resource/Kiss_Her!', 'http://dbpedia.org/resource/Kärlekens_decimaler', 'http://dbpedia.org/resource/Kärleksön', 'http://dbpedia.org/resource/Nattbuss_807', 'http://dbpedia.org/resource/Ocean_Breakers', 'http://dbpedia.org/resource/Offside_(2006_Swedish_film)', 'http://dbpedia.org/resource/Ombyte_av_tåg', 'http://dbpedia.org/resource/On_a_Bench_in_a_Park', 'http://dbpedia.org/resource/On_the_Loose_(1985_film)', 'http://dbpedia.org/resource/Once_in_a_Lifetime_(2000_film)', 'http://dbpedia.org/resource/Only_a_Mother', 'http://dbpedia.org/resource/Carnival_Evening', 'http://dbpedia.org/resource/Ratty_(film)', \"http://dbpedia.org/resource/Servant's_Entrance\", 'http://dbpedia.org/resource/Seventh_Heaven_(1956_film)', 'http://dbpedia.org/resource/You,_the_Living', 'http://dbpedia.org/resource/You_Are_My_Adventure', 'http://dbpedia.org/resource/Longing_for_the_Sea', 'http://dbpedia.org/resource/Maria_(1947_film)', 'http://dbpedia.org/resource/Marianne_(1953_film)', 'http://dbpedia.org/resource/Russian_Flu_(film)', 'http://dbpedia.org/resource/Saturday_Nights_(film)', 'http://dbpedia.org/resource/Say_It_with_Music_(1929_film)', 'http://dbpedia.org/resource/Sin_(1948_film)', 'http://dbpedia.org/resource/Siska_(film)', 'http://dbpedia.org/resource/The_Shadow_(1953_film)', 'http://dbpedia.org/resource/The_Two_of_Us_(1930_film)', 'http://dbpedia.org/resource/The_Two_of_Us_(1939_film)', 'http://dbpedia.org/resource/The_Unicorn_(1955_film)', 'http://dbpedia.org/resource/Violence_(1955_film)', 'http://dbpedia.org/resource/Neglected_by_His_Wife', 'http://dbpedia.org/resource/Never_in_Your_Life', 'http://dbpedia.org/resource/Night_in_Port', 'http://dbpedia.org/resource/Sara_Learns_Manners', 'http://dbpedia.org/resource/Ursula,_the_Girl_from_the_Finnish_Forests', 'http://dbpedia.org/resource/Guttersnipes_(film)', 'http://dbpedia.org/resource/I_Am_Fire_and_Air', 'http://dbpedia.org/resource/I_Am_with_You_(1948_film)', 'http://dbpedia.org/resource/I_Killed', 'http://dbpedia.org/resource/I_Love_You_Karlsson', 'http://dbpedia.org/resource/Imprisoned_Women', 'http://dbpedia.org/resource/In_Darkest_Smaland', 'http://dbpedia.org/resource/In_Lilac_Time', 'http://dbpedia.org/resource/In_Paradise', 'http://dbpedia.org/resource/In_the_Arms_of_the_Sea', 'http://dbpedia.org/resource/Little_Napoleon_(film)', 'http://dbpedia.org/resource/Live_Dangerously', 'http://dbpedia.org/resource/Love_(1952_film)', 'http://dbpedia.org/resource/Lucky_Devils_(1932_film)', 'http://dbpedia.org/resource/The_Lady_in_White_(film)', 'http://dbpedia.org/resource/Oh,_Such_a_Night!', 'http://dbpedia.org/resource/Oh,_What_a_Boy!', 'http://dbpedia.org/resource/While_the_Door_Was_Locked', 'http://dbpedia.org/resource/Sökarna:_Återkomsten', 'http://dbpedia.org/resource/Playing_on_the_Rainbow', 'http://dbpedia.org/resource/The_Island_at_the_Top_of_the_World', 'http://dbpedia.org/resource/Sun_Over_Klara', 'http://dbpedia.org/resource/Sun_over_Sweden', 'http://dbpedia.org/resource/The_Kiss_on_the_Cruise', 'http://dbpedia.org/resource/The_Koster_Waltz', 'http://dbpedia.org/resource/The_Lady_Becomes_a_Maid', 'http://dbpedia.org/resource/The_Light_from_Lund', 'http://dbpedia.org/resource/The_Love_Express_(1932_film)', 'http://dbpedia.org/resource/The_Loveliest_Thing_on_Earth', 'http://dbpedia.org/resource/The_Magnificent_Lie_(1955_film)', 'http://dbpedia.org/resource/The_Marriage_Game', 'http://dbpedia.org/resource/The_Minister_of_Uddarbo', 'http://dbpedia.org/resource/The_Motor_Cavaliers', 'http://dbpedia.org/resource/Eva_Goes_Aboard', 'http://dbpedia.org/resource/Fired_(1934_film)', 'http://dbpedia.org/resource/Getting_Married_(1955_film)', \"http://dbpedia.org/resource/Man's_Woman_(1945_film)\", 'http://dbpedia.org/resource/Say_It_with_Flowers_(1952_film)', 'http://dbpedia.org/resource/Synnöve_Solbakken_(1957_film)', 'http://dbpedia.org/resource/Unfriendly_Relations', 'http://dbpedia.org/resource/Unmarried_Mothers_(1953_film)', 'http://dbpedia.org/resource/Mother_Gets_Married', 'http://dbpedia.org/resource/Mother_Takes_a_Vacation', 'http://dbpedia.org/resource/Pimpernel_Svensson', 'http://dbpedia.org/resource/Poor_Ferdinand', 'http://dbpedia.org/resource/Poor_Little_Sven', 'http://dbpedia.org/resource/Poor_Millionaires_(1936_film)', 'http://dbpedia.org/resource/Secret_Svensson', 'http://dbpedia.org/resource/Seventeen_Years_Old', 'http://dbpedia.org/resource/Simon_the_Sinner', 'http://dbpedia.org/resource/Son_of_the_Sea', 'http://dbpedia.org/resource/Song_of_Stockholm', 'http://dbpedia.org/resource/Sonja_(film)', 'http://dbpedia.org/resource/The_Atlantic_Adventure', 'http://dbpedia.org/resource/The_Balloon', 'http://dbpedia.org/resource/The_Beat_of_Wings_in_the_Night', 'http://dbpedia.org/resource/The_Bells_of_the_Old_Town', 'http://dbpedia.org/resource/The_Beloved_Game', 'http://dbpedia.org/resource/The_Biscuit_(film)', 'http://dbpedia.org/resource/The_Bjorck_Family', 'http://dbpedia.org/resource/The_Boys_of_Number_Fifty_Seven', 'http://dbpedia.org/resource/The_Bride_Came_Through_the_Ceiling', \"http://dbpedia.org/resource/The_Brothers'_Woman\", 'http://dbpedia.org/resource/The_Case_of_Ingegerd_Bremssen', 'http://dbpedia.org/resource/The_Chieftain_of_Göinge', 'http://dbpedia.org/resource/The_Clang_of_the_Pick', \"http://dbpedia.org/resource/Uncle's\", \"http://dbpedia.org/resource/No_Man's_Woman_(1953_film)\", 'http://dbpedia.org/resource/Ride_Tonight!', 'http://dbpedia.org/resource/Perhaps_a_Gentleman_(1950_film)', 'http://dbpedia.org/resource/Perhaps_a_Poet', 'http://dbpedia.org/resource/People_of_Hälsingland', 'http://dbpedia.org/resource/People_of_the_Finnish_Forests', 'http://dbpedia.org/resource/Restaurant_Intim', 'http://dbpedia.org/resource/She_Came_Like_the_Wind', 'http://dbpedia.org/resource/She_Thought_It_Was_Him', 'http://dbpedia.org/resource/Ship_Ahoy!_(film)', 'http://dbpedia.org/resource/The_False_Millionaire', 'http://dbpedia.org/resource/The_Crazy_Family_(1940_film)', 'http://dbpedia.org/resource/The_Dance_Hall', 'http://dbpedia.org/resource/The_Devil_and_the_Smalander_(1949_film)', 'http://dbpedia.org/resource/The_Die_Is_Cast_(film)', \"http://dbpedia.org/resource/The_Doctor's_Secret_(1930_film)\", 'http://dbpedia.org/resource/The_Emperor_of_Portugallia_(film)', 'http://dbpedia.org/resource/The_Fight_Continues', 'http://dbpedia.org/resource/The_Forest_Is_Our_Heritage', \"http://dbpedia.org/resource/The_Night_Watchman's_Wife\", 'http://dbpedia.org/resource/The_Old_Clock_at_Ronneberga', 'http://dbpedia.org/resource/The_Pale_Count', 'http://dbpedia.org/resource/The_People_of_Bergslagen', 'http://dbpedia.org/resource/The_People_of_Hemsö_(1944_film)', 'http://dbpedia.org/resource/The_People_of_Hemsö_(1955_film)', 'http://dbpedia.org/resource/The_People_of_Högbogården', 'http://dbpedia.org/resource/The_Poetry_of_Ådalen_(1947_film)', 'http://dbpedia.org/resource/The_Poor_Millionaire_(1941_film)', 'http://dbpedia.org/resource/The_Quartet_That_Split_Up_(1936_film)', 'http://dbpedia.org/resource/The_Quartet_That_Split_Up_(1950_film)', 'http://dbpedia.org/resource/The_Realm_of_the_Rye_(1950_film)', 'http://dbpedia.org/resource/The_Red_Horses_(1954_film)', 'http://dbpedia.org/resource/The_Road_to_Klockrike', 'http://dbpedia.org/resource/The_Rose_of_Tistelön', 'http://dbpedia.org/resource/The_Saucepan_Journey', 'http://dbpedia.org/resource/The_Serious_Game_(film)', 'http://dbpedia.org/resource/The_Sixth_Commandment_(1947_film)', 'http://dbpedia.org/resource/The_Song_of_the_Scarlet_Flower_(1956_film)', 'http://dbpedia.org/resource/The_Song_to_Her', 'http://dbpedia.org/resource/The_Stranger_from_the_Sky', 'http://dbpedia.org/resource/The_Summer_Wind_Blows', 'http://dbpedia.org/resource/The_Swedish_Horseman', 'http://dbpedia.org/resource/The_Train_Leaves_at_Nine', 'http://dbpedia.org/resource/The_Vicious_Breed', 'http://dbpedia.org/resource/The_Wedding_Day', 'http://dbpedia.org/resource/The_Wedding_Trip_(1936_film)', 'http://dbpedia.org/resource/The_Wedding_on_Solö', 'http://dbpedia.org/resource/The_Yellow_Clinic', \"http://dbpedia.org/resource/Witches'_Night_(1937_film)\", 'http://dbpedia.org/resource/With_Open_Arms_(1940_film)', 'http://dbpedia.org/resource/Woman_in_White_(film)', 'http://dbpedia.org/resource/Woman_in_a_Fur_Coat', 'http://dbpedia.org/resource/Woman_of_Darkness', 'http://dbpedia.org/resource/Woman_on_Board', 'http://dbpedia.org/resource/Our_Father_and_the_Gypsy', 'http://dbpedia.org/resource/Tjong_i_baljan!', \"http://dbpedia.org/resource/Skipper's_Love\", 'http://dbpedia.org/resource/Skipper_Jansson', 'http://dbpedia.org/resource/Skipper_in_Stormy_Weather', 'http://dbpedia.org/resource/South_of_the_Highway', 'http://dbpedia.org/resource/The_Happy_Tailor', 'http://dbpedia.org/resource/The_Hard_Game', 'http://dbpedia.org/resource/The_Gallows_Man', 'http://dbpedia.org/resource/The_Ghost_Reporter', 'http://dbpedia.org/resource/The_Ghost_of_Bragehus', 'http://dbpedia.org/resource/The_Girl_and_the_Devil', 'http://dbpedia.org/resource/The_Girl_from_Backafall', 'http://dbpedia.org/resource/The_Girl_from_Värmland', 'http://dbpedia.org/resource/The_Girl_from_the_Third_Row', 'http://dbpedia.org/resource/The_Girl_in_Tails_(1956_film)', 'http://dbpedia.org/resource/The_Girl_in_the_Rain_(1955_film)', 'http://dbpedia.org/resource/The_Girls_in_Smaland_(film)', 'http://dbpedia.org/resource/The_Girls_of_Uppakra', 'http://dbpedia.org/resource/The_Green_Lift_(1944_film)', 'http://dbpedia.org/resource/The_Green_Lift_(1952_film)', 'http://dbpedia.org/resource/The_Key_and_the_Ring', 'http://dbpedia.org/resource/Turn_of_the_Century_(film)', 'http://dbpedia.org/resource/Two_Men_and_a_Widow', 'http://dbpedia.org/resource/Two_Stories_Up', 'http://dbpedia.org/resource/Rider_in_Blue', 'http://dbpedia.org/resource/Vagabond_Blacksmiths', 'http://dbpedia.org/resource/Sten_Stensson_Returns', 'http://dbpedia.org/resource/Stopp!_Tänk_på_något_annat', 'http://dbpedia.org/resource/Storm_Over_the_Skerries', 'http://dbpedia.org/resource/Storm_over_Tjurö', 'http://dbpedia.org/resource/Stronger_Than_the_Law', 'http://dbpedia.org/resource/Stupid_Bom', 'http://dbpedia.org/resource/Sunny_Sunberg', 'http://dbpedia.org/resource/Sven_Tusan', 'http://dbpedia.org/resource/Taxi_13_(1954_film)', \"http://dbpedia.org/resource/Teacher's_First_Born\", 'http://dbpedia.org/resource/Åsa-Nisse_(film)', 'http://dbpedia.org/resource/Åsa-Nisse_Goes_Hunting', 'http://dbpedia.org/resource/Åsa-Nisse_as_a_Policeman', 'http://dbpedia.org/resource/Åsa-Nisse_in_Military_Uniform', 'http://dbpedia.org/resource/Åsa-Nisse_on_Holiday', 'http://dbpedia.org/resource/Speed_Fever', 'http://dbpedia.org/resource/Spring_of_Life_(1957_film)', 'http://dbpedia.org/resource/Take_Care_of_Ulla']\n"
     ]
    },
    {
     "name": "stderr",
     "output_type": "stream",
     "text": [
      "\r 24%|██▎       | 236/1000 [03:14<12:32,  1.02it/s]"
     ]
    },
    {
     "name": "stdout",
     "output_type": "stream",
     "text": [
      "\n",
      "results are not of type boolean for sample #1828\n"
     ]
    },
    {
     "name": "stderr",
     "output_type": "stream",
     "text": [
      "\r 24%|██▎       | 237/1000 [03:15<11:36,  1.10it/s]"
     ]
    },
    {
     "name": "stdout",
     "output_type": "stream",
     "text": [
      "\n",
      "empty predicted answer set for sample #1573\n"
     ]
    },
    {
     "name": "stderr",
     "output_type": "stream",
     "text": [
      "\r 24%|██▍       | 238/1000 [03:15<11:01,  1.15it/s]"
     ]
    },
    {
     "name": "stdout",
     "output_type": "stream",
     "text": [
      "\n",
      "predicted answer set was supposed to be empty for sample #4394\n"
     ]
    },
    {
     "name": "stderr",
     "output_type": "stream",
     "text": [
      "\r 24%|██▍       | 239/1000 [03:16<10:32,  1.20it/s]"
     ]
    },
    {
     "name": "stdout",
     "output_type": "stream",
     "text": [
      "\n",
      "empty predicted answer set for sample #4208\n"
     ]
    },
    {
     "name": "stderr",
     "output_type": "stream",
     "text": [
      " 24%|██▍       | 241/1000 [03:18<09:59,  1.27it/s]"
     ]
    },
    {
     "name": "stdout",
     "output_type": "stream",
     "text": [
      "\n",
      "empty predicted answer set for sample #723\n"
     ]
    },
    {
     "name": "stderr",
     "output_type": "stream",
     "text": [
      "\r 24%|██▍       | 242/1000 [03:18<10:06,  1.25it/s]"
     ]
    },
    {
     "name": "stdout",
     "output_type": "stream",
     "text": [
      "\n",
      "empty predicted answer set for sample #4485\n"
     ]
    },
    {
     "name": "stderr",
     "output_type": "stream",
     "text": [
      "\r 24%|██▍       | 243/1000 [03:20<14:11,  1.12s/it]"
     ]
    },
    {
     "name": "stdout",
     "output_type": "stream",
     "text": [
      "\n",
      "empty predicted answer set for sample #1141\n"
     ]
    },
    {
     "name": "stderr",
     "output_type": "stream",
     "text": [
      " 25%|██▍       | 246/1000 [03:22<10:22,  1.21it/s]"
     ]
    },
    {
     "name": "stdout",
     "output_type": "stream",
     "text": [
      "\n",
      "empty predicted answer set for sample #2551\n"
     ]
    },
    {
     "name": "stderr",
     "output_type": "stream",
     "text": [
      "\n"
     ]
    },
    {
     "ename": "KeyboardInterrupt",
     "evalue": "",
     "output_type": "error",
     "traceback": [
      "\u001b[0;31m---------------------------------------------------------------------------\u001b[0m",
      "\u001b[0;31mKeyboardInterrupt\u001b[0m                         Traceback (most recent call last)",
      "\u001b[0;32m<ipython-input-16-9372dd54dfc0>\u001b[0m in \u001b[0;36m<cell line: 61>\u001b[0;34m()\u001b[0m\n\u001b[1;32m     62\u001b[0m     \u001b[0mquery\u001b[0m \u001b[0;34m=\u001b[0m \u001b[0mqueries\u001b[0m\u001b[0;34m[\u001b[0m\u001b[0mi\u001b[0m\u001b[0;34m]\u001b[0m\u001b[0;34m\u001b[0m\u001b[0;34m\u001b[0m\u001b[0m\n\u001b[1;32m     63\u001b[0m     \u001b[0mpred_answers\u001b[0m \u001b[0;34m=\u001b[0m \u001b[0;34m{\u001b[0m\u001b[0;34m}\u001b[0m\u001b[0;34m\u001b[0m\u001b[0;34m\u001b[0m\u001b[0m\n\u001b[0;32m---> 64\u001b[0;31m     \u001b[0mresults\u001b[0m \u001b[0;34m=\u001b[0m \u001b[0mexecute_sparql_query\u001b[0m\u001b[0;34m(\u001b[0m\u001b[0mquery\u001b[0m\u001b[0;34m)\u001b[0m\u001b[0;34m\u001b[0m\u001b[0;34m\u001b[0m\u001b[0m\n\u001b[0m\u001b[1;32m     65\u001b[0m     \u001b[0;32mif\u001b[0m \u001b[0;34m(\u001b[0m\u001b[0mtype\u001b[0m\u001b[0;34m(\u001b[0m\u001b[0mgold_ans\u001b[0m\u001b[0;34m[\u001b[0m\u001b[0mi\u001b[0m\u001b[0;34m]\u001b[0m\u001b[0;34m)\u001b[0m \u001b[0;34m!=\u001b[0m \u001b[0mbool\u001b[0m \u001b[0;32mand\u001b[0m \u001b[0mlen\u001b[0m\u001b[0;34m(\u001b[0m\u001b[0mgold_ans\u001b[0m\u001b[0;34m[\u001b[0m\u001b[0mi\u001b[0m\u001b[0;34m]\u001b[0m\u001b[0;34m)\u001b[0m \u001b[0;34m==\u001b[0m \u001b[0;36m0\u001b[0m\u001b[0;34m)\u001b[0m \u001b[0;32mand\u001b[0m \u001b[0;34m(\u001b[0m\u001b[0;32mnot\u001b[0m \u001b[0mresults\u001b[0m\u001b[0;34m)\u001b[0m\u001b[0;34m:\u001b[0m \u001b[0;31m# if results == None -> syntax error\u001b[0m\u001b[0;34m\u001b[0m\u001b[0;34m\u001b[0m\u001b[0m\n\u001b[1;32m     66\u001b[0m         \u001b[0mprint\u001b[0m\u001b[0;34m(\u001b[0m\u001b[0;34mf'\\nsyntax error for sample #{ids[i]}'\u001b[0m\u001b[0;34m)\u001b[0m\u001b[0;34m\u001b[0m\u001b[0;34m\u001b[0m\u001b[0m\n",
      "\u001b[0;32m<ipython-input-16-9372dd54dfc0>\u001b[0m in \u001b[0;36mexecute_sparql_query\u001b[0;34m(query)\u001b[0m\n\u001b[1;32m     14\u001b[0m \u001b[0;34m\u001b[0m\u001b[0m\n\u001b[1;32m     15\u001b[0m     \u001b[0;32mtry\u001b[0m\u001b[0;34m:\u001b[0m\u001b[0;34m\u001b[0m\u001b[0;34m\u001b[0m\u001b[0m\n\u001b[0;32m---> 16\u001b[0;31m         \u001b[0mresults\u001b[0m \u001b[0;34m=\u001b[0m \u001b[0msparql\u001b[0m\u001b[0;34m.\u001b[0m\u001b[0mqueryAndConvert\u001b[0m\u001b[0;34m(\u001b[0m\u001b[0;34m)\u001b[0m\u001b[0;34m\u001b[0m\u001b[0;34m\u001b[0m\u001b[0m\n\u001b[0m\u001b[1;32m     17\u001b[0m         \u001b[0;32mreturn\u001b[0m \u001b[0mresults\u001b[0m\u001b[0;34m\u001b[0m\u001b[0;34m\u001b[0m\u001b[0m\n\u001b[1;32m     18\u001b[0m     \u001b[0;32mexcept\u001b[0m \u001b[0mException\u001b[0m \u001b[0;32mas\u001b[0m \u001b[0me\u001b[0m\u001b[0;34m:\u001b[0m\u001b[0;34m\u001b[0m\u001b[0;34m\u001b[0m\u001b[0m\n",
      "\u001b[0;32m/usr/local/lib/python3.10/dist-packages/SPARQLWrapper/Wrapper.py\u001b[0m in \u001b[0;36mqueryAndConvert\u001b[0;34m(self)\u001b[0m\n\u001b[1;32m    965\u001b[0m         \u001b[0;34m:\u001b[0m\u001b[0;32mreturn\u001b[0m\u001b[0;34m:\u001b[0m \u001b[0mthe\u001b[0m \u001b[0mconverted\u001b[0m \u001b[0mquery\u001b[0m \u001b[0mresult\u001b[0m\u001b[0;34m.\u001b[0m \u001b[0mSee\u001b[0m \u001b[0mthe\u001b[0m \u001b[0mconversion\u001b[0m \u001b[0mmethods\u001b[0m \u001b[0;32mfor\u001b[0m \u001b[0mmore\u001b[0m \u001b[0mdetails\u001b[0m\u001b[0;34m.\u001b[0m\u001b[0;34m\u001b[0m\u001b[0;34m\u001b[0m\u001b[0m\n\u001b[1;32m    966\u001b[0m         \"\"\"\n\u001b[0;32m--> 967\u001b[0;31m         \u001b[0mres\u001b[0m \u001b[0;34m=\u001b[0m \u001b[0mself\u001b[0m\u001b[0;34m.\u001b[0m\u001b[0mquery\u001b[0m\u001b[0;34m(\u001b[0m\u001b[0;34m)\u001b[0m\u001b[0;34m\u001b[0m\u001b[0;34m\u001b[0m\u001b[0m\n\u001b[0m\u001b[1;32m    968\u001b[0m         \u001b[0;32mreturn\u001b[0m \u001b[0mres\u001b[0m\u001b[0;34m.\u001b[0m\u001b[0mconvert\u001b[0m\u001b[0;34m(\u001b[0m\u001b[0;34m)\u001b[0m\u001b[0;34m\u001b[0m\u001b[0;34m\u001b[0m\u001b[0m\n\u001b[1;32m    969\u001b[0m \u001b[0;34m\u001b[0m\u001b[0m\n",
      "\u001b[0;32m/usr/local/lib/python3.10/dist-packages/SPARQLWrapper/Wrapper.py\u001b[0m in \u001b[0;36mquery\u001b[0;34m(self)\u001b[0m\n\u001b[1;32m    958\u001b[0m         \u001b[0;34m:\u001b[0m\u001b[0mrtype\u001b[0m\u001b[0;34m:\u001b[0m \u001b[0;34m:\u001b[0m\u001b[0;32mclass\u001b[0m\u001b[0;34m:\u001b[0m\u001b[0;31m`\u001b[0m\u001b[0mQueryResult\u001b[0m\u001b[0;31m`\u001b[0m \u001b[0minstance\u001b[0m\u001b[0;34m\u001b[0m\u001b[0;34m\u001b[0m\u001b[0m\n\u001b[1;32m    959\u001b[0m         \"\"\"\n\u001b[0;32m--> 960\u001b[0;31m         \u001b[0;32mreturn\u001b[0m \u001b[0mQueryResult\u001b[0m\u001b[0;34m(\u001b[0m\u001b[0mself\u001b[0m\u001b[0;34m.\u001b[0m\u001b[0m_query\u001b[0m\u001b[0;34m(\u001b[0m\u001b[0;34m)\u001b[0m\u001b[0;34m)\u001b[0m\u001b[0;34m\u001b[0m\u001b[0;34m\u001b[0m\u001b[0m\n\u001b[0m\u001b[1;32m    961\u001b[0m \u001b[0;34m\u001b[0m\u001b[0m\n\u001b[1;32m    962\u001b[0m     \u001b[0;32mdef\u001b[0m \u001b[0mqueryAndConvert\u001b[0m\u001b[0;34m(\u001b[0m\u001b[0mself\u001b[0m\u001b[0;34m)\u001b[0m \u001b[0;34m->\u001b[0m \u001b[0;34m\"QueryResult.ConvertResult\"\u001b[0m\u001b[0;34m:\u001b[0m\u001b[0;34m\u001b[0m\u001b[0;34m\u001b[0m\u001b[0m\n",
      "\u001b[0;32m/usr/local/lib/python3.10/dist-packages/SPARQLWrapper/Wrapper.py\u001b[0m in \u001b[0;36m_query\u001b[0;34m(self)\u001b[0m\n\u001b[1;32m    924\u001b[0m                 \u001b[0mresponse\u001b[0m \u001b[0;34m=\u001b[0m \u001b[0murlopener\u001b[0m\u001b[0;34m(\u001b[0m\u001b[0mrequest\u001b[0m\u001b[0;34m,\u001b[0m \u001b[0mtimeout\u001b[0m\u001b[0;34m=\u001b[0m\u001b[0mself\u001b[0m\u001b[0;34m.\u001b[0m\u001b[0mtimeout\u001b[0m\u001b[0;34m)\u001b[0m\u001b[0;34m\u001b[0m\u001b[0;34m\u001b[0m\u001b[0m\n\u001b[1;32m    925\u001b[0m             \u001b[0;32melse\u001b[0m\u001b[0;34m:\u001b[0m\u001b[0;34m\u001b[0m\u001b[0;34m\u001b[0m\u001b[0m\n\u001b[0;32m--> 926\u001b[0;31m                 \u001b[0mresponse\u001b[0m \u001b[0;34m=\u001b[0m \u001b[0murlopener\u001b[0m\u001b[0;34m(\u001b[0m\u001b[0mrequest\u001b[0m\u001b[0;34m)\u001b[0m\u001b[0;34m\u001b[0m\u001b[0;34m\u001b[0m\u001b[0m\n\u001b[0m\u001b[1;32m    927\u001b[0m             \u001b[0;32mreturn\u001b[0m \u001b[0mresponse\u001b[0m\u001b[0;34m,\u001b[0m \u001b[0mself\u001b[0m\u001b[0;34m.\u001b[0m\u001b[0mreturnFormat\u001b[0m\u001b[0;34m\u001b[0m\u001b[0;34m\u001b[0m\u001b[0m\n\u001b[1;32m    928\u001b[0m         \u001b[0;32mexcept\u001b[0m \u001b[0murllib\u001b[0m\u001b[0;34m.\u001b[0m\u001b[0merror\u001b[0m\u001b[0;34m.\u001b[0m\u001b[0mHTTPError\u001b[0m \u001b[0;32mas\u001b[0m \u001b[0me\u001b[0m\u001b[0;34m:\u001b[0m\u001b[0;34m\u001b[0m\u001b[0;34m\u001b[0m\u001b[0m\n",
      "\u001b[0;32m/usr/lib/python3.10/urllib/request.py\u001b[0m in \u001b[0;36murlopen\u001b[0;34m(url, data, timeout, cafile, capath, cadefault, context)\u001b[0m\n\u001b[1;32m    214\u001b[0m     \u001b[0;32melse\u001b[0m\u001b[0;34m:\u001b[0m\u001b[0;34m\u001b[0m\u001b[0;34m\u001b[0m\u001b[0m\n\u001b[1;32m    215\u001b[0m         \u001b[0mopener\u001b[0m \u001b[0;34m=\u001b[0m \u001b[0m_opener\u001b[0m\u001b[0;34m\u001b[0m\u001b[0;34m\u001b[0m\u001b[0m\n\u001b[0;32m--> 216\u001b[0;31m     \u001b[0;32mreturn\u001b[0m \u001b[0mopener\u001b[0m\u001b[0;34m.\u001b[0m\u001b[0mopen\u001b[0m\u001b[0;34m(\u001b[0m\u001b[0murl\u001b[0m\u001b[0;34m,\u001b[0m \u001b[0mdata\u001b[0m\u001b[0;34m,\u001b[0m \u001b[0mtimeout\u001b[0m\u001b[0;34m)\u001b[0m\u001b[0;34m\u001b[0m\u001b[0;34m\u001b[0m\u001b[0m\n\u001b[0m\u001b[1;32m    217\u001b[0m \u001b[0;34m\u001b[0m\u001b[0m\n\u001b[1;32m    218\u001b[0m \u001b[0;32mdef\u001b[0m \u001b[0minstall_opener\u001b[0m\u001b[0;34m(\u001b[0m\u001b[0mopener\u001b[0m\u001b[0;34m)\u001b[0m\u001b[0;34m:\u001b[0m\u001b[0;34m\u001b[0m\u001b[0;34m\u001b[0m\u001b[0m\n",
      "\u001b[0;32m/usr/lib/python3.10/urllib/request.py\u001b[0m in \u001b[0;36mopen\u001b[0;34m(self, fullurl, data, timeout)\u001b[0m\n\u001b[1;32m    517\u001b[0m \u001b[0;34m\u001b[0m\u001b[0m\n\u001b[1;32m    518\u001b[0m         \u001b[0msys\u001b[0m\u001b[0;34m.\u001b[0m\u001b[0maudit\u001b[0m\u001b[0;34m(\u001b[0m\u001b[0;34m'urllib.Request'\u001b[0m\u001b[0;34m,\u001b[0m \u001b[0mreq\u001b[0m\u001b[0;34m.\u001b[0m\u001b[0mfull_url\u001b[0m\u001b[0;34m,\u001b[0m \u001b[0mreq\u001b[0m\u001b[0;34m.\u001b[0m\u001b[0mdata\u001b[0m\u001b[0;34m,\u001b[0m \u001b[0mreq\u001b[0m\u001b[0;34m.\u001b[0m\u001b[0mheaders\u001b[0m\u001b[0;34m,\u001b[0m \u001b[0mreq\u001b[0m\u001b[0;34m.\u001b[0m\u001b[0mget_method\u001b[0m\u001b[0;34m(\u001b[0m\u001b[0;34m)\u001b[0m\u001b[0;34m)\u001b[0m\u001b[0;34m\u001b[0m\u001b[0;34m\u001b[0m\u001b[0m\n\u001b[0;32m--> 519\u001b[0;31m         \u001b[0mresponse\u001b[0m \u001b[0;34m=\u001b[0m \u001b[0mself\u001b[0m\u001b[0;34m.\u001b[0m\u001b[0m_open\u001b[0m\u001b[0;34m(\u001b[0m\u001b[0mreq\u001b[0m\u001b[0;34m,\u001b[0m \u001b[0mdata\u001b[0m\u001b[0;34m)\u001b[0m\u001b[0;34m\u001b[0m\u001b[0;34m\u001b[0m\u001b[0m\n\u001b[0m\u001b[1;32m    520\u001b[0m \u001b[0;34m\u001b[0m\u001b[0m\n\u001b[1;32m    521\u001b[0m         \u001b[0;31m# post-process response\u001b[0m\u001b[0;34m\u001b[0m\u001b[0;34m\u001b[0m\u001b[0m\n",
      "\u001b[0;32m/usr/lib/python3.10/urllib/request.py\u001b[0m in \u001b[0;36m_open\u001b[0;34m(self, req, data)\u001b[0m\n\u001b[1;32m    534\u001b[0m \u001b[0;34m\u001b[0m\u001b[0m\n\u001b[1;32m    535\u001b[0m         \u001b[0mprotocol\u001b[0m \u001b[0;34m=\u001b[0m \u001b[0mreq\u001b[0m\u001b[0;34m.\u001b[0m\u001b[0mtype\u001b[0m\u001b[0;34m\u001b[0m\u001b[0;34m\u001b[0m\u001b[0m\n\u001b[0;32m--> 536\u001b[0;31m         result = self._call_chain(self.handle_open, protocol, protocol +\n\u001b[0m\u001b[1;32m    537\u001b[0m                                   '_open', req)\n\u001b[1;32m    538\u001b[0m         \u001b[0;32mif\u001b[0m \u001b[0mresult\u001b[0m\u001b[0;34m:\u001b[0m\u001b[0;34m\u001b[0m\u001b[0;34m\u001b[0m\u001b[0m\n",
      "\u001b[0;32m/usr/lib/python3.10/urllib/request.py\u001b[0m in \u001b[0;36m_call_chain\u001b[0;34m(self, chain, kind, meth_name, *args)\u001b[0m\n\u001b[1;32m    494\u001b[0m         \u001b[0;32mfor\u001b[0m \u001b[0mhandler\u001b[0m \u001b[0;32min\u001b[0m \u001b[0mhandlers\u001b[0m\u001b[0;34m:\u001b[0m\u001b[0;34m\u001b[0m\u001b[0;34m\u001b[0m\u001b[0m\n\u001b[1;32m    495\u001b[0m             \u001b[0mfunc\u001b[0m \u001b[0;34m=\u001b[0m \u001b[0mgetattr\u001b[0m\u001b[0;34m(\u001b[0m\u001b[0mhandler\u001b[0m\u001b[0;34m,\u001b[0m \u001b[0mmeth_name\u001b[0m\u001b[0;34m)\u001b[0m\u001b[0;34m\u001b[0m\u001b[0;34m\u001b[0m\u001b[0m\n\u001b[0;32m--> 496\u001b[0;31m             \u001b[0mresult\u001b[0m \u001b[0;34m=\u001b[0m \u001b[0mfunc\u001b[0m\u001b[0;34m(\u001b[0m\u001b[0;34m*\u001b[0m\u001b[0margs\u001b[0m\u001b[0;34m)\u001b[0m\u001b[0;34m\u001b[0m\u001b[0;34m\u001b[0m\u001b[0m\n\u001b[0m\u001b[1;32m    497\u001b[0m             \u001b[0;32mif\u001b[0m \u001b[0mresult\u001b[0m \u001b[0;32mis\u001b[0m \u001b[0;32mnot\u001b[0m \u001b[0;32mNone\u001b[0m\u001b[0;34m:\u001b[0m\u001b[0;34m\u001b[0m\u001b[0;34m\u001b[0m\u001b[0m\n\u001b[1;32m    498\u001b[0m                 \u001b[0;32mreturn\u001b[0m \u001b[0mresult\u001b[0m\u001b[0;34m\u001b[0m\u001b[0;34m\u001b[0m\u001b[0m\n",
      "\u001b[0;32m/usr/lib/python3.10/urllib/request.py\u001b[0m in \u001b[0;36mhttp_open\u001b[0;34m(self, req)\u001b[0m\n\u001b[1;32m   1375\u001b[0m \u001b[0;34m\u001b[0m\u001b[0m\n\u001b[1;32m   1376\u001b[0m     \u001b[0;32mdef\u001b[0m \u001b[0mhttp_open\u001b[0m\u001b[0;34m(\u001b[0m\u001b[0mself\u001b[0m\u001b[0;34m,\u001b[0m \u001b[0mreq\u001b[0m\u001b[0;34m)\u001b[0m\u001b[0;34m:\u001b[0m\u001b[0;34m\u001b[0m\u001b[0;34m\u001b[0m\u001b[0m\n\u001b[0;32m-> 1377\u001b[0;31m         \u001b[0;32mreturn\u001b[0m \u001b[0mself\u001b[0m\u001b[0;34m.\u001b[0m\u001b[0mdo_open\u001b[0m\u001b[0;34m(\u001b[0m\u001b[0mhttp\u001b[0m\u001b[0;34m.\u001b[0m\u001b[0mclient\u001b[0m\u001b[0;34m.\u001b[0m\u001b[0mHTTPConnection\u001b[0m\u001b[0;34m,\u001b[0m \u001b[0mreq\u001b[0m\u001b[0;34m)\u001b[0m\u001b[0;34m\u001b[0m\u001b[0;34m\u001b[0m\u001b[0m\n\u001b[0m\u001b[1;32m   1378\u001b[0m \u001b[0;34m\u001b[0m\u001b[0m\n\u001b[1;32m   1379\u001b[0m     \u001b[0mhttp_request\u001b[0m \u001b[0;34m=\u001b[0m \u001b[0mAbstractHTTPHandler\u001b[0m\u001b[0;34m.\u001b[0m\u001b[0mdo_request_\u001b[0m\u001b[0;34m\u001b[0m\u001b[0;34m\u001b[0m\u001b[0m\n",
      "\u001b[0;32m/usr/lib/python3.10/urllib/request.py\u001b[0m in \u001b[0;36mdo_open\u001b[0;34m(self, http_class, req, **http_conn_args)\u001b[0m\n\u001b[1;32m   1346\u001b[0m         \u001b[0;32mtry\u001b[0m\u001b[0;34m:\u001b[0m\u001b[0;34m\u001b[0m\u001b[0;34m\u001b[0m\u001b[0m\n\u001b[1;32m   1347\u001b[0m             \u001b[0;32mtry\u001b[0m\u001b[0;34m:\u001b[0m\u001b[0;34m\u001b[0m\u001b[0;34m\u001b[0m\u001b[0m\n\u001b[0;32m-> 1348\u001b[0;31m                 h.request(req.get_method(), req.selector, req.data, headers,\n\u001b[0m\u001b[1;32m   1349\u001b[0m                           encode_chunked=req.has_header('Transfer-encoding'))\n\u001b[1;32m   1350\u001b[0m             \u001b[0;32mexcept\u001b[0m \u001b[0mOSError\u001b[0m \u001b[0;32mas\u001b[0m \u001b[0merr\u001b[0m\u001b[0;34m:\u001b[0m \u001b[0;31m# timeout error\u001b[0m\u001b[0;34m\u001b[0m\u001b[0;34m\u001b[0m\u001b[0m\n",
      "\u001b[0;32m/usr/lib/python3.10/http/client.py\u001b[0m in \u001b[0;36mrequest\u001b[0;34m(self, method, url, body, headers, encode_chunked)\u001b[0m\n\u001b[1;32m   1281\u001b[0m                 encode_chunked=False):\n\u001b[1;32m   1282\u001b[0m         \u001b[0;34m\"\"\"Send a complete request to the server.\"\"\"\u001b[0m\u001b[0;34m\u001b[0m\u001b[0;34m\u001b[0m\u001b[0m\n\u001b[0;32m-> 1283\u001b[0;31m         \u001b[0mself\u001b[0m\u001b[0;34m.\u001b[0m\u001b[0m_send_request\u001b[0m\u001b[0;34m(\u001b[0m\u001b[0mmethod\u001b[0m\u001b[0;34m,\u001b[0m \u001b[0murl\u001b[0m\u001b[0;34m,\u001b[0m \u001b[0mbody\u001b[0m\u001b[0;34m,\u001b[0m \u001b[0mheaders\u001b[0m\u001b[0;34m,\u001b[0m \u001b[0mencode_chunked\u001b[0m\u001b[0;34m)\u001b[0m\u001b[0;34m\u001b[0m\u001b[0;34m\u001b[0m\u001b[0m\n\u001b[0m\u001b[1;32m   1284\u001b[0m \u001b[0;34m\u001b[0m\u001b[0m\n\u001b[1;32m   1285\u001b[0m     \u001b[0;32mdef\u001b[0m \u001b[0m_send_request\u001b[0m\u001b[0;34m(\u001b[0m\u001b[0mself\u001b[0m\u001b[0;34m,\u001b[0m \u001b[0mmethod\u001b[0m\u001b[0;34m,\u001b[0m \u001b[0murl\u001b[0m\u001b[0;34m,\u001b[0m \u001b[0mbody\u001b[0m\u001b[0;34m,\u001b[0m \u001b[0mheaders\u001b[0m\u001b[0;34m,\u001b[0m \u001b[0mencode_chunked\u001b[0m\u001b[0;34m)\u001b[0m\u001b[0;34m:\u001b[0m\u001b[0;34m\u001b[0m\u001b[0;34m\u001b[0m\u001b[0m\n",
      "\u001b[0;32m/usr/lib/python3.10/http/client.py\u001b[0m in \u001b[0;36m_send_request\u001b[0;34m(self, method, url, body, headers, encode_chunked)\u001b[0m\n\u001b[1;32m   1327\u001b[0m             \u001b[0;31m# default charset of iso-8859-1.\u001b[0m\u001b[0;34m\u001b[0m\u001b[0;34m\u001b[0m\u001b[0m\n\u001b[1;32m   1328\u001b[0m             \u001b[0mbody\u001b[0m \u001b[0;34m=\u001b[0m \u001b[0m_encode\u001b[0m\u001b[0;34m(\u001b[0m\u001b[0mbody\u001b[0m\u001b[0;34m,\u001b[0m \u001b[0;34m'body'\u001b[0m\u001b[0;34m)\u001b[0m\u001b[0;34m\u001b[0m\u001b[0;34m\u001b[0m\u001b[0m\n\u001b[0;32m-> 1329\u001b[0;31m         \u001b[0mself\u001b[0m\u001b[0;34m.\u001b[0m\u001b[0mendheaders\u001b[0m\u001b[0;34m(\u001b[0m\u001b[0mbody\u001b[0m\u001b[0;34m,\u001b[0m \u001b[0mencode_chunked\u001b[0m\u001b[0;34m=\u001b[0m\u001b[0mencode_chunked\u001b[0m\u001b[0;34m)\u001b[0m\u001b[0;34m\u001b[0m\u001b[0;34m\u001b[0m\u001b[0m\n\u001b[0m\u001b[1;32m   1330\u001b[0m \u001b[0;34m\u001b[0m\u001b[0m\n\u001b[1;32m   1331\u001b[0m     \u001b[0;32mdef\u001b[0m \u001b[0mgetresponse\u001b[0m\u001b[0;34m(\u001b[0m\u001b[0mself\u001b[0m\u001b[0;34m)\u001b[0m\u001b[0;34m:\u001b[0m\u001b[0;34m\u001b[0m\u001b[0;34m\u001b[0m\u001b[0m\n",
      "\u001b[0;32m/usr/lib/python3.10/http/client.py\u001b[0m in \u001b[0;36mendheaders\u001b[0;34m(self, message_body, encode_chunked)\u001b[0m\n\u001b[1;32m   1276\u001b[0m         \u001b[0;32melse\u001b[0m\u001b[0;34m:\u001b[0m\u001b[0;34m\u001b[0m\u001b[0;34m\u001b[0m\u001b[0m\n\u001b[1;32m   1277\u001b[0m             \u001b[0;32mraise\u001b[0m \u001b[0mCannotSendHeader\u001b[0m\u001b[0;34m(\u001b[0m\u001b[0;34m)\u001b[0m\u001b[0;34m\u001b[0m\u001b[0;34m\u001b[0m\u001b[0m\n\u001b[0;32m-> 1278\u001b[0;31m         \u001b[0mself\u001b[0m\u001b[0;34m.\u001b[0m\u001b[0m_send_output\u001b[0m\u001b[0;34m(\u001b[0m\u001b[0mmessage_body\u001b[0m\u001b[0;34m,\u001b[0m \u001b[0mencode_chunked\u001b[0m\u001b[0;34m=\u001b[0m\u001b[0mencode_chunked\u001b[0m\u001b[0;34m)\u001b[0m\u001b[0;34m\u001b[0m\u001b[0;34m\u001b[0m\u001b[0m\n\u001b[0m\u001b[1;32m   1279\u001b[0m \u001b[0;34m\u001b[0m\u001b[0m\n\u001b[1;32m   1280\u001b[0m     def request(self, method, url, body=None, headers={}, *,\n",
      "\u001b[0;32m/usr/lib/python3.10/http/client.py\u001b[0m in \u001b[0;36m_send_output\u001b[0;34m(self, message_body, encode_chunked)\u001b[0m\n\u001b[1;32m   1036\u001b[0m         \u001b[0mmsg\u001b[0m \u001b[0;34m=\u001b[0m \u001b[0;34mb\"\\r\\n\"\u001b[0m\u001b[0;34m.\u001b[0m\u001b[0mjoin\u001b[0m\u001b[0;34m(\u001b[0m\u001b[0mself\u001b[0m\u001b[0;34m.\u001b[0m\u001b[0m_buffer\u001b[0m\u001b[0;34m)\u001b[0m\u001b[0;34m\u001b[0m\u001b[0;34m\u001b[0m\u001b[0m\n\u001b[1;32m   1037\u001b[0m         \u001b[0;32mdel\u001b[0m \u001b[0mself\u001b[0m\u001b[0;34m.\u001b[0m\u001b[0m_buffer\u001b[0m\u001b[0;34m[\u001b[0m\u001b[0;34m:\u001b[0m\u001b[0;34m]\u001b[0m\u001b[0;34m\u001b[0m\u001b[0;34m\u001b[0m\u001b[0m\n\u001b[0;32m-> 1038\u001b[0;31m         \u001b[0mself\u001b[0m\u001b[0;34m.\u001b[0m\u001b[0msend\u001b[0m\u001b[0;34m(\u001b[0m\u001b[0mmsg\u001b[0m\u001b[0;34m)\u001b[0m\u001b[0;34m\u001b[0m\u001b[0;34m\u001b[0m\u001b[0m\n\u001b[0m\u001b[1;32m   1039\u001b[0m \u001b[0;34m\u001b[0m\u001b[0m\n\u001b[1;32m   1040\u001b[0m         \u001b[0;32mif\u001b[0m \u001b[0mmessage_body\u001b[0m \u001b[0;32mis\u001b[0m \u001b[0;32mnot\u001b[0m \u001b[0;32mNone\u001b[0m\u001b[0;34m:\u001b[0m\u001b[0;34m\u001b[0m\u001b[0;34m\u001b[0m\u001b[0m\n",
      "\u001b[0;32m/usr/lib/python3.10/http/client.py\u001b[0m in \u001b[0;36msend\u001b[0;34m(self, data)\u001b[0m\n\u001b[1;32m    974\u001b[0m         \u001b[0;32mif\u001b[0m \u001b[0mself\u001b[0m\u001b[0;34m.\u001b[0m\u001b[0msock\u001b[0m \u001b[0;32mis\u001b[0m \u001b[0;32mNone\u001b[0m\u001b[0;34m:\u001b[0m\u001b[0;34m\u001b[0m\u001b[0;34m\u001b[0m\u001b[0m\n\u001b[1;32m    975\u001b[0m             \u001b[0;32mif\u001b[0m \u001b[0mself\u001b[0m\u001b[0;34m.\u001b[0m\u001b[0mauto_open\u001b[0m\u001b[0;34m:\u001b[0m\u001b[0;34m\u001b[0m\u001b[0;34m\u001b[0m\u001b[0m\n\u001b[0;32m--> 976\u001b[0;31m                 \u001b[0mself\u001b[0m\u001b[0;34m.\u001b[0m\u001b[0mconnect\u001b[0m\u001b[0;34m(\u001b[0m\u001b[0;34m)\u001b[0m\u001b[0;34m\u001b[0m\u001b[0;34m\u001b[0m\u001b[0m\n\u001b[0m\u001b[1;32m    977\u001b[0m             \u001b[0;32melse\u001b[0m\u001b[0;34m:\u001b[0m\u001b[0;34m\u001b[0m\u001b[0;34m\u001b[0m\u001b[0m\n\u001b[1;32m    978\u001b[0m                 \u001b[0;32mraise\u001b[0m \u001b[0mNotConnected\u001b[0m\u001b[0;34m(\u001b[0m\u001b[0;34m)\u001b[0m\u001b[0;34m\u001b[0m\u001b[0;34m\u001b[0m\u001b[0m\n",
      "\u001b[0;32m/usr/lib/python3.10/http/client.py\u001b[0m in \u001b[0;36mconnect\u001b[0;34m(self)\u001b[0m\n\u001b[1;32m    940\u001b[0m         \u001b[0;34m\"\"\"Connect to the host and port specified in __init__.\"\"\"\u001b[0m\u001b[0;34m\u001b[0m\u001b[0;34m\u001b[0m\u001b[0m\n\u001b[1;32m    941\u001b[0m         \u001b[0msys\u001b[0m\u001b[0;34m.\u001b[0m\u001b[0maudit\u001b[0m\u001b[0;34m(\u001b[0m\u001b[0;34m\"http.client.connect\"\u001b[0m\u001b[0;34m,\u001b[0m \u001b[0mself\u001b[0m\u001b[0;34m,\u001b[0m \u001b[0mself\u001b[0m\u001b[0;34m.\u001b[0m\u001b[0mhost\u001b[0m\u001b[0;34m,\u001b[0m \u001b[0mself\u001b[0m\u001b[0;34m.\u001b[0m\u001b[0mport\u001b[0m\u001b[0;34m)\u001b[0m\u001b[0;34m\u001b[0m\u001b[0;34m\u001b[0m\u001b[0m\n\u001b[0;32m--> 942\u001b[0;31m         self.sock = self._create_connection(\n\u001b[0m\u001b[1;32m    943\u001b[0m             (self.host,self.port), self.timeout, self.source_address)\n\u001b[1;32m    944\u001b[0m         \u001b[0;31m# Might fail in OSs that don't implement TCP_NODELAY\u001b[0m\u001b[0;34m\u001b[0m\u001b[0;34m\u001b[0m\u001b[0m\n",
      "\u001b[0;32m/usr/lib/python3.10/socket.py\u001b[0m in \u001b[0;36mcreate_connection\u001b[0;34m(address, timeout, source_address)\u001b[0m\n\u001b[1;32m    831\u001b[0m             \u001b[0;32mif\u001b[0m \u001b[0msource_address\u001b[0m\u001b[0;34m:\u001b[0m\u001b[0;34m\u001b[0m\u001b[0;34m\u001b[0m\u001b[0m\n\u001b[1;32m    832\u001b[0m                 \u001b[0msock\u001b[0m\u001b[0;34m.\u001b[0m\u001b[0mbind\u001b[0m\u001b[0;34m(\u001b[0m\u001b[0msource_address\u001b[0m\u001b[0;34m)\u001b[0m\u001b[0;34m\u001b[0m\u001b[0;34m\u001b[0m\u001b[0m\n\u001b[0;32m--> 833\u001b[0;31m             \u001b[0msock\u001b[0m\u001b[0;34m.\u001b[0m\u001b[0mconnect\u001b[0m\u001b[0;34m(\u001b[0m\u001b[0msa\u001b[0m\u001b[0;34m)\u001b[0m\u001b[0;34m\u001b[0m\u001b[0;34m\u001b[0m\u001b[0m\n\u001b[0m\u001b[1;32m    834\u001b[0m             \u001b[0;31m# Break explicitly a reference cycle\u001b[0m\u001b[0;34m\u001b[0m\u001b[0;34m\u001b[0m\u001b[0m\n\u001b[1;32m    835\u001b[0m             \u001b[0merr\u001b[0m \u001b[0;34m=\u001b[0m \u001b[0;32mNone\u001b[0m\u001b[0;34m\u001b[0m\u001b[0;34m\u001b[0m\u001b[0m\n",
      "\u001b[0;31mKeyboardInterrupt\u001b[0m: "
     ]
    }
   ],
   "source": [
    "import requests\n",
    "import json\n",
    "from SPARQLWrapper import SPARQLWrapper, JSON\n",
    "from copy import deepcopy\n",
    "from tqdm import trange\n",
    "dbpedia_endpoint = \"http://dbpedia.org/sparql\"\n",
    "\n",
    "\n",
    "error_count = 0\n",
    "def execute_sparql_query(query):\n",
    "    sparql = SPARQLWrapper(dbpedia_endpoint)\n",
    "    sparql.setQuery(query)\n",
    "    sparql.setReturnFormat(JSON)\n",
    "\n",
    "    try:\n",
    "        results = sparql.queryAndConvert()\n",
    "        return results\n",
    "    except Exception as e:\n",
    "        print(f\"\\nerror executing SPARQL query: {e}\")\n",
    "        #error_count+=1\n",
    "        #print(error_count)\n",
    "        return None\n",
    "\n",
    "def process_text(txt):\n",
    "    #return txt.strip().lower().replace(':','').replace('.','').replace('/','').replace('_','')\n",
    "    return txt\n",
    "\n",
    "def eval(gold, pred, boolean=False):\n",
    "    TP, FP, FN = 0, 0, 0\n",
    "    for item in pred:\n",
    "        new_item = process_text(item) if not boolean else item\n",
    "        if new_item in gold:\n",
    "            TP += 1\n",
    "        else:\n",
    "            FP += 1\n",
    "    pred = list(map(lambda x: process_text(x), pred)) if not boolean else pred\n",
    "    for item in gold:\n",
    "        if item not in pred:\n",
    "            FN += 1\n",
    "    acc = TP / len(pred)\n",
    "    recall = TP / (TP + FN)\n",
    "    precision = TP / (TP + FP)\n",
    "    f1 = ((2 * (precision * recall)) / (precision + recall)) if (precision + recall != 0) else 0\n",
    "    rec, pre = recall, precision\n",
    "    return acc, rec, pre, f1\n",
    "\n",
    "queries = []\n",
    "with open('/content/mistral_instruct_v2_no_triples_7epochs_LCQUAD_20_bm25_triples_test.json', 'r') as f:\n",
    "  data = json.load(f)\n",
    "  queries = [d['predicted_query'] for d in data]\n",
    "  ids = [d['id'] for d in data]\n",
    "  gold_ans = [d['answers'] for d in data]\n",
    "  for j in range(len(gold_ans)):\n",
    "      if len(list(gold_ans[j].keys())) == 0:\n",
    "          ans = []\n",
    "      else:\n",
    "          assert len(list(gold_ans[j].keys())) == 1\n",
    "          gold_ans[j] = deepcopy(next(iter(gold_ans[j].values())))\n",
    "\n",
    "total_acc, total_rec, total_pre, total_f1 = 0, 0, 0, 0\n",
    "for i in trange(len(queries)):\n",
    "    query = queries[i]\n",
    "    pred_answers = {}\n",
    "    results = execute_sparql_query(query)\n",
    "    if (type(gold_ans[i]) != bool and len(gold_ans[i]) == 0) and (not results): # if results == None -> syntax error\n",
    "        print(f'\\nsyntax error for sample #{ids[i]}')\n",
    "        error_count+=1\n",
    "        # total_acc += 1\n",
    "        # total_rec += 1\n",
    "        # total_pre += 1\n",
    "        # total_f1 += 1\n",
    "        continue\n",
    "    elif type(gold_ans[i]) != bool and (len(gold_ans[i]) > 0) and (not results): # if results == None -> syntax error\n",
    "        print(f'\\nsyntax error for sample #{ids[i]}')\n",
    "        error_count+=1\n",
    "        total_pre+=1\n",
    "\n",
    "        continue\n",
    "    elif type(gold_ans[i]) == bool and (not results):\n",
    "        print(f'\\nsyntax error for sample #{ids[i]}')\n",
    "        error_count+=1\n",
    "\n",
    "        continue\n",
    "    if 'boolean' in results.keys():\n",
    "        acc, rec, pre, f1 = eval([gold_ans[i]], [results['boolean']], boolean=True)\n",
    "        total_acc += acc\n",
    "        total_rec += rec\n",
    "        total_pre += pre\n",
    "        total_f1 += f1\n",
    "        continue\n",
    "    else:\n",
    "        for result in results[\"results\"][\"bindings\"]:\n",
    "            for var_name, var_data in result.items():\n",
    "                var_value = var_data[\"value\"]\n",
    "                if var_name in pred_answers.keys():\n",
    "                    pred_answers[var_name].append(var_value)\n",
    "                else:\n",
    "                    pred_answers[var_name] = [var_value]\n",
    "    if (type(gold_ans[i]) != bool) and (len(gold_ans[i]) == 0) and (len(list(pred_answers.keys())) == 0):\n",
    "        total_acc += 1\n",
    "        total_rec += 1\n",
    "        total_pre += 1\n",
    "        total_f1 += 1\n",
    "        continue\n",
    "    elif (type(gold_ans[i]) != bool) and (len(gold_ans[i]) > 0) and (len(list(pred_answers.keys())) == 0):\n",
    "        print(f'\\nempty predicted answer set for sample #{ids[i]}')\n",
    "        continue\n",
    "    elif (type(gold_ans[i]) != bool) and (len(gold_ans[i]) == 0) and (len(list(pred_answers.keys())) > 0):\n",
    "        print(f'\\npredicted answer set was supposed to be empty for sample #{ids[i]}')\n",
    "        continue\n",
    "    elif type(gold_ans[i]) == bool:\n",
    "        print(f'\\nresults are not of type boolean for sample #{ids[i]}')\n",
    "        continue\n",
    "    try:\n",
    "        assert len(list(pred_answers.keys())) == 1\n",
    "    except:\n",
    "        print(f'\\nresults dict has more keys than expected for sample #{ids[i]}')\n",
    "        continue\n",
    "    pred_ans = next(iter(pred_answers.values()))\n",
    "    print(pred_ans, gold_ans[i])\n",
    "    acc, rec, pre, f1 = eval(list(map(lambda x: process_text(x), gold_ans[i])), pred_ans)\n",
    "    total_acc += acc\n",
    "    total_rec += rec\n",
    "    total_pre += pre\n",
    "    total_f1 += f1\n",
    "    # print(f'\\ninfo for sample #{ids[i]}:')\n",
    "    # print(f'acc = {acc}, rec = {rec}, pre = {pre}, f1 = {f1}')\n",
    "    # print('\\n'.join(gold_ans[i]))\n",
    "    # print('---')\n",
    "    # print('\\n'.join(pred_ans))\n",
    "    # print()\n",
    "print(f'\\nacc: {total_acc / len(queries)}')\n",
    "print(f'rec: {total_rec / len(queries)}')\n",
    "print(f'pre: {total_pre / len(queries)}')\n",
    "print(f'f1: {total_f1 / len(queries)}')\n",
    "print(error_count)"
   ]
  },
  {
   "cell_type": "markdown",
   "metadata": {
    "id": "qid-yRrFkXWT"
   },
   "source": [
    "#### T5-3B w/ 10 triples using ChatGPT including second response\n",
    "model_2: t5-3b-tri-10-ep-10-t-v2"
   ]
  },
  {
   "cell_type": "code",
   "execution_count": null,
   "metadata": {
    "colab": {
     "base_uri": "https://localhost:8080/",
     "height": 1000
    },
    "id": "kLu_ZQGxkWH6",
    "outputId": "9d147897-72b4-49e7-9f4b-9e044a2bbf25"
   },
   "outputs": [
    {
     "data": {
      "text/html": [
       "\n",
       "  <style>\n",
       "    pre {\n",
       "        white-space: pre-wrap;\n",
       "    }\n",
       "  </style>\n",
       "  "
      ],
      "text/plain": [
       "<IPython.core.display.HTML object>"
      ]
     },
     "metadata": {},
     "output_type": "display_data"
    },
    {
     "name": "stderr",
     "output_type": "stream",
     "text": [
      "  3%|▎         | 4/150 [00:05<03:25,  1.41s/it]"
     ]
    },
    {
     "name": "stdout",
     "output_type": "stream",
     "text": [
      "\n",
      "empty predicted answer set for sample #3\n"
     ]
    },
    {
     "name": "stderr",
     "output_type": "stream",
     "text": [
      "  8%|▊         | 12/150 [00:20<03:51,  1.68s/it]"
     ]
    },
    {
     "name": "stdout",
     "output_type": "stream",
     "text": [
      "\n",
      "empty predicted answer set for sample #11\n"
     ]
    },
    {
     "name": "stderr",
     "output_type": "stream",
     "text": [
      "\r  9%|▊         | 13/150 [00:22<03:37,  1.59s/it]"
     ]
    },
    {
     "name": "stdout",
     "output_type": "stream",
     "text": [
      "\n",
      "empty predicted answer set for sample #12\n"
     ]
    },
    {
     "name": "stderr",
     "output_type": "stream",
     "text": [
      " 10%|█         | 15/150 [00:26<03:53,  1.73s/it]"
     ]
    },
    {
     "name": "stdout",
     "output_type": "stream",
     "text": [
      "\n",
      "empty predicted answer set for sample #14\n"
     ]
    },
    {
     "name": "stderr",
     "output_type": "stream",
     "text": [
      " 15%|█▍        | 22/150 [00:35<03:00,  1.41s/it]"
     ]
    },
    {
     "name": "stdout",
     "output_type": "stream",
     "text": [
      "\n",
      "predicted answer set was supposed to be empty for sample #21\n"
     ]
    },
    {
     "name": "stderr",
     "output_type": "stream",
     "text": [
      " 16%|█▌        | 24/150 [00:38<02:55,  1.39s/it]"
     ]
    },
    {
     "name": "stdout",
     "output_type": "stream",
     "text": [
      "\n",
      "empty predicted answer set for sample #23\n"
     ]
    },
    {
     "name": "stderr",
     "output_type": "stream",
     "text": [
      " 19%|█▊        | 28/150 [00:44<02:49,  1.39s/it]"
     ]
    },
    {
     "name": "stdout",
     "output_type": "stream",
     "text": [
      "\n",
      "predicted answer set was supposed to be empty for sample #27\n"
     ]
    },
    {
     "name": "stderr",
     "output_type": "stream",
     "text": [
      " 25%|██▍       | 37/150 [00:56<02:35,  1.37s/it]"
     ]
    },
    {
     "name": "stdout",
     "output_type": "stream",
     "text": [
      "\n",
      "empty predicted answer set for sample #36\n"
     ]
    },
    {
     "name": "stderr",
     "output_type": "stream",
     "text": [
      " 26%|██▌       | 39/150 [00:59<02:32,  1.37s/it]"
     ]
    },
    {
     "name": "stdout",
     "output_type": "stream",
     "text": [
      "\n",
      "empty predicted answer set for sample #38\n"
     ]
    },
    {
     "name": "stderr",
     "output_type": "stream",
     "text": [
      "\r 27%|██▋       | 40/150 [01:01<02:41,  1.47s/it]"
     ]
    },
    {
     "name": "stdout",
     "output_type": "stream",
     "text": [
      "\n",
      "predicted answer set was supposed to be empty for sample #39\n"
     ]
    },
    {
     "name": "stderr",
     "output_type": "stream",
     "text": [
      "\r 27%|██▋       | 41/150 [01:02<02:41,  1.48s/it]"
     ]
    },
    {
     "name": "stdout",
     "output_type": "stream",
     "text": [
      "\n",
      "predicted answer set was supposed to be empty for sample #40\n"
     ]
    },
    {
     "name": "stderr",
     "output_type": "stream",
     "text": [
      " 29%|██▉       | 44/150 [01:06<02:35,  1.46s/it]"
     ]
    },
    {
     "name": "stdout",
     "output_type": "stream",
     "text": [
      "\n",
      "predicted answer set was supposed to be empty for sample #43\n"
     ]
    },
    {
     "name": "stderr",
     "output_type": "stream",
     "text": [
      " 33%|███▎      | 50/150 [01:15<02:19,  1.40s/it]"
     ]
    },
    {
     "name": "stdout",
     "output_type": "stream",
     "text": [
      "\n",
      "error executing SPARQL query: QueryBadFormed: A bad request has been sent to the endpoint: probably the SPARQL query is badly formed. \n",
      "\n",
      "Response:\n",
      "b\"Virtuoso 37000 Error SP030: SPARQL compiler, line 4: syntax error at '.' before 'BIND'\\n\\nSPARQL query:\\n#output-format:application/sparql-results+json\\nSELECT DISTINCT ?start WHERE {\\n  <http://dbpedia.org/resource/Ford_Model_T> <http://dbpedia.org/ontology/productionEndYear> ?end.\\n  <http://dbpedia.org/ontology/productionStartYear> ?start.\\n  BIND(year(xsd:date(?end)) AS ?year)\\n}\\n\"\n"
     ]
    },
    {
     "name": "stderr",
     "output_type": "stream",
     "text": [
      "\r 34%|███▍      | 51/150 [01:16<02:17,  1.39s/it]"
     ]
    },
    {
     "name": "stdout",
     "output_type": "stream",
     "text": [
      "\n",
      "error executing SPARQL query: QueryBadFormed: A bad request has been sent to the endpoint: probably the SPARQL query is badly formed. \n",
      "\n",
      "Response:\n",
      "b\"Virtuoso 37000 Error SP030: SPARQL compiler, line 4: syntax error at '.' before 'BIND'\\n\\nSPARQL query:\\n#output-format:application/sparql-results+json\\nSELECT DISTINCT ?start WHERE {\\n  <http://dbpedia.org/resource/Ford_Model_T> <http://dbpedia.org/ontology/productionEndYear> ?end.\\n  <http://dbpedia.org/ontology/productionStartYear> ?start.\\n  BIND(year(xsd:date(?end)) AS ?year)\\n}\\n\"\n",
      "\n",
      "syntax error for sample #50\n"
     ]
    },
    {
     "name": "stderr",
     "output_type": "stream",
     "text": [
      " 35%|███▌      | 53/150 [01:19<02:14,  1.39s/it]"
     ]
    },
    {
     "name": "stdout",
     "output_type": "stream",
     "text": [
      "\n",
      "empty predicted answer set for sample #52\n"
     ]
    },
    {
     "name": "stderr",
     "output_type": "stream",
     "text": [
      " 43%|████▎     | 64/150 [01:37<02:14,  1.57s/it]"
     ]
    },
    {
     "name": "stdout",
     "output_type": "stream",
     "text": [
      "\n",
      "predicted answer set was supposed to be empty for sample #63\n"
     ]
    },
    {
     "name": "stderr",
     "output_type": "stream",
     "text": [
      " 45%|████▌     | 68/150 [01:42<01:57,  1.43s/it]"
     ]
    },
    {
     "name": "stdout",
     "output_type": "stream",
     "text": [
      "\n",
      "empty predicted answer set for sample #67\n"
     ]
    },
    {
     "name": "stderr",
     "output_type": "stream",
     "text": [
      " 49%|████▉     | 74/150 [01:50<01:44,  1.37s/it]"
     ]
    },
    {
     "name": "stdout",
     "output_type": "stream",
     "text": [
      "\n",
      "empty predicted answer set for sample #73\n"
     ]
    },
    {
     "name": "stderr",
     "output_type": "stream",
     "text": [
      " 51%|█████▏    | 77/150 [01:54<01:39,  1.37s/it]"
     ]
    },
    {
     "name": "stdout",
     "output_type": "stream",
     "text": [
      "\n",
      "empty predicted answer set for sample #76\n"
     ]
    },
    {
     "name": "stderr",
     "output_type": "stream",
     "text": [
      " 61%|██████    | 91/150 [02:14<01:22,  1.41s/it]"
     ]
    },
    {
     "name": "stdout",
     "output_type": "stream",
     "text": [
      "\n",
      "empty predicted answer set for sample #90\n"
     ]
    },
    {
     "name": "stderr",
     "output_type": "stream",
     "text": [
      " 67%|██████▋   | 101/150 [02:30<01:35,  1.95s/it]"
     ]
    },
    {
     "name": "stdout",
     "output_type": "stream",
     "text": [
      "\n",
      "error executing SPARQL query: QueryBadFormed: A bad request has been sent to the endpoint: probably the SPARQL query is badly formed. \n",
      "\n",
      "Response:\n",
      "b\"Virtuoso 37000 Error SP030: SPARQL compiler, line 6: syntax error at '<http://dbpedia.org/resource/North_Sea>' before '.'\\n\\nSPARQL query:\\n#output-format:application/sparql-results+json\\nSELECT DISTINCT ?uri \\nWHERE {\\n  ?uri a <http://dbpedia.org/ontology/River>.\\n  ?uri <http://dbpedia.org/ontology/inflow> ?uri.\\n  ?uri a <http://dbpedia.org/ontology/country> <http://dbpedia.org/resource/North_Sea>.\\n}\\nLIMIT 100\\n\"\n"
     ]
    },
    {
     "name": "stderr",
     "output_type": "stream",
     "text": [
      "\r 68%|██████▊   | 102/150 [02:31<01:25,  1.77s/it]"
     ]
    },
    {
     "name": "stdout",
     "output_type": "stream",
     "text": [
      "\n",
      "empty predicted answer set for sample #101\n"
     ]
    },
    {
     "name": "stderr",
     "output_type": "stream",
     "text": [
      "\r 69%|██████▊   | 103/150 [02:33<01:20,  1.72s/it]"
     ]
    },
    {
     "name": "stdout",
     "output_type": "stream",
     "text": [
      "\n",
      "error executing SPARQL query: QueryBadFormed: A bad request has been sent to the endpoint: probably the SPARQL query is badly formed. \n",
      "\n",
      "Response:\n",
      "b\"Virtuoso 37000 Error SP030: SPARQL compiler, line 6: syntax error at '=' before '?y'\\n\\nSPARQL query:\\n#output-format:application/sparql-results+json\\nSELECT DISTINCT ?uri\\nWHERE {\\n  ?uri <http://www.w3.org/1999/02/22-rdf-syntax-ns#type> <http://dbpedia.org/class/yago/WikicatDaughtersOfBritishEarls> ;\\n       <http://dbpedia.org/ontology/deathPlace> ?x .\\n  ?x = ?y .\\n}\\nLIMIT 100\\n\"\n"
     ]
    },
    {
     "name": "stderr",
     "output_type": "stream",
     "text": [
      " 75%|███████▍  | 112/150 [02:45<00:52,  1.38s/it]"
     ]
    },
    {
     "name": "stdout",
     "output_type": "stream",
     "text": [
      "\n",
      "error executing SPARQL query: QueryBadFormed: A bad request has been sent to the endpoint: probably the SPARQL query is badly formed. \n",
      "\n",
      "Response:\n",
      "b\"Virtuoso 37000 Error SP030: SPARQL compiler, line 5: syntax error at '.' before '}'\\n\\nSPARQL query:\\n#output-format:application/sparql-results+json\\nSELECT DISTINCT ?uri\\nWHERE {\\n  <http://dbpedia.org/resource/Air_China> <http://dbpedia.org/ontology/headquarter> ?uri.\\n  ?uri <http://dbpedia.org/class/yago/City108524735> .\\n}\\n\"\n"
     ]
    },
    {
     "name": "stderr",
     "output_type": "stream",
     "text": [
      " 77%|███████▋  | 116/150 [02:51<00:47,  1.40s/it]"
     ]
    },
    {
     "name": "stdout",
     "output_type": "stream",
     "text": [
      "\n",
      "empty predicted answer set for sample #115\n"
     ]
    },
    {
     "name": "stderr",
     "output_type": "stream",
     "text": [
      " 83%|████████▎ | 124/150 [03:04<00:38,  1.49s/it]"
     ]
    },
    {
     "name": "stdout",
     "output_type": "stream",
     "text": [
      "\n",
      "empty predicted answer set for sample #123\n"
     ]
    },
    {
     "name": "stderr",
     "output_type": "stream",
     "text": [
      " 87%|████████▋ | 131/150 [03:13<00:26,  1.39s/it]"
     ]
    },
    {
     "name": "stdout",
     "output_type": "stream",
     "text": [
      "\n",
      "error executing SPARQL query: QueryBadFormed: A bad request has been sent to the endpoint: probably the SPARQL query is badly formed. \n",
      "\n",
      "Response:\n",
      "b\"Virtuoso 37000 Error SP030: SPARQL compiler, line 4: Undefined namespace prefix in prefix:localpart notation at 'res:John_F._Kennedy' before '<http://dbpedia.org/property/presidentEnd>'\\n\\nSPARQL query:\\n#output-format:application/sparql-results+json\\nSELECT DISTINCT ?uri\\nWHERE {\\n  res:John_F._Kennedy <http://dbpedia.org/property/presidentEnd> ?x.\\n  ?uri <http://dbpedia.org/property/presidentStart> ?x ;\\n       a <http://dbpedia.org/ontology/Person>.\\n}\\nLIMIT 100\\n\"\n"
     ]
    },
    {
     "name": "stderr",
     "output_type": "stream",
     "text": [
      "\r 88%|████████▊ | 132/150 [03:15<00:24,  1.38s/it]"
     ]
    },
    {
     "name": "stdout",
     "output_type": "stream",
     "text": [
      "\n",
      "error executing SPARQL query: QueryBadFormed: A bad request has been sent to the endpoint: probably the SPARQL query is badly formed. \n",
      "\n",
      "Response:\n",
      "b\"Virtuoso 37000 Error SP030: SPARQL compiler, line 4: Undefined namespace prefix in prefix:localpart notation at 'res:John_F._Kennedy' before '<http://dbpedia.org/property/presidentEnd>'\\n\\nSPARQL query:\\n#output-format:application/sparql-results+json\\nSELECT DISTINCT ?uri\\nWHERE {\\n  res:John_F._Kennedy <http://dbpedia.org/property/presidentEnd> ?x.\\n  ?uri <http://dbpedia.org/property/presidentStart> ?x ;\\n       a <http://dbpedia.org/ontology/Person>.\\n}\\nLIMIT 100\\n\"\n",
      "\n",
      "syntax error for sample #131\n"
     ]
    },
    {
     "name": "stderr",
     "output_type": "stream",
     "text": [
      " 90%|█████████ | 135/150 [03:20<00:26,  1.74s/it]"
     ]
    },
    {
     "name": "stdout",
     "output_type": "stream",
     "text": [
      "\n",
      "empty predicted answer set for sample #134\n"
     ]
    },
    {
     "name": "stderr",
     "output_type": "stream",
     "text": [
      "\r 91%|█████████ | 136/150 [03:21<00:22,  1.62s/it]"
     ]
    },
    {
     "name": "stdout",
     "output_type": "stream",
     "text": [
      "\n",
      "empty predicted answer set for sample #135\n"
     ]
    },
    {
     "name": "stderr",
     "output_type": "stream",
     "text": [
      " 92%|█████████▏| 138/150 [03:24<00:17,  1.49s/it]"
     ]
    },
    {
     "name": "stdout",
     "output_type": "stream",
     "text": [
      "\n",
      "empty predicted answer set for sample #137\n"
     ]
    },
    {
     "name": "stderr",
     "output_type": "stream",
     "text": [
      "\r 93%|█████████▎| 139/150 [03:26<00:16,  1.53s/it]"
     ]
    },
    {
     "name": "stdout",
     "output_type": "stream",
     "text": [
      "\n",
      "empty predicted answer set for sample #138\n"
     ]
    },
    {
     "name": "stderr",
     "output_type": "stream",
     "text": [
      "\r 93%|█████████▎| 140/150 [03:27<00:14,  1.48s/it]"
     ]
    },
    {
     "name": "stdout",
     "output_type": "stream",
     "text": [
      "\n",
      "empty predicted answer set for sample #139\n"
     ]
    },
    {
     "name": "stderr",
     "output_type": "stream",
     "text": [
      " 99%|█████████▊| 148/150 [03:39<00:02,  1.46s/it]"
     ]
    },
    {
     "name": "stdout",
     "output_type": "stream",
     "text": [
      "\n",
      "empty predicted answer set for sample #147\n"
     ]
    },
    {
     "name": "stderr",
     "output_type": "stream",
     "text": [
      "\r 99%|█████████▉| 149/150 [03:40<00:01,  1.45s/it]"
     ]
    },
    {
     "name": "stdout",
     "output_type": "stream",
     "text": [
      "\n",
      "empty predicted answer set for sample #148\n"
     ]
    },
    {
     "name": "stderr",
     "output_type": "stream",
     "text": [
      "100%|██████████| 150/150 [03:41<00:00,  1.48s/it]"
     ]
    },
    {
     "name": "stdout",
     "output_type": "stream",
     "text": [
      "\n",
      "acc: 0.5515402324779858\n",
      "rec: 0.5881299209194957\n",
      "pre: 0.5515402324779858\n",
      "f1: 0.5504456538309445\n"
     ]
    },
    {
     "name": "stderr",
     "output_type": "stream",
     "text": [
      "\n"
     ]
    }
   ],
   "source": [
    "import requests\n",
    "import json\n",
    "from SPARQLWrapper import SPARQLWrapper, JSON\n",
    "from copy import deepcopy\n",
    "dbpedia_endpoint = \"http://dbpedia.org/sparql\"\n",
    "\n",
    "def execute_sparql_query(query):\n",
    "    sparql = SPARQLWrapper(dbpedia_endpoint)\n",
    "    sparql.setQuery(query)\n",
    "    sparql.setReturnFormat(JSON)\n",
    "\n",
    "    try:\n",
    "        results = sparql.queryAndConvert()\n",
    "        return results\n",
    "    except Exception as e:\n",
    "        print(f\"\\nerror executing SPARQL query: {e}\")\n",
    "        return None\n",
    "\n",
    "def process_text(txt):\n",
    "    return txt.strip().lower().replace(':','').replace('.','').replace('/','').replace('_','')\n",
    "\n",
    "def eval(gold, pred, boolean=False):\n",
    "    TP, FP, FN = 0, 0, 0\n",
    "    for item in pred:\n",
    "        new_item = process_text(item) if not boolean else item\n",
    "        if new_item in gold:\n",
    "            TP += 1\n",
    "        else:\n",
    "            FP += 1\n",
    "    pred = list(map(lambda x: process_text(x), pred)) if not boolean else pred\n",
    "    for item in gold:\n",
    "        if item not in pred:\n",
    "            FN += 1\n",
    "    acc = TP / len(pred)\n",
    "    recall = TP / (TP + FN)\n",
    "    precision = TP / (TP + FP)\n",
    "    f1 = ((2 * (precision * recall)) / (precision + recall)) if (precision + recall != 0) else 0\n",
    "    rec, pre = recall, precision\n",
    "    return acc, rec, pre, f1\n",
    "\n",
    "queries = []\n",
    "with open('/content/gpt-3.5-turbo_t5-3b-tri-10-ep-10-t_qald-9-plus_v2.json', 'r') as f:\n",
    "  data = json.load(f)\n",
    "  queries = [d['pred_sparql'] for d in data]\n",
    "  queries_2 = [d['pred_sparql_2'] for d in data]\n",
    "  ids = [d['id'] for d in data]\n",
    "  gold_ans = [d['gold_answers'] for d in data]\n",
    "  for j in range(len(gold_ans)):\n",
    "      if len(list(gold_ans[j].keys())) == 0:\n",
    "          ans = []\n",
    "      else:\n",
    "          assert len(list(gold_ans[j].keys())) == 1\n",
    "          gold_ans[j] = deepcopy(next(iter(gold_ans[j].values())))\n",
    "\n",
    "total_acc, total_rec, total_pre, total_f1 = 0, 0, 0, 0\n",
    "for i in trange(len(queries)):\n",
    "    query = queries[i]\n",
    "    query_2 = queries_2[i]\n",
    "    pred_answers = {}\n",
    "    pred_answers_2 = {}\n",
    "    results = execute_sparql_query(query)\n",
    "    results_2 = execute_sparql_query(query_2)\n",
    "    if (type(gold_ans[i]) != bool and len(gold_ans[i]) == 0) and (not results): # if results == None -> syntax error\n",
    "        print(f'\\nsyntax error for sample #{ids[i]}')\n",
    "        total_acc += 1\n",
    "        total_rec += 1\n",
    "        total_pre += 1\n",
    "        total_f1 += 1\n",
    "        continue\n",
    "    elif type(gold_ans[i]) != bool and (len(gold_ans[i]) > 0) and (not results) and (not results_2): # if results == None -> syntax error\n",
    "        print(f'\\nsyntax error for sample #{ids[i]}')\n",
    "        continue\n",
    "    elif type(gold_ans[i]) == bool and (not results) and (not results_2):\n",
    "        print(f'\\nsyntax error for sample #{ids[i]}')\n",
    "        continue\n",
    "    use_pred_ans_2 = None\n",
    "    if (not results) and (results_2):\n",
    "        use_pred_ans_2 = True\n",
    "    elif (results) and (not results_2):\n",
    "        use_pred_ans_2 = False\n",
    "    if (use_pred_ans_2 != True) and 'boolean' in results.keys():\n",
    "        acc, rec, pre, f1 = eval([gold_ans[i]], [results['boolean']], boolean=True)\n",
    "        acc_2, rec_2, pre_2, f1_2 = 0, 0, 0, 0\n",
    "        if (use_pred_ans_2 != False) and 'boolean' in results_2.keys():\n",
    "            acc_2, rec_2, pre_2, f1_2 = eval([gold_ans[i]], [results_2['boolean']], boolean=True)\n",
    "        total_acc += max(acc, acc_2)\n",
    "        total_rec += max(rec, rec_2)\n",
    "        total_pre += max(pre, pre_2)\n",
    "        total_f1 += max(f1, f1_2)\n",
    "        continue\n",
    "    elif (use_pred_ans_2 != False) and 'boolean' in results_2.keys():\n",
    "        acc_2, rec_2, pre_2, f1_2 = eval([gold_ans[i]], [results_2['boolean']], boolean=True)\n",
    "        total_acc += acc_2\n",
    "        total_rec += rec_2\n",
    "        total_pre += pre_2\n",
    "        total_f1 += f1_2\n",
    "        continue\n",
    "    else:\n",
    "        if (use_pred_ans_2 != True):\n",
    "            for result in results[\"results\"][\"bindings\"]:\n",
    "                for var_name, var_data in result.items():\n",
    "                    var_value = var_data[\"value\"]\n",
    "                    if var_name in pred_answers.keys():\n",
    "                        pred_answers[var_name].append(var_value)\n",
    "                    else:\n",
    "                        pred_answers[var_name] = [var_value]\n",
    "        if (use_pred_ans_2 != False):\n",
    "            for result in results_2[\"results\"][\"bindings\"]:\n",
    "                for var_name, var_data in result.items():\n",
    "                    var_value = var_data[\"value\"]\n",
    "                    if var_name in pred_answers_2.keys():\n",
    "                        pred_answers_2[var_name].append(var_value)\n",
    "                    else:\n",
    "                        pred_answers_2[var_name] = [var_value]\n",
    "    if (type(gold_ans[i]) != bool) and (len(gold_ans[i]) == 0) and (len(list(pred_answers.keys())) == 0 or len(list(pred_answers_2.keys())) == 0):\n",
    "        total_acc += 1\n",
    "        total_rec += 1\n",
    "        total_pre += 1\n",
    "        total_f1 += 1\n",
    "        continue\n",
    "    elif (type(gold_ans[i]) != bool) and (len(gold_ans[i]) > 0) and (len(list(pred_answers.keys())) == 0) and (len(list(pred_answers_2.keys())) == 0):\n",
    "        print(f'\\nempty predicted answer set for sample #{ids[i]}')\n",
    "        continue\n",
    "    elif (type(gold_ans[i]) != bool) and (len(gold_ans[i]) == 0) and (len(list(pred_answers.keys())) > 0 and len(list(pred_answers_2.keys())) > 0):\n",
    "        print(f'\\npredicted answer set was supposed to be empty for sample #{ids[i]}')\n",
    "        continue\n",
    "    elif type(gold_ans[i]) == bool:\n",
    "        print(f'\\nresults are not of type boolean for sample #{ids[i]}')\n",
    "        continue\n",
    "    try:\n",
    "        if (use_pred_ans_2 != True):\n",
    "            assert len(list(pred_answers.keys())) == 1\n",
    "    except:\n",
    "        try:\n",
    "            if (use_pred_ans_2 != False):\n",
    "                assert len(list(pred_answers_2.keys())) == 1\n",
    "            use_pred_ans_2 = True\n",
    "        except:\n",
    "            print(f'\\nresults dict has more keys than expected for sample #{ids[i]}')\n",
    "            continue\n",
    "    pred_ans = next(iter(pred_answers.values())) if (not use_pred_ans_2) else next(iter(pred_answers_2.values()))\n",
    "    acc, rec, pre, f1 = eval(list(map(lambda x: process_text(x), gold_ans[i])), pred_ans)\n",
    "    acc_2, rec_2, pre_2, f1_2 = 0, 0, 0, 0\n",
    "    if not use_pred_ans_2 and len(list(pred_answers_2.keys())) > 0:\n",
    "        pred_ans_2 = next(iter(pred_answers_2.values()))\n",
    "        acc_2, rec_2, pre_2, f1_2 = eval(list(map(lambda x: process_text(x), gold_ans[i])), pred_ans_2)\n",
    "    total_acc += max(acc, acc_2)\n",
    "    total_rec += max(rec, rec_2)\n",
    "    total_pre += max(pre, pre_2)\n",
    "    total_f1 += max(f1, f1_2)\n",
    "    # print(f'\\ninfo for sample #{ids[i]}:')\n",
    "    # print(f'acc = {acc}, rec = {rec}, pre = {pre}, f1 = {f1}')\n",
    "    # print('\\n'.join(gold_ans[i]))\n",
    "    # print('---')\n",
    "    # print('\\n'.join(pred_ans))\n",
    "    # print()\n",
    "print(f'\\nacc: {total_acc / len(queries)}')\n",
    "print(f'rec: {total_rec / len(queries)}')\n",
    "print(f'pre: {total_pre / len(queries)}')\n",
    "print(f'f1: {total_f1 / len(queries)}')"
   ]
  },
  {
   "cell_type": "markdown",
   "metadata": {
    "id": "MMJfvqtyz9bJ"
   },
   "source": [
    "#### T5-3B w/ 10 triples only for training. ChatGPT is used to correct the output\n",
    "model_3: t5-3b-tri-10-ep-10-t-v3"
   ]
  },
  {
   "cell_type": "code",
   "execution_count": null,
   "metadata": {
    "colab": {
     "base_uri": "https://localhost:8080/",
     "height": 1000
    },
    "id": "njoEDBCWz3fD",
    "outputId": "cf976c02-5385-4746-cd5f-fc7697824c5c"
   },
   "outputs": [
    {
     "data": {
      "text/html": [
       "\n",
       "  <style>\n",
       "    pre {\n",
       "        white-space: pre-wrap;\n",
       "    }\n",
       "  </style>\n",
       "  "
      ],
      "text/plain": [
       "<IPython.core.display.HTML object>"
      ]
     },
     "metadata": {},
     "output_type": "display_data"
    },
    {
     "name": "stderr",
     "output_type": "stream",
     "text": [
      "  1%|          | 1/150 [00:00<02:03,  1.21it/s]"
     ]
    },
    {
     "name": "stdout",
     "output_type": "stream",
     "text": [
      "\n",
      "empty predicted answer set for sample #0\n"
     ]
    },
    {
     "name": "stderr",
     "output_type": "stream",
     "text": [
      "\r  1%|▏         | 2/150 [00:01<01:42,  1.44it/s]"
     ]
    },
    {
     "name": "stdout",
     "output_type": "stream",
     "text": [
      "\n",
      "empty predicted answer set for sample #1\n"
     ]
    },
    {
     "name": "stderr",
     "output_type": "stream",
     "text": [
      "  3%|▎         | 5/150 [00:03<01:30,  1.59it/s]"
     ]
    },
    {
     "name": "stdout",
     "output_type": "stream",
     "text": [
      "\n",
      "predicted answer set was supposed to be empty for sample #4\n"
     ]
    },
    {
     "name": "stderr",
     "output_type": "stream",
     "text": [
      "\r  4%|▍         | 6/150 [00:03<01:29,  1.61it/s]"
     ]
    },
    {
     "name": "stdout",
     "output_type": "stream",
     "text": [
      "\n",
      "error executing SPARQL query: QueryBadFormed: A bad request has been sent to the endpoint: probably the SPARQL query is badly formed. \n",
      "\n",
      "Response:\n",
      "b\"Virtuoso 37000 Error SP030: SPARQL compiler, line 4: syntax error at '?num' before '?num'\\n\\nSPARQL query:\\n#output-format:application/sparql-results+json\\nSELECT (COUNT(DISTINCT ?num) AS ?c)\\nWHERE {\\n  ?num ?num ?num ?num ?num ?num ?num ?num ?num ?num ?num ?num ?num ?num ?num ?num ?num ?num ?num ?num ?num ?num ?num ?num ?num ?num ?num ?num ?num ?num ?num ?num ?num ?num ?num ?num ?num ?num ?num ?num ?num ?num ?num ?num ?num ?num ?num ?num ?num ?num ?num ?num ?num ?num ?num ?num ?num ?num ?num ?num ?num ?num ?num ?num ?num ?num ?num ?num ?num ?num ?num ?num ?num ?num ?num ?num ?num ?num ?num ?num ?num ?num ?num ?num ?num ?num ?num ?num ?num ?num\\n\"\n",
      "\n",
      "syntax error for sample #5\n"
     ]
    },
    {
     "name": "stderr",
     "output_type": "stream",
     "text": [
      "  5%|▌         | 8/150 [00:05<01:28,  1.60it/s]"
     ]
    },
    {
     "name": "stdout",
     "output_type": "stream",
     "text": [
      "\n",
      "empty predicted answer set for sample #7\n"
     ]
    },
    {
     "name": "stderr",
     "output_type": "stream",
     "text": [
      "\r  6%|▌         | 9/150 [00:07<02:38,  1.13s/it]"
     ]
    },
    {
     "name": "stdout",
     "output_type": "stream",
     "text": [
      "\n",
      "error executing SPARQL query: QueryBadFormed: A bad request has been sent to the endpoint: probably the SPARQL query is badly formed. \n",
      "\n",
      "Response:\n",
      "b\"Virtuoso 37000 Error SP030: SPARQL compiler, line 4: Undefined namespace prefix in prefix:localpart notation at 'dct:subject' before '<http://dbpedia.org/resource/Category:Japanese_musical_instruments>'\\n\\nSPARQL query:\\n#output-format:application/sparql-results+json\\nASK WHERE { \\n  <http://dbpedia.org/resource/Taiko> rdf:type <http://dbpedia.org/ontology/MusicalInstrument> .\\n  <http://dbpedia.org/resource/Taiko> dct:subject <http://dbpedia.org/resource/Category:Japanese_musical_instruments> .\\n}\\n\"\n",
      "\n",
      "syntax error for sample #8\n"
     ]
    },
    {
     "name": "stderr",
     "output_type": "stream",
     "text": [
      "\r  7%|▋         | 10/150 [00:07<02:15,  1.03it/s]"
     ]
    },
    {
     "name": "stdout",
     "output_type": "stream",
     "text": [
      "\n",
      "error executing SPARQL query: QueryBadFormed: A bad request has been sent to the endpoint: probably the SPARQL query is badly formed. \n",
      "\n",
      "Response:\n",
      "b\"Virtuoso 37000 Error SP030: SPARQL compiler, line 4: syntax error at '<' before 'DBPedia'\\n\\nSPARQL query:\\n#output-format:application/sparql-results+json\\nSELECT DISTINCT ?num\\nWHERE {\\n  ?num <DBPedia SPARQL for the following question: <?num < DBPedia SPARQL for the following question: <?num < DBPedia SPARQL for the following question: <?num .\\n  FILTER (!bound(?num))\\n}\\nLIMIT 100\\n\"\n",
      "\n",
      "syntax error for sample #9\n"
     ]
    },
    {
     "name": "stderr",
     "output_type": "stream",
     "text": [
      "\r  7%|▋         | 11/150 [00:08<01:59,  1.17it/s]"
     ]
    },
    {
     "name": "stdout",
     "output_type": "stream",
     "text": [
      "\n",
      "empty predicted answer set for sample #10\n"
     ]
    },
    {
     "name": "stderr",
     "output_type": "stream",
     "text": [
      "  9%|▊         | 13/150 [00:09<01:39,  1.38it/s]"
     ]
    },
    {
     "name": "stdout",
     "output_type": "stream",
     "text": [
      "\n",
      "error executing SPARQL query: QueryBadFormed: A bad request has been sent to the endpoint: probably the SPARQL query is badly formed. \n",
      "\n",
      "Response:\n",
      "b\"Virtuoso 37000 Error SP030: SPARQL compiler, line 4: syntax error at '<' before 'DBPedia'\\n\\nSPARQL query:\\n#output-format:application/sparql-results+json\\nSELECT DISTINCT ?uri\\nWHERE {\\n  ?uri <DBPedia SPARQL for ?uri> .\\n  ?uri <DBPedia SPARQL for ?uri> .\\n  ?uri <DBPedia SPARQL for ?uri> .\\n}\\nGROUP BY ?uri\\nHAVING (COUNT(?two) > 2)\\nLIMIT 100\\n\"\n",
      "\n",
      "syntax error for sample #12\n"
     ]
    },
    {
     "name": "stderr",
     "output_type": "stream",
     "text": [
      "\r  9%|▉         | 14/150 [00:10<01:33,  1.45it/s]"
     ]
    },
    {
     "name": "stdout",
     "output_type": "stream",
     "text": [
      "\n",
      "empty predicted answer set for sample #13\n"
     ]
    },
    {
     "name": "stderr",
     "output_type": "stream",
     "text": [
      " 11%|█         | 16/150 [00:11<01:26,  1.54it/s]"
     ]
    },
    {
     "name": "stdout",
     "output_type": "stream",
     "text": [
      "\n",
      "empty predicted answer set for sample #15\n"
     ]
    },
    {
     "name": "stderr",
     "output_type": "stream",
     "text": [
      " 12%|█▏        | 18/150 [00:12<01:22,  1.60it/s]"
     ]
    },
    {
     "name": "stdout",
     "output_type": "stream",
     "text": [
      "\n",
      "empty predicted answer set for sample #17\n"
     ]
    },
    {
     "name": "stderr",
     "output_type": "stream",
     "text": [
      " 14%|█▍        | 21/150 [00:45<21:10,  9.85s/it]"
     ]
    },
    {
     "name": "stdout",
     "output_type": "stream",
     "text": [
      "\n",
      "empty predicted answer set for sample #20\n"
     ]
    },
    {
     "name": "stderr",
     "output_type": "stream",
     "text": [
      "\r 15%|█▍        | 22/150 [00:46<15:12,  7.13s/it]"
     ]
    },
    {
     "name": "stdout",
     "output_type": "stream",
     "text": [
      "\n",
      "error executing SPARQL query: QueryBadFormed: A bad request has been sent to the endpoint: probably the SPARQL query is badly formed. \n",
      "\n",
      "Response:\n",
      "b\"Virtuoso 37000 Error SP030: SPARQL compiler, line 4: syntax error at '<' before 'DBPedia'\\n\\nSPARQL query:\\n#output-format:application/sparql-results+json\\nSELECT DISTINCT ?uri\\nWHERE {\\n  ?uri <DBPedia SPARQL for ?uri> .\\n}\\nLIMIT 100\\n\"\n",
      "\n",
      "syntax error for sample #21\n"
     ]
    },
    {
     "name": "stderr",
     "output_type": "stream",
     "text": [
      "\r 15%|█▌        | 23/150 [00:46<10:56,  5.17s/it]"
     ]
    },
    {
     "name": "stdout",
     "output_type": "stream",
     "text": [
      "\n",
      "error executing SPARQL query: QueryBadFormed: A bad request has been sent to the endpoint: probably the SPARQL query is badly formed. \n",
      "\n",
      "Response:\n",
      "b\"Virtuoso 37000 Error SP030: SPARQL compiler, line 6: syntax error at ':date' before ')'\\n\\nSPARQL query:\\n#output-format:application/sparql-results+json\\nSELECT DISTINCT ?uri \\nWHERE { \\n  ?uri <http://purl.org/dc/terms/subject> <http://dbpedia.org/resource/LOVE> \\n} \\nORDER BY DESC(?sd:date) \\nOFFSET 0 \\nLIMIT 1\\n\"\n",
      "\n",
      "syntax error for sample #22\n"
     ]
    },
    {
     "name": "stderr",
     "output_type": "stream",
     "text": [
      "\r 16%|█▌        | 24/150 [00:47<07:58,  3.80s/it]"
     ]
    },
    {
     "name": "stdout",
     "output_type": "stream",
     "text": [
      "\n",
      "empty predicted answer set for sample #23\n"
     ]
    },
    {
     "name": "stderr",
     "output_type": "stream",
     "text": [
      "\r 17%|█▋        | 25/150 [00:47<05:54,  2.84s/it]"
     ]
    },
    {
     "name": "stdout",
     "output_type": "stream",
     "text": [
      "\n",
      "empty predicted answer set for sample #24\n"
     ]
    },
    {
     "name": "stderr",
     "output_type": "stream",
     "text": [
      "\r 17%|█▋        | 26/150 [00:48<04:28,  2.17s/it]"
     ]
    },
    {
     "name": "stdout",
     "output_type": "stream",
     "text": [
      "\n",
      "error executing SPARQL query: QueryBadFormed: A bad request has been sent to the endpoint: probably the SPARQL query is badly formed. \n",
      "\n",
      "Response:\n",
      "b\"Virtuoso 37000 Error SP030: SPARQL compiler, line 4: syntax error at '<' before 'DBPedia'\\n\\nSPARQL query:\\n#output-format:application/sparql-results+json\\nSELECT DISTINCT ?uri\\nWHERE {\\n  ?uri <DBPedia SPARQL> ?uri .\\n}\\nORDER BY DESC(COUNT(?date))\\nOFFSET 0\\nLIMIT 1\\n\"\n",
      "\n",
      "syntax error for sample #25\n"
     ]
    },
    {
     "name": "stderr",
     "output_type": "stream",
     "text": [
      "\r 18%|█▊        | 27/150 [00:49<03:29,  1.70s/it]"
     ]
    },
    {
     "name": "stdout",
     "output_type": "stream",
     "text": [
      "\n",
      "empty predicted answer set for sample #26\n"
     ]
    },
    {
     "name": "stderr",
     "output_type": "stream",
     "text": [
      "\r 19%|█▊        | 28/150 [00:49<02:47,  1.37s/it]"
     ]
    },
    {
     "name": "stdout",
     "output_type": "stream",
     "text": [
      "\n",
      "predicted answer set was supposed to be empty for sample #27\n"
     ]
    },
    {
     "name": "stderr",
     "output_type": "stream",
     "text": [
      " 21%|██        | 31/150 [00:51<01:43,  1.15it/s]"
     ]
    },
    {
     "name": "stdout",
     "output_type": "stream",
     "text": [
      "\n",
      "error executing SPARQL query: QueryBadFormed: A bad request has been sent to the endpoint: probably the SPARQL query is badly formed. \n",
      "\n",
      "Response:\n",
      "b\"Virtuoso 37000 Error SP030: SPARQL compiler, line 4: syntax error at '<' before 'DBPedia'\\n\\nSPARQL query:\\n#output-format:application/sparql-results+json\\nSELECT DISTINCT ?uri\\nWHERE {\\n  ?uri <DBPedia SPARQL for ?uri>.\\n  ?uri <DBPedia SPARQL for ?uri>.\\n}\\nORDER BY DESC(?place)\\nOFFSET 0\\nLIMIT 1\\n\"\n",
      "\n",
      "syntax error for sample #30\n"
     ]
    },
    {
     "name": "stderr",
     "output_type": "stream",
     "text": [
      " 23%|██▎       | 34/150 [00:53<01:20,  1.44it/s]"
     ]
    },
    {
     "name": "stdout",
     "output_type": "stream",
     "text": [
      "\n",
      "predicted answer set was supposed to be empty for sample #33\n"
     ]
    },
    {
     "name": "stderr",
     "output_type": "stream",
     "text": [
      "\r 23%|██▎       | 35/150 [00:54<01:16,  1.50it/s]"
     ]
    },
    {
     "name": "stdout",
     "output_type": "stream",
     "text": [
      "\n",
      "empty predicted answer set for sample #34\n"
     ]
    },
    {
     "name": "stderr",
     "output_type": "stream",
     "text": [
      "\r 24%|██▍       | 36/150 [00:54<01:13,  1.54it/s]"
     ]
    },
    {
     "name": "stdout",
     "output_type": "stream",
     "text": [
      "\n",
      "error executing SPARQL query: QueryBadFormed: A bad request has been sent to the endpoint: probably the SPARQL query is badly formed. \n",
      "\n",
      "Response:\n",
      "b\"Virtuoso 37000 Error SP030: SPARQL compiler, line 4: syntax error at ':n:n:n:n:n:n:n:n:n:n:n:n:n:n:n:n:n:n:n:n:n:n:n:n:n:n:n:n:n:n:n:n:n:n:n:n:n:n:n:n:n:n:n:n:n:n:n:n:n:n:n:n:n:n:n:n:n:n:n:n:n:n:n:n:n:n:n:n:n:n:n:n:n:n:n:n:n:n:n:n:n:n:n:n:n:n:n:n:n:n:n:n:n:n:n:n:n:n:n:n' before '}'\\n\\nSPARQL query:\\n#output-format:application/sparql-results+json\\nSELECT DISTINCT ?uri\\nWHERE {\\n  ?uri <http://www.w3.org/1999/02/22-rdf-syntax-ns#type> ?xsd:n:n:n:n:n:n:n:n:n:n:n:n:n:n:n:n:n:n:n:n:n:n:n:n:n:n:n:n:n:n:n:n:n:n:n:n:n:n:n:n:n:n:n:n:n:n:n:n:n:n:n:n:n:n:n:n:n:n:n:n:n:n:n:n:n:n:n:n:n:n:n:n:n:n:n:n:n:n:n:n:n:n:n:n:n:n:n:n:n:n:n:n:n:n:n:n:n:n:n:n\\n\"\n",
      "\n",
      "syntax error for sample #35\n"
     ]
    },
    {
     "name": "stderr",
     "output_type": "stream",
     "text": [
      "\r 25%|██▍       | 37/150 [00:55<01:12,  1.56it/s]"
     ]
    },
    {
     "name": "stdout",
     "output_type": "stream",
     "text": [
      "\n",
      "error executing SPARQL query: QueryBadFormed: A bad request has been sent to the endpoint: probably the SPARQL query is badly formed. \n",
      "\n",
      "Response:\n",
      "b\"Virtuoso 37000 Error SP030: SPARQL compiler, line 4: syntax error at '<' before 'DBPedia'\\n\\nSPARQL query:\\n#output-format:application/sparql-results+json\\nSELECT DISTINCT ?uri\\nWHERE {\\n  ?uri <DBPedia SPARQL for ?uri>\\n}\\nLIMIT 100\\n\"\n",
      "\n",
      "syntax error for sample #36\n"
     ]
    },
    {
     "name": "stderr",
     "output_type": "stream",
     "text": [
      " 26%|██▌       | 39/150 [00:56<01:09,  1.60it/s]"
     ]
    },
    {
     "name": "stdout",
     "output_type": "stream",
     "text": [
      "\n",
      "empty predicted answer set for sample #38\n"
     ]
    },
    {
     "name": "stderr",
     "output_type": "stream",
     "text": [
      " 27%|██▋       | 41/150 [01:00<02:38,  1.45s/it]"
     ]
    },
    {
     "name": "stdout",
     "output_type": "stream",
     "text": [
      "\n",
      "predicted answer set was supposed to be empty for sample #40\n"
     ]
    },
    {
     "name": "stderr",
     "output_type": "stream",
     "text": [
      " 29%|██▊       | 43/150 [01:01<01:49,  1.02s/it]"
     ]
    },
    {
     "name": "stdout",
     "output_type": "stream",
     "text": [
      "\n",
      "error executing SPARQL query: QueryBadFormed: A bad request has been sent to the endpoint: probably the SPARQL query is badly formed. \n",
      "\n",
      "Response:\n",
      "b'Virtuoso 37000 Error SP030: SPARQL compiler, line 48: syntax error\\n\\nSPARQL query:\\n#output-format:application/sparql-results+json\\nSELECT (COUNT(DISTINCT ?num) AS ?c) WHERE {\\n  {\\n    SELECT ?num WHERE {\\n      {\\n        SELECT ?num WHERE {\\n          {\\n            SELECT ?num WHERE {\\n              {\\n                SELECT ?num WHERE {\\n                  {\\n                    SELECT ?num WHERE {\\n                      {\\n                        SELECT ?num WHERE {\\n                          {\\n                            SELECT ?num WHERE {\\n                              {\\n                                SELECT ?num WHERE {\\n                                  {\\n                                    SELECT ?num WHERE {\\n                                      {\\n                                        SELECT ?num WHERE {\\n                                          {\\n                                            SELECT ?num WHERE {\\n                                              {\\n                                                SELECT ?num WHERE {\\n                                                  {\\n                                                    SELECT ?num WHERE {\\n                                                      {\\n                                                        SELECT ?num WHERE {\\n                                                          {\\n                                                            SELECT ?num WHERE {\\n                                                              {\\n                                                                SELECT ?num WHERE {\\n                                                                  {\\n                                                                    SELECT ?num WHERE {\\n                                                                      {\\n                                                                        SELECT ?num WHERE {\\n                                                                          {\\n                                                                            SELECT ?num WHERE {\\n                                                                              {\\n                                                                                SELECT ?num WHERE {\\n                                                                                  {\\n                                                                                    SELECT ?num WHERE {\\n                                                                                      {\\n                                                                                        SELECT ?num WHERE {\\n                                                                                          {\\n'\n",
      "\n",
      "syntax error for sample #42\n"
     ]
    },
    {
     "name": "stderr",
     "output_type": "stream",
     "text": [
      " 30%|███       | 45/150 [01:02<01:25,  1.23it/s]"
     ]
    },
    {
     "name": "stdout",
     "output_type": "stream",
     "text": [
      "\n",
      "empty predicted answer set for sample #44\n"
     ]
    },
    {
     "name": "stderr",
     "output_type": "stream",
     "text": [
      "\r 31%|███       | 46/150 [01:03<01:18,  1.33it/s]"
     ]
    },
    {
     "name": "stdout",
     "output_type": "stream",
     "text": [
      "\n",
      "error executing SPARQL query: QueryBadFormed: A bad request has been sent to the endpoint: probably the SPARQL query is badly formed. \n",
      "\n",
      "Response:\n",
      "b\"Virtuoso 37000 Error SP030: SPARQL compiler, line 19: syntax error at '<' before '?num'\\n\\nSPARQL query:\\n#output-format:application/sparql-results+json\\nSELECT (COUNT(DISTINCT ?num) AS ?c) WHERE {\\n  {\\n    SELECT (COUNT(?num) AS ?c) WHERE {\\n      {\\n        SELECT (?num) WHERE {\\n          {\\n            SELECT (?num) WHERE {\\n              {\\n                SELECT (?num) WHERE {\\n                  {\\n                    SELECT (?num) WHERE {\\n                      {\\n                        SELECT (?num) WHERE {\\n                          {\\n                            SELECT (?num) WHERE {\\n                              {\\n                                SELECT (?num) WHERE {\\n                                  ?num < ?num\\n                                }\\n                              }\\n                            }\\n                          }\\n                        }\\n                      }\\n                    }\\n                  }\\n                }\\n              }\\n            }\\n          }\\n        }\\n      }\\n    }\\n  }\\n}\\n\"\n",
      "\n",
      "syntax error for sample #45\n"
     ]
    },
    {
     "name": "stderr",
     "output_type": "stream",
     "text": [
      "\r 31%|███▏      | 47/150 [01:04<01:12,  1.42it/s]"
     ]
    },
    {
     "name": "stdout",
     "output_type": "stream",
     "text": [
      "\n",
      "empty predicted answer set for sample #46\n"
     ]
    },
    {
     "name": "stderr",
     "output_type": "stream",
     "text": [
      "\r 32%|███▏      | 48/150 [01:04<01:09,  1.47it/s]"
     ]
    },
    {
     "name": "stdout",
     "output_type": "stream",
     "text": [
      "\n",
      "error executing SPARQL query: QueryBadFormed: A bad request has been sent to the endpoint: probably the SPARQL query is badly formed. \n",
      "\n",
      "Response:\n",
      "b'Virtuoso 37000 Error SP030: SPARQL compiler, line 81: syntax error\\n\\nSPARQL query:\\n#output-format:application/sparql-results+json\\nSELECT DISTINCT ?uri WHERE {\\n  {\\n    {\\n      {\\n        {\\n          {\\n            {\\n              {\\n                {\\n                  {\\n                    {\\n                      {\\n                        {\\n                          {\\n                            {\\n                              {\\n                                {\\n                                  {\\n                                    {\\n                                      {\\n                                        {\\n                                          {\\n                                            {\\n                                              {\\n                                                {\\n                                                  {\\n                                                    {\\n                                                      {\\n                                                        {\\n                                                          {\\n                                                            {\\n                                                              {\\n                                                                {\\n                                                                  {\\n                                                                    {\\n                                                                      {\\n                                                                        {\\n                                                                          {\\n                                                                            {\\n                                                                              {\\n                                                                                {\\n                                                                                  {\\n                                                                                    {\\n                                                                                      {\\n                                                                                        {\\n                                                                                          {\\n                                                                                            {\\n                                                                                              {\\n                                                                                                {\\n                                                                                                  {\\n                                                                                                    {\\n                                                                                                      {\\n                                                                                                        {\\n                                                                                                          {\\n                                                                                                            {\\n                                                                                                              {\\n                                                                                                                {\\n                                                                                                                  {\\n                                                                                                                    {\\n                                                                                                                      {\\n                                                                                                                        {\\n                                                                                                                          {\\n                                                                                                                            {\\n                                                                                                                              {\\n                                                                                                                                {\\n                                                                                                                                  {\\n                                                                                                                                    {\\n                                                                                                                                      {\\n                                                                                                                                        {\\n                                                                                                                                          {\\n                                                                                                                                            {\\n                                                                                                                                              {\\n                                                                                                                                                {\\n                                                                                                                                                  {\\n                                                                                                                                                    {\\n                                                                                                                                                      {\\n                                                                                                                                                        {\\n                                                                                                                                                          {\\n                                                                                                                                                            {\\n'\n",
      "\n",
      "syntax error for sample #47\n"
     ]
    },
    {
     "name": "stderr",
     "output_type": "stream",
     "text": [
      "\r 33%|███▎      | 49/150 [01:05<01:08,  1.46it/s]/usr/local/lib/python3.10/dist-packages/SPARQLWrapper/Wrapper.py:623: RuntimeWarning: not detected query type for query ''''\n",
      "  warnings.warn(\n",
      "/usr/local/lib/python3.10/dist-packages/SPARQLWrapper/Wrapper.py:633: RuntimeWarning: unknown query type 'None'\n",
      "  warnings.warn(\"unknown query type '%s'\" % r_queryType, RuntimeWarning)\n",
      " 33%|███▎      | 50/150 [01:06<01:06,  1.51it/s]"
     ]
    },
    {
     "name": "stdout",
     "output_type": "stream",
     "text": [
      "\n",
      "error executing SPARQL query: EndPointInternalError: The endpoint returned the HTTP status code 500. \n",
      "\n",
      "Response:\n",
      "b'Virtuoso 42000 Error SR186:SECURITY: No permission to execute procedure DB.DBA.SPARUL_RUN with user ID 111, group ID 111\\n\\nSPARQL query:\\n#output-format:application/sparql-results+json\\n\\n'\n",
      "\n",
      "syntax error for sample #49\n"
     ]
    },
    {
     "name": "stderr",
     "output_type": "stream",
     "text": [
      " 35%|███▍      | 52/150 [01:07<01:02,  1.56it/s]"
     ]
    },
    {
     "name": "stdout",
     "output_type": "stream",
     "text": [
      "\n",
      "empty predicted answer set for sample #51\n"
     ]
    },
    {
     "name": "stderr",
     "output_type": "stream",
     "text": [
      "\r 35%|███▌      | 53/150 [01:07<01:01,  1.58it/s]"
     ]
    },
    {
     "name": "stdout",
     "output_type": "stream",
     "text": [
      "\n",
      "error executing SPARQL query: QueryBadFormed: A bad request has been sent to the endpoint: probably the SPARQL query is badly formed. \n",
      "\n",
      "Response:\n",
      "b\"Virtuoso 37000 Error SP030: SPARQL compiler, line 4: syntax error at ':extinct' before '.'\\n\\nSPARQL query:\\n#output-format:application/sparql-results+json\\nSELECT DISTINCT ?uri\\nWHERE {\\n  ?uri <http://www.w3.org/1999/02/22-rdf-syntax-ns#type> ?xsd:extinct .\\n  ?uri <http://www.w3.org/2002/07/owl#sameAs> ?xsd:date('1950-12-31') .\\n}\\nLIMIT 100\\n\"\n",
      "\n",
      "syntax error for sample #52\n"
     ]
    },
    {
     "name": "stderr",
     "output_type": "stream",
     "text": [
      " 37%|███▋      | 55/150 [01:09<00:58,  1.62it/s]"
     ]
    },
    {
     "name": "stdout",
     "output_type": "stream",
     "text": [
      "\n",
      "error executing SPARQL query: QueryBadFormed: A bad request has been sent to the endpoint: probably the SPARQL query is badly formed. \n",
      "\n",
      "Response:\n",
      "b\"Virtuoso 37000 Error SP030: SPARQL compiler, line 7: syntax error at '<' before '?num'\\n\\nSPARQL query:\\n#output-format:application/sparql-results+json\\nSELECT (COUNT(DISTINCT ?num) AS ?c) WHERE {\\n  {\\n    SELECT (COUNT(DISTINCT ?num) AS ?c) WHERE {\\n      {\\n        SELECT ?num WHERE {\\n          ?num < ?num .\\n        }\\n      }\\n    }\\n  }\\n}\\n\"\n",
      "\n",
      "syntax error for sample #54\n"
     ]
    },
    {
     "name": "stderr",
     "output_type": "stream",
     "text": [
      "\r 37%|███▋      | 56/150 [01:09<00:57,  1.63it/s]"
     ]
    },
    {
     "name": "stdout",
     "output_type": "stream",
     "text": [
      "\n",
      "error executing SPARQL query: QueryBadFormed: A bad request has been sent to the endpoint: probably the SPARQL query is badly formed. \n",
      "\n",
      "Response:\n",
      "b\"Virtuoso 37000 Error SP030: SPARQL compiler, line 3: Undefined namespace prefix in prefix:localpart notation at 'dbpedia:Pamela_Anderson' before 'dbpedia-owl:diet'\\n\\nSPARQL query:\\n#output-format:application/sparql-results+json\\nASK WHERE { \\n  dbpedia:Pamela_Anderson dbpedia-owl:diet dbpedia:Veganism .\\n}\\n\"\n",
      "\n",
      "syntax error for sample #55\n"
     ]
    },
    {
     "name": "stderr",
     "output_type": "stream",
     "text": [
      "\r 38%|███▊      | 57/150 [01:10<00:56,  1.64it/s]"
     ]
    },
    {
     "name": "stdout",
     "output_type": "stream",
     "text": [
      "\n",
      "empty predicted answer set for sample #56\n"
     ]
    },
    {
     "name": "stderr",
     "output_type": "stream",
     "text": [
      " 39%|███▉      | 59/150 [01:11<00:55,  1.64it/s]"
     ]
    },
    {
     "name": "stdout",
     "output_type": "stream",
     "text": [
      "\n",
      "empty predicted answer set for sample #58\n"
     ]
    },
    {
     "name": "stderr",
     "output_type": "stream",
     "text": [
      "\r 40%|████      | 60/150 [01:12<00:55,  1.62it/s]"
     ]
    },
    {
     "name": "stdout",
     "output_type": "stream",
     "text": [
      "\n",
      "error executing SPARQL query: QueryBadFormed: A bad request has been sent to the endpoint: probably the SPARQL query is badly formed. \n",
      "\n",
      "Response:\n",
      "b'Virtuoso 37000 Error SP030: SPARQL compiler, line 81: syntax error\\n\\nSPARQL query:\\n#output-format:application/sparql-results+json\\nSELECT DISTINCT ?num WHERE {\\n  {\\n    {\\n      {\\n        {\\n          {\\n            {\\n              {\\n                {\\n                  {\\n                    {\\n                      {\\n                        {\\n                          {\\n                            {\\n                              {\\n                                {\\n                                  {\\n                                    {\\n                                      {\\n                                        {\\n                                          {\\n                                            {\\n                                              {\\n                                                {\\n                                                  {\\n                                                    {\\n                                                      {\\n                                                        {\\n                                                          {\\n                                                            {\\n                                                              {\\n                                                                {\\n                                                                  {\\n                                                                    {\\n                                                                      {\\n                                                                        {\\n                                                                          {\\n                                                                            {\\n                                                                              {\\n                                                                                {\\n                                                                                  {\\n                                                                                    {\\n                                                                                      {\\n                                                                                        {\\n                                                                                          {\\n                                                                                            {\\n                                                                                              {\\n                                                                                                {\\n                                                                                                  {\\n                                                                                                    {\\n                                                                                                      {\\n                                                                                                        {\\n                                                                                                          {\\n                                                                                                            {\\n                                                                                                              {\\n                                                                                                                {\\n                                                                                                                  {\\n                                                                                                                    {\\n                                                                                                                      {\\n                                                                                                                        {\\n                                                                                                                          {\\n                                                                                                                            {\\n                                                                                                                              {\\n                                                                                                                                {\\n                                                                                                                                  {\\n                                                                                                                                    {\\n                                                                                                                                      {\\n                                                                                                                                        {\\n                                                                                                                                          {\\n                                                                                                                                            {\\n                                                                                                                                              {\\n                                                                                                                                                {\\n                                                                                                                                                  {\\n                                                                                                                                                    {\\n                                                                                                                                                      {\\n                                                                                                                                                        {\\n                                                                                                                                                          {\\n                                                                                                                                                            {\\n'\n",
      "\n",
      "syntax error for sample #59\n"
     ]
    },
    {
     "name": "stderr",
     "output_type": "stream",
     "text": [
      " 41%|████▏     | 62/150 [01:13<00:53,  1.63it/s]"
     ]
    },
    {
     "name": "stdout",
     "output_type": "stream",
     "text": [
      "\n",
      "error executing SPARQL query: QueryBadFormed: A bad request has been sent to the endpoint: probably the SPARQL query is badly formed. \n",
      "\n",
      "Response:\n",
      "b\"Virtuoso 37000 Error SP030: SPARQL compiler, line 4: syntax error at '?uri' before '?uri'\\n\\nSPARQL query:\\n#output-format:application/sparql-results+json\\nSELECT (COUNT(DISTINCT ?uri) AS ?c)\\nWHERE {\\n  ?uri ?uri ?uri ?uri ?uri ?uri ?uri ?uri ?uri ?uri ?uri ?uri ?uri ?uri ?uri ?uri ?uri ?uri ?uri ?num ?num ?num ?number .\\n  ?number WHERE { ?suprafa\\xc5\\xa3 ?c }\\n}\\n\"\n",
      "\n",
      "syntax error for sample #61\n"
     ]
    },
    {
     "name": "stderr",
     "output_type": "stream",
     "text": [
      "\r 42%|████▏     | 63/150 [01:13<00:53,  1.63it/s]"
     ]
    },
    {
     "name": "stdout",
     "output_type": "stream",
     "text": [
      "\n",
      "error executing SPARQL query: QueryBadFormed: A bad request has been sent to the endpoint: probably the SPARQL query is badly formed. \n",
      "\n",
      "Response:\n",
      "b'Virtuoso 37000 Error SP030: SPARQL compiler, line 23: syntax error\\n\\nSPARQL query:\\n#output-format:application/sparql-results+json\\nSELECT DISTINCT ?uri\\nWHERE {\\n  ?uri ?p1 ?o1 .\\n  ?uri ?p2 ?o2 .\\n  ?uri ?p3 ?o3 .\\n  ?uri ?p4 ?o4 .\\n  ?uri ?p5 ?o5 .\\n  ?uri ?p6 ?o6 .\\n  ?uri ?p7 ?o7 .\\n  ?uri ?p8 ?o8 .\\n  ?uri ?p9 ?o9 .\\n  ?uri ?p10 ?o10 .\\n  ?uri ?p11 ?o11 .\\n  ?uri ?p12 ?o12 .\\n  ?uri ?p13 ?o13 .\\n  ?uri ?p14 ?o14 .\\n  ?uri ?p15 ?o15 .\\n  ?uri ?p16 ?o16 .\\n  ?uri ?p17 ?o17 .\\n  ?uri ?p18 ?o18 .\\n  ?uri ?p19 ?o19\\n'\n",
      "\n",
      "syntax error for sample #62\n"
     ]
    },
    {
     "name": "stderr",
     "output_type": "stream",
     "text": [
      "\r 43%|████▎     | 64/150 [01:14<00:52,  1.64it/s]"
     ]
    },
    {
     "name": "stdout",
     "output_type": "stream",
     "text": [
      "\n",
      "predicted answer set was supposed to be empty for sample #63\n"
     ]
    },
    {
     "name": "stderr",
     "output_type": "stream",
     "text": [
      "\r 43%|████▎     | 65/150 [01:15<00:51,  1.64it/s]"
     ]
    },
    {
     "name": "stdout",
     "output_type": "stream",
     "text": [
      "\n",
      "predicted answer set was supposed to be empty for sample #64\n"
     ]
    },
    {
     "name": "stderr",
     "output_type": "stream",
     "text": [
      " 45%|████▍     | 67/150 [01:16<00:53,  1.55it/s]"
     ]
    },
    {
     "name": "stdout",
     "output_type": "stream",
     "text": [
      "\n",
      "empty predicted answer set for sample #66\n"
     ]
    },
    {
     "name": "stderr",
     "output_type": "stream",
     "text": [
      "\r 45%|████▌     | 68/150 [01:17<00:52,  1.58it/s]"
     ]
    },
    {
     "name": "stdout",
     "output_type": "stream",
     "text": [
      "\n",
      "error executing SPARQL query: QueryBadFormed: A bad request has been sent to the endpoint: probably the SPARQL query is badly formed. \n",
      "\n",
      "Response:\n",
      "b\"Virtuoso 37000 Error SP030: SPARQL compiler, line 3: syntax error at '.' before '}'\\n\\nSPARQL query:\\n#output-format:application/sparql-results+json\\nSELECT ?name WHERE { \\n  <http://example.org/name> ?name .\\n}\\nLIMIT 100\\n\"\n",
      "\n",
      "syntax error for sample #67\n"
     ]
    },
    {
     "name": "stderr",
     "output_type": "stream",
     "text": [
      "\r 46%|████▌     | 69/150 [01:17<00:50,  1.59it/s]"
     ]
    },
    {
     "name": "stdout",
     "output_type": "stream",
     "text": [
      "\n",
      "empty predicted answer set for sample #68\n"
     ]
    },
    {
     "name": "stderr",
     "output_type": "stream",
     "text": [
      " 47%|████▋     | 71/150 [01:18<00:48,  1.62it/s]"
     ]
    },
    {
     "name": "stdout",
     "output_type": "stream",
     "text": [
      "\n",
      "empty predicted answer set for sample #70\n"
     ]
    },
    {
     "name": "stderr",
     "output_type": "stream",
     "text": [
      " 49%|████▊     | 73/150 [01:30<03:41,  2.88s/it]"
     ]
    },
    {
     "name": "stdout",
     "output_type": "stream",
     "text": [
      "\n",
      "empty predicted answer set for sample #72\n"
     ]
    },
    {
     "name": "stderr",
     "output_type": "stream",
     "text": [
      "\r 49%|████▉     | 74/150 [01:31<02:47,  2.20s/it]"
     ]
    },
    {
     "name": "stdout",
     "output_type": "stream",
     "text": [
      "\n",
      "empty predicted answer set for sample #73\n"
     ]
    },
    {
     "name": "stderr",
     "output_type": "stream",
     "text": [
      " 51%|█████     | 76/150 [02:23<14:56, 12.12s/it]"
     ]
    },
    {
     "name": "stdout",
     "output_type": "stream",
     "text": [
      "\n",
      "empty predicted answer set for sample #75\n"
     ]
    },
    {
     "name": "stderr",
     "output_type": "stream",
     "text": [
      " 52%|█████▏    | 78/150 [02:25<07:29,  6.24s/it]"
     ]
    },
    {
     "name": "stdout",
     "output_type": "stream",
     "text": [
      "\n",
      "empty predicted answer set for sample #77\n"
     ]
    },
    {
     "name": "stderr",
     "output_type": "stream",
     "text": [
      "\r 53%|█████▎    | 79/150 [02:25<05:23,  4.55s/it]"
     ]
    },
    {
     "name": "stdout",
     "output_type": "stream",
     "text": [
      "\n",
      "error executing SPARQL query: QueryBadFormed: A bad request has been sent to the endpoint: probably the SPARQL query is badly formed. \n",
      "\n",
      "Response:\n",
      "b\"Virtuoso 37000 Error SP030: SPARQL compiler, line 4: syntax error at '<' before 'DBPedia'\\n\\nSPARQL query:\\n#output-format:application/sparql-results+json\\nSELECT DISTINCT ?uri\\nWHERE {\\n  ?uri <DBPedia SPARQL> ?uri .\\n}\\nLIMIT 100\\n\"\n",
      "\n",
      "syntax error for sample #78\n"
     ]
    },
    {
     "name": "stderr",
     "output_type": "stream",
     "text": [
      " 54%|█████▍    | 81/150 [02:26<02:56,  2.55s/it]"
     ]
    },
    {
     "name": "stdout",
     "output_type": "stream",
     "text": [
      "\n",
      "error executing SPARQL query: EndPointInternalError: The endpoint returned the HTTP status code 500. \n",
      "\n",
      "Response:\n",
      "b'Virtuoso 42000 Error SR186:SECURITY: No permission to execute procedure DB.DBA.SPARUL_RUN with user ID 111, group ID 111\\n\\nSPARQL query:\\n#output-format:application/sparql-results+json\\n\\n'\n",
      "\n",
      "syntax error for sample #80\n"
     ]
    },
    {
     "name": "stderr",
     "output_type": "stream",
     "text": [
      "\r 55%|█████▍    | 82/150 [02:27<02:13,  1.97s/it]"
     ]
    },
    {
     "name": "stdout",
     "output_type": "stream",
     "text": [
      "\n",
      "empty predicted answer set for sample #81\n"
     ]
    },
    {
     "name": "stderr",
     "output_type": "stream",
     "text": [
      "\r 55%|█████▌    | 83/150 [02:28<01:44,  1.56s/it]"
     ]
    },
    {
     "name": "stdout",
     "output_type": "stream",
     "text": [
      "\n",
      "error executing SPARQL query: EndPointInternalError: The endpoint returned the HTTP status code 500. \n",
      "\n",
      "Response:\n",
      "b'Virtuoso 42000 Error SR186:SECURITY: No permission to execute procedure DB.DBA.SPARUL_RUN with user ID 111, group ID 111\\n\\nSPARQL query:\\n#output-format:application/sparql-results+json\\n\\n'\n",
      "\n",
      "syntax error for sample #82\n"
     ]
    },
    {
     "name": "stderr",
     "output_type": "stream",
     "text": [
      "\r 56%|█████▌    | 84/150 [02:28<01:23,  1.27s/it]"
     ]
    },
    {
     "name": "stdout",
     "output_type": "stream",
     "text": [
      "\n",
      "predicted answer set was supposed to be empty for sample #83\n"
     ]
    },
    {
     "name": "stderr",
     "output_type": "stream",
     "text": [
      " 57%|█████▋    | 86/150 [02:29<00:59,  1.07it/s]"
     ]
    },
    {
     "name": "stdout",
     "output_type": "stream",
     "text": [
      "\n",
      "error executing SPARQL query: QueryBadFormed: A bad request has been sent to the endpoint: probably the SPARQL query is badly formed. \n",
      "\n",
      "Response:\n",
      "b\"Virtuoso 37000 Error SP030: SPARQL compiler, line 4: syntax error at '<' before 'DBPedia'\\n\\nSPARQL query:\\n#output-format:application/sparql-results+json\\nASK WHERE {\\n  SELECT DISTINCT ?uri WHERE {\\n    ?uri <DBPedia SPARQLABLE> ?uri .\\n  }\\n  ORDER BY DESC(?num)\\n  OFFSET 0\\n  LIMIT 1\\n}\\n\"\n",
      "\n",
      "syntax error for sample #85\n"
     ]
    },
    {
     "name": "stderr",
     "output_type": "stream",
     "text": [
      "\r 58%|█████▊    | 87/150 [02:30<00:52,  1.20it/s]"
     ]
    },
    {
     "name": "stdout",
     "output_type": "stream",
     "text": [
      "\n",
      "empty predicted answer set for sample #86\n"
     ]
    },
    {
     "name": "stderr",
     "output_type": "stream",
     "text": [
      "\r 59%|█████▊    | 88/150 [02:31<00:48,  1.28it/s]"
     ]
    },
    {
     "name": "stdout",
     "output_type": "stream",
     "text": [
      "\n",
      "empty predicted answer set for sample #87\n"
     ]
    },
    {
     "name": "stderr",
     "output_type": "stream",
     "text": [
      "\r 59%|█████▉    | 89/150 [02:31<00:44,  1.38it/s]"
     ]
    },
    {
     "name": "stdout",
     "output_type": "stream",
     "text": [
      "\n",
      "predicted answer set was supposed to be empty for sample #88\n"
     ]
    },
    {
     "name": "stderr",
     "output_type": "stream",
     "text": [
      "\r 60%|██████    | 90/150 [02:32<00:41,  1.45it/s]"
     ]
    },
    {
     "name": "stdout",
     "output_type": "stream",
     "text": [
      "\n",
      "predicted answer set was supposed to be empty for sample #89\n"
     ]
    },
    {
     "name": "stderr",
     "output_type": "stream",
     "text": [
      " 62%|██████▏   | 93/150 [02:34<00:36,  1.57it/s]"
     ]
    },
    {
     "name": "stdout",
     "output_type": "stream",
     "text": [
      "\n",
      "empty predicted answer set for sample #92\n"
     ]
    },
    {
     "name": "stderr",
     "output_type": "stream",
     "text": [
      "\r 63%|██████▎   | 94/150 [02:34<00:35,  1.60it/s]"
     ]
    },
    {
     "name": "stdout",
     "output_type": "stream",
     "text": [
      "\n",
      "error executing SPARQL query: EndPointInternalError: The endpoint returned the HTTP status code 500. \n",
      "\n",
      "Response:\n",
      "b'Virtuoso 42000 Error SR186:SECURITY: No permission to execute procedure DB.DBA.SPARUL_RUN with user ID 111, group ID 111\\n\\nSPARQL query:\\n#output-format:application/sparql-results+json\\n\\n'\n",
      "\n",
      "syntax error for sample #93\n"
     ]
    },
    {
     "name": "stderr",
     "output_type": "stream",
     "text": [
      "\r 63%|██████▎   | 95/150 [02:35<00:34,  1.60it/s]"
     ]
    },
    {
     "name": "stdout",
     "output_type": "stream",
     "text": [
      "\n",
      "error executing SPARQL query: QueryBadFormed: A bad request has been sent to the endpoint: probably the SPARQL query is badly formed. \n",
      "\n",
      "Response:\n",
      "b\"Virtuoso 37000 Error SP030: SPARQL compiler, line 0: Only '{', '(' and a string literal are allowed after WHERE or SQLQUERY keyword in SPARQL expression at '}'\\n\\nSPARQL query:\\n#output-format:application/sparql-results+json\\nSELECT DISTINCT ?uri\\nWHERE {\\n  {\\n    SELECT ?uri\\n    WHERE {\\n      {\\n        SELECT ?uri\\n        WHERE {\\n          {\\n            SELECT ?uri\\n            WHERE {\\n              {\\n                SELECT ?uri\\n                WHERE {\\n                  {\\n                    SELECT ?uri\\n                    WHERE {\\n                      {\\n                        SELECT ?uri\\n                        WHERE {\\n                          {\\n                            SELECT ?uri\\n                            WHERE {\\n                              {\\n                                SELECT ?uri\\n                                WHERE {\\n                                  {\\n                                    SELECT ?uri\\n                                    WHERE {\\n                                      {\\n                                        SELECT ?uri\\n                                        WHERE {\\n                                          {\\n                                            SELECT ?uri\\n                                            WHERE {\\n                                              {\\n                                                SELECT ?uri\\n                                                WHERE {\\n                                                  {\\n                                                    SELECT ?uri\\n                                                    WHERE {\\n                                                      {\\n                                                        SELECT ?uri\\n                                                        WHERE {\\n                                                          {\\n                                                            SELECT ?uri\\n                                                            WHERE {\\n                                                              {\\n                                                                SELECT ?uri\\n                                                                WHERE {\\n                                                                  {\\n                                                                    SELECT ?uri\\n                                                                    WHERE {\\n                                                                      {\\n                                                                        SELECT ?uri\\n                                                                        WHERE {\\n                                                                          {\\n                                                                            SELECT ?uri\\n                                                                            WHERE\\n\"\n",
      "\n",
      "syntax error for sample #94\n"
     ]
    },
    {
     "name": "stderr",
     "output_type": "stream",
     "text": [
      "\r 64%|██████▍   | 96/150 [02:36<00:33,  1.62it/s]"
     ]
    },
    {
     "name": "stdout",
     "output_type": "stream",
     "text": [
      "\n",
      "empty predicted answer set for sample #95\n"
     ]
    },
    {
     "name": "stderr",
     "output_type": "stream",
     "text": [
      " 65%|██████▌   | 98/150 [02:37<00:31,  1.63it/s]"
     ]
    },
    {
     "name": "stdout",
     "output_type": "stream",
     "text": [
      "\n",
      "empty predicted answer set for sample #97\n"
     ]
    },
    {
     "name": "stderr",
     "output_type": "stream",
     "text": [
      "\r 66%|██████▌   | 99/150 [02:37<00:31,  1.64it/s]"
     ]
    },
    {
     "name": "stdout",
     "output_type": "stream",
     "text": [
      "\n",
      "empty predicted answer set for sample #98\n"
     ]
    },
    {
     "name": "stderr",
     "output_type": "stream",
     "text": [
      " 67%|██████▋   | 101/150 [02:39<00:29,  1.65it/s]"
     ]
    },
    {
     "name": "stdout",
     "output_type": "stream",
     "text": [
      "\n",
      "empty predicted answer set for sample #100\n"
     ]
    },
    {
     "name": "stderr",
     "output_type": "stream",
     "text": [
      "\r 68%|██████▊   | 102/150 [02:39<00:29,  1.65it/s]"
     ]
    },
    {
     "name": "stdout",
     "output_type": "stream",
     "text": [
      "\n",
      "empty predicted answer set for sample #101\n"
     ]
    },
    {
     "name": "stderr",
     "output_type": "stream",
     "text": [
      "\r 69%|██████▊   | 103/150 [02:40<00:28,  1.66it/s]"
     ]
    },
    {
     "name": "stdout",
     "output_type": "stream",
     "text": [
      "\n",
      "empty predicted answer set for sample #102\n"
     ]
    },
    {
     "name": "stderr",
     "output_type": "stream",
     "text": [
      " 71%|███████   | 106/150 [02:53<02:08,  2.93s/it]"
     ]
    },
    {
     "name": "stdout",
     "output_type": "stream",
     "text": [
      "\n",
      "error executing SPARQL query: QueryBadFormed: A bad request has been sent to the endpoint: probably the SPARQL query is badly formed. \n",
      "\n",
      "Response:\n",
      "b\"Virtuoso 37000 Error SP030: SPARQL compiler, line 0: Too many closing parentheses at '}'\\n\\nSPARQL query:\\n#output-format:application/sparql-results+json\\nSELECT DISTINCT ?string\\nWHERE {\\n  ?string <DBPedia SPARQL for the following question: <?string < DBPedia SPARQL for the following question: <?string < DBPedia SPARQL for the following question: <?name }?name < DBPedia SPARQL for the following question: <?name < DBPedia SPARQL for the following question: <http://www.w3.org/2000/01/rdf-schema#label> ?name .\\n}\\nLIMIT 100\\n\"\n",
      "\n",
      "syntax error for sample #105\n"
     ]
    },
    {
     "name": "stderr",
     "output_type": "stream",
     "text": [
      "\r 71%|███████▏  | 107/150 [02:53<01:35,  2.23s/it]"
     ]
    },
    {
     "name": "stdout",
     "output_type": "stream",
     "text": [
      "\n",
      "empty predicted answer set for sample #106\n"
     ]
    },
    {
     "name": "stderr",
     "output_type": "stream",
     "text": [
      "\r 72%|███████▏  | 108/150 [02:54<01:13,  1.74s/it]"
     ]
    },
    {
     "name": "stdout",
     "output_type": "stream",
     "text": [
      "\n",
      "predicted answer set was supposed to be empty for sample #107\n"
     ]
    },
    {
     "name": "stderr",
     "output_type": "stream",
     "text": [
      " 75%|███████▍  | 112/150 [03:04<01:16,  2.02s/it]"
     ]
    },
    {
     "name": "stdout",
     "output_type": "stream",
     "text": [
      "\n",
      "empty predicted answer set for sample #111\n"
     ]
    },
    {
     "name": "stderr",
     "output_type": "stream",
     "text": [
      "\r 75%|███████▌  | 113/150 [03:05<00:59,  1.59s/it]"
     ]
    },
    {
     "name": "stdout",
     "output_type": "stream",
     "text": [
      "\n",
      "empty predicted answer set for sample #112\n"
     ]
    },
    {
     "name": "stderr",
     "output_type": "stream",
     "text": [
      "\r 76%|███████▌  | 114/150 [03:05<00:47,  1.32s/it]"
     ]
    },
    {
     "name": "stdout",
     "output_type": "stream",
     "text": [
      "\n",
      "predicted answer set was supposed to be empty for sample #113\n"
     ]
    },
    {
     "name": "stderr",
     "output_type": "stream",
     "text": [
      "\r 77%|███████▋  | 115/150 [03:06<00:38,  1.11s/it]"
     ]
    },
    {
     "name": "stdout",
     "output_type": "stream",
     "text": [
      "\n",
      "empty predicted answer set for sample #114\n"
     ]
    },
    {
     "name": "stderr",
     "output_type": "stream",
     "text": [
      " 78%|███████▊  | 117/150 [03:07<00:27,  1.18it/s]"
     ]
    },
    {
     "name": "stdout",
     "output_type": "stream",
     "text": [
      "\n",
      "error executing SPARQL query: EndPointInternalError: The endpoint returned the HTTP status code 500. \n",
      "\n",
      "Response:\n",
      "b'Virtuoso 42000 Error SR186:SECURITY: No permission to execute procedure DB.DBA.SPARUL_RUN with user ID 111, group ID 111\\n\\nSPARQL query:\\n#output-format:application/sparql-results+json\\n\\n'\n",
      "\n",
      "syntax error for sample #116\n"
     ]
    },
    {
     "name": "stderr",
     "output_type": "stream",
     "text": [
      " 79%|███████▉  | 119/150 [03:08<00:22,  1.38it/s]"
     ]
    },
    {
     "name": "stdout",
     "output_type": "stream",
     "text": [
      "\n",
      "error executing SPARQL query: EndPointInternalError: The endpoint returned the HTTP status code 500. \n",
      "\n",
      "Response:\n",
      "b'Virtuoso 42000 Error SR186:SECURITY: No permission to execute procedure DB.DBA.SPARUL_RUN with user ID 111, group ID 111\\n\\nSPARQL query:\\n#output-format:application/sparql-results+json\\n\\n'\n",
      "\n",
      "syntax error for sample #118\n"
     ]
    },
    {
     "name": "stderr",
     "output_type": "stream",
     "text": [
      "\r 80%|████████  | 120/150 [03:09<00:20,  1.45it/s]"
     ]
    },
    {
     "name": "stdout",
     "output_type": "stream",
     "text": [
      "\n",
      "predicted answer set was supposed to be empty for sample #119\n"
     ]
    },
    {
     "name": "stderr",
     "output_type": "stream",
     "text": [
      "\r 81%|████████  | 121/150 [03:10<00:19,  1.50it/s]"
     ]
    },
    {
     "name": "stdout",
     "output_type": "stream",
     "text": [
      "\n",
      "empty predicted answer set for sample #120\n"
     ]
    },
    {
     "name": "stderr",
     "output_type": "stream",
     "text": [
      "\r 81%|████████▏ | 122/150 [03:10<00:18,  1.53it/s]"
     ]
    },
    {
     "name": "stdout",
     "output_type": "stream",
     "text": [
      "\n",
      "empty predicted answer set for sample #121\n"
     ]
    },
    {
     "name": "stderr",
     "output_type": "stream",
     "text": [
      "\r 82%|████████▏ | 123/150 [03:11<00:17,  1.57it/s]"
     ]
    },
    {
     "name": "stdout",
     "output_type": "stream",
     "text": [
      "\n",
      "empty predicted answer set for sample #122\n"
     ]
    },
    {
     "name": "stderr",
     "output_type": "stream",
     "text": [
      " 84%|████████▍ | 126/150 [03:14<00:18,  1.28it/s]"
     ]
    },
    {
     "name": "stdout",
     "output_type": "stream",
     "text": [
      "\n",
      "error executing SPARQL query: QueryBadFormed: A bad request has been sent to the endpoint: probably the SPARQL query is badly formed. \n",
      "\n",
      "Response:\n",
      "b\"Virtuoso 37000 Error SP030: SPARQL compiler, line 7: syntax error at '?uri' before '?uri'\\n\\nSPARQL query:\\n#output-format:application/sparql-results+json\\nSELECT DISTINCT ?uri WHERE {\\n  {\\n    SELECT DISTINCT ?uri WHERE {\\n      {\\n        SELECT ?uri WHERE {\\n          ?uri ?uri ?uri ?uri ?uri ?uri ?uri ?uri ?uri ?uri ?uri ?uri ?uri ?uri ?uri ?uri ?uri ?uri ?uri ?uri ?uri ?uri ?uri ?uri ?uri ?uri ?uri ?uri ?uri ?uri ?uri ?uri ?uri ?uri ?uri ?uri ?uri ?uri ?uri ?uri ?uri ?uri ?uri ?uri ?uri ?uri ?uri ?uri ?uri ?uri ?uri ?uri ?uri ?uri ?uri ?uri ?uri ?uri ?uri ?uri ?uri ?uri ?uri ?uri ?uri ?uri ?uri ?uri ?uri ?uri ?uri ?uri ?uri ?uri ?uri ?uri ?uri ?uri ?uri ?uri ?uri ?uri ?uri ?uri ?uri ?uri\\n\"\n",
      "\n",
      "syntax error for sample #125\n"
     ]
    },
    {
     "name": "stderr",
     "output_type": "stream",
     "text": [
      "\r 85%|████████▍ | 127/150 [03:14<00:16,  1.37it/s]"
     ]
    },
    {
     "name": "stdout",
     "output_type": "stream",
     "text": [
      "\n",
      "error executing SPARQL query: QueryBadFormed: A bad request has been sent to the endpoint: probably the SPARQL query is badly formed. \n",
      "\n",
      "Response:\n",
      "b\"Virtuoso 37000 Error SP030: SPARQL compiler, line 3: syntax error at '?num' before '?num'\\n\\nSPARQL query:\\n#output-format:application/sparql-results+json\\nSELECT DISTINCT ?num WHERE {\\n  ?num ?num ?num ?num ?num ?num ?num ?num ?num ?num ?num ?num ?num ?num ?num ?num ?num ?num ?num ?num ?num ?num ?num ?num ?num ?num ?num ?num ?num ?num ?num ?num ?num ?num ?num ?num ?num ?num ?num ?num ?num ?num ?num ?num ?num ?num ?num ?num ?num ?num ?num ?num ?num ?num ?num ?num ?num ?num ?num ?num ?num ?num ?num ?num ?num ?num ?num ?num ?num ?num ?num ?num ?num ?num ?num ?num ?num ?num ?num ?num ?num ?num ?num ?num ?num ?num ?num ?num ?num ?num ?num ?num ?num ?num ?\\n\"\n",
      "\n",
      "syntax error for sample #126\n"
     ]
    },
    {
     "name": "stderr",
     "output_type": "stream",
     "text": [
      "\r 85%|████████▌ | 128/150 [03:15<00:15,  1.45it/s]"
     ]
    },
    {
     "name": "stdout",
     "output_type": "stream",
     "text": [
      "\n",
      "error executing SPARQL query: QueryBadFormed: A bad request has been sent to the endpoint: probably the SPARQL query is badly formed. \n",
      "\n",
      "Response:\n",
      "b\"Virtuoso 37000 Error SP030: SPARQL compiler, line 4: syntax error at '<' before 'DBPedia'\\n\\nSPARQL query:\\n#output-format:application/sparql-results+json\\nSELECT DISTINCT ?uri\\nWHERE {\\n  ?uri <DBPedia SPARQL for ?uri> .\\n  ?uri <DBPedia SPARQL for ?uri> .\\n  ?uri <DBPedia SPARQL for ?uri> .\\n  ?uri <DBPedia SPARQL for ?uri> .\\n  ?uri <DBPedia SPARQL for ?uri> .\\n  ?uri <DBPedia SPARQL for ?uri> .\\n  ?uri <DBPedia SPARQL for ?date> .\\n  ?date <DBPedia SPARQL for ?date> .\\n  ?date <DBPedia SPARQL for ?date> .\\n  ?date <DBPedia SPARQL for ?date> .\\n  ?date <DBPedia SPARQL for ?date> .\\n  ?date <DBPedia SPARQL for ?date> .\\n  ?date <DBPedia SPAR\\n\"\n",
      "\n",
      "syntax error for sample #127\n"
     ]
    },
    {
     "name": "stderr",
     "output_type": "stream",
     "text": [
      "\r 86%|████████▌ | 129/150 [03:15<00:13,  1.50it/s]"
     ]
    },
    {
     "name": "stdout",
     "output_type": "stream",
     "text": [
      "\n",
      "error executing SPARQL query: QueryBadFormed: A bad request has been sent to the endpoint: probably the SPARQL query is badly formed. \n",
      "\n",
      "Response:\n",
      "b\"Virtuoso 37000 Error SP030: SPARQL compiler, line 4: syntax error at '<' before 'DBPedia'\\n\\nSPARQL query:\\n#output-format:application/sparql-results+json\\nSELECT DISTINCT ?uri \\nWHERE { \\n  ?uri <DBPedia SPARQL for ?uri> .\\n  ?uri <DBPedia SPARQL for ?uri> .\\n  ?uri <DBPedia SPARQL for ?uri> .\\n  ?uri <DBPedia SPARQL for ?uri> .\\n}\\nLIMIT 100\\n\"\n",
      "\n",
      "syntax error for sample #128\n"
     ]
    },
    {
     "name": "stderr",
     "output_type": "stream",
     "text": [
      "\r 87%|████████▋ | 130/150 [03:16<00:12,  1.54it/s]"
     ]
    },
    {
     "name": "stdout",
     "output_type": "stream",
     "text": [
      "\n",
      "empty predicted answer set for sample #129\n"
     ]
    },
    {
     "name": "stderr",
     "output_type": "stream",
     "text": [
      "\r 87%|████████▋ | 131/150 [03:17<00:12,  1.58it/s]"
     ]
    },
    {
     "name": "stdout",
     "output_type": "stream",
     "text": [
      "\n",
      "error executing SPARQL query: QueryBadFormed: A bad request has been sent to the endpoint: probably the SPARQL query is badly formed. \n",
      "\n",
      "Response:\n",
      "b\"Virtuoso 37000 Error SP030: SPARQL compiler, line 4: syntax error at '<' before 'DBPedia'\\n\\nSPARQL query:\\n#output-format:application/sparql-results+json\\nSELECT DISTINCT ?date\\nWHERE {\\n  ?date <DBPedia SPARQL for ?date> .\\n}\\nLIMIT 100\\n\"\n",
      "\n",
      "syntax error for sample #130\n"
     ]
    },
    {
     "name": "stderr",
     "output_type": "stream",
     "text": [
      "\r 88%|████████▊ | 132/150 [03:17<00:11,  1.60it/s]"
     ]
    },
    {
     "name": "stdout",
     "output_type": "stream",
     "text": [
      "\n",
      "predicted answer set was supposed to be empty for sample #131\n"
     ]
    },
    {
     "name": "stderr",
     "output_type": "stream",
     "text": [
      " 92%|█████████▏| 138/150 [03:21<00:07,  1.58it/s]"
     ]
    },
    {
     "name": "stdout",
     "output_type": "stream",
     "text": [
      "\n",
      "error executing SPARQL query: QueryBadFormed: A bad request has been sent to the endpoint: probably the SPARQL query is badly formed. \n",
      "\n",
      "Response:\n",
      "b'Virtuoso 37000 Error SP030: SPARQL compiler, line 50: syntax error\\n\\nSPARQL query:\\n#output-format:application/sparql-results+json\\nSELECT DISTINCT ?uri WHERE {\\n  {\\n    SELECT ?uri WHERE {\\n      {\\n        SELECT ?uri WHERE {\\n          {\\n            SELECT ?uri WHERE {\\n              {\\n                SELECT ?uri WHERE {\\n                  {\\n                    SELECT ?uri WHERE {\\n                      {\\n                        SELECT ?uri WHERE {\\n                          {\\n                            SELECT ?uri WHERE {\\n                              {\\n                                SELECT ?uri WHERE {\\n                                  {\\n                                    SELECT ?uri WHERE {\\n                                      {\\n                                        SELECT ?uri WHERE {\\n                                          {\\n                                            SELECT ?uri WHERE {\\n                                              {\\n                                                SELECT ?uri WHERE {\\n                                                  {\\n                                                    SELECT ?uri WHERE {\\n                                                      {\\n                                                        SELECT ?uri WHERE {\\n                                                          {\\n                                                            SELECT ?uri WHERE {\\n                                                              {\\n                                                                SELECT ?uri WHERE {\\n                                                                  {\\n                                                                    SELECT ?uri WHERE {\\n                                                                      {\\n                                                                        SELECT ?uri WHERE {\\n                                                                          {\\n                                                                            SELECT ?uri WHERE {\\n                                                                              {\\n                                                                                SELECT ?uri WHERE {\\n                                                                                  {\\n                                                                                    SELECT ?uri WHERE {\\n                                                                                      {\\n                                                                                        SELECT ?uri WHERE {\\n                                                                                          {\\n                                                                                            SELECT ?uri WHERE {\\n                                                                                              {\\n'\n",
      "\n",
      "syntax error for sample #137\n"
     ]
    },
    {
     "name": "stderr",
     "output_type": "stream",
     "text": [
      " 93%|█████████▎| 140/150 [03:22<00:06,  1.54it/s]"
     ]
    },
    {
     "name": "stdout",
     "output_type": "stream",
     "text": [
      "\n",
      "empty predicted answer set for sample #139\n"
     ]
    },
    {
     "name": "stderr",
     "output_type": "stream",
     "text": [
      " 95%|█████████▌| 143/150 [03:24<00:04,  1.61it/s]"
     ]
    },
    {
     "name": "stdout",
     "output_type": "stream",
     "text": [
      "\n",
      "empty predicted answer set for sample #142\n"
     ]
    },
    {
     "name": "stderr",
     "output_type": "stream",
     "text": [
      " 97%|█████████▋| 145/150 [03:26<00:03,  1.62it/s]"
     ]
    },
    {
     "name": "stdout",
     "output_type": "stream",
     "text": [
      "\n",
      "error executing SPARQL query: EndPointInternalError: The endpoint returned the HTTP status code 500. \n",
      "\n",
      "Response:\n",
      "b'Virtuoso 42000 Error SR186:SECURITY: No permission to execute procedure DB.DBA.SPARUL_RUN with user ID 111, group ID 111\\n\\nSPARQL query:\\n#output-format:application/sparql-results+json\\n\\n'\n",
      "\n",
      "syntax error for sample #144\n"
     ]
    },
    {
     "name": "stderr",
     "output_type": "stream",
     "text": [
      "\r 97%|█████████▋| 146/150 [03:26<00:02,  1.63it/s]"
     ]
    },
    {
     "name": "stdout",
     "output_type": "stream",
     "text": [
      "\n",
      "error executing SPARQL query: EndPointInternalError: The endpoint returned the HTTP status code 500. \n",
      "\n",
      "Response:\n",
      "b'Virtuoso 42000 Error SR186:SECURITY: No permission to execute procedure DB.DBA.SPARUL_RUN with user ID 111, group ID 111\\n\\nSPARQL query:\\n#output-format:application/sparql-results+json\\n\\n'\n",
      "\n",
      "syntax error for sample #145\n"
     ]
    },
    {
     "name": "stderr",
     "output_type": "stream",
     "text": [
      "\r 98%|█████████▊| 147/150 [03:27<00:01,  1.64it/s]"
     ]
    },
    {
     "name": "stdout",
     "output_type": "stream",
     "text": [
      "\n",
      "empty predicted answer set for sample #146\n"
     ]
    },
    {
     "name": "stderr",
     "output_type": "stream",
     "text": [
      " 99%|█████████▉| 149/150 [03:28<00:00,  1.58it/s]"
     ]
    },
    {
     "name": "stdout",
     "output_type": "stream",
     "text": [
      "\n",
      "empty predicted answer set for sample #148\n"
     ]
    },
    {
     "name": "stderr",
     "output_type": "stream",
     "text": [
      "100%|██████████| 150/150 [03:29<00:00,  1.39s/it]"
     ]
    },
    {
     "name": "stdout",
     "output_type": "stream",
     "text": [
      "\n",
      "acc: 0.14666666666666667\n",
      "rec: 0.14666666666666667\n",
      "pre: 0.14666666666666667\n",
      "f1: 0.14666666666666667\n"
     ]
    },
    {
     "name": "stderr",
     "output_type": "stream",
     "text": [
      "\n"
     ]
    }
   ],
   "source": [
    "import requests\n",
    "import json\n",
    "from SPARQLWrapper import SPARQLWrapper, JSON\n",
    "from copy import deepcopy\n",
    "dbpedia_endpoint = \"http://dbpedia.org/sparql\"\n",
    "\n",
    "def execute_sparql_query(query):\n",
    "    sparql = SPARQLWrapper(dbpedia_endpoint)\n",
    "    sparql.setQuery(query)\n",
    "    sparql.setReturnFormat(JSON)\n",
    "\n",
    "    try:\n",
    "        results = sparql.queryAndConvert()\n",
    "        return results\n",
    "    except Exception as e:\n",
    "        print(f\"\\nerror executing SPARQL query: {e}\")\n",
    "        return None\n",
    "\n",
    "def process_text(txt):\n",
    "    return txt.strip().lower().replace(':','').replace('.','').replace('/','').replace('_','')\n",
    "\n",
    "def eval(gold, pred, boolean=False):\n",
    "    TP, FP, FN = 0, 0, 0\n",
    "    for item in pred:\n",
    "        new_item = process_text(item) if not boolean else item\n",
    "        if new_item in gold:\n",
    "            TP += 1\n",
    "        else:\n",
    "            FP += 1\n",
    "    pred = list(map(lambda x: process_text(x), pred)) if not boolean else pred\n",
    "    for item in gold:\n",
    "        if item not in pred:\n",
    "            FN += 1\n",
    "    acc = TP / len(pred)\n",
    "    recall = TP / (TP + FN)\n",
    "    precision = TP / (TP + FP)\n",
    "    f1 = ((2 * (precision * recall)) / (precision + recall)) if (precision + recall != 0) else 0\n",
    "    rec, pre = recall, precision\n",
    "    return acc, rec, pre, f1\n",
    "\n",
    "queries = []\n",
    "with open('/content/gpt-3.5-turbo_t5-3b-tri-10-ep-10-t_qald-9-plus_v3.json', 'r') as f:\n",
    "  data = json.load(f)\n",
    "  queries = [d['pred_sparql'] for d in data]\n",
    "  ids = [d['id'] for d in data]\n",
    "  gold_ans = [d['gold_answers'] for d in data]\n",
    "  for j in range(len(gold_ans)):\n",
    "      if len(list(gold_ans[j].keys())) == 0:\n",
    "          ans = []\n",
    "      else:\n",
    "          assert len(list(gold_ans[j].keys())) == 1\n",
    "          gold_ans[j] = deepcopy(next(iter(gold_ans[j].values())))\n",
    "\n",
    "total_acc, total_rec, total_pre, total_f1 = 0, 0, 0, 0\n",
    "for i in trange(len(queries)):\n",
    "    query = queries[i]\n",
    "    pred_answers = {}\n",
    "    results = execute_sparql_query(query)\n",
    "    if (type(gold_ans[i]) != bool and len(gold_ans[i]) == 0) and (not results): # if results == None -> syntax error\n",
    "        print(f'\\nsyntax error for sample #{ids[i]}')\n",
    "        total_acc += 1\n",
    "        total_rec += 1\n",
    "        total_pre += 1\n",
    "        total_f1 += 1\n",
    "        continue\n",
    "    elif type(gold_ans[i]) != bool and (len(gold_ans[i]) > 0) and (not results): # if results == None -> syntax error\n",
    "        print(f'\\nsyntax error for sample #{ids[i]}')\n",
    "        continue\n",
    "    elif type(gold_ans[i]) == bool and (not results):\n",
    "        print(f'\\nsyntax error for sample #{ids[i]}')\n",
    "        continue\n",
    "    if 'boolean' in results.keys():\n",
    "        acc, rec, pre, f1 = eval([gold_ans[i]], [results['boolean']], boolean=True)\n",
    "        total_acc += acc\n",
    "        total_rec += rec\n",
    "        total_pre += pre\n",
    "        total_f1 += f1\n",
    "        continue\n",
    "    else:\n",
    "        for result in results[\"results\"][\"bindings\"]:\n",
    "            for var_name, var_data in result.items():\n",
    "                var_value = var_data[\"value\"]\n",
    "                if var_name in pred_answers.keys():\n",
    "                    pred_answers[var_name].append(var_value)\n",
    "                else:\n",
    "                    pred_answers[var_name] = [var_value]\n",
    "    if (type(gold_ans[i]) != bool) and (len(gold_ans[i]) == 0) and (len(list(pred_answers.keys())) == 0):\n",
    "        total_acc += 1\n",
    "        total_rec += 1\n",
    "        total_pre += 1\n",
    "        total_f1 += 1\n",
    "        continue\n",
    "    elif (type(gold_ans[i]) != bool) and (len(gold_ans[i]) > 0) and (len(list(pred_answers.keys())) == 0):\n",
    "        print(f'\\nempty predicted answer set for sample #{ids[i]}')\n",
    "        continue\n",
    "    elif (type(gold_ans[i]) != bool) and (len(gold_ans[i]) == 0) and (len(list(pred_answers.keys())) > 0):\n",
    "        print(f'\\npredicted answer set was supposed to be empty for sample #{ids[i]}')\n",
    "        continue\n",
    "    elif type(gold_ans[i]) == bool:\n",
    "        print(f'\\nresults are not of type boolean for sample #{ids[i]}')\n",
    "        continue\n",
    "    try:\n",
    "        assert len(list(pred_answers.keys())) == 1\n",
    "    except:\n",
    "        print(f'\\nresults dict has more keys than expected for sample #{ids[i]}')\n",
    "        continue\n",
    "    pred_ans = next(iter(pred_answers.values()))\n",
    "    acc, rec, pre, f1 = eval(list(map(lambda x: process_text(x), gold_ans[i])), pred_ans)\n",
    "    total_acc += acc\n",
    "    total_rec += rec\n",
    "    total_pre += pre\n",
    "    total_f1 += f1\n",
    "    # print(f'\\ninfo for sample #{ids[i]}:')\n",
    "    # print(f'acc = {acc}, rec = {rec}, pre = {pre}, f1 = {f1}')\n",
    "    # print('\\n'.join(gold_ans[i]))\n",
    "    # print('---')\n",
    "    # print('\\n'.join(pred_ans))\n",
    "    # print()\n",
    "print(f'\\nacc: {total_acc / len(queries)}')\n",
    "print(f'rec: {total_rec / len(queries)}')\n",
    "print(f'pre: {total_pre / len(queries)}')\n",
    "print(f'f1: {total_f1 / len(queries)}')"
   ]
  },
  {
   "cell_type": "markdown",
   "metadata": {
    "id": "O6O9hFWp_TXK"
   },
   "source": [
    "#### ChatGPT zero-shot setting\n",
    "model_4: gpt-3.5-turbo-v1"
   ]
  },
  {
   "cell_type": "code",
   "execution_count": null,
   "metadata": {
    "colab": {
     "base_uri": "https://localhost:8080/",
     "height": 1000
    },
    "id": "ozYjX1HP9yBV",
    "outputId": "bea6fd7a-a970-49b6-8643-f6fb362c2bee"
   },
   "outputs": [
    {
     "data": {
      "text/html": [
       "\n",
       "  <style>\n",
       "    pre {\n",
       "        white-space: pre-wrap;\n",
       "    }\n",
       "  </style>\n",
       "  "
      ],
      "text/plain": [
       "<IPython.core.display.HTML object>"
      ]
     },
     "metadata": {},
     "output_type": "display_data"
    },
    {
     "name": "stderr",
     "output_type": "stream",
     "text": [
      "  1%|▏         | 2/150 [00:01<02:02,  1.21it/s]"
     ]
    },
    {
     "name": "stdout",
     "output_type": "stream",
     "text": [
      "\n",
      "empty predicted answer set for sample #1\n"
     ]
    },
    {
     "name": "stderr",
     "output_type": "stream",
     "text": [
      "\r  2%|▏         | 3/150 [00:02<01:50,  1.32it/s]"
     ]
    },
    {
     "name": "stdout",
     "output_type": "stream",
     "text": [
      "\n",
      "error executing SPARQL query: QueryBadFormed: A bad request has been sent to the endpoint: probably the SPARQL query is badly formed. \n",
      "\n",
      "Response:\n",
      "b'Virtuoso 37000 Error SP030: SPARQL compiler, line 4: Undefined namespace prefix in prefix:localpart notation at \\'wdt:P31\\' before \\'wd:Q8502\\'\\n\\nSPARQL query:\\n#output-format:application/sparql-results+json\\nSELECT ?mountain ?mountainLabel\\nWHERE {\\n  ?mountain wdt:P31 wd:Q8502;  # instance of mountain\\n           wdt:P17 wd:Q183;    # located in Germany\\n           wdt:P610 ?elevation. # has elevation\\n  SERVICE wikibase:label { bd:serviceParam wikibase:language \"[AUTO_LANGUAGE],en\". }\\n}\\nORDER BY DESC(?elevation)\\nLIMIT 1\\n'\n",
      "\n",
      "syntax error for sample #2\n"
     ]
    },
    {
     "name": "stderr",
     "output_type": "stream",
     "text": [
      "\r  3%|▎         | 4/150 [00:03<01:45,  1.39it/s]"
     ]
    },
    {
     "name": "stdout",
     "output_type": "stream",
     "text": [
      "\n",
      "empty predicted answer set for sample #3\n"
     ]
    },
    {
     "name": "stderr",
     "output_type": "stream",
     "text": [
      "  5%|▌         | 8/150 [00:05<01:37,  1.46it/s]"
     ]
    },
    {
     "name": "stdout",
     "output_type": "stream",
     "text": [
      "\n",
      "empty predicted answer set for sample #7\n"
     ]
    },
    {
     "name": "stderr",
     "output_type": "stream",
     "text": [
      "\r  6%|▌         | 9/150 [00:06<01:36,  1.46it/s]"
     ]
    },
    {
     "name": "stdout",
     "output_type": "stream",
     "text": [
      "\n",
      "results are not of type boolean for sample #8\n"
     ]
    },
    {
     "name": "stderr",
     "output_type": "stream",
     "text": [
      "\r  7%|▋         | 10/150 [00:07<01:34,  1.47it/s]"
     ]
    },
    {
     "name": "stdout",
     "output_type": "stream",
     "text": [
      "\n",
      "empty predicted answer set for sample #9\n"
     ]
    },
    {
     "name": "stderr",
     "output_type": "stream",
     "text": [
      "\r  7%|▋         | 11/150 [00:07<01:33,  1.48it/s]"
     ]
    },
    {
     "name": "stdout",
     "output_type": "stream",
     "text": [
      "\n",
      "empty predicted answer set for sample #10\n"
     ]
    },
    {
     "name": "stderr",
     "output_type": "stream",
     "text": [
      "\r  8%|▊         | 12/150 [00:08<01:33,  1.48it/s]"
     ]
    },
    {
     "name": "stdout",
     "output_type": "stream",
     "text": [
      "\n",
      "empty predicted answer set for sample #11\n"
     ]
    },
    {
     "name": "stderr",
     "output_type": "stream",
     "text": [
      "\r  9%|▊         | 13/150 [00:09<01:32,  1.48it/s]"
     ]
    },
    {
     "name": "stdout",
     "output_type": "stream",
     "text": [
      "\n",
      "error executing SPARQL query: QueryBadFormed: A bad request has been sent to the endpoint: probably the SPARQL query is badly formed. \n",
      "\n",
      "Response:\n",
      "b\"Virtuoso 37000 Error SP030: SPARQL compiler, line 6: Aggregates are allowed only in result sets at ')' before '>'\\n\\nSPARQL query:\\n#output-format:application/sparql-results+json\\nSELECT DISTINCT ?country WHERE {\\n  ?place rdf:type dbo:Place .\\n  ?place dbo:location ?country .\\n  ?place dbo:caves ?caves .\\n  FILTER (COUNT(?caves) > 2)\\n}\\nGROUP BY ?country\\n\"\n",
      "\n",
      "syntax error for sample #12\n"
     ]
    },
    {
     "name": "stderr",
     "output_type": "stream",
     "text": [
      "\r  9%|▉         | 14/150 [00:09<01:31,  1.48it/s]"
     ]
    },
    {
     "name": "stdout",
     "output_type": "stream",
     "text": [
      "\n",
      "empty predicted answer set for sample #13\n"
     ]
    },
    {
     "name": "stderr",
     "output_type": "stream",
     "text": [
      "\r 10%|█         | 15/150 [00:10<01:31,  1.48it/s]"
     ]
    },
    {
     "name": "stdout",
     "output_type": "stream",
     "text": [
      "\n",
      "empty predicted answer set for sample #14\n"
     ]
    },
    {
     "name": "stderr",
     "output_type": "stream",
     "text": [
      "\r 11%|█         | 16/150 [00:11<01:30,  1.48it/s]"
     ]
    },
    {
     "name": "stdout",
     "output_type": "stream",
     "text": [
      "\n",
      "empty predicted answer set for sample #15\n"
     ]
    },
    {
     "name": "stderr",
     "output_type": "stream",
     "text": [
      " 12%|█▏        | 18/150 [00:12<01:28,  1.48it/s]"
     ]
    },
    {
     "name": "stdout",
     "output_type": "stream",
     "text": [
      "\n",
      "empty predicted answer set for sample #17\n"
     ]
    },
    {
     "name": "stderr",
     "output_type": "stream",
     "text": [
      " 13%|█▎        | 20/150 [00:13<01:27,  1.49it/s]"
     ]
    },
    {
     "name": "stdout",
     "output_type": "stream",
     "text": [
      "\n",
      "empty predicted answer set for sample #19\n"
     ]
    },
    {
     "name": "stderr",
     "output_type": "stream",
     "text": [
      "\r 14%|█▍        | 21/150 [00:14<01:26,  1.48it/s]"
     ]
    },
    {
     "name": "stdout",
     "output_type": "stream",
     "text": [
      "\n",
      "error executing SPARQL query: QueryBadFormed: A bad request has been sent to the endpoint: probably the SPARQL query is badly formed. \n",
      "\n",
      "Response:\n",
      "b'Virtuoso 37000 Error SP030: SPARQL compiler, line 5: Undefined namespace prefix in prefix:localpart notation at \\'dbpedia-owl:child\\' before \\'?child\\'\\n\\nSPARQL query:\\n#output-format:application/sparql-results+json\\nSELECT (COUNT(?grandchild) AS ?count)\\nWHERE {\\n  ?person foaf:name \"Jacques Cousteau\" .\\n  ?person dbpedia-owl:child ?child .\\n  ?child dbpedia-owl:child ?grandchild .\\n}\\n'\n",
      "\n",
      "syntax error for sample #20\n"
     ]
    },
    {
     "name": "stderr",
     "output_type": "stream",
     "text": [
      " 17%|█▋        | 25/150 [00:17<01:24,  1.48it/s]"
     ]
    },
    {
     "name": "stdout",
     "output_type": "stream",
     "text": [
      "\n",
      "empty predicted answer set for sample #24\n"
     ]
    },
    {
     "name": "stderr",
     "output_type": "stream",
     "text": [
      "\r 17%|█▋        | 26/150 [00:17<01:24,  1.47it/s]"
     ]
    },
    {
     "name": "stdout",
     "output_type": "stream",
     "text": [
      "\n",
      "error executing SPARQL query: QueryBadFormed: A bad request has been sent to the endpoint: probably the SPARQL query is badly formed. \n",
      "\n",
      "Response:\n",
      "b'Virtuoso 37000 Error SP030: SPARQL compiler, line 4: Undefined namespace prefix in prefix:localpart notation at \\'wdt:P31\\' before \\'wd:Q35657\\'\\n\\nSPARQL query:\\n#output-format:application/sparql-results+json\\nSELECT ?stateLabel\\nWHERE {\\n  ?state wdt:P31 wd:Q35657;\\n         wdt:P17 wd:Q30.\\n  SERVICE wikibase:label { bd:serviceParam wikibase:language \"[AUTO_LANGUAGE],en\". }\\n}\\nORDER BY DESC(?state)\\nLIMIT 1\\n'\n",
      "\n",
      "syntax error for sample #25\n"
     ]
    },
    {
     "name": "stderr",
     "output_type": "stream",
     "text": [
      "\r 18%|█▊        | 27/150 [00:18<01:23,  1.48it/s]"
     ]
    },
    {
     "name": "stdout",
     "output_type": "stream",
     "text": [
      "\n",
      "error executing SPARQL query: QueryBadFormed: A bad request has been sent to the endpoint: probably the SPARQL query is badly formed. \n",
      "\n",
      "Response:\n",
      "b\"Virtuoso 37000 Error SP030: SPARQL compiler, line 5: Undefined namespace prefix in prefix:localpart notation at 'dbpedia:Millepede' before ')'\\n\\nSPARQL query:\\n#output-format:application/sparql-results+json\\nSELECT DISTINCT ?class\\nWHERE {\\n  ?millepede rdf:type ?class .\\n  FILTER (?millepede = dbpedia:Millepede)\\n}\\n\"\n",
      "\n",
      "syntax error for sample #26\n"
     ]
    },
    {
     "name": "stderr",
     "output_type": "stream",
     "text": [
      "\r 19%|█▊        | 28/150 [00:19<01:22,  1.48it/s]"
     ]
    },
    {
     "name": "stdout",
     "output_type": "stream",
     "text": [
      "\n",
      "predicted answer set was supposed to be empty for sample #27\n"
     ]
    },
    {
     "name": "stderr",
     "output_type": "stream",
     "text": [
      "\r 19%|█▉        | 29/150 [00:19<01:21,  1.48it/s]"
     ]
    },
    {
     "name": "stdout",
     "output_type": "stream",
     "text": [
      "\n",
      "error executing SPARQL query: QueryBadFormed: A bad request has been sent to the endpoint: probably the SPARQL query is badly formed. \n",
      "\n",
      "Response:\n",
      "b'Virtuoso 37000 Error SP030: SPARQL compiler, line 4: Undefined namespace prefix in prefix:localpart notation at \\'dbpedia-owl:spouse\\' before \\'?husband\\'\\n\\nSPARQL query:\\n#output-format:application/sparql-results+json\\nSELECT ?husband WHERE {\\n  ?person foaf:name \"Amanda Palmer\" .\\n  ?person dbpedia-owl:spouse ?husband .\\n}\\nLIMIT 100\\n'\n",
      "\n",
      "syntax error for sample #28\n"
     ]
    },
    {
     "name": "stderr",
     "output_type": "stream",
     "text": [
      "\r 20%|██        | 30/150 [00:20<01:21,  1.48it/s]"
     ]
    },
    {
     "name": "stdout",
     "output_type": "stream",
     "text": [
      "\n",
      "empty predicted answer set for sample #29\n"
     ]
    },
    {
     "name": "stderr",
     "output_type": "stream",
     "text": [
      " 22%|██▏       | 33/150 [00:22<01:19,  1.48it/s]"
     ]
    },
    {
     "name": "stdout",
     "output_type": "stream",
     "text": [
      "\n",
      "empty predicted answer set for sample #32\n"
     ]
    },
    {
     "name": "stderr",
     "output_type": "stream",
     "text": [
      " 23%|██▎       | 35/150 [00:23<01:17,  1.48it/s]"
     ]
    },
    {
     "name": "stdout",
     "output_type": "stream",
     "text": [
      "\n",
      "empty predicted answer set for sample #34\n"
     ]
    },
    {
     "name": "stderr",
     "output_type": "stream",
     "text": [
      " 25%|██▍       | 37/150 [00:25<01:16,  1.48it/s]"
     ]
    },
    {
     "name": "stdout",
     "output_type": "stream",
     "text": [
      "\n",
      "empty predicted answer set for sample #36\n"
     ]
    },
    {
     "name": "stderr",
     "output_type": "stream",
     "text": [
      "\r 25%|██▌       | 38/150 [00:26<01:15,  1.47it/s]"
     ]
    },
    {
     "name": "stdout",
     "output_type": "stream",
     "text": [
      "\n",
      "empty predicted answer set for sample #37\n"
     ]
    },
    {
     "name": "stderr",
     "output_type": "stream",
     "text": [
      "\r 26%|██▌       | 39/150 [00:26<01:15,  1.48it/s]"
     ]
    },
    {
     "name": "stdout",
     "output_type": "stream",
     "text": [
      "\n",
      "empty predicted answer set for sample #38\n"
     ]
    },
    {
     "name": "stderr",
     "output_type": "stream",
     "text": [
      " 27%|██▋       | 41/150 [00:28<01:14,  1.47it/s]"
     ]
    },
    {
     "name": "stdout",
     "output_type": "stream",
     "text": [
      "\n",
      "predicted answer set was supposed to be empty for sample #40\n"
     ]
    },
    {
     "name": "stderr",
     "output_type": "stream",
     "text": [
      " 31%|███▏      | 47/150 [00:33<01:26,  1.20it/s]"
     ]
    },
    {
     "name": "stdout",
     "output_type": "stream",
     "text": [
      "\n",
      "empty predicted answer set for sample #46\n"
     ]
    },
    {
     "name": "stderr",
     "output_type": "stream",
     "text": [
      "\r 32%|███▏      | 48/150 [00:33<01:20,  1.27it/s]"
     ]
    },
    {
     "name": "stdout",
     "output_type": "stream",
     "text": [
      "\n",
      "predicted answer set was supposed to be empty for sample #47\n"
     ]
    },
    {
     "name": "stderr",
     "output_type": "stream",
     "text": [
      " 35%|███▍      | 52/150 [00:36<01:09,  1.41it/s]"
     ]
    },
    {
     "name": "stdout",
     "output_type": "stream",
     "text": [
      "\n",
      "error executing SPARQL query: QueryBadFormed: A bad request has been sent to the endpoint: probably the SPARQL query is badly formed. \n",
      "\n",
      "Response:\n",
      "b\"Virtuoso 37000 Error SP030: SPARQL compiler, line 4: Undefined namespace prefix in prefix:localpart notation at 'dbpedia-owl:deathCause' before '?cause'\\n\\nSPARQL query:\\n#output-format:application/sparql-results+json\\nSELECT ?date\\nWHERE {\\n  ?carlo dbpedia-owl:deathCause ?cause .\\n  ?carlo dbpedia-owl:deathDate ?date .\\n  FILTER (?cause = dbpedia:Shooting)\\n}\\nLIMIT 100\\n\"\n",
      "\n",
      "syntax error for sample #51\n"
     ]
    },
    {
     "name": "stderr",
     "output_type": "stream",
     "text": [
      "\r 35%|███▌      | 53/150 [00:37<01:08,  1.42it/s]"
     ]
    },
    {
     "name": "stdout",
     "output_type": "stream",
     "text": [
      "\n",
      "empty predicted answer set for sample #52\n"
     ]
    },
    {
     "name": "stderr",
     "output_type": "stream",
     "text": [
      "\r 36%|███▌      | 54/150 [00:37<01:06,  1.44it/s]"
     ]
    },
    {
     "name": "stdout",
     "output_type": "stream",
     "text": [
      "\n",
      "empty predicted answer set for sample #53\n"
     ]
    },
    {
     "name": "stderr",
     "output_type": "stream",
     "text": [
      "\r 37%|███▋      | 55/150 [00:38<01:05,  1.45it/s]"
     ]
    },
    {
     "name": "stdout",
     "output_type": "stream",
     "text": [
      "\n",
      "error executing SPARQL query: QueryBadFormed: A bad request has been sent to the endpoint: probably the SPARQL query is badly formed. \n",
      "\n",
      "Response:\n",
      "b\"Virtuoso 37000 Error SP030: SPARQL compiler, line 4: Undefined namespace prefix in prefix:localpart notation at 'dbpedia-owl:award' before '?award'\\n\\nSPARQL query:\\n#output-format:application/sparql-results+json\\nSELECT (COUNT(?award) AS ?count)\\nWHERE {\\n  <http://dbpedia.org/resource/Bertrand_Russell> dbpedia-owl:award ?award .\\n}\\n\"\n",
      "\n",
      "syntax error for sample #54\n"
     ]
    },
    {
     "name": "stderr",
     "output_type": "stream",
     "text": [
      "\r 37%|███▋      | 56/150 [00:39<01:04,  1.46it/s]"
     ]
    },
    {
     "name": "stdout",
     "output_type": "stream",
     "text": [
      "\n",
      "error executing SPARQL query: QueryBadFormed: A bad request has been sent to the endpoint: probably the SPARQL query is badly formed. \n",
      "\n",
      "Response:\n",
      "b'Virtuoso 37000 Error SP030: SPARQL compiler, line 5: Undefined namespace prefix in prefix:localpart notation at \\'wdt:P31\\' before \\'wd:Q5\\'\\n\\nSPARQL query:\\n#output-format:application/sparql-results+json\\nSELECT ?person ?personLabel ?veganLabel\\nWHERE {\\n  ?person rdfs:label \"Pamela Anderson\"@en.\\n  ?person wdt:P31 wd:Q5.\\n  OPTIONAL { ?person wdt:P31 wd:Q3665646. }\\n  SERVICE wikibase:label { bd:serviceParam wikibase:language \"[AUTO_LANGUAGE],en\". }\\n}\\nLIMIT 100\\n'\n",
      "\n",
      "syntax error for sample #55\n"
     ]
    },
    {
     "name": "stderr",
     "output_type": "stream",
     "text": [
      "\r 38%|███▊      | 57/150 [00:40<01:03,  1.46it/s]"
     ]
    },
    {
     "name": "stdout",
     "output_type": "stream",
     "text": [
      "\n",
      "empty predicted answer set for sample #56\n"
     ]
    },
    {
     "name": "stderr",
     "output_type": "stream",
     "text": [
      " 39%|███▉      | 59/150 [00:41<01:02,  1.46it/s]"
     ]
    },
    {
     "name": "stdout",
     "output_type": "stream",
     "text": [
      "\n",
      "error executing SPARQL query: QueryBadFormed: A bad request has been sent to the endpoint: probably the SPARQL query is badly formed. \n",
      "\n",
      "Response:\n",
      "b'Virtuoso 37000 Error SP030: SPARQL compiler, line 5: Undefined namespace prefix in prefix:localpart notation at \\'dbpedia-owl:child\\' before \\'?daughter\\'\\n\\nSPARQL query:\\n#output-format:application/sparql-results+json\\nSELECT ?daughter ?spouse\\nWHERE {\\n  ?robertKennedy foaf:name \"Robert Kennedy\" .\\n  ?robertKennedy dbpedia-owl:child ?daughter .\\n  ?daughter dbpedia-owl:spouse ?spouse .\\n}\\nLIMIT 100\\n'\n",
      "\n",
      "syntax error for sample #58\n"
     ]
    },
    {
     "name": "stderr",
     "output_type": "stream",
     "text": [
      " 43%|████▎     | 64/150 [00:44<00:58,  1.48it/s]"
     ]
    },
    {
     "name": "stdout",
     "output_type": "stream",
     "text": [
      "\n",
      "error executing SPARQL query: QueryBadFormed: A bad request has been sent to the endpoint: probably the SPARQL query is badly formed. \n",
      "\n",
      "Response:\n",
      "b'Virtuoso 37000 Error SP030: SPARQL compiler, line 4: Undefined namespace prefix in prefix:localpart notation at \\'dbpedia-owl:spouse\\' before \\'?spouse\\'\\n\\nSPARQL query:\\n#output-format:application/sparql-results+json\\nSELECT ?spouse WHERE {\\n  ?person foaf:name \"Tom Hanks\" .\\n  ?person dbpedia-owl:spouse ?spouse .\\n}\\n'\n",
      "\n",
      "syntax error for sample #63\n"
     ]
    },
    {
     "name": "stderr",
     "output_type": "stream",
     "text": [
      "\r 43%|████▎     | 65/150 [00:45<00:57,  1.47it/s]"
     ]
    },
    {
     "name": "stdout",
     "output_type": "stream",
     "text": [
      "\n",
      "error executing SPARQL query: QueryBadFormed: A bad request has been sent to the endpoint: probably the SPARQL query is badly formed. \n",
      "\n",
      "Response:\n",
      "b'Virtuoso 37000 Error SP030: SPARQL compiler, line 4: Undefined namespace prefix in prefix:localpart notation at \\'wd:Q1237\\' before \\'wdt:P403\\'\\n\\nSPARQL query:\\n#output-format:application/sparql-results+json\\nSELECT ?countryLabel\\nWHERE {\\n  wd:Q1237 wdt:P403 ?country.\\n  ?country rdfs:label ?countryLabel.\\n  FILTER(LANG(?countryLabel) = \"en\")\\n}\\n'\n",
      "\n",
      "syntax error for sample #64\n"
     ]
    },
    {
     "name": "stderr",
     "output_type": "stream",
     "text": [
      "\r 44%|████▍     | 66/150 [00:46<00:56,  1.47it/s]"
     ]
    },
    {
     "name": "stdout",
     "output_type": "stream",
     "text": [
      "\n",
      "empty predicted answer set for sample #65\n"
     ]
    },
    {
     "name": "stderr",
     "output_type": "stream",
     "text": [
      " 45%|████▌     | 68/150 [00:47<00:55,  1.47it/s]"
     ]
    },
    {
     "name": "stdout",
     "output_type": "stream",
     "text": [
      "\n",
      "empty predicted answer set for sample #67\n"
     ]
    },
    {
     "name": "stderr",
     "output_type": "stream",
     "text": [
      "\r 46%|████▌     | 69/150 [00:48<00:54,  1.48it/s]"
     ]
    },
    {
     "name": "stdout",
     "output_type": "stream",
     "text": [
      "\n",
      "empty predicted answer set for sample #68\n"
     ]
    },
    {
     "name": "stderr",
     "output_type": "stream",
     "text": [
      "\r 47%|████▋     | 70/150 [00:48<00:53,  1.48it/s]"
     ]
    },
    {
     "name": "stdout",
     "output_type": "stream",
     "text": [
      "\n",
      "empty predicted answer set for sample #69\n"
     ]
    },
    {
     "name": "stderr",
     "output_type": "stream",
     "text": [
      "\r 47%|████▋     | 71/150 [00:49<00:53,  1.48it/s]"
     ]
    },
    {
     "name": "stdout",
     "output_type": "stream",
     "text": [
      "\n",
      "empty predicted answer set for sample #70\n"
     ]
    },
    {
     "name": "stderr",
     "output_type": "stream",
     "text": [
      " 49%|████▊     | 73/150 [00:50<00:52,  1.47it/s]"
     ]
    },
    {
     "name": "stdout",
     "output_type": "stream",
     "text": [
      "\n",
      "empty predicted answer set for sample #72\n"
     ]
    },
    {
     "name": "stderr",
     "output_type": "stream",
     "text": [
      "\r 49%|████▉     | 74/150 [00:51<00:51,  1.48it/s]"
     ]
    },
    {
     "name": "stdout",
     "output_type": "stream",
     "text": [
      "\n",
      "results dict has more keys than expected for sample #73\n"
     ]
    },
    {
     "name": "stderr",
     "output_type": "stream",
     "text": [
      " 51%|█████     | 76/150 [00:52<00:50,  1.48it/s]"
     ]
    },
    {
     "name": "stdout",
     "output_type": "stream",
     "text": [
      "\n",
      "empty predicted answer set for sample #75\n"
     ]
    },
    {
     "name": "stderr",
     "output_type": "stream",
     "text": [
      "\r 51%|█████▏    | 77/150 [00:53<00:49,  1.48it/s]"
     ]
    },
    {
     "name": "stdout",
     "output_type": "stream",
     "text": [
      "\n",
      "empty predicted answer set for sample #76\n"
     ]
    },
    {
     "name": "stderr",
     "output_type": "stream",
     "text": [
      "\r 52%|█████▏    | 78/150 [00:54<00:48,  1.48it/s]"
     ]
    },
    {
     "name": "stdout",
     "output_type": "stream",
     "text": [
      "\n",
      "empty predicted answer set for sample #77\n"
     ]
    },
    {
     "name": "stderr",
     "output_type": "stream",
     "text": [
      " 55%|█████▍    | 82/150 [00:56<00:46,  1.47it/s]"
     ]
    },
    {
     "name": "stdout",
     "output_type": "stream",
     "text": [
      "\n",
      "empty predicted answer set for sample #81\n"
     ]
    },
    {
     "name": "stderr",
     "output_type": "stream",
     "text": [
      " 57%|█████▋    | 85/150 [00:59<00:44,  1.48it/s]"
     ]
    },
    {
     "name": "stdout",
     "output_type": "stream",
     "text": [
      "\n",
      "error executing SPARQL query: QueryBadFormed: A bad request has been sent to the endpoint: probably the SPARQL query is badly formed. \n",
      "\n",
      "Response:\n",
      "b'Virtuoso 37000 Error SP030: SPARQL compiler, line 3: Undefined namespace prefix in prefix:localpart notation at \\'dbpedia-owl:birthName\\' before \\'\"Alexandrina Victoria\"\\'\\n\\nSPARQL query:\\n#output-format:application/sparql-results+json\\nSELECT ?parent WHERE {\\n  ?queen dbpedia-owl:birthName \"Alexandrina Victoria\" .\\n  ?queen dbpedia-owl:parent ?parent .\\n}\\n'\n",
      "\n",
      "syntax error for sample #84\n"
     ]
    },
    {
     "name": "stderr",
     "output_type": "stream",
     "text": [
      "\r 57%|█████▋    | 86/150 [00:59<00:43,  1.48it/s]"
     ]
    },
    {
     "name": "stdout",
     "output_type": "stream",
     "text": [
      "\n",
      "results are not of type boolean for sample #85\n"
     ]
    },
    {
     "name": "stderr",
     "output_type": "stream",
     "text": [
      "\r 58%|█████▊    | 87/150 [01:00<00:42,  1.47it/s]"
     ]
    },
    {
     "name": "stdout",
     "output_type": "stream",
     "text": [
      "\n",
      "error executing SPARQL query: QueryBadFormed: A bad request has been sent to the endpoint: probably the SPARQL query is badly formed. \n",
      "\n",
      "Response:\n",
      "b'Virtuoso 37000 Error SP030: SPARQL compiler, line 4: Undefined namespace prefix in prefix:localpart notation at \\'wd:Q191\\' before \\'wdt:P37\\'\\n\\nSPARQL query:\\n#output-format:application/sparql-results+json\\nSELECT ?languageLabel\\nWHERE {\\n  wd:Q191 wdt:P37 ?language.\\n  ?language rdfs:label ?languageLabel.\\n  FILTER(LANG(?languageLabel) = \"en\")\\n}\\n'\n",
      "\n",
      "syntax error for sample #86\n"
     ]
    },
    {
     "name": "stderr",
     "output_type": "stream",
     "text": [
      "\r 59%|█████▊    | 88/150 [01:01<00:42,  1.47it/s]"
     ]
    },
    {
     "name": "stdout",
     "output_type": "stream",
     "text": [
      "\n",
      "empty predicted answer set for sample #87\n"
     ]
    },
    {
     "name": "stderr",
     "output_type": "stream",
     "text": [
      " 61%|██████    | 91/150 [01:03<00:40,  1.47it/s]"
     ]
    },
    {
     "name": "stdout",
     "output_type": "stream",
     "text": [
      "\n",
      "empty predicted answer set for sample #90\n"
     ]
    },
    {
     "name": "stderr",
     "output_type": "stream",
     "text": [
      " 62%|██████▏   | 93/150 [01:04<00:38,  1.46it/s]"
     ]
    },
    {
     "name": "stdout",
     "output_type": "stream",
     "text": [
      "\n",
      "error executing SPARQL query: EndPointInternalError: The endpoint returned the HTTP status code 500. \n",
      "\n",
      "Response:\n",
      "b'Virtuoso 42000 Error SR186:SECURITY: No permission to execute procedure DB.DBA.SPARUL_RUN with user ID 111, group ID 111\\n\\nSPARQL query:\\n#output-format:application/sparql-results+json\\n\\n'\n",
      "\n",
      "syntax error for sample #92\n"
     ]
    },
    {
     "name": "stderr",
     "output_type": "stream",
     "text": [
      "\r 63%|██████▎   | 94/150 [01:05<00:38,  1.47it/s]"
     ]
    },
    {
     "name": "stdout",
     "output_type": "stream",
     "text": [
      "\n",
      "error executing SPARQL query: QueryBadFormed: A bad request has been sent to the endpoint: probably the SPARQL query is badly formed. \n",
      "\n",
      "Response:\n",
      "b\"Virtuoso 37000 Error SP030: SPARQL compiler, line 4: Undefined namespace prefix in prefix:localpart notation at 'dbpedia-owl:spouse' before 'dbpedia:Lance_Bass'\\n\\nSPARQL query:\\n#output-format:application/sparql-results+json\\nSELECT ?person\\nWHERE {\\n  ?person dbpedia-owl:spouse dbpedia:Lance_Bass .\\n}\\nLIMIT 100\\n\"\n",
      "\n",
      "syntax error for sample #93\n"
     ]
    },
    {
     "name": "stderr",
     "output_type": "stream",
     "text": [
      " 64%|██████▍   | 96/150 [01:06<00:36,  1.47it/s]"
     ]
    },
    {
     "name": "stdout",
     "output_type": "stream",
     "text": [
      "\n",
      "error executing SPARQL query: QueryBadFormed: A bad request has been sent to the endpoint: probably the SPARQL query is badly formed. \n",
      "\n",
      "Response:\n",
      "b'Virtuoso 37000 Error SP030: SPARQL compiler, line 4: Undefined namespace prefix in prefix:localpart notation at \\'wd:Q843\\' before \\'wdt:P37\\'\\n\\nSPARQL query:\\n#output-format:application/sparql-results+json\\nSELECT ?languageLabel\\nWHERE {\\n  wd:Q843 wdt:P37 ?language.\\n  ?language rdfs:label ?languageLabel.\\n  FILTER(LANG(?languageLabel) = \"en\")\\n}\\n'\n",
      "\n",
      "syntax error for sample #95\n"
     ]
    },
    {
     "name": "stderr",
     "output_type": "stream",
     "text": [
      "\r 65%|██████▍   | 97/150 [01:07<00:35,  1.48it/s]"
     ]
    },
    {
     "name": "stdout",
     "output_type": "stream",
     "text": [
      "\n",
      "results dict has more keys than expected for sample #96\n"
     ]
    },
    {
     "name": "stderr",
     "output_type": "stream",
     "text": [
      "\r 65%|██████▌   | 98/150 [01:07<00:35,  1.48it/s]"
     ]
    },
    {
     "name": "stdout",
     "output_type": "stream",
     "text": [
      "\n",
      "error executing SPARQL query: QueryBadFormed: A bad request has been sent to the endpoint: probably the SPARQL query is badly formed. \n",
      "\n",
      "Response:\n",
      "b\"Virtuoso 37000 Error SP030: SPARQL compiler, line 4: Undefined namespace prefix in prefix:localpart notation at 'dbpedia-owl:mission' before '<http://dbpedia.org/resource/Apollo_11>'\\n\\nSPARQL query:\\n#output-format:application/sparql-results+json\\nSELECT ?astronaut\\nWHERE {\\n  ?astronaut dbpedia-owl:mission <http://dbpedia.org/resource/Apollo_11>.\\n}\\n\"\n",
      "\n",
      "syntax error for sample #97\n"
     ]
    },
    {
     "name": "stderr",
     "output_type": "stream",
     "text": [
      " 67%|██████▋   | 101/150 [01:09<00:33,  1.48it/s]"
     ]
    },
    {
     "name": "stdout",
     "output_type": "stream",
     "text": [
      "\n",
      "empty predicted answer set for sample #100\n"
     ]
    },
    {
     "name": "stderr",
     "output_type": "stream",
     "text": [
      "\r 68%|██████▊   | 102/150 [01:10<00:32,  1.48it/s]"
     ]
    },
    {
     "name": "stdout",
     "output_type": "stream",
     "text": [
      "\n",
      "empty predicted answer set for sample #101\n"
     ]
    },
    {
     "name": "stderr",
     "output_type": "stream",
     "text": [
      " 69%|██████▉   | 104/150 [01:11<00:31,  1.47it/s]"
     ]
    },
    {
     "name": "stdout",
     "output_type": "stream",
     "text": [
      "\n",
      "error executing SPARQL query: QueryBadFormed: A bad request has been sent to the endpoint: probably the SPARQL query is badly formed. \n",
      "\n",
      "Response:\n",
      "b\"Virtuoso 37000 Error SP030: SPARQL compiler, line 4: Undefined namespace prefix in prefix:localpart notation at 'dbpedia-owl:Noble' before ';'\\n\\nSPARQL query:\\n#output-format:application/sparql-results+json\\nSELECT ?daughter ?birthPlace ?deathPlace\\nWHERE {\\n  ?daughter rdf:type dbpedia-owl:Noble ;\\n            dbpedia-owl:parent ?parent ;\\n            dbpedia-owl:birthPlace ?birthPlace ;\\n            dbpedia-owl:deathPlace ?deathPlace .\\n  ?parent rdf:type dbpedia-owl:Earl ;\\n          dbpedia-owl:country dbpedia:United_Kingdom .\\n  FILTER(?birthPlace = ?deathPlace)\\n}\\nLIMIT 100\\n\"\n",
      "\n",
      "syntax error for sample #103\n"
     ]
    },
    {
     "name": "stderr",
     "output_type": "stream",
     "text": [
      " 71%|███████   | 106/150 [01:13<00:29,  1.48it/s]"
     ]
    },
    {
     "name": "stdout",
     "output_type": "stream",
     "text": [
      "\n",
      "predicted answer set was supposed to be empty for sample #105\n"
     ]
    },
    {
     "name": "stderr",
     "output_type": "stream",
     "text": [
      " 72%|███████▏  | 108/150 [01:14<00:28,  1.48it/s]"
     ]
    },
    {
     "name": "stdout",
     "output_type": "stream",
     "text": [
      "\n",
      "error executing SPARQL query: EndPointInternalError: The endpoint returned the HTTP status code 500. \n",
      "\n",
      "Response:\n",
      "b'Virtuoso 42000 Error SR186:SECURITY: No permission to execute procedure DB.DBA.SPARUL_RUN with user ID 111, group ID 111\\n\\nSPARQL query:\\n#output-format:application/sparql-results+json\\n\\n'\n",
      "\n",
      "syntax error for sample #107\n"
     ]
    },
    {
     "name": "stderr",
     "output_type": "stream",
     "text": [
      "\r 73%|███████▎  | 109/150 [01:15<00:27,  1.48it/s]"
     ]
    },
    {
     "name": "stdout",
     "output_type": "stream",
     "text": [
      "\n",
      "error executing SPARQL query: EndPointInternalError: The endpoint returned the HTTP status code 500. \n",
      "\n",
      "Response:\n",
      "b'Virtuoso 42000 Error SR186:SECURITY: No permission to execute procedure DB.DBA.SPARUL_RUN with user ID 111, group ID 111\\n\\nSPARQL query:\\n#output-format:application/sparql-results+json\\n\\n'\n",
      "\n",
      "syntax error for sample #108\n"
     ]
    },
    {
     "name": "stderr",
     "output_type": "stream",
     "text": [
      "\r 73%|███████▎  | 110/150 [01:15<00:27,  1.48it/s]"
     ]
    },
    {
     "name": "stdout",
     "output_type": "stream",
     "text": [
      "\n",
      "empty predicted answer set for sample #109\n"
     ]
    },
    {
     "name": "stderr",
     "output_type": "stream",
     "text": [
      " 75%|███████▍  | 112/150 [01:17<00:25,  1.49it/s]"
     ]
    },
    {
     "name": "stdout",
     "output_type": "stream",
     "text": [
      "\n",
      "empty predicted answer set for sample #111\n"
     ]
    },
    {
     "name": "stderr",
     "output_type": "stream",
     "text": [
      "\r 75%|███████▌  | 113/150 [01:18<00:24,  1.48it/s]"
     ]
    },
    {
     "name": "stdout",
     "output_type": "stream",
     "text": [
      "\n",
      "empty predicted answer set for sample #112\n"
     ]
    },
    {
     "name": "stderr",
     "output_type": "stream",
     "text": [
      " 77%|███████▋  | 115/150 [01:19<00:23,  1.48it/s]"
     ]
    },
    {
     "name": "stdout",
     "output_type": "stream",
     "text": [
      "\n",
      "empty predicted answer set for sample #114\n"
     ]
    },
    {
     "name": "stderr",
     "output_type": "stream",
     "text": [
      "\r 77%|███████▋  | 116/150 [01:20<00:23,  1.47it/s]"
     ]
    },
    {
     "name": "stdout",
     "output_type": "stream",
     "text": [
      "\n",
      "empty predicted answer set for sample #115\n"
     ]
    },
    {
     "name": "stderr",
     "output_type": "stream",
     "text": [
      "\r 78%|███████▊  | 117/150 [01:20<00:22,  1.48it/s]"
     ]
    },
    {
     "name": "stdout",
     "output_type": "stream",
     "text": [
      "\n",
      "empty predicted answer set for sample #116\n"
     ]
    },
    {
     "name": "stderr",
     "output_type": "stream",
     "text": [
      "\r 79%|███████▊  | 118/150 [01:21<00:21,  1.47it/s]"
     ]
    },
    {
     "name": "stdout",
     "output_type": "stream",
     "text": [
      "\n",
      "empty predicted answer set for sample #117\n"
     ]
    },
    {
     "name": "stderr",
     "output_type": "stream",
     "text": [
      "\r 79%|███████▉  | 119/150 [01:22<00:21,  1.47it/s]"
     ]
    },
    {
     "name": "stdout",
     "output_type": "stream",
     "text": [
      "\n",
      "results are not of type boolean for sample #118\n"
     ]
    },
    {
     "name": "stderr",
     "output_type": "stream",
     "text": [
      "\r 80%|████████  | 120/150 [01:22<00:20,  1.47it/s]"
     ]
    },
    {
     "name": "stdout",
     "output_type": "stream",
     "text": [
      "\n",
      "error executing SPARQL query: QueryBadFormed: A bad request has been sent to the endpoint: probably the SPARQL query is badly formed. \n",
      "\n",
      "Response:\n",
      "b'Virtuoso 37000 Error SP030: SPARQL compiler, line 4: Undefined namespace prefix in prefix:localpart notation at \\'wdt:P31\\' before \\'wd:Q35657\\'\\n\\nSPARQL query:\\n#output-format:application/sparql-results+json\\nSELECT ?stateLabel\\nWHERE {\\n  ?state wdt:P31 wd:Q35657;\\n         wdt:P2586 \"MN\".\\n  SERVICE wikibase:label { bd:serviceParam wikibase:language \"[AUTO_LANGUAGE],en\". }\\n}\\nLIMIT 100\\n'\n",
      "\n",
      "syntax error for sample #119\n"
     ]
    },
    {
     "name": "stderr",
     "output_type": "stream",
     "text": [
      " 81%|████████▏ | 122/150 [01:24<00:18,  1.48it/s]"
     ]
    },
    {
     "name": "stdout",
     "output_type": "stream",
     "text": [
      "\n",
      "empty predicted answer set for sample #121\n"
     ]
    },
    {
     "name": "stderr",
     "output_type": "stream",
     "text": [
      "\r 82%|████████▏ | 123/150 [01:24<00:18,  1.48it/s]"
     ]
    },
    {
     "name": "stdout",
     "output_type": "stream",
     "text": [
      "\n",
      "empty predicted answer set for sample #122\n"
     ]
    },
    {
     "name": "stderr",
     "output_type": "stream",
     "text": [
      " 83%|████████▎ | 125/150 [01:26<00:16,  1.48it/s]"
     ]
    },
    {
     "name": "stdout",
     "output_type": "stream",
     "text": [
      "\n",
      "error executing SPARQL query: QueryBadFormed: A bad request has been sent to the endpoint: probably the SPARQL query is badly formed. \n",
      "\n",
      "Response:\n",
      "b'Virtuoso 37000 Error SP030: SPARQL compiler, line 4: Undefined namespace prefix in prefix:localpart notation at \\'dbpedia-owl:year\\' before \\'1836\\'\\n\\nSPARQL query:\\n#output-format:application/sparql-results+json\\nSELECT ?battleName\\nWHERE {\\n  ?battle dbpedia-owl:year 1836 ;\\n          dbpedia-owl:place dbpedia:San_Antonio .\\n  ?battle rdfs:label ?battleName .\\n  FILTER(LANG(?battleName) = \"\" || LANGMATCHES(LANG(?battleName), \"en\"))\\n}\\nLIMIT 100\\n'\n",
      "\n",
      "syntax error for sample #124\n"
     ]
    },
    {
     "name": "stderr",
     "output_type": "stream",
     "text": [
      " 85%|████████▍ | 127/150 [01:27<00:15,  1.48it/s]"
     ]
    },
    {
     "name": "stdout",
     "output_type": "stream",
     "text": [
      "\n",
      "empty predicted answer set for sample #126\n"
     ]
    },
    {
     "name": "stderr",
     "output_type": "stream",
     "text": [
      "\r 85%|████████▌ | 128/150 [01:28<00:14,  1.47it/s]"
     ]
    },
    {
     "name": "stdout",
     "output_type": "stream",
     "text": [
      "\n",
      "error executing SPARQL query: QueryBadFormed: A bad request has been sent to the endpoint: probably the SPARQL query is badly formed. \n",
      "\n",
      "Response:\n",
      "b'Virtuoso 37000 Error SP030: SPARQL compiler, line 4: Undefined namespace prefix in prefix:localpart notation at \\'wdt:P31\\' before \\'wd:Q7075\\'\\n\\nSPARQL query:\\n#output-format:application/sparql-results+json\\nSELECT ?library ?libraryLabel ?established\\nWHERE {\\n  ?library wdt:P31 wd:Q7075;  # instance of library\\n           wdt:P571 ?established.  # establishment date\\n  FILTER(YEAR(?established) < 1400)\\n  SERVICE wikibase:label { bd:serviceParam wikibase:language \"[AUTO_LANGUAGE],en\". }\\n}\\nLIMIT 100\\n'\n",
      "\n",
      "syntax error for sample #127\n"
     ]
    },
    {
     "name": "stderr",
     "output_type": "stream",
     "text": [
      "\r 86%|████████▌ | 129/150 [01:28<00:14,  1.43it/s]"
     ]
    },
    {
     "name": "stdout",
     "output_type": "stream",
     "text": [
      "\n",
      "empty predicted answer set for sample #128\n"
     ]
    },
    {
     "name": "stderr",
     "output_type": "stream",
     "text": [
      "\r 87%|████████▋ | 130/150 [01:29<00:13,  1.45it/s]"
     ]
    },
    {
     "name": "stdout",
     "output_type": "stream",
     "text": [
      "\n",
      "empty predicted answer set for sample #129\n"
     ]
    },
    {
     "name": "stderr",
     "output_type": "stream",
     "text": [
      "\r 87%|████████▋ | 131/150 [01:30<00:13,  1.45it/s]"
     ]
    },
    {
     "name": "stdout",
     "output_type": "stream",
     "text": [
      "\n",
      "empty predicted answer set for sample #130\n"
     ]
    },
    {
     "name": "stderr",
     "output_type": "stream",
     "text": [
      "\r 88%|████████▊ | 132/150 [01:30<00:12,  1.44it/s]"
     ]
    },
    {
     "name": "stdout",
     "output_type": "stream",
     "text": [
      "\n",
      "error executing SPARQL query: QueryBadFormed: A bad request has been sent to the endpoint: probably the SPARQL query is badly formed. \n",
      "\n",
      "Response:\n",
      "b\"Virtuoso 37000 Error SP030: SPARQL compiler, line 4: Undefined namespace prefix in prefix:localpart notation at 'dbpedia:John_F._Kennedy' before '.'\\n\\nSPARQL query:\\n#output-format:application/sparql-results+json\\nSELECT ?president\\nWHERE {\\n  ?president dbp:succeededBy dbpedia:John_F._Kennedy .\\n}\\nLIMIT 100\\n\"\n",
      "\n",
      "syntax error for sample #131\n"
     ]
    },
    {
     "name": "stderr",
     "output_type": "stream",
     "text": [
      "\r 89%|████████▊ | 133/150 [01:31<00:11,  1.43it/s]"
     ]
    },
    {
     "name": "stdout",
     "output_type": "stream",
     "text": [
      "\n",
      "error executing SPARQL query: EndPointInternalError: The endpoint returned the HTTP status code 500. \n",
      "\n",
      "Response:\n",
      "b'Virtuoso 42000 Error SR186:SECURITY: No permission to execute procedure DB.DBA.SPARUL_RUN with user ID 111, group ID 111\\n\\nSPARQL query:\\n#output-format:application/sparql-results+json\\n\\n'\n",
      "\n",
      "syntax error for sample #132\n"
     ]
    },
    {
     "name": "stderr",
     "output_type": "stream",
     "text": [
      "\r 89%|████████▉ | 134/150 [01:32<00:11,  1.45it/s]"
     ]
    },
    {
     "name": "stdout",
     "output_type": "stream",
     "text": [
      "\n",
      "empty predicted answer set for sample #133\n"
     ]
    },
    {
     "name": "stderr",
     "output_type": "stream",
     "text": [
      "\r 90%|█████████ | 135/150 [01:33<00:10,  1.46it/s]"
     ]
    },
    {
     "name": "stdout",
     "output_type": "stream",
     "text": [
      "\n",
      "empty predicted answer set for sample #134\n"
     ]
    },
    {
     "name": "stderr",
     "output_type": "stream",
     "text": [
      " 91%|█████████▏| 137/150 [01:34<00:08,  1.46it/s]"
     ]
    },
    {
     "name": "stdout",
     "output_type": "stream",
     "text": [
      "\n",
      "error executing SPARQL query: EndPointInternalError: The endpoint returned the HTTP status code 500. \n",
      "\n",
      "Response:\n",
      "b'Virtuoso 42000 Error SR186:SECURITY: No permission to execute procedure DB.DBA.SPARUL_RUN with user ID 111, group ID 111\\n\\nSPARQL query:\\n#output-format:application/sparql-results+json\\n\\n'\n",
      "\n",
      "syntax error for sample #136\n"
     ]
    },
    {
     "name": "stderr",
     "output_type": "stream",
     "text": [
      "\r 92%|█████████▏| 138/150 [01:35<00:08,  1.47it/s]"
     ]
    },
    {
     "name": "stdout",
     "output_type": "stream",
     "text": [
      "\n",
      "empty predicted answer set for sample #137\n"
     ]
    },
    {
     "name": "stderr",
     "output_type": "stream",
     "text": [
      "\r 93%|█████████▎| 139/150 [01:35<00:07,  1.47it/s]"
     ]
    },
    {
     "name": "stdout",
     "output_type": "stream",
     "text": [
      "\n",
      "empty predicted answer set for sample #138\n"
     ]
    },
    {
     "name": "stderr",
     "output_type": "stream",
     "text": [
      "\r 93%|█████████▎| 140/150 [01:36<00:06,  1.47it/s]"
     ]
    },
    {
     "name": "stdout",
     "output_type": "stream",
     "text": [
      "\n",
      "empty predicted answer set for sample #139\n"
     ]
    },
    {
     "name": "stderr",
     "output_type": "stream",
     "text": [
      "\r 94%|█████████▍| 141/150 [01:37<00:06,  1.47it/s]"
     ]
    },
    {
     "name": "stdout",
     "output_type": "stream",
     "text": [
      "\n",
      "results dict has more keys than expected for sample #140\n"
     ]
    },
    {
     "name": "stderr",
     "output_type": "stream",
     "text": [
      " 95%|█████████▌| 143/150 [01:38<00:04,  1.47it/s]"
     ]
    },
    {
     "name": "stdout",
     "output_type": "stream",
     "text": [
      "\n",
      "empty predicted answer set for sample #142\n"
     ]
    },
    {
     "name": "stderr",
     "output_type": "stream",
     "text": [
      "\r 96%|█████████▌| 144/150 [01:39<00:04,  1.47it/s]"
     ]
    },
    {
     "name": "stdout",
     "output_type": "stream",
     "text": [
      "\n",
      "empty predicted answer set for sample #143\n"
     ]
    },
    {
     "name": "stderr",
     "output_type": "stream",
     "text": [
      " 97%|█████████▋| 146/150 [01:40<00:02,  1.47it/s]"
     ]
    },
    {
     "name": "stdout",
     "output_type": "stream",
     "text": [
      "\n",
      "empty predicted answer set for sample #145\n"
     ]
    },
    {
     "name": "stderr",
     "output_type": "stream",
     "text": [
      "\r 98%|█████████▊| 147/150 [01:41<00:02,  1.47it/s]"
     ]
    },
    {
     "name": "stdout",
     "output_type": "stream",
     "text": [
      "\n",
      "empty predicted answer set for sample #146\n"
     ]
    },
    {
     "name": "stderr",
     "output_type": "stream",
     "text": [
      "\r 99%|█████████▊| 148/150 [01:41<00:01,  1.48it/s]"
     ]
    },
    {
     "name": "stdout",
     "output_type": "stream",
     "text": [
      "\n",
      "empty predicted answer set for sample #147\n"
     ]
    },
    {
     "name": "stderr",
     "output_type": "stream",
     "text": [
      "100%|██████████| 150/150 [01:43<00:00,  1.45it/s]"
     ]
    },
    {
     "name": "stdout",
     "output_type": "stream",
     "text": [
      "\n",
      "empty predicted answer set for sample #149\n",
      "\n",
      "acc: 0.31408982073952024\n",
      "rec: 0.32679280666365346\n",
      "pre: 0.31408982073952024\n",
      "f1: 0.30793380900584283\n"
     ]
    },
    {
     "name": "stderr",
     "output_type": "stream",
     "text": [
      "\n"
     ]
    }
   ],
   "source": [
    "import requests\n",
    "import json\n",
    "from SPARQLWrapper import SPARQLWrapper, JSON\n",
    "from copy import deepcopy\n",
    "dbpedia_endpoint = \"http://dbpedia.org/sparql\"\n",
    "\n",
    "def execute_sparql_query(query):\n",
    "    sparql = SPARQLWrapper(dbpedia_endpoint)\n",
    "    sparql.setQuery(query)\n",
    "    sparql.setReturnFormat(JSON)\n",
    "\n",
    "    try:\n",
    "        results = sparql.queryAndConvert()\n",
    "        return results\n",
    "    except Exception as e:\n",
    "        print(f\"\\nerror executing SPARQL query: {e}\")\n",
    "        return None\n",
    "\n",
    "def process_text(txt):\n",
    "    return txt.strip().lower().replace(':','').replace('.','').replace('/','').replace('_','')\n",
    "\n",
    "def eval(gold, pred, boolean=False):\n",
    "    TP, FP, FN = 0, 0, 0\n",
    "    for item in pred:\n",
    "        new_item = process_text(item) if not boolean else item\n",
    "        if new_item in gold:\n",
    "            TP += 1\n",
    "        else:\n",
    "            FP += 1\n",
    "    pred = list(map(lambda x: process_text(x), pred)) if not boolean else pred\n",
    "    for item in gold:\n",
    "        if item not in pred:\n",
    "            FN += 1\n",
    "    acc = TP / len(pred)\n",
    "    recall = TP / (TP + FN)\n",
    "    precision = TP / (TP + FP)\n",
    "    f1 = ((2 * (precision * recall)) / (precision + recall)) if (precision + recall != 0) else 0\n",
    "    rec, pre = recall, precision\n",
    "    return acc, rec, pre, f1\n",
    "\n",
    "queries = []\n",
    "with open('/content/gpt-3.5-turbo_qald-9-plus.json', 'r') as f:\n",
    "  data = json.load(f)\n",
    "  queries = [d['pred_sparql'] for d in data]\n",
    "  ids = [d['id'] for d in data]\n",
    "  gold_ans = [d['gold_answers'] for d in data]\n",
    "  for j in range(len(gold_ans)):\n",
    "      if len(list(gold_ans[j].keys())) == 0:\n",
    "          ans = []\n",
    "      else:\n",
    "          assert len(list(gold_ans[j].keys())) == 1\n",
    "          gold_ans[j] = deepcopy(next(iter(gold_ans[j].values())))\n",
    "\n",
    "total_acc, total_rec, total_pre, total_f1 = 0, 0, 0, 0\n",
    "for i in trange(len(queries)):\n",
    "    query = queries[i]\n",
    "    pred_answers = {}\n",
    "    results = execute_sparql_query(query)\n",
    "    if (type(gold_ans[i]) != bool and len(gold_ans[i]) == 0) and (not results): # if results == None -> syntax error\n",
    "        print(f'\\nsyntax error for sample #{ids[i]}')\n",
    "        total_acc += 1\n",
    "        total_rec += 1\n",
    "        total_pre += 1\n",
    "        total_f1 += 1\n",
    "        continue\n",
    "    elif type(gold_ans[i]) != bool and (len(gold_ans[i]) > 0) and (not results): # if results == None -> syntax error\n",
    "        print(f'\\nsyntax error for sample #{ids[i]}')\n",
    "        continue\n",
    "    elif type(gold_ans[i]) == bool and (not results):\n",
    "        print(f'\\nsyntax error for sample #{ids[i]}')\n",
    "        continue\n",
    "    if 'boolean' in results.keys():\n",
    "        acc, rec, pre, f1 = eval([gold_ans[i]], [results['boolean']], boolean=True)\n",
    "        total_acc += acc\n",
    "        total_rec += rec\n",
    "        total_pre += pre\n",
    "        total_f1 += f1\n",
    "        continue\n",
    "    else:\n",
    "        for result in results[\"results\"][\"bindings\"]:\n",
    "            for var_name, var_data in result.items():\n",
    "                var_value = var_data[\"value\"]\n",
    "                if var_name in pred_answers.keys():\n",
    "                    pred_answers[var_name].append(var_value)\n",
    "                else:\n",
    "                    pred_answers[var_name] = [var_value]\n",
    "    if (type(gold_ans[i]) != bool) and (len(gold_ans[i]) == 0) and (len(list(pred_answers.keys())) == 0):\n",
    "        total_acc += 1\n",
    "        total_rec += 1\n",
    "        total_pre += 1\n",
    "        total_f1 += 1\n",
    "        continue\n",
    "    elif (type(gold_ans[i]) != bool) and (len(gold_ans[i]) > 0) and (len(list(pred_answers.keys())) == 0):\n",
    "        print(f'\\nempty predicted answer set for sample #{ids[i]}')\n",
    "        continue\n",
    "    elif (type(gold_ans[i]) != bool) and (len(gold_ans[i]) == 0) and (len(list(pred_answers.keys())) > 0):\n",
    "        print(f'\\npredicted answer set was supposed to be empty for sample #{ids[i]}')\n",
    "        continue\n",
    "    elif type(gold_ans[i]) == bool:\n",
    "        print(f'\\nresults are not of type boolean for sample #{ids[i]}')\n",
    "        continue\n",
    "    try:\n",
    "        assert len(list(pred_answers.keys())) == 1\n",
    "    except:\n",
    "        print(f'\\nresults dict has more keys than expected for sample #{ids[i]}')\n",
    "        continue\n",
    "    pred_ans = next(iter(pred_answers.values()))\n",
    "    acc, rec, pre, f1 = eval(list(map(lambda x: process_text(x), gold_ans[i])), pred_ans)\n",
    "    total_acc += acc\n",
    "    total_rec += rec\n",
    "    total_pre += pre\n",
    "    total_f1 += f1\n",
    "    # print(f'\\ninfo for sample #{ids[i]}:')\n",
    "    # print(f'acc = {acc}, rec = {rec}, pre = {pre}, f1 = {f1}')\n",
    "    # print('\\n'.join(gold_ans[i]))\n",
    "    # print('---')\n",
    "    # print('\\n'.join(pred_ans))\n",
    "    # print()\n",
    "print(f'\\nacc: {total_acc / len(queries)}')\n",
    "print(f'rec: {total_rec / len(queries)}')\n",
    "print(f'pre: {total_pre / len(queries)}')\n",
    "print(f'f1: {total_f1 / len(queries)}')"
   ]
  },
  {
   "cell_type": "markdown",
   "metadata": {
    "id": "pI-rwtOhgnRh"
   },
   "source": [
    "#### ChatGPT zero-shot setting including second response\n",
    "model_5: gpt-3.5-turbo-v2"
   ]
  },
  {
   "cell_type": "code",
   "execution_count": null,
   "metadata": {
    "colab": {
     "base_uri": "https://localhost:8080/",
     "height": 1000
    },
    "id": "GVFFw4N1ijUS",
    "outputId": "6c01f172-b87c-4e3c-a389-36fe63a8ae80"
   },
   "outputs": [
    {
     "data": {
      "text/html": [
       "\n",
       "  <style>\n",
       "    pre {\n",
       "        white-space: pre-wrap;\n",
       "    }\n",
       "  </style>\n",
       "  "
      ],
      "text/plain": [
       "<IPython.core.display.HTML object>"
      ]
     },
     "metadata": {},
     "output_type": "display_data"
    },
    {
     "name": "stderr",
     "output_type": "stream",
     "text": [
      "  1%|▏         | 2/150 [00:02<03:28,  1.41s/it]"
     ]
    },
    {
     "name": "stdout",
     "output_type": "stream",
     "text": [
      "\n",
      "error executing SPARQL query: QueryBadFormed: A bad request has been sent to the endpoint: probably the SPARQL query is badly formed. \n",
      "\n",
      "Response:\n",
      "b\"Virtuoso 37000 Error SP030: SPARQL compiler, line 4: Undefined namespace prefix in prefix:localpart notation at 'dbpedia-owl:Person' before '.'\\n\\nSPARQL query:\\n#output-format:application/sparql-results+json\\nSELECT ?killer WHERE {\\n  ?killer dbp:perpetratorOf <http://dbpedia.org/resource/Assassination_of_Julius_Caesar>.\\n  ?killer rdf:type dbpedia-owl:Person.\\n}\\nLIMIT 100\\n\"\n",
      "\n",
      "empty predicted answer set for sample #1\n",
      "\n",
      "error executing SPARQL query: QueryBadFormed: A bad request has been sent to the endpoint: probably the SPARQL query is badly formed. \n",
      "\n",
      "Response:\n",
      "b'Virtuoso 37000 Error SP030: SPARQL compiler, line 4: Undefined namespace prefix in prefix:localpart notation at \\'wdt:P31\\' before \\'wd:Q8502\\'\\n\\nSPARQL query:\\n#output-format:application/sparql-results+json\\nSELECT ?mountain ?mountainLabel\\nWHERE {\\n  ?mountain wdt:P31 wd:Q8502;  # instance of mountain\\n           wdt:P17 wd:Q183;    # located in Germany\\n           wdt:P610 ?elevation. # has elevation\\n  SERVICE wikibase:label { bd:serviceParam wikibase:language \"[AUTO_LANGUAGE],en\". }\\n}\\nORDER BY DESC(?elevation)\\nLIMIT 1\\n'\n"
     ]
    },
    {
     "name": "stderr",
     "output_type": "stream",
     "text": [
      "\r  2%|▏         | 3/150 [00:04<03:23,  1.39s/it]"
     ]
    },
    {
     "name": "stdout",
     "output_type": "stream",
     "text": [
      "\n",
      "error executing SPARQL query: QueryBadFormed: A bad request has been sent to the endpoint: probably the SPARQL query is badly formed. \n",
      "\n",
      "Response:\n",
      "b'Virtuoso 37000 Error SP030: SPARQL compiler, line 4: Undefined namespace prefix in prefix:localpart notation at \\'wdt:P31\\' before \\'wd:Q8502\\'\\n\\nSPARQL query:\\n#output-format:application/sparql-results+json\\nSELECT ?mountain ?mountainLabel\\nWHERE {\\n  ?mountain wdt:P31 wd:Q8502;  # instance of mountain\\n           wdt:P17 wd:Q183;    # located in Germany\\n           wdt:P610 ?elevation. # has elevation\\n  SERVICE wikibase:label { bd:serviceParam wikibase:language \"[AUTO_LANGUAGE],en\". }\\n}\\nORDER BY DESC(?elevation)\\nLIMIT 1\\n'\n",
      "\n",
      "syntax error for sample #2\n"
     ]
    },
    {
     "name": "stderr",
     "output_type": "stream",
     "text": [
      "\r  3%|▎         | 4/150 [00:05<03:19,  1.37s/it]"
     ]
    },
    {
     "name": "stdout",
     "output_type": "stream",
     "text": [
      "\n",
      "empty predicted answer set for sample #3\n"
     ]
    },
    {
     "name": "stderr",
     "output_type": "stream",
     "text": [
      "  5%|▌         | 8/150 [00:11<03:14,  1.37s/it]"
     ]
    },
    {
     "name": "stdout",
     "output_type": "stream",
     "text": [
      "\n",
      "empty predicted answer set for sample #7\n"
     ]
    },
    {
     "name": "stderr",
     "output_type": "stream",
     "text": [
      "\r  6%|▌         | 9/150 [00:12<03:12,  1.36s/it]"
     ]
    },
    {
     "name": "stdout",
     "output_type": "stream",
     "text": [
      "\n",
      "results are not of type boolean for sample #8\n"
     ]
    },
    {
     "name": "stderr",
     "output_type": "stream",
     "text": [
      "\r  7%|▋         | 10/150 [00:13<03:10,  1.36s/it]"
     ]
    },
    {
     "name": "stdout",
     "output_type": "stream",
     "text": [
      "\n",
      "empty predicted answer set for sample #9\n"
     ]
    },
    {
     "name": "stderr",
     "output_type": "stream",
     "text": [
      "\r  7%|▋         | 11/150 [00:15<03:09,  1.36s/it]"
     ]
    },
    {
     "name": "stdout",
     "output_type": "stream",
     "text": [
      "\n",
      "empty predicted answer set for sample #10\n"
     ]
    },
    {
     "name": "stderr",
     "output_type": "stream",
     "text": [
      "\r  8%|▊         | 12/150 [00:16<03:07,  1.36s/it]"
     ]
    },
    {
     "name": "stdout",
     "output_type": "stream",
     "text": [
      "\n",
      "empty predicted answer set for sample #11\n",
      "\n",
      "error executing SPARQL query: QueryBadFormed: A bad request has been sent to the endpoint: probably the SPARQL query is badly formed. \n",
      "\n",
      "Response:\n",
      "b\"Virtuoso 37000 Error SP030: SPARQL compiler, line 6: Aggregates are allowed only in result sets at ')' before '>'\\n\\nSPARQL query:\\n#output-format:application/sparql-results+json\\nSELECT DISTINCT ?country WHERE {\\n  ?place rdf:type dbo:Place .\\n  ?place dbo:location ?country .\\n  ?place dbo:caves ?caves .\\n  FILTER (COUNT(?caves) > 2)\\n}\\nGROUP BY ?country\\n\"\n"
     ]
    },
    {
     "name": "stderr",
     "output_type": "stream",
     "text": [
      "\r  9%|▊         | 13/150 [00:17<03:05,  1.35s/it]"
     ]
    },
    {
     "name": "stdout",
     "output_type": "stream",
     "text": [
      "\n",
      "empty predicted answer set for sample #12\n"
     ]
    },
    {
     "name": "stderr",
     "output_type": "stream",
     "text": [
      "\r  9%|▉         | 14/150 [00:19<03:04,  1.35s/it]"
     ]
    },
    {
     "name": "stdout",
     "output_type": "stream",
     "text": [
      "\n",
      "empty predicted answer set for sample #13\n"
     ]
    },
    {
     "name": "stderr",
     "output_type": "stream",
     "text": [
      " 11%|█         | 16/150 [00:21<03:01,  1.35s/it]"
     ]
    },
    {
     "name": "stdout",
     "output_type": "stream",
     "text": [
      "\n",
      "empty predicted answer set for sample #15\n"
     ]
    },
    {
     "name": "stderr",
     "output_type": "stream",
     "text": [
      " 12%|█▏        | 18/150 [00:24<02:58,  1.35s/it]"
     ]
    },
    {
     "name": "stdout",
     "output_type": "stream",
     "text": [
      "\n",
      "error executing SPARQL query: QueryBadFormed: A bad request has been sent to the endpoint: probably the SPARQL query is badly formed. \n",
      "\n",
      "Response:\n",
      "b'Virtuoso 37000 Error SP030: SPARQL compiler, line 4: Undefined namespace prefix in prefix:localpart notation at \\'wdt:P31\\' before \\'wd:Q3624078\\'\\n\\nSPARQL query:\\n#output-format:application/sparql-results+json\\nSELECT ?countryLabel\\nWHERE {\\n  ?country wdt:P31 wd:Q3624078 ;\\n           wdt:P108 wd:Q4917 ;\\n           wdt:P463 wd:Q458 .\\n  SERVICE wikibase:label { bd:serviceParam wikibase:language \"[AUTO_LANGUAGE],en\". }\\n}\\n'\n",
      "\n",
      "empty predicted answer set for sample #17\n"
     ]
    },
    {
     "name": "stderr",
     "output_type": "stream",
     "text": [
      " 13%|█▎        | 20/150 [00:27<02:55,  1.35s/it]"
     ]
    },
    {
     "name": "stdout",
     "output_type": "stream",
     "text": [
      "\n",
      "empty predicted answer set for sample #19\n",
      "\n",
      "error executing SPARQL query: QueryBadFormed: A bad request has been sent to the endpoint: probably the SPARQL query is badly formed. \n",
      "\n",
      "Response:\n",
      "b'Virtuoso 37000 Error SP030: SPARQL compiler, line 5: Undefined namespace prefix in prefix:localpart notation at \\'dbpedia-owl:child\\' before \\'?child\\'\\n\\nSPARQL query:\\n#output-format:application/sparql-results+json\\nSELECT (COUNT(?grandchild) AS ?count)\\nWHERE {\\n  ?person foaf:name \"Jacques Cousteau\" .\\n  ?person dbpedia-owl:child ?child .\\n  ?child dbpedia-owl:child ?grandchild .\\n}\\n'\n"
     ]
    },
    {
     "name": "stderr",
     "output_type": "stream",
     "text": [
      "\r 14%|█▍        | 21/150 [00:28<02:54,  1.36s/it]"
     ]
    },
    {
     "name": "stdout",
     "output_type": "stream",
     "text": [
      "\n",
      "error executing SPARQL query: QueryBadFormed: A bad request has been sent to the endpoint: probably the SPARQL query is badly formed. \n",
      "\n",
      "Response:\n",
      "b'Virtuoso 37000 Error SP030: SPARQL compiler, line 5: Undefined namespace prefix in prefix:localpart notation at \\'dbpedia-owl:child\\' before \\'?child\\'\\n\\nSPARQL query:\\n#output-format:application/sparql-results+json\\nSELECT (COUNT(?grandchild) AS ?count)\\nWHERE {\\n  ?person foaf:name \"Jacques Cousteau\" .\\n  ?person dbpedia-owl:child ?child .\\n  ?grandchild dbpedia-owl:parent ?child .\\n}\\n'\n",
      "\n",
      "syntax error for sample #20\n"
     ]
    },
    {
     "name": "stderr",
     "output_type": "stream",
     "text": [
      " 17%|█▋        | 25/150 [00:34<02:56,  1.41s/it]"
     ]
    },
    {
     "name": "stdout",
     "output_type": "stream",
     "text": [
      "\n",
      "empty predicted answer set for sample #24\n",
      "\n",
      "error executing SPARQL query: QueryBadFormed: A bad request has been sent to the endpoint: probably the SPARQL query is badly formed. \n",
      "\n",
      "Response:\n",
      "b'Virtuoso 37000 Error SP030: SPARQL compiler, line 4: Undefined namespace prefix in prefix:localpart notation at \\'wdt:P31\\' before \\'wd:Q35657\\'\\n\\nSPARQL query:\\n#output-format:application/sparql-results+json\\nSELECT ?stateLabel\\nWHERE {\\n  ?state wdt:P31 wd:Q35657;\\n         wdt:P17 wd:Q30.\\n  SERVICE wikibase:label { bd:serviceParam wikibase:language \"[AUTO_LANGUAGE],en\". }\\n}\\nORDER BY DESC(?state)\\nLIMIT 1\\n'\n"
     ]
    },
    {
     "name": "stderr",
     "output_type": "stream",
     "text": [
      "\r 17%|█▋        | 26/150 [00:35<02:52,  1.39s/it]"
     ]
    },
    {
     "name": "stdout",
     "output_type": "stream",
     "text": [
      "\n",
      "error executing SPARQL query: QueryBadFormed: A bad request has been sent to the endpoint: probably the SPARQL query is badly formed. \n",
      "\n",
      "Response:\n",
      "b'Virtuoso 37000 Error SP030: SPARQL compiler, line 4: Undefined namespace prefix in prefix:localpart notation at \\'wdt:P31\\' before \\'wd:Q35657\\'\\n\\nSPARQL query:\\n#output-format:application/sparql-results+json\\nSELECT ?stateLabel\\nWHERE {\\n  ?state wdt:P31 wd:Q35657;\\n         wdt:P17 wd:Q30.\\n  SERVICE wikibase:label { bd:serviceParam wikibase:language \"[AUTO_LANGUAGE],en\". }\\n}\\nORDER BY DESC(?state)\\nLIMIT 1\\n'\n",
      "\n",
      "syntax error for sample #25\n",
      "\n",
      "error executing SPARQL query: QueryBadFormed: A bad request has been sent to the endpoint: probably the SPARQL query is badly formed. \n",
      "\n",
      "Response:\n",
      "b\"Virtuoso 37000 Error SP030: SPARQL compiler, line 5: Undefined namespace prefix in prefix:localpart notation at 'dbpedia:Millepede' before ')'\\n\\nSPARQL query:\\n#output-format:application/sparql-results+json\\nSELECT DISTINCT ?class\\nWHERE {\\n  ?millepede rdf:type ?class .\\n  FILTER (?millepede = dbpedia:Millepede)\\n}\\n\"\n"
     ]
    },
    {
     "name": "stderr",
     "output_type": "stream",
     "text": [
      "\r 18%|█▊        | 27/150 [00:37<02:50,  1.38s/it]"
     ]
    },
    {
     "name": "stdout",
     "output_type": "stream",
     "text": [
      "\n",
      "error executing SPARQL query: QueryBadFormed: A bad request has been sent to the endpoint: probably the SPARQL query is badly formed. \n",
      "\n",
      "Response:\n",
      "b\"Virtuoso 37000 Error SP030: SPARQL compiler, line 4: Undefined namespace prefix in prefix:localpart notation at 'dbpedia:Millepede' before 'rdf:type'\\n\\nSPARQL query:\\n#output-format:application/sparql-results+json\\nSELECT DISTINCT ?classLabel\\nWHERE {\\n  dbpedia:Millepede rdf:type ?class .\\n  ?class rdfs:label ?classLabel .\\n  FILTER (lang(?classLabel) = 'en')\\n}\\n\"\n",
      "\n",
      "syntax error for sample #26\n"
     ]
    },
    {
     "name": "stderr",
     "output_type": "stream",
     "text": [
      "\r 19%|█▊        | 28/150 [00:38<02:47,  1.38s/it]"
     ]
    },
    {
     "name": "stdout",
     "output_type": "stream",
     "text": [
      "\n",
      "error executing SPARQL query: QueryBadFormed: A bad request has been sent to the endpoint: probably the SPARQL query is badly formed. \n",
      "\n",
      "Response:\n",
      "b\"Virtuoso 37000 Error SP030: SPARQL compiler, line 4: Undefined namespace prefix in prefix:localpart notation at 'dbpedia-owl:wikiPageRedirects' before '<http://dbpedia.org/resource/Forbes>'\\n\\nSPARQL query:\\n#output-format:application/sparql-results+json\\nSELECT ?homepage\\nWHERE {\\n  ?forbes dbpedia-owl:wikiPageRedirects <http://dbpedia.org/resource/Forbes> .\\n  ?forbes foaf:homepage ?homepage .\\n}\\nLIMIT 100\\n\"\n",
      "\n",
      "error executing SPARQL query: QueryBadFormed: A bad request has been sent to the endpoint: probably the SPARQL query is badly formed. \n",
      "\n",
      "Response:\n",
      "b'Virtuoso 37000 Error SP030: SPARQL compiler, line 4: Undefined namespace prefix in prefix:localpart notation at \\'dbpedia-owl:spouse\\' before \\'?husband\\'\\n\\nSPARQL query:\\n#output-format:application/sparql-results+json\\nSELECT ?husband WHERE {\\n  ?person foaf:name \"Amanda Palmer\" .\\n  ?person dbpedia-owl:spouse ?husband .\\n}\\nLIMIT 100\\n'\n"
     ]
    },
    {
     "name": "stderr",
     "output_type": "stream",
     "text": [
      "\r 19%|█▉        | 29/150 [00:39<02:46,  1.37s/it]"
     ]
    },
    {
     "name": "stdout",
     "output_type": "stream",
     "text": [
      "\n",
      "error executing SPARQL query: QueryBadFormed: A bad request has been sent to the endpoint: probably the SPARQL query is badly formed. \n",
      "\n",
      "Response:\n",
      "b'Virtuoso 37000 Error SP030: SPARQL compiler, line 4: Undefined namespace prefix in prefix:localpart notation at \\'dbpedia-owl:spouse\\' before \\'?husband\\'\\n\\nSPARQL query:\\n#output-format:application/sparql-results+json\\nSELECT ?husbandLabel WHERE {\\n  ?person foaf:name \"Amanda Palmer\" .\\n  ?person dbpedia-owl:spouse ?husband .\\n  SERVICE wikibase:label { bd:serviceParam wikibase:language \"[AUTO_LANGUAGE],en\". }\\n}\\nLIMIT 100\\n'\n",
      "\n",
      "syntax error for sample #28\n"
     ]
    },
    {
     "name": "stderr",
     "output_type": "stream",
     "text": [
      "\r 20%|██        | 30/150 [00:41<02:44,  1.37s/it]"
     ]
    },
    {
     "name": "stdout",
     "output_type": "stream",
     "text": [
      "\n",
      "empty predicted answer set for sample #29\n"
     ]
    },
    {
     "name": "stderr",
     "output_type": "stream",
     "text": [
      " 22%|██▏       | 33/150 [00:45<02:39,  1.36s/it]"
     ]
    },
    {
     "name": "stdout",
     "output_type": "stream",
     "text": [
      "\n",
      "empty predicted answer set for sample #32\n"
     ]
    },
    {
     "name": "stderr",
     "output_type": "stream",
     "text": [
      " 23%|██▎       | 35/150 [00:47<02:35,  1.36s/it]"
     ]
    },
    {
     "name": "stdout",
     "output_type": "stream",
     "text": [
      "\n",
      "empty predicted answer set for sample #34\n"
     ]
    },
    {
     "name": "stderr",
     "output_type": "stream",
     "text": [
      " 25%|██▍       | 37/150 [00:50<02:33,  1.36s/it]"
     ]
    },
    {
     "name": "stdout",
     "output_type": "stream",
     "text": [
      "\n",
      "empty predicted answer set for sample #36\n"
     ]
    },
    {
     "name": "stderr",
     "output_type": "stream",
     "text": [
      " 26%|██▌       | 39/150 [00:53<02:30,  1.35s/it]"
     ]
    },
    {
     "name": "stdout",
     "output_type": "stream",
     "text": [
      "\n",
      "empty predicted answer set for sample #38\n"
     ]
    },
    {
     "name": "stderr",
     "output_type": "stream",
     "text": [
      " 27%|██▋       | 41/150 [00:56<02:27,  1.36s/it]"
     ]
    },
    {
     "name": "stdout",
     "output_type": "stream",
     "text": [
      "\n",
      "predicted answer set was supposed to be empty for sample #40\n"
     ]
    },
    {
     "name": "stderr",
     "output_type": "stream",
     "text": [
      " 31%|███▏      | 47/150 [01:06<02:49,  1.64s/it]"
     ]
    },
    {
     "name": "stdout",
     "output_type": "stream",
     "text": [
      "\n",
      "empty predicted answer set for sample #46\n"
     ]
    },
    {
     "name": "stderr",
     "output_type": "stream",
     "text": [
      "\r 32%|███▏      | 48/150 [01:07<02:38,  1.56s/it]"
     ]
    },
    {
     "name": "stdout",
     "output_type": "stream",
     "text": [
      "\n",
      "predicted answer set was supposed to be empty for sample #47\n"
     ]
    },
    {
     "name": "stderr",
     "output_type": "stream",
     "text": [
      "\r 33%|███▎      | 49/150 [01:08<02:31,  1.50s/it]"
     ]
    },
    {
     "name": "stdout",
     "output_type": "stream",
     "text": [
      "\n",
      "error executing SPARQL query: QueryBadFormed: A bad request has been sent to the endpoint: probably the SPARQL query is badly formed. \n",
      "\n",
      "Response:\n",
      "b'Virtuoso 37000 Error SP030: SPARQL compiler, line 6: Undefined namespace prefix in prefix:localpart notation at \\'wikibase:label\\' before \\'{\\'\\n\\nSPARQL query:\\n#output-format:application/sparql-results+json\\nSELECT ?authorLabel\\nWHERE {\\n  ?wikileaks dbo:author ?author .\\n  FILTER (?wikileaks = dbr:WikiLeaks)\\n  SERVICE wikibase:label { bd:serviceParam wikibase:language \"[AUTO_LANGUAGE],en\". }\\n}\\nLIMIT 100\\n'\n"
     ]
    },
    {
     "name": "stderr",
     "output_type": "stream",
     "text": [
      "\r 33%|███▎      | 50/150 [01:10<02:25,  1.46s/it]"
     ]
    },
    {
     "name": "stdout",
     "output_type": "stream",
     "text": [
      "\n",
      "error executing SPARQL query: QueryBadFormed: A bad request has been sent to the endpoint: probably the SPARQL query is badly formed. \n",
      "\n",
      "Response:\n",
      "b'Virtuoso 37000 Error SP030: SPARQL compiler, line 9: Undefined namespace prefix in prefix:localpart notation at \\'wikibase:label\\' before \\'{\\'\\n\\nSPARQL query:\\n#output-format:application/sparql-results+json\\nSELECT ?stateLabel WHERE {\\n  ?person rdf:type dbo:OfficeHolder .\\n  ?person dbo:office ?office .\\n  ?office dbo:officeHolder ?person .\\n  ?person dbo:birthName \"Sean Parnell\"@en .\\n  ?office dbo:officeLocation ?state .\\n  ?state rdf:type dbo:State .\\n  SERVICE wikibase:label { bd:serviceParam wikibase:language \"[AUTO_LANGUAGE],en\". }\\n}\\nLIMIT 100\\n'\n"
     ]
    },
    {
     "name": "stderr",
     "output_type": "stream",
     "text": [
      "\r 34%|███▍      | 51/150 [01:11<02:21,  1.43s/it]"
     ]
    },
    {
     "name": "stdout",
     "output_type": "stream",
     "text": [
      "\n",
      "error executing SPARQL query: QueryBadFormed: A bad request has been sent to the endpoint: probably the SPARQL query is badly formed. \n",
      "\n",
      "Response:\n",
      "b\"Virtuoso 37000 Error SP030: SPARQL compiler, line 4: Undefined namespace prefix in prefix:localpart notation at 'dbpedia-owl:deathCause' before '?cause'\\n\\nSPARQL query:\\n#output-format:application/sparql-results+json\\nSELECT ?date\\nWHERE {\\n  ?carlo dbpedia-owl:deathCause ?cause .\\n  ?carlo dbpedia-owl:deathDate ?date .\\n  FILTER (?cause = dbpedia:Shooting)\\n}\\nLIMIT 100\\n\"\n"
     ]
    },
    {
     "name": "stderr",
     "output_type": "stream",
     "text": [
      "\r 35%|███▍      | 52/150 [01:12<02:18,  1.41s/it]"
     ]
    },
    {
     "name": "stdout",
     "output_type": "stream",
     "text": [
      "\n",
      "error executing SPARQL query: QueryBadFormed: A bad request has been sent to the endpoint: probably the SPARQL query is badly formed. \n",
      "\n",
      "Response:\n",
      "b\"Virtuoso 37000 Error SP030: SPARQL compiler, line 4: Undefined namespace prefix in prefix:localpart notation at 'dbpedia-owl:deathCause' before '?cause'\\n\\nSPARQL query:\\n#output-format:application/sparql-results+json\\nSELECT ?date\\nWHERE {\\n  ?carlo dbpedia-owl:deathCause ?cause .\\n  ?carlo dbpedia-owl:deathDate ?date .\\n  FILTER (?cause = dbpedia:Shooting_of_Carlo_Giuliani)\\n}\\nLIMIT 100\\n\"\n",
      "\n",
      "syntax error for sample #51\n"
     ]
    },
    {
     "name": "stderr",
     "output_type": "stream",
     "text": [
      "\r 35%|███▌      | 53/150 [01:14<02:15,  1.39s/it]"
     ]
    },
    {
     "name": "stdout",
     "output_type": "stream",
     "text": [
      "\n",
      "empty predicted answer set for sample #52\n"
     ]
    },
    {
     "name": "stderr",
     "output_type": "stream",
     "text": [
      "\r 36%|███▌      | 54/150 [01:15<02:12,  1.38s/it]"
     ]
    },
    {
     "name": "stdout",
     "output_type": "stream",
     "text": [
      "\n",
      "error executing SPARQL query: QueryBadFormed: A bad request has been sent to the endpoint: probably the SPARQL query is badly formed. \n",
      "\n",
      "Response:\n",
      "b'Virtuoso 37000 Error SP030: SPARQL compiler, line 5: Undefined namespace prefix in prefix:localpart notation at \\'wikibase:label\\' before \\'{\\'\\n\\nSPARQL query:\\n#output-format:application/sparql-results+json\\nSELECT ?wifeLabel WHERE {\\n  ?lincoln dbo:spouse ?wife .\\n  FILTER(?lincoln = dbr:Abraham_Lincoln)\\n  SERVICE wikibase:label { bd:serviceParam wikibase:language \"[AUTO_LANGUAGE],en\". }\\n}\\n'\n",
      "\n",
      "empty predicted answer set for sample #53\n",
      "\n",
      "error executing SPARQL query: QueryBadFormed: A bad request has been sent to the endpoint: probably the SPARQL query is badly formed. \n",
      "\n",
      "Response:\n",
      "b\"Virtuoso 37000 Error SP030: SPARQL compiler, line 4: Undefined namespace prefix in prefix:localpart notation at 'dbpedia-owl:award' before '?award'\\n\\nSPARQL query:\\n#output-format:application/sparql-results+json\\nSELECT (COUNT(?award) AS ?count)\\nWHERE {\\n  <http://dbpedia.org/resource/Bertrand_Russell> dbpedia-owl:award ?award .\\n}\\n\"\n"
     ]
    },
    {
     "name": "stderr",
     "output_type": "stream",
     "text": [
      "\r 37%|███▋      | 55/150 [01:17<02:10,  1.38s/it]"
     ]
    },
    {
     "name": "stdout",
     "output_type": "stream",
     "text": [
      "\n",
      "error executing SPARQL query: QueryBadFormed: A bad request has been sent to the endpoint: probably the SPARQL query is badly formed. \n",
      "\n",
      "Response:\n",
      "b\"Virtuoso 37000 Error SP030: SPARQL compiler, line 4: Undefined namespace prefix in prefix:localpart notation at 'dbpedia-owl:award' before '?award'\\n\\nSPARQL query:\\n#output-format:application/sparql-results+json\\nSELECT (COUNT(?award) AS ?count)\\nWHERE {\\n  <http://dbpedia.org/resource/Bertrand_Russell> dbpedia-owl:award ?award .\\n}\\n\"\n",
      "\n",
      "syntax error for sample #54\n",
      "\n",
      "error executing SPARQL query: QueryBadFormed: A bad request has been sent to the endpoint: probably the SPARQL query is badly formed. \n",
      "\n",
      "Response:\n",
      "b'Virtuoso 37000 Error SP030: SPARQL compiler, line 5: Undefined namespace prefix in prefix:localpart notation at \\'wdt:P31\\' before \\'wd:Q5\\'\\n\\nSPARQL query:\\n#output-format:application/sparql-results+json\\nSELECT ?person ?personLabel ?veganLabel\\nWHERE {\\n  ?person rdfs:label \"Pamela Anderson\"@en.\\n  ?person wdt:P31 wd:Q5.\\n  OPTIONAL { ?person wdt:P31 wd:Q3665646. }\\n  SERVICE wikibase:label { bd:serviceParam wikibase:language \"[AUTO_LANGUAGE],en\". }\\n}\\nLIMIT 100\\n'\n"
     ]
    },
    {
     "name": "stderr",
     "output_type": "stream",
     "text": [
      "\r 37%|███▋      | 56/150 [01:18<02:08,  1.37s/it]"
     ]
    },
    {
     "name": "stdout",
     "output_type": "stream",
     "text": [
      "\n",
      "error executing SPARQL query: QueryBadFormed: A bad request has been sent to the endpoint: probably the SPARQL query is badly formed. \n",
      "\n",
      "Response:\n",
      "b'Virtuoso 37000 Error SP030: SPARQL compiler, line 5: Undefined namespace prefix in prefix:localpart notation at \\'wdt:P31\\' before \\'wd:Q5\\'\\n\\nSPARQL query:\\n#output-format:application/sparql-results+json\\nSELECT ?person ?personLabel ?veganLabel\\nWHERE {\\n  ?person rdfs:label \"Pamela Anderson\"@en.\\n  ?person wdt:P31 wd:Q5.\\n  OPTIONAL { ?person wdt:P31 wd:Q3665646. }\\n  OPTIONAL { ?person wdt:P629 wd:Q1059026. }\\n  SERVICE wikibase:label { bd:serviceParam wikibase:language \"[AUTO_LANGUAGE],en\". }\\n}\\nLIMIT 100\\n'\n",
      "\n",
      "syntax error for sample #55\n"
     ]
    },
    {
     "name": "stderr",
     "output_type": "stream",
     "text": [
      "\r 38%|███▊      | 57/150 [01:19<02:07,  1.37s/it]"
     ]
    },
    {
     "name": "stdout",
     "output_type": "stream",
     "text": [
      "\n",
      "empty predicted answer set for sample #56\n"
     ]
    },
    {
     "name": "stderr",
     "output_type": "stream",
     "text": [
      "\r 39%|███▊      | 58/150 [01:21<02:05,  1.36s/it]"
     ]
    },
    {
     "name": "stdout",
     "output_type": "stream",
     "text": [
      "\n",
      "error executing SPARQL query: QueryBadFormed: A bad request has been sent to the endpoint: probably the SPARQL query is badly formed. \n",
      "\n",
      "Response:\n",
      "b'Virtuoso 37000 Error SP030: SPARQL compiler, line 5: Undefined namespace prefix in prefix:localpart notation at \\'dbpedia-owl:child\\' before \\'?daughter\\'\\n\\nSPARQL query:\\n#output-format:application/sparql-results+json\\nSELECT ?daughter ?spouse\\nWHERE {\\n  ?robertKennedy foaf:name \"Robert Kennedy\" .\\n  ?robertKennedy dbpedia-owl:child ?daughter .\\n  ?daughter dbpedia-owl:spouse ?spouse .\\n}\\nLIMIT 100\\n'\n"
     ]
    },
    {
     "name": "stderr",
     "output_type": "stream",
     "text": [
      "\r 39%|███▉      | 59/150 [01:22<02:04,  1.36s/it]"
     ]
    },
    {
     "name": "stdout",
     "output_type": "stream",
     "text": [
      "\n",
      "error executing SPARQL query: QueryBadFormed: A bad request has been sent to the endpoint: probably the SPARQL query is badly formed. \n",
      "\n",
      "Response:\n",
      "b'Virtuoso 37000 Error SP030: SPARQL compiler, line 5: Undefined namespace prefix in prefix:localpart notation at \\'dbpedia-owl:child\\' before \\'?daughter\\'\\n\\nSPARQL query:\\n#output-format:application/sparql-results+json\\nSELECT ?daughter ?spouse\\nWHERE {\\n  ?robertKennedy foaf:name \"Robert Kennedy\" .\\n  ?robertKennedy dbpedia-owl:child ?daughter .\\n  ?daughter dbpedia-owl:spouse ?spouse .\\n}\\n'\n",
      "\n",
      "syntax error for sample #58\n"
     ]
    },
    {
     "name": "stderr",
     "output_type": "stream",
     "text": [
      " 42%|████▏     | 63/150 [01:27<01:58,  1.36s/it]"
     ]
    },
    {
     "name": "stdout",
     "output_type": "stream",
     "text": [
      "\n",
      "error executing SPARQL query: QueryBadFormed: A bad request has been sent to the endpoint: probably the SPARQL query is badly formed. \n",
      "\n",
      "Response:\n",
      "b'Virtuoso 37000 Error SP030: SPARQL compiler, line 5: Undefined namespace prefix in prefix:localpart notation at \\'wikibase:label\\' before \\'{\\'\\n\\nSPARQL query:\\n#output-format:application/sparql-results+json\\nSELECT ?actorLabel\\nWHERE {\\n  ?actor dbo:voiceActor dbr:Bart_Simpson .\\n  SERVICE wikibase:label { bd:serviceParam wikibase:language \"[AUTO_LANGUAGE],en\". }\\n}\\n'\n",
      "\n",
      "error executing SPARQL query: QueryBadFormed: A bad request has been sent to the endpoint: probably the SPARQL query is badly formed. \n",
      "\n",
      "Response:\n",
      "b'Virtuoso 37000 Error SP030: SPARQL compiler, line 4: Undefined namespace prefix in prefix:localpart notation at \\'dbpedia-owl:spouse\\' before \\'?spouse\\'\\n\\nSPARQL query:\\n#output-format:application/sparql-results+json\\nSELECT ?spouse WHERE {\\n  ?person foaf:name \"Tom Hanks\" .\\n  ?person dbpedia-owl:spouse ?spouse .\\n}\\n'\n"
     ]
    },
    {
     "name": "stderr",
     "output_type": "stream",
     "text": [
      "\r 43%|████▎     | 64/150 [01:29<01:56,  1.36s/it]"
     ]
    },
    {
     "name": "stdout",
     "output_type": "stream",
     "text": [
      "\n",
      "error executing SPARQL query: QueryBadFormed: A bad request has been sent to the endpoint: probably the SPARQL query is badly formed. \n",
      "\n",
      "Response:\n",
      "b'Virtuoso 37000 Error SP030: SPARQL compiler, line 4: Undefined namespace prefix in prefix:localpart notation at \\'dbpedia-owl:spouse\\' before \\'?spouse\\'\\n\\nSPARQL query:\\n#output-format:application/sparql-results+json\\nSELECT ?spouse WHERE {\\n  ?person foaf:name \"Tom Hanks\" .\\n  ?person dbpedia-owl:spouse ?spouse .\\n  FILTER (LANG(?spouse) = \"\" || LANGMATCHES(LANG(?spouse), \"en\"))\\n}\\n'\n",
      "\n",
      "syntax error for sample #63\n",
      "\n",
      "error executing SPARQL query: QueryBadFormed: A bad request has been sent to the endpoint: probably the SPARQL query is badly formed. \n",
      "\n",
      "Response:\n",
      "b'Virtuoso 37000 Error SP030: SPARQL compiler, line 4: Undefined namespace prefix in prefix:localpart notation at \\'wd:Q1237\\' before \\'wdt:P403\\'\\n\\nSPARQL query:\\n#output-format:application/sparql-results+json\\nSELECT ?countryLabel\\nWHERE {\\n  wd:Q1237 wdt:P403 ?country.\\n  ?country rdfs:label ?countryLabel.\\n  FILTER(LANG(?countryLabel) = \"en\")\\n}\\n'\n"
     ]
    },
    {
     "name": "stderr",
     "output_type": "stream",
     "text": [
      "\r 43%|████▎     | 65/150 [01:30<01:55,  1.36s/it]"
     ]
    },
    {
     "name": "stdout",
     "output_type": "stream",
     "text": [
      "\n",
      "error executing SPARQL query: QueryBadFormed: A bad request has been sent to the endpoint: probably the SPARQL query is badly formed. \n",
      "\n",
      "Response:\n",
      "b'Virtuoso 37000 Error SP030: SPARQL compiler, line 4: Undefined namespace prefix in prefix:localpart notation at \\'wd:Q1237\\' before \\'wdt:P403\\'\\n\\nSPARQL query:\\n#output-format:application/sparql-results+json\\nSELECT ?countryLabel\\nWHERE {\\n  wd:Q1237 wdt:P403 ?country.\\n  ?country rdfs:label ?countryLabel.\\n  FILTER(LANG(?countryLabel) = \"en\").\\n  SERVICE wikibase:label { bd:serviceParam wikibase:language \"[AUTO_LANGUAGE],en\". }\\n}\\n'\n",
      "\n",
      "syntax error for sample #64\n"
     ]
    },
    {
     "name": "stderr",
     "output_type": "stream",
     "text": [
      " 45%|████▌     | 68/150 [01:34<01:52,  1.38s/it]"
     ]
    },
    {
     "name": "stdout",
     "output_type": "stream",
     "text": [
      "\n",
      "empty predicted answer set for sample #67\n"
     ]
    },
    {
     "name": "stderr",
     "output_type": "stream",
     "text": [
      "\r 46%|████▌     | 69/150 [01:36<01:51,  1.37s/it]"
     ]
    },
    {
     "name": "stdout",
     "output_type": "stream",
     "text": [
      "\n",
      "results dict has more keys than expected for sample #68\n"
     ]
    },
    {
     "name": "stderr",
     "output_type": "stream",
     "text": [
      "\r 47%|████▋     | 70/150 [01:37<01:49,  1.37s/it]"
     ]
    },
    {
     "name": "stdout",
     "output_type": "stream",
     "text": [
      "\n",
      "empty predicted answer set for sample #69\n"
     ]
    },
    {
     "name": "stderr",
     "output_type": "stream",
     "text": [
      "\r 47%|████▋     | 71/150 [01:38<01:47,  1.36s/it]"
     ]
    },
    {
     "name": "stdout",
     "output_type": "stream",
     "text": [
      "\n",
      "empty predicted answer set for sample #70\n"
     ]
    },
    {
     "name": "stderr",
     "output_type": "stream",
     "text": [
      " 49%|████▊     | 73/150 [01:41<01:44,  1.36s/it]"
     ]
    },
    {
     "name": "stdout",
     "output_type": "stream",
     "text": [
      "\n",
      "empty predicted answer set for sample #72\n"
     ]
    },
    {
     "name": "stderr",
     "output_type": "stream",
     "text": [
      "\r 49%|████▉     | 74/150 [01:42<01:43,  1.36s/it]"
     ]
    },
    {
     "name": "stdout",
     "output_type": "stream",
     "text": [
      "\n",
      "results dict has more keys than expected for sample #73\n"
     ]
    },
    {
     "name": "stderr",
     "output_type": "stream",
     "text": [
      " 51%|█████     | 76/150 [01:45<01:40,  1.35s/it]"
     ]
    },
    {
     "name": "stdout",
     "output_type": "stream",
     "text": [
      "\n",
      "empty predicted answer set for sample #75\n"
     ]
    },
    {
     "name": "stderr",
     "output_type": "stream",
     "text": [
      "\r 51%|█████▏    | 77/150 [01:46<01:38,  1.35s/it]"
     ]
    },
    {
     "name": "stdout",
     "output_type": "stream",
     "text": [
      "\n",
      "empty predicted answer set for sample #76\n"
     ]
    },
    {
     "name": "stderr",
     "output_type": "stream",
     "text": [
      "\r 52%|█████▏    | 78/150 [01:48<01:37,  1.35s/it]"
     ]
    },
    {
     "name": "stdout",
     "output_type": "stream",
     "text": [
      "\n",
      "empty predicted answer set for sample #77\n"
     ]
    },
    {
     "name": "stderr",
     "output_type": "stream",
     "text": [
      " 54%|█████▍    | 81/150 [01:52<01:33,  1.35s/it]"
     ]
    },
    {
     "name": "stdout",
     "output_type": "stream",
     "text": [
      "\n",
      "error executing SPARQL query: QueryBadFormed: A bad request has been sent to the endpoint: probably the SPARQL query is badly formed. \n",
      "\n",
      "Response:\n",
      "b'Virtuoso 37000 Error SP030: SPARQL compiler, line 5: Undefined namespace prefix in prefix:localpart notation at \\'wikibase:label\\' before \\'{\\'\\n\\nSPARQL query:\\n#output-format:application/sparql-results+json\\nSELECT ?influencedByLabel\\nWHERE {\\n  dbr:Socrates dbo:influencedBy ?influencedBy.\\n  SERVICE wikibase:label { bd:serviceParam wikibase:language \"[AUTO_LANGUAGE],en\". }\\n}\\nLIMIT 100\\n'\n"
     ]
    },
    {
     "name": "stderr",
     "output_type": "stream",
     "text": [
      "\r 55%|█████▍    | 82/150 [01:53<01:32,  1.35s/it]"
     ]
    },
    {
     "name": "stdout",
     "output_type": "stream",
     "text": [
      "\n",
      "empty predicted answer set for sample #81\n"
     ]
    },
    {
     "name": "stderr",
     "output_type": "stream",
     "text": [
      " 56%|█████▌    | 84/150 [01:56<01:29,  1.36s/it]"
     ]
    },
    {
     "name": "stdout",
     "output_type": "stream",
     "text": [
      "\n",
      "error executing SPARQL query: QueryBadFormed: A bad request has been sent to the endpoint: probably the SPARQL query is badly formed. \n",
      "\n",
      "Response:\n",
      "b'Virtuoso 37000 Error SP030: SPARQL compiler, line 3: Undefined namespace prefix in prefix:localpart notation at \\'dbpedia-owl:birthName\\' before \\'\"Alexandrina Victoria\"\\'\\n\\nSPARQL query:\\n#output-format:application/sparql-results+json\\nSELECT ?parent WHERE {\\n  ?queen dbpedia-owl:birthName \"Alexandrina Victoria\" .\\n  ?queen dbpedia-owl:parent ?parent .\\n}\\n'\n"
     ]
    },
    {
     "name": "stderr",
     "output_type": "stream",
     "text": [
      "\r 57%|█████▋    | 85/150 [01:57<01:28,  1.37s/it]"
     ]
    },
    {
     "name": "stdout",
     "output_type": "stream",
     "text": [
      "\n",
      "error executing SPARQL query: QueryBadFormed: A bad request has been sent to the endpoint: probably the SPARQL query is badly formed. \n",
      "\n",
      "Response:\n",
      "b'Virtuoso 37000 Error SP030: SPARQL compiler, line 3: Undefined namespace prefix in prefix:localpart notation at \\'dbpedia-owl:birthName\\' before \\'\"Victoria\"\\'\\n\\nSPARQL query:\\n#output-format:application/sparql-results+json\\nSELECT ?parent WHERE {\\n  ?queen dbpedia-owl:birthName \"Victoria\" .\\n  ?queen dbpedia-owl:parent ?parent .\\n}\\n'\n",
      "\n",
      "syntax error for sample #84\n"
     ]
    },
    {
     "name": "stderr",
     "output_type": "stream",
     "text": [
      "\r 57%|█████▋    | 86/150 [01:59<01:27,  1.37s/it]"
     ]
    },
    {
     "name": "stdout",
     "output_type": "stream",
     "text": [
      "\n",
      "results are not of type boolean for sample #85\n",
      "\n",
      "error executing SPARQL query: QueryBadFormed: A bad request has been sent to the endpoint: probably the SPARQL query is badly formed. \n",
      "\n",
      "Response:\n",
      "b'Virtuoso 37000 Error SP030: SPARQL compiler, line 4: Undefined namespace prefix in prefix:localpart notation at \\'wd:Q191\\' before \\'wdt:P37\\'\\n\\nSPARQL query:\\n#output-format:application/sparql-results+json\\nSELECT ?languageLabel\\nWHERE {\\n  wd:Q191 wdt:P37 ?language.\\n  ?language rdfs:label ?languageLabel.\\n  FILTER(LANG(?languageLabel) = \"en\")\\n}\\n'\n"
     ]
    },
    {
     "name": "stderr",
     "output_type": "stream",
     "text": [
      "\r 58%|█████▊    | 87/150 [02:00<01:28,  1.41s/it]"
     ]
    },
    {
     "name": "stdout",
     "output_type": "stream",
     "text": [
      "\n",
      "error executing SPARQL query: QueryBadFormed: A bad request has been sent to the endpoint: probably the SPARQL query is badly formed. \n",
      "\n",
      "Response:\n",
      "b'Virtuoso 37000 Error SP030: SPARQL compiler, line 4: Undefined namespace prefix in prefix:localpart notation at \\'wd:Q191\\' before \\'wdt:P37\\'\\n\\nSPARQL query:\\n#output-format:application/sparql-results+json\\nSELECT ?languageLabel\\nWHERE {\\n  wd:Q191 wdt:P37 ?language.\\n  ?language rdfs:label ?languageLabel.\\n  FILTER(LANG(?languageLabel) = \"en\").\\n  SERVICE wikibase:label { bd:serviceParam wikibase:language \"[AUTO_LANGUAGE],en\". }\\n}\\n'\n",
      "\n",
      "syntax error for sample #86\n"
     ]
    },
    {
     "name": "stderr",
     "output_type": "stream",
     "text": [
      "\r 59%|█████▊    | 88/150 [02:02<01:26,  1.40s/it]"
     ]
    },
    {
     "name": "stdout",
     "output_type": "stream",
     "text": [
      "\n",
      "empty predicted answer set for sample #87\n"
     ]
    },
    {
     "name": "stderr",
     "output_type": "stream",
     "text": [
      " 60%|██████    | 90/150 [02:04<01:24,  1.41s/it]"
     ]
    },
    {
     "name": "stdout",
     "output_type": "stream",
     "text": [
      "\n",
      "error executing SPARQL query: QueryBadFormed: A bad request has been sent to the endpoint: probably the SPARQL query is badly formed. \n",
      "\n",
      "Response:\n",
      "b'Virtuoso 37000 Error SP030: SPARQL compiler, line 7: Undefined namespace prefix in prefix:localpart notation at \\'wikibase:label\\' before \\'{\\'\\n\\nSPARQL query:\\n#output-format:application/sparql-results+json\\nSELECT ?fatherLabel WHERE {\\n  ?queen rdf:type dbo:Monarch ;\\n        dbo:birthName \"Elizabeth Alexandra Mary Windsor\"@en ;\\n        dbo:parent ?father .\\n  ?father rdf:type dbo:Person .\\n  SERVICE wikibase:label { bd:serviceParam wikibase:language \"[AUTO_LANGUAGE],en\". }\\n}\\n'\n"
     ]
    },
    {
     "name": "stderr",
     "output_type": "stream",
     "text": [
      "\r 61%|██████    | 91/150 [02:06<01:22,  1.39s/it]"
     ]
    },
    {
     "name": "stdout",
     "output_type": "stream",
     "text": [
      "\n",
      "empty predicted answer set for sample #90\n"
     ]
    },
    {
     "name": "stderr",
     "output_type": "stream",
     "text": [
      "\r 61%|██████▏   | 92/150 [02:07<01:19,  1.38s/it]"
     ]
    },
    {
     "name": "stdout",
     "output_type": "stream",
     "text": [
      "\n",
      "error executing SPARQL query: EndPointInternalError: The endpoint returned the HTTP status code 500. \n",
      "\n",
      "Response:\n",
      "b'Virtuoso 42000 Error SR186:SECURITY: No permission to execute procedure DB.DBA.SPARUL_RUN with user ID 111, group ID 111\\n\\nSPARQL query:\\n#output-format:application/sparql-results+json\\n\\n'\n"
     ]
    },
    {
     "name": "stderr",
     "output_type": "stream",
     "text": [
      "\r 62%|██████▏   | 93/150 [02:09<01:17,  1.37s/it]"
     ]
    },
    {
     "name": "stdout",
     "output_type": "stream",
     "text": [
      "\n",
      "error executing SPARQL query: EndPointInternalError: The endpoint returned the HTTP status code 500. \n",
      "\n",
      "Response:\n",
      "b'Virtuoso 42000 Error SR186:SECURITY: No permission to execute procedure DB.DBA.SPARUL_RUN with user ID 111, group ID 111\\n\\nSPARQL query:\\n#output-format:application/sparql-results+json\\n\\n'\n",
      "\n",
      "syntax error for sample #92\n",
      "\n",
      "error executing SPARQL query: QueryBadFormed: A bad request has been sent to the endpoint: probably the SPARQL query is badly formed. \n",
      "\n",
      "Response:\n",
      "b\"Virtuoso 37000 Error SP030: SPARQL compiler, line 4: Undefined namespace prefix in prefix:localpart notation at 'dbpedia-owl:spouse' before 'dbpedia:Lance_Bass'\\n\\nSPARQL query:\\n#output-format:application/sparql-results+json\\nSELECT ?person\\nWHERE {\\n  ?person dbpedia-owl:spouse dbpedia:Lance_Bass .\\n}\\nLIMIT 100\\n\"\n"
     ]
    },
    {
     "name": "stderr",
     "output_type": "stream",
     "text": [
      "\r 63%|██████▎   | 94/150 [02:10<01:16,  1.36s/it]"
     ]
    },
    {
     "name": "stdout",
     "output_type": "stream",
     "text": [
      "\n",
      "error executing SPARQL query: QueryBadFormed: A bad request has been sent to the endpoint: probably the SPARQL query is badly formed. \n",
      "\n",
      "Response:\n",
      "b'Virtuoso 37000 Error SP030: SPARQL compiler, line 4: Undefined namespace prefix in prefix:localpart notation at \\'dbpedia-owl:spouse\\' before \\'dbpedia:Lance_Bass\\'\\n\\nSPARQL query:\\n#output-format:application/sparql-results+json\\nSELECT ?personLabel\\nWHERE {\\n  ?person dbpedia-owl:spouse dbpedia:Lance_Bass .\\n  SERVICE wikibase:label { bd:serviceParam wikibase:language \"[AUTO_LANGUAGE],en\". }\\n}\\nLIMIT 100\\n'\n",
      "\n",
      "syntax error for sample #93\n"
     ]
    },
    {
     "name": "stderr",
     "output_type": "stream",
     "text": [
      "\r 63%|██████▎   | 95/150 [02:11<01:14,  1.36s/it]"
     ]
    },
    {
     "name": "stdout",
     "output_type": "stream",
     "text": [
      "\n",
      "error executing SPARQL query: QueryBadFormed: A bad request has been sent to the endpoint: probably the SPARQL query is badly formed. \n",
      "\n",
      "Response:\n",
      "b'Virtuoso 37000 Error SP030: SPARQL compiler, line 4: Undefined namespace prefix in prefix:localpart notation at \\'wd:Q843\\' before \\'wdt:P37\\'\\n\\nSPARQL query:\\n#output-format:application/sparql-results+json\\nSELECT ?languageLabel\\nWHERE {\\n  wd:Q843 wdt:P37 ?language.\\n  ?language rdfs:label ?languageLabel.\\n  FILTER(LANG(?languageLabel) = \"en\")\\n}\\n'\n"
     ]
    },
    {
     "name": "stderr",
     "output_type": "stream",
     "text": [
      "\r 64%|██████▍   | 96/150 [02:13<01:13,  1.36s/it]"
     ]
    },
    {
     "name": "stdout",
     "output_type": "stream",
     "text": [
      "\n",
      "error executing SPARQL query: QueryBadFormed: A bad request has been sent to the endpoint: probably the SPARQL query is badly formed. \n",
      "\n",
      "Response:\n",
      "b'Virtuoso 37000 Error SP030: SPARQL compiler, line 4: Undefined namespace prefix in prefix:localpart notation at \\'wd:Q843\\' before \\'wdt:P37\\'\\n\\nSPARQL query:\\n#output-format:application/sparql-results+json\\nSELECT ?languageLabel\\nWHERE {\\n  wd:Q843 wdt:P37 ?language.\\n  ?language rdfs:label ?languageLabel.\\n  FILTER(LANG(?languageLabel) = \"en\").\\n  FILTER(CONTAINS(LCASE(?languageLabel), \"pakistan\"))\\n}\\n'\n",
      "\n",
      "syntax error for sample #95\n"
     ]
    },
    {
     "name": "stderr",
     "output_type": "stream",
     "text": [
      "\r 65%|██████▍   | 97/150 [02:14<01:11,  1.36s/it]"
     ]
    },
    {
     "name": "stdout",
     "output_type": "stream",
     "text": [
      "\n",
      "results dict has more keys than expected for sample #96\n",
      "\n",
      "error executing SPARQL query: QueryBadFormed: A bad request has been sent to the endpoint: probably the SPARQL query is badly formed. \n",
      "\n",
      "Response:\n",
      "b\"Virtuoso 37000 Error SP030: SPARQL compiler, line 4: Undefined namespace prefix in prefix:localpart notation at 'dbpedia-owl:mission' before '<http://dbpedia.org/resource/Apollo_11>'\\n\\nSPARQL query:\\n#output-format:application/sparql-results+json\\nSELECT ?astronaut\\nWHERE {\\n  ?astronaut dbpedia-owl:mission <http://dbpedia.org/resource/Apollo_11>.\\n}\\n\"\n"
     ]
    },
    {
     "name": "stderr",
     "output_type": "stream",
     "text": [
      "\r 65%|██████▌   | 98/150 [02:15<01:10,  1.36s/it]"
     ]
    },
    {
     "name": "stdout",
     "output_type": "stream",
     "text": [
      "\n",
      "error executing SPARQL query: QueryBadFormed: A bad request has been sent to the endpoint: probably the SPARQL query is badly formed. \n",
      "\n",
      "Response:\n",
      "b\"Virtuoso 37000 Error SP030: SPARQL compiler, line 4: Undefined namespace prefix in prefix:localpart notation at 'dbpedia-owl:crew' before '?crew'\\n\\nSPARQL query:\\n#output-format:application/sparql-results+json\\nSELECT ?astronaut\\nWHERE {\\n  <http://dbpedia.org/resource/Apollo_11> dbpedia-owl:crew ?crew.\\n  ?crew dbpedia-owl:astronaut ?astronaut.\\n}\\n\"\n",
      "\n",
      "syntax error for sample #97\n"
     ]
    },
    {
     "name": "stderr",
     "output_type": "stream",
     "text": [
      " 67%|██████▋   | 101/150 [02:19<01:06,  1.36s/it]"
     ]
    },
    {
     "name": "stdout",
     "output_type": "stream",
     "text": [
      "\n",
      "empty predicted answer set for sample #100\n"
     ]
    },
    {
     "name": "stderr",
     "output_type": "stream",
     "text": [
      "\r 68%|██████▊   | 102/150 [02:21<01:04,  1.35s/it]"
     ]
    },
    {
     "name": "stdout",
     "output_type": "stream",
     "text": [
      "\n",
      "empty predicted answer set for sample #101\n"
     ]
    },
    {
     "name": "stderr",
     "output_type": "stream",
     "text": [
      "\r 69%|██████▊   | 103/150 [02:22<01:03,  1.36s/it]"
     ]
    },
    {
     "name": "stdout",
     "output_type": "stream",
     "text": [
      "\n",
      "error executing SPARQL query: QueryBadFormed: A bad request has been sent to the endpoint: probably the SPARQL query is badly formed. \n",
      "\n",
      "Response:\n",
      "b\"Virtuoso 37000 Error SP030: SPARQL compiler, line 4: Undefined namespace prefix in prefix:localpart notation at 'dbpedia-owl:Noble' before ';'\\n\\nSPARQL query:\\n#output-format:application/sparql-results+json\\nSELECT ?daughter ?birthPlace ?deathPlace\\nWHERE {\\n  ?daughter rdf:type dbpedia-owl:Noble ;\\n            dbpedia-owl:parent ?parent ;\\n            dbpedia-owl:birthPlace ?birthPlace ;\\n            dbpedia-owl:deathPlace ?deathPlace .\\n  ?parent rdf:type dbpedia-owl:Earl ;\\n          dbpedia-owl:country dbpedia:United_Kingdom .\\n  FILTER(?birthPlace = ?deathPlace)\\n}\\nLIMIT 100\\n\"\n"
     ]
    },
    {
     "name": "stderr",
     "output_type": "stream",
     "text": [
      "\r 69%|██████▉   | 104/150 [02:23<01:02,  1.36s/it]"
     ]
    },
    {
     "name": "stdout",
     "output_type": "stream",
     "text": [
      "\n",
      "error executing SPARQL query: QueryBadFormed: A bad request has been sent to the endpoint: probably the SPARQL query is badly formed. \n",
      "\n",
      "Response:\n",
      "b\"Virtuoso 37000 Error SP030: SPARQL compiler, line 4: Undefined namespace prefix in prefix:localpart notation at 'dbpedia-owl:Noble' before ';'\\n\\nSPARQL query:\\n#output-format:application/sparql-results+json\\nSELECT ?daughter ?birthPlace ?deathPlace\\nWHERE {\\n  ?daughter rdf:type dbpedia-owl:Noble ;\\n            dbpedia-owl:parent ?parent ;\\n            dbpedia-owl:birthPlace ?birthPlace ;\\n            dbpedia-owl:deathPlace ?deathPlace .\\n  ?parent rdf:type dbpedia-owl:Earl ;\\n          dbpedia-owl:nationality dbpedia:United_Kingdom .\\n  FILTER(?birthPlace = ?deathPlace)\\n}\\nLIMIT 100\\n\"\n",
      "\n",
      "syntax error for sample #103\n"
     ]
    },
    {
     "name": "stderr",
     "output_type": "stream",
     "text": [
      " 71%|███████   | 106/150 [02:27<01:05,  1.48s/it]"
     ]
    },
    {
     "name": "stdout",
     "output_type": "stream",
     "text": [
      "\n",
      "predicted answer set was supposed to be empty for sample #105\n"
     ]
    },
    {
     "name": "stderr",
     "output_type": "stream",
     "text": [
      "\r 71%|███████▏  | 107/150 [02:28<01:02,  1.44s/it]"
     ]
    },
    {
     "name": "stdout",
     "output_type": "stream",
     "text": [
      "\n",
      "error executing SPARQL query: EndPointInternalError: The endpoint returned the HTTP status code 500. \n",
      "\n",
      "Response:\n",
      "b'Virtuoso 42000 Error SR186:SECURITY: No permission to execute procedure DB.DBA.SPARUL_RUN with user ID 111, group ID 111\\n\\nSPARQL query:\\n#output-format:application/sparql-results+json\\n\\n'\n"
     ]
    },
    {
     "name": "stderr",
     "output_type": "stream",
     "text": [
      "\r 72%|███████▏  | 108/150 [02:29<00:59,  1.42s/it]"
     ]
    },
    {
     "name": "stdout",
     "output_type": "stream",
     "text": [
      "\n",
      "error executing SPARQL query: EndPointInternalError: The endpoint returned the HTTP status code 500. \n",
      "\n",
      "Response:\n",
      "b'Virtuoso 42000 Error SR186:SECURITY: No permission to execute procedure DB.DBA.SPARUL_RUN with user ID 111, group ID 111\\n\\nSPARQL query:\\n#output-format:application/sparql-results+json\\n\\n'\n",
      "\n",
      "syntax error for sample #107\n",
      "\n",
      "error executing SPARQL query: EndPointInternalError: The endpoint returned the HTTP status code 500. \n",
      "\n",
      "Response:\n",
      "b'Virtuoso 42000 Error SR186:SECURITY: No permission to execute procedure DB.DBA.SPARUL_RUN with user ID 111, group ID 111\\n\\nSPARQL query:\\n#output-format:application/sparql-results+json\\n\\n'\n"
     ]
    },
    {
     "name": "stderr",
     "output_type": "stream",
     "text": [
      "\r 73%|███████▎  | 109/150 [02:31<00:59,  1.45s/it]"
     ]
    },
    {
     "name": "stdout",
     "output_type": "stream",
     "text": [
      "\n",
      "error executing SPARQL query: EndPointInternalError: The endpoint returned the HTTP status code 500. \n",
      "\n",
      "Response:\n",
      "b'Virtuoso 42000 Error SR186:SECURITY: No permission to execute procedure DB.DBA.SPARUL_RUN with user ID 111, group ID 111\\n\\nSPARQL query:\\n#output-format:application/sparql-results+json\\n\\n'\n",
      "\n",
      "syntax error for sample #108\n"
     ]
    },
    {
     "name": "stderr",
     "output_type": "stream",
     "text": [
      "\r 73%|███████▎  | 110/150 [02:32<00:58,  1.46s/it]"
     ]
    },
    {
     "name": "stdout",
     "output_type": "stream",
     "text": [
      "\n",
      "empty predicted answer set for sample #109\n"
     ]
    },
    {
     "name": "stderr",
     "output_type": "stream",
     "text": [
      "\r 74%|███████▍  | 111/150 [02:34<00:55,  1.43s/it]"
     ]
    },
    {
     "name": "stdout",
     "output_type": "stream",
     "text": [
      "\n",
      "error executing SPARQL query: EndPointInternalError: The endpoint returned the HTTP status code 500. \n",
      "\n",
      "Response:\n",
      "b'Virtuoso 42000 Error SQ070:SECURITY: Must have SELECT privileges on view DB.DBA.SPARQL_SINV_2 for group ID 111 (SPARQL), user ID 111 (SPARQL)\\n\\nSPARQL query:\\n#output-format:application/sparql-results+json\\nSELECT ?placeLabel WHERE {\\n  <http://dbpedia.org/resource/Abraham_Lincoln> <http://dbpedia.org/ontology/deathPlace> ?place .\\n  SERVICE <http://dbpedia.org/sparql> {\\n    ?place rdfs:label ?placeLabel .\\n    FILTER (lang(?placeLabel) = \"en\")\\n  }\\n}\\n'\n"
     ]
    },
    {
     "name": "stderr",
     "output_type": "stream",
     "text": [
      " 75%|███████▌  | 113/150 [02:36<00:51,  1.40s/it]"
     ]
    },
    {
     "name": "stdout",
     "output_type": "stream",
     "text": [
      "\n",
      "error executing SPARQL query: QueryBadFormed: A bad request has been sent to the endpoint: probably the SPARQL query is badly formed. \n",
      "\n",
      "Response:\n",
      "b'Virtuoso 37000 Error SP030: SPARQL compiler, line 6: Undefined namespace prefix in prefix:localpart notation at \\'wikibase:label\\' before \\'{\\'\\n\\nSPARQL query:\\n#output-format:application/sparql-results+json\\nSELECT ?cityLabel WHERE {\\n  ?airline dbo:wikiPageID ?id ;\\n           dbo:headquarter ?city .\\n  FILTER (STR(?id) = \"13947\")\\n  SERVICE wikibase:label { bd:serviceParam wikibase:language \"[AUTO_LANGUAGE],en\". }\\n}\\n'\n",
      "\n",
      "empty predicted answer set for sample #112\n"
     ]
    },
    {
     "name": "stderr",
     "output_type": "stream",
     "text": [
      " 77%|███████▋  | 115/150 [02:39<00:48,  1.37s/it]"
     ]
    },
    {
     "name": "stdout",
     "output_type": "stream",
     "text": [
      "\n",
      "empty predicted answer set for sample #114\n"
     ]
    },
    {
     "name": "stderr",
     "output_type": "stream",
     "text": [
      "\r 77%|███████▋  | 116/150 [02:40<00:46,  1.37s/it]"
     ]
    },
    {
     "name": "stdout",
     "output_type": "stream",
     "text": [
      "\n",
      "error executing SPARQL query: QueryBadFormed: A bad request has been sent to the endpoint: probably the SPARQL query is badly formed. \n",
      "\n",
      "Response:\n",
      "b'Virtuoso 37000 Error SP030: SPARQL compiler, line 6: Undefined namespace prefix in prefix:localpart notation at \\'wikibase:label\\' before \\'{\\'\\n\\nSPARQL query:\\n#output-format:application/sparql-results+json\\nSELECT ?animalLabel\\nWHERE {\\n  ?animal rdf:type dbo:Species ;\\n          dbo:conservationStatus dbr:Critically_endangered .\\n  SERVICE wikibase:label { bd:serviceParam wikibase:language \"[AUTO_LANGUAGE],en\". }\\n}\\nLIMIT 100\\n'\n",
      "\n",
      "empty predicted answer set for sample #115\n"
     ]
    },
    {
     "name": "stderr",
     "output_type": "stream",
     "text": [
      "\r 78%|███████▊  | 117/150 [02:42<00:45,  1.37s/it]"
     ]
    },
    {
     "name": "stdout",
     "output_type": "stream",
     "text": [
      "\n",
      "empty predicted answer set for sample #116\n"
     ]
    },
    {
     "name": "stderr",
     "output_type": "stream",
     "text": [
      " 79%|███████▉  | 119/150 [02:45<00:42,  1.36s/it]"
     ]
    },
    {
     "name": "stdout",
     "output_type": "stream",
     "text": [
      "\n",
      "results are not of type boolean for sample #118\n",
      "\n",
      "error executing SPARQL query: QueryBadFormed: A bad request has been sent to the endpoint: probably the SPARQL query is badly formed. \n",
      "\n",
      "Response:\n",
      "b'Virtuoso 37000 Error SP030: SPARQL compiler, line 4: Undefined namespace prefix in prefix:localpart notation at \\'wdt:P31\\' before \\'wd:Q35657\\'\\n\\nSPARQL query:\\n#output-format:application/sparql-results+json\\nSELECT ?stateLabel\\nWHERE {\\n  ?state wdt:P31 wd:Q35657;\\n         wdt:P2586 \"MN\".\\n  SERVICE wikibase:label { bd:serviceParam wikibase:language \"[AUTO_LANGUAGE],en\". }\\n}\\nLIMIT 100\\n'\n"
     ]
    },
    {
     "name": "stderr",
     "output_type": "stream",
     "text": [
      "\r 80%|████████  | 120/150 [02:46<00:40,  1.36s/it]"
     ]
    },
    {
     "name": "stdout",
     "output_type": "stream",
     "text": [
      "\n",
      "error executing SPARQL query: QueryBadFormed: A bad request has been sent to the endpoint: probably the SPARQL query is badly formed. \n",
      "\n",
      "Response:\n",
      "b'Virtuoso 37000 Error SP030: SPARQL compiler, line 4: Undefined namespace prefix in prefix:localpart notation at \\'wdt:P31\\' before \\'wd:Q35657\\'\\n\\nSPARQL query:\\n#output-format:application/sparql-results+json\\nSELECT ?stateLabel\\nWHERE {\\n  ?state wdt:P31 wd:Q35657;\\n         wdt:P2586 \"MN\" .\\n  ?state rdfs:label ?stateLabel .\\n  FILTER(LANG(?stateLabel) = \"en\")\\n}\\nLIMIT 100\\n'\n",
      "\n",
      "syntax error for sample #119\n"
     ]
    },
    {
     "name": "stderr",
     "output_type": "stream",
     "text": [
      " 81%|████████▏ | 122/150 [02:49<00:38,  1.37s/it]"
     ]
    },
    {
     "name": "stdout",
     "output_type": "stream",
     "text": [
      "\n",
      "empty predicted answer set for sample #121\n"
     ]
    },
    {
     "name": "stderr",
     "output_type": "stream",
     "text": [
      "\r 82%|████████▏ | 123/150 [02:50<00:37,  1.37s/it]"
     ]
    },
    {
     "name": "stdout",
     "output_type": "stream",
     "text": [
      "\n",
      "error executing SPARQL query: EndPointInternalError: The endpoint returned the HTTP status code 500. \n",
      "\n",
      "Response:\n",
      "b'Virtuoso 42000 Error SQ070:SECURITY: Must have SELECT privileges on view DB.DBA.SPARQL_SINV_2 for group ID 111 (SPARQL), user ID 111 (SPARQL)\\n\\nSPARQL query:\\n#output-format:application/sparql-results+json\\nSELECT ?governorLabel\\nWHERE {\\n  ?governor a <http://dbpedia.org/ontology/Governor> ;\\n            <http://dbpedia.org/ontology/office> <http://dbpedia.org/resource/Governor_of_Texas> .\\n  SERVICE <http://dbpedia.org/sparql> {\\n    ?governor rdfs:label ?governorLabel .\\n    FILTER (lang(?governorLabel) = \"en\")\\n  }\\n}\\nLIMIT 100\\n'\n",
      "\n",
      "empty predicted answer set for sample #122\n"
     ]
    },
    {
     "name": "stderr",
     "output_type": "stream",
     "text": [
      "\r 83%|████████▎ | 124/150 [02:51<00:35,  1.36s/it]"
     ]
    },
    {
     "name": "stdout",
     "output_type": "stream",
     "text": [
      "\n",
      "error executing SPARQL query: QueryBadFormed: A bad request has been sent to the endpoint: probably the SPARQL query is badly formed. \n",
      "\n",
      "Response:\n",
      "b'Virtuoso 37000 Error SP030: SPARQL compiler, line 4: Undefined namespace prefix in prefix:localpart notation at \\'dbpedia-owl:year\\' before \\'1836\\'\\n\\nSPARQL query:\\n#output-format:application/sparql-results+json\\nSELECT ?battleName\\nWHERE {\\n  ?battle dbpedia-owl:year 1836 ;\\n          dbpedia-owl:place dbpedia:San_Antonio .\\n  ?battle rdfs:label ?battleName .\\n  FILTER(LANG(?battleName) = \"\" || LANGMATCHES(LANG(?battleName), \"en\"))\\n}\\nLIMIT 100\\n'\n"
     ]
    },
    {
     "name": "stderr",
     "output_type": "stream",
     "text": [
      "\r 83%|████████▎ | 125/150 [02:53<00:34,  1.37s/it]"
     ]
    },
    {
     "name": "stdout",
     "output_type": "stream",
     "text": [
      "\n",
      "error executing SPARQL query: QueryBadFormed: A bad request has been sent to the endpoint: probably the SPARQL query is badly formed. \n",
      "\n",
      "Response:\n",
      "b'Virtuoso 37000 Error SP030: SPARQL compiler, line 4: Undefined namespace prefix in prefix:localpart notation at \\'dbpedia-owl:year\\' before \\'1836\\'\\n\\nSPARQL query:\\n#output-format:application/sparql-results+json\\nSELECT ?battleName\\nWHERE {\\n  ?battle dbpedia-owl:year 1836 ;\\n          dbpedia-owl:place dbpedia:San_Antonio .\\n  ?battle rdfs:label ?battleName .\\n  FILTER(LANG(?battleName) = \"\" || LANGMATCHES(LANG(?battleName), \"en\"))\\n}\\nLIMIT 100\\n'\n",
      "\n",
      "syntax error for sample #124\n"
     ]
    },
    {
     "name": "stderr",
     "output_type": "stream",
     "text": [
      " 85%|████████▍ | 127/150 [02:55<00:31,  1.36s/it]"
     ]
    },
    {
     "name": "stdout",
     "output_type": "stream",
     "text": [
      "\n",
      "empty predicted answer set for sample #126\n",
      "\n",
      "error executing SPARQL query: QueryBadFormed: A bad request has been sent to the endpoint: probably the SPARQL query is badly formed. \n",
      "\n",
      "Response:\n",
      "b'Virtuoso 37000 Error SP030: SPARQL compiler, line 4: Undefined namespace prefix in prefix:localpart notation at \\'wdt:P31\\' before \\'wd:Q7075\\'\\n\\nSPARQL query:\\n#output-format:application/sparql-results+json\\nSELECT ?library ?libraryLabel ?established\\nWHERE {\\n  ?library wdt:P31 wd:Q7075;  # instance of library\\n           wdt:P571 ?established.  # establishment date\\n  FILTER(YEAR(?established) < 1400)\\n  SERVICE wikibase:label { bd:serviceParam wikibase:language \"[AUTO_LANGUAGE],en\". }\\n}\\nLIMIT 100\\n'\n"
     ]
    },
    {
     "name": "stderr",
     "output_type": "stream",
     "text": [
      "\r 85%|████████▌ | 128/150 [02:57<00:30,  1.36s/it]"
     ]
    },
    {
     "name": "stdout",
     "output_type": "stream",
     "text": [
      "\n",
      "error executing SPARQL query: QueryBadFormed: A bad request has been sent to the endpoint: probably the SPARQL query is badly formed. \n",
      "\n",
      "Response:\n",
      "b'Virtuoso 37000 Error SP030: SPARQL compiler, line 4: Undefined namespace prefix in prefix:localpart notation at \\'wdt:P31\\' before \\'wd:Q7075\\'\\n\\nSPARQL query:\\n#output-format:application/sparql-results+json\\nSELECT ?library ?libraryLabel ?established\\nWHERE {\\n  ?library wdt:P31 wd:Q7075;  # instance of library\\n           wdt:P571 ?established.  # establishment date\\n  FILTER(YEAR(?established) < 1400)\\n  SERVICE wikibase:label { bd:serviceParam wikibase:language \"[AUTO_LANGUAGE],en\". }\\n}\\n'\n",
      "\n",
      "syntax error for sample #127\n"
     ]
    },
    {
     "name": "stderr",
     "output_type": "stream",
     "text": [
      "\r 86%|████████▌ | 129/150 [02:58<00:28,  1.36s/it]"
     ]
    },
    {
     "name": "stdout",
     "output_type": "stream",
     "text": [
      "\n",
      "empty predicted answer set for sample #128\n"
     ]
    },
    {
     "name": "stderr",
     "output_type": "stream",
     "text": [
      "\r 87%|████████▋ | 130/150 [03:00<00:27,  1.36s/it]"
     ]
    },
    {
     "name": "stdout",
     "output_type": "stream",
     "text": [
      "\n",
      "error executing SPARQL query: QueryBadFormed: A bad request has been sent to the endpoint: probably the SPARQL query is badly formed. \n",
      "\n",
      "Response:\n",
      "b'Virtuoso 37000 Error SP030: SPARQL compiler, line 3: Undefined namespace prefix in prefix:localpart notation at \\'wdt:P195\\' before \\'wd:Q160236\\'\\n\\nSPARQL query:\\n#output-format:application/sparql-results+json\\nSELECT ?museumLabel WHERE {\\n  ?museum wdt:P195 wd:Q160236 .\\n  ?museum wdt:P528 wd:Q47174 .\\n  SERVICE wikibase:label { bd:serviceParam wikibase:language \"[AUTO_LANGUAGE],en\". }\\n}\\n'\n",
      "\n",
      "empty predicted answer set for sample #129\n"
     ]
    },
    {
     "name": "stderr",
     "output_type": "stream",
     "text": [
      "\r 87%|████████▋ | 131/150 [03:01<00:26,  1.39s/it]"
     ]
    },
    {
     "name": "stdout",
     "output_type": "stream",
     "text": [
      "\n",
      "empty predicted answer set for sample #130\n",
      "\n",
      "error executing SPARQL query: QueryBadFormed: A bad request has been sent to the endpoint: probably the SPARQL query is badly formed. \n",
      "\n",
      "Response:\n",
      "b\"Virtuoso 37000 Error SP030: SPARQL compiler, line 4: Undefined namespace prefix in prefix:localpart notation at 'dbpedia:John_F._Kennedy' before '.'\\n\\nSPARQL query:\\n#output-format:application/sparql-results+json\\nSELECT ?president\\nWHERE {\\n  ?president dbp:succeededBy dbpedia:John_F._Kennedy .\\n}\\nLIMIT 100\\n\"\n"
     ]
    },
    {
     "name": "stderr",
     "output_type": "stream",
     "text": [
      "\r 88%|████████▊ | 132/150 [03:03<00:25,  1.43s/it]"
     ]
    },
    {
     "name": "stdout",
     "output_type": "stream",
     "text": [
      "\n",
      "error executing SPARQL query: QueryBadFormed: A bad request has been sent to the endpoint: probably the SPARQL query is badly formed. \n",
      "\n",
      "Response:\n",
      "b\"Virtuoso 37000 Error SP030: SPARQL compiler, line 4: Undefined namespace prefix in prefix:localpart notation at 'dbpedia:John_F._Kennedy' before 'dbp:succeededBy'\\n\\nSPARQL query:\\n#output-format:application/sparql-results+json\\nSELECT ?president\\nWHERE {\\n  dbpedia:John_F._Kennedy dbp:succeededBy ?president .\\n}\\nLIMIT 100\\n\"\n",
      "\n",
      "syntax error for sample #131\n",
      "\n",
      "error executing SPARQL query: EndPointInternalError: The endpoint returned the HTTP status code 500. \n",
      "\n",
      "Response:\n",
      "b'Virtuoso 42000 Error SR186:SECURITY: No permission to execute procedure DB.DBA.SPARUL_RUN with user ID 111, group ID 111\\n\\nSPARQL query:\\n#output-format:application/sparql-results+json\\n\\n'\n"
     ]
    },
    {
     "name": "stderr",
     "output_type": "stream",
     "text": [
      "\r 89%|████████▊ | 133/150 [03:04<00:24,  1.43s/it]"
     ]
    },
    {
     "name": "stdout",
     "output_type": "stream",
     "text": [
      "\n",
      "error executing SPARQL query: EndPointInternalError: The endpoint returned the HTTP status code 500. \n",
      "\n",
      "Response:\n",
      "b'Virtuoso 42000 Error SR186:SECURITY: No permission to execute procedure DB.DBA.SPARUL_RUN with user ID 111, group ID 111\\n\\nSPARQL query:\\n#output-format:application/sparql-results+json\\n\\n'\n",
      "\n",
      "syntax error for sample #132\n"
     ]
    },
    {
     "name": "stderr",
     "output_type": "stream",
     "text": [
      "\r 89%|████████▉ | 134/150 [03:05<00:22,  1.41s/it]"
     ]
    },
    {
     "name": "stdout",
     "output_type": "stream",
     "text": [
      "\n",
      "empty predicted answer set for sample #133\n"
     ]
    },
    {
     "name": "stderr",
     "output_type": "stream",
     "text": [
      "\r 90%|█████████ | 135/150 [03:07<00:20,  1.39s/it]"
     ]
    },
    {
     "name": "stdout",
     "output_type": "stream",
     "text": [
      "\n",
      "empty predicted answer set for sample #134\n"
     ]
    },
    {
     "name": "stderr",
     "output_type": "stream",
     "text": [
      "\r 91%|█████████ | 136/150 [03:08<00:19,  1.37s/it]"
     ]
    },
    {
     "name": "stdout",
     "output_type": "stream",
     "text": [
      "\n",
      "error executing SPARQL query: EndPointInternalError: The endpoint returned the HTTP status code 500. \n",
      "\n",
      "Response:\n",
      "b'Virtuoso 42000 Error SR186:SECURITY: No permission to execute procedure DB.DBA.SPARUL_RUN with user ID 111, group ID 111\\n\\nSPARQL query:\\n#output-format:application/sparql-results+json\\n\\n'\n"
     ]
    },
    {
     "name": "stderr",
     "output_type": "stream",
     "text": [
      "\r 91%|█████████▏| 137/150 [03:09<00:17,  1.38s/it]"
     ]
    },
    {
     "name": "stdout",
     "output_type": "stream",
     "text": [
      "\n",
      "error executing SPARQL query: EndPointInternalError: The endpoint returned the HTTP status code 500. \n",
      "\n",
      "Response:\n",
      "b'Virtuoso 42000 Error SR186:SECURITY: No permission to execute procedure DB.DBA.SPARUL_RUN with user ID 111, group ID 111\\n\\nSPARQL query:\\n#output-format:application/sparql-results+json\\n\\n'\n",
      "\n",
      "syntax error for sample #136\n"
     ]
    },
    {
     "name": "stderr",
     "output_type": "stream",
     "text": [
      "\r 92%|█████████▏| 138/150 [03:11<00:16,  1.37s/it]"
     ]
    },
    {
     "name": "stdout",
     "output_type": "stream",
     "text": [
      "\n",
      "empty predicted answer set for sample #137\n"
     ]
    },
    {
     "name": "stderr",
     "output_type": "stream",
     "text": [
      "\r 93%|█████████▎| 139/150 [03:12<00:15,  1.37s/it]"
     ]
    },
    {
     "name": "stdout",
     "output_type": "stream",
     "text": [
      "\n",
      "empty predicted answer set for sample #138\n"
     ]
    },
    {
     "name": "stderr",
     "output_type": "stream",
     "text": [
      "\r 93%|█████████▎| 140/150 [03:13<00:13,  1.37s/it]"
     ]
    },
    {
     "name": "stdout",
     "output_type": "stream",
     "text": [
      "\n",
      "empty predicted answer set for sample #139\n"
     ]
    },
    {
     "name": "stderr",
     "output_type": "stream",
     "text": [
      "\r 94%|█████████▍| 141/150 [03:15<00:12,  1.36s/it]"
     ]
    },
    {
     "name": "stdout",
     "output_type": "stream",
     "text": [
      "\n",
      "results dict has more keys than expected for sample #140\n"
     ]
    },
    {
     "name": "stderr",
     "output_type": "stream",
     "text": [
      " 95%|█████████▌| 143/150 [03:18<00:09,  1.36s/it]"
     ]
    },
    {
     "name": "stdout",
     "output_type": "stream",
     "text": [
      "\n",
      "empty predicted answer set for sample #142\n"
     ]
    },
    {
     "name": "stderr",
     "output_type": "stream",
     "text": [
      "\r 96%|█████████▌| 144/150 [03:19<00:08,  1.36s/it]"
     ]
    },
    {
     "name": "stdout",
     "output_type": "stream",
     "text": [
      "\n",
      "empty predicted answer set for sample #143\n"
     ]
    },
    {
     "name": "stderr",
     "output_type": "stream",
     "text": [
      " 97%|█████████▋| 146/150 [03:22<00:05,  1.36s/it]"
     ]
    },
    {
     "name": "stdout",
     "output_type": "stream",
     "text": [
      "\n",
      "empty predicted answer set for sample #145\n"
     ]
    },
    {
     "name": "stderr",
     "output_type": "stream",
     "text": [
      "\r 98%|█████████▊| 147/150 [03:23<00:04,  1.36s/it]"
     ]
    },
    {
     "name": "stdout",
     "output_type": "stream",
     "text": [
      "\n",
      "results dict has more keys than expected for sample #146\n"
     ]
    },
    {
     "name": "stderr",
     "output_type": "stream",
     "text": [
      "\r 99%|█████████▊| 148/150 [03:24<00:02,  1.36s/it]"
     ]
    },
    {
     "name": "stdout",
     "output_type": "stream",
     "text": [
      "\n",
      "empty predicted answer set for sample #147\n"
     ]
    },
    {
     "name": "stderr",
     "output_type": "stream",
     "text": [
      "100%|██████████| 150/150 [03:27<00:00,  1.38s/it]"
     ]
    },
    {
     "name": "stdout",
     "output_type": "stream",
     "text": [
      "\n",
      "empty predicted answer set for sample #149\n",
      "\n",
      "acc: 0.3352612064109059\n",
      "rec: 0.3473701444947655\n",
      "pre: 0.3352612064109059\n",
      "f1: 0.32919990916986175\n"
     ]
    },
    {
     "name": "stderr",
     "output_type": "stream",
     "text": [
      "\n"
     ]
    }
   ],
   "source": [
    "import requests\n",
    "import json\n",
    "from SPARQLWrapper import SPARQLWrapper, JSON\n",
    "from copy import deepcopy\n",
    "dbpedia_endpoint = \"http://dbpedia.org/sparql\"\n",
    "\n",
    "def execute_sparql_query(query):\n",
    "    sparql = SPARQLWrapper(dbpedia_endpoint)\n",
    "    sparql.setQuery(query)\n",
    "    sparql.setReturnFormat(JSON)\n",
    "\n",
    "    try:\n",
    "        results = sparql.queryAndConvert()\n",
    "        return results\n",
    "    except Exception as e:\n",
    "        print(f\"\\nerror executing SPARQL query: {e}\")\n",
    "        return None\n",
    "\n",
    "def process_text(txt):\n",
    "    return txt.strip().lower().replace(':','').replace('.','').replace('/','').replace('_','')\n",
    "\n",
    "def eval(gold, pred, boolean=False):\n",
    "    TP, FP, FN = 0, 0, 0\n",
    "    for item in pred:\n",
    "        new_item = process_text(item) if not boolean else item\n",
    "        if new_item in gold:\n",
    "            TP += 1\n",
    "        else:\n",
    "            FP += 1\n",
    "    pred = list(map(lambda x: process_text(x), pred)) if not boolean else pred\n",
    "    for item in gold:\n",
    "        if item not in pred:\n",
    "            FN += 1\n",
    "    acc = TP / len(pred)\n",
    "    recall = TP / (TP + FN)\n",
    "    precision = TP / (TP + FP)\n",
    "    f1 = ((2 * (precision * recall)) / (precision + recall)) if (precision + recall != 0) else 0\n",
    "    rec, pre = recall, precision\n",
    "    return acc, rec, pre, f1\n",
    "\n",
    "queries = []\n",
    "with open('/content/gpt-3.5-turbo_qald-9-plus.json', 'r') as f:\n",
    "  data = json.load(f)\n",
    "  queries = [d['pred_sparql'] for d in data]\n",
    "  queries_2 = [d['pred_sparql_2'] for d in data]\n",
    "  ids = [d['id'] for d in data]\n",
    "  gold_ans = [d['gold_answers'] for d in data]\n",
    "  for j in range(len(gold_ans)):\n",
    "      if len(list(gold_ans[j].keys())) == 0:\n",
    "          ans = []\n",
    "      else:\n",
    "          assert len(list(gold_ans[j].keys())) == 1\n",
    "          gold_ans[j] = deepcopy(next(iter(gold_ans[j].values())))\n",
    "\n",
    "total_acc, total_rec, total_pre, total_f1 = 0, 0, 0, 0\n",
    "for i in trange(len(queries)):\n",
    "    query = queries[i]\n",
    "    query_2 = queries_2[i]\n",
    "    pred_answers = {}\n",
    "    pred_answers_2 = {}\n",
    "    results = execute_sparql_query(query)\n",
    "    results_2 = execute_sparql_query(query_2)\n",
    "    if (type(gold_ans[i]) != bool and len(gold_ans[i]) == 0) and (not results): # if results == None -> syntax error\n",
    "        print(f'\\nsyntax error for sample #{ids[i]}')\n",
    "        total_acc += 1\n",
    "        total_rec += 1\n",
    "        total_pre += 1\n",
    "        total_f1 += 1\n",
    "        continue\n",
    "    elif type(gold_ans[i]) != bool and (len(gold_ans[i]) > 0) and (not results) and (not results_2): # if results == None -> syntax error\n",
    "        print(f'\\nsyntax error for sample #{ids[i]}')\n",
    "        continue\n",
    "    elif type(gold_ans[i]) == bool and (not results) and (not results_2):\n",
    "        print(f'\\nsyntax error for sample #{ids[i]}')\n",
    "        continue\n",
    "    use_pred_ans_2 = None\n",
    "    if (not results) and (results_2):\n",
    "        use_pred_ans_2 = True\n",
    "    elif (results) and (not results_2):\n",
    "        use_pred_ans_2 = False\n",
    "    if (use_pred_ans_2 != True) and 'boolean' in results.keys():\n",
    "        acc, rec, pre, f1 = eval([gold_ans[i]], [results['boolean']], boolean=True)\n",
    "        acc_2, rec_2, pre_2, f1_2 = 0, 0, 0, 0\n",
    "        if (use_pred_ans_2 != False) and 'boolean' in results_2.keys():\n",
    "            acc_2, rec_2, pre_2, f1_2 = eval([gold_ans[i]], [results_2['boolean']], boolean=True)\n",
    "        total_acc += max(acc, acc_2)\n",
    "        total_rec += max(rec, rec_2)\n",
    "        total_pre += max(pre, pre_2)\n",
    "        total_f1 += max(f1, f1_2)\n",
    "        continue\n",
    "    elif (use_pred_ans_2 != False) and 'boolean' in results_2.keys():\n",
    "        acc_2, rec_2, pre_2, f1_2 = eval([gold_ans[i]], [results_2['boolean']], boolean=True)\n",
    "        total_acc += acc_2\n",
    "        total_rec += rec_2\n",
    "        total_pre += pre_2\n",
    "        total_f1 += f1_2\n",
    "        continue\n",
    "    else:\n",
    "        if (use_pred_ans_2 != True):\n",
    "            for result in results[\"results\"][\"bindings\"]:\n",
    "                for var_name, var_data in result.items():\n",
    "                    var_value = var_data[\"value\"]\n",
    "                    if var_name in pred_answers.keys():\n",
    "                        pred_answers[var_name].append(var_value)\n",
    "                    else:\n",
    "                        pred_answers[var_name] = [var_value]\n",
    "        if (use_pred_ans_2 != False):\n",
    "            for result in results_2[\"results\"][\"bindings\"]:\n",
    "                for var_name, var_data in result.items():\n",
    "                    var_value = var_data[\"value\"]\n",
    "                    if var_name in pred_answers_2.keys():\n",
    "                        pred_answers_2[var_name].append(var_value)\n",
    "                    else:\n",
    "                        pred_answers_2[var_name] = [var_value]\n",
    "    if (type(gold_ans[i]) != bool) and (len(gold_ans[i]) == 0) and (len(list(pred_answers.keys())) == 0 or len(list(pred_answers_2.keys())) == 0):\n",
    "        total_acc += 1\n",
    "        total_rec += 1\n",
    "        total_pre += 1\n",
    "        total_f1 += 1\n",
    "        continue\n",
    "    elif (type(gold_ans[i]) != bool) and (len(gold_ans[i]) > 0) and (len(list(pred_answers.keys())) == 0) and (len(list(pred_answers_2.keys())) == 0):\n",
    "        print(f'\\nempty predicted answer set for sample #{ids[i]}')\n",
    "        continue\n",
    "    elif (type(gold_ans[i]) != bool) and (len(gold_ans[i]) == 0) and (len(list(pred_answers.keys())) > 0 and len(list(pred_answers_2.keys())) > 0):\n",
    "        print(f'\\npredicted answer set was supposed to be empty for sample #{ids[i]}')\n",
    "        continue\n",
    "    elif type(gold_ans[i]) == bool:\n",
    "        print(f'\\nresults are not of type boolean for sample #{ids[i]}')\n",
    "        continue\n",
    "    try:\n",
    "        if (use_pred_ans_2 != True):\n",
    "            assert len(list(pred_answers.keys())) == 1\n",
    "    except:\n",
    "        try:\n",
    "            if (use_pred_ans_2 != False):\n",
    "                assert len(list(pred_answers_2.keys())) == 1\n",
    "            use_pred_ans_2 = True\n",
    "        except:\n",
    "            print(f'\\nresults dict has more keys than expected for sample #{ids[i]}')\n",
    "            continue\n",
    "    pred_ans = next(iter(pred_answers.values())) if (not use_pred_ans_2) else next(iter(pred_answers_2.values()))\n",
    "    acc, rec, pre, f1 = eval(list(map(lambda x: process_text(x), gold_ans[i])), pred_ans)\n",
    "    acc_2, rec_2, pre_2, f1_2 = 0, 0, 0, 0\n",
    "    if not use_pred_ans_2 and len(list(pred_answers_2.keys())) > 0:\n",
    "        pred_ans_2 = next(iter(pred_answers_2.values()))\n",
    "        acc_2, rec_2, pre_2, f1_2 = eval(list(map(lambda x: process_text(x), gold_ans[i])), pred_ans_2)\n",
    "    total_acc += max(acc, acc_2)\n",
    "    total_rec += max(rec, rec_2)\n",
    "    total_pre += max(pre, pre_2)\n",
    "    total_f1 += max(f1, f1_2)\n",
    "    # print(f'\\ninfo for sample #{ids[i]}:')\n",
    "    # print(f'acc = {acc}, rec = {rec}, pre = {pre}, f1 = {f1}')\n",
    "    # print('\\n'.join(gold_ans[i]))\n",
    "    # print('---')\n",
    "    # print('\\n'.join(pred_ans))\n",
    "    # print()\n",
    "print(f'\\nacc: {total_acc / len(queries)}')\n",
    "print(f'rec: {total_rec / len(queries)}')\n",
    "print(f'pre: {total_pre / len(queries)}')\n",
    "print(f'f1: {total_f1 / len(queries)}')"
   ]
  },
  {
   "cell_type": "markdown",
   "metadata": {
    "id": "xt0_l5eR9u6e"
   },
   "source": [
    "#### ChatGPT zero-shot setting w/ 10 triples\n",
    "model_6: gpt-3.5-turbo-tri-10"
   ]
  },
  {
   "cell_type": "code",
   "execution_count": null,
   "metadata": {
    "colab": {
     "base_uri": "https://localhost:8080/",
     "height": 1000
    },
    "id": "H236ub7Mow9Q",
    "outputId": "e5bcef4c-f34f-4561-bdf5-c6650535674d"
   },
   "outputs": [
    {
     "data": {
      "text/html": [
       "\n",
       "  <style>\n",
       "    pre {\n",
       "        white-space: pre-wrap;\n",
       "    }\n",
       "  </style>\n",
       "  "
      ],
      "text/plain": [
       "<IPython.core.display.HTML object>"
      ]
     },
     "metadata": {},
     "output_type": "display_data"
    },
    {
     "name": "stderr",
     "output_type": "stream",
     "text": [
      "  3%|▎         | 4/150 [00:02<01:44,  1.39it/s]"
     ]
    },
    {
     "name": "stdout",
     "output_type": "stream",
     "text": [
      "\n",
      "empty predicted answer set for sample #3\n"
     ]
    },
    {
     "name": "stderr",
     "output_type": "stream",
     "text": [
      "  6%|▌         | 9/150 [00:07<02:45,  1.18s/it]"
     ]
    },
    {
     "name": "stdout",
     "output_type": "stream",
     "text": [
      "\n",
      "results are not of type boolean for sample #8\n"
     ]
    },
    {
     "name": "stderr",
     "output_type": "stream",
     "text": [
      "\r  7%|▋         | 10/150 [00:08<02:23,  1.02s/it]"
     ]
    },
    {
     "name": "stdout",
     "output_type": "stream",
     "text": [
      "\n",
      "empty predicted answer set for sample #9\n"
     ]
    },
    {
     "name": "stderr",
     "output_type": "stream",
     "text": [
      "\r  7%|▋         | 11/150 [00:09<02:07,  1.09it/s]"
     ]
    },
    {
     "name": "stdout",
     "output_type": "stream",
     "text": [
      "\n",
      "results dict has more keys than expected for sample #10\n"
     ]
    },
    {
     "name": "stderr",
     "output_type": "stream",
     "text": [
      " 12%|█▏        | 18/150 [00:14<01:31,  1.44it/s]"
     ]
    },
    {
     "name": "stdout",
     "output_type": "stream",
     "text": [
      "\n",
      "empty predicted answer set for sample #17\n"
     ]
    },
    {
     "name": "stderr",
     "output_type": "stream",
     "text": [
      "\r 13%|█▎        | 19/150 [00:14<01:30,  1.45it/s]"
     ]
    },
    {
     "name": "stdout",
     "output_type": "stream",
     "text": [
      "\n",
      "empty predicted answer set for sample #18\n"
     ]
    },
    {
     "name": "stderr",
     "output_type": "stream",
     "text": [
      " 15%|█▍        | 22/150 [00:17<02:05,  1.02it/s]"
     ]
    },
    {
     "name": "stdout",
     "output_type": "stream",
     "text": [
      "\n",
      "predicted answer set was supposed to be empty for sample #21\n"
     ]
    },
    {
     "name": "stderr",
     "output_type": "stream",
     "text": [
      " 16%|█▌        | 24/150 [00:19<01:44,  1.21it/s]"
     ]
    },
    {
     "name": "stdout",
     "output_type": "stream",
     "text": [
      "\n",
      "empty predicted answer set for sample #23\n"
     ]
    },
    {
     "name": "stderr",
     "output_type": "stream",
     "text": [
      "\r 17%|█▋        | 25/150 [00:19<01:37,  1.28it/s]"
     ]
    },
    {
     "name": "stdout",
     "output_type": "stream",
     "text": [
      "\n",
      "error executing SPARQL query: EndPointInternalError: The endpoint returned the HTTP status code 500. \n",
      "\n",
      "Response:\n",
      "b'Virtuoso 42000 Error SR186:SECURITY: No permission to execute procedure DB.DBA.SPARUL_RUN with user ID 111, group ID 111\\n\\nSPARQL query:\\n#output-format:application/sparql-results+json\\n\\n'\n",
      "\n",
      "syntax error for sample #24\n"
     ]
    },
    {
     "name": "stderr",
     "output_type": "stream",
     "text": [
      " 18%|█▊        | 27/150 [00:21<01:29,  1.37it/s]"
     ]
    },
    {
     "name": "stdout",
     "output_type": "stream",
     "text": [
      "\n",
      "empty predicted answer set for sample #26\n"
     ]
    },
    {
     "name": "stderr",
     "output_type": "stream",
     "text": [
      "\r 19%|█▊        | 28/150 [00:21<01:27,  1.40it/s]"
     ]
    },
    {
     "name": "stdout",
     "output_type": "stream",
     "text": [
      "\n",
      "predicted answer set was supposed to be empty for sample #27\n"
     ]
    },
    {
     "name": "stderr",
     "output_type": "stream",
     "text": [
      " 25%|██▍       | 37/150 [00:27<01:16,  1.47it/s]"
     ]
    },
    {
     "name": "stdout",
     "output_type": "stream",
     "text": [
      "\n",
      "empty predicted answer set for sample #36\n"
     ]
    },
    {
     "name": "stderr",
     "output_type": "stream",
     "text": [
      " 26%|██▌       | 39/150 [00:29<01:15,  1.47it/s]"
     ]
    },
    {
     "name": "stdout",
     "output_type": "stream",
     "text": [
      "\n",
      "empty predicted answer set for sample #38\n"
     ]
    },
    {
     "name": "stderr",
     "output_type": "stream",
     "text": [
      "\r 27%|██▋       | 40/150 [01:00<18:18,  9.99s/it]"
     ]
    },
    {
     "name": "stdout",
     "output_type": "stream",
     "text": [
      "\n",
      "predicted answer set was supposed to be empty for sample #39\n"
     ]
    },
    {
     "name": "stderr",
     "output_type": "stream",
     "text": [
      "\r 27%|██▋       | 41/150 [01:01<13:10,  7.25s/it]"
     ]
    },
    {
     "name": "stdout",
     "output_type": "stream",
     "text": [
      "\n",
      "predicted answer set was supposed to be empty for sample #40\n"
     ]
    },
    {
     "name": "stderr",
     "output_type": "stream",
     "text": [
      " 29%|██▉       | 44/150 [01:03<05:11,  2.93s/it]"
     ]
    },
    {
     "name": "stdout",
     "output_type": "stream",
     "text": [
      "\n",
      "predicted answer set was supposed to be empty for sample #43\n"
     ]
    },
    {
     "name": "stderr",
     "output_type": "stream",
     "text": [
      "\r 30%|███       | 45/150 [01:04<03:57,  2.26s/it]"
     ]
    },
    {
     "name": "stdout",
     "output_type": "stream",
     "text": [
      "\n",
      "empty predicted answer set for sample #44\n"
     ]
    },
    {
     "name": "stderr",
     "output_type": "stream",
     "text": [
      " 35%|███▌      | 53/150 [01:09<01:14,  1.30it/s]"
     ]
    },
    {
     "name": "stdout",
     "output_type": "stream",
     "text": [
      "\n",
      "empty predicted answer set for sample #52\n"
     ]
    },
    {
     "name": "stderr",
     "output_type": "stream",
     "text": [
      " 37%|███▋      | 56/150 [01:11<01:06,  1.42it/s]"
     ]
    },
    {
     "name": "stdout",
     "output_type": "stream",
     "text": [
      "\n",
      "results are not of type boolean for sample #55\n"
     ]
    },
    {
     "name": "stderr",
     "output_type": "stream",
     "text": [
      "\r 38%|███▊      | 57/150 [01:12<01:05,  1.43it/s]"
     ]
    },
    {
     "name": "stdout",
     "output_type": "stream",
     "text": [
      "\n",
      "error executing SPARQL query: QueryBadFormed: A bad request has been sent to the endpoint: probably the SPARQL query is badly formed. \n",
      "\n",
      "Response:\n",
      "b\"Virtuoso 37000 Error SP030: SPARQL compiler, line 5: Undefined namespace prefix in prefix:localpart notation at 'dct:subject' before 'dbc:Missions_to_the_Sun'\\n\\nSPARQL query:\\n#output-format:application/sparql-results+json\\nSELECT DISTINCT ?probe\\nWHERE {\\n  ?probe rdf:type dbo:Satellite .\\n  ?probe dct:subject dbc:Missions_to_the_Sun .\\n}\\n\"\n",
      "\n",
      "syntax error for sample #56\n"
     ]
    },
    {
     "name": "stderr",
     "output_type": "stream",
     "text": [
      "\r 39%|███▊      | 58/150 [01:13<01:03,  1.45it/s]"
     ]
    },
    {
     "name": "stdout",
     "output_type": "stream",
     "text": [
      "\n",
      "error executing SPARQL query: EndPointInternalError: The endpoint returned the HTTP status code 500. \n",
      "\n",
      "Response:\n",
      "b'Virtuoso 42000 Error SR186:SECURITY: No permission to execute procedure DB.DBA.SPARUL_RUN with user ID 111, group ID 111\\n\\nSPARQL query:\\n#output-format:application/sparql-results+json\\n\\n'\n",
      "\n",
      "syntax error for sample #57\n"
     ]
    },
    {
     "name": "stderr",
     "output_type": "stream",
     "text": [
      "\r 39%|███▉      | 59/150 [01:13<01:02,  1.46it/s]"
     ]
    },
    {
     "name": "stdout",
     "output_type": "stream",
     "text": [
      "\n",
      "empty predicted answer set for sample #58\n"
     ]
    },
    {
     "name": "stderr",
     "output_type": "stream",
     "text": [
      "\r 40%|████      | 60/150 [01:14<01:01,  1.46it/s]"
     ]
    },
    {
     "name": "stdout",
     "output_type": "stream",
     "text": [
      "\n",
      "error executing SPARQL query: EndPointInternalError: The endpoint returned the HTTP status code 500. \n",
      "\n",
      "Response:\n",
      "b'Virtuoso 42000 Error SR186:SECURITY: No permission to execute procedure DB.DBA.SPARUL_RUN with user ID 111, group ID 111\\n\\nSPARQL query:\\n#output-format:application/sparql-results+json\\n\\n'\n",
      "\n",
      "syntax error for sample #59\n"
     ]
    },
    {
     "name": "stderr",
     "output_type": "stream",
     "text": [
      " 41%|████▏     | 62/150 [01:16<01:00,  1.45it/s]"
     ]
    },
    {
     "name": "stdout",
     "output_type": "stream",
     "text": [
      "\n",
      "error executing SPARQL query: QueryBadFormed: A bad request has been sent to the endpoint: probably the SPARQL query is badly formed. \n",
      "\n",
      "Response:\n",
      "b\"Virtuoso 37000 Error SP030: SPARQL compiler, line 4: Undefined namespace prefix in prefix:localpart notation at 'dct:subject' before '<http://dbpedia.org/resource/Category:James_Bond_films>'\\n\\nSPARQL query:\\n#output-format:application/sparql-results+json\\nSELECT (COUNT(?uri) AS ?count)\\nWHERE {\\n  ?uri dct:subject <http://dbpedia.org/resource/Category:James_Bond_films>.\\n}\\n\"\n",
      "\n",
      "syntax error for sample #61\n"
     ]
    },
    {
     "name": "stderr",
     "output_type": "stream",
     "text": [
      " 43%|████▎     | 64/150 [01:17<00:58,  1.46it/s]"
     ]
    },
    {
     "name": "stdout",
     "output_type": "stream",
     "text": [
      "\n",
      "predicted answer set was supposed to be empty for sample #63\n"
     ]
    },
    {
     "name": "stderr",
     "output_type": "stream",
     "text": [
      " 45%|████▍     | 67/150 [01:19<00:56,  1.47it/s]"
     ]
    },
    {
     "name": "stdout",
     "output_type": "stream",
     "text": [
      "\n",
      "error executing SPARQL query: EndPointInternalError: The endpoint returned the HTTP status code 500. \n",
      "\n",
      "Response:\n",
      "b'Virtuoso 42000 Error SR186:SECURITY: No permission to execute procedure DB.DBA.SPARUL_RUN with user ID 111, group ID 111\\n\\nSPARQL query:\\n#output-format:application/sparql-results+json\\n\\n'\n",
      "\n",
      "syntax error for sample #66\n"
     ]
    },
    {
     "name": "stderr",
     "output_type": "stream",
     "text": [
      "\r 45%|████▌     | 68/150 [01:20<00:55,  1.47it/s]"
     ]
    },
    {
     "name": "stdout",
     "output_type": "stream",
     "text": [
      "\n",
      "error executing SPARQL query: QueryBadFormed: A bad request has been sent to the endpoint: probably the SPARQL query is badly formed. \n",
      "\n",
      "Response:\n",
      "b\"Virtuoso 37000 Error SP030: SPARQL compiler, line 6: Undefined namespace prefix in prefix:localpart notation at 'dct:subject' before 'dbc:Countries_in_Africa'\\n\\nSPARQL query:\\n#output-format:application/sparql-results+json\\nSELECT ?volcano ?elevation\\nWHERE {\\n  ?volcano a <http://dbpedia.org/ontology/Volcano> .\\n  ?volcano <http://dbpedia.org/ontology/locatedInArea> ?area .\\n  ?area dct:subject dbc:Countries_in_Africa .\\n  ?volcano <http://dbpedia.org/ontology/elevation> ?elevation .\\n}\\nORDER BY DESC(?elevation)\\nLIMIT 1\\n\"\n",
      "\n",
      "syntax error for sample #67\n"
     ]
    },
    {
     "name": "stderr",
     "output_type": "stream",
     "text": [
      "\r 46%|████▌     | 69/150 [01:20<00:55,  1.47it/s]"
     ]
    },
    {
     "name": "stdout",
     "output_type": "stream",
     "text": [
      "\n",
      "results dict has more keys than expected for sample #68\n"
     ]
    },
    {
     "name": "stderr",
     "output_type": "stream",
     "text": [
      " 47%|████▋     | 71/150 [01:22<00:55,  1.43it/s]"
     ]
    },
    {
     "name": "stdout",
     "output_type": "stream",
     "text": [
      "\n",
      "error executing SPARQL query: QueryBadFormed: A bad request has been sent to the endpoint: probably the SPARQL query is badly formed. \n",
      "\n",
      "Response:\n",
      "b\"Virtuoso 37000 Error SP030: SPARQL compiler, line 5: Undefined namespace prefix in prefix:localpart notation at 'dct:subject' before 'dbc:Mars_rovers'\\n\\nSPARQL query:\\n#output-format:application/sparql-results+json\\nSELECT ?spacecraft\\nWHERE {\\n  ?spacecraft rdf:type dbo:Satellite .\\n  ?spacecraft dct:subject dbc:Mars_rovers .\\n}\\n\"\n",
      "\n",
      "syntax error for sample #70\n"
     ]
    },
    {
     "name": "stderr",
     "output_type": "stream",
     "text": [
      "\r 48%|████▊     | 72/150 [01:22<00:53,  1.44it/s]"
     ]
    },
    {
     "name": "stdout",
     "output_type": "stream",
     "text": [
      "\n",
      "empty predicted answer set for sample #71\n"
     ]
    },
    {
     "name": "stderr",
     "output_type": "stream",
     "text": [
      " 49%|████▉     | 74/150 [01:24<00:52,  1.45it/s]"
     ]
    },
    {
     "name": "stdout",
     "output_type": "stream",
     "text": [
      "\n",
      "error executing SPARQL query: QueryBadFormed: A bad request has been sent to the endpoint: probably the SPARQL query is badly formed. \n",
      "\n",
      "Response:\n",
      "b\"Virtuoso 37000 Error SP030: SPARQL compiler, line 12: syntax error at '}'\\n\\nSPARQL query:\\n#output-format:application/sparql-results+json\\nSELECT ?x\\nWHERE {\\n  ?x a <http://dbpedia.org/ontology/Volcano> .\\n  ?x <http://dbpedia.org/ontology/locatedInArea> <http://dbpedia.org/resource/Java> .\\n  ?x <http://dbpedia.org/ontology/locatedInArea> <http://dbpedia.org/resource/Russia> .\\n  ?x <http://dbpedia.org/ontology/locatedInArea> <http://dbpedia.org/resource/Chile> .\\n  ?x <http://dbpedia.org/ontology/locatedInArea> <http://dbpedia.org/resource/Hokkaido> .\\n  ?x <http://dbpedia.org/ontology/locatedInArea> <http://dbpedia.org/resource/El_Salvador> .\\n  ?x <http://dbpedia.org/ontology/locatedInArea> <http://dbpedia.org/resource/Japan> .\\n  ?x\\n\"\n",
      "\n",
      "syntax error for sample #73\n"
     ]
    },
    {
     "name": "stderr",
     "output_type": "stream",
     "text": [
      " 51%|█████▏    | 77/150 [01:26<00:49,  1.47it/s]"
     ]
    },
    {
     "name": "stdout",
     "output_type": "stream",
     "text": [
      "\n",
      "empty predicted answer set for sample #76\n"
     ]
    },
    {
     "name": "stderr",
     "output_type": "stream",
     "text": [
      "\r 52%|█████▏    | 78/150 [01:26<00:49,  1.46it/s]"
     ]
    },
    {
     "name": "stdout",
     "output_type": "stream",
     "text": [
      "\n",
      "error executing SPARQL query: EndPointInternalError: The endpoint returned the HTTP status code 500. \n",
      "\n",
      "Response:\n",
      "b'Virtuoso 42000 Error SR186:SECURITY: No permission to execute procedure DB.DBA.SPARUL_RUN with user ID 111, group ID 111\\n\\nSPARQL query:\\n#output-format:application/sparql-results+json\\n\\n'\n",
      "\n",
      "syntax error for sample #77\n"
     ]
    },
    {
     "name": "stderr",
     "output_type": "stream",
     "text": [
      " 55%|█████▌    | 83/150 [01:30<00:45,  1.47it/s]"
     ]
    },
    {
     "name": "stdout",
     "output_type": "stream",
     "text": [
      "\n",
      "predicted answer set was supposed to be empty for sample #82\n"
     ]
    },
    {
     "name": "stderr",
     "output_type": "stream",
     "text": [
      " 57%|█████▋    | 86/150 [01:32<00:49,  1.28it/s]"
     ]
    },
    {
     "name": "stdout",
     "output_type": "stream",
     "text": [
      "\n",
      "results are not of type boolean for sample #85\n"
     ]
    },
    {
     "name": "stderr",
     "output_type": "stream",
     "text": [
      " 60%|██████    | 90/150 [01:35<00:44,  1.36it/s]"
     ]
    },
    {
     "name": "stdout",
     "output_type": "stream",
     "text": [
      "\n",
      "error executing SPARQL query: EndPointInternalError: The endpoint returned the HTTP status code 500. \n",
      "\n",
      "Response:\n",
      "b'Virtuoso 42000 Error SR186:SECURITY: No permission to execute procedure DB.DBA.SPARUL_RUN with user ID 111, group ID 111\\n\\nSPARQL query:\\n#output-format:application/sparql-results+json\\n\\n'\n",
      "\n",
      "syntax error for sample #89\n"
     ]
    },
    {
     "name": "stderr",
     "output_type": "stream",
     "text": [
      " 62%|██████▏   | 93/150 [01:39<00:56,  1.00it/s]"
     ]
    },
    {
     "name": "stdout",
     "output_type": "stream",
     "text": [
      "\n",
      "empty predicted answer set for sample #92\n"
     ]
    },
    {
     "name": "stderr",
     "output_type": "stream",
     "text": [
      " 64%|██████▍   | 96/150 [01:41<00:42,  1.27it/s]"
     ]
    },
    {
     "name": "stdout",
     "output_type": "stream",
     "text": [
      "\n",
      "error executing SPARQL query: EndPointInternalError: The endpoint returned the HTTP status code 500. \n",
      "\n",
      "Response:\n",
      "b'Virtuoso 42000 Error SR186:SECURITY: No permission to execute procedure DB.DBA.SPARUL_RUN with user ID 111, group ID 111\\n\\nSPARQL query:\\n#output-format:application/sparql-results+json\\n\\n'\n",
      "\n",
      "syntax error for sample #95\n"
     ]
    },
    {
     "name": "stderr",
     "output_type": "stream",
     "text": [
      " 67%|██████▋   | 101/150 [01:45<00:34,  1.44it/s]"
     ]
    },
    {
     "name": "stdout",
     "output_type": "stream",
     "text": [
      "\n",
      "error executing SPARQL query: QueryBadFormed: A bad request has been sent to the endpoint: probably the SPARQL query is badly formed. \n",
      "\n",
      "Response:\n",
      "b'Virtuoso 37000 Error SP030: SPARQL compiler, line 21: syntax error at \\'}\\'\\n\\nSPARQL query:\\n#output-format:application/sparql-results+json\\nSELECT DISTINCT ?person\\nWHERE {\\n  {\\n    <http://dbpedia.org/resource/Al_Capone> <http://dbpedia.org/ontology/alias> ?alias .\\n    FILTER (CONTAINS(LCASE(?alias), \"scarface\"))\\n  }\\n  UNION\\n  {\\n    <http://dbpedia.org/resource/Scarface_(rapper)> <http://dbpedia.org/ontology/alias> ?alias .\\n    FILTER (CONTAINS(LCASE(?alias), \"scarface\"))\\n  }\\n  UNION\\n  {\\n    <http://dbpedia.org/resource/%22Scarface%22_John_Williams> <http://dbpedia.org/ontology/alias> ?alias .\\n    FILTER (CONTAINS(LCASE(?alias), \"scarface\"))\\n  }\\n  UNION\\n  {\\n    <http://dbpedia.org/resource/Jos\\xc3\\xa9_Rodrigo_Ar\\xc3\\xa9chiga_Gamboa> <http://dbpedia.org/ontology/alias>\\n'\n",
      "\n",
      "syntax error for sample #100\n"
     ]
    },
    {
     "name": "stderr",
     "output_type": "stream",
     "text": [
      "\r 68%|██████▊   | 102/150 [01:45<00:33,  1.44it/s]"
     ]
    },
    {
     "name": "stdout",
     "output_type": "stream",
     "text": [
      "\n",
      "empty predicted answer set for sample #101\n"
     ]
    },
    {
     "name": "stderr",
     "output_type": "stream",
     "text": [
      "\r 69%|██████▊   | 103/150 [01:46<00:32,  1.45it/s]"
     ]
    },
    {
     "name": "stdout",
     "output_type": "stream",
     "text": [
      "\n",
      "error executing SPARQL query: EndPointInternalError: The endpoint returned the HTTP status code 500. \n",
      "\n",
      "Response:\n",
      "b'Virtuoso 42000 Error SR186:SECURITY: No permission to execute procedure DB.DBA.SPARUL_RUN with user ID 111, group ID 111\\n\\nSPARQL query:\\n#output-format:application/sparql-results+json\\n\\n'\n",
      "\n",
      "syntax error for sample #102\n"
     ]
    },
    {
     "name": "stderr",
     "output_type": "stream",
     "text": [
      "\r 69%|██████▉   | 104/150 [01:47<00:31,  1.45it/s]"
     ]
    },
    {
     "name": "stdout",
     "output_type": "stream",
     "text": [
      "\n",
      "error executing SPARQL query: QueryBadFormed: A bad request has been sent to the endpoint: probably the SPARQL query is badly formed. \n",
      "\n",
      "Response:\n",
      "b\"Virtuoso 37000 Error SP030: SPARQL compiler, line 7: syntax error at 'type' before '<http://dbpedia.org/class/yago/WikicatDaughtersOfBritishEarls>'\\n\\nSPARQL query:\\n#output-format:application/sparql-results+json\\nSELECT ?daughter ?birthPlace ?deathPlace\\nWHERE {\\n  {\\n    SELECT ?daughter ?birthPlace\\n    WHERE {\\n      ?daughter <http://www.w3.org/1999/02/22-rdf-syntax-ns#>type <http://dbpedia.org/class/yago/WikicatDaughtersOfBritishEarls> .\\n      ?daughter <http://dbpedia.org/ontology/birthPlace> ?birthPlace .\\n    }\\n  }\\n  ?daughter <http://dbpedia.org/ontology/deathPlace> ?deathPlace .\\n  FILTER (?birthPlace = ?deathPlace)\\n}\\nLIMIT 100\\n\"\n",
      "\n",
      "syntax error for sample #103\n"
     ]
    },
    {
     "name": "stderr",
     "output_type": "stream",
     "text": [
      "\r 70%|███████   | 105/150 [01:47<00:30,  1.47it/s]"
     ]
    },
    {
     "name": "stdout",
     "output_type": "stream",
     "text": [
      "\n",
      "error executing SPARQL query: EndPointInternalError: The endpoint returned the HTTP status code 500. \n",
      "\n",
      "Response:\n",
      "b'Virtuoso 42000 Error SR186:SECURITY: No permission to execute procedure DB.DBA.SPARUL_RUN with user ID 111, group ID 111\\n\\nSPARQL query:\\n#output-format:application/sparql-results+json\\n\\n'\n",
      "\n",
      "syntax error for sample #104\n"
     ]
    },
    {
     "name": "stderr",
     "output_type": "stream",
     "text": [
      " 72%|███████▏  | 108/150 [01:49<00:28,  1.48it/s]"
     ]
    },
    {
     "name": "stdout",
     "output_type": "stream",
     "text": [
      "\n",
      "error executing SPARQL query: EndPointInternalError: The endpoint returned the HTTP status code 500. \n",
      "\n",
      "Response:\n",
      "b'Virtuoso 42000 Error SR186:SECURITY: No permission to execute procedure DB.DBA.SPARUL_RUN with user ID 111, group ID 111\\n\\nSPARQL query:\\n#output-format:application/sparql-results+json\\n\\n'\n",
      "\n",
      "syntax error for sample #107\n"
     ]
    },
    {
     "name": "stderr",
     "output_type": "stream",
     "text": [
      "\r 73%|███████▎  | 109/150 [01:50<00:27,  1.48it/s]"
     ]
    },
    {
     "name": "stdout",
     "output_type": "stream",
     "text": [
      "\n",
      "error executing SPARQL query: EndPointInternalError: The endpoint returned the HTTP status code 500. \n",
      "\n",
      "Response:\n",
      "b'Virtuoso 42000 Error SR186:SECURITY: No permission to execute procedure DB.DBA.SPARUL_RUN with user ID 111, group ID 111\\n\\nSPARQL query:\\n#output-format:application/sparql-results+json\\n\\n'\n",
      "\n",
      "syntax error for sample #108\n"
     ]
    },
    {
     "name": "stderr",
     "output_type": "stream",
     "text": [
      "\r 73%|███████▎  | 110/150 [01:51<00:26,  1.48it/s]"
     ]
    },
    {
     "name": "stdout",
     "output_type": "stream",
     "text": [
      "\n",
      "results dict has more keys than expected for sample #109\n"
     ]
    },
    {
     "name": "stderr",
     "output_type": "stream",
     "text": [
      "\r 74%|███████▍  | 111/150 [01:51<00:26,  1.48it/s]"
     ]
    },
    {
     "name": "stdout",
     "output_type": "stream",
     "text": [
      "\n",
      "error executing SPARQL query: EndPointInternalError: The endpoint returned the HTTP status code 500. \n",
      "\n",
      "Response:\n",
      "b'Virtuoso 42000 Error SR186:SECURITY: No permission to execute procedure DB.DBA.SPARUL_RUN with user ID 111, group ID 111\\n\\nSPARQL query:\\n#output-format:application/sparql-results+json\\n\\n'\n",
      "\n",
      "syntax error for sample #110\n"
     ]
    },
    {
     "name": "stderr",
     "output_type": "stream",
     "text": [
      "\r 75%|███████▍  | 112/150 [01:52<00:25,  1.48it/s]"
     ]
    },
    {
     "name": "stdout",
     "output_type": "stream",
     "text": [
      "\n",
      "error executing SPARQL query: EndPointInternalError: The endpoint returned the HTTP status code 500. \n",
      "\n",
      "Response:\n",
      "b'Virtuoso 42000 Error SR186:SECURITY: No permission to execute procedure DB.DBA.SPARUL_RUN with user ID 111, group ID 111\\n\\nSPARQL query:\\n#output-format:application/sparql-results+json\\n\\n'\n",
      "\n",
      "syntax error for sample #111\n"
     ]
    },
    {
     "name": "stderr",
     "output_type": "stream",
     "text": [
      "\r 75%|███████▌  | 113/150 [01:53<00:25,  1.48it/s]"
     ]
    },
    {
     "name": "stdout",
     "output_type": "stream",
     "text": [
      "\n",
      "error executing SPARQL query: EndPointInternalError: The endpoint returned the HTTP status code 500. \n",
      "\n",
      "Response:\n",
      "b'Virtuoso 42000 Error SR186:SECURITY: No permission to execute procedure DB.DBA.SPARUL_RUN with user ID 111, group ID 111\\n\\nSPARQL query:\\n#output-format:application/sparql-results+json\\n\\n'\n",
      "\n",
      "syntax error for sample #112\n"
     ]
    },
    {
     "name": "stderr",
     "output_type": "stream",
     "text": [
      " 77%|███████▋  | 115/150 [01:54<00:23,  1.48it/s]"
     ]
    },
    {
     "name": "stdout",
     "output_type": "stream",
     "text": [
      "\n",
      "error executing SPARQL query: EndPointInternalError: The endpoint returned the HTTP status code 500. \n",
      "\n",
      "Response:\n",
      "b'Virtuoso 42000 Error SR186:SECURITY: No permission to execute procedure DB.DBA.SPARUL_RUN with user ID 111, group ID 111\\n\\nSPARQL query:\\n#output-format:application/sparql-results+json\\n\\n'\n",
      "\n",
      "syntax error for sample #114\n"
     ]
    },
    {
     "name": "stderr",
     "output_type": "stream",
     "text": [
      "\r 77%|███████▋  | 116/150 [01:55<00:23,  1.48it/s]"
     ]
    },
    {
     "name": "stdout",
     "output_type": "stream",
     "text": [
      "\n",
      "error executing SPARQL query: EndPointInternalError: The endpoint returned the HTTP status code 500. \n",
      "\n",
      "Response:\n",
      "b'Virtuoso 42000 Error SR186:SECURITY: No permission to execute procedure DB.DBA.SPARUL_RUN with user ID 111, group ID 111\\n\\nSPARQL query:\\n#output-format:application/sparql-results+json\\n\\n'\n",
      "\n",
      "syntax error for sample #115\n"
     ]
    },
    {
     "name": "stderr",
     "output_type": "stream",
     "text": [
      " 79%|███████▉  | 119/150 [01:57<00:23,  1.34it/s]"
     ]
    },
    {
     "name": "stdout",
     "output_type": "stream",
     "text": [
      "\n",
      "results are not of type boolean for sample #118\n"
     ]
    },
    {
     "name": "stderr",
     "output_type": "stream",
     "text": [
      " 83%|████████▎ | 124/150 [02:01<00:18,  1.38it/s]"
     ]
    },
    {
     "name": "stdout",
     "output_type": "stream",
     "text": [
      "\n",
      "empty predicted answer set for sample #123\n"
     ]
    },
    {
     "name": "stderr",
     "output_type": "stream",
     "text": [
      " 87%|████████▋ | 130/150 [02:05<00:13,  1.45it/s]"
     ]
    },
    {
     "name": "stdout",
     "output_type": "stream",
     "text": [
      "\n",
      "error executing SPARQL query: EndPointInternalError: The endpoint returned the HTTP status code 500. \n",
      "\n",
      "Response:\n",
      "b'Virtuoso 42000 Error SR186:SECURITY: No permission to execute procedure DB.DBA.SPARUL_RUN with user ID 111, group ID 111\\n\\nSPARQL query:\\n#output-format:application/sparql-results+json\\n\\n'\n",
      "\n",
      "syntax error for sample #129\n"
     ]
    },
    {
     "name": "stderr",
     "output_type": "stream",
     "text": [
      " 89%|████████▊ | 133/150 [02:07<00:11,  1.47it/s]"
     ]
    },
    {
     "name": "stdout",
     "output_type": "stream",
     "text": [
      "\n",
      "error executing SPARQL query: EndPointInternalError: The endpoint returned the HTTP status code 500. \n",
      "\n",
      "Response:\n",
      "b'Virtuoso 42000 Error SR186:SECURITY: No permission to execute procedure DB.DBA.SPARUL_RUN with user ID 111, group ID 111\\n\\nSPARQL query:\\n#output-format:application/sparql-results+json\\n\\n'\n",
      "\n",
      "syntax error for sample #132\n"
     ]
    },
    {
     "name": "stderr",
     "output_type": "stream",
     "text": [
      " 90%|█████████ | 135/150 [02:08<00:10,  1.46it/s]"
     ]
    },
    {
     "name": "stdout",
     "output_type": "stream",
     "text": [
      "\n",
      "empty predicted answer set for sample #134\n"
     ]
    },
    {
     "name": "stderr",
     "output_type": "stream",
     "text": [
      " 92%|█████████▏| 138/150 [02:10<00:08,  1.47it/s]"
     ]
    },
    {
     "name": "stdout",
     "output_type": "stream",
     "text": [
      "\n",
      "empty predicted answer set for sample #137\n"
     ]
    },
    {
     "name": "stderr",
     "output_type": "stream",
     "text": [
      "\r 93%|█████████▎| 139/150 [02:11<00:07,  1.47it/s]"
     ]
    },
    {
     "name": "stdout",
     "output_type": "stream",
     "text": [
      "\n",
      "empty predicted answer set for sample #138\n"
     ]
    },
    {
     "name": "stderr",
     "output_type": "stream",
     "text": [
      "\r 93%|█████████▎| 140/150 [02:12<00:06,  1.47it/s]"
     ]
    },
    {
     "name": "stdout",
     "output_type": "stream",
     "text": [
      "\n",
      "error executing SPARQL query: EndPointInternalError: The endpoint returned the HTTP status code 500. \n",
      "\n",
      "Response:\n",
      "b'Virtuoso 42000 Error SR186:SECURITY: No permission to execute procedure DB.DBA.SPARUL_RUN with user ID 111, group ID 111\\n\\nSPARQL query:\\n#output-format:application/sparql-results+json\\n\\n'\n",
      "\n",
      "syntax error for sample #139\n"
     ]
    },
    {
     "name": "stderr",
     "output_type": "stream",
     "text": [
      "\r 94%|█████████▍| 141/150 [02:12<00:06,  1.47it/s]"
     ]
    },
    {
     "name": "stdout",
     "output_type": "stream",
     "text": [
      "\n",
      "results dict has more keys than expected for sample #140\n"
     ]
    },
    {
     "name": "stderr",
     "output_type": "stream",
     "text": [
      " 95%|█████████▌| 143/150 [02:14<00:04,  1.47it/s]"
     ]
    },
    {
     "name": "stdout",
     "output_type": "stream",
     "text": [
      "\n",
      "results dict has more keys than expected for sample #142\n"
     ]
    },
    {
     "name": "stderr",
     "output_type": "stream",
     "text": [
      "\r 96%|█████████▌| 144/150 [02:14<00:04,  1.48it/s]"
     ]
    },
    {
     "name": "stdout",
     "output_type": "stream",
     "text": [
      "\n",
      "empty predicted answer set for sample #143\n"
     ]
    },
    {
     "name": "stderr",
     "output_type": "stream",
     "text": [
      " 97%|█████████▋| 146/150 [02:16<00:02,  1.47it/s]"
     ]
    },
    {
     "name": "stdout",
     "output_type": "stream",
     "text": [
      "\n",
      "error executing SPARQL query: QueryBadFormed: A bad request has been sent to the endpoint: probably the SPARQL query is badly formed. \n",
      "\n",
      "Response:\n",
      "b\"Virtuoso 37000 Error SP030: SPARQL compiler, line 5: syntax error at '}' before '}'\\n\\nSPARQL query:\\n#output-format:application/sparql-results+json\\nSELECT ?trail\\nWHERE {\\n  ?trail <http://dbpedia.org/property/hazards> ?hazard .\\n  FILTER NOT EXISTS { ?hazard <http://dbpedia.org/resource/Flash_flood> }\\n}\\n\"\n",
      "\n",
      "syntax error for sample #145\n"
     ]
    },
    {
     "name": "stderr",
     "output_type": "stream",
     "text": [
      "100%|██████████| 150/150 [02:19<00:00,  1.08it/s]"
     ]
    },
    {
     "name": "stdout",
     "output_type": "stream",
     "text": [
      "\n",
      "error executing SPARQL query: QueryBadFormed: A bad request has been sent to the endpoint: probably the SPARQL query is badly formed. \n",
      "\n",
      "Response:\n",
      "b'Virtuoso 37000 Error SP030: SPARQL compiler, line 4: Undefined namespace prefix in prefix:localpart notation at \\'dct:subject\\' before \\'dbc:Christopher_Columbus\\'\\n\\nSPARQL query:\\n#output-format:application/sparql-results+json\\nSELECT ?shipName WHERE {\\n  ?ship rdf:type dbo:Ship .\\n  ?ship dct:subject dbc:Christopher_Columbus .\\n  ?ship rdfs:label ?shipName .\\n  FILTER(lang(?shipName) = \"en\")\\n} LIMIT 3\\n'\n",
      "\n",
      "syntax error for sample #149\n",
      "\n",
      "acc: 0.4499006992849857\n",
      "rec: 0.4577389087006439\n",
      "pre: 0.4499006992849857\n",
      "f1: 0.4485660975070531\n"
     ]
    },
    {
     "name": "stderr",
     "output_type": "stream",
     "text": [
      "\n"
     ]
    }
   ],
   "source": [
    "import requests\n",
    "import json\n",
    "from SPARQLWrapper import SPARQLWrapper, JSON\n",
    "from copy import deepcopy\n",
    "dbpedia_endpoint = \"http://dbpedia.org/sparql\"\n",
    "\n",
    "def execute_sparql_query(query):\n",
    "    sparql = SPARQLWrapper(dbpedia_endpoint)\n",
    "    sparql.setQuery(query)\n",
    "    sparql.setReturnFormat(JSON)\n",
    "\n",
    "    try:\n",
    "        results = sparql.queryAndConvert()\n",
    "        return results\n",
    "    except Exception as e:\n",
    "        print(f\"\\nerror executing SPARQL query: {e}\")\n",
    "        return None\n",
    "\n",
    "def process_text(txt):\n",
    "    return txt.strip().lower().replace(':','').replace('.','').replace('/','').replace('_','')\n",
    "\n",
    "def eval(gold, pred, boolean=False):\n",
    "    TP, FP, FN = 0, 0, 0\n",
    "    for item in pred:\n",
    "        new_item = process_text(item) if not boolean else item\n",
    "        if new_item in gold:\n",
    "            TP += 1\n",
    "        else:\n",
    "            FP += 1\n",
    "    pred = list(map(lambda x: process_text(x), pred)) if not boolean else pred\n",
    "    for item in gold:\n",
    "        if item not in pred:\n",
    "            FN += 1\n",
    "    acc = TP / len(pred)\n",
    "    recall = TP / (TP + FN)\n",
    "    precision = TP / (TP + FP)\n",
    "    f1 = ((2 * (precision * recall)) / (precision + recall)) if (precision + recall != 0) else 0\n",
    "    rec, pre = recall, precision\n",
    "    return acc, rec, pre, f1\n",
    "\n",
    "queries = []\n",
    "with open('/content/gpt-3.5-turbo-tri-10_qald-9-plus.json', 'r') as f:\n",
    "  data = json.load(f)\n",
    "  queries = [d['pred_sparql'] for d in data]\n",
    "  ids = [d['id'] for d in data]\n",
    "  gold_ans = [d['gold_answers'] for d in data]\n",
    "  for j in range(len(gold_ans)):\n",
    "      if len(list(gold_ans[j].keys())) == 0:\n",
    "          ans = []\n",
    "      else:\n",
    "          assert len(list(gold_ans[j].keys())) == 1\n",
    "          gold_ans[j] = deepcopy(next(iter(gold_ans[j].values())))\n",
    "\n",
    "total_acc, total_rec, total_pre, total_f1 = 0, 0, 0, 0\n",
    "for i in trange(len(queries)):\n",
    "    query = queries[i]\n",
    "    pred_answers = {}\n",
    "    results = execute_sparql_query(query)\n",
    "    if (type(gold_ans[i]) != bool and len(gold_ans[i]) == 0) and (not results): # if results == None -> syntax error\n",
    "        print(f'\\nsyntax error for sample #{ids[i]}')\n",
    "        total_acc += 1\n",
    "        total_rec += 1\n",
    "        total_pre += 1\n",
    "        total_f1 += 1\n",
    "        continue\n",
    "    elif type(gold_ans[i]) != bool and (len(gold_ans[i]) > 0) and (not results): # if results == None -> syntax error\n",
    "        print(f'\\nsyntax error for sample #{ids[i]}')\n",
    "        continue\n",
    "    elif type(gold_ans[i]) == bool and (not results):\n",
    "        print(f'\\nsyntax error for sample #{ids[i]}')\n",
    "        continue\n",
    "    if 'boolean' in results.keys():\n",
    "        acc, rec, pre, f1 = eval([gold_ans[i]], [results['boolean']], boolean=True)\n",
    "        total_acc += acc\n",
    "        total_rec += rec\n",
    "        total_pre += pre\n",
    "        total_f1 += f1\n",
    "        continue\n",
    "    else:\n",
    "        for result in results[\"results\"][\"bindings\"]:\n",
    "            for var_name, var_data in result.items():\n",
    "                var_value = var_data[\"value\"]\n",
    "                if var_name in pred_answers.keys():\n",
    "                    pred_answers[var_name].append(var_value)\n",
    "                else:\n",
    "                    pred_answers[var_name] = [var_value]\n",
    "    if (type(gold_ans[i]) != bool) and (len(gold_ans[i]) == 0) and (len(list(pred_answers.keys())) == 0):\n",
    "        total_acc += 1\n",
    "        total_rec += 1\n",
    "        total_pre += 1\n",
    "        total_f1 += 1\n",
    "        continue\n",
    "    elif (type(gold_ans[i]) != bool) and (len(gold_ans[i]) > 0) and (len(list(pred_answers.keys())) == 0):\n",
    "        print(f'\\nempty predicted answer set for sample #{ids[i]}')\n",
    "        continue\n",
    "    elif (type(gold_ans[i]) != bool) and (len(gold_ans[i]) == 0) and (len(list(pred_answers.keys())) > 0):\n",
    "        print(f'\\npredicted answer set was supposed to be empty for sample #{ids[i]}')\n",
    "        continue\n",
    "    elif type(gold_ans[i]) == bool:\n",
    "        print(f'\\nresults are not of type boolean for sample #{ids[i]}')\n",
    "        continue\n",
    "    try:\n",
    "        assert len(list(pred_answers.keys())) == 1\n",
    "    except:\n",
    "        print(f'\\nresults dict has more keys than expected for sample #{ids[i]}')\n",
    "        continue\n",
    "    pred_ans = next(iter(pred_answers.values()))\n",
    "    acc, rec, pre, f1 = eval(list(map(lambda x: process_text(x), gold_ans[i])), pred_ans)\n",
    "    total_acc += acc\n",
    "    total_rec += rec\n",
    "    total_pre += pre\n",
    "    total_f1 += f1\n",
    "    # print(f'\\ninfo for sample #{ids[i]}:')\n",
    "    # print(f'acc = {acc}, rec = {rec}, pre = {pre}, f1 = {f1}')\n",
    "    # print('\\n'.join(gold_ans[i]))\n",
    "    # print('---')\n",
    "    # print('\\n'.join(pred_ans))\n",
    "    # print()\n",
    "print(f'\\nacc: {total_acc / len(queries)}')\n",
    "print(f'rec: {total_rec / len(queries)}')\n",
    "print(f'pre: {total_pre / len(queries)}')\n",
    "print(f'f1: {total_f1 / len(queries)}')"
   ]
  },
  {
   "cell_type": "code",
   "execution_count": null,
   "metadata": {
    "colab": {
     "base_uri": "https://localhost:8080/",
     "height": 1000
    },
    "id": "GEApWKull-Rz",
    "outputId": "9ffeb359-655b-4dc4-8040-8fec060a2314"
   },
   "outputs": [
    {
     "data": {
      "text/html": [
       "\n",
       "  <style>\n",
       "    pre {\n",
       "        white-space: pre-wrap;\n",
       "    }\n",
       "  </style>\n",
       "  "
      ],
      "text/plain": [
       "<IPython.core.display.HTML object>"
      ]
     },
     "metadata": {},
     "output_type": "display_data"
    },
    {
     "name": "stderr",
     "output_type": "stream",
     "text": [
      "  3%|▎         | 4/150 [00:02<01:41,  1.43it/s]"
     ]
    },
    {
     "name": "stdout",
     "output_type": "stream",
     "text": [
      "\n",
      "empty predicted answer set for sample #3\n"
     ]
    },
    {
     "name": "stderr",
     "output_type": "stream",
     "text": [
      "  6%|▌         | 9/150 [00:07<02:48,  1.20s/it]"
     ]
    },
    {
     "name": "stdout",
     "output_type": "stream",
     "text": [
      "\n",
      "results are not of type boolean for sample #8\n"
     ]
    },
    {
     "name": "stderr",
     "output_type": "stream",
     "text": [
      "\r  7%|▋         | 10/150 [00:08<02:25,  1.04s/it]"
     ]
    },
    {
     "name": "stdout",
     "output_type": "stream",
     "text": [
      "\n",
      "empty predicted answer set for sample #9\n"
     ]
    },
    {
     "name": "stderr",
     "output_type": "stream",
     "text": [
      "\r  7%|▋         | 11/150 [00:09<02:08,  1.08it/s]"
     ]
    },
    {
     "name": "stdout",
     "output_type": "stream",
     "text": [
      "\n",
      "results dict has more keys than expected for sample #10\n"
     ]
    },
    {
     "name": "stderr",
     "output_type": "stream",
     "text": [
      " 12%|█▏        | 18/150 [00:13<01:31,  1.44it/s]"
     ]
    },
    {
     "name": "stdout",
     "output_type": "stream",
     "text": [
      "\n",
      "empty predicted answer set for sample #17\n"
     ]
    },
    {
     "name": "stderr",
     "output_type": "stream",
     "text": [
      "\r 13%|█▎        | 19/150 [00:14<01:30,  1.45it/s]"
     ]
    },
    {
     "name": "stdout",
     "output_type": "stream",
     "text": [
      "\n",
      "empty predicted answer set for sample #18\n"
     ]
    },
    {
     "name": "stderr",
     "output_type": "stream",
     "text": [
      "\r 13%|█▎        | 20/150 [00:15<01:29,  1.46it/s]"
     ]
    },
    {
     "name": "stdout",
     "output_type": "stream",
     "text": [
      "\n",
      "empty predicted answer set for sample #19\n"
     ]
    },
    {
     "name": "stderr",
     "output_type": "stream",
     "text": [
      " 15%|█▍        | 22/150 [00:17<02:05,  1.02it/s]"
     ]
    },
    {
     "name": "stdout",
     "output_type": "stream",
     "text": [
      "\n",
      "predicted answer set was supposed to be empty for sample #21\n"
     ]
    },
    {
     "name": "stderr",
     "output_type": "stream",
     "text": [
      " 16%|█▌        | 24/150 [00:19<01:43,  1.21it/s]"
     ]
    },
    {
     "name": "stdout",
     "output_type": "stream",
     "text": [
      "\n",
      "empty predicted answer set for sample #23\n"
     ]
    },
    {
     "name": "stderr",
     "output_type": "stream",
     "text": [
      "\r 17%|█▋        | 25/150 [00:19<01:37,  1.28it/s]"
     ]
    },
    {
     "name": "stdout",
     "output_type": "stream",
     "text": [
      "\n",
      "error executing SPARQL query: EndPointInternalError: The endpoint returned the HTTP status code 500. \n",
      "\n",
      "Response:\n",
      "b'Virtuoso 42000 Error SR186:SECURITY: No permission to execute procedure DB.DBA.SPARUL_RUN with user ID 111, group ID 111\\n\\nSPARQL query:\\n#output-format:application/sparql-results+json\\n\\n'\n",
      "\n",
      "syntax error for sample #24\n"
     ]
    },
    {
     "name": "stderr",
     "output_type": "stream",
     "text": [
      " 18%|█▊        | 27/150 [00:21<01:29,  1.38it/s]"
     ]
    },
    {
     "name": "stdout",
     "output_type": "stream",
     "text": [
      "\n",
      "empty predicted answer set for sample #26\n"
     ]
    },
    {
     "name": "stderr",
     "output_type": "stream",
     "text": [
      "\r 19%|█▊        | 28/150 [00:21<01:26,  1.41it/s]"
     ]
    },
    {
     "name": "stdout",
     "output_type": "stream",
     "text": [
      "\n",
      "predicted answer set was supposed to be empty for sample #27\n"
     ]
    },
    {
     "name": "stderr",
     "output_type": "stream",
     "text": [
      " 25%|██▍       | 37/150 [00:27<01:16,  1.47it/s]"
     ]
    },
    {
     "name": "stdout",
     "output_type": "stream",
     "text": [
      "\n",
      "empty predicted answer set for sample #36\n"
     ]
    },
    {
     "name": "stderr",
     "output_type": "stream",
     "text": [
      " 27%|██▋       | 40/150 [01:00<18:04,  9.86s/it]"
     ]
    },
    {
     "name": "stdout",
     "output_type": "stream",
     "text": [
      "\n",
      "predicted answer set was supposed to be empty for sample #39\n"
     ]
    },
    {
     "name": "stderr",
     "output_type": "stream",
     "text": [
      "\r 27%|██▋       | 41/150 [01:01<13:00,  7.16s/it]"
     ]
    },
    {
     "name": "stdout",
     "output_type": "stream",
     "text": [
      "\n",
      "predicted answer set was supposed to be empty for sample #40\n"
     ]
    },
    {
     "name": "stderr",
     "output_type": "stream",
     "text": [
      " 29%|██▉       | 44/150 [01:03<05:09,  2.92s/it]"
     ]
    },
    {
     "name": "stdout",
     "output_type": "stream",
     "text": [
      "\n",
      "predicted answer set was supposed to be empty for sample #43\n"
     ]
    },
    {
     "name": "stderr",
     "output_type": "stream",
     "text": [
      " 35%|███▌      | 53/150 [01:09<01:14,  1.30it/s]"
     ]
    },
    {
     "name": "stdout",
     "output_type": "stream",
     "text": [
      "\n",
      "empty predicted answer set for sample #52\n"
     ]
    },
    {
     "name": "stderr",
     "output_type": "stream",
     "text": [
      " 37%|███▋      | 56/150 [01:11<01:06,  1.42it/s]"
     ]
    },
    {
     "name": "stdout",
     "output_type": "stream",
     "text": [
      "\n",
      "results are not of type boolean for sample #55\n"
     ]
    },
    {
     "name": "stderr",
     "output_type": "stream",
     "text": [
      "\r 38%|███▊      | 57/150 [01:12<01:05,  1.43it/s]"
     ]
    },
    {
     "name": "stdout",
     "output_type": "stream",
     "text": [
      "\n",
      "error executing SPARQL query: QueryBadFormed: A bad request has been sent to the endpoint: probably the SPARQL query is badly formed. \n",
      "\n",
      "Response:\n",
      "b\"Virtuoso 37000 Error SP030: SPARQL compiler, line 5: Undefined namespace prefix in prefix:localpart notation at 'dct:subject' before 'dbc:Missions_to_the_Sun'\\n\\nSPARQL query:\\n#output-format:application/sparql-results+json\\nSELECT DISTINCT ?probe\\nWHERE {\\n  ?probe rdf:type dbo:Satellite .\\n  ?probe dct:subject dbc:Missions_to_the_Sun .\\n}\\n\"\n",
      "\n",
      "syntax error for sample #56\n"
     ]
    },
    {
     "name": "stderr",
     "output_type": "stream",
     "text": [
      "\r 39%|███▊      | 58/150 [01:12<01:03,  1.44it/s]"
     ]
    },
    {
     "name": "stdout",
     "output_type": "stream",
     "text": [
      "\n",
      "error executing SPARQL query: EndPointInternalError: The endpoint returned the HTTP status code 500. \n",
      "\n",
      "Response:\n",
      "b'Virtuoso 42000 Error SR186:SECURITY: No permission to execute procedure DB.DBA.SPARUL_RUN with user ID 111, group ID 111\\n\\nSPARQL query:\\n#output-format:application/sparql-results+json\\n\\n'\n",
      "\n",
      "syntax error for sample #57\n"
     ]
    },
    {
     "name": "stderr",
     "output_type": "stream",
     "text": [
      "\r 39%|███▉      | 59/150 [01:13<01:02,  1.45it/s]"
     ]
    },
    {
     "name": "stdout",
     "output_type": "stream",
     "text": [
      "\n",
      "empty predicted answer set for sample #58\n"
     ]
    },
    {
     "name": "stderr",
     "output_type": "stream",
     "text": [
      "\r 40%|████      | 60/150 [01:14<01:01,  1.46it/s]"
     ]
    },
    {
     "name": "stdout",
     "output_type": "stream",
     "text": [
      "\n",
      "error executing SPARQL query: EndPointInternalError: The endpoint returned the HTTP status code 500. \n",
      "\n",
      "Response:\n",
      "b'Virtuoso 42000 Error SR186:SECURITY: No permission to execute procedure DB.DBA.SPARUL_RUN with user ID 111, group ID 111\\n\\nSPARQL query:\\n#output-format:application/sparql-results+json\\n\\n'\n",
      "\n",
      "syntax error for sample #59\n"
     ]
    },
    {
     "name": "stderr",
     "output_type": "stream",
     "text": [
      " 41%|████▏     | 62/150 [01:15<00:59,  1.47it/s]"
     ]
    },
    {
     "name": "stdout",
     "output_type": "stream",
     "text": [
      "\n",
      "error executing SPARQL query: QueryBadFormed: A bad request has been sent to the endpoint: probably the SPARQL query is badly formed. \n",
      "\n",
      "Response:\n",
      "b\"Virtuoso 37000 Error SP030: SPARQL compiler, line 4: Undefined namespace prefix in prefix:localpart notation at 'dct:subject' before '<http://dbpedia.org/resource/Category:James_Bond_films>'\\n\\nSPARQL query:\\n#output-format:application/sparql-results+json\\nSELECT (COUNT(?uri) AS ?count)\\nWHERE {\\n  ?uri dct:subject <http://dbpedia.org/resource/Category:James_Bond_films>.\\n}\\n\"\n",
      "\n",
      "syntax error for sample #61\n"
     ]
    },
    {
     "name": "stderr",
     "output_type": "stream",
     "text": [
      " 43%|████▎     | 64/150 [01:16<00:58,  1.48it/s]"
     ]
    },
    {
     "name": "stdout",
     "output_type": "stream",
     "text": [
      "\n",
      "predicted answer set was supposed to be empty for sample #63\n"
     ]
    },
    {
     "name": "stderr",
     "output_type": "stream",
     "text": [
      " 45%|████▍     | 67/150 [01:19<00:56,  1.47it/s]"
     ]
    },
    {
     "name": "stdout",
     "output_type": "stream",
     "text": [
      "\n",
      "error executing SPARQL query: EndPointInternalError: The endpoint returned the HTTP status code 500. \n",
      "\n",
      "Response:\n",
      "b'Virtuoso 42000 Error SR186:SECURITY: No permission to execute procedure DB.DBA.SPARUL_RUN with user ID 111, group ID 111\\n\\nSPARQL query:\\n#output-format:application/sparql-results+json\\n\\n'\n",
      "\n",
      "syntax error for sample #66\n"
     ]
    },
    {
     "name": "stderr",
     "output_type": "stream",
     "text": [
      "\r 45%|████▌     | 68/150 [01:19<00:55,  1.47it/s]"
     ]
    },
    {
     "name": "stdout",
     "output_type": "stream",
     "text": [
      "\n",
      "error executing SPARQL query: QueryBadFormed: A bad request has been sent to the endpoint: probably the SPARQL query is badly formed. \n",
      "\n",
      "Response:\n",
      "b\"Virtuoso 37000 Error SP030: SPARQL compiler, line 6: Undefined namespace prefix in prefix:localpart notation at 'dct:subject' before 'dbc:Countries_in_Africa'\\n\\nSPARQL query:\\n#output-format:application/sparql-results+json\\nSELECT ?volcano ?elevation\\nWHERE {\\n  ?volcano a <http://dbpedia.org/ontology/Volcano> .\\n  ?volcano <http://dbpedia.org/ontology/locatedInArea> ?area .\\n  ?area dct:subject dbc:Countries_in_Africa .\\n  ?volcano <http://dbpedia.org/ontology/elevation> ?elevation .\\n}\\nORDER BY DESC(?elevation)\\nLIMIT 1\\n\"\n",
      "\n",
      "syntax error for sample #67\n"
     ]
    },
    {
     "name": "stderr",
     "output_type": "stream",
     "text": [
      "\r 46%|████▌     | 69/150 [01:20<00:55,  1.47it/s]"
     ]
    },
    {
     "name": "stdout",
     "output_type": "stream",
     "text": [
      "\n",
      "results dict has more keys than expected for sample #68\n"
     ]
    },
    {
     "name": "stderr",
     "output_type": "stream",
     "text": [
      " 47%|████▋     | 71/150 [01:21<00:53,  1.47it/s]"
     ]
    },
    {
     "name": "stdout",
     "output_type": "stream",
     "text": [
      "\n",
      "error executing SPARQL query: QueryBadFormed: A bad request has been sent to the endpoint: probably the SPARQL query is badly formed. \n",
      "\n",
      "Response:\n",
      "b\"Virtuoso 37000 Error SP030: SPARQL compiler, line 5: Undefined namespace prefix in prefix:localpart notation at 'dct:subject' before 'dbc:Mars_rovers'\\n\\nSPARQL query:\\n#output-format:application/sparql-results+json\\nSELECT ?spacecraft\\nWHERE {\\n  ?spacecraft rdf:type dbo:Satellite .\\n  ?spacecraft dct:subject dbc:Mars_rovers .\\n}\\n\"\n",
      "\n",
      "syntax error for sample #70\n"
     ]
    },
    {
     "name": "stderr",
     "output_type": "stream",
     "text": [
      "\r 48%|████▊     | 72/150 [01:22<00:52,  1.47it/s]"
     ]
    },
    {
     "name": "stdout",
     "output_type": "stream",
     "text": [
      "\n",
      "empty predicted answer set for sample #71\n"
     ]
    },
    {
     "name": "stderr",
     "output_type": "stream",
     "text": [
      " 49%|████▉     | 74/150 [01:23<00:51,  1.48it/s]"
     ]
    },
    {
     "name": "stdout",
     "output_type": "stream",
     "text": [
      "\n",
      "error executing SPARQL query: QueryBadFormed: A bad request has been sent to the endpoint: probably the SPARQL query is badly formed. \n",
      "\n",
      "Response:\n",
      "b\"Virtuoso 37000 Error SP030: SPARQL compiler, line 12: syntax error at '}'\\n\\nSPARQL query:\\n#output-format:application/sparql-results+json\\nSELECT ?x\\nWHERE {\\n  ?x a <http://dbpedia.org/ontology/Volcano> .\\n  ?x <http://dbpedia.org/ontology/locatedInArea> <http://dbpedia.org/resource/Java> .\\n  ?x <http://dbpedia.org/ontology/locatedInArea> <http://dbpedia.org/resource/Russia> .\\n  ?x <http://dbpedia.org/ontology/locatedInArea> <http://dbpedia.org/resource/Chile> .\\n  ?x <http://dbpedia.org/ontology/locatedInArea> <http://dbpedia.org/resource/Hokkaido> .\\n  ?x <http://dbpedia.org/ontology/locatedInArea> <http://dbpedia.org/resource/El_Salvador> .\\n  ?x <http://dbpedia.org/ontology/locatedInArea> <http://dbpedia.org/resource/Japan> .\\n  ?x\\n\"\n",
      "\n",
      "syntax error for sample #73\n"
     ]
    },
    {
     "name": "stderr",
     "output_type": "stream",
     "text": [
      " 51%|█████▏    | 77/150 [01:25<00:49,  1.48it/s]"
     ]
    },
    {
     "name": "stdout",
     "output_type": "stream",
     "text": [
      "\n",
      "empty predicted answer set for sample #76\n"
     ]
    },
    {
     "name": "stderr",
     "output_type": "stream",
     "text": [
      "\r 52%|█████▏    | 78/150 [01:26<00:48,  1.48it/s]"
     ]
    },
    {
     "name": "stdout",
     "output_type": "stream",
     "text": [
      "\n",
      "error executing SPARQL query: EndPointInternalError: The endpoint returned the HTTP status code 500. \n",
      "\n",
      "Response:\n",
      "b'Virtuoso 42000 Error SR186:SECURITY: No permission to execute procedure DB.DBA.SPARUL_RUN with user ID 111, group ID 111\\n\\nSPARQL query:\\n#output-format:application/sparql-results+json\\n\\n'\n",
      "\n",
      "syntax error for sample #77\n"
     ]
    },
    {
     "name": "stderr",
     "output_type": "stream",
     "text": [
      " 55%|█████▌    | 83/150 [01:29<00:45,  1.48it/s]"
     ]
    },
    {
     "name": "stdout",
     "output_type": "stream",
     "text": [
      "\n",
      "predicted answer set was supposed to be empty for sample #82\n"
     ]
    },
    {
     "name": "stderr",
     "output_type": "stream",
     "text": [
      " 57%|█████▋    | 86/150 [01:32<00:48,  1.33it/s]"
     ]
    },
    {
     "name": "stdout",
     "output_type": "stream",
     "text": [
      "\n",
      "results are not of type boolean for sample #85\n"
     ]
    },
    {
     "name": "stderr",
     "output_type": "stream",
     "text": [
      " 60%|██████    | 90/150 [01:35<00:43,  1.37it/s]"
     ]
    },
    {
     "name": "stdout",
     "output_type": "stream",
     "text": [
      "\n",
      "error executing SPARQL query: EndPointInternalError: The endpoint returned the HTTP status code 500. \n",
      "\n",
      "Response:\n",
      "b'Virtuoso 42000 Error SR186:SECURITY: No permission to execute procedure DB.DBA.SPARUL_RUN with user ID 111, group ID 111\\n\\nSPARQL query:\\n#output-format:application/sparql-results+json\\n\\n'\n",
      "\n",
      "syntax error for sample #89\n"
     ]
    },
    {
     "name": "stderr",
     "output_type": "stream",
     "text": [
      " 62%|██████▏   | 93/150 [01:38<00:52,  1.09it/s]"
     ]
    },
    {
     "name": "stdout",
     "output_type": "stream",
     "text": [
      "\n",
      "empty predicted answer set for sample #92\n"
     ]
    },
    {
     "name": "stderr",
     "output_type": "stream",
     "text": [
      " 64%|██████▍   | 96/150 [01:40<00:41,  1.31it/s]"
     ]
    },
    {
     "name": "stdout",
     "output_type": "stream",
     "text": [
      "\n",
      "error executing SPARQL query: EndPointInternalError: The endpoint returned the HTTP status code 500. \n",
      "\n",
      "Response:\n",
      "b'Virtuoso 42000 Error SR186:SECURITY: No permission to execute procedure DB.DBA.SPARUL_RUN with user ID 111, group ID 111\\n\\nSPARQL query:\\n#output-format:application/sparql-results+json\\n\\n'\n",
      "\n",
      "syntax error for sample #95\n"
     ]
    },
    {
     "name": "stderr",
     "output_type": "stream",
     "text": [
      " 67%|██████▋   | 101/150 [01:44<00:33,  1.44it/s]"
     ]
    },
    {
     "name": "stdout",
     "output_type": "stream",
     "text": [
      "\n",
      "error executing SPARQL query: QueryBadFormed: A bad request has been sent to the endpoint: probably the SPARQL query is badly formed. \n",
      "\n",
      "Response:\n",
      "b'Virtuoso 37000 Error SP030: SPARQL compiler, line 21: syntax error at \\'}\\'\\n\\nSPARQL query:\\n#output-format:application/sparql-results+json\\nSELECT DISTINCT ?person\\nWHERE {\\n  {\\n    <http://dbpedia.org/resource/Al_Capone> <http://dbpedia.org/ontology/alias> ?alias .\\n    FILTER (CONTAINS(LCASE(?alias), \"scarface\"))\\n  }\\n  UNION\\n  {\\n    <http://dbpedia.org/resource/Scarface_(rapper)> <http://dbpedia.org/ontology/alias> ?alias .\\n    FILTER (CONTAINS(LCASE(?alias), \"scarface\"))\\n  }\\n  UNION\\n  {\\n    <http://dbpedia.org/resource/%22Scarface%22_John_Williams> <http://dbpedia.org/ontology/alias> ?alias .\\n    FILTER (CONTAINS(LCASE(?alias), \"scarface\"))\\n  }\\n  UNION\\n  {\\n    <http://dbpedia.org/resource/Jos\\xc3\\xa9_Rodrigo_Ar\\xc3\\xa9chiga_Gamboa> <http://dbpedia.org/ontology/alias>\\n'\n",
      "\n",
      "syntax error for sample #100\n"
     ]
    },
    {
     "name": "stderr",
     "output_type": "stream",
     "text": [
      "\r 68%|██████▊   | 102/150 [01:44<00:33,  1.45it/s]"
     ]
    },
    {
     "name": "stdout",
     "output_type": "stream",
     "text": [
      "\n",
      "empty predicted answer set for sample #101\n"
     ]
    },
    {
     "name": "stderr",
     "output_type": "stream",
     "text": [
      " 69%|██████▉   | 104/150 [01:46<00:31,  1.45it/s]"
     ]
    },
    {
     "name": "stdout",
     "output_type": "stream",
     "text": [
      "\n",
      "error executing SPARQL query: QueryBadFormed: A bad request has been sent to the endpoint: probably the SPARQL query is badly formed. \n",
      "\n",
      "Response:\n",
      "b\"Virtuoso 37000 Error SP030: SPARQL compiler, line 7: syntax error at 'type' before '<http://dbpedia.org/class/yago/WikicatDaughtersOfBritishEarls>'\\n\\nSPARQL query:\\n#output-format:application/sparql-results+json\\nSELECT ?daughter ?birthPlace ?deathPlace\\nWHERE {\\n  {\\n    SELECT ?daughter ?birthPlace\\n    WHERE {\\n      ?daughter <http://www.w3.org/1999/02/22-rdf-syntax-ns#>type <http://dbpedia.org/class/yago/WikicatDaughtersOfBritishEarls> .\\n      ?daughter <http://dbpedia.org/ontology/birthPlace> ?birthPlace .\\n    }\\n  }\\n  ?daughter <http://dbpedia.org/ontology/deathPlace> ?deathPlace .\\n  FILTER (?birthPlace = ?deathPlace)\\n}\\n\"\n",
      "\n",
      "syntax error for sample #103\n"
     ]
    },
    {
     "name": "stderr",
     "output_type": "stream",
     "text": [
      "\r 70%|███████   | 105/150 [01:46<00:30,  1.46it/s]"
     ]
    },
    {
     "name": "stdout",
     "output_type": "stream",
     "text": [
      "\n",
      "error executing SPARQL query: EndPointInternalError: The endpoint returned the HTTP status code 500. \n",
      "\n",
      "Response:\n",
      "b'Virtuoso 42000 Error SR186:SECURITY: No permission to execute procedure DB.DBA.SPARUL_RUN with user ID 111, group ID 111\\n\\nSPARQL query:\\n#output-format:application/sparql-results+json\\n\\n'\n",
      "\n",
      "syntax error for sample #104\n"
     ]
    },
    {
     "name": "stderr",
     "output_type": "stream",
     "text": [
      " 72%|███████▏  | 108/150 [01:48<00:28,  1.47it/s]"
     ]
    },
    {
     "name": "stdout",
     "output_type": "stream",
     "text": [
      "\n",
      "error executing SPARQL query: EndPointInternalError: The endpoint returned the HTTP status code 500. \n",
      "\n",
      "Response:\n",
      "b'Virtuoso 42000 Error SR186:SECURITY: No permission to execute procedure DB.DBA.SPARUL_RUN with user ID 111, group ID 111\\n\\nSPARQL query:\\n#output-format:application/sparql-results+json\\n\\n'\n",
      "\n",
      "syntax error for sample #107\n"
     ]
    },
    {
     "name": "stderr",
     "output_type": "stream",
     "text": [
      " 73%|███████▎  | 110/150 [01:50<00:27,  1.47it/s]"
     ]
    },
    {
     "name": "stdout",
     "output_type": "stream",
     "text": [
      "\n",
      "results dict has more keys than expected for sample #109\n"
     ]
    },
    {
     "name": "stderr",
     "output_type": "stream",
     "text": [
      "\r 74%|███████▍  | 111/150 [01:50<00:26,  1.47it/s]"
     ]
    },
    {
     "name": "stdout",
     "output_type": "stream",
     "text": [
      "\n",
      "error executing SPARQL query: EndPointInternalError: The endpoint returned the HTTP status code 500. \n",
      "\n",
      "Response:\n",
      "b'Virtuoso 42000 Error SR186:SECURITY: No permission to execute procedure DB.DBA.SPARUL_RUN with user ID 111, group ID 111\\n\\nSPARQL query:\\n#output-format:application/sparql-results+json\\n\\n'\n",
      "\n",
      "syntax error for sample #110\n"
     ]
    },
    {
     "name": "stderr",
     "output_type": "stream",
     "text": [
      " 75%|███████▌  | 113/150 [01:52<00:25,  1.47it/s]"
     ]
    },
    {
     "name": "stdout",
     "output_type": "stream",
     "text": [
      "\n",
      "error executing SPARQL query: EndPointInternalError: The endpoint returned the HTTP status code 500. \n",
      "\n",
      "Response:\n",
      "b'Virtuoso 42000 Error SR186:SECURITY: No permission to execute procedure DB.DBA.SPARUL_RUN with user ID 111, group ID 111\\n\\nSPARQL query:\\n#output-format:application/sparql-results+json\\n\\n'\n",
      "\n",
      "syntax error for sample #112\n"
     ]
    },
    {
     "name": "stderr",
     "output_type": "stream",
     "text": [
      " 77%|███████▋  | 115/150 [01:53<00:23,  1.47it/s]"
     ]
    },
    {
     "name": "stdout",
     "output_type": "stream",
     "text": [
      "\n",
      "error executing SPARQL query: EndPointInternalError: The endpoint returned the HTTP status code 500. \n",
      "\n",
      "Response:\n",
      "b'Virtuoso 42000 Error SR186:SECURITY: No permission to execute procedure DB.DBA.SPARUL_RUN with user ID 111, group ID 111\\n\\nSPARQL query:\\n#output-format:application/sparql-results+json\\n\\n'\n",
      "\n",
      "syntax error for sample #114\n"
     ]
    },
    {
     "name": "stderr",
     "output_type": "stream",
     "text": [
      "\r 77%|███████▋  | 116/150 [01:54<00:23,  1.47it/s]"
     ]
    },
    {
     "name": "stdout",
     "output_type": "stream",
     "text": [
      "\n",
      "error executing SPARQL query: EndPointInternalError: The endpoint returned the HTTP status code 500. \n",
      "\n",
      "Response:\n",
      "b'Virtuoso 42000 Error SR186:SECURITY: No permission to execute procedure DB.DBA.SPARUL_RUN with user ID 111, group ID 111\\n\\nSPARQL query:\\n#output-format:application/sparql-results+json\\n\\n'\n",
      "\n",
      "syntax error for sample #115\n"
     ]
    },
    {
     "name": "stderr",
     "output_type": "stream",
     "text": [
      " 79%|███████▉  | 119/150 [01:56<00:23,  1.32it/s]"
     ]
    },
    {
     "name": "stdout",
     "output_type": "stream",
     "text": [
      "\n",
      "results are not of type boolean for sample #118\n"
     ]
    },
    {
     "name": "stderr",
     "output_type": "stream",
     "text": [
      " 83%|████████▎ | 124/150 [02:00<00:19,  1.31it/s]"
     ]
    },
    {
     "name": "stdout",
     "output_type": "stream",
     "text": [
      "\n",
      "empty predicted answer set for sample #123\n"
     ]
    },
    {
     "name": "stderr",
     "output_type": "stream",
     "text": [
      " 87%|████████▋ | 130/150 [02:04<00:14,  1.42it/s]"
     ]
    },
    {
     "name": "stdout",
     "output_type": "stream",
     "text": [
      "\n",
      "error executing SPARQL query: EndPointInternalError: The endpoint returned the HTTP status code 500. \n",
      "\n",
      "Response:\n",
      "b'Virtuoso 42000 Error SR186:SECURITY: No permission to execute procedure DB.DBA.SPARUL_RUN with user ID 111, group ID 111\\n\\nSPARQL query:\\n#output-format:application/sparql-results+json\\n\\n'\n",
      "\n",
      "syntax error for sample #129\n"
     ]
    },
    {
     "name": "stderr",
     "output_type": "stream",
     "text": [
      " 89%|████████▊ | 133/150 [02:06<00:11,  1.45it/s]"
     ]
    },
    {
     "name": "stdout",
     "output_type": "stream",
     "text": [
      "\n",
      "error executing SPARQL query: EndPointInternalError: The endpoint returned the HTTP status code 500. \n",
      "\n",
      "Response:\n",
      "b'Virtuoso 42000 Error SR186:SECURITY: No permission to execute procedure DB.DBA.SPARUL_RUN with user ID 111, group ID 111\\n\\nSPARQL query:\\n#output-format:application/sparql-results+json\\n\\n'\n",
      "\n",
      "syntax error for sample #132\n"
     ]
    },
    {
     "name": "stderr",
     "output_type": "stream",
     "text": [
      " 90%|█████████ | 135/150 [02:08<00:10,  1.46it/s]"
     ]
    },
    {
     "name": "stdout",
     "output_type": "stream",
     "text": [
      "\n",
      "empty predicted answer set for sample #134\n"
     ]
    },
    {
     "name": "stderr",
     "output_type": "stream",
     "text": [
      " 92%|█████████▏| 138/150 [02:10<00:08,  1.47it/s]"
     ]
    },
    {
     "name": "stdout",
     "output_type": "stream",
     "text": [
      "\n",
      "empty predicted answer set for sample #137\n"
     ]
    },
    {
     "name": "stderr",
     "output_type": "stream",
     "text": [
      "\r 93%|█████████▎| 139/150 [02:10<00:07,  1.47it/s]"
     ]
    },
    {
     "name": "stdout",
     "output_type": "stream",
     "text": [
      "\n",
      "empty predicted answer set for sample #138\n"
     ]
    },
    {
     "name": "stderr",
     "output_type": "stream",
     "text": [
      "\r 93%|█████████▎| 140/150 [02:11<00:06,  1.47it/s]"
     ]
    },
    {
     "name": "stdout",
     "output_type": "stream",
     "text": [
      "\n",
      "error executing SPARQL query: EndPointInternalError: The endpoint returned the HTTP status code 500. \n",
      "\n",
      "Response:\n",
      "b'Virtuoso 42000 Error SR186:SECURITY: No permission to execute procedure DB.DBA.SPARUL_RUN with user ID 111, group ID 111\\n\\nSPARQL query:\\n#output-format:application/sparql-results+json\\n\\n'\n",
      "\n",
      "syntax error for sample #139\n"
     ]
    },
    {
     "name": "stderr",
     "output_type": "stream",
     "text": [
      "\r 94%|█████████▍| 141/150 [02:12<00:06,  1.46it/s]"
     ]
    },
    {
     "name": "stdout",
     "output_type": "stream",
     "text": [
      "\n",
      "results dict has more keys than expected for sample #140\n"
     ]
    },
    {
     "name": "stderr",
     "output_type": "stream",
     "text": [
      " 95%|█████████▌| 143/150 [02:13<00:04,  1.48it/s]"
     ]
    },
    {
     "name": "stdout",
     "output_type": "stream",
     "text": [
      "\n",
      "results dict has more keys than expected for sample #142\n"
     ]
    },
    {
     "name": "stderr",
     "output_type": "stream",
     "text": [
      "\r 96%|█████████▌| 144/150 [02:14<00:04,  1.48it/s]"
     ]
    },
    {
     "name": "stdout",
     "output_type": "stream",
     "text": [
      "\n",
      "empty predicted answer set for sample #143\n"
     ]
    },
    {
     "name": "stderr",
     "output_type": "stream",
     "text": [
      " 97%|█████████▋| 146/150 [02:15<00:02,  1.48it/s]"
     ]
    },
    {
     "name": "stdout",
     "output_type": "stream",
     "text": [
      "\n",
      "error executing SPARQL query: QueryBadFormed: A bad request has been sent to the endpoint: probably the SPARQL query is badly formed. \n",
      "\n",
      "Response:\n",
      "b\"Virtuoso 37000 Error SP030: SPARQL compiler, line 5: syntax error at '}' before '}'\\n\\nSPARQL query:\\n#output-format:application/sparql-results+json\\nSELECT ?trail\\nWHERE {\\n  ?trail <http://dbpedia.org/property/hazards> ?hazard .\\n  FILTER NOT EXISTS { ?hazard <http://dbpedia.org/resource/Flash_flood> }\\n}\\n\"\n",
      "\n",
      "syntax error for sample #145\n"
     ]
    },
    {
     "name": "stderr",
     "output_type": "stream",
     "text": [
      "100%|██████████| 150/150 [02:18<00:00,  1.08it/s]"
     ]
    },
    {
     "name": "stdout",
     "output_type": "stream",
     "text": [
      "\n",
      "error executing SPARQL query: QueryBadFormed: A bad request has been sent to the endpoint: probably the SPARQL query is badly formed. \n",
      "\n",
      "Response:\n",
      "b'Virtuoso 37000 Error SP030: SPARQL compiler, line 4: Undefined namespace prefix in prefix:localpart notation at \\'dct:subject\\' before \\'dbc:Christopher_Columbus\\'\\n\\nSPARQL query:\\n#output-format:application/sparql-results+json\\nSELECT ?shipName WHERE {\\n  ?ship rdf:type dbo:Ship .\\n  ?ship dct:subject dbc:Christopher_Columbus .\\n  ?ship rdfs:label ?shipName .\\n  FILTER(lang(?shipName) = \"en\")\\n} LIMIT 3\\n'\n",
      "\n",
      "syntax error for sample #149\n",
      "\n",
      "acc: 0.46079813518242163\n",
      "rec: 0.4707944642561994\n",
      "pre: 0.46079813518242163\n",
      "f1: 0.4604137165546722\n"
     ]
    },
    {
     "name": "stderr",
     "output_type": "stream",
     "text": [
      "\n"
     ]
    }
   ],
   "source": [
    "import requests\n",
    "import json\n",
    "from SPARQLWrapper import SPARQLWrapper, JSON\n",
    "from copy import deepcopy\n",
    "dbpedia_endpoint = \"http://dbpedia.org/sparql\"\n",
    "\n",
    "def execute_sparql_query(query):\n",
    "    sparql = SPARQLWrapper(dbpedia_endpoint)\n",
    "    sparql.setQuery(query)\n",
    "    sparql.setReturnFormat(JSON)\n",
    "\n",
    "    try:\n",
    "        results = sparql.queryAndConvert()\n",
    "        return results\n",
    "    except Exception as e:\n",
    "        print(f\"\\nerror executing SPARQL query: {e}\")\n",
    "        return None\n",
    "\n",
    "def process_text(txt):\n",
    "    return txt.strip().lower().replace(':','').replace('.','').replace('/','').replace('_','')\n",
    "\n",
    "def eval(gold, pred, boolean=False):\n",
    "    TP, FP, FN = 0, 0, 0\n",
    "    for item in pred:\n",
    "        new_item = process_text(item) if not boolean else item\n",
    "        if new_item in gold:\n",
    "            TP += 1\n",
    "        else:\n",
    "            FP += 1\n",
    "    pred = list(map(lambda x: process_text(x), pred)) if not boolean else pred\n",
    "    for item in gold:\n",
    "        if item not in pred:\n",
    "            FN += 1\n",
    "    acc = TP / len(pred)\n",
    "    recall = TP / (TP + FN)\n",
    "    precision = TP / (TP + FP)\n",
    "    f1 = ((2 * (precision * recall)) / (precision + recall)) if (precision + recall != 0) else 0\n",
    "    rec, pre = recall, precision\n",
    "    return acc, rec, pre, f1\n",
    "\n",
    "queries = []\n",
    "with open('/content/gpt-3.5-turbo-tri-10_qald-9-plus.json', 'r') as f:\n",
    "  data = json.load(f)\n",
    "  queries = [d['pred_sparql'] for d in data]\n",
    "  ids = [d['id'] for d in data]\n",
    "  gold_ans = [d['gold_answers'] for d in data]\n",
    "  for j in range(len(gold_ans)):\n",
    "      if len(list(gold_ans[j].keys())) == 0:\n",
    "          ans = []\n",
    "      else:\n",
    "          assert len(list(gold_ans[j].keys())) == 1\n",
    "          gold_ans[j] = deepcopy(next(iter(gold_ans[j].values())))\n",
    "\n",
    "total_acc, total_rec, total_pre, total_f1 = 0, 0, 0, 0\n",
    "for i in trange(len(queries)):\n",
    "    query = queries[i]\n",
    "    pred_answers = {}\n",
    "    results = execute_sparql_query(query)\n",
    "    if (type(gold_ans[i]) != bool and len(gold_ans[i]) == 0) and (not results): # if results == None -> syntax error\n",
    "        print(f'\\nsyntax error for sample #{ids[i]}')\n",
    "        total_acc += 1\n",
    "        total_rec += 1\n",
    "        total_pre += 1\n",
    "        total_f1 += 1\n",
    "        continue\n",
    "    elif type(gold_ans[i]) != bool and (len(gold_ans[i]) > 0) and (not results): # if results == None -> syntax error\n",
    "        print(f'\\nsyntax error for sample #{ids[i]}')\n",
    "        continue\n",
    "    elif type(gold_ans[i]) == bool and (not results):\n",
    "        print(f'\\nsyntax error for sample #{ids[i]}')\n",
    "        continue\n",
    "    if 'boolean' in results.keys():\n",
    "        acc, rec, pre, f1 = eval([gold_ans[i]], [results['boolean']], boolean=True)\n",
    "        total_acc += acc\n",
    "        total_rec += rec\n",
    "        total_pre += pre\n",
    "        total_f1 += f1\n",
    "        continue\n",
    "    else:\n",
    "        for result in results[\"results\"][\"bindings\"]:\n",
    "            for var_name, var_data in result.items():\n",
    "                var_value = var_data[\"value\"]\n",
    "                if var_name in pred_answers.keys():\n",
    "                    pred_answers[var_name].append(var_value)\n",
    "                else:\n",
    "                    pred_answers[var_name] = [var_value]\n",
    "    if (type(gold_ans[i]) != bool) and (len(gold_ans[i]) == 0) and (len(list(pred_answers.keys())) == 0):\n",
    "        total_acc += 1\n",
    "        total_rec += 1\n",
    "        total_pre += 1\n",
    "        total_f1 += 1\n",
    "        continue\n",
    "    elif (type(gold_ans[i]) != bool) and (len(gold_ans[i]) > 0) and (len(list(pred_answers.keys())) == 0):\n",
    "        print(f'\\nempty predicted answer set for sample #{ids[i]}')\n",
    "        continue\n",
    "    elif (type(gold_ans[i]) != bool) and (len(gold_ans[i]) == 0) and (len(list(pred_answers.keys())) > 0):\n",
    "        print(f'\\npredicted answer set was supposed to be empty for sample #{ids[i]}')\n",
    "        continue\n",
    "    elif type(gold_ans[i]) == bool:\n",
    "        print(f'\\nresults are not of type boolean for sample #{ids[i]}')\n",
    "        continue\n",
    "    try:\n",
    "        assert len(list(pred_answers.keys())) == 1\n",
    "    except:\n",
    "        print(f'\\nresults dict has more keys than expected for sample #{ids[i]}')\n",
    "        continue\n",
    "    pred_ans = next(iter(pred_answers.values()))\n",
    "    acc, rec, pre, f1 = eval(list(map(lambda x: process_text(x), gold_ans[i])), pred_ans)\n",
    "    total_acc += acc\n",
    "    total_rec += rec\n",
    "    total_pre += pre\n",
    "    total_f1 += f1\n",
    "    # print(f'\\ninfo for sample #{ids[i]}:')\n",
    "    # print(f'acc = {acc}, rec = {rec}, pre = {pre}, f1 = {f1}')\n",
    "    # print('\\n'.join(gold_ans[i]))\n",
    "    # print('---')\n",
    "    # print('\\n'.join(pred_ans))\n",
    "    # print()\n",
    "print(f'\\nacc: {total_acc / len(queries)}')\n",
    "print(f'rec: {total_rec / len(queries)}')\n",
    "print(f'pre: {total_pre / len(queries)}')\n",
    "print(f'f1: {total_f1 / len(queries)}')"
   ]
  },
  {
   "cell_type": "code",
   "execution_count": null,
   "metadata": {
    "colab": {
     "base_uri": "https://localhost:8080/",
     "height": 1000
    },
    "id": "RfK-r-ht_kaB",
    "outputId": "add9bc3d-3856-445e-88b0-c9416886cad4"
   },
   "outputs": [
    {
     "data": {
      "text/html": [
       "\n",
       "  <style>\n",
       "    pre {\n",
       "        white-space: pre-wrap;\n",
       "    }\n",
       "  </style>\n",
       "  "
      ],
      "text/plain": [
       "<IPython.core.display.HTML object>"
      ]
     },
     "metadata": {},
     "output_type": "display_data"
    },
    {
     "name": "stderr",
     "output_type": "stream",
     "text": [
      "  3%|▎         | 4/150 [00:02<01:46,  1.38it/s]"
     ]
    },
    {
     "name": "stdout",
     "output_type": "stream",
     "text": [
      "\n",
      "empty predicted answer set for sample #3\n"
     ]
    },
    {
     "name": "stderr",
     "output_type": "stream",
     "text": [
      "  6%|▌         | 9/150 [00:08<02:58,  1.27s/it]"
     ]
    },
    {
     "name": "stdout",
     "output_type": "stream",
     "text": [
      "\n",
      "results are not of type boolean for sample #8\n"
     ]
    },
    {
     "name": "stderr",
     "output_type": "stream",
     "text": [
      "\r  7%|▋         | 10/150 [00:08<02:31,  1.08s/it]"
     ]
    },
    {
     "name": "stdout",
     "output_type": "stream",
     "text": [
      "\n",
      "empty predicted answer set for sample #9\n"
     ]
    },
    {
     "name": "stderr",
     "output_type": "stream",
     "text": [
      "\r  7%|▋         | 11/150 [00:09<02:13,  1.04it/s]"
     ]
    },
    {
     "name": "stdout",
     "output_type": "stream",
     "text": [
      "\n",
      "results dict has more keys than expected for sample #10\n"
     ]
    },
    {
     "name": "stderr",
     "output_type": "stream",
     "text": [
      " 12%|█▏        | 18/150 [00:14<01:33,  1.41it/s]"
     ]
    },
    {
     "name": "stdout",
     "output_type": "stream",
     "text": [
      "\n",
      "empty predicted answer set for sample #17\n"
     ]
    },
    {
     "name": "stderr",
     "output_type": "stream",
     "text": [
      "\r 13%|█▎        | 19/150 [00:15<01:31,  1.43it/s]"
     ]
    },
    {
     "name": "stdout",
     "output_type": "stream",
     "text": [
      "\n",
      "empty predicted answer set for sample #18\n"
     ]
    },
    {
     "name": "stderr",
     "output_type": "stream",
     "text": [
      "\r 13%|█▎        | 20/150 [00:15<01:30,  1.44it/s]"
     ]
    },
    {
     "name": "stdout",
     "output_type": "stream",
     "text": [
      "\n",
      "empty predicted answer set for sample #19\n"
     ]
    },
    {
     "name": "stderr",
     "output_type": "stream",
     "text": [
      " 15%|█▍        | 22/150 [00:18<02:05,  1.02it/s]"
     ]
    },
    {
     "name": "stdout",
     "output_type": "stream",
     "text": [
      "\n",
      "predicted answer set was supposed to be empty for sample #21\n"
     ]
    },
    {
     "name": "stderr",
     "output_type": "stream",
     "text": [
      " 16%|█▌        | 24/150 [00:19<01:44,  1.21it/s]"
     ]
    },
    {
     "name": "stdout",
     "output_type": "stream",
     "text": [
      "\n",
      "empty predicted answer set for sample #23\n"
     ]
    },
    {
     "name": "stderr",
     "output_type": "stream",
     "text": [
      "\r 17%|█▋        | 25/150 [00:20<01:37,  1.28it/s]"
     ]
    },
    {
     "name": "stdout",
     "output_type": "stream",
     "text": [
      "\n",
      "error executing SPARQL query: EndPointInternalError: The endpoint returned the HTTP status code 500. \n",
      "\n",
      "Response:\n",
      "b'Virtuoso 42000 Error SR186:SECURITY: No permission to execute procedure DB.DBA.SPARUL_RUN with user ID 111, group ID 111\\n\\nSPARQL query:\\n#output-format:application/sparql-results+json\\n\\n'\n",
      "\n",
      "syntax error for sample #24\n"
     ]
    },
    {
     "name": "stderr",
     "output_type": "stream",
     "text": [
      " 18%|█▊        | 27/150 [00:21<01:29,  1.37it/s]"
     ]
    },
    {
     "name": "stdout",
     "output_type": "stream",
     "text": [
      "\n",
      "empty predicted answer set for sample #26\n"
     ]
    },
    {
     "name": "stderr",
     "output_type": "stream",
     "text": [
      "\r 19%|█▊        | 28/150 [00:22<01:27,  1.40it/s]"
     ]
    },
    {
     "name": "stdout",
     "output_type": "stream",
     "text": [
      "\n",
      "predicted answer set was supposed to be empty for sample #27\n"
     ]
    },
    {
     "name": "stderr",
     "output_type": "stream",
     "text": [
      " 21%|██▏       | 32/150 [00:26<01:44,  1.13it/s]"
     ]
    },
    {
     "name": "stdout",
     "output_type": "stream",
     "text": [
      "\n",
      "error executing SPARQL query: EndPointInternalError: The endpoint returned the HTTP status code 500. \n",
      "\n",
      "Response:\n",
      "b'Virtuoso 42000 Error SR186:SECURITY: No permission to execute procedure DB.DBA.SPARUL_RUN with user ID 111, group ID 111\\n\\nSPARQL query:\\n#output-format:application/sparql-results+json\\n\\n'\n",
      "\n",
      "syntax error for sample #31\n"
     ]
    },
    {
     "name": "stderr",
     "output_type": "stream",
     "text": [
      " 25%|██▍       | 37/150 [00:29<01:20,  1.40it/s]"
     ]
    },
    {
     "name": "stdout",
     "output_type": "stream",
     "text": [
      "\n",
      "empty predicted answer set for sample #36\n"
     ]
    },
    {
     "name": "stderr",
     "output_type": "stream",
     "text": [
      " 27%|██▋       | 40/150 [00:43<07:37,  4.16s/it]"
     ]
    },
    {
     "name": "stdout",
     "output_type": "stream",
     "text": [
      "\n",
      "predicted answer set was supposed to be empty for sample #39\n"
     ]
    },
    {
     "name": "stderr",
     "output_type": "stream",
     "text": [
      "\r 27%|██▋       | 41/150 [00:43<05:39,  3.11s/it]"
     ]
    },
    {
     "name": "stdout",
     "output_type": "stream",
     "text": [
      "\n",
      "predicted answer set was supposed to be empty for sample #40\n"
     ]
    },
    {
     "name": "stderr",
     "output_type": "stream",
     "text": [
      " 29%|██▉       | 44/150 [00:45<02:39,  1.51s/it]"
     ]
    },
    {
     "name": "stdout",
     "output_type": "stream",
     "text": [
      "\n",
      "predicted answer set was supposed to be empty for sample #43\n"
     ]
    },
    {
     "name": "stderr",
     "output_type": "stream",
     "text": [
      "\r 30%|███       | 45/150 [00:46<02:12,  1.26s/it]"
     ]
    },
    {
     "name": "stdout",
     "output_type": "stream",
     "text": [
      "\n",
      "empty predicted answer set for sample #44\n"
     ]
    },
    {
     "name": "stderr",
     "output_type": "stream",
     "text": [
      " 35%|███▌      | 53/150 [00:52<01:09,  1.40it/s]"
     ]
    },
    {
     "name": "stdout",
     "output_type": "stream",
     "text": [
      "\n",
      "empty predicted answer set for sample #52\n"
     ]
    },
    {
     "name": "stderr",
     "output_type": "stream",
     "text": [
      " 37%|███▋      | 56/150 [00:54<01:05,  1.44it/s]"
     ]
    },
    {
     "name": "stdout",
     "output_type": "stream",
     "text": [
      "\n",
      "results are not of type boolean for sample #55\n"
     ]
    },
    {
     "name": "stderr",
     "output_type": "stream",
     "text": [
      "\r 38%|███▊      | 57/150 [00:54<01:03,  1.45it/s]"
     ]
    },
    {
     "name": "stdout",
     "output_type": "stream",
     "text": [
      "\n",
      "error executing SPARQL query: QueryBadFormed: A bad request has been sent to the endpoint: probably the SPARQL query is badly formed. \n",
      "\n",
      "Response:\n",
      "b\"Virtuoso 37000 Error SP030: SPARQL compiler, line 5: Undefined namespace prefix in prefix:localpart notation at 'dct:subject' before 'dbc:Missions_to_the_Sun'\\n\\nSPARQL query:\\n#output-format:application/sparql-results+json\\nSELECT DISTINCT ?probe\\nWHERE {\\n  ?probe rdf:type dbo:Satellite .\\n  ?probe dct:subject dbc:Missions_to_the_Sun .\\n}\\n\"\n",
      "\n",
      "syntax error for sample #56\n"
     ]
    },
    {
     "name": "stderr",
     "output_type": "stream",
     "text": [
      "\r 39%|███▊      | 58/150 [00:55<01:02,  1.46it/s]"
     ]
    },
    {
     "name": "stdout",
     "output_type": "stream",
     "text": [
      "\n",
      "error executing SPARQL query: EndPointInternalError: The endpoint returned the HTTP status code 500. \n",
      "\n",
      "Response:\n",
      "b'Virtuoso 42000 Error SR186:SECURITY: No permission to execute procedure DB.DBA.SPARUL_RUN with user ID 111, group ID 111\\n\\nSPARQL query:\\n#output-format:application/sparql-results+json\\n\\n'\n",
      "\n",
      "syntax error for sample #57\n"
     ]
    },
    {
     "name": "stderr",
     "output_type": "stream",
     "text": [
      "\r 39%|███▉      | 59/150 [00:56<01:01,  1.47it/s]"
     ]
    },
    {
     "name": "stdout",
     "output_type": "stream",
     "text": [
      "\n",
      "empty predicted answer set for sample #58\n"
     ]
    },
    {
     "name": "stderr",
     "output_type": "stream",
     "text": [
      "\r 40%|████      | 60/150 [00:56<01:01,  1.47it/s]"
     ]
    },
    {
     "name": "stdout",
     "output_type": "stream",
     "text": [
      "\n",
      "error executing SPARQL query: EndPointInternalError: The endpoint returned the HTTP status code 500. \n",
      "\n",
      "Response:\n",
      "b'Virtuoso 42000 Error SR186:SECURITY: No permission to execute procedure DB.DBA.SPARUL_RUN with user ID 111, group ID 111\\n\\nSPARQL query:\\n#output-format:application/sparql-results+json\\n\\n'\n",
      "\n",
      "syntax error for sample #59\n"
     ]
    },
    {
     "name": "stderr",
     "output_type": "stream",
     "text": [
      " 41%|████▏     | 62/150 [00:58<00:59,  1.47it/s]"
     ]
    },
    {
     "name": "stdout",
     "output_type": "stream",
     "text": [
      "\n",
      "error executing SPARQL query: QueryBadFormed: A bad request has been sent to the endpoint: probably the SPARQL query is badly formed. \n",
      "\n",
      "Response:\n",
      "b\"Virtuoso 37000 Error SP030: SPARQL compiler, line 4: Undefined namespace prefix in prefix:localpart notation at 'dct:subject' before '<http://dbpedia.org/resource/Category:James_Bond_films>'\\n\\nSPARQL query:\\n#output-format:application/sparql-results+json\\nSELECT (COUNT(?uri) AS ?count)\\nWHERE {\\n  ?uri dct:subject <http://dbpedia.org/resource/Category:James_Bond_films> .\\n}\\n\"\n",
      "\n",
      "syntax error for sample #61\n"
     ]
    },
    {
     "name": "stderr",
     "output_type": "stream",
     "text": [
      " 43%|████▎     | 64/150 [00:59<00:58,  1.48it/s]"
     ]
    },
    {
     "name": "stdout",
     "output_type": "stream",
     "text": [
      "\n",
      "predicted answer set was supposed to be empty for sample #63\n"
     ]
    },
    {
     "name": "stderr",
     "output_type": "stream",
     "text": [
      " 45%|████▍     | 67/150 [01:01<00:58,  1.42it/s]"
     ]
    },
    {
     "name": "stdout",
     "output_type": "stream",
     "text": [
      "\n",
      "error executing SPARQL query: EndPointInternalError: The endpoint returned the HTTP status code 500. \n",
      "\n",
      "Response:\n",
      "b'Virtuoso 42000 Error SR186:SECURITY: No permission to execute procedure DB.DBA.SPARUL_RUN with user ID 111, group ID 111\\n\\nSPARQL query:\\n#output-format:application/sparql-results+json\\n\\n'\n",
      "\n",
      "syntax error for sample #66\n"
     ]
    },
    {
     "name": "stderr",
     "output_type": "stream",
     "text": [
      "\r 45%|████▌     | 68/150 [01:02<00:57,  1.43it/s]"
     ]
    },
    {
     "name": "stdout",
     "output_type": "stream",
     "text": [
      "\n",
      "error executing SPARQL query: QueryBadFormed: A bad request has been sent to the endpoint: probably the SPARQL query is badly formed. \n",
      "\n",
      "Response:\n",
      "b\"Virtuoso 37000 Error SP030: SPARQL compiler, line 6: Undefined namespace prefix in prefix:localpart notation at 'dct:subject' before 'dbc:Countries_in_Africa'\\n\\nSPARQL query:\\n#output-format:application/sparql-results+json\\nSELECT ?volcano ?elevation\\nWHERE {\\n  ?volcano a <http://dbpedia.org/ontology/Volcano> .\\n  ?volcano <http://dbpedia.org/ontology/locatedInArea> ?area .\\n  ?area dct:subject dbc:Countries_in_Africa .\\n  ?volcano <http://dbpedia.org/ontology/elevation> ?elevation .\\n}\\nORDER BY DESC(?elevation)\\nLIMIT 1\\n\"\n",
      "\n",
      "syntax error for sample #67\n"
     ]
    },
    {
     "name": "stderr",
     "output_type": "stream",
     "text": [
      "\r 46%|████▌     | 69/150 [01:03<00:56,  1.44it/s]"
     ]
    },
    {
     "name": "stdout",
     "output_type": "stream",
     "text": [
      "\n",
      "results dict has more keys than expected for sample #68\n"
     ]
    },
    {
     "name": "stderr",
     "output_type": "stream",
     "text": [
      " 47%|████▋     | 71/150 [01:04<00:54,  1.45it/s]"
     ]
    },
    {
     "name": "stdout",
     "output_type": "stream",
     "text": [
      "\n",
      "error executing SPARQL query: QueryBadFormed: A bad request has been sent to the endpoint: probably the SPARQL query is badly formed. \n",
      "\n",
      "Response:\n",
      "b\"Virtuoso 37000 Error SP030: SPARQL compiler, line 5: Undefined namespace prefix in prefix:localpart notation at 'dct:subject' before 'dbc:Mars_rovers'\\n\\nSPARQL query:\\n#output-format:application/sparql-results+json\\nSELECT ?spacecraft\\nWHERE {\\n  ?spacecraft rdf:type dbo:Satellite .\\n  ?spacecraft dct:subject dbc:Mars_rovers .\\n}\\n\"\n",
      "\n",
      "syntax error for sample #70\n"
     ]
    },
    {
     "name": "stderr",
     "output_type": "stream",
     "text": [
      "\r 48%|████▊     | 72/150 [01:05<00:53,  1.45it/s]"
     ]
    },
    {
     "name": "stdout",
     "output_type": "stream",
     "text": [
      "\n",
      "empty predicted answer set for sample #71\n"
     ]
    },
    {
     "name": "stderr",
     "output_type": "stream",
     "text": [
      " 49%|████▉     | 74/150 [01:06<00:52,  1.46it/s]"
     ]
    },
    {
     "name": "stdout",
     "output_type": "stream",
     "text": [
      "\n",
      "error executing SPARQL query: QueryBadFormed: A bad request has been sent to the endpoint: probably the SPARQL query is badly formed. \n",
      "\n",
      "Response:\n",
      "b\"Virtuoso 37000 Error SP030: SPARQL compiler, line 16: syntax error at '<' before 'http:'\\n\\nSPARQL query:\\n#output-format:application/sparql-results+json\\nSELECT ?x\\nWHERE {\\n  ?x a <http://dbpedia.org/ontology/Volcano> .\\n  {\\n    ?x <http://dbpedia.org/ontology/locatedInArea> <http://dbpedia.org/resource/Java> .\\n  } UNION {\\n    ?x <http://dbpedia.org/ontology/locatedInArea> <http://dbpedia.org/resource/Russia> .\\n  } UNION {\\n    ?x <http://dbpedia.org/ontology/locatedInArea> <http://dbpedia.org/resource/Chile> .\\n  } UNION {\\n    ?x <http://dbpedia.org/ontology/locatedInArea> <http://dbpedia.org/resource/Hokkaido> .\\n  } UNION {\\n    ?x <http://dbpedia.org/ontology/locatedInArea> <http://dbpedia.org/resource/El_Salvador> .\\n  } UNION {\\n    ?x <http://dbpedia\\n\"\n",
      "\n",
      "syntax error for sample #73\n"
     ]
    },
    {
     "name": "stderr",
     "output_type": "stream",
     "text": [
      " 51%|█████▏    | 77/150 [01:08<00:49,  1.47it/s]"
     ]
    },
    {
     "name": "stdout",
     "output_type": "stream",
     "text": [
      "\n",
      "empty predicted answer set for sample #76\n"
     ]
    },
    {
     "name": "stderr",
     "output_type": "stream",
     "text": [
      "\r 52%|█████▏    | 78/150 [01:09<00:48,  1.48it/s]"
     ]
    },
    {
     "name": "stdout",
     "output_type": "stream",
     "text": [
      "\n",
      "error executing SPARQL query: EndPointInternalError: The endpoint returned the HTTP status code 500. \n",
      "\n",
      "Response:\n",
      "b'Virtuoso 42000 Error SR186:SECURITY: No permission to execute procedure DB.DBA.SPARUL_RUN with user ID 111, group ID 111\\n\\nSPARQL query:\\n#output-format:application/sparql-results+json\\n\\n'\n",
      "\n",
      "syntax error for sample #77\n"
     ]
    },
    {
     "name": "stderr",
     "output_type": "stream",
     "text": [
      " 55%|█████▌    | 83/150 [01:12<00:45,  1.47it/s]"
     ]
    },
    {
     "name": "stdout",
     "output_type": "stream",
     "text": [
      "\n",
      "predicted answer set was supposed to be empty for sample #82\n"
     ]
    },
    {
     "name": "stderr",
     "output_type": "stream",
     "text": [
      " 57%|█████▋    | 86/150 [01:14<00:43,  1.47it/s]"
     ]
    },
    {
     "name": "stdout",
     "output_type": "stream",
     "text": [
      "\n",
      "results are not of type boolean for sample #85\n"
     ]
    },
    {
     "name": "stderr",
     "output_type": "stream",
     "text": [
      " 60%|██████    | 90/150 [01:17<00:42,  1.41it/s]"
     ]
    },
    {
     "name": "stdout",
     "output_type": "stream",
     "text": [
      "\n",
      "error executing SPARQL query: EndPointInternalError: The endpoint returned the HTTP status code 500. \n",
      "\n",
      "Response:\n",
      "b'Virtuoso 42000 Error SR186:SECURITY: No permission to execute procedure DB.DBA.SPARUL_RUN with user ID 111, group ID 111\\n\\nSPARQL query:\\n#output-format:application/sparql-results+json\\n\\n'\n",
      "\n",
      "syntax error for sample #89\n"
     ]
    },
    {
     "name": "stderr",
     "output_type": "stream",
     "text": [
      " 62%|██████▏   | 93/150 [01:21<00:54,  1.04it/s]"
     ]
    },
    {
     "name": "stdout",
     "output_type": "stream",
     "text": [
      "\n",
      "empty predicted answer set for sample #92\n"
     ]
    },
    {
     "name": "stderr",
     "output_type": "stream",
     "text": [
      " 64%|██████▍   | 96/150 [01:23<00:41,  1.29it/s]"
     ]
    },
    {
     "name": "stdout",
     "output_type": "stream",
     "text": [
      "\n",
      "error executing SPARQL query: EndPointInternalError: The endpoint returned the HTTP status code 500. \n",
      "\n",
      "Response:\n",
      "b'Virtuoso 42000 Error SR186:SECURITY: No permission to execute procedure DB.DBA.SPARUL_RUN with user ID 111, group ID 111\\n\\nSPARQL query:\\n#output-format:application/sparql-results+json\\n\\n'\n",
      "\n",
      "syntax error for sample #95\n"
     ]
    },
    {
     "name": "stderr",
     "output_type": "stream",
     "text": [
      " 67%|██████▋   | 101/150 [01:26<00:33,  1.45it/s]"
     ]
    },
    {
     "name": "stdout",
     "output_type": "stream",
     "text": [
      "\n",
      "error executing SPARQL query: QueryBadFormed: A bad request has been sent to the endpoint: probably the SPARQL query is badly formed. \n",
      "\n",
      "Response:\n",
      "b'Virtuoso 37000 Error SP030: SPARQL compiler, line 21: syntax error at \\'}\\'\\n\\nSPARQL query:\\n#output-format:application/sparql-results+json\\nSELECT DISTINCT ?person\\nWHERE {\\n  {\\n    <http://dbpedia.org/resource/Al_Capone> <http://dbpedia.org/ontology/alias> ?alias .\\n    FILTER (CONTAINS(LCASE(?alias), \"scarface\"))\\n  }\\n  UNION\\n  {\\n    <http://dbpedia.org/resource/Scarface_(rapper)> <http://dbpedia.org/ontology/alias> ?alias .\\n    FILTER (CONTAINS(LCASE(?alias), \"scarface\"))\\n  }\\n  UNION\\n  {\\n    <http://dbpedia.org/resource/%22Scarface%22_John_Williams> <http://dbpedia.org/ontology/alias> ?alias .\\n    FILTER (CONTAINS(LCASE(?alias), \"scarface\"))\\n  }\\n  UNION\\n  {\\n    <http://dbpedia.org/resource/Jos\\xc3\\xa9_Rodrigo_Ar\\xc3\\xa9chiga_Gamboa> <http://dbpedia.org/ontology/alias>\\n'\n",
      "\n",
      "syntax error for sample #100\n"
     ]
    },
    {
     "name": "stderr",
     "output_type": "stream",
     "text": [
      "\r 68%|██████▊   | 102/150 [01:27<00:32,  1.45it/s]"
     ]
    },
    {
     "name": "stdout",
     "output_type": "stream",
     "text": [
      "\n",
      "empty predicted answer set for sample #101\n"
     ]
    },
    {
     "name": "stderr",
     "output_type": "stream",
     "text": [
      "\r 69%|██████▊   | 103/150 [01:28<00:32,  1.46it/s]"
     ]
    },
    {
     "name": "stdout",
     "output_type": "stream",
     "text": [
      "\n",
      "error executing SPARQL query: EndPointInternalError: The endpoint returned the HTTP status code 500. \n",
      "\n",
      "Response:\n",
      "b'Virtuoso 42000 Error SR186:SECURITY: No permission to execute procedure DB.DBA.SPARUL_RUN with user ID 111, group ID 111\\n\\nSPARQL query:\\n#output-format:application/sparql-results+json\\n\\n'\n",
      "\n",
      "syntax error for sample #102\n"
     ]
    },
    {
     "name": "stderr",
     "output_type": "stream",
     "text": [
      "\r 69%|██████▉   | 104/150 [01:28<00:31,  1.46it/s]"
     ]
    },
    {
     "name": "stdout",
     "output_type": "stream",
     "text": [
      "\n",
      "error executing SPARQL query: QueryBadFormed: A bad request has been sent to the endpoint: probably the SPARQL query is badly formed. \n",
      "\n",
      "Response:\n",
      "b\"Virtuoso 37000 Error SP030: SPARQL compiler, line 7: syntax error at 'type' before '<http://dbpedia.org/class/yago/WikicatDaughtersOfBritishEarls>'\\n\\nSPARQL query:\\n#output-format:application/sparql-results+json\\nSELECT ?daughter ?birthPlace ?deathPlace\\nWHERE {\\n  {\\n    SELECT ?daughter ?birthPlace\\n    WHERE {\\n      ?daughter <http://www.w3.org/1999/02/22-rdf-syntax-ns#>type <http://dbpedia.org/class/yago/WikicatDaughtersOfBritishEarls> .\\n      ?daughter <http://dbpedia.org/ontology/birthPlace> ?birthPlace .\\n    }\\n  }\\n  ?daughter <http://dbpedia.org/ontology/deathPlace> ?deathPlace .\\n  FILTER (?birthPlace = ?deathPlace)\\n}\\nLIMIT 100\\n\"\n",
      "\n",
      "syntax error for sample #103\n"
     ]
    },
    {
     "name": "stderr",
     "output_type": "stream",
     "text": [
      "\r 70%|███████   | 105/150 [01:29<00:30,  1.46it/s]"
     ]
    },
    {
     "name": "stdout",
     "output_type": "stream",
     "text": [
      "\n",
      "error executing SPARQL query: EndPointInternalError: The endpoint returned the HTTP status code 500. \n",
      "\n",
      "Response:\n",
      "b'Virtuoso 42000 Error SR186:SECURITY: No permission to execute procedure DB.DBA.SPARUL_RUN with user ID 111, group ID 111\\n\\nSPARQL query:\\n#output-format:application/sparql-results+json\\n\\n'\n",
      "\n",
      "syntax error for sample #104\n"
     ]
    },
    {
     "name": "stderr",
     "output_type": "stream",
     "text": [
      " 72%|███████▏  | 108/150 [01:31<00:30,  1.38it/s]"
     ]
    },
    {
     "name": "stdout",
     "output_type": "stream",
     "text": [
      "\n",
      "error executing SPARQL query: EndPointInternalError: The endpoint returned the HTTP status code 500. \n",
      "\n",
      "Response:\n",
      "b'Virtuoso 42000 Error SR186:SECURITY: No permission to execute procedure DB.DBA.SPARUL_RUN with user ID 111, group ID 111\\n\\nSPARQL query:\\n#output-format:application/sparql-results+json\\n\\n'\n",
      "\n",
      "syntax error for sample #107\n"
     ]
    },
    {
     "name": "stderr",
     "output_type": "stream",
     "text": [
      "\r 73%|███████▎  | 109/150 [01:32<00:29,  1.41it/s]"
     ]
    },
    {
     "name": "stdout",
     "output_type": "stream",
     "text": [
      "\n",
      "error executing SPARQL query: EndPointInternalError: The endpoint returned the HTTP status code 500. \n",
      "\n",
      "Response:\n",
      "b'Virtuoso 42000 Error SR186:SECURITY: No permission to execute procedure DB.DBA.SPARUL_RUN with user ID 111, group ID 111\\n\\nSPARQL query:\\n#output-format:application/sparql-results+json\\n\\n'\n",
      "\n",
      "syntax error for sample #108\n"
     ]
    },
    {
     "name": "stderr",
     "output_type": "stream",
     "text": [
      "\r 73%|███████▎  | 110/150 [01:33<00:28,  1.42it/s]"
     ]
    },
    {
     "name": "stdout",
     "output_type": "stream",
     "text": [
      "\n",
      "results dict has more keys than expected for sample #109\n"
     ]
    },
    {
     "name": "stderr",
     "output_type": "stream",
     "text": [
      "\r 74%|███████▍  | 111/150 [01:33<00:27,  1.43it/s]"
     ]
    },
    {
     "name": "stdout",
     "output_type": "stream",
     "text": [
      "\n",
      "error executing SPARQL query: EndPointInternalError: The endpoint returned the HTTP status code 500. \n",
      "\n",
      "Response:\n",
      "b'Virtuoso 42000 Error SR186:SECURITY: No permission to execute procedure DB.DBA.SPARUL_RUN with user ID 111, group ID 111\\n\\nSPARQL query:\\n#output-format:application/sparql-results+json\\n\\n'\n",
      "\n",
      "syntax error for sample #110\n"
     ]
    },
    {
     "name": "stderr",
     "output_type": "stream",
     "text": [
      "\r 75%|███████▍  | 112/150 [01:34<00:26,  1.44it/s]"
     ]
    },
    {
     "name": "stdout",
     "output_type": "stream",
     "text": [
      "\n",
      "error executing SPARQL query: EndPointInternalError: The endpoint returned the HTTP status code 500. \n",
      "\n",
      "Response:\n",
      "b'Virtuoso 42000 Error SR186:SECURITY: No permission to execute procedure DB.DBA.SPARUL_RUN with user ID 111, group ID 111\\n\\nSPARQL query:\\n#output-format:application/sparql-results+json\\n\\n'\n",
      "\n",
      "syntax error for sample #111\n"
     ]
    },
    {
     "name": "stderr",
     "output_type": "stream",
     "text": [
      "\r 75%|███████▌  | 113/150 [01:35<00:25,  1.45it/s]"
     ]
    },
    {
     "name": "stdout",
     "output_type": "stream",
     "text": [
      "\n",
      "error executing SPARQL query: EndPointInternalError: The endpoint returned the HTTP status code 500. \n",
      "\n",
      "Response:\n",
      "b'Virtuoso 42000 Error SR186:SECURITY: No permission to execute procedure DB.DBA.SPARUL_RUN with user ID 111, group ID 111\\n\\nSPARQL query:\\n#output-format:application/sparql-results+json\\n\\n'\n",
      "\n",
      "syntax error for sample #112\n"
     ]
    },
    {
     "name": "stderr",
     "output_type": "stream",
     "text": [
      " 77%|███████▋  | 115/150 [01:36<00:23,  1.46it/s]"
     ]
    },
    {
     "name": "stdout",
     "output_type": "stream",
     "text": [
      "\n",
      "error executing SPARQL query: EndPointInternalError: The endpoint returned the HTTP status code 500. \n",
      "\n",
      "Response:\n",
      "b'Virtuoso 42000 Error SR186:SECURITY: No permission to execute procedure DB.DBA.SPARUL_RUN with user ID 111, group ID 111\\n\\nSPARQL query:\\n#output-format:application/sparql-results+json\\n\\n'\n",
      "\n",
      "syntax error for sample #114\n"
     ]
    },
    {
     "name": "stderr",
     "output_type": "stream",
     "text": [
      "\r 77%|███████▋  | 116/150 [01:37<00:23,  1.47it/s]"
     ]
    },
    {
     "name": "stdout",
     "output_type": "stream",
     "text": [
      "\n",
      "error executing SPARQL query: EndPointInternalError: The endpoint returned the HTTP status code 500. \n",
      "\n",
      "Response:\n",
      "b'Virtuoso 42000 Error SR186:SECURITY: No permission to execute procedure DB.DBA.SPARUL_RUN with user ID 111, group ID 111\\n\\nSPARQL query:\\n#output-format:application/sparql-results+json\\n\\n'\n",
      "\n",
      "syntax error for sample #115\n"
     ]
    },
    {
     "name": "stderr",
     "output_type": "stream",
     "text": [
      " 79%|███████▉  | 119/150 [01:39<00:23,  1.34it/s]"
     ]
    },
    {
     "name": "stdout",
     "output_type": "stream",
     "text": [
      "\n",
      "results are not of type boolean for sample #118\n"
     ]
    },
    {
     "name": "stderr",
     "output_type": "stream",
     "text": [
      " 82%|████████▏ | 123/150 [01:42<00:18,  1.44it/s]"
     ]
    },
    {
     "name": "stdout",
     "output_type": "stream",
     "text": [
      "\n",
      "error executing SPARQL query: EndPointInternalError: The endpoint returned the HTTP status code 500. \n",
      "\n",
      "Response:\n",
      "b'Virtuoso 42000 Error SR186:SECURITY: No permission to execute procedure DB.DBA.SPARUL_RUN with user ID 111, group ID 111\\n\\nSPARQL query:\\n#output-format:application/sparql-results+json\\n\\n'\n",
      "\n",
      "syntax error for sample #122\n"
     ]
    },
    {
     "name": "stderr",
     "output_type": "stream",
     "text": [
      "\r 83%|████████▎ | 124/150 [01:43<00:17,  1.45it/s]"
     ]
    },
    {
     "name": "stdout",
     "output_type": "stream",
     "text": [
      "\n",
      "empty predicted answer set for sample #123\n"
     ]
    },
    {
     "name": "stderr",
     "output_type": "stream",
     "text": [
      " 87%|████████▋ | 130/150 [01:47<00:13,  1.47it/s]"
     ]
    },
    {
     "name": "stdout",
     "output_type": "stream",
     "text": [
      "\n",
      "error executing SPARQL query: EndPointInternalError: The endpoint returned the HTTP status code 500. \n",
      "\n",
      "Response:\n",
      "b'Virtuoso 42000 Error SR186:SECURITY: No permission to execute procedure DB.DBA.SPARUL_RUN with user ID 111, group ID 111\\n\\nSPARQL query:\\n#output-format:application/sparql-results+json\\n\\n'\n",
      "\n",
      "syntax error for sample #129\n"
     ]
    },
    {
     "name": "stderr",
     "output_type": "stream",
     "text": [
      " 89%|████████▊ | 133/150 [01:49<00:11,  1.48it/s]"
     ]
    },
    {
     "name": "stdout",
     "output_type": "stream",
     "text": [
      "\n",
      "error executing SPARQL query: EndPointInternalError: The endpoint returned the HTTP status code 500. \n",
      "\n",
      "Response:\n",
      "b'Virtuoso 42000 Error SR186:SECURITY: No permission to execute procedure DB.DBA.SPARUL_RUN with user ID 111, group ID 111\\n\\nSPARQL query:\\n#output-format:application/sparql-results+json\\n\\n'\n",
      "\n",
      "syntax error for sample #132\n"
     ]
    },
    {
     "name": "stderr",
     "output_type": "stream",
     "text": [
      " 90%|█████████ | 135/150 [01:50<00:10,  1.48it/s]"
     ]
    },
    {
     "name": "stdout",
     "output_type": "stream",
     "text": [
      "\n",
      "empty predicted answer set for sample #134\n"
     ]
    },
    {
     "name": "stderr",
     "output_type": "stream",
     "text": [
      " 92%|█████████▏| 138/150 [01:52<00:08,  1.48it/s]"
     ]
    },
    {
     "name": "stdout",
     "output_type": "stream",
     "text": [
      "\n",
      "empty predicted answer set for sample #137\n"
     ]
    },
    {
     "name": "stderr",
     "output_type": "stream",
     "text": [
      "\r 93%|█████████▎| 139/150 [01:53<00:07,  1.48it/s]"
     ]
    },
    {
     "name": "stdout",
     "output_type": "stream",
     "text": [
      "\n",
      "empty predicted answer set for sample #138\n"
     ]
    },
    {
     "name": "stderr",
     "output_type": "stream",
     "text": [
      "\r 93%|█████████▎| 140/150 [01:53<00:06,  1.47it/s]"
     ]
    },
    {
     "name": "stdout",
     "output_type": "stream",
     "text": [
      "\n",
      "error executing SPARQL query: EndPointInternalError: The endpoint returned the HTTP status code 500. \n",
      "\n",
      "Response:\n",
      "b'Virtuoso 42000 Error SR186:SECURITY: No permission to execute procedure DB.DBA.SPARUL_RUN with user ID 111, group ID 111\\n\\nSPARQL query:\\n#output-format:application/sparql-results+json\\n\\n'\n",
      "\n",
      "syntax error for sample #139\n"
     ]
    },
    {
     "name": "stderr",
     "output_type": "stream",
     "text": [
      "\r 94%|█████████▍| 141/150 [01:54<00:06,  1.47it/s]"
     ]
    },
    {
     "name": "stdout",
     "output_type": "stream",
     "text": [
      "\n",
      "results dict has more keys than expected for sample #140\n"
     ]
    },
    {
     "name": "stderr",
     "output_type": "stream",
     "text": [
      " 95%|█████████▌| 143/150 [01:55<00:04,  1.47it/s]"
     ]
    },
    {
     "name": "stdout",
     "output_type": "stream",
     "text": [
      "\n",
      "results dict has more keys than expected for sample #142\n"
     ]
    },
    {
     "name": "stderr",
     "output_type": "stream",
     "text": [
      "\r 96%|█████████▌| 144/150 [01:56<00:04,  1.48it/s]"
     ]
    },
    {
     "name": "stdout",
     "output_type": "stream",
     "text": [
      "\n",
      "empty predicted answer set for sample #143\n"
     ]
    },
    {
     "name": "stderr",
     "output_type": "stream",
     "text": [
      " 97%|█████████▋| 146/150 [01:57<00:02,  1.47it/s]"
     ]
    },
    {
     "name": "stdout",
     "output_type": "stream",
     "text": [
      "\n",
      "error executing SPARQL query: QueryBadFormed: A bad request has been sent to the endpoint: probably the SPARQL query is badly formed. \n",
      "\n",
      "Response:\n",
      "b\"Virtuoso 37000 Error SP030: SPARQL compiler, line 5: syntax error at '}' before '}'\\n\\nSPARQL query:\\n#output-format:application/sparql-results+json\\nSELECT ?trail\\nWHERE {\\n  ?trail <http://dbpedia.org/property/hazards> ?hazard .\\n  FILTER NOT EXISTS { ?hazard <http://dbpedia.org/resource/Flash_flood> }\\n}\\n\"\n",
      "\n",
      "syntax error for sample #145\n"
     ]
    },
    {
     "name": "stderr",
     "output_type": "stream",
     "text": [
      "100%|██████████| 150/150 [02:00<00:00,  1.24it/s]"
     ]
    },
    {
     "name": "stdout",
     "output_type": "stream",
     "text": [
      "\n",
      "error executing SPARQL query: QueryBadFormed: A bad request has been sent to the endpoint: probably the SPARQL query is badly formed. \n",
      "\n",
      "Response:\n",
      "b'Virtuoso 37000 Error SP030: SPARQL compiler, line 4: Undefined namespace prefix in prefix:localpart notation at \\'dct:subject\\' before \\'dbc:Christopher_Columbus\\'\\n\\nSPARQL query:\\n#output-format:application/sparql-results+json\\nSELECT ?shipName WHERE {\\n  ?ship rdf:type dbo:Ship .\\n  ?ship dct:subject dbc:Christopher_Columbus .\\n  ?ship rdfs:label ?shipName .\\n  FILTER(lang(?shipName) = \"en\")\\n} LIMIT 3\\n'\n",
      "\n",
      "syntax error for sample #149\n",
      "\n",
      "acc: 0.44156736595165247\n",
      "rec: 0.4510722420339772\n",
      "pre: 0.44156736595165247\n",
      "f1: 0.4409470498880054\n"
     ]
    },
    {
     "name": "stderr",
     "output_type": "stream",
     "text": [
      "\n"
     ]
    }
   ],
   "source": [
    "import requests\n",
    "import json\n",
    "from SPARQLWrapper import SPARQLWrapper, JSON\n",
    "from copy import deepcopy\n",
    "dbpedia_endpoint = \"http://dbpedia.org/sparql\"\n",
    "\n",
    "def execute_sparql_query(query):\n",
    "    sparql = SPARQLWrapper(dbpedia_endpoint)\n",
    "    sparql.setQuery(query)\n",
    "    sparql.setReturnFormat(JSON)\n",
    "\n",
    "    try:\n",
    "        results = sparql.queryAndConvert()\n",
    "        return results\n",
    "    except Exception as e:\n",
    "        print(f\"\\nerror executing SPARQL query: {e}\")\n",
    "        return None\n",
    "\n",
    "def process_text(txt):\n",
    "    return txt.strip().lower().replace(':','').replace('.','').replace('/','').replace('_','')\n",
    "\n",
    "def eval(gold, pred, boolean=False):\n",
    "    TP, FP, FN = 0, 0, 0\n",
    "    for item in pred:\n",
    "        new_item = process_text(item) if not boolean else item\n",
    "        if new_item in gold:\n",
    "            TP += 1\n",
    "        else:\n",
    "            FP += 1\n",
    "    pred = list(map(lambda x: process_text(x), pred)) if not boolean else pred\n",
    "    for item in gold:\n",
    "        if item not in pred:\n",
    "            FN += 1\n",
    "    acc = TP / len(pred)\n",
    "    recall = TP / (TP + FN)\n",
    "    precision = TP / (TP + FP)\n",
    "    f1 = ((2 * (precision * recall)) / (precision + recall)) if (precision + recall != 0) else 0\n",
    "    rec, pre = recall, precision\n",
    "    return acc, rec, pre, f1\n",
    "\n",
    "queries = []\n",
    "with open('/content/gpt-3.5-turbo-tri-10_qald-9-plus.json', 'r') as f:\n",
    "  data = json.load(f)\n",
    "  queries = [d['pred_sparql'] for d in data]\n",
    "  ids = [d['id'] for d in data]\n",
    "  gold_ans = [d['gold_answers'] for d in data]\n",
    "  for j in range(len(gold_ans)):\n",
    "      if len(list(gold_ans[j].keys())) == 0:\n",
    "          ans = []\n",
    "      else:\n",
    "          assert len(list(gold_ans[j].keys())) == 1\n",
    "          gold_ans[j] = deepcopy(next(iter(gold_ans[j].values())))\n",
    "\n",
    "total_acc, total_rec, total_pre, total_f1 = 0, 0, 0, 0\n",
    "for i in trange(len(queries)):\n",
    "    query = queries[i]\n",
    "    pred_answers = {}\n",
    "    results = execute_sparql_query(query)\n",
    "    if (type(gold_ans[i]) != bool and len(gold_ans[i]) == 0) and (not results): # if results == None -> syntax error\n",
    "        print(f'\\nsyntax error for sample #{ids[i]}')\n",
    "        total_acc += 1\n",
    "        total_rec += 1\n",
    "        total_pre += 1\n",
    "        total_f1 += 1\n",
    "        continue\n",
    "    elif type(gold_ans[i]) != bool and (len(gold_ans[i]) > 0) and (not results): # if results == None -> syntax error\n",
    "        print(f'\\nsyntax error for sample #{ids[i]}')\n",
    "        continue\n",
    "    elif type(gold_ans[i]) == bool and (not results):\n",
    "        print(f'\\nsyntax error for sample #{ids[i]}')\n",
    "        continue\n",
    "    if 'boolean' in results.keys():\n",
    "        acc, rec, pre, f1 = eval([gold_ans[i]], [results['boolean']], boolean=True)\n",
    "        total_acc += acc\n",
    "        total_rec += rec\n",
    "        total_pre += pre\n",
    "        total_f1 += f1\n",
    "        continue\n",
    "    else:\n",
    "        for result in results[\"results\"][\"bindings\"]:\n",
    "            for var_name, var_data in result.items():\n",
    "                var_value = var_data[\"value\"]\n",
    "                if var_name in pred_answers.keys():\n",
    "                    pred_answers[var_name].append(var_value)\n",
    "                else:\n",
    "                    pred_answers[var_name] = [var_value]\n",
    "    if (type(gold_ans[i]) != bool) and (len(gold_ans[i]) == 0) and (len(list(pred_answers.keys())) == 0):\n",
    "        total_acc += 1\n",
    "        total_rec += 1\n",
    "        total_pre += 1\n",
    "        total_f1 += 1\n",
    "        continue\n",
    "    elif (type(gold_ans[i]) != bool) and (len(gold_ans[i]) > 0) and (len(list(pred_answers.keys())) == 0):\n",
    "        print(f'\\nempty predicted answer set for sample #{ids[i]}')\n",
    "        continue\n",
    "    elif (type(gold_ans[i]) != bool) and (len(gold_ans[i]) == 0) and (len(list(pred_answers.keys())) > 0):\n",
    "        print(f'\\npredicted answer set was supposed to be empty for sample #{ids[i]}')\n",
    "        continue\n",
    "    elif type(gold_ans[i]) == bool:\n",
    "        print(f'\\nresults are not of type boolean for sample #{ids[i]}')\n",
    "        continue\n",
    "    try:\n",
    "        assert len(list(pred_answers.keys())) == 1\n",
    "    except:\n",
    "        print(f'\\nresults dict has more keys than expected for sample #{ids[i]}')\n",
    "        continue\n",
    "    pred_ans = next(iter(pred_answers.values()))\n",
    "    acc, rec, pre, f1 = eval(list(map(lambda x: process_text(x), gold_ans[i])), pred_ans)\n",
    "    total_acc += acc\n",
    "    total_rec += rec\n",
    "    total_pre += pre\n",
    "    total_f1 += f1\n",
    "    # print(f'\\ninfo for sample #{ids[i]}:')\n",
    "    # print(f'acc = {acc}, rec = {rec}, pre = {pre}, f1 = {f1}')\n",
    "    # print('\\n'.join(gold_ans[i]))\n",
    "    # print('---')\n",
    "    # print('\\n'.join(pred_ans))\n",
    "    # print()\n",
    "print(f'\\nacc: {total_acc / len(queries)}')\n",
    "print(f'rec: {total_rec / len(queries)}')\n",
    "print(f'pre: {total_pre / len(queries)}')\n",
    "print(f'f1: {total_f1 / len(queries)}')"
   ]
  },
  {
   "cell_type": "markdown",
   "metadata": {
    "id": "nbpD6iSWxnjm"
   },
   "source": [
    "#### T5-3B zero-shot setting w/ 10 triples\n",
    "model_7: t5-3b-tri-10-t"
   ]
  },
  {
   "cell_type": "code",
   "execution_count": null,
   "metadata": {
    "colab": {
     "base_uri": "https://localhost:8080/",
     "height": 1000
    },
    "id": "VT_Tl2Pw_itn",
    "outputId": "ed404b17-3119-46e9-afec-12af1722a0e6"
   },
   "outputs": [
    {
     "data": {
      "text/html": [
       "\n",
       "  <style>\n",
       "    pre {\n",
       "        white-space: pre-wrap;\n",
       "    }\n",
       "  </style>\n",
       "  "
      ],
      "text/plain": [
       "<IPython.core.display.HTML object>"
      ]
     },
     "metadata": {},
     "output_type": "display_data"
    },
    {
     "name": "stderr",
     "output_type": "stream",
     "text": [
      "  1%|          | 1/150 [00:00<02:01,  1.22it/s]"
     ]
    },
    {
     "name": "stdout",
     "output_type": "stream",
     "text": [
      "\n",
      "error executing SPARQL query: HTTP Error 503: Service Temporarily Unavailable\n",
      "\n",
      "syntax error for sample #0\n"
     ]
    },
    {
     "name": "stderr",
     "output_type": "stream",
     "text": [
      "\r  1%|▏         | 2/150 [00:01<01:49,  1.36it/s]"
     ]
    },
    {
     "name": "stdout",
     "output_type": "stream",
     "text": [
      "\n",
      "empty predicted answer set for sample #1\n"
     ]
    },
    {
     "name": "stderr",
     "output_type": "stream",
     "text": [
      "  3%|▎         | 4/150 [00:02<01:42,  1.42it/s]"
     ]
    },
    {
     "name": "stdout",
     "output_type": "stream",
     "text": [
      "\n",
      "error executing SPARQL query: HTTP Error 503: Service Temporarily Unavailable\n",
      "\n",
      "syntax error for sample #3\n"
     ]
    },
    {
     "name": "stderr",
     "output_type": "stream",
     "text": [
      "\r  3%|▎         | 5/150 [00:03<01:40,  1.44it/s]"
     ]
    },
    {
     "name": "stdout",
     "output_type": "stream",
     "text": [
      "\n",
      "error executing SPARQL query: HTTP Error 503: Service Temporarily Unavailable\n",
      "\n",
      "syntax error for sample #4\n"
     ]
    },
    {
     "name": "stderr",
     "output_type": "stream",
     "text": [
      "  5%|▍         | 7/150 [00:05<01:45,  1.36it/s]"
     ]
    },
    {
     "name": "stdout",
     "output_type": "stream",
     "text": [
      "\n",
      "results dict has more keys than expected for sample #6\n"
     ]
    },
    {
     "name": "stderr",
     "output_type": "stream",
     "text": [
      "\r  5%|▌         | 8/150 [00:05<01:42,  1.39it/s]"
     ]
    },
    {
     "name": "stdout",
     "output_type": "stream",
     "text": [
      "\n",
      "empty predicted answer set for sample #7\n"
     ]
    },
    {
     "name": "stderr",
     "output_type": "stream",
     "text": [
      "\r  6%|▌         | 9/150 [00:06<01:39,  1.42it/s]"
     ]
    },
    {
     "name": "stdout",
     "output_type": "stream",
     "text": [
      "\n",
      "error executing SPARQL query: HTTP Error 503: Service Temporarily Unavailable\n",
      "\n",
      "syntax error for sample #8\n"
     ]
    },
    {
     "name": "stderr",
     "output_type": "stream",
     "text": [
      "\r  7%|▋         | 10/150 [00:07<01:38,  1.42it/s]"
     ]
    },
    {
     "name": "stdout",
     "output_type": "stream",
     "text": [
      "\n",
      "error executing SPARQL query: HTTP Error 503: Service Temporarily Unavailable\n",
      "\n",
      "syntax error for sample #9\n"
     ]
    },
    {
     "name": "stderr",
     "output_type": "stream",
     "text": [
      "\r  7%|▋         | 11/150 [00:07<01:36,  1.44it/s]"
     ]
    },
    {
     "name": "stdout",
     "output_type": "stream",
     "text": [
      "\n",
      "error executing SPARQL query: QueryBadFormed: A bad request has been sent to the endpoint: probably the SPARQL query is badly formed. \n",
      "\n",
      "Response:\n",
      "b\"Virtuoso 37000 Error SP030: SPARQL compiler, line 4: syntax error at '?airline' before '.'\\n\\nSPARQL query:\\n#output-format:application/sparql-results+json\\nSELECT ?airline\\nWHERE {\\n  ?airline a <http://www.w3.org/1999/02/rdf-syntax-ns#type> ?airline.\\n}\\nLIMIT 100\\n\"\n",
      "\n",
      "syntax error for sample #10\n"
     ]
    },
    {
     "name": "stderr",
     "output_type": "stream",
     "text": [
      "\r  8%|▊         | 12/150 [00:08<01:35,  1.45it/s]"
     ]
    },
    {
     "name": "stdout",
     "output_type": "stream",
     "text": [
      "\n",
      "error executing SPARQL query: HTTP Error 503: Service Temporarily Unavailable\n",
      "\n",
      "syntax error for sample #11\n"
     ]
    },
    {
     "name": "stderr",
     "output_type": "stream",
     "text": [
      "  9%|▉         | 14/150 [00:09<01:33,  1.46it/s]"
     ]
    },
    {
     "name": "stdout",
     "output_type": "stream",
     "text": [
      "\n",
      "error executing SPARQL query: HTTP Error 503: Service Temporarily Unavailable\n",
      "\n",
      "syntax error for sample #13\n"
     ]
    },
    {
     "name": "stderr",
     "output_type": "stream",
     "text": [
      "\r 10%|█         | 15/150 [00:10<01:32,  1.46it/s]"
     ]
    },
    {
     "name": "stdout",
     "output_type": "stream",
     "text": [
      "\n",
      "error executing SPARQL query: HTTP Error 503: Service Temporarily Unavailable\n",
      "\n",
      "syntax error for sample #14\n"
     ]
    },
    {
     "name": "stderr",
     "output_type": "stream",
     "text": [
      " 11%|█▏        | 17/150 [00:11<01:30,  1.47it/s]"
     ]
    },
    {
     "name": "stdout",
     "output_type": "stream",
     "text": [
      "\n",
      "error executing SPARQL query: QueryBadFormed: A bad request has been sent to the endpoint: probably the SPARQL query is badly formed. \n",
      "\n",
      "Response:\n",
      "b\"Virtuoso 37000 Error SP030: SPARQL compiler, line 4: syntax error at 'sep' before '?c\\xc4\\x83lc\\xc4\\x83ri'\\n\\nSPARQL query:\\n#output-format:application/sparql-results+json\\nSELECT ?c\\xc4\\x83lc\\xc4\\x83ri\\nWHERE {\\n  ?c\\xc4\\x83lc\\xc4\\x83ri sep ?c\\xc4\\x83lc\\xc4\\x83ri .\\n}\\nLIMIT 100\\n\"\n",
      "\n",
      "syntax error for sample #16\n"
     ]
    },
    {
     "name": "stderr",
     "output_type": "stream",
     "text": [
      "\r 12%|█▏        | 18/150 [00:12<01:44,  1.26it/s]"
     ]
    },
    {
     "name": "stdout",
     "output_type": "stream",
     "text": [
      "\n",
      "results dict has more keys than expected for sample #17\n"
     ]
    },
    {
     "name": "stderr",
     "output_type": "stream",
     "text": [
      "\r 13%|█▎        | 19/150 [00:13<01:39,  1.32it/s]"
     ]
    },
    {
     "name": "stdout",
     "output_type": "stream",
     "text": [
      "\n",
      "error executing SPARQL query: HTTP Error 503: Service Temporarily Unavailable\n",
      "\n",
      "syntax error for sample #18\n"
     ]
    },
    {
     "name": "stderr",
     "output_type": "stream",
     "text": [
      " 15%|█▍        | 22/150 [00:15<01:30,  1.41it/s]"
     ]
    },
    {
     "name": "stdout",
     "output_type": "stream",
     "text": [
      "\n",
      "error executing SPARQL query: HTTP Error 503: Service Temporarily Unavailable\n",
      "\n",
      "syntax error for sample #21\n"
     ]
    },
    {
     "name": "stderr",
     "output_type": "stream",
     "text": [
      "\r 15%|█▌        | 23/150 [00:16<01:28,  1.43it/s]"
     ]
    },
    {
     "name": "stdout",
     "output_type": "stream",
     "text": [
      "\n",
      "error executing SPARQL query: HTTP Error 503: Service Temporarily Unavailable\n",
      "\n",
      "syntax error for sample #22\n"
     ]
    },
    {
     "name": "stderr",
     "output_type": "stream",
     "text": [
      " 17%|█▋        | 25/150 [00:17<01:33,  1.33it/s]"
     ]
    },
    {
     "name": "stdout",
     "output_type": "stream",
     "text": [
      "\n",
      "empty predicted answer set for sample #24\n"
     ]
    },
    {
     "name": "stderr",
     "output_type": "stream",
     "text": [
      " 18%|█▊        | 27/150 [00:19<01:27,  1.40it/s]"
     ]
    },
    {
     "name": "stdout",
     "output_type": "stream",
     "text": [
      "\n",
      "error executing SPARQL query: HTTP Error 503: Service Temporarily Unavailable\n",
      "\n",
      "syntax error for sample #26\n"
     ]
    },
    {
     "name": "stderr",
     "output_type": "stream",
     "text": [
      "\r 19%|█▊        | 28/150 [00:19<01:25,  1.42it/s]"
     ]
    },
    {
     "name": "stdout",
     "output_type": "stream",
     "text": [
      "\n",
      "predicted answer set was supposed to be empty for sample #27\n"
     ]
    },
    {
     "name": "stderr",
     "output_type": "stream",
     "text": [
      "\r 19%|█▉        | 29/150 [00:20<01:24,  1.44it/s]"
     ]
    },
    {
     "name": "stdout",
     "output_type": "stream",
     "text": [
      "\n",
      "error executing SPARQL query: QueryBadFormed: A bad request has been sent to the endpoint: probably the SPARQL query is badly formed. \n",
      "\n",
      "Response:\n",
      "b\"Virtuoso 37000 Error SP030: SPARQL compiler, line 4: syntax error at 'sep' before '?uri\\xc3\\xaendec\\xc4\\x83lca\\xc5\\xa3i'\\n\\nSPARQL query:\\n#output-format:application/sparql-results+json\\nSELECT ?uri\\xc3\\xaendec\\xc4\\x83lca\\xc5\\xa3i\\nWHERE {\\n  ?uri\\xc3\\xaendec\\xc4\\x83lca\\xc5\\xa3i sep ?uri\\xc3\\xaendec\\xc4\\x83lca\\xc5\\xa3i .\\n  FILTER (?uri\\xc3\\xaendec\\xc4\\x83lca\\xc5\\xa3i > ?uri\\xc3\\xaendec\\xc4\\x83lca\\xc5\\xa3i)\\n}\\nLIMIT 100\\n\"\n",
      "\n",
      "syntax error for sample #28\n"
     ]
    },
    {
     "name": "stderr",
     "output_type": "stream",
     "text": [
      "\r 20%|██        | 30/150 [00:21<01:22,  1.45it/s]"
     ]
    },
    {
     "name": "stdout",
     "output_type": "stream",
     "text": [
      "\n",
      "error executing SPARQL query: QueryBadFormed: A bad request has been sent to the endpoint: probably the SPARQL query is badly formed. \n",
      "\n",
      "Response:\n",
      "b\"Virtuoso 37000 Error SP030: SPARQL compiler, line 4: syntax error at '?title' before '.'\\n\\nSPARQL query:\\n#output-format:application/sparql-results+json\\nSELECT ?title\\nWHERE {\\n  dbo:resource <http://dbpedia.org/resource/The_Storm_on_the_Sea_of_Galilee> dbo:title ?title .\\n}\\nLIMIT 100\\n\"\n",
      "\n",
      "syntax error for sample #29\n"
     ]
    },
    {
     "name": "stderr",
     "output_type": "stream",
     "text": [
      "\r 21%|██        | 31/150 [00:21<01:22,  1.45it/s]"
     ]
    },
    {
     "name": "stdout",
     "output_type": "stream",
     "text": [
      "\n",
      "error executing SPARQL query: HTTP Error 503: Service Temporarily Unavailable\n",
      "\n",
      "syntax error for sample #30\n"
     ]
    },
    {
     "name": "stderr",
     "output_type": "stream",
     "text": [
      "\r 21%|██▏       | 32/150 [00:22<01:20,  1.46it/s]"
     ]
    },
    {
     "name": "stdout",
     "output_type": "stream",
     "text": [
      "\n",
      "error executing SPARQL query: HTTP Error 503: Service Temporarily Unavailable\n",
      "\n",
      "syntax error for sample #31\n"
     ]
    },
    {
     "name": "stderr",
     "output_type": "stream",
     "text": [
      "\r 22%|██▏       | 33/150 [00:23<01:19,  1.47it/s]"
     ]
    },
    {
     "name": "stdout",
     "output_type": "stream",
     "text": [
      "\n",
      "error executing SPARQL query: HTTP Error 503: Service Temporarily Unavailable\n",
      "\n",
      "syntax error for sample #32\n"
     ]
    },
    {
     "name": "stderr",
     "output_type": "stream",
     "text": [
      " 23%|██▎       | 35/150 [00:24<01:22,  1.40it/s]"
     ]
    },
    {
     "name": "stdout",
     "output_type": "stream",
     "text": [
      "\n",
      "results dict has more keys than expected for sample #34\n"
     ]
    },
    {
     "name": "stderr",
     "output_type": "stream",
     "text": [
      " 25%|██▍       | 37/150 [00:26<01:19,  1.43it/s]"
     ]
    },
    {
     "name": "stdout",
     "output_type": "stream",
     "text": [
      "\n",
      "error executing SPARQL query: QueryBadFormed: A bad request has been sent to the endpoint: probably the SPARQL query is badly formed. \n",
      "\n",
      "Response:\n",
      "b\"Virtuoso 37000 Error SP030: SPARQL compiler, line 4: Undefined default namespace prefix at ':country' before '?country'\\n\\nSPARQL query:\\n#output-format:application/sparql-results+json\\nSELECT ?city ?country\\nWHERE {\\n  <http://dbpedia.org/resource/Lovesick_(1983_film)> :country ?country .\\n  ?country :country http://dbpedia.org/resource/Alec_Guinness .\\n  ?country :country ?city .\\n}\\nLIMIT 100\\n\"\n",
      "\n",
      "syntax error for sample #36\n"
     ]
    },
    {
     "name": "stderr",
     "output_type": "stream",
     "text": [
      "\r 25%|██▌       | 38/150 [00:27<01:25,  1.31it/s]"
     ]
    },
    {
     "name": "stdout",
     "output_type": "stream",
     "text": [
      "\n",
      "results dict has more keys than expected for sample #37\n"
     ]
    },
    {
     "name": "stderr",
     "output_type": "stream",
     "text": [
      " 27%|██▋       | 40/150 [00:28<01:19,  1.38it/s]"
     ]
    },
    {
     "name": "stdout",
     "output_type": "stream",
     "text": [
      "\n",
      "error executing SPARQL query: HTTP Error 503: Service Temporarily Unavailable\n",
      "\n",
      "syntax error for sample #39\n"
     ]
    },
    {
     "name": "stderr",
     "output_type": "stream",
     "text": [
      "\r 27%|██▋       | 41/150 [00:29<01:17,  1.41it/s]"
     ]
    },
    {
     "name": "stdout",
     "output_type": "stream",
     "text": [
      "\n",
      "error executing SPARQL query: HTTP Error 503: Service Temporarily Unavailable\n",
      "\n",
      "syntax error for sample #40\n"
     ]
    },
    {
     "name": "stderr",
     "output_type": "stream",
     "text": [
      "\r 28%|██▊       | 42/150 [00:30<01:29,  1.20it/s]"
     ]
    },
    {
     "name": "stdout",
     "output_type": "stream",
     "text": [
      "\n",
      "empty predicted answer set for sample #41\n"
     ]
    },
    {
     "name": "stderr",
     "output_type": "stream",
     "text": [
      "\r 29%|██▊       | 43/150 [00:30<01:24,  1.27it/s]"
     ]
    },
    {
     "name": "stdout",
     "output_type": "stream",
     "text": [
      "\n",
      "error executing SPARQL query: HTTP Error 503: Service Temporarily Unavailable\n",
      "\n",
      "syntax error for sample #42\n"
     ]
    },
    {
     "name": "stderr",
     "output_type": "stream",
     "text": [
      "\r 29%|██▉       | 44/150 [00:31<01:25,  1.25it/s]"
     ]
    },
    {
     "name": "stdout",
     "output_type": "stream",
     "text": [
      "\n",
      "error executing SPARQL query: HTTP Error 503: Service Temporarily Unavailable\n",
      "\n",
      "syntax error for sample #43\n"
     ]
    },
    {
     "name": "stderr",
     "output_type": "stream",
     "text": [
      "\r 30%|███       | 45/150 [00:32<01:29,  1.18it/s]"
     ]
    },
    {
     "name": "stdout",
     "output_type": "stream",
     "text": [
      "\n",
      "empty predicted answer set for sample #44\n"
     ]
    },
    {
     "name": "stderr",
     "output_type": "stream",
     "text": [
      "\r 31%|███       | 46/150 [00:33<01:22,  1.25it/s]"
     ]
    },
    {
     "name": "stdout",
     "output_type": "stream",
     "text": [
      "\n",
      "error executing SPARQL query: HTTP Error 503: Service Temporarily Unavailable\n",
      "\n",
      "syntax error for sample #45\n"
     ]
    },
    {
     "name": "stderr",
     "output_type": "stream",
     "text": [
      "\r 31%|███▏      | 47/150 [00:34<01:18,  1.31it/s]"
     ]
    },
    {
     "name": "stdout",
     "output_type": "stream",
     "text": [
      "\n",
      "error executing SPARQL query: HTTP Error 503: Service Temporarily Unavailable\n",
      "\n",
      "syntax error for sample #46\n"
     ]
    },
    {
     "name": "stderr",
     "output_type": "stream",
     "text": [
      "\r 32%|███▏      | 48/150 [00:34<01:14,  1.36it/s]"
     ]
    },
    {
     "name": "stdout",
     "output_type": "stream",
     "text": [
      "\n",
      "predicted answer set was supposed to be empty for sample #47\n"
     ]
    },
    {
     "name": "stderr",
     "output_type": "stream",
     "text": [
      " 33%|███▎      | 50/150 [00:36<01:10,  1.42it/s]"
     ]
    },
    {
     "name": "stdout",
     "output_type": "stream",
     "text": [
      "\n",
      "error executing SPARQL query: HTTP Error 503: Service Temporarily Unavailable\n",
      "\n",
      "syntax error for sample #49\n"
     ]
    },
    {
     "name": "stderr",
     "output_type": "stream",
     "text": [
      "\r 34%|███▍      | 51/150 [00:36<01:09,  1.43it/s]"
     ]
    },
    {
     "name": "stdout",
     "output_type": "stream",
     "text": [
      "\n",
      "empty predicted answer set for sample #50\n"
     ]
    },
    {
     "name": "stderr",
     "output_type": "stream",
     "text": [
      "\r 35%|███▍      | 52/150 [00:37<01:07,  1.45it/s]"
     ]
    },
    {
     "name": "stdout",
     "output_type": "stream",
     "text": [
      "\n",
      "error executing SPARQL query: HTTP Error 503: Service Temporarily Unavailable\n",
      "\n",
      "syntax error for sample #51\n"
     ]
    },
    {
     "name": "stderr",
     "output_type": "stream",
     "text": [
      "\r 35%|███▌      | 53/150 [00:38<01:06,  1.45it/s]"
     ]
    },
    {
     "name": "stdout",
     "output_type": "stream",
     "text": [
      "\n",
      "empty predicted answer set for sample #52\n"
     ]
    },
    {
     "name": "stderr",
     "output_type": "stream",
     "text": [
      "\r 36%|███▌      | 54/150 [00:38<01:05,  1.46it/s]"
     ]
    },
    {
     "name": "stdout",
     "output_type": "stream",
     "text": [
      "\n",
      "error executing SPARQL query: HTTP Error 503: Service Temporarily Unavailable\n",
      "\n",
      "syntax error for sample #53\n"
     ]
    },
    {
     "name": "stderr",
     "output_type": "stream",
     "text": [
      "\r 37%|███▋      | 55/150 [00:39<01:04,  1.47it/s]"
     ]
    },
    {
     "name": "stdout",
     "output_type": "stream",
     "text": [
      "\n",
      "error executing SPARQL query: HTTP Error 503: Service Temporarily Unavailable\n",
      "\n",
      "syntax error for sample #54\n"
     ]
    },
    {
     "name": "stderr",
     "output_type": "stream",
     "text": [
      "\r 37%|███▋      | 56/150 [00:40<01:04,  1.47it/s]"
     ]
    },
    {
     "name": "stdout",
     "output_type": "stream",
     "text": [
      "\n",
      "error executing SPARQL query: HTTP Error 503: Service Temporarily Unavailable\n",
      "\n",
      "syntax error for sample #55\n"
     ]
    },
    {
     "name": "stderr",
     "output_type": "stream",
     "text": [
      "\r 38%|███▊      | 57/150 [00:40<01:03,  1.47it/s]"
     ]
    },
    {
     "name": "stdout",
     "output_type": "stream",
     "text": [
      "\n",
      "empty predicted answer set for sample #56\n"
     ]
    },
    {
     "name": "stderr",
     "output_type": "stream",
     "text": [
      "\r 39%|███▊      | 58/150 [00:41<01:02,  1.48it/s]"
     ]
    },
    {
     "name": "stdout",
     "output_type": "stream",
     "text": [
      "\n",
      "error executing SPARQL query: HTTP Error 503: Service Temporarily Unavailable\n",
      "\n",
      "syntax error for sample #57\n"
     ]
    },
    {
     "name": "stderr",
     "output_type": "stream",
     "text": [
      "\r 39%|███▉      | 59/150 [00:42<01:01,  1.47it/s]"
     ]
    },
    {
     "name": "stdout",
     "output_type": "stream",
     "text": [
      "\n",
      "error executing SPARQL query: QueryBadFormed: A bad request has been sent to the endpoint: probably the SPARQL query is badly formed. \n",
      "\n",
      "Response:\n",
      "b'Virtuoso 37000 Error SP030: SPARQL compiler, line 5: Undefined namespace prefix in prefix:localpart notation at \\'dbpedia-owl:child\\' before \\'?child\\'\\n\\nSPARQL query:\\n#output-format:application/sparql-results+json\\nSELECT ?child\\nWHERE {\\n  ?robertKennedy foaf:name \"Robert Kennedy\" .\\n  ?robertKennedy dbpedia-owl:child ?child .\\n  ?child dbpedia-owl:gender dbpedia-owl:female .\\n  ?child dbpedia-owl:spouse ?spouse .\\n}\\nLIMIT 100\\n'\n",
      "\n",
      "syntax error for sample #58\n"
     ]
    },
    {
     "name": "stderr",
     "output_type": "stream",
     "text": [
      " 41%|████▏     | 62/150 [00:44<01:00,  1.47it/s]"
     ]
    },
    {
     "name": "stdout",
     "output_type": "stream",
     "text": [
      "\n",
      "error executing SPARQL query: HTTP Error 503: Service Temporarily Unavailable\n",
      "\n",
      "syntax error for sample #61\n"
     ]
    },
    {
     "name": "stderr",
     "output_type": "stream",
     "text": [
      "\r 42%|████▏     | 63/150 [00:44<00:58,  1.48it/s]"
     ]
    },
    {
     "name": "stdout",
     "output_type": "stream",
     "text": [
      "\n",
      "predicted answer set was supposed to be empty for sample #62\n"
     ]
    },
    {
     "name": "stderr",
     "output_type": "stream",
     "text": [
      "\r 43%|████▎     | 64/150 [00:45<00:58,  1.48it/s]"
     ]
    },
    {
     "name": "stdout",
     "output_type": "stream",
     "text": [
      "\n",
      "predicted answer set was supposed to be empty for sample #63\n"
     ]
    },
    {
     "name": "stderr",
     "output_type": "stream",
     "text": [
      " 44%|████▍     | 66/150 [00:46<00:56,  1.48it/s]"
     ]
    },
    {
     "name": "stdout",
     "output_type": "stream",
     "text": [
      "\n",
      "error executing SPARQL query: HTTP Error 503: Service Temporarily Unavailable\n",
      "\n",
      "syntax error for sample #65\n"
     ]
    },
    {
     "name": "stderr",
     "output_type": "stream",
     "text": [
      "\r 45%|████▍     | 67/150 [00:47<00:56,  1.48it/s]"
     ]
    },
    {
     "name": "stdout",
     "output_type": "stream",
     "text": [
      "\n",
      "error executing SPARQL query: HTTP Error 503: Service Temporarily Unavailable\n",
      "\n",
      "syntax error for sample #66\n"
     ]
    },
    {
     "name": "stderr",
     "output_type": "stream",
     "text": [
      "\r 45%|████▌     | 68/150 [00:48<00:55,  1.47it/s]"
     ]
    },
    {
     "name": "stdout",
     "output_type": "stream",
     "text": [
      "\n",
      "error executing SPARQL query: QueryBadFormed: A bad request has been sent to the endpoint: probably the SPARQL query is badly formed. \n",
      "\n",
      "Response:\n",
      "b\"Virtuoso 37000 Error SP030: SPARQL compiler, line 4: Undefined namespace prefix in prefix:localpart notation at 'dct:subject' before 'dbc:Countries_in_Africa'\\n\\nSPARQL query:\\n#output-format:application/sparql-results+json\\nSELECT ?area\\nWHERE {\\n  ?area dct:subject dbc:Countries_in_Africa .\\n}\\nLIMIT 100\\n\"\n",
      "\n",
      "syntax error for sample #67\n"
     ]
    },
    {
     "name": "stderr",
     "output_type": "stream",
     "text": [
      " 47%|████▋     | 70/150 [00:49<00:54,  1.47it/s]"
     ]
    },
    {
     "name": "stdout",
     "output_type": "stream",
     "text": [
      "\n",
      "empty predicted answer set for sample #69\n"
     ]
    },
    {
     "name": "stderr",
     "output_type": "stream",
     "text": [
      "\r 47%|████▋     | 71/150 [00:50<00:53,  1.47it/s]"
     ]
    },
    {
     "name": "stdout",
     "output_type": "stream",
     "text": [
      "\n",
      "error executing SPARQL query: HTTP Error 503: Service Temporarily Unavailable\n",
      "\n",
      "syntax error for sample #70\n"
     ]
    },
    {
     "name": "stderr",
     "output_type": "stream",
     "text": [
      "\r 48%|████▊     | 72/150 [00:51<00:53,  1.47it/s]"
     ]
    },
    {
     "name": "stdout",
     "output_type": "stream",
     "text": [
      "\n",
      "error executing SPARQL query: QueryBadFormed: A bad request has been sent to the endpoint: probably the SPARQL query is badly formed. \n",
      "\n",
      "Response:\n",
      "b\"Virtuoso 37000 Error SP030: SPARQL compiler, line 5: Undefined namespace prefix in prefix:localpart notation at 'dbpedia-owl:country' before '<http://dbpedia.org/resource/Czech_Republic>'\\n\\nSPARQL query:\\n#output-format:application/sparql-results+json\\nSELECT ?movie\\nWHERE {\\n  ?movie rdf:type <http://dbpedia.org/ontology/Film> .\\n  ?movie dbpedia-owl:country <http://dbpedia.org/resource/Czech_Republic> .\\n}\\nLIMIT 100\\n\"\n",
      "\n",
      "syntax error for sample #71\n"
     ]
    },
    {
     "name": "stderr",
     "output_type": "stream",
     "text": [
      " 49%|████▉     | 74/150 [00:52<00:52,  1.46it/s]"
     ]
    },
    {
     "name": "stdout",
     "output_type": "stream",
     "text": [
      "\n",
      "error executing SPARQL query: HTTP Error 503: Service Temporarily Unavailable\n",
      "\n",
      "syntax error for sample #73\n"
     ]
    },
    {
     "name": "stderr",
     "output_type": "stream",
     "text": [
      "\r 50%|█████     | 75/150 [00:53<00:51,  1.46it/s]"
     ]
    },
    {
     "name": "stdout",
     "output_type": "stream",
     "text": [
      "\n",
      "error executing SPARQL query: HTTP Error 503: Service Temporarily Unavailable\n",
      "\n",
      "syntax error for sample #74\n"
     ]
    },
    {
     "name": "stderr",
     "output_type": "stream",
     "text": [
      " 51%|█████▏    | 77/150 [00:54<00:52,  1.40it/s]"
     ]
    },
    {
     "name": "stdout",
     "output_type": "stream",
     "text": [
      "\n",
      "results dict has more keys than expected for sample #76\n"
     ]
    },
    {
     "name": "stderr",
     "output_type": "stream",
     "text": [
      "\r 52%|█████▏    | 78/150 [00:55<00:50,  1.42it/s]"
     ]
    },
    {
     "name": "stdout",
     "output_type": "stream",
     "text": [
      "\n",
      "error executing SPARQL query: HTTP Error 503: Service Temporarily Unavailable\n",
      "\n",
      "syntax error for sample #77\n"
     ]
    },
    {
     "name": "stderr",
     "output_type": "stream",
     "text": [
      " 53%|█████▎    | 80/150 [00:57<00:56,  1.25it/s]"
     ]
    },
    {
     "name": "stdout",
     "output_type": "stream",
     "text": [
      "\n",
      "empty predicted answer set for sample #79\n"
     ]
    },
    {
     "name": "stderr",
     "output_type": "stream",
     "text": [
      "\r 54%|█████▍    | 81/150 [00:57<00:52,  1.31it/s]"
     ]
    },
    {
     "name": "stdout",
     "output_type": "stream",
     "text": [
      "\n",
      "error executing SPARQL query: HTTP Error 503: Service Temporarily Unavailable\n",
      "\n",
      "syntax error for sample #80\n"
     ]
    },
    {
     "name": "stderr",
     "output_type": "stream",
     "text": [
      "\r 55%|█████▍    | 82/150 [00:58<00:50,  1.35it/s]"
     ]
    },
    {
     "name": "stdout",
     "output_type": "stream",
     "text": [
      "\n",
      "empty predicted answer set for sample #81\n"
     ]
    },
    {
     "name": "stderr",
     "output_type": "stream",
     "text": [
      "\r 55%|█████▌    | 83/150 [00:59<00:48,  1.39it/s]"
     ]
    },
    {
     "name": "stdout",
     "output_type": "stream",
     "text": [
      "\n",
      "error executing SPARQL query: HTTP Error 503: Service Temporarily Unavailable\n",
      "\n",
      "syntax error for sample #82\n"
     ]
    },
    {
     "name": "stderr",
     "output_type": "stream",
     "text": [
      " 57%|█████▋    | 85/150 [01:00<00:45,  1.42it/s]"
     ]
    },
    {
     "name": "stdout",
     "output_type": "stream",
     "text": [
      "\n",
      "error executing SPARQL query: QueryBadFormed: A bad request has been sent to the endpoint: probably the SPARQL query is badly formed. \n",
      "\n",
      "Response:\n",
      "b\"Virtuoso 37000 Error SP030: SPARQL compiler, line 3: Undefined namespace prefix in prefix:localpart notation at 'dbpedia-owl:child' before 'dbpedia:Queen_Victoria'\\n\\nSPARQL query:\\n#output-format:application/sparql-results+json\\nSELECT ?parent WHERE {\\n  ?parent dbpedia-owl:child dbpedia:Queen_Victoria .\\n}\\n\"\n",
      "\n",
      "syntax error for sample #84\n"
     ]
    },
    {
     "name": "stderr",
     "output_type": "stream",
     "text": [
      "\r 57%|█████▋    | 86/150 [01:01<00:46,  1.36it/s]"
     ]
    },
    {
     "name": "stdout",
     "output_type": "stream",
     "text": [
      "\n",
      "error executing SPARQL query: HTTP Error 503: Service Temporarily Unavailable\n",
      "\n",
      "syntax error for sample #85\n"
     ]
    },
    {
     "name": "stderr",
     "output_type": "stream",
     "text": [
      "\r 58%|█████▊    | 87/150 [01:02<00:49,  1.26it/s]"
     ]
    },
    {
     "name": "stdout",
     "output_type": "stream",
     "text": [
      "\n",
      "results dict has more keys than expected for sample #86\n"
     ]
    },
    {
     "name": "stderr",
     "output_type": "stream",
     "text": [
      "\r 59%|█████▊    | 88/150 [01:02<00:47,  1.32it/s]"
     ]
    },
    {
     "name": "stdout",
     "output_type": "stream",
     "text": [
      "\n",
      "error executing SPARQL query: HTTP Error 503: Service Temporarily Unavailable\n",
      "\n",
      "syntax error for sample #87\n"
     ]
    },
    {
     "name": "stderr",
     "output_type": "stream",
     "text": [
      " 60%|██████    | 90/150 [01:04<00:43,  1.38it/s]"
     ]
    },
    {
     "name": "stdout",
     "output_type": "stream",
     "text": [
      "\n",
      "error executing SPARQL query: QueryBadFormed: A bad request has been sent to the endpoint: probably the SPARQL query is badly formed. \n",
      "\n",
      "Response:\n",
      "b\"Virtuoso 37000 Error SP030: SPARQL compiler, line 3: Undefined namespace prefix in prefix:localpart notation at 'dbpedia-owl:father' before '?father'\\n\\nSPARQL query:\\n#output-format:application/sparql-results+json\\nSELECT ?father WHERE {\\n  ?queen dbpedia-owl:father ?father .\\n  FILTER (?queen = dbpedia:Queen_Elizabeth_II)\\n}\\nLIMIT 100\\n\"\n",
      "\n",
      "syntax error for sample #89\n"
     ]
    },
    {
     "name": "stderr",
     "output_type": "stream",
     "text": [
      "\r 61%|██████    | 91/150 [01:05<00:45,  1.29it/s]"
     ]
    },
    {
     "name": "stdout",
     "output_type": "stream",
     "text": [
      "\n",
      "results dict has more keys than expected for sample #90\n"
     ]
    },
    {
     "name": "stderr",
     "output_type": "stream",
     "text": [
      " 62%|██████▏   | 93/150 [01:06<00:41,  1.36it/s]"
     ]
    },
    {
     "name": "stdout",
     "output_type": "stream",
     "text": [
      "\n",
      "error executing SPARQL query: HTTP Error 503: Service Temporarily Unavailable\n",
      "\n",
      "syntax error for sample #92\n"
     ]
    },
    {
     "name": "stderr",
     "output_type": "stream",
     "text": [
      "\r 63%|██████▎   | 94/150 [01:07<00:40,  1.39it/s]"
     ]
    },
    {
     "name": "stdout",
     "output_type": "stream",
     "text": [
      "\n",
      "predicted answer set was supposed to be empty for sample #93\n"
     ]
    },
    {
     "name": "stderr",
     "output_type": "stream",
     "text": [
      "\r 63%|██████▎   | 95/150 [01:08<00:38,  1.41it/s]"
     ]
    },
    {
     "name": "stdout",
     "output_type": "stream",
     "text": [
      "\n",
      "error executing SPARQL query: HTTP Error 503: Service Temporarily Unavailable\n",
      "\n",
      "syntax error for sample #94\n"
     ]
    },
    {
     "name": "stderr",
     "output_type": "stream",
     "text": [
      "\r 64%|██████▍   | 96/150 [01:08<00:37,  1.43it/s]"
     ]
    },
    {
     "name": "stdout",
     "output_type": "stream",
     "text": [
      "\n",
      "error executing SPARQL query: QueryBadFormed: A bad request has been sent to the endpoint: probably the SPARQL query is badly formed. \n",
      "\n",
      "Response:\n",
      "b'Virtuoso 37000 Error SP030: SPARQL compiler, line 4: Undefined namespace prefix in prefix:localpart notation at \\'wd:Q843\\' before \\'wdt:P37\\'\\n\\nSPARQL query:\\n#output-format:application/sparql-results+json\\nSELECT ?languageLabel\\nWHERE {\\n  wd:Q843 wdt:P37 ?language.\\n  ?language rdfs:label ?languageLabel.\\n  FILTER(LANG(?languageLabel) = \"en\").\\n}\\n'\n",
      "\n",
      "syntax error for sample #95\n"
     ]
    },
    {
     "name": "stderr",
     "output_type": "stream",
     "text": [
      "\r 65%|██████▍   | 97/150 [01:09<00:36,  1.44it/s]"
     ]
    },
    {
     "name": "stdout",
     "output_type": "stream",
     "text": [
      "\n",
      "error executing SPARQL query: HTTP Error 503: Service Temporarily Unavailable\n",
      "\n",
      "syntax error for sample #96\n"
     ]
    },
    {
     "name": "stderr",
     "output_type": "stream",
     "text": [
      "\r 65%|██████▌   | 98/150 [01:10<00:35,  1.45it/s]"
     ]
    },
    {
     "name": "stdout",
     "output_type": "stream",
     "text": [
      "\n",
      "error executing SPARQL query: QueryBadFormed: A bad request has been sent to the endpoint: probably the SPARQL query is badly formed. \n",
      "\n",
      "Response:\n",
      "b\"Virtuoso 37000 Error SP030: SPARQL compiler, line 4: Undefined namespace prefix in prefix:localpart notation at 'dbpedia-owl:team' before '?team'\\n\\nSPARQL query:\\n#output-format:application/sparql-results+json\\nSELECT ?person\\nWHERE {\\n  ?person dbpedia-owl:team ?team .\\n  ?team dbpedia-owl:mission dbpedia:Apollo_11 .\\n}\\n\"\n",
      "\n",
      "syntax error for sample #97\n"
     ]
    },
    {
     "name": "stderr",
     "output_type": "stream",
     "text": [
      "\r 66%|██████▌   | 99/150 [01:10<00:35,  1.45it/s]"
     ]
    },
    {
     "name": "stdout",
     "output_type": "stream",
     "text": [
      "\n",
      "error executing SPARQL query: HTTP Error 503: Service Temporarily Unavailable\n",
      "\n",
      "syntax error for sample #98\n"
     ]
    },
    {
     "name": "stderr",
     "output_type": "stream",
     "text": [
      "\r 67%|██████▋   | 100/150 [01:11<00:34,  1.45it/s]"
     ]
    },
    {
     "name": "stdout",
     "output_type": "stream",
     "text": [
      "\n",
      "error executing SPARQL query: QueryBadFormed: A bad request has been sent to the endpoint: probably the SPARQL query is badly formed. \n",
      "\n",
      "Response:\n",
      "b'Virtuoso 37000 Error SP030: SPARQL compiler, line 4: syntax error at \\'?string\\'\\n\\nSPARQL query:\\n#output-format:application/sparql-results+json\\nSELECT ?x ?string ?string ?string ?string ?string ?string ?string ?string ?string ?string ?string ?string ?string ?string ?string ?string ?string ?string ?string\\nWHERE {\\n  ?x ?string ?string ?string ?string ?string ?string ?string ?string ?string ?string ?string ?string ?string ?string ?string ?string ?string ?string ?string .\\n  FILTER (REGEX(?x, \"xxxx?x\"))\\n}\\nLIMIT 100\\n'\n",
      "\n",
      "syntax error for sample #99\n"
     ]
    },
    {
     "name": "stderr",
     "output_type": "stream",
     "text": [
      "\r 67%|██████▋   | 101/150 [01:12<00:33,  1.46it/s]"
     ]
    },
    {
     "name": "stdout",
     "output_type": "stream",
     "text": [
      "\n",
      "empty predicted answer set for sample #100\n"
     ]
    },
    {
     "name": "stderr",
     "output_type": "stream",
     "text": [
      "\r 68%|██████▊   | 102/150 [01:12<00:34,  1.38it/s]"
     ]
    },
    {
     "name": "stdout",
     "output_type": "stream",
     "text": [
      "\n",
      "results dict has more keys than expected for sample #101\n"
     ]
    },
    {
     "name": "stderr",
     "output_type": "stream",
     "text": [
      " 69%|██████▉   | 104/150 [01:14<00:32,  1.42it/s]"
     ]
    },
    {
     "name": "stdout",
     "output_type": "stream",
     "text": [
      "\n",
      "error executing SPARQL query: HTTP Error 503: Service Temporarily Unavailable\n",
      "\n",
      "syntax error for sample #103\n"
     ]
    },
    {
     "name": "stderr",
     "output_type": "stream",
     "text": [
      "\r 70%|███████   | 105/150 [01:14<00:31,  1.44it/s]"
     ]
    },
    {
     "name": "stdout",
     "output_type": "stream",
     "text": [
      "\n",
      "error executing SPARQL query: HTTP Error 503: Service Temporarily Unavailable\n",
      "\n",
      "syntax error for sample #104\n"
     ]
    },
    {
     "name": "stderr",
     "output_type": "stream",
     "text": [
      "\r 71%|███████   | 106/150 [01:15<00:30,  1.45it/s]"
     ]
    },
    {
     "name": "stdout",
     "output_type": "stream",
     "text": [
      "\n",
      "error executing SPARQL query: HTTP Error 503: Service Temporarily Unavailable\n",
      "\n",
      "syntax error for sample #105\n"
     ]
    },
    {
     "name": "stderr",
     "output_type": "stream",
     "text": [
      "\r 71%|███████▏  | 107/150 [01:16<00:31,  1.37it/s]"
     ]
    },
    {
     "name": "stdout",
     "output_type": "stream",
     "text": [
      "\n",
      "empty predicted answer set for sample #106\n"
     ]
    },
    {
     "name": "stderr",
     "output_type": "stream",
     "text": [
      " 73%|███████▎  | 110/150 [01:50<04:53,  7.34s/it]"
     ]
    },
    {
     "name": "stdout",
     "output_type": "stream",
     "text": [
      "\n",
      "results dict has more keys than expected for sample #109\n"
     ]
    },
    {
     "name": "stderr",
     "output_type": "stream",
     "text": [
      "\r 74%|███████▍  | 111/150 [01:50<03:28,  5.34s/it]"
     ]
    },
    {
     "name": "stdout",
     "output_type": "stream",
     "text": [
      "\n",
      "empty predicted answer set for sample #110\n"
     ]
    },
    {
     "name": "stderr",
     "output_type": "stream",
     "text": [
      "\r 75%|███████▍  | 112/150 [01:51<02:29,  3.94s/it]"
     ]
    },
    {
     "name": "stdout",
     "output_type": "stream",
     "text": [
      "\n",
      "empty predicted answer set for sample #111\n"
     ]
    },
    {
     "name": "stderr",
     "output_type": "stream",
     "text": [
      "\r 75%|███████▌  | 113/150 [01:52<01:49,  2.96s/it]"
     ]
    },
    {
     "name": "stdout",
     "output_type": "stream",
     "text": [
      "\n",
      "error executing SPARQL query: HTTP Error 503: Service Temporarily Unavailable\n",
      "\n",
      "syntax error for sample #112\n"
     ]
    },
    {
     "name": "stderr",
     "output_type": "stream",
     "text": [
      "\r 76%|███████▌  | 114/150 [01:52<01:21,  2.28s/it]"
     ]
    },
    {
     "name": "stdout",
     "output_type": "stream",
     "text": [
      "\n",
      "error executing SPARQL query: QueryBadFormed: A bad request has been sent to the endpoint: probably the SPARQL query is badly formed. \n",
      "\n",
      "Response:\n",
      "b\"Virtuoso 37000 Error SP030: SPARQL compiler, line 4: Undefined namespace prefix in prefix:localpart notation at 'sep:greaterThan' before '?numarati'\\n\\nSPARQL query:\\n#output-format:application/sparql-results+json\\nSELECT ?numarati\\nWHERE {\\n  ?numarati sep:greaterThan ?numarati .\\n}\\nLIMIT 100\\n\"\n",
      "\n",
      "syntax error for sample #113\n"
     ]
    },
    {
     "name": "stderr",
     "output_type": "stream",
     "text": [
      "\r 77%|███████▋  | 115/150 [01:53<01:02,  1.80s/it]"
     ]
    },
    {
     "name": "stdout",
     "output_type": "stream",
     "text": [
      "\n",
      "error executing SPARQL query: HTTP Error 503: Service Temporarily Unavailable\n",
      "\n",
      "syntax error for sample #114\n"
     ]
    },
    {
     "name": "stderr",
     "output_type": "stream",
     "text": [
      "\r 77%|███████▋  | 116/150 [01:54<00:49,  1.46s/it]"
     ]
    },
    {
     "name": "stdout",
     "output_type": "stream",
     "text": [
      "\n",
      "error executing SPARQL query: HTTP Error 503: Service Temporarily Unavailable\n",
      "\n",
      "syntax error for sample #115\n"
     ]
    },
    {
     "name": "stderr",
     "output_type": "stream",
     "text": [
      " 79%|███████▉  | 119/150 [01:56<00:29,  1.05it/s]"
     ]
    },
    {
     "name": "stdout",
     "output_type": "stream",
     "text": [
      "\n",
      "results are not of type boolean for sample #118\n"
     ]
    },
    {
     "name": "stderr",
     "output_type": "stream",
     "text": [
      " 81%|████████  | 121/150 [01:57<00:24,  1.18it/s]"
     ]
    },
    {
     "name": "stdout",
     "output_type": "stream",
     "text": [
      "\n",
      "results dict has more keys than expected for sample #120\n"
     ]
    },
    {
     "name": "stderr",
     "output_type": "stream",
     "text": [
      "\r 81%|████████▏ | 122/150 [01:58<00:22,  1.25it/s]"
     ]
    },
    {
     "name": "stdout",
     "output_type": "stream",
     "text": [
      "\n",
      "error executing SPARQL query: HTTP Error 503: Service Temporarily Unavailable\n",
      "\n",
      "syntax error for sample #121\n"
     ]
    },
    {
     "name": "stderr",
     "output_type": "stream",
     "text": [
      "\r 82%|████████▏ | 123/150 [01:59<00:20,  1.31it/s]"
     ]
    },
    {
     "name": "stdout",
     "output_type": "stream",
     "text": [
      "\n",
      "error executing SPARQL query: QueryBadFormed: A bad request has been sent to the endpoint: probably the SPARQL query is badly formed. \n",
      "\n",
      "Response:\n",
      "b'Virtuoso 37000 Error SP030: SPARQL compiler, line 4: Undefined namespace prefix in prefix:localpart notation at \\'wd:Q14303\\' before \\'wdt:P6\\'\\n\\nSPARQL query:\\n#output-format:application/sparql-results+json\\nSELECT ?governorLabel\\nWHERE {\\n  wd:Q14303 wdt:P6 ?governor.\\n  SERVICE wikibase:label { bd:serviceParam wikibase:language \"[AUTO_LANGUAGE],en\". }\\n}\\nLIMIT 1\\n'\n",
      "\n",
      "syntax error for sample #122\n"
     ]
    },
    {
     "name": "stderr",
     "output_type": "stream",
     "text": [
      "\r 83%|████████▎ | 124/150 [01:59<00:19,  1.36it/s]"
     ]
    },
    {
     "name": "stdout",
     "output_type": "stream",
     "text": [
      "\n",
      "error executing SPARQL query: HTTP Error 503: Service Temporarily Unavailable\n",
      "\n",
      "syntax error for sample #123\n"
     ]
    },
    {
     "name": "stderr",
     "output_type": "stream",
     "text": [
      "\r 83%|████████▎ | 125/150 [02:00<00:18,  1.39it/s]"
     ]
    },
    {
     "name": "stdout",
     "output_type": "stream",
     "text": [
      "\n",
      "error executing SPARQL query: QueryBadFormed: A bad request has been sent to the endpoint: probably the SPARQL query is badly formed. \n",
      "\n",
      "Response:\n",
      "b'Virtuoso 37000 Error SP030: SPARQL compiler, line 4: Undefined namespace prefix in prefix:localpart notation at \\'dbpedia-owl:year\\' before \\'1836\\'\\n\\nSPARQL query:\\n#output-format:application/sparql-results+json\\nSELECT ?battleName\\nWHERE {\\n  ?battle dbpedia-owl:year 1836 ;\\n          dbpedia-owl:place dbpedia:San_Antonio .\\n  ?battle rdfs:label ?battleName .\\n  FILTER(LANG(?battleName) = \"en\")\\n}\\nLIMIT 100\\n'\n",
      "\n",
      "syntax error for sample #124\n"
     ]
    },
    {
     "name": "stderr",
     "output_type": "stream",
     "text": [
      "\r 84%|████████▍ | 126/150 [02:01<00:16,  1.41it/s]"
     ]
    },
    {
     "name": "stdout",
     "output_type": "stream",
     "text": [
      "\n",
      "error executing SPARQL query: HTTP Error 503: Service Temporarily Unavailable\n",
      "\n",
      "syntax error for sample #125\n"
     ]
    },
    {
     "name": "stderr",
     "output_type": "stream",
     "text": [
      "\r 85%|████████▍ | 127/150 [02:01<00:16,  1.44it/s]"
     ]
    },
    {
     "name": "stdout",
     "output_type": "stream",
     "text": [
      "\n",
      "error executing SPARQL query: HTTP Error 503: Service Temporarily Unavailable\n",
      "\n",
      "syntax error for sample #126\n"
     ]
    },
    {
     "name": "stderr",
     "output_type": "stream",
     "text": [
      " 86%|████████▌ | 129/150 [02:03<00:14,  1.44it/s]"
     ]
    },
    {
     "name": "stdout",
     "output_type": "stream",
     "text": [
      "\n",
      "error executing SPARQL query: QueryBadFormed: A bad request has been sent to the endpoint: probably the SPARQL query is badly formed. \n",
      "\n",
      "Response:\n",
      "b'Virtuoso 37000 Error SP030: SPARQL compiler, line 4: Undefined namespace prefix in prefix:localpart notation at \\'wd:Q55\\' before \\'rdfs:label\\'\\n\\nSPARQL query:\\n#output-format:application/sparql-results+json\\nSELECT ?countryLabel\\nWHERE {\\n  wd:Q55 rdfs:label ?countryLabel.\\n  FILTER(LANG(?countryLabel) = \"en\")\\n}\\nLIMIT 1\\n'\n",
      "\n",
      "syntax error for sample #128\n"
     ]
    },
    {
     "name": "stderr",
     "output_type": "stream",
     "text": [
      "\r 87%|████████▋ | 130/150 [02:03<00:13,  1.45it/s]"
     ]
    },
    {
     "name": "stdout",
     "output_type": "stream",
     "text": [
      "\n",
      "empty predicted answer set for sample #129\n"
     ]
    },
    {
     "name": "stderr",
     "output_type": "stream",
     "text": [
      "\r 87%|████████▋ | 131/150 [02:04<00:13,  1.46it/s]"
     ]
    },
    {
     "name": "stdout",
     "output_type": "stream",
     "text": [
      "\n",
      "error executing SPARQL query: HTTP Error 503: Service Temporarily Unavailable\n",
      "\n",
      "syntax error for sample #130\n"
     ]
    },
    {
     "name": "stderr",
     "output_type": "stream",
     "text": [
      "\r 88%|████████▊ | 132/150 [02:05<00:12,  1.46it/s]"
     ]
    },
    {
     "name": "stdout",
     "output_type": "stream",
     "text": [
      "\n",
      "error executing SPARQL query: HTTP Error 503: Service Temporarily Unavailable\n",
      "\n",
      "syntax error for sample #131\n"
     ]
    },
    {
     "name": "stderr",
     "output_type": "stream",
     "text": [
      "\r 89%|████████▊ | 133/150 [02:05<00:11,  1.46it/s]"
     ]
    },
    {
     "name": "stdout",
     "output_type": "stream",
     "text": [
      "\n",
      "predicted answer set was supposed to be empty for sample #132\n"
     ]
    },
    {
     "name": "stderr",
     "output_type": "stream",
     "text": [
      "\r 89%|████████▉ | 134/150 [02:06<00:10,  1.46it/s]"
     ]
    },
    {
     "name": "stdout",
     "output_type": "stream",
     "text": [
      "\n",
      "empty predicted answer set for sample #133\n"
     ]
    },
    {
     "name": "stderr",
     "output_type": "stream",
     "text": [
      "\r 90%|█████████ | 135/150 [02:07<00:12,  1.22it/s]"
     ]
    },
    {
     "name": "stdout",
     "output_type": "stream",
     "text": [
      "\n",
      "empty predicted answer set for sample #134\n"
     ]
    },
    {
     "name": "stderr",
     "output_type": "stream",
     "text": [
      "\r 91%|█████████ | 136/150 [02:08<00:10,  1.29it/s]"
     ]
    },
    {
     "name": "stdout",
     "output_type": "stream",
     "text": [
      "\n",
      "error executing SPARQL query: QueryBadFormed: A bad request has been sent to the endpoint: probably the SPARQL query is badly formed. \n",
      "\n",
      "Response:\n",
      "b\"Virtuoso 37000 Error SP030: SPARQL compiler, line 4: Undefined default namespace prefix at ':subject' before '?subject'\\n\\nSPARQL query:\\n#output-format:application/sparql-results+json\\nSELECT ?subject ?p\\nWHERE {\\n  <http://dbpedia.org/resource/Krombacher_Brauerei> :subject ?subject ;\\n                                                  sep> <http://dbpedia.org/resource/Diebels_Brauerei> ;\\n                                                  <http://dbpedia.org/resource/p> ?p .\\n}\\nLIMIT 100\\n\"\n",
      "\n",
      "syntax error for sample #135\n"
     ]
    },
    {
     "name": "stderr",
     "output_type": "stream",
     "text": [
      "\r 91%|█████████▏| 137/150 [02:09<00:09,  1.33it/s]"
     ]
    },
    {
     "name": "stdout",
     "output_type": "stream",
     "text": [
      "\n",
      "error executing SPARQL query: EndPointInternalError: The endpoint returned the HTTP status code 500. \n",
      "\n",
      "Response:\n",
      "b'Virtuoso 42000 Error SR186:SECURITY: No permission to execute procedure DB.DBA.SPARUL_RUN with user ID 111, group ID 111\\n\\nSPARQL query:\\n#output-format:application/sparql-results+json\\n\\n'\n",
      "\n",
      "syntax error for sample #136\n"
     ]
    },
    {
     "name": "stderr",
     "output_type": "stream",
     "text": [
      "\r 92%|█████████▏| 138/150 [02:09<00:08,  1.36it/s]"
     ]
    },
    {
     "name": "stdout",
     "output_type": "stream",
     "text": [
      "\n",
      "empty predicted answer set for sample #137\n"
     ]
    },
    {
     "name": "stderr",
     "output_type": "stream",
     "text": [
      "\r 93%|█████████▎| 139/150 [02:10<00:08,  1.33it/s]"
     ]
    },
    {
     "name": "stdout",
     "output_type": "stream",
     "text": [
      "\n",
      "results dict has more keys than expected for sample #138\n"
     ]
    },
    {
     "name": "stderr",
     "output_type": "stream",
     "text": [
      "\r 93%|█████████▎| 140/150 [02:11<00:07,  1.37it/s]"
     ]
    },
    {
     "name": "stdout",
     "output_type": "stream",
     "text": [
      "\n",
      "error executing SPARQL query: HTTP Error 503: Service Temporarily Unavailable\n",
      "\n",
      "syntax error for sample #139\n"
     ]
    },
    {
     "name": "stderr",
     "output_type": "stream",
     "text": [
      "\r 94%|█████████▍| 141/150 [02:11<00:06,  1.40it/s]"
     ]
    },
    {
     "name": "stdout",
     "output_type": "stream",
     "text": [
      "\n",
      "empty predicted answer set for sample #140\n"
     ]
    },
    {
     "name": "stderr",
     "output_type": "stream",
     "text": [
      "\r 95%|█████████▍| 142/150 [02:12<00:05,  1.42it/s]"
     ]
    },
    {
     "name": "stdout",
     "output_type": "stream",
     "text": [
      "\n",
      "error executing SPARQL query: HTTP Error 503: Service Temporarily Unavailable\n",
      "\n",
      "syntax error for sample #141\n"
     ]
    },
    {
     "name": "stderr",
     "output_type": "stream",
     "text": [
      " 96%|█████████▌| 144/150 [02:13<00:04,  1.45it/s]"
     ]
    },
    {
     "name": "stdout",
     "output_type": "stream",
     "text": [
      "\n",
      "error executing SPARQL query: HTTP Error 503: Service Temporarily Unavailable\n",
      "\n",
      "syntax error for sample #143\n"
     ]
    },
    {
     "name": "stderr",
     "output_type": "stream",
     "text": [
      "\r 97%|█████████▋| 145/150 [02:14<00:03,  1.46it/s]"
     ]
    },
    {
     "name": "stdout",
     "output_type": "stream",
     "text": [
      "\n",
      "error executing SPARQL query: HTTP Error 503: Service Temporarily Unavailable\n",
      "\n",
      "syntax error for sample #144\n"
     ]
    },
    {
     "name": "stderr",
     "output_type": "stream",
     "text": [
      "\r 97%|█████████▋| 146/150 [02:15<00:02,  1.46it/s]"
     ]
    },
    {
     "name": "stdout",
     "output_type": "stream",
     "text": [
      "\n",
      "error executing SPARQL query: HTTP Error 503: Service Temporarily Unavailable\n",
      "\n",
      "syntax error for sample #145\n"
     ]
    },
    {
     "name": "stderr",
     "output_type": "stream",
     "text": [
      "\r 98%|█████████▊| 147/150 [02:15<00:02,  1.47it/s]"
     ]
    },
    {
     "name": "stdout",
     "output_type": "stream",
     "text": [
      "\n",
      "error executing SPARQL query: EndPointInternalError: The endpoint returned the HTTP status code 500. \n",
      "\n",
      "Response:\n",
      "b'Virtuoso 42000 Error SR186:SECURITY: No permission to execute procedure DB.DBA.SPARUL_RUN with user ID 111, group ID 111\\n\\nSPARQL query:\\n#output-format:application/sparql-results+json\\n\\n'\n",
      "\n",
      "syntax error for sample #146\n"
     ]
    },
    {
     "name": "stderr",
     "output_type": "stream",
     "text": [
      "\r 99%|█████████▊| 148/150 [02:16<00:01,  1.48it/s]"
     ]
    },
    {
     "name": "stdout",
     "output_type": "stream",
     "text": [
      "\n",
      "error executing SPARQL query: HTTP Error 503: Service Temporarily Unavailable\n",
      "\n",
      "syntax error for sample #147\n"
     ]
    },
    {
     "name": "stderr",
     "output_type": "stream",
     "text": [
      "\r 99%|█████████▉| 149/150 [02:17<00:00,  1.40it/s]"
     ]
    },
    {
     "name": "stdout",
     "output_type": "stream",
     "text": [
      "\n",
      "results dict has more keys than expected for sample #148\n"
     ]
    },
    {
     "name": "stderr",
     "output_type": "stream",
     "text": [
      "100%|██████████| 150/150 [02:18<00:00,  1.09it/s]"
     ]
    },
    {
     "name": "stdout",
     "output_type": "stream",
     "text": [
      "\n",
      "error executing SPARQL query: HTTP Error 503: Service Temporarily Unavailable\n",
      "\n",
      "syntax error for sample #149\n",
      "\n",
      "acc: 0.21840000000000004\n",
      "rec: 0.2116381995917929\n",
      "pre: 0.21840000000000004\n",
      "f1: 0.21231134003760935\n"
     ]
    },
    {
     "name": "stderr",
     "output_type": "stream",
     "text": [
      "\n"
     ]
    }
   ],
   "source": [
    "import requests\n",
    "import json\n",
    "from SPARQLWrapper import SPARQLWrapper, JSON\n",
    "from copy import deepcopy\n",
    "dbpedia_endpoint = \"http://dbpedia.org/sparql\"\n",
    "\n",
    "def execute_sparql_query(query):\n",
    "    sparql = SPARQLWrapper(dbpedia_endpoint)\n",
    "    sparql.setQuery(query)\n",
    "    sparql.setReturnFormat(JSON)\n",
    "\n",
    "    try:\n",
    "        results = sparql.queryAndConvert()\n",
    "        return results\n",
    "    except Exception as e:\n",
    "        print(f\"\\nerror executing SPARQL query: {e}\")\n",
    "        return None\n",
    "\n",
    "def process_text(txt):\n",
    "    return txt.strip().lower().replace(':','').replace('.','').replace('/','').replace('_','')\n",
    "\n",
    "def eval(gold, pred, boolean=False):\n",
    "    TP, FP, FN = 0, 0, 0\n",
    "    for item in pred:\n",
    "        new_item = process_text(item) if not boolean else item\n",
    "        if new_item in gold:\n",
    "            TP += 1\n",
    "        else:\n",
    "            FP += 1\n",
    "    pred = list(map(lambda x: process_text(x), pred)) if not boolean else pred\n",
    "    for item in gold:\n",
    "        if item not in pred:\n",
    "            FN += 1\n",
    "    acc = TP / len(pred)\n",
    "    recall = TP / (TP + FN)\n",
    "    precision = TP / (TP + FP)\n",
    "    f1 = ((2 * (precision * recall)) / (precision + recall)) if (precision + recall != 0) else 0\n",
    "    rec, pre = recall, precision\n",
    "    return acc, rec, pre, f1\n",
    "\n",
    "queries = []\n",
    "with open('/content/gpt-3.5-turbo_t5-3b-tri-10-t_qald-9-plus_v2.json', 'r') as f:\n",
    "  data = json.load(f)\n",
    "  queries = [d['pred_sparql'] for d in data]\n",
    "  ids = [d['id'] for d in data]\n",
    "  gold_ans = [d['gold_answers'] for d in data]\n",
    "  for j in range(len(gold_ans)):\n",
    "      if len(list(gold_ans[j].keys())) == 0:\n",
    "          ans = []\n",
    "      else:\n",
    "          assert len(list(gold_ans[j].keys())) == 1\n",
    "          gold_ans[j] = deepcopy(next(iter(gold_ans[j].values())))\n",
    "\n",
    "total_acc, total_rec, total_pre, total_f1 = 0, 0, 0, 0\n",
    "for i in trange(len(queries)):\n",
    "    query = queries[i]\n",
    "    pred_answers = {}\n",
    "    results = execute_sparql_query(query)\n",
    "    if (type(gold_ans[i]) != bool and len(gold_ans[i]) == 0) and (not results): # if results == None -> syntax error\n",
    "        print(f'\\nsyntax error for sample #{ids[i]}')\n",
    "        total_acc += 1\n",
    "        total_rec += 1\n",
    "        total_pre += 1\n",
    "        total_f1 += 1\n",
    "        continue\n",
    "    elif type(gold_ans[i]) != bool and (len(gold_ans[i]) > 0) and (not results): # if results == None -> syntax error\n",
    "        print(f'\\nsyntax error for sample #{ids[i]}')\n",
    "        continue\n",
    "    elif type(gold_ans[i]) == bool and (not results):\n",
    "        print(f'\\nsyntax error for sample #{ids[i]}')\n",
    "        continue\n",
    "    if 'boolean' in results.keys():\n",
    "        acc, rec, pre, f1 = eval([gold_ans[i]], [results['boolean']], boolean=True)\n",
    "        total_acc += acc\n",
    "        total_rec += rec\n",
    "        total_pre += pre\n",
    "        total_f1 += f1\n",
    "        continue\n",
    "    else:\n",
    "        for result in results[\"results\"][\"bindings\"]:\n",
    "            for var_name, var_data in result.items():\n",
    "                var_value = var_data[\"value\"]\n",
    "                if var_name in pred_answers.keys():\n",
    "                    pred_answers[var_name].append(var_value)\n",
    "                else:\n",
    "                    pred_answers[var_name] = [var_value]\n",
    "    if (type(gold_ans[i]) != bool) and (len(gold_ans[i]) == 0) and (len(list(pred_answers.keys())) == 0):\n",
    "        total_acc += 1\n",
    "        total_rec += 1\n",
    "        total_pre += 1\n",
    "        total_f1 += 1\n",
    "        continue\n",
    "    elif (type(gold_ans[i]) != bool) and (len(gold_ans[i]) > 0) and (len(list(pred_answers.keys())) == 0):\n",
    "        print(f'\\nempty predicted answer set for sample #{ids[i]}')\n",
    "        continue\n",
    "    elif (type(gold_ans[i]) != bool) and (len(gold_ans[i]) == 0) and (len(list(pred_answers.keys())) > 0):\n",
    "        print(f'\\npredicted answer set was supposed to be empty for sample #{ids[i]}')\n",
    "        continue\n",
    "    elif type(gold_ans[i]) == bool:\n",
    "        print(f'\\nresults are not of type boolean for sample #{ids[i]}')\n",
    "        continue\n",
    "    try:\n",
    "        assert len(list(pred_answers.keys())) == 1\n",
    "    except:\n",
    "        print(f'\\nresults dict has more keys than expected for sample #{ids[i]}')\n",
    "        continue\n",
    "    pred_ans = next(iter(pred_answers.values()))\n",
    "    acc, rec, pre, f1 = eval(list(map(lambda x: process_text(x), gold_ans[i])), pred_ans)\n",
    "    total_acc += acc\n",
    "    total_rec += rec\n",
    "    total_pre += pre\n",
    "    total_f1 += f1\n",
    "    # print(f'\\ninfo for sample #{ids[i]}:')\n",
    "    # print(f'acc = {acc}, rec = {rec}, pre = {pre}, f1 = {f1}')\n",
    "    # print('\\n'.join(gold_ans[i]))\n",
    "    # print('---')\n",
    "    # print('\\n'.join(pred_ans))\n",
    "    # print()\n",
    "print(f'\\nacc: {total_acc / len(queries)}')\n",
    "print(f'rec: {total_rec / len(queries)}')\n",
    "print(f'pre: {total_pre / len(queries)}')\n",
    "print(f'f1: {total_f1 / len(queries)}')"
   ]
  },
  {
   "cell_type": "markdown",
   "metadata": {
    "id": "5Z7uAvwJtJ-n"
   },
   "source": [
    "#### T5-3B zero-shot setting\n",
    "model_8: t5-3b-t"
   ]
  },
  {
   "cell_type": "code",
   "execution_count": null,
   "metadata": {
    "colab": {
     "base_uri": "https://localhost:8080/",
     "height": 1000
    },
    "id": "WqAkTxw25cqh",
    "outputId": "7fa65d2d-1968-4550-bbbd-3090297391af"
   },
   "outputs": [
    {
     "data": {
      "text/html": [
       "\n",
       "  <style>\n",
       "    pre {\n",
       "        white-space: pre-wrap;\n",
       "    }\n",
       "  </style>\n",
       "  "
      ],
      "text/plain": [
       "<IPython.core.display.HTML object>"
      ]
     },
     "metadata": {},
     "output_type": "display_data"
    },
    {
     "name": "stderr",
     "output_type": "stream",
     "text": [
      "  1%|          | 1/150 [00:01<02:40,  1.07s/it]"
     ]
    },
    {
     "name": "stdout",
     "output_type": "stream",
     "text": [
      "\n",
      "results dict has more keys than expected for sample #0\n"
     ]
    },
    {
     "name": "stderr",
     "output_type": "stream",
     "text": [
      "\r  1%|▏         | 2/150 [00:01<02:18,  1.07it/s]"
     ]
    },
    {
     "name": "stdout",
     "output_type": "stream",
     "text": [
      "\n",
      "error executing SPARQL query: HTTP Error 503: Service Temporarily Unavailable\n",
      "\n",
      "syntax error for sample #1\n"
     ]
    },
    {
     "name": "stderr",
     "output_type": "stream",
     "text": [
      "\r  2%|▏         | 3/150 [00:02<01:59,  1.23it/s]"
     ]
    },
    {
     "name": "stdout",
     "output_type": "stream",
     "text": [
      "\n",
      "error executing SPARQL query: HTTP Error 503: Service Temporarily Unavailable\n",
      "\n",
      "syntax error for sample #2\n"
     ]
    },
    {
     "name": "stderr",
     "output_type": "stream",
     "text": [
      "\r  3%|▎         | 4/150 [00:03<01:59,  1.23it/s]"
     ]
    },
    {
     "name": "stdout",
     "output_type": "stream",
     "text": [
      "\n",
      "results dict has more keys than expected for sample #3\n"
     ]
    },
    {
     "name": "stderr",
     "output_type": "stream",
     "text": [
      "\r  3%|▎         | 5/150 [00:04<01:56,  1.24it/s]"
     ]
    },
    {
     "name": "stdout",
     "output_type": "stream",
     "text": [
      "\n",
      "predicted answer set was supposed to be empty for sample #4\n"
     ]
    },
    {
     "name": "stderr",
     "output_type": "stream",
     "text": [
      "\r  4%|▍         | 6/150 [00:04<01:49,  1.31it/s]"
     ]
    },
    {
     "name": "stdout",
     "output_type": "stream",
     "text": [
      "\n",
      "error executing SPARQL query: HTTP Error 503: Service Temporarily Unavailable\n",
      "\n",
      "syntax error for sample #5\n"
     ]
    },
    {
     "name": "stderr",
     "output_type": "stream",
     "text": [
      "\r  5%|▍         | 7/150 [00:05<01:50,  1.30it/s]"
     ]
    },
    {
     "name": "stdout",
     "output_type": "stream",
     "text": [
      "\n",
      "results dict has more keys than expected for sample #6\n"
     ]
    },
    {
     "name": "stderr",
     "output_type": "stream",
     "text": [
      "\r  5%|▌         | 8/150 [00:06<01:45,  1.34it/s]"
     ]
    },
    {
     "name": "stdout",
     "output_type": "stream",
     "text": [
      "\n",
      "empty predicted answer set for sample #7\n"
     ]
    },
    {
     "name": "stderr",
     "output_type": "stream",
     "text": [
      "\r  6%|▌         | 9/150 [00:07<01:42,  1.38it/s]"
     ]
    },
    {
     "name": "stdout",
     "output_type": "stream",
     "text": [
      "\n",
      "results are not of type boolean for sample #8\n"
     ]
    },
    {
     "name": "stderr",
     "output_type": "stream",
     "text": [
      "\r  7%|▋         | 10/150 [00:07<01:39,  1.40it/s]"
     ]
    },
    {
     "name": "stdout",
     "output_type": "stream",
     "text": [
      "\n",
      "error executing SPARQL query: HTTP Error 503: Service Temporarily Unavailable\n",
      "\n",
      "syntax error for sample #9\n"
     ]
    },
    {
     "name": "stderr",
     "output_type": "stream",
     "text": [
      "\r  7%|▋         | 11/150 [00:08<01:42,  1.35it/s]"
     ]
    },
    {
     "name": "stdout",
     "output_type": "stream",
     "text": [
      "\n",
      "results dict has more keys than expected for sample #10\n"
     ]
    },
    {
     "name": "stderr",
     "output_type": "stream",
     "text": [
      "\r  8%|▊         | 12/150 [00:09<01:44,  1.33it/s]"
     ]
    },
    {
     "name": "stdout",
     "output_type": "stream",
     "text": [
      "\n",
      "results dict has more keys than expected for sample #11\n"
     ]
    },
    {
     "name": "stderr",
     "output_type": "stream",
     "text": [
      "\r  9%|▊         | 13/150 [00:10<01:44,  1.31it/s]"
     ]
    },
    {
     "name": "stdout",
     "output_type": "stream",
     "text": [
      "\n",
      "results dict has more keys than expected for sample #12\n"
     ]
    },
    {
     "name": "stderr",
     "output_type": "stream",
     "text": [
      "\r  9%|▉         | 14/150 [00:10<01:45,  1.29it/s]"
     ]
    },
    {
     "name": "stdout",
     "output_type": "stream",
     "text": [
      "\n",
      "results dict has more keys than expected for sample #13\n"
     ]
    },
    {
     "name": "stderr",
     "output_type": "stream",
     "text": [
      "\r 10%|█         | 15/150 [00:11<01:45,  1.28it/s]"
     ]
    },
    {
     "name": "stdout",
     "output_type": "stream",
     "text": [
      "\n",
      "results dict has more keys than expected for sample #14\n"
     ]
    },
    {
     "name": "stderr",
     "output_type": "stream",
     "text": [
      "\r 11%|█         | 16/150 [00:12<01:42,  1.31it/s]"
     ]
    },
    {
     "name": "stdout",
     "output_type": "stream",
     "text": [
      "\n",
      "empty predicted answer set for sample #15\n"
     ]
    },
    {
     "name": "stderr",
     "output_type": "stream",
     "text": [
      "\r 11%|█▏        | 17/150 [00:13<01:38,  1.36it/s]"
     ]
    },
    {
     "name": "stdout",
     "output_type": "stream",
     "text": [
      "\n",
      "error executing SPARQL query: HTTP Error 503: Service Temporarily Unavailable\n",
      "\n",
      "syntax error for sample #16\n"
     ]
    },
    {
     "name": "stderr",
     "output_type": "stream",
     "text": [
      "\r 12%|█▏        | 18/150 [00:13<01:34,  1.39it/s]"
     ]
    },
    {
     "name": "stdout",
     "output_type": "stream",
     "text": [
      "\n",
      "empty predicted answer set for sample #17\n"
     ]
    },
    {
     "name": "stderr",
     "output_type": "stream",
     "text": [
      "\r 13%|█▎        | 19/150 [00:14<01:36,  1.36it/s]"
     ]
    },
    {
     "name": "stdout",
     "output_type": "stream",
     "text": [
      "\n",
      "results dict has more keys than expected for sample #18\n"
     ]
    },
    {
     "name": "stderr",
     "output_type": "stream",
     "text": [
      "\r 13%|█▎        | 20/150 [00:15<01:38,  1.32it/s]"
     ]
    },
    {
     "name": "stdout",
     "output_type": "stream",
     "text": [
      "\n",
      "results dict has more keys than expected for sample #19\n"
     ]
    },
    {
     "name": "stderr",
     "output_type": "stream",
     "text": [
      "\r 14%|█▍        | 21/150 [00:16<01:34,  1.36it/s]"
     ]
    },
    {
     "name": "stdout",
     "output_type": "stream",
     "text": [
      "\n",
      "empty predicted answer set for sample #20\n"
     ]
    },
    {
     "name": "stderr",
     "output_type": "stream",
     "text": [
      " 15%|█▌        | 23/150 [00:17<01:33,  1.36it/s]"
     ]
    },
    {
     "name": "stdout",
     "output_type": "stream",
     "text": [
      "\n",
      "predicted answer set was supposed to be empty for sample #22\n"
     ]
    },
    {
     "name": "stderr",
     "output_type": "stream",
     "text": [
      " 17%|█▋        | 25/150 [00:18<01:28,  1.42it/s]"
     ]
    },
    {
     "name": "stdout",
     "output_type": "stream",
     "text": [
      "\n",
      "empty predicted answer set for sample #24\n"
     ]
    },
    {
     "name": "stderr",
     "output_type": "stream",
     "text": [
      "\r 17%|█▋        | 26/150 [00:19<01:26,  1.43it/s]"
     ]
    },
    {
     "name": "stdout",
     "output_type": "stream",
     "text": [
      "\n",
      "error executing SPARQL query: HTTP Error 503: Service Temporarily Unavailable\n",
      "\n",
      "syntax error for sample #25\n"
     ]
    },
    {
     "name": "stderr",
     "output_type": "stream",
     "text": [
      "\r 18%|█▊        | 27/150 [00:20<01:25,  1.44it/s]"
     ]
    },
    {
     "name": "stdout",
     "output_type": "stream",
     "text": [
      "\n",
      "error executing SPARQL query: QueryBadFormed: A bad request has been sent to the endpoint: probably the SPARQL query is badly formed. \n",
      "\n",
      "Response:\n",
      "b\"Virtuoso 37000 Error SP030: SPARQL compiler, line 6: Undefined namespace prefix in prefix:localpart notation at 'dbpedia:Millepede' before ')'\\n\\nSPARQL query:\\n#output-format:application/sparql-results+json\\nSELECT DISTINCT ?classLabel\\nWHERE {\\n  ?millepede rdf:type ?class.\\n  ?class rdfs:label ?classLabel.\\n  FILTER (LANG(?classLabel) = 'en' && ?millepede = dbpedia:Millepede)\\n}\\nLIMIT 100\\n\"\n",
      "\n",
      "syntax error for sample #26\n"
     ]
    },
    {
     "name": "stderr",
     "output_type": "stream",
     "text": [
      "\r 19%|█▊        | 28/150 [00:20<01:24,  1.45it/s]"
     ]
    },
    {
     "name": "stdout",
     "output_type": "stream",
     "text": [
      "\n",
      "predicted answer set was supposed to be empty for sample #27\n"
     ]
    },
    {
     "name": "stderr",
     "output_type": "stream",
     "text": [
      "\r 19%|█▉        | 29/150 [00:21<01:26,  1.40it/s]"
     ]
    },
    {
     "name": "stdout",
     "output_type": "stream",
     "text": [
      "\n",
      "predicted answer set was supposed to be empty for sample #28\n"
     ]
    },
    {
     "name": "stderr",
     "output_type": "stream",
     "text": [
      "\r 20%|██        | 30/150 [00:22<01:31,  1.31it/s]"
     ]
    },
    {
     "name": "stdout",
     "output_type": "stream",
     "text": [
      "\n",
      "empty predicted answer set for sample #29\n"
     ]
    },
    {
     "name": "stderr",
     "output_type": "stream",
     "text": [
      "\r 21%|██        | 31/150 [00:23<01:31,  1.29it/s]"
     ]
    },
    {
     "name": "stdout",
     "output_type": "stream",
     "text": [
      "\n",
      "results dict has more keys than expected for sample #30\n"
     ]
    },
    {
     "name": "stderr",
     "output_type": "stream",
     "text": [
      "\r 21%|██▏       | 32/150 [00:24<01:32,  1.28it/s]"
     ]
    },
    {
     "name": "stdout",
     "output_type": "stream",
     "text": [
      "\n",
      "predicted answer set was supposed to be empty for sample #31\n"
     ]
    },
    {
     "name": "stderr",
     "output_type": "stream",
     "text": [
      "\r 22%|██▏       | 33/150 [00:24<01:32,  1.27it/s]"
     ]
    },
    {
     "name": "stdout",
     "output_type": "stream",
     "text": [
      "\n",
      "results dict has more keys than expected for sample #32\n"
     ]
    },
    {
     "name": "stderr",
     "output_type": "stream",
     "text": [
      "\r 23%|██▎       | 34/150 [00:25<01:31,  1.27it/s]"
     ]
    },
    {
     "name": "stdout",
     "output_type": "stream",
     "text": [
      "\n",
      "predicted answer set was supposed to be empty for sample #33\n"
     ]
    },
    {
     "name": "stderr",
     "output_type": "stream",
     "text": [
      "\r 23%|██▎       | 35/150 [00:26<01:30,  1.27it/s]"
     ]
    },
    {
     "name": "stdout",
     "output_type": "stream",
     "text": [
      "\n",
      "results dict has more keys than expected for sample #34\n"
     ]
    },
    {
     "name": "stderr",
     "output_type": "stream",
     "text": [
      " 25%|██▍       | 37/150 [00:27<01:22,  1.36it/s]"
     ]
    },
    {
     "name": "stdout",
     "output_type": "stream",
     "text": [
      "\n",
      "empty predicted answer set for sample #36\n"
     ]
    },
    {
     "name": "stderr",
     "output_type": "stream",
     "text": [
      "\r 25%|██▌       | 38/150 [00:39<07:43,  4.14s/it]"
     ]
    },
    {
     "name": "stdout",
     "output_type": "stream",
     "text": [
      "\n",
      "results dict has more keys than expected for sample #37\n"
     ]
    },
    {
     "name": "stderr",
     "output_type": "stream",
     "text": [
      "\r 26%|██▌       | 39/150 [00:40<05:52,  3.18s/it]"
     ]
    },
    {
     "name": "stdout",
     "output_type": "stream",
     "text": [
      "\n",
      "results dict has more keys than expected for sample #38\n"
     ]
    },
    {
     "name": "stderr",
     "output_type": "stream",
     "text": [
      "\r 27%|██▋       | 40/150 [00:41<04:31,  2.47s/it]"
     ]
    },
    {
     "name": "stdout",
     "output_type": "stream",
     "text": [
      "\n",
      "error executing SPARQL query: HTTP Error 503: Service Temporarily Unavailable\n",
      "\n",
      "syntax error for sample #39\n"
     ]
    },
    {
     "name": "stderr",
     "output_type": "stream",
     "text": [
      "\r 27%|██▋       | 41/150 [00:42<03:30,  1.93s/it]"
     ]
    },
    {
     "name": "stdout",
     "output_type": "stream",
     "text": [
      "\n",
      "error executing SPARQL query: HTTP Error 503: Service Temporarily Unavailable\n",
      "\n",
      "syntax error for sample #40\n"
     ]
    },
    {
     "name": "stderr",
     "output_type": "stream",
     "text": [
      "\r 28%|██▊       | 42/150 [00:43<02:47,  1.55s/it]"
     ]
    },
    {
     "name": "stdout",
     "output_type": "stream",
     "text": [
      "\n",
      "empty predicted answer set for sample #41\n"
     ]
    },
    {
     "name": "stderr",
     "output_type": "stream",
     "text": [
      " 31%|███       | 46/150 [00:45<01:33,  1.12it/s]"
     ]
    },
    {
     "name": "stdout",
     "output_type": "stream",
     "text": [
      "\n",
      "error executing SPARQL query: HTTP Error 503: Service Temporarily Unavailable\n",
      "\n",
      "syntax error for sample #45\n"
     ]
    },
    {
     "name": "stderr",
     "output_type": "stream",
     "text": [
      "\r 31%|███▏      | 47/150 [00:46<01:25,  1.20it/s]"
     ]
    },
    {
     "name": "stdout",
     "output_type": "stream",
     "text": [
      "\n",
      "empty predicted answer set for sample #46\n"
     ]
    },
    {
     "name": "stderr",
     "output_type": "stream",
     "text": [
      "\r 32%|███▏      | 48/150 [00:47<01:20,  1.27it/s]"
     ]
    },
    {
     "name": "stdout",
     "output_type": "stream",
     "text": [
      "\n",
      "error executing SPARQL query: HTTP Error 503: Service Temporarily Unavailable\n",
      "\n",
      "syntax error for sample #47\n"
     ]
    },
    {
     "name": "stderr",
     "output_type": "stream",
     "text": [
      "\r 33%|███▎      | 49/150 [00:47<01:19,  1.27it/s]"
     ]
    },
    {
     "name": "stdout",
     "output_type": "stream",
     "text": [
      "\n",
      "results dict has more keys than expected for sample #48\n"
     ]
    },
    {
     "name": "stderr",
     "output_type": "stream",
     "text": [
      "\r 33%|███▎      | 50/150 [00:48<01:20,  1.25it/s]"
     ]
    },
    {
     "name": "stdout",
     "output_type": "stream",
     "text": [
      "\n",
      "predicted answer set was supposed to be empty for sample #49\n"
     ]
    },
    {
     "name": "stderr",
     "output_type": "stream",
     "text": [
      "\r 34%|███▍      | 51/150 [00:49<01:18,  1.25it/s]"
     ]
    },
    {
     "name": "stdout",
     "output_type": "stream",
     "text": [
      "\n",
      "results dict has more keys than expected for sample #50\n"
     ]
    },
    {
     "name": "stderr",
     "output_type": "stream",
     "text": [
      "\r 35%|███▍      | 52/150 [00:50<01:17,  1.26it/s]"
     ]
    },
    {
     "name": "stdout",
     "output_type": "stream",
     "text": [
      "\n",
      "results dict has more keys than expected for sample #51\n"
     ]
    },
    {
     "name": "stderr",
     "output_type": "stream",
     "text": [
      "\r 35%|███▌      | 53/150 [00:51<01:13,  1.32it/s]"
     ]
    },
    {
     "name": "stdout",
     "output_type": "stream",
     "text": [
      "\n",
      "empty predicted answer set for sample #52\n"
     ]
    },
    {
     "name": "stderr",
     "output_type": "stream",
     "text": [
      "\r 36%|███▌      | 54/150 [00:51<01:10,  1.36it/s]"
     ]
    },
    {
     "name": "stdout",
     "output_type": "stream",
     "text": [
      "\n",
      "error executing SPARQL query: HTTP Error 503: Service Temporarily Unavailable\n",
      "\n",
      "syntax error for sample #53\n"
     ]
    },
    {
     "name": "stderr",
     "output_type": "stream",
     "text": [
      "\r 37%|███▋      | 55/150 [00:52<01:11,  1.34it/s]"
     ]
    },
    {
     "name": "stdout",
     "output_type": "stream",
     "text": [
      "\n",
      "results dict has more keys than expected for sample #54\n"
     ]
    },
    {
     "name": "stderr",
     "output_type": "stream",
     "text": [
      "\r 37%|███▋      | 56/150 [00:53<01:11,  1.31it/s]"
     ]
    },
    {
     "name": "stdout",
     "output_type": "stream",
     "text": [
      "\n",
      "results are not of type boolean for sample #55\n"
     ]
    },
    {
     "name": "stderr",
     "output_type": "stream",
     "text": [
      "\r 38%|███▊      | 57/150 [00:54<01:11,  1.30it/s]"
     ]
    },
    {
     "name": "stdout",
     "output_type": "stream",
     "text": [
      "\n",
      "results dict has more keys than expected for sample #56\n"
     ]
    },
    {
     "name": "stderr",
     "output_type": "stream",
     "text": [
      "\r 39%|███▊      | 58/150 [00:54<01:08,  1.35it/s]"
     ]
    },
    {
     "name": "stdout",
     "output_type": "stream",
     "text": [
      "\n",
      "empty predicted answer set for sample #57\n"
     ]
    },
    {
     "name": "stderr",
     "output_type": "stream",
     "text": [
      "\r 39%|███▉      | 59/150 [00:55<01:08,  1.33it/s]"
     ]
    },
    {
     "name": "stdout",
     "output_type": "stream",
     "text": [
      "\n",
      "results dict has more keys than expected for sample #58\n"
     ]
    },
    {
     "name": "stderr",
     "output_type": "stream",
     "text": [
      "\r 40%|████      | 60/150 [00:56<01:05,  1.37it/s]"
     ]
    },
    {
     "name": "stdout",
     "output_type": "stream",
     "text": [
      "\n",
      "error executing SPARQL query: HTTP Error 503: Service Temporarily Unavailable\n",
      "\n",
      "syntax error for sample #59\n"
     ]
    },
    {
     "name": "stderr",
     "output_type": "stream",
     "text": [
      "\r 41%|████      | 61/150 [00:57<01:06,  1.34it/s]"
     ]
    },
    {
     "name": "stdout",
     "output_type": "stream",
     "text": [
      "\n",
      "predicted answer set was supposed to be empty for sample #60\n"
     ]
    },
    {
     "name": "stderr",
     "output_type": "stream",
     "text": [
      "\r 41%|████▏     | 62/150 [00:57<01:03,  1.38it/s]"
     ]
    },
    {
     "name": "stdout",
     "output_type": "stream",
     "text": [
      "\n",
      "error executing SPARQL query: HTTP Error 503: Service Temporarily Unavailable\n",
      "\n",
      "syntax error for sample #61\n"
     ]
    },
    {
     "name": "stderr",
     "output_type": "stream",
     "text": [
      " 43%|████▎     | 64/150 [00:59<01:02,  1.37it/s]"
     ]
    },
    {
     "name": "stdout",
     "output_type": "stream",
     "text": [
      "\n",
      "predicted answer set was supposed to be empty for sample #63\n"
     ]
    },
    {
     "name": "stderr",
     "output_type": "stream",
     "text": [
      "\r 43%|████▎     | 65/150 [00:59<01:00,  1.40it/s]"
     ]
    },
    {
     "name": "stdout",
     "output_type": "stream",
     "text": [
      "\n",
      "error executing SPARQL query: HTTP Error 503: Service Temporarily Unavailable\n",
      "\n",
      "syntax error for sample #64\n"
     ]
    },
    {
     "name": "stderr",
     "output_type": "stream",
     "text": [
      " 45%|████▍     | 67/150 [01:01<00:58,  1.43it/s]"
     ]
    },
    {
     "name": "stdout",
     "output_type": "stream",
     "text": [
      "\n",
      "error executing SPARQL query: HTTP Error 503: Service Temporarily Unavailable\n",
      "\n",
      "syntax error for sample #66\n"
     ]
    },
    {
     "name": "stderr",
     "output_type": "stream",
     "text": [
      "\r 45%|████▌     | 68/150 [01:01<00:57,  1.44it/s]"
     ]
    },
    {
     "name": "stdout",
     "output_type": "stream",
     "text": [
      "\n",
      "error executing SPARQL query: HTTP Error 503: Service Temporarily Unavailable\n",
      "\n",
      "syntax error for sample #67\n"
     ]
    },
    {
     "name": "stderr",
     "output_type": "stream",
     "text": [
      "\r 46%|████▌     | 69/150 [01:02<00:55,  1.46it/s]"
     ]
    },
    {
     "name": "stdout",
     "output_type": "stream",
     "text": [
      "\n",
      "empty predicted answer set for sample #68\n"
     ]
    },
    {
     "name": "stderr",
     "output_type": "stream",
     "text": [
      "\r 47%|████▋     | 70/150 [01:03<00:55,  1.45it/s]"
     ]
    },
    {
     "name": "stdout",
     "output_type": "stream",
     "text": [
      "\n",
      "empty predicted answer set for sample #69\n"
     ]
    },
    {
     "name": "stderr",
     "output_type": "stream",
     "text": [
      "\r 47%|████▋     | 71/150 [01:03<00:54,  1.45it/s]"
     ]
    },
    {
     "name": "stdout",
     "output_type": "stream",
     "text": [
      "\n",
      "error executing SPARQL query: EndPointInternalError: The endpoint returned the HTTP status code 500. \n",
      "\n",
      "Response:\n",
      "b'Virtuoso 42000 Error SR186:SECURITY: No permission to execute procedure DB.DBA.SPARUL_RUN with user ID 111, group ID 111\\n\\nSPARQL query:\\n#output-format:application/sparql-results+json\\n\\n'\n",
      "\n",
      "syntax error for sample #70\n"
     ]
    },
    {
     "name": "stderr",
     "output_type": "stream",
     "text": [
      "\r 48%|████▊     | 72/150 [01:04<00:53,  1.45it/s]"
     ]
    },
    {
     "name": "stdout",
     "output_type": "stream",
     "text": [
      "\n",
      "error executing SPARQL query: EndPointInternalError: The endpoint returned the HTTP status code 500. \n",
      "\n",
      "Response:\n",
      "b'Virtuoso 42000 Error SR186:SECURITY: No permission to execute procedure DB.DBA.SPARUL_RUN with user ID 111, group ID 111\\n\\nSPARQL query:\\n#output-format:application/sparql-results+json\\n\\n'\n",
      "\n",
      "syntax error for sample #71\n"
     ]
    },
    {
     "name": "stderr",
     "output_type": "stream",
     "text": [
      "\r 49%|████▊     | 73/150 [01:05<00:52,  1.46it/s]"
     ]
    },
    {
     "name": "stdout",
     "output_type": "stream",
     "text": [
      "\n",
      "error executing SPARQL query: HTTP Error 503: Service Temporarily Unavailable\n",
      "\n",
      "syntax error for sample #72\n"
     ]
    },
    {
     "name": "stderr",
     "output_type": "stream",
     "text": [
      "\r 49%|████▉     | 74/150 [01:05<00:51,  1.47it/s]"
     ]
    },
    {
     "name": "stdout",
     "output_type": "stream",
     "text": [
      "\n",
      "error executing SPARQL query: EndPointInternalError: The endpoint returned the HTTP status code 500. \n",
      "\n",
      "Response:\n",
      "b'Virtuoso 42000 Error SR186:SECURITY: No permission to execute procedure DB.DBA.SPARUL_RUN with user ID 111, group ID 111\\n\\nSPARQL query:\\n#output-format:application/sparql-results+json\\n\\n'\n",
      "\n",
      "syntax error for sample #73\n"
     ]
    },
    {
     "name": "stderr",
     "output_type": "stream",
     "text": [
      "\r 50%|█████     | 75/150 [01:06<00:51,  1.47it/s]"
     ]
    },
    {
     "name": "stdout",
     "output_type": "stream",
     "text": [
      "\n",
      "error executing SPARQL query: EndPointInternalError: The endpoint returned the HTTP status code 500. \n",
      "\n",
      "Response:\n",
      "b'Virtuoso 42000 Error SR186:SECURITY: No permission to execute procedure DB.DBA.SPARUL_RUN with user ID 111, group ID 111\\n\\nSPARQL query:\\n#output-format:application/sparql-results+json\\n\\n'\n",
      "\n",
      "syntax error for sample #74\n"
     ]
    },
    {
     "name": "stderr",
     "output_type": "stream",
     "text": [
      "\r 51%|█████     | 76/150 [01:07<00:52,  1.41it/s]"
     ]
    },
    {
     "name": "stdout",
     "output_type": "stream",
     "text": [
      "\n",
      "results dict has more keys than expected for sample #75\n"
     ]
    },
    {
     "name": "stderr",
     "output_type": "stream",
     "text": [
      "\r 51%|█████▏    | 77/150 [01:08<00:51,  1.42it/s]"
     ]
    },
    {
     "name": "stdout",
     "output_type": "stream",
     "text": [
      "\n",
      "empty predicted answer set for sample #76\n"
     ]
    },
    {
     "name": "stderr",
     "output_type": "stream",
     "text": [
      "\r 52%|█████▏    | 78/150 [01:08<00:50,  1.43it/s]"
     ]
    },
    {
     "name": "stdout",
     "output_type": "stream",
     "text": [
      "\n",
      "error executing SPARQL query: QueryBadFormed: A bad request has been sent to the endpoint: probably the SPARQL query is badly formed. \n",
      "\n",
      "Response:\n",
      "b\"Virtuoso 37000 Error SP030: SPARQL compiler, line 4: Undefined namespace prefix in prefix:localpart notation at 'dbpedia-owl:Chancellor' before ';'\\n\\nSPARQL query:\\n#output-format:application/sparql-results+json\\nSELECT ?chancellor\\nWHERE {\\n  ?chancellor rdf:type dbpedia-owl:Chancellor ;\\n              dbpedia-owl:birthPlace ?birthPlace ;\\n              dbpedia-owl:gender dbpedia-owl:Female .\\n  ?birthPlace dbpedia-owl:country dbpedia:Germany .\\n}\\n\"\n",
      "\n",
      "syntax error for sample #77\n"
     ]
    },
    {
     "name": "stderr",
     "output_type": "stream",
     "text": [
      "\r 53%|█████▎    | 79/150 [01:09<00:51,  1.38it/s]"
     ]
    },
    {
     "name": "stdout",
     "output_type": "stream",
     "text": [
      "\n",
      "results dict has more keys than expected for sample #78\n"
     ]
    },
    {
     "name": "stderr",
     "output_type": "stream",
     "text": [
      "\r 53%|█████▎    | 80/150 [01:10<00:55,  1.26it/s]"
     ]
    },
    {
     "name": "stdout",
     "output_type": "stream",
     "text": [
      "\n",
      "results dict has more keys than expected for sample #79\n"
     ]
    },
    {
     "name": "stderr",
     "output_type": "stream",
     "text": [
      "\r 54%|█████▍    | 81/150 [01:11<00:54,  1.26it/s]"
     ]
    },
    {
     "name": "stdout",
     "output_type": "stream",
     "text": [
      "\n",
      "error executing SPARQL query: HTTP Error 503: Service Temporarily Unavailable\n",
      "\n",
      "syntax error for sample #80\n"
     ]
    },
    {
     "name": "stderr",
     "output_type": "stream",
     "text": [
      "\r 55%|█████▍    | 82/150 [01:11<00:51,  1.32it/s]"
     ]
    },
    {
     "name": "stdout",
     "output_type": "stream",
     "text": [
      "\n",
      "empty predicted answer set for sample #81\n"
     ]
    },
    {
     "name": "stderr",
     "output_type": "stream",
     "text": [
      "\r 55%|█████▌    | 83/150 [01:12<00:51,  1.30it/s]"
     ]
    },
    {
     "name": "stdout",
     "output_type": "stream",
     "text": [
      "\n",
      "predicted answer set was supposed to be empty for sample #82\n"
     ]
    },
    {
     "name": "stderr",
     "output_type": "stream",
     "text": [
      "\r 56%|█████▌    | 84/150 [01:13<00:51,  1.29it/s]"
     ]
    },
    {
     "name": "stdout",
     "output_type": "stream",
     "text": [
      "\n",
      "predicted answer set was supposed to be empty for sample #83\n"
     ]
    },
    {
     "name": "stderr",
     "output_type": "stream",
     "text": [
      "\r 57%|█████▋    | 85/150 [01:14<00:50,  1.28it/s]"
     ]
    },
    {
     "name": "stdout",
     "output_type": "stream",
     "text": [
      "\n",
      "results dict has more keys than expected for sample #84\n"
     ]
    },
    {
     "name": "stderr",
     "output_type": "stream",
     "text": [
      "\r 57%|█████▋    | 86/150 [01:15<00:49,  1.28it/s]"
     ]
    },
    {
     "name": "stdout",
     "output_type": "stream",
     "text": [
      "\n",
      "results are not of type boolean for sample #85\n"
     ]
    },
    {
     "name": "stderr",
     "output_type": "stream",
     "text": [
      "\r 58%|█████▊    | 87/150 [01:15<00:49,  1.28it/s]"
     ]
    },
    {
     "name": "stdout",
     "output_type": "stream",
     "text": [
      "\n",
      "results dict has more keys than expected for sample #86\n"
     ]
    },
    {
     "name": "stderr",
     "output_type": "stream",
     "text": [
      "\r 59%|█████▊    | 88/150 [01:16<00:46,  1.33it/s]"
     ]
    },
    {
     "name": "stdout",
     "output_type": "stream",
     "text": [
      "\n",
      "empty predicted answer set for sample #87\n"
     ]
    },
    {
     "name": "stderr",
     "output_type": "stream",
     "text": [
      "\r 59%|█████▉    | 89/150 [01:17<00:46,  1.32it/s]"
     ]
    },
    {
     "name": "stdout",
     "output_type": "stream",
     "text": [
      "\n",
      "predicted answer set was supposed to be empty for sample #88\n"
     ]
    },
    {
     "name": "stderr",
     "output_type": "stream",
     "text": [
      "\r 60%|██████    | 90/150 [01:18<00:45,  1.30it/s]"
     ]
    },
    {
     "name": "stdout",
     "output_type": "stream",
     "text": [
      "\n",
      "predicted answer set was supposed to be empty for sample #89\n"
     ]
    },
    {
     "name": "stderr",
     "output_type": "stream",
     "text": [
      "\r 61%|██████    | 91/150 [01:19<01:01,  1.04s/it]"
     ]
    },
    {
     "name": "stdout",
     "output_type": "stream",
     "text": [
      "\n",
      "error executing SPARQL query: HTTP Error 503: Service Temporarily Unavailable\n",
      "\n",
      "syntax error for sample #90\n"
     ]
    },
    {
     "name": "stderr",
     "output_type": "stream",
     "text": [
      " 62%|██████▏   | 93/150 [01:21<00:48,  1.17it/s]"
     ]
    },
    {
     "name": "stdout",
     "output_type": "stream",
     "text": [
      "\n",
      "error executing SPARQL query: EndPointInternalError: The endpoint returned the HTTP status code 500. \n",
      "\n",
      "Response:\n",
      "b'Virtuoso 42000 Error SR186:SECURITY: No permission to execute procedure DB.DBA.SPARUL_RUN with user ID 111, group ID 111\\n\\nSPARQL query:\\n#output-format:application/sparql-results+json\\n\\n'\n",
      "\n",
      "syntax error for sample #92\n"
     ]
    },
    {
     "name": "stderr",
     "output_type": "stream",
     "text": [
      "\r 63%|██████▎   | 94/150 [01:21<00:46,  1.20it/s]"
     ]
    },
    {
     "name": "stdout",
     "output_type": "stream",
     "text": [
      "\n",
      "predicted answer set was supposed to be empty for sample #93\n"
     ]
    },
    {
     "name": "stderr",
     "output_type": "stream",
     "text": [
      "\r 63%|██████▎   | 95/150 [01:22<00:45,  1.22it/s]"
     ]
    },
    {
     "name": "stdout",
     "output_type": "stream",
     "text": [
      "\n",
      "predicted answer set was supposed to be empty for sample #94\n"
     ]
    },
    {
     "name": "stderr",
     "output_type": "stream",
     "text": [
      "\r 64%|██████▍   | 96/150 [01:23<00:43,  1.24it/s]"
     ]
    },
    {
     "name": "stdout",
     "output_type": "stream",
     "text": [
      "\n",
      "results dict has more keys than expected for sample #95\n"
     ]
    },
    {
     "name": "stderr",
     "output_type": "stream",
     "text": [
      "\r 65%|██████▍   | 97/150 [01:24<00:42,  1.25it/s]"
     ]
    },
    {
     "name": "stdout",
     "output_type": "stream",
     "text": [
      "\n",
      "results dict has more keys than expected for sample #96\n"
     ]
    },
    {
     "name": "stderr",
     "output_type": "stream",
     "text": [
      "\r 65%|██████▌   | 98/150 [01:25<00:41,  1.26it/s]"
     ]
    },
    {
     "name": "stdout",
     "output_type": "stream",
     "text": [
      "\n",
      "results dict has more keys than expected for sample #97\n"
     ]
    },
    {
     "name": "stderr",
     "output_type": "stream",
     "text": [
      "\r 66%|██████▌   | 99/150 [01:25<00:40,  1.25it/s]"
     ]
    },
    {
     "name": "stdout",
     "output_type": "stream",
     "text": [
      "\n",
      "results dict has more keys than expected for sample #98\n"
     ]
    },
    {
     "name": "stderr",
     "output_type": "stream",
     "text": [
      "\r 67%|██████▋   | 100/150 [01:26<00:38,  1.31it/s]"
     ]
    },
    {
     "name": "stdout",
     "output_type": "stream",
     "text": [
      "\n",
      "error executing SPARQL query: HTTP Error 503: Service Temporarily Unavailable\n",
      "\n",
      "syntax error for sample #99\n"
     ]
    },
    {
     "name": "stderr",
     "output_type": "stream",
     "text": [
      "\r 67%|██████▋   | 101/150 [01:27<00:37,  1.30it/s]"
     ]
    },
    {
     "name": "stdout",
     "output_type": "stream",
     "text": [
      "\n",
      "results dict has more keys than expected for sample #100\n"
     ]
    },
    {
     "name": "stderr",
     "output_type": "stream",
     "text": [
      "\r 68%|██████▊   | 102/150 [01:28<00:37,  1.30it/s]"
     ]
    },
    {
     "name": "stdout",
     "output_type": "stream",
     "text": [
      "\n",
      "results dict has more keys than expected for sample #101\n"
     ]
    },
    {
     "name": "stderr",
     "output_type": "stream",
     "text": [
      "\r 69%|██████▊   | 103/150 [01:28<00:34,  1.35it/s]"
     ]
    },
    {
     "name": "stdout",
     "output_type": "stream",
     "text": [
      "\n",
      "empty predicted answer set for sample #102\n"
     ]
    },
    {
     "name": "stderr",
     "output_type": "stream",
     "text": [
      "\r 69%|██████▉   | 104/150 [01:29<00:34,  1.32it/s]"
     ]
    },
    {
     "name": "stdout",
     "output_type": "stream",
     "text": [
      "\n",
      "results dict has more keys than expected for sample #103\n"
     ]
    },
    {
     "name": "stderr",
     "output_type": "stream",
     "text": [
      "\r 70%|███████   | 105/150 [01:30<00:32,  1.37it/s]"
     ]
    },
    {
     "name": "stdout",
     "output_type": "stream",
     "text": [
      "\n",
      "error executing SPARQL query: EndPointInternalError: The endpoint returned the HTTP status code 500. \n",
      "\n",
      "Response:\n",
      "b'Virtuoso 42000 Error SR186:SECURITY: No permission to execute procedure DB.DBA.SPARUL_RUN with user ID 111, group ID 111\\n\\nSPARQL query:\\n#output-format:application/sparql-results+json\\n\\n'\n",
      "\n",
      "syntax error for sample #104\n"
     ]
    },
    {
     "name": "stderr",
     "output_type": "stream",
     "text": [
      "\r 71%|███████   | 106/150 [01:31<00:32,  1.34it/s]"
     ]
    },
    {
     "name": "stdout",
     "output_type": "stream",
     "text": [
      "\n",
      "predicted answer set was supposed to be empty for sample #105\n"
     ]
    },
    {
     "name": "stderr",
     "output_type": "stream",
     "text": [
      "\r 71%|███████▏  | 107/150 [01:31<00:31,  1.38it/s]"
     ]
    },
    {
     "name": "stdout",
     "output_type": "stream",
     "text": [
      "\n",
      "error executing SPARQL query: EndPointInternalError: The endpoint returned the HTTP status code 500. \n",
      "\n",
      "Response:\n",
      "b'Virtuoso 42000 Error SR186:SECURITY: No permission to execute procedure DB.DBA.SPARUL_RUN with user ID 111, group ID 111\\n\\nSPARQL query:\\n#output-format:application/sparql-results+json\\n\\n'\n",
      "\n",
      "syntax error for sample #106\n"
     ]
    },
    {
     "name": "stderr",
     "output_type": "stream",
     "text": [
      "\r 72%|███████▏  | 108/150 [01:32<00:31,  1.35it/s]"
     ]
    },
    {
     "name": "stdout",
     "output_type": "stream",
     "text": [
      "\n",
      "predicted answer set was supposed to be empty for sample #107\n"
     ]
    },
    {
     "name": "stderr",
     "output_type": "stream",
     "text": [
      "\r 73%|███████▎  | 109/150 [01:33<00:32,  1.27it/s]"
     ]
    },
    {
     "name": "stdout",
     "output_type": "stream",
     "text": [
      "\n",
      "predicted answer set was supposed to be empty for sample #108\n"
     ]
    },
    {
     "name": "stderr",
     "output_type": "stream",
     "text": [
      "\r 73%|███████▎  | 110/150 [01:34<00:30,  1.33it/s]"
     ]
    },
    {
     "name": "stdout",
     "output_type": "stream",
     "text": [
      "\n",
      "error executing SPARQL query: EndPointInternalError: The endpoint returned the HTTP status code 500. \n",
      "\n",
      "Response:\n",
      "b'Virtuoso 42000 Error SR186:SECURITY: No permission to execute procedure DB.DBA.SPARUL_RUN with user ID 111, group ID 111\\n\\nSPARQL query:\\n#output-format:application/sparql-results+json\\n\\n'\n",
      "\n",
      "syntax error for sample #109\n"
     ]
    },
    {
     "name": "stderr",
     "output_type": "stream",
     "text": [
      "\r 74%|███████▍  | 111/150 [01:34<00:28,  1.37it/s]"
     ]
    },
    {
     "name": "stdout",
     "output_type": "stream",
     "text": [
      "\n",
      "error executing SPARQL query: EndPointInternalError: The endpoint returned the HTTP status code 500. \n",
      "\n",
      "Response:\n",
      "b'Virtuoso 42000 Error SR186:SECURITY: No permission to execute procedure DB.DBA.SPARUL_RUN with user ID 111, group ID 111\\n\\nSPARQL query:\\n#output-format:application/sparql-results+json\\n\\n'\n",
      "\n",
      "syntax error for sample #110\n"
     ]
    },
    {
     "name": "stderr",
     "output_type": "stream",
     "text": [
      "\r 75%|███████▍  | 112/150 [01:35<00:28,  1.33it/s]"
     ]
    },
    {
     "name": "stdout",
     "output_type": "stream",
     "text": [
      "\n",
      "results dict has more keys than expected for sample #111\n"
     ]
    },
    {
     "name": "stderr",
     "output_type": "stream",
     "text": [
      "\r 75%|███████▌  | 113/150 [01:36<00:26,  1.37it/s]"
     ]
    },
    {
     "name": "stdout",
     "output_type": "stream",
     "text": [
      "\n",
      "empty predicted answer set for sample #112\n"
     ]
    },
    {
     "name": "stderr",
     "output_type": "stream",
     "text": [
      "\r 76%|███████▌  | 114/150 [01:37<00:26,  1.34it/s]"
     ]
    },
    {
     "name": "stdout",
     "output_type": "stream",
     "text": [
      "\n",
      "predicted answer set was supposed to be empty for sample #113\n"
     ]
    },
    {
     "name": "stderr",
     "output_type": "stream",
     "text": [
      "\r 77%|███████▋  | 115/150 [01:37<00:27,  1.26it/s]"
     ]
    },
    {
     "name": "stdout",
     "output_type": "stream",
     "text": [
      "\n",
      "results dict has more keys than expected for sample #114\n"
     ]
    },
    {
     "name": "stderr",
     "output_type": "stream",
     "text": [
      "\r 77%|███████▋  | 116/150 [01:38<00:25,  1.31it/s]"
     ]
    },
    {
     "name": "stdout",
     "output_type": "stream",
     "text": [
      "\n",
      "empty predicted answer set for sample #115\n"
     ]
    },
    {
     "name": "stderr",
     "output_type": "stream",
     "text": [
      "\r 78%|███████▊  | 117/150 [01:39<00:26,  1.25it/s]"
     ]
    },
    {
     "name": "stdout",
     "output_type": "stream",
     "text": [
      "\n",
      "results dict has more keys than expected for sample #116\n"
     ]
    },
    {
     "name": "stderr",
     "output_type": "stream",
     "text": [
      "\r 79%|███████▊  | 118/150 [01:40<00:24,  1.31it/s]"
     ]
    },
    {
     "name": "stdout",
     "output_type": "stream",
     "text": [
      "\n",
      "empty predicted answer set for sample #117\n"
     ]
    },
    {
     "name": "stderr",
     "output_type": "stream",
     "text": [
      "\r 79%|███████▉  | 119/150 [01:41<00:25,  1.22it/s]"
     ]
    },
    {
     "name": "stdout",
     "output_type": "stream",
     "text": [
      "\n",
      "results are not of type boolean for sample #118\n"
     ]
    },
    {
     "name": "stderr",
     "output_type": "stream",
     "text": [
      " 81%|████████  | 121/150 [01:42<00:22,  1.29it/s]"
     ]
    },
    {
     "name": "stdout",
     "output_type": "stream",
     "text": [
      "\n",
      "error executing SPARQL query: EndPointInternalError: The endpoint returned the HTTP status code 500. \n",
      "\n",
      "Response:\n",
      "b'Virtuoso 42000 Error SR186:SECURITY: No permission to execute procedure DB.DBA.SPARUL_RUN with user ID 111, group ID 111\\n\\nSPARQL query:\\n#output-format:application/sparql-results+json\\n\\n'\n",
      "\n",
      "syntax error for sample #120\n"
     ]
    },
    {
     "name": "stderr",
     "output_type": "stream",
     "text": [
      "\r 81%|████████▏ | 122/150 [01:43<00:21,  1.29it/s]"
     ]
    },
    {
     "name": "stdout",
     "output_type": "stream",
     "text": [
      "\n",
      "results dict has more keys than expected for sample #121\n"
     ]
    },
    {
     "name": "stderr",
     "output_type": "stream",
     "text": [
      "\r 82%|████████▏ | 123/150 [01:44<00:20,  1.29it/s]"
     ]
    },
    {
     "name": "stdout",
     "output_type": "stream",
     "text": [
      "\n",
      "results dict has more keys than expected for sample #122\n"
     ]
    },
    {
     "name": "stderr",
     "output_type": "stream",
     "text": [
      "\r 83%|████████▎ | 124/150 [01:44<00:20,  1.28it/s]"
     ]
    },
    {
     "name": "stdout",
     "output_type": "stream",
     "text": [
      "\n",
      "results dict has more keys than expected for sample #123\n"
     ]
    },
    {
     "name": "stderr",
     "output_type": "stream",
     "text": [
      "\r 83%|████████▎ | 125/150 [01:45<00:18,  1.33it/s]"
     ]
    },
    {
     "name": "stdout",
     "output_type": "stream",
     "text": [
      "\n",
      "empty predicted answer set for sample #124\n"
     ]
    },
    {
     "name": "stderr",
     "output_type": "stream",
     "text": [
      " 85%|████████▍ | 127/150 [01:47<00:17,  1.28it/s]"
     ]
    },
    {
     "name": "stdout",
     "output_type": "stream",
     "text": [
      "\n",
      "results dict has more keys than expected for sample #126\n"
     ]
    },
    {
     "name": "stderr",
     "output_type": "stream",
     "text": [
      "\r 85%|████████▌ | 128/150 [01:47<00:16,  1.34it/s]"
     ]
    },
    {
     "name": "stdout",
     "output_type": "stream",
     "text": [
      "\n",
      "error executing SPARQL query: HTTP Error 503: Service Temporarily Unavailable\n",
      "\n",
      "syntax error for sample #127\n"
     ]
    },
    {
     "name": "stderr",
     "output_type": "stream",
     "text": [
      "\r 86%|████████▌ | 129/150 [01:48<00:15,  1.37it/s]"
     ]
    },
    {
     "name": "stdout",
     "output_type": "stream",
     "text": [
      "\n",
      "error executing SPARQL query: HTTP Error 503: Service Temporarily Unavailable\n",
      "\n",
      "syntax error for sample #128\n"
     ]
    },
    {
     "name": "stderr",
     "output_type": "stream",
     "text": [
      "\r 87%|████████▋ | 130/150 [01:49<00:14,  1.40it/s]"
     ]
    },
    {
     "name": "stdout",
     "output_type": "stream",
     "text": [
      "\n",
      "empty predicted answer set for sample #129\n"
     ]
    },
    {
     "name": "stderr",
     "output_type": "stream",
     "text": [
      "\r 87%|████████▋ | 131/150 [01:49<00:13,  1.43it/s]"
     ]
    },
    {
     "name": "stdout",
     "output_type": "stream",
     "text": [
      "\n",
      "empty predicted answer set for sample #130\n"
     ]
    },
    {
     "name": "stderr",
     "output_type": "stream",
     "text": [
      "\r 88%|████████▊ | 132/150 [01:50<00:13,  1.37it/s]"
     ]
    },
    {
     "name": "stdout",
     "output_type": "stream",
     "text": [
      "\n",
      "predicted answer set was supposed to be empty for sample #131\n"
     ]
    },
    {
     "name": "stderr",
     "output_type": "stream",
     "text": [
      "\r 89%|████████▊ | 133/150 [01:51<00:12,  1.34it/s]"
     ]
    },
    {
     "name": "stdout",
     "output_type": "stream",
     "text": [
      "\n",
      "predicted answer set was supposed to be empty for sample #132\n"
     ]
    },
    {
     "name": "stderr",
     "output_type": "stream",
     "text": [
      "\r 89%|████████▉ | 134/150 [01:52<00:12,  1.27it/s]"
     ]
    },
    {
     "name": "stdout",
     "output_type": "stream",
     "text": [
      "\n",
      "results dict has more keys than expected for sample #133\n"
     ]
    },
    {
     "name": "stderr",
     "output_type": "stream",
     "text": [
      "\r 90%|█████████ | 135/150 [01:53<00:11,  1.32it/s]"
     ]
    },
    {
     "name": "stdout",
     "output_type": "stream",
     "text": [
      "\n",
      "empty predicted answer set for sample #134\n"
     ]
    },
    {
     "name": "stderr",
     "output_type": "stream",
     "text": [
      "\r 91%|█████████ | 136/150 [01:53<00:10,  1.31it/s]"
     ]
    },
    {
     "name": "stdout",
     "output_type": "stream",
     "text": [
      "\n",
      "results dict has more keys than expected for sample #135\n"
     ]
    },
    {
     "name": "stderr",
     "output_type": "stream",
     "text": [
      "\r 91%|█████████▏| 137/150 [01:54<00:09,  1.36it/s]"
     ]
    },
    {
     "name": "stdout",
     "output_type": "stream",
     "text": [
      "\n",
      "error executing SPARQL query: EndPointInternalError: The endpoint returned the HTTP status code 500. \n",
      "\n",
      "Response:\n",
      "b'Virtuoso 42000 Error SR186:SECURITY: No permission to execute procedure DB.DBA.SPARUL_RUN with user ID 111, group ID 111\\n\\nSPARQL query:\\n#output-format:application/sparql-results+json\\n\\n'\n",
      "\n",
      "syntax error for sample #136\n"
     ]
    },
    {
     "name": "stderr",
     "output_type": "stream",
     "text": [
      "\r 92%|█████████▏| 138/150 [01:56<00:11,  1.03it/s]"
     ]
    },
    {
     "name": "stdout",
     "output_type": "stream",
     "text": [
      "\n",
      "empty predicted answer set for sample #137\n"
     ]
    },
    {
     "name": "stderr",
     "output_type": "stream",
     "text": [
      "\r 93%|█████████▎| 139/150 [01:56<00:10,  1.09it/s]"
     ]
    },
    {
     "name": "stdout",
     "output_type": "stream",
     "text": [
      "\n",
      "results dict has more keys than expected for sample #138\n"
     ]
    },
    {
     "name": "stderr",
     "output_type": "stream",
     "text": [
      "\r 93%|█████████▎| 140/150 [01:57<00:08,  1.14it/s]"
     ]
    },
    {
     "name": "stdout",
     "output_type": "stream",
     "text": [
      "\n",
      "results dict has more keys than expected for sample #139\n"
     ]
    },
    {
     "name": "stderr",
     "output_type": "stream",
     "text": [
      "\r 94%|█████████▍| 141/150 [01:58<00:07,  1.22it/s]"
     ]
    },
    {
     "name": "stdout",
     "output_type": "stream",
     "text": [
      "\n",
      "results dict has more keys than expected for sample #140\n"
     ]
    },
    {
     "name": "stderr",
     "output_type": "stream",
     "text": [
      " 95%|█████████▌| 143/150 [01:59<00:05,  1.33it/s]"
     ]
    },
    {
     "name": "stdout",
     "output_type": "stream",
     "text": [
      "\n",
      "empty predicted answer set for sample #142\n"
     ]
    },
    {
     "name": "stderr",
     "output_type": "stream",
     "text": [
      "\r 96%|█████████▌| 144/150 [02:00<00:04,  1.32it/s]"
     ]
    },
    {
     "name": "stdout",
     "output_type": "stream",
     "text": [
      "\n",
      "results dict has more keys than expected for sample #143\n"
     ]
    },
    {
     "name": "stderr",
     "output_type": "stream",
     "text": [
      "\r 97%|█████████▋| 145/150 [02:01<00:03,  1.31it/s]"
     ]
    },
    {
     "name": "stdout",
     "output_type": "stream",
     "text": [
      "\n",
      "results dict has more keys than expected for sample #144\n"
     ]
    },
    {
     "name": "stderr",
     "output_type": "stream",
     "text": [
      "\r 97%|█████████▋| 146/150 [02:01<00:02,  1.35it/s]"
     ]
    },
    {
     "name": "stdout",
     "output_type": "stream",
     "text": [
      "\n",
      "error executing SPARQL query: HTTP Error 503: Service Temporarily Unavailable\n",
      "\n",
      "syntax error for sample #145\n"
     ]
    },
    {
     "name": "stderr",
     "output_type": "stream",
     "text": [
      "\r 98%|█████████▊| 147/150 [02:02<00:02,  1.39it/s]"
     ]
    },
    {
     "name": "stdout",
     "output_type": "stream",
     "text": [
      "\n",
      "empty predicted answer set for sample #146\n"
     ]
    },
    {
     "name": "stderr",
     "output_type": "stream",
     "text": [
      "\r 99%|█████████▊| 148/150 [02:03<00:01,  1.35it/s]"
     ]
    },
    {
     "name": "stdout",
     "output_type": "stream",
     "text": [
      "\n",
      "results dict has more keys than expected for sample #147\n"
     ]
    },
    {
     "name": "stderr",
     "output_type": "stream",
     "text": [
      "\r 99%|█████████▉| 149/150 [02:04<00:00,  1.38it/s]"
     ]
    },
    {
     "name": "stdout",
     "output_type": "stream",
     "text": [
      "\n",
      "error executing SPARQL query: EndPointInternalError: The endpoint returned the HTTP status code 500. \n",
      "\n",
      "Response:\n",
      "b'Virtuoso 42000 Error SR186:SECURITY: No permission to execute procedure DB.DBA.SPARUL_RUN with user ID 111, group ID 111\\n\\nSPARQL query:\\n#output-format:application/sparql-results+json\\n\\n'\n",
      "\n",
      "syntax error for sample #148\n"
     ]
    },
    {
     "name": "stderr",
     "output_type": "stream",
     "text": [
      "100%|██████████| 150/150 [02:04<00:00,  1.20it/s]"
     ]
    },
    {
     "name": "stdout",
     "output_type": "stream",
     "text": [
      "\n",
      "empty predicted answer set for sample #149\n",
      "\n",
      "acc: 0.11173333333333332\n",
      "rec: 0.10497153292512622\n",
      "pre: 0.11173333333333332\n",
      "f1: 0.10564467337094269\n"
     ]
    },
    {
     "name": "stderr",
     "output_type": "stream",
     "text": [
      "\n"
     ]
    }
   ],
   "source": [
    "import requests\n",
    "import json\n",
    "from SPARQLWrapper import SPARQLWrapper, JSON\n",
    "from copy import deepcopy\n",
    "dbpedia_endpoint = \"http://dbpedia.org/sparql\"\n",
    "\n",
    "def execute_sparql_query(query):\n",
    "    sparql = SPARQLWrapper(dbpedia_endpoint)\n",
    "    sparql.setQuery(query)\n",
    "    sparql.setReturnFormat(JSON)\n",
    "\n",
    "    try:\n",
    "        results = sparql.queryAndConvert()\n",
    "        return results\n",
    "    except Exception as e:\n",
    "        print(f\"\\nerror executing SPARQL query: {e}\")\n",
    "        return None\n",
    "\n",
    "def process_text(txt):\n",
    "    return txt.strip().lower().replace(':','').replace('.','').replace('/','').replace('_','')\n",
    "\n",
    "def eval(gold, pred, boolean=False):\n",
    "    TP, FP, FN = 0, 0, 0\n",
    "    for item in pred:\n",
    "        new_item = process_text(item) if not boolean else item\n",
    "        if new_item in gold:\n",
    "            TP += 1\n",
    "        else:\n",
    "            FP += 1\n",
    "    pred = list(map(lambda x: process_text(x), pred)) if not boolean else pred\n",
    "    for item in gold:\n",
    "        if item not in pred:\n",
    "            FN += 1\n",
    "    acc = TP / len(pred)\n",
    "    recall = TP / (TP + FN)\n",
    "    precision = TP / (TP + FP)\n",
    "    f1 = ((2 * (precision * recall)) / (precision + recall)) if (precision + recall != 0) else 0\n",
    "    rec, pre = recall, precision\n",
    "    return acc, rec, pre, f1\n",
    "\n",
    "queries = []\n",
    "with open('/content/gpt-3.5-turbo_t5-3b-t_qald-9-plus_v2.json', 'r') as f:\n",
    "  data = json.load(f)\n",
    "  queries = [d['pred_sparql'] for d in data]\n",
    "  ids = [d['id'] for d in data]\n",
    "  gold_ans = [d['gold_answers'] for d in data]\n",
    "  for j in range(len(gold_ans)):\n",
    "      if len(list(gold_ans[j].keys())) == 0:\n",
    "          ans = []\n",
    "      else:\n",
    "          assert len(list(gold_ans[j].keys())) == 1\n",
    "          gold_ans[j] = deepcopy(next(iter(gold_ans[j].values())))\n",
    "\n",
    "total_acc, total_rec, total_pre, total_f1 = 0, 0, 0, 0\n",
    "for i in trange(len(queries)):\n",
    "    query = queries[i]\n",
    "    pred_answers = {}\n",
    "    results = execute_sparql_query(query)\n",
    "    if (type(gold_ans[i]) != bool and len(gold_ans[i]) == 0) and (not results): # if results == None -> syntax error\n",
    "        print(f'\\nsyntax error for sample #{ids[i]}')\n",
    "        total_acc += 1\n",
    "        total_rec += 1\n",
    "        total_pre += 1\n",
    "        total_f1 += 1\n",
    "        continue\n",
    "    elif type(gold_ans[i]) != bool and (len(gold_ans[i]) > 0) and (not results): # if results == None -> syntax error\n",
    "        print(f'\\nsyntax error for sample #{ids[i]}')\n",
    "        continue\n",
    "    elif type(gold_ans[i]) == bool and (not results):\n",
    "        print(f'\\nsyntax error for sample #{ids[i]}')\n",
    "        continue\n",
    "    if 'boolean' in results.keys():\n",
    "        acc, rec, pre, f1 = eval([gold_ans[i]], [results['boolean']], boolean=True)\n",
    "        total_acc += acc\n",
    "        total_rec += rec\n",
    "        total_pre += pre\n",
    "        total_f1 += f1\n",
    "        continue\n",
    "    else:\n",
    "        for result in results[\"results\"][\"bindings\"]:\n",
    "            for var_name, var_data in result.items():\n",
    "                var_value = var_data[\"value\"]\n",
    "                if var_name in pred_answers.keys():\n",
    "                    pred_answers[var_name].append(var_value)\n",
    "                else:\n",
    "                    pred_answers[var_name] = [var_value]\n",
    "    if (type(gold_ans[i]) != bool) and (len(gold_ans[i]) == 0) and (len(list(pred_answers.keys())) == 0):\n",
    "        total_acc += 1\n",
    "        total_rec += 1\n",
    "        total_pre += 1\n",
    "        total_f1 += 1\n",
    "        continue\n",
    "    elif (type(gold_ans[i]) != bool) and (len(gold_ans[i]) > 0) and (len(list(pred_answers.keys())) == 0):\n",
    "        print(f'\\nempty predicted answer set for sample #{ids[i]}')\n",
    "        continue\n",
    "    elif (type(gold_ans[i]) != bool) and (len(gold_ans[i]) == 0) and (len(list(pred_answers.keys())) > 0):\n",
    "        print(f'\\npredicted answer set was supposed to be empty for sample #{ids[i]}')\n",
    "        continue\n",
    "    elif type(gold_ans[i]) == bool:\n",
    "        print(f'\\nresults are not of type boolean for sample #{ids[i]}')\n",
    "        continue\n",
    "    try:\n",
    "        assert len(list(pred_answers.keys())) == 1\n",
    "    except:\n",
    "        print(f'\\nresults dict has more keys than expected for sample #{ids[i]}')\n",
    "        continue\n",
    "    pred_ans = next(iter(pred_answers.values()))\n",
    "    acc, rec, pre, f1 = eval(list(map(lambda x: process_text(x), gold_ans[i])), pred_ans)\n",
    "    total_acc += acc\n",
    "    total_rec += rec\n",
    "    total_pre += pre\n",
    "    total_f1 += f1\n",
    "    # print(f'\\ninfo for sample #{ids[i]}:')\n",
    "    # print(f'acc = {acc}, rec = {rec}, pre = {pre}, f1 = {f1}')\n",
    "    # print('\\n'.join(gold_ans[i]))\n",
    "    # print('---')\n",
    "    # print('\\n'.join(pred_ans))\n",
    "    # print()\n",
    "print(f'\\nacc: {total_acc / len(queries)}')\n",
    "print(f'rec: {total_rec / len(queries)}')\n",
    "print(f'pre: {total_pre / len(queries)}')\n",
    "print(f'f1: {total_f1 / len(queries)}')"
   ]
  },
  {
   "cell_type": "markdown",
   "metadata": {
    "id": "ujpLuslP3zz-"
   },
   "source": [
    "#### T5-3B using ChatGPT\n",
    "model_9: t5-3b-ep-10-t-v1"
   ]
  },
  {
   "cell_type": "code",
   "execution_count": null,
   "metadata": {
    "colab": {
     "base_uri": "https://localhost:8080/",
     "height": 1000
    },
    "id": "1l0Rw6KPy_xW",
    "outputId": "35eefd00-f4ee-4995-c39b-d96eac29531f"
   },
   "outputs": [
    {
     "data": {
      "text/html": [
       "\n",
       "  <style>\n",
       "    pre {\n",
       "        white-space: pre-wrap;\n",
       "    }\n",
       "  </style>\n",
       "  "
      ],
      "text/plain": [
       "<IPython.core.display.HTML object>"
      ]
     },
     "metadata": {},
     "output_type": "display_data"
    },
    {
     "name": "stderr",
     "output_type": "stream",
     "text": [
      "  1%|▏         | 2/150 [00:01<01:55,  1.28it/s]"
     ]
    },
    {
     "name": "stdout",
     "output_type": "stream",
     "text": [
      "\n",
      "empty predicted answer set for sample #1\n"
     ]
    },
    {
     "name": "stderr",
     "output_type": "stream",
     "text": [
      "  3%|▎         | 4/150 [00:03<02:04,  1.17it/s]"
     ]
    },
    {
     "name": "stdout",
     "output_type": "stream",
     "text": [
      "\n",
      "empty predicted answer set for sample #3\n"
     ]
    },
    {
     "name": "stderr",
     "output_type": "stream",
     "text": [
      "  4%|▍         | 6/150 [00:04<01:47,  1.34it/s]"
     ]
    },
    {
     "name": "stdout",
     "output_type": "stream",
     "text": [
      "\n",
      "error executing SPARQL query: QueryBadFormed: A bad request has been sent to the endpoint: probably the SPARQL query is badly formed. \n",
      "\n",
      "Response:\n",
      "b\"Virtuoso 37000 Error SP030: SPARQL compiler, line 5: syntax error at '.' before '}'\\n\\nSPARQL query:\\n#output-format:application/sparql-results+json\\nSELECT (COUNT(DISTINCT ?uri) AS ?c)\\nWHERE {\\n  ?uri <http://dbpedia.org/property/olympics> <http://dbpedia.org/resource/Michael_Phelps> .\\n  ?uri <http://dbpedia.org/ontology/2008Olympics> .\\n}\\n\"\n",
      "\n",
      "syntax error for sample #5\n"
     ]
    },
    {
     "name": "stderr",
     "output_type": "stream",
     "text": [
      "  5%|▌         | 8/150 [00:05<01:42,  1.39it/s]"
     ]
    },
    {
     "name": "stdout",
     "output_type": "stream",
     "text": [
      "\n",
      "empty predicted answer set for sample #7\n"
     ]
    },
    {
     "name": "stderr",
     "output_type": "stream",
     "text": [
      "  7%|▋         | 10/150 [00:07<01:37,  1.43it/s]"
     ]
    },
    {
     "name": "stdout",
     "output_type": "stream",
     "text": [
      "\n",
      "empty predicted answer set for sample #9\n"
     ]
    },
    {
     "name": "stderr",
     "output_type": "stream",
     "text": [
      "\r  7%|▋         | 11/150 [00:08<01:36,  1.43it/s]"
     ]
    },
    {
     "name": "stdout",
     "output_type": "stream",
     "text": [
      "\n",
      "empty predicted answer set for sample #10\n"
     ]
    },
    {
     "name": "stderr",
     "output_type": "stream",
     "text": [
      "\r  8%|▊         | 12/150 [00:08<01:35,  1.45it/s]"
     ]
    },
    {
     "name": "stdout",
     "output_type": "stream",
     "text": [
      "\n",
      "error executing SPARQL query: QueryBadFormed: A bad request has been sent to the endpoint: probably the SPARQL query is badly formed. \n",
      "\n",
      "Response:\n",
      "b\"Virtuoso 37000 Error SP030: SPARQL compiler, line 9: syntax error at '}'\\n\\nSPARQL query:\\n#output-format:application/sparql-results+json\\nSELECT DISTINCT ?uri\\nWHERE {\\n  {?uri a <http://dbpedia.org/ontology/Country>}\\n  UNION\\n  {?uri <http://dbpedia.org/ontology/country> <http://dbpedia.org/resource/Europe>}\\n  UNION\\n  {?uri <http://dbpedia.org/property/country> <http://dbpedia.org/resource/Monarchy>}\\n  {?uri <http://dbpedia.org/resource/Europe>}\\n}\\nLIMIT 100\\n\"\n",
      "\n",
      "syntax error for sample #11\n"
     ]
    },
    {
     "name": "stderr",
     "output_type": "stream",
     "text": [
      "\r  9%|▊         | 13/150 [00:09<01:46,  1.28it/s]"
     ]
    },
    {
     "name": "stdout",
     "output_type": "stream",
     "text": [
      "\n",
      "error executing SPARQL query: QueryBadFormed: A bad request has been sent to the endpoint: probably the SPARQL query is badly formed. \n",
      "\n",
      "Response:\n",
      "b\"Virtuoso 37000 Error SP030: SPARQL compiler, line 7: syntax error at 'UNION' before '{'\\n\\nSPARQL query:\\n#output-format:application/sparql-results+json\\nSELECT DISTINCT ?uri\\nWHERE {\\n  ?uri a <http://dbpedia.org/ontology/Cave>.\\n  ?uri <http://dbpedia.org/ontology/location> ?uri.\\n  ?uri <http://www.w3.org/1999/02/22-rdf-syntax-ns#type> <http://dbpedia.org/ontology/Country>.\\n} UNION {\\n  ?uri <http://dbpedia.org/ontology/country> ?uri.\\n}\\nGROUP BY ?uri\\nHAVING (COUNT(?uri) > 2)\\nLIMIT 100\\n\"\n",
      "\n",
      "syntax error for sample #12\n"
     ]
    },
    {
     "name": "stderr",
     "output_type": "stream",
     "text": [
      "\r  9%|▉         | 14/150 [00:10<01:42,  1.33it/s]"
     ]
    },
    {
     "name": "stdout",
     "output_type": "stream",
     "text": [
      "\n",
      "empty predicted answer set for sample #13\n"
     ]
    },
    {
     "name": "stderr",
     "output_type": "stream",
     "text": [
      "\r 10%|█         | 15/150 [00:11<01:39,  1.35it/s]"
     ]
    },
    {
     "name": "stdout",
     "output_type": "stream",
     "text": [
      "\n",
      "empty predicted answer set for sample #14\n"
     ]
    },
    {
     "name": "stderr",
     "output_type": "stream",
     "text": [
      " 14%|█▍        | 21/150 [00:15<01:34,  1.37it/s]"
     ]
    },
    {
     "name": "stdout",
     "output_type": "stream",
     "text": [
      "\n",
      "empty predicted answer set for sample #20\n"
     ]
    },
    {
     "name": "stderr",
     "output_type": "stream",
     "text": [
      " 17%|█▋        | 26/150 [00:19<01:30,  1.37it/s]"
     ]
    },
    {
     "name": "stdout",
     "output_type": "stream",
     "text": [
      "\n",
      "empty predicted answer set for sample #25\n"
     ]
    },
    {
     "name": "stderr",
     "output_type": "stream",
     "text": [
      "\r 18%|█▊        | 27/150 [00:19<01:27,  1.40it/s]"
     ]
    },
    {
     "name": "stdout",
     "output_type": "stream",
     "text": [
      "\n",
      "empty predicted answer set for sample #26\n"
     ]
    },
    {
     "name": "stderr",
     "output_type": "stream",
     "text": [
      " 20%|██        | 30/150 [00:21<01:23,  1.43it/s]"
     ]
    },
    {
     "name": "stdout",
     "output_type": "stream",
     "text": [
      "\n",
      "empty predicted answer set for sample #29\n"
     ]
    },
    {
     "name": "stderr",
     "output_type": "stream",
     "text": [
      " 22%|██▏       | 33/150 [00:23<01:20,  1.45it/s]"
     ]
    },
    {
     "name": "stdout",
     "output_type": "stream",
     "text": [
      "\n",
      "empty predicted answer set for sample #32\n"
     ]
    },
    {
     "name": "stderr",
     "output_type": "stream",
     "text": [
      " 23%|██▎       | 35/150 [00:25<01:27,  1.31it/s]"
     ]
    },
    {
     "name": "stdout",
     "output_type": "stream",
     "text": [
      "\n",
      "empty predicted answer set for sample #34\n"
     ]
    },
    {
     "name": "stderr",
     "output_type": "stream",
     "text": [
      " 25%|██▍       | 37/150 [00:27<01:21,  1.38it/s]"
     ]
    },
    {
     "name": "stdout",
     "output_type": "stream",
     "text": [
      "\n",
      "empty predicted answer set for sample #36\n"
     ]
    },
    {
     "name": "stderr",
     "output_type": "stream",
     "text": [
      "\r 25%|██▌       | 38/150 [00:27<01:19,  1.40it/s]"
     ]
    },
    {
     "name": "stdout",
     "output_type": "stream",
     "text": [
      "\n",
      "empty predicted answer set for sample #37\n"
     ]
    },
    {
     "name": "stderr",
     "output_type": "stream",
     "text": [
      "\r 26%|██▌       | 39/150 [00:28<01:17,  1.43it/s]"
     ]
    },
    {
     "name": "stdout",
     "output_type": "stream",
     "text": [
      "\n",
      "empty predicted answer set for sample #38\n"
     ]
    },
    {
     "name": "stderr",
     "output_type": "stream",
     "text": [
      " 27%|██▋       | 41/150 [00:30<01:31,  1.20it/s]"
     ]
    },
    {
     "name": "stdout",
     "output_type": "stream",
     "text": [
      "\n",
      "predicted answer set was supposed to be empty for sample #40\n"
     ]
    },
    {
     "name": "stderr",
     "output_type": "stream",
     "text": [
      " 30%|███       | 45/150 [00:33<01:17,  1.36it/s]"
     ]
    },
    {
     "name": "stdout",
     "output_type": "stream",
     "text": [
      "\n",
      "empty predicted answer set for sample #44\n"
     ]
    },
    {
     "name": "stderr",
     "output_type": "stream",
     "text": [
      " 31%|███▏      | 47/150 [00:34<01:13,  1.41it/s]"
     ]
    },
    {
     "name": "stdout",
     "output_type": "stream",
     "text": [
      "\n",
      "empty predicted answer set for sample #46\n"
     ]
    },
    {
     "name": "stderr",
     "output_type": "stream",
     "text": [
      "\r 32%|███▏      | 48/150 [00:35<01:11,  1.43it/s]"
     ]
    },
    {
     "name": "stdout",
     "output_type": "stream",
     "text": [
      "\n",
      "predicted answer set was supposed to be empty for sample #47\n"
     ]
    },
    {
     "name": "stderr",
     "output_type": "stream",
     "text": [
      " 34%|███▍      | 51/150 [00:37<01:11,  1.39it/s]"
     ]
    },
    {
     "name": "stdout",
     "output_type": "stream",
     "text": [
      "\n",
      "empty predicted answer set for sample #50\n"
     ]
    },
    {
     "name": "stderr",
     "output_type": "stream",
     "text": [
      "\r 35%|███▍      | 52/150 [00:38<01:09,  1.41it/s]"
     ]
    },
    {
     "name": "stdout",
     "output_type": "stream",
     "text": [
      "\n",
      "empty predicted answer set for sample #51\n"
     ]
    },
    {
     "name": "stderr",
     "output_type": "stream",
     "text": [
      " 38%|███▊      | 57/150 [00:41<01:06,  1.40it/s]"
     ]
    },
    {
     "name": "stdout",
     "output_type": "stream",
     "text": [
      "\n",
      "error executing SPARQL query: QueryBadFormed: A bad request has been sent to the endpoint: probably the SPARQL query is badly formed. \n",
      "\n",
      "Response:\n",
      "b\"Virtuoso 37000 Error SP030: SPARQL compiler, line 5: syntax error at '.' before '?uri'\\n\\nSPARQL query:\\n#output-format:application/sparql-results+json\\nSELECT DISTINCT ?uri\\nWHERE {\\n  ?uri a <http://dbpedia.org/ontology/mission> .\\n  ?uri <http://dbpedia.org/resource/Satellite_of_the_Sun> .\\n  ?uri <http://dbpedia.org/ontology/mission> <http://dbpedia.org/resource/Europe> .\\n  ?uri <http://dbpedia.org/resource/Jour> .\\n  ?uri <http://dbpedia.org/property/launchPad> ?x .\\n  FILTER (?uri >= ?x)\\n}\\nLIMIT 100\\n\"\n",
      "\n",
      "syntax error for sample #56\n"
     ]
    },
    {
     "name": "stderr",
     "output_type": "stream",
     "text": [
      "\r 39%|███▊      | 58/150 [00:42<01:04,  1.42it/s]"
     ]
    },
    {
     "name": "stdout",
     "output_type": "stream",
     "text": [
      "\n",
      "error executing SPARQL query: QueryBadFormed: A bad request has been sent to the endpoint: probably the SPARQL query is badly formed. \n",
      "\n",
      "Response:\n",
      "b\"Virtuoso 37000 Error SP030: SPARQL compiler, line 9: syntax error at '}' before 'UNION'\\n\\nSPARQL query:\\n#output-format:application/sparql-results+json\\nSELECT DISTINCT ?uri\\nWHERE {\\n  {?uri a <http://dbpedia.org/ontology/City>.\\n   ?uri <http://dbpedia.org/ontology/country> <http://dbpedia.org/resource/Germany>}\\n  UNION\\n  {?uri <http://dbpedia.org/property/populationTotal> ?pop}\\n  UNION\\n  {?uri <http://dbpedia.org/resource/Germany>}\\n  UNION\\n  {?uri <http://dbpedia.org/ontology/populationTotal> ?population\\n   FILTER (?population > 250000)}\\n}\\nLIMIT 100\\n\"\n",
      "\n",
      "syntax error for sample #57\n"
     ]
    },
    {
     "name": "stderr",
     "output_type": "stream",
     "text": [
      "\r 39%|███▉      | 59/150 [00:43<01:03,  1.43it/s]"
     ]
    },
    {
     "name": "stdout",
     "output_type": "stream",
     "text": [
      "\n",
      "empty predicted answer set for sample #58\n"
     ]
    },
    {
     "name": "stderr",
     "output_type": "stream",
     "text": [
      "\r 40%|████      | 60/150 [00:43<01:05,  1.38it/s]"
     ]
    },
    {
     "name": "stdout",
     "output_type": "stream",
     "text": [
      "\n",
      "empty predicted answer set for sample #59\n"
     ]
    },
    {
     "name": "stderr",
     "output_type": "stream",
     "text": [
      " 42%|████▏     | 63/150 [00:46<01:00,  1.43it/s]"
     ]
    },
    {
     "name": "stdout",
     "output_type": "stream",
     "text": [
      "\n",
      "predicted answer set was supposed to be empty for sample #62\n"
     ]
    },
    {
     "name": "stderr",
     "output_type": "stream",
     "text": [
      "\r 43%|████▎     | 64/150 [00:46<01:00,  1.43it/s]"
     ]
    },
    {
     "name": "stdout",
     "output_type": "stream",
     "text": [
      "\n",
      "predicted answer set was supposed to be empty for sample #63\n"
     ]
    },
    {
     "name": "stderr",
     "output_type": "stream",
     "text": [
      "\r 43%|████▎     | 65/150 [00:47<01:00,  1.40it/s]"
     ]
    },
    {
     "name": "stdout",
     "output_type": "stream",
     "text": [
      "\n",
      "predicted answer set was supposed to be empty for sample #64\n"
     ]
    },
    {
     "name": "stderr",
     "output_type": "stream",
     "text": [
      "\r 44%|████▍     | 66/150 [00:48<00:58,  1.42it/s]"
     ]
    },
    {
     "name": "stdout",
     "output_type": "stream",
     "text": [
      "\n",
      "error executing SPARQL query: QueryBadFormed: A bad request has been sent to the endpoint: probably the SPARQL query is badly formed. \n",
      "\n",
      "Response:\n",
      "b\"Virtuoso 37000 Error SP030: SPARQL compiler, line 9: syntax error at '}' before '}'\\n\\nSPARQL query:\\n#output-format:application/sparql-results+json\\nSELECT DISTINCT ?uri \\nWHERE {\\n  {?uri a <http://dbpedia.org/ontology/Car>.\\n   ?uri <http://dbpedia.org/ontology/country> <http://dbpedia.org/resource/Germany>}\\n  UNION\\n  {?uri <http://dbpedia.org/ontology> <http://dbpedia.org/resource/Germany>}\\n  UNION\\n  {?uri <http://dbpedia.org/resource/Germany>}\\n}\\nLIMIT 100\\n\"\n",
      "\n",
      "syntax error for sample #65\n"
     ]
    },
    {
     "name": "stderr",
     "output_type": "stream",
     "text": [
      " 45%|████▌     | 68/150 [00:49<00:56,  1.44it/s]"
     ]
    },
    {
     "name": "stdout",
     "output_type": "stream",
     "text": [
      "\n",
      "empty predicted answer set for sample #67\n"
     ]
    },
    {
     "name": "stderr",
     "output_type": "stream",
     "text": [
      "\r 46%|████▌     | 69/150 [00:50<00:57,  1.40it/s]"
     ]
    },
    {
     "name": "stdout",
     "output_type": "stream",
     "text": [
      "\n",
      "empty predicted answer set for sample #68\n"
     ]
    },
    {
     "name": "stderr",
     "output_type": "stream",
     "text": [
      "\r 47%|████▋     | 70/150 [00:51<00:56,  1.40it/s]"
     ]
    },
    {
     "name": "stdout",
     "output_type": "stream",
     "text": [
      "\n",
      "empty predicted answer set for sample #69\n"
     ]
    },
    {
     "name": "stderr",
     "output_type": "stream",
     "text": [
      "\r 47%|████▋     | 71/150 [00:51<00:55,  1.42it/s]"
     ]
    },
    {
     "name": "stdout",
     "output_type": "stream",
     "text": [
      "\n",
      "empty predicted answer set for sample #70\n"
     ]
    },
    {
     "name": "stderr",
     "output_type": "stream",
     "text": [
      " 49%|████▊     | 73/150 [00:53<00:53,  1.44it/s]"
     ]
    },
    {
     "name": "stdout",
     "output_type": "stream",
     "text": [
      "\n",
      "empty predicted answer set for sample #72\n"
     ]
    },
    {
     "name": "stderr",
     "output_type": "stream",
     "text": [
      " 51%|█████     | 76/150 [00:55<00:53,  1.40it/s]"
     ]
    },
    {
     "name": "stdout",
     "output_type": "stream",
     "text": [
      "\n",
      "empty predicted answer set for sample #75\n"
     ]
    },
    {
     "name": "stderr",
     "output_type": "stream",
     "text": [
      "\r 51%|█████▏    | 77/150 [00:55<00:51,  1.42it/s]"
     ]
    },
    {
     "name": "stdout",
     "output_type": "stream",
     "text": [
      "\n",
      "empty predicted answer set for sample #76\n"
     ]
    },
    {
     "name": "stderr",
     "output_type": "stream",
     "text": [
      " 53%|█████▎    | 79/150 [00:57<00:52,  1.35it/s]"
     ]
    },
    {
     "name": "stdout",
     "output_type": "stream",
     "text": [
      "\n",
      "empty predicted answer set for sample #78\n"
     ]
    },
    {
     "name": "stderr",
     "output_type": "stream",
     "text": [
      " 55%|█████▍    | 82/150 [00:59<00:47,  1.42it/s]"
     ]
    },
    {
     "name": "stdout",
     "output_type": "stream",
     "text": [
      "\n",
      "empty predicted answer set for sample #81\n"
     ]
    },
    {
     "name": "stderr",
     "output_type": "stream",
     "text": [
      "\r 55%|█████▌    | 83/150 [01:01<01:08,  1.02s/it]"
     ]
    },
    {
     "name": "stdout",
     "output_type": "stream",
     "text": [
      "\n",
      "predicted answer set was supposed to be empty for sample #82\n"
     ]
    },
    {
     "name": "stderr",
     "output_type": "stream",
     "text": [
      " 57%|█████▋    | 85/150 [01:02<00:55,  1.17it/s]"
     ]
    },
    {
     "name": "stdout",
     "output_type": "stream",
     "text": [
      "\n",
      "empty predicted answer set for sample #84\n"
     ]
    },
    {
     "name": "stderr",
     "output_type": "stream",
     "text": [
      "\r 57%|█████▋    | 86/150 [01:03<00:51,  1.25it/s]"
     ]
    },
    {
     "name": "stdout",
     "output_type": "stream",
     "text": [
      "\n",
      "error executing SPARQL query: QueryBadFormed: A bad request has been sent to the endpoint: probably the SPARQL query is badly formed. \n",
      "\n",
      "Response:\n",
      "b\"Virtuoso 37000 Error SP030: SPARQL compiler, line 4: Undefined namespace prefix in prefix:localpart notation at 'dbpedia-owl:location' before 'dbpedia:United_States'\\n\\nSPARQL query:\\n#output-format:application/sparql-results+json\\nASK WHERE {\\n  ?uri rdf:type yago:Castle.\\n  ?uri dbpedia-owl:location dbpedia:United_States.\\n}\\n\"\n",
      "\n",
      "syntax error for sample #85\n"
     ]
    },
    {
     "name": "stderr",
     "output_type": "stream",
     "text": [
      " 59%|█████▊    | 88/150 [01:04<00:45,  1.35it/s]"
     ]
    },
    {
     "name": "stdout",
     "output_type": "stream",
     "text": [
      "\n",
      "error executing SPARQL query: QueryBadFormed: A bad request has been sent to the endpoint: probably the SPARQL query is badly formed. \n",
      "\n",
      "Response:\n",
      "b\"Virtuoso 37000 Error SP030: SPARQL compiler, line 6: syntax error at 'UNION' before '{'\\n\\nSPARQL query:\\n#output-format:application/sparql-results+json\\nSELECT DISTINCT ?uri\\nWHERE {\\n  ?uri a <http://dbpedia.org/ontology/Bird>.\\n  ?uri <http://dbpedia.org/ontology/endangered> <http://dbpedia.org/resource/Crisis>.\\n  UNION {\\n    ?uri <http://dbpedia.org/property/critically> <http://dbpedia.org/resource/Crisis>.\\n  }\\n  UNION {\\n    ?uri <http://dbpedia.org/property/draft> ?date.\\n  }\\n}\\nORDER BY DESC(?date)\\nOFFSET 0\\nLIMIT 1\\n\"\n",
      "\n",
      "syntax error for sample #87\n"
     ]
    },
    {
     "name": "stderr",
     "output_type": "stream",
     "text": [
      "\r 59%|█████▉    | 89/150 [01:05<00:52,  1.17it/s]"
     ]
    },
    {
     "name": "stdout",
     "output_type": "stream",
     "text": [
      "\n",
      "predicted answer set was supposed to be empty for sample #88\n"
     ]
    },
    {
     "name": "stderr",
     "output_type": "stream",
     "text": [
      "\r 60%|██████    | 90/150 [01:06<00:48,  1.24it/s]"
     ]
    },
    {
     "name": "stdout",
     "output_type": "stream",
     "text": [
      "\n",
      "predicted answer set was supposed to be empty for sample #89\n"
     ]
    },
    {
     "name": "stderr",
     "output_type": "stream",
     "text": [
      "\r 61%|██████    | 91/150 [01:07<00:48,  1.22it/s]"
     ]
    },
    {
     "name": "stdout",
     "output_type": "stream",
     "text": [
      "\n",
      "empty predicted answer set for sample #90\n"
     ]
    },
    {
     "name": "stderr",
     "output_type": "stream",
     "text": [
      " 62%|██████▏   | 93/150 [01:09<00:44,  1.27it/s]"
     ]
    },
    {
     "name": "stdout",
     "output_type": "stream",
     "text": [
      "\n",
      "empty predicted answer set for sample #92\n"
     ]
    },
    {
     "name": "stderr",
     "output_type": "stream",
     "text": [
      "\r 63%|██████▎   | 94/150 [01:09<00:42,  1.33it/s]"
     ]
    },
    {
     "name": "stdout",
     "output_type": "stream",
     "text": [
      "\n",
      "predicted answer set was supposed to be empty for sample #93\n"
     ]
    },
    {
     "name": "stderr",
     "output_type": "stream",
     "text": [
      " 64%|██████▍   | 96/150 [01:11<00:38,  1.40it/s]"
     ]
    },
    {
     "name": "stdout",
     "output_type": "stream",
     "text": [
      "\n",
      "empty predicted answer set for sample #95\n"
     ]
    },
    {
     "name": "stderr",
     "output_type": "stream",
     "text": [
      "\r 65%|██████▍   | 97/150 [01:11<00:37,  1.41it/s]"
     ]
    },
    {
     "name": "stdout",
     "output_type": "stream",
     "text": [
      "\n",
      "empty predicted answer set for sample #96\n"
     ]
    },
    {
     "name": "stderr",
     "output_type": "stream",
     "text": [
      " 67%|██████▋   | 101/150 [01:14<00:33,  1.46it/s]"
     ]
    },
    {
     "name": "stdout",
     "output_type": "stream",
     "text": [
      "\n",
      "empty predicted answer set for sample #100\n"
     ]
    },
    {
     "name": "stderr",
     "output_type": "stream",
     "text": [
      "\r 68%|██████▊   | 102/150 [01:15<00:32,  1.46it/s]"
     ]
    },
    {
     "name": "stdout",
     "output_type": "stream",
     "text": [
      "\n",
      "empty predicted answer set for sample #101\n"
     ]
    },
    {
     "name": "stderr",
     "output_type": "stream",
     "text": [
      " 69%|██████▉   | 104/150 [01:16<00:31,  1.46it/s]"
     ]
    },
    {
     "name": "stdout",
     "output_type": "stream",
     "text": [
      "\n",
      "empty predicted answer set for sample #103\n"
     ]
    },
    {
     "name": "stderr",
     "output_type": "stream",
     "text": [
      " 71%|███████▏  | 107/150 [01:18<00:30,  1.42it/s]"
     ]
    },
    {
     "name": "stdout",
     "output_type": "stream",
     "text": [
      "\n",
      "empty predicted answer set for sample #106\n"
     ]
    },
    {
     "name": "stderr",
     "output_type": "stream",
     "text": [
      " 73%|███████▎  | 110/150 [01:20<00:28,  1.40it/s]"
     ]
    },
    {
     "name": "stdout",
     "output_type": "stream",
     "text": [
      "\n",
      "empty predicted answer set for sample #109\n"
     ]
    },
    {
     "name": "stderr",
     "output_type": "stream",
     "text": [
      "\r 74%|███████▍  | 111/150 [01:21<00:27,  1.41it/s]"
     ]
    },
    {
     "name": "stdout",
     "output_type": "stream",
     "text": [
      "\n",
      "error executing SPARQL query: QueryBadFormed: A bad request has been sent to the endpoint: probably the SPARQL query is badly formed. \n",
      "\n",
      "Response:\n",
      "b\"Virtuoso 37000 Error SP030: SPARQL compiler, line 4: Undefined namespace prefix in prefix:localpart notation at 'res:Abraham_Lincoln' before '<http://dbpedia.org/ontology/deathPlace>'\\n\\nSPARQL query:\\n#output-format:application/sparql-results+json\\nSELECT DISTINCT ?uri\\nWHERE {\\n  res:Abraham_Lincoln <http://dbpedia.org/ontology/deathPlace> ?uri\\n}\\nLIMIT 100\\n\"\n",
      "\n",
      "syntax error for sample #110\n"
     ]
    },
    {
     "name": "stderr",
     "output_type": "stream",
     "text": [
      "\r 75%|███████▍  | 112/150 [01:22<00:26,  1.43it/s]"
     ]
    },
    {
     "name": "stdout",
     "output_type": "stream",
     "text": [
      "\n",
      "empty predicted answer set for sample #111\n"
     ]
    },
    {
     "name": "stderr",
     "output_type": "stream",
     "text": [
      " 76%|███████▌  | 114/150 [01:23<00:28,  1.28it/s]"
     ]
    },
    {
     "name": "stdout",
     "output_type": "stream",
     "text": [
      "\n",
      "predicted answer set was supposed to be empty for sample #113\n"
     ]
    },
    {
     "name": "stderr",
     "output_type": "stream",
     "text": [
      "\r 77%|███████▋  | 115/150 [01:24<00:26,  1.34it/s]"
     ]
    },
    {
     "name": "stdout",
     "output_type": "stream",
     "text": [
      "\n",
      "empty predicted answer set for sample #114\n"
     ]
    },
    {
     "name": "stderr",
     "output_type": "stream",
     "text": [
      "\r 77%|███████▋  | 116/150 [01:25<00:24,  1.38it/s]"
     ]
    },
    {
     "name": "stdout",
     "output_type": "stream",
     "text": [
      "\n",
      "empty predicted answer set for sample #115\n"
     ]
    },
    {
     "name": "stderr",
     "output_type": "stream",
     "text": [
      "\r 78%|███████▊  | 117/150 [01:25<00:23,  1.40it/s]"
     ]
    },
    {
     "name": "stdout",
     "output_type": "stream",
     "text": [
      "\n",
      "error executing SPARQL query: QueryBadFormed: A bad request has been sent to the endpoint: probably the SPARQL query is badly formed. \n",
      "\n",
      "Response:\n",
      "b\"Virtuoso 37000 Error SP030: SPARQL compiler, line 7: syntax error at '}' before 'UNION'\\n\\nSPARQL query:\\n#output-format:application/sparql-results+json\\nSELECT DISTINCT ?uri WHERE {\\n  {?uri a <http://dbpedia.org/ontology/Politician>.\\n   ?uri <http://dbpedia.org/ontology/spouse> <http://dbpedia.org/resource/Germany>}\\n  UNION\\n  {?spouse <http://dbpedia.org/ontology/spouse> ?spouse.\\n   ?spouse <http://dbpedia.org/resource/Germany>}\\n  UNION\\n  {?spouse <http://dbpedia.org/resource/Germany>}\\n}\\n\"\n",
      "\n",
      "syntax error for sample #116\n"
     ]
    },
    {
     "name": "stderr",
     "output_type": "stream",
     "text": [
      " 81%|████████▏ | 122/150 [01:29<00:19,  1.43it/s]"
     ]
    },
    {
     "name": "stdout",
     "output_type": "stream",
     "text": [
      "\n",
      "empty predicted answer set for sample #121\n"
     ]
    },
    {
     "name": "stderr",
     "output_type": "stream",
     "text": [
      " 83%|████████▎ | 124/150 [01:30<00:18,  1.44it/s]"
     ]
    },
    {
     "name": "stdout",
     "output_type": "stream",
     "text": [
      "\n",
      "empty predicted answer set for sample #123\n"
     ]
    },
    {
     "name": "stderr",
     "output_type": "stream",
     "text": [
      "\r 83%|████████▎ | 125/150 [01:31<00:17,  1.45it/s]"
     ]
    },
    {
     "name": "stdout",
     "output_type": "stream",
     "text": [
      "\n",
      "error executing SPARQL query: QueryBadFormed: A bad request has been sent to the endpoint: probably the SPARQL query is badly formed. \n",
      "\n",
      "Response:\n",
      "b\"Virtuoso 37000 Error SP030: SPARQL compiler, line 4: Undefined default namespace prefix at ':San_Antonio' before '.'\\n\\nSPARQL query:\\n#output-format:application/sparql-results+json\\nSELECT DISTINCT ?name\\nWHERE {\\n  ?battle <http://dbpedia.org/resource/>:San_Antonio .\\n}\\nLIMIT 100\\n\"\n",
      "\n",
      "syntax error for sample #124\n"
     ]
    },
    {
     "name": "stderr",
     "output_type": "stream",
     "text": [
      "\r 84%|████████▍ | 126/150 [01:32<00:17,  1.39it/s]"
     ]
    },
    {
     "name": "stdout",
     "output_type": "stream",
     "text": [
      "\n",
      "predicted answer set was supposed to be empty for sample #125\n"
     ]
    },
    {
     "name": "stderr",
     "output_type": "stream",
     "text": [
      " 86%|████████▌ | 129/150 [01:34<00:14,  1.41it/s]"
     ]
    },
    {
     "name": "stdout",
     "output_type": "stream",
     "text": [
      "\n",
      "error executing SPARQL query: QueryBadFormed: A bad request has been sent to the endpoint: probably the SPARQL query is badly formed. \n",
      "\n",
      "Response:\n",
      "b\"Virtuoso 37000 Error SP030: SPARQL compiler, line 8: syntax error at '}' before '}'\\n\\nSPARQL query:\\n#output-format:application/sparql-results+json\\nSELECT DISTINCT ?uri\\nWHERE {\\n  {?uri <http://dbpedia.org/ontology/IsPartOf> <http://dbpedia.org/resource/Netherlands>}\\n  UNION\\n  {?uri <http://dbpedia.org/property/country> <http://dbpedia.org/resource/Friesia>}\\n  UNION\\n  {?uri <http://dbpedia.org/resource/Netherlands>}\\n}\\n\"\n",
      "\n",
      "syntax error for sample #128\n"
     ]
    },
    {
     "name": "stderr",
     "output_type": "stream",
     "text": [
      "\r 87%|████████▋ | 130/150 [01:35<00:14,  1.35it/s]"
     ]
    },
    {
     "name": "stdout",
     "output_type": "stream",
     "text": [
      "\n",
      "empty predicted answer set for sample #129\n"
     ]
    },
    {
     "name": "stderr",
     "output_type": "stream",
     "text": [
      "\r 87%|████████▋ | 131/150 [01:35<00:13,  1.39it/s]"
     ]
    },
    {
     "name": "stdout",
     "output_type": "stream",
     "text": [
      "\n",
      "empty predicted answer set for sample #130\n"
     ]
    },
    {
     "name": "stderr",
     "output_type": "stream",
     "text": [
      " 89%|████████▉ | 134/150 [01:37<00:11,  1.44it/s]"
     ]
    },
    {
     "name": "stdout",
     "output_type": "stream",
     "text": [
      "\n",
      "empty predicted answer set for sample #133\n"
     ]
    },
    {
     "name": "stderr",
     "output_type": "stream",
     "text": [
      "\r 90%|█████████ | 135/150 [01:38<00:10,  1.44it/s]"
     ]
    },
    {
     "name": "stdout",
     "output_type": "stream",
     "text": [
      "\n",
      "empty predicted answer set for sample #134\n"
     ]
    },
    {
     "name": "stderr",
     "output_type": "stream",
     "text": [
      "\r 91%|█████████ | 136/150 [01:39<00:09,  1.45it/s]"
     ]
    },
    {
     "name": "stdout",
     "output_type": "stream",
     "text": [
      "\n",
      "empty predicted answer set for sample #135\n"
     ]
    },
    {
     "name": "stderr",
     "output_type": "stream",
     "text": [
      " 92%|█████████▏| 138/150 [01:40<00:08,  1.45it/s]"
     ]
    },
    {
     "name": "stdout",
     "output_type": "stream",
     "text": [
      "\n",
      "empty predicted answer set for sample #137\n"
     ]
    },
    {
     "name": "stderr",
     "output_type": "stream",
     "text": [
      " 93%|█████████▎| 140/150 [01:42<00:06,  1.46it/s]"
     ]
    },
    {
     "name": "stdout",
     "output_type": "stream",
     "text": [
      "\n",
      "empty predicted answer set for sample #139\n"
     ]
    },
    {
     "name": "stderr",
     "output_type": "stream",
     "text": [
      "\r 94%|█████████▍| 141/150 [01:42<00:06,  1.46it/s]"
     ]
    },
    {
     "name": "stdout",
     "output_type": "stream",
     "text": [
      "\n",
      "error executing SPARQL query: QueryBadFormed: A bad request has been sent to the endpoint: probably the SPARQL query is badly formed. \n",
      "\n",
      "Response:\n",
      "b\"Virtuoso 37000 Error SP030: SPARQL compiler, line 6: syntax error at '.' before '}'\\n\\nSPARQL query:\\n#output-format:application/sparql-results+json\\nSELECT (COUNT(DISTINCT ?uri) AS ?c)\\nWHERE {\\n  ?uri a <http://dbpedia.org/ontology/River>.\\n  ?uri <http://dbpedia.org/ontology/inflow> ?inflow.\\n  ?inflow <http://dbpedia.org/resource/South_Carolina>.\\n}\\n\"\n",
      "\n",
      "syntax error for sample #140\n"
     ]
    },
    {
     "name": "stderr",
     "output_type": "stream",
     "text": [
      " 95%|█████████▌| 143/150 [01:44<00:04,  1.45it/s]"
     ]
    },
    {
     "name": "stdout",
     "output_type": "stream",
     "text": [
      "\n",
      "error executing SPARQL query: QueryBadFormed: A bad request has been sent to the endpoint: probably the SPARQL query is badly formed. \n",
      "\n",
      "Response:\n",
      "b\"Virtuoso 37000 Error SP030: SPARQL compiler, line 6: syntax error at '.' before '}'\\n\\nSPARQL query:\\n#output-format:application/sparql-results+json\\nSELECT DISTINCT ?uri\\nWHERE {\\n  ?uri <http://www.w3.org/1999/02/22-rdf-syntax-ns#type> <http://dbpedia.org/ontology/Country>.\\n  ?uri <http://dbpedia.org/ontology/country> ?country.\\n  ?country <http://dbpedia.org/resource/Africa> .\\n}\\nLIMIT 100\\n\"\n",
      "\n",
      "syntax error for sample #142\n"
     ]
    },
    {
     "name": "stderr",
     "output_type": "stream",
     "text": [
      "\r 96%|█████████▌| 144/150 [01:44<00:04,  1.46it/s]"
     ]
    },
    {
     "name": "stdout",
     "output_type": "stream",
     "text": [
      "\n",
      "empty predicted answer set for sample #143\n"
     ]
    },
    {
     "name": "stderr",
     "output_type": "stream",
     "text": [
      " 97%|█████████▋| 146/150 [01:46<00:02,  1.46it/s]"
     ]
    },
    {
     "name": "stdout",
     "output_type": "stream",
     "text": [
      "\n",
      "error executing SPARQL query: QueryBadFormed: A bad request has been sent to the endpoint: probably the SPARQL query is badly formed. \n",
      "\n",
      "Response:\n",
      "b\"Virtuoso 37000 Error SP030: SPARQL compiler, line 5: syntax error at '.' before '}'\\n\\nSPARQL query:\\n#output-format:application/sparql-results+json\\nSELECT DISTINCT ?uri \\nWHERE {\\n  ?uri <http://dbpedia.org/property/hiking> ?hiking .\\n  ?uri <http://dbpedia.org/resource/Grand_Canyon> .\\n}\\nLIMIT 100\\n\"\n",
      "\n",
      "syntax error for sample #145\n"
     ]
    },
    {
     "name": "stderr",
     "output_type": "stream",
     "text": [
      "\r 98%|█████████▊| 147/150 [01:46<00:02,  1.47it/s]"
     ]
    },
    {
     "name": "stdout",
     "output_type": "stream",
     "text": [
      "\n",
      "empty predicted answer set for sample #146\n"
     ]
    },
    {
     "name": "stderr",
     "output_type": "stream",
     "text": [
      "\r 99%|█████████▊| 148/150 [01:47<00:01,  1.47it/s]"
     ]
    },
    {
     "name": "stdout",
     "output_type": "stream",
     "text": [
      "\n",
      "empty predicted answer set for sample #147\n"
     ]
    },
    {
     "name": "stderr",
     "output_type": "stream",
     "text": [
      "100%|██████████| 150/150 [01:50<00:00,  1.35it/s]"
     ]
    },
    {
     "name": "stdout",
     "output_type": "stream",
     "text": [
      "\n",
      "empty predicted answer set for sample #149\n",
      "\n",
      "acc: 0.3020489932117839\n",
      "rec: 0.31040091477176157\n",
      "pre: 0.3020489932117839\n",
      "f1: 0.2994036964583604\n"
     ]
    },
    {
     "name": "stderr",
     "output_type": "stream",
     "text": [
      "\n"
     ]
    }
   ],
   "source": [
    "import requests\n",
    "import json\n",
    "from SPARQLWrapper import SPARQLWrapper, JSON\n",
    "from copy import deepcopy\n",
    "dbpedia_endpoint = \"http://dbpedia.org/sparql\"\n",
    "\n",
    "def execute_sparql_query(query):\n",
    "    sparql = SPARQLWrapper(dbpedia_endpoint)\n",
    "    sparql.setQuery(query)\n",
    "    sparql.setReturnFormat(JSON)\n",
    "\n",
    "    try:\n",
    "        results = sparql.queryAndConvert()\n",
    "        return results\n",
    "    except Exception as e:\n",
    "        print(f\"\\nerror executing SPARQL query: {e}\")\n",
    "        return None\n",
    "\n",
    "def process_text(txt):\n",
    "    return txt.strip().lower().replace(':','').replace('.','').replace('/','').replace('_','')\n",
    "\n",
    "def eval(gold, pred, boolean=False):\n",
    "    TP, FP, FN = 0, 0, 0\n",
    "    for item in pred:\n",
    "        new_item = process_text(item) if not boolean else item\n",
    "        if new_item in gold:\n",
    "            TP += 1\n",
    "        else:\n",
    "            FP += 1\n",
    "    pred = list(map(lambda x: process_text(x), pred)) if not boolean else pred\n",
    "    for item in gold:\n",
    "        if item not in pred:\n",
    "            FN += 1\n",
    "    acc = TP / len(pred)\n",
    "    recall = TP / (TP + FN)\n",
    "    precision = TP / (TP + FP)\n",
    "    f1 = ((2 * (precision * recall)) / (precision + recall)) if (precision + recall != 0) else 0\n",
    "    rec, pre = recall, precision\n",
    "    return acc, rec, pre, f1\n",
    "\n",
    "queries = []\n",
    "with open('/content/gpt-3.5-turbo_t5-3b-ep-10-t_qald-9-plus.json', 'r') as f:\n",
    "  data = json.load(f)\n",
    "  queries = [d['pred_sparql'] for d in data]\n",
    "  ids = [d['id'] for d in data]\n",
    "  gold_ans = [d['gold_answers'] for d in data]\n",
    "  for j in range(len(gold_ans)):\n",
    "      if len(list(gold_ans[j].keys())) == 0:\n",
    "          ans = []\n",
    "      else:\n",
    "          assert len(list(gold_ans[j].keys())) == 1\n",
    "          gold_ans[j] = deepcopy(next(iter(gold_ans[j].values())))\n",
    "\n",
    "total_acc, total_rec, total_pre, total_f1 = 0, 0, 0, 0\n",
    "for i in trange(len(queries)):\n",
    "    query = queries[i]\n",
    "    pred_answers = {}\n",
    "    results = execute_sparql_query(query)\n",
    "    if (type(gold_ans[i]) != bool and len(gold_ans[i]) == 0) and (not results): # if results == None -> syntax error\n",
    "        print(f'\\nsyntax error for sample #{ids[i]}')\n",
    "        total_acc += 1\n",
    "        total_rec += 1\n",
    "        total_pre += 1\n",
    "        total_f1 += 1\n",
    "        continue\n",
    "    elif type(gold_ans[i]) != bool and (len(gold_ans[i]) > 0) and (not results): # if results == None -> syntax error\n",
    "        print(f'\\nsyntax error for sample #{ids[i]}')\n",
    "        continue\n",
    "    elif type(gold_ans[i]) == bool and (not results):\n",
    "        print(f'\\nsyntax error for sample #{ids[i]}')\n",
    "        continue\n",
    "    if 'boolean' in results.keys():\n",
    "        acc, rec, pre, f1 = eval([gold_ans[i]], [results['boolean']], boolean=True)\n",
    "        total_acc += acc\n",
    "        total_rec += rec\n",
    "        total_pre += pre\n",
    "        total_f1 += f1\n",
    "        continue\n",
    "    else:\n",
    "        for result in results[\"results\"][\"bindings\"]:\n",
    "            for var_name, var_data in result.items():\n",
    "                var_value = var_data[\"value\"]\n",
    "                if var_name in pred_answers.keys():\n",
    "                    pred_answers[var_name].append(var_value)\n",
    "                else:\n",
    "                    pred_answers[var_name] = [var_value]\n",
    "    if (type(gold_ans[i]) != bool) and (len(gold_ans[i]) == 0) and (len(list(pred_answers.keys())) == 0):\n",
    "        total_acc += 1\n",
    "        total_rec += 1\n",
    "        total_pre += 1\n",
    "        total_f1 += 1\n",
    "        continue\n",
    "    elif (type(gold_ans[i]) != bool) and (len(gold_ans[i]) > 0) and (len(list(pred_answers.keys())) == 0):\n",
    "        print(f'\\nempty predicted answer set for sample #{ids[i]}')\n",
    "        continue\n",
    "    elif (type(gold_ans[i]) != bool) and (len(gold_ans[i]) == 0) and (len(list(pred_answers.keys())) > 0):\n",
    "        print(f'\\npredicted answer set was supposed to be empty for sample #{ids[i]}')\n",
    "        continue\n",
    "    elif type(gold_ans[i]) == bool:\n",
    "        print(f'\\nresults are not of type boolean for sample #{ids[i]}')\n",
    "        continue\n",
    "    try:\n",
    "        assert len(list(pred_answers.keys())) == 1\n",
    "    except:\n",
    "        print(f'\\nresults dict has more keys than expected for sample #{ids[i]}')\n",
    "        continue\n",
    "    pred_ans = next(iter(pred_answers.values()))\n",
    "    acc, rec, pre, f1 = eval(list(map(lambda x: process_text(x), gold_ans[i])), pred_ans)\n",
    "    total_acc += acc\n",
    "    total_rec += rec\n",
    "    total_pre += pre\n",
    "    total_f1 += f1\n",
    "    # print(f'\\ninfo for sample #{ids[i]}:')\n",
    "    # print(f'acc = {acc}, rec = {rec}, pre = {pre}, f1 = {f1}')\n",
    "    # print('\\n'.join(gold_ans[i]))\n",
    "    # print('---')\n",
    "    # print('\\n'.join(pred_ans))\n",
    "    # print()\n",
    "print(f'\\nacc: {total_acc / len(queries)}')\n",
    "print(f'rec: {total_rec / len(queries)}')\n",
    "print(f'pre: {total_pre / len(queries)}')\n",
    "print(f'f1: {total_f1 / len(queries)}')"
   ]
  },
  {
   "cell_type": "markdown",
   "metadata": {
    "id": "zhom8E8I6GF2"
   },
   "source": [
    "#### T5-3B w/ 10 triples only for test. To correct the syntax uses ChatGPT\n",
    "model_10: t5-3b-ep-10-t-v2"
   ]
  },
  {
   "cell_type": "code",
   "execution_count": null,
   "metadata": {
    "colab": {
     "base_uri": "https://localhost:8080/",
     "height": 1000
    },
    "id": "u89FrvUI6UFk",
    "outputId": "1ac4d8fb-19dd-42d9-a8ce-d9bddba1e5cf"
   },
   "outputs": [
    {
     "data": {
      "text/html": [
       "\n",
       "  <style>\n",
       "    pre {\n",
       "        white-space: pre-wrap;\n",
       "    }\n",
       "  </style>\n",
       "  "
      ],
      "text/plain": [
       "<IPython.core.display.HTML object>"
      ]
     },
     "metadata": {},
     "output_type": "display_data"
    },
    {
     "name": "stderr",
     "output_type": "stream",
     "text": [
      "  1%|▏         | 2/150 [00:01<02:01,  1.22it/s]"
     ]
    },
    {
     "name": "stdout",
     "output_type": "stream",
     "text": [
      "\n",
      "empty predicted answer set for sample #1\n"
     ]
    },
    {
     "name": "stderr",
     "output_type": "stream",
     "text": [
      "\r  2%|▏         | 3/150 [00:02<01:51,  1.32it/s]"
     ]
    },
    {
     "name": "stdout",
     "output_type": "stream",
     "text": [
      "\n",
      "empty predicted answer set for sample #2\n"
     ]
    },
    {
     "name": "stderr",
     "output_type": "stream",
     "text": [
      "\r  3%|▎         | 4/150 [00:02<01:45,  1.38it/s]"
     ]
    },
    {
     "name": "stdout",
     "output_type": "stream",
     "text": [
      "\n",
      "empty predicted answer set for sample #3\n"
     ]
    },
    {
     "name": "stderr",
     "output_type": "stream",
     "text": [
      "\r  3%|▎         | 5/150 [00:03<01:44,  1.39it/s]"
     ]
    },
    {
     "name": "stdout",
     "output_type": "stream",
     "text": [
      "\n",
      "predicted answer set was supposed to be empty for sample #4\n"
     ]
    },
    {
     "name": "stderr",
     "output_type": "stream",
     "text": [
      "\r  4%|▍         | 6/150 [00:04<01:41,  1.41it/s]"
     ]
    },
    {
     "name": "stdout",
     "output_type": "stream",
     "text": [
      "\n",
      "error executing SPARQL query: QueryBadFormed: A bad request has been sent to the endpoint: probably the SPARQL query is badly formed. \n",
      "\n",
      "Response:\n",
      "b\"Virtuoso 37000 Error SP030: SPARQL compiler, line 7: syntax error at '.'\\n\\nSPARQL query:\\n#output-format:application/sparql-results+json\\nSELECT (COUNT(DISTINCT ?uri) AS ?c)\\nWHERE {\\n  ?uri <http://dbpedia.org/ontology/olympics> <http://dbpedia.org/resource/Michael_Phelps>.\\n  ?uri <http://dbpedia.org/ontology/olympics> ?x.\\n  ?x <http://dbpedia.org/ontology/olympics> ?uri.\\n  ?uri <http://dbpedia.org/resource/dbpedia.org/resource/Of_Phelps>.\\n}\\n\"\n",
      "\n",
      "syntax error for sample #5\n"
     ]
    },
    {
     "name": "stderr",
     "output_type": "stream",
     "text": [
      "  5%|▌         | 8/150 [00:07<02:37,  1.11s/it]"
     ]
    },
    {
     "name": "stdout",
     "output_type": "stream",
     "text": [
      "\n",
      "empty predicted answer set for sample #7\n"
     ]
    },
    {
     "name": "stderr",
     "output_type": "stream",
     "text": [
      "  9%|▊         | 13/150 [00:11<01:46,  1.28it/s]"
     ]
    },
    {
     "name": "stdout",
     "output_type": "stream",
     "text": [
      "\n",
      "error executing SPARQL query: QueryBadFormed: A bad request has been sent to the endpoint: probably the SPARQL query is badly formed. \n",
      "\n",
      "Response:\n",
      "b\"Virtuoso 37000 Error SP030: SPARQL compiler, line 6: syntax error at '.' before '}'\\n\\nSPARQL query:\\n#output-format:application/sparql-results+json\\nSELECT DISTINCT ?uri\\nWHERE {\\n  ?uri a <http://dbpedia.org/ontology/Cave>.\\n  ?uri <http://dbpedia.org/ontology/location> ?loc.\\n  ?loc <http://dbpedia.org/resource/Western_Australia>.\\n}\\nLIMIT 100\\n\"\n",
      "\n",
      "syntax error for sample #12\n"
     ]
    },
    {
     "name": "stderr",
     "output_type": "stream",
     "text": [
      " 12%|█▏        | 18/150 [00:14<01:32,  1.42it/s]"
     ]
    },
    {
     "name": "stdout",
     "output_type": "stream",
     "text": [
      "\n",
      "empty predicted answer set for sample #17\n"
     ]
    },
    {
     "name": "stderr",
     "output_type": "stream",
     "text": [
      " 15%|█▍        | 22/150 [00:17<01:29,  1.42it/s]"
     ]
    },
    {
     "name": "stdout",
     "output_type": "stream",
     "text": [
      "\n",
      "predicted answer set was supposed to be empty for sample #21\n"
     ]
    },
    {
     "name": "stderr",
     "output_type": "stream",
     "text": [
      " 17%|█▋        | 25/150 [00:19<01:25,  1.46it/s]"
     ]
    },
    {
     "name": "stdout",
     "output_type": "stream",
     "text": [
      "\n",
      "empty predicted answer set for sample #24\n"
     ]
    },
    {
     "name": "stderr",
     "output_type": "stream",
     "text": [
      " 18%|█▊        | 27/150 [00:20<01:26,  1.43it/s]"
     ]
    },
    {
     "name": "stdout",
     "output_type": "stream",
     "text": [
      "\n",
      "empty predicted answer set for sample #26\n"
     ]
    },
    {
     "name": "stderr",
     "output_type": "stream",
     "text": [
      " 21%|██▏       | 32/150 [00:24<01:21,  1.45it/s]"
     ]
    },
    {
     "name": "stdout",
     "output_type": "stream",
     "text": [
      "\n",
      "predicted answer set was supposed to be empty for sample #31\n"
     ]
    },
    {
     "name": "stderr",
     "output_type": "stream",
     "text": [
      " 25%|██▍       | 37/150 [00:27<01:17,  1.46it/s]"
     ]
    },
    {
     "name": "stdout",
     "output_type": "stream",
     "text": [
      "\n",
      "empty predicted answer set for sample #36\n"
     ]
    },
    {
     "name": "stderr",
     "output_type": "stream",
     "text": [
      "\r 25%|██▌       | 38/150 [00:28<01:18,  1.42it/s]"
     ]
    },
    {
     "name": "stdout",
     "output_type": "stream",
     "text": [
      "\n",
      "empty predicted answer set for sample #37\n"
     ]
    },
    {
     "name": "stderr",
     "output_type": "stream",
     "text": [
      " 27%|██▋       | 40/150 [00:29<01:16,  1.44it/s]"
     ]
    },
    {
     "name": "stdout",
     "output_type": "stream",
     "text": [
      "\n",
      "error executing SPARQL query: QueryBadFormed: A bad request has been sent to the endpoint: probably the SPARQL query is badly formed. \n",
      "\n",
      "Response:\n",
      "b\"Virtuoso 37000 Error SP030: SPARQL compiler, line 5: Undefined namespace prefix in prefix:localpart notation at 'dbpedia-owl:densityRank' before '?density'\\n\\nSPARQL query:\\n#output-format:application/sparql-results+json\\nSELECT DISTINCT ?uri\\nWHERE {\\n  ?uri rdf:type yago:WikicatStatesOfTheUnitedStates.\\n  ?uri dbpedia-owl:densityRank ?density.\\n}\\nORDER BY ASC(?density)\\nLIMIT 1\\n\"\n",
      "\n",
      "syntax error for sample #39\n"
     ]
    },
    {
     "name": "stderr",
     "output_type": "stream",
     "text": [
      "\r 27%|██▋       | 41/150 [00:30<01:15,  1.44it/s]"
     ]
    },
    {
     "name": "stdout",
     "output_type": "stream",
     "text": [
      "\n",
      "predicted answer set was supposed to be empty for sample #40\n"
     ]
    },
    {
     "name": "stderr",
     "output_type": "stream",
     "text": [
      " 30%|███       | 45/150 [00:33<01:15,  1.39it/s]"
     ]
    },
    {
     "name": "stdout",
     "output_type": "stream",
     "text": [
      "\n",
      "empty predicted answer set for sample #44\n"
     ]
    },
    {
     "name": "stderr",
     "output_type": "stream",
     "text": [
      " 31%|███▏      | 47/150 [00:34<01:11,  1.43it/s]"
     ]
    },
    {
     "name": "stdout",
     "output_type": "stream",
     "text": [
      "\n",
      "empty predicted answer set for sample #46\n"
     ]
    },
    {
     "name": "stderr",
     "output_type": "stream",
     "text": [
      "\r 32%|███▏      | 48/150 [00:35<01:10,  1.44it/s]"
     ]
    },
    {
     "name": "stdout",
     "output_type": "stream",
     "text": [
      "\n",
      "predicted answer set was supposed to be empty for sample #47\n"
     ]
    },
    {
     "name": "stderr",
     "output_type": "stream",
     "text": [
      " 33%|███▎      | 50/150 [00:37<01:37,  1.03it/s]"
     ]
    },
    {
     "name": "stdout",
     "output_type": "stream",
     "text": [
      "\n",
      "predicted answer set was supposed to be empty for sample #49\n"
     ]
    },
    {
     "name": "stderr",
     "output_type": "stream",
     "text": [
      "\r 34%|███▍      | 51/150 [00:38<01:27,  1.13it/s]"
     ]
    },
    {
     "name": "stdout",
     "output_type": "stream",
     "text": [
      "\n",
      "empty predicted answer set for sample #50\n"
     ]
    },
    {
     "name": "stderr",
     "output_type": "stream",
     "text": [
      "\r 35%|███▍      | 52/150 [00:39<01:20,  1.21it/s]"
     ]
    },
    {
     "name": "stdout",
     "output_type": "stream",
     "text": [
      "\n",
      "empty predicted answer set for sample #51\n"
     ]
    },
    {
     "name": "stderr",
     "output_type": "stream",
     "text": [
      "\r 35%|███▌      | 53/150 [00:39<01:15,  1.28it/s]"
     ]
    },
    {
     "name": "stdout",
     "output_type": "stream",
     "text": [
      "\n",
      "empty predicted answer set for sample #52\n"
     ]
    },
    {
     "name": "stderr",
     "output_type": "stream",
     "text": [
      " 38%|███▊      | 57/150 [00:42<01:06,  1.39it/s]"
     ]
    },
    {
     "name": "stdout",
     "output_type": "stream",
     "text": [
      "\n",
      "empty predicted answer set for sample #56\n"
     ]
    },
    {
     "name": "stderr",
     "output_type": "stream",
     "text": [
      " 39%|███▉      | 59/150 [00:44<01:04,  1.41it/s]"
     ]
    },
    {
     "name": "stdout",
     "output_type": "stream",
     "text": [
      "\n",
      "error executing SPARQL query: QueryBadFormed: A bad request has been sent to the endpoint: probably the SPARQL query is badly formed. \n",
      "\n",
      "Response:\n",
      "b\"Virtuoso 37000 Error SP030: SPARQL compiler, line 4: Undefined namespace prefix in prefix:localpart notation at 'res:Mary_Richardson_Kennedy' before '<http://dbpedia.org/ontology/spouse>'\\n\\nSPARQL query:\\n#output-format:application/sparql-results+json\\nSELECT DISTINCT ?uri\\nWHERE {\\n  res:Mary_Richardson_Kennedy <http://dbpedia.org/ontology/spouse> ?uri .\\n}\\nLIMIT 100\\n\"\n",
      "\n",
      "syntax error for sample #58\n"
     ]
    },
    {
     "name": "stderr",
     "output_type": "stream",
     "text": [
      "\r 40%|████      | 60/150 [00:44<01:02,  1.43it/s]"
     ]
    },
    {
     "name": "stdout",
     "output_type": "stream",
     "text": [
      "\n",
      "empty predicted answer set for sample #59\n"
     ]
    },
    {
     "name": "stderr",
     "output_type": "stream",
     "text": [
      " 41%|████▏     | 62/150 [00:46<01:00,  1.45it/s]"
     ]
    },
    {
     "name": "stdout",
     "output_type": "stream",
     "text": [
      "\n",
      "empty predicted answer set for sample #61\n"
     ]
    },
    {
     "name": "stderr",
     "output_type": "stream",
     "text": [
      " 43%|████▎     | 64/150 [00:47<00:59,  1.46it/s]"
     ]
    },
    {
     "name": "stdout",
     "output_type": "stream",
     "text": [
      "\n",
      "predicted answer set was supposed to be empty for sample #63\n"
     ]
    },
    {
     "name": "stderr",
     "output_type": "stream",
     "text": [
      "\r 43%|████▎     | 65/150 [00:48<00:58,  1.46it/s]"
     ]
    },
    {
     "name": "stdout",
     "output_type": "stream",
     "text": [
      "\n",
      "predicted answer set was supposed to be empty for sample #64\n"
     ]
    },
    {
     "name": "stderr",
     "output_type": "stream",
     "text": [
      "\r 44%|████▍     | 66/150 [00:48<00:57,  1.47it/s]"
     ]
    },
    {
     "name": "stdout",
     "output_type": "stream",
     "text": [
      "\n",
      "empty predicted answer set for sample #65\n"
     ]
    },
    {
     "name": "stderr",
     "output_type": "stream",
     "text": [
      " 45%|████▌     | 68/150 [00:50<00:56,  1.46it/s]"
     ]
    },
    {
     "name": "stdout",
     "output_type": "stream",
     "text": [
      "\n",
      "empty predicted answer set for sample #67\n"
     ]
    },
    {
     "name": "stderr",
     "output_type": "stream",
     "text": [
      "\r 46%|████▌     | 69/150 [00:50<00:55,  1.46it/s]"
     ]
    },
    {
     "name": "stdout",
     "output_type": "stream",
     "text": [
      "\n",
      "empty predicted answer set for sample #68\n"
     ]
    },
    {
     "name": "stderr",
     "output_type": "stream",
     "text": [
      "\r 47%|████▋     | 70/150 [00:51<00:54,  1.46it/s]"
     ]
    },
    {
     "name": "stdout",
     "output_type": "stream",
     "text": [
      "\n",
      "empty predicted answer set for sample #69\n"
     ]
    },
    {
     "name": "stderr",
     "output_type": "stream",
     "text": [
      "\r 47%|████▋     | 71/150 [00:52<00:54,  1.46it/s]"
     ]
    },
    {
     "name": "stdout",
     "output_type": "stream",
     "text": [
      "\n",
      "empty predicted answer set for sample #70\n"
     ]
    },
    {
     "name": "stderr",
     "output_type": "stream",
     "text": [
      " 49%|████▊     | 73/150 [00:53<00:54,  1.42it/s]"
     ]
    },
    {
     "name": "stdout",
     "output_type": "stream",
     "text": [
      "\n",
      "empty predicted answer set for sample #72\n"
     ]
    },
    {
     "name": "stderr",
     "output_type": "stream",
     "text": [
      " 51%|█████▏    | 77/150 [00:58<01:06,  1.10it/s]"
     ]
    },
    {
     "name": "stdout",
     "output_type": "stream",
     "text": [
      "\n",
      "empty predicted answer set for sample #76\n"
     ]
    },
    {
     "name": "stderr",
     "output_type": "stream",
     "text": [
      "\r 52%|█████▏    | 78/150 [00:59<01:00,  1.19it/s]"
     ]
    },
    {
     "name": "stdout",
     "output_type": "stream",
     "text": [
      "\n",
      "empty predicted answer set for sample #77\n"
     ]
    },
    {
     "name": "stderr",
     "output_type": "stream",
     "text": [
      "\r 53%|█████▎    | 79/150 [00:59<00:56,  1.26it/s]"
     ]
    },
    {
     "name": "stdout",
     "output_type": "stream",
     "text": [
      "\n",
      "empty predicted answer set for sample #78\n"
     ]
    },
    {
     "name": "stderr",
     "output_type": "stream",
     "text": [
      " 54%|█████▍    | 81/150 [01:01<00:52,  1.31it/s]"
     ]
    },
    {
     "name": "stdout",
     "output_type": "stream",
     "text": [
      "\n",
      "empty predicted answer set for sample #80\n"
     ]
    },
    {
     "name": "stderr",
     "output_type": "stream",
     "text": [
      "\r 55%|█████▍    | 82/150 [01:02<00:50,  1.35it/s]"
     ]
    },
    {
     "name": "stdout",
     "output_type": "stream",
     "text": [
      "\n",
      "empty predicted answer set for sample #81\n"
     ]
    },
    {
     "name": "stderr",
     "output_type": "stream",
     "text": [
      "\r 55%|█████▌    | 83/150 [01:03<01:05,  1.03it/s]"
     ]
    },
    {
     "name": "stdout",
     "output_type": "stream",
     "text": [
      "\n",
      "predicted answer set was supposed to be empty for sample #82\n"
     ]
    },
    {
     "name": "stderr",
     "output_type": "stream",
     "text": [
      " 57%|█████▋    | 85/150 [01:05<00:53,  1.21it/s]"
     ]
    },
    {
     "name": "stdout",
     "output_type": "stream",
     "text": [
      "\n",
      "empty predicted answer set for sample #84\n"
     ]
    },
    {
     "name": "stderr",
     "output_type": "stream",
     "text": [
      " 59%|█████▊    | 88/150 [01:07<00:45,  1.36it/s]"
     ]
    },
    {
     "name": "stdout",
     "output_type": "stream",
     "text": [
      "\n",
      "empty predicted answer set for sample #87\n"
     ]
    },
    {
     "name": "stderr",
     "output_type": "stream",
     "text": [
      "\r 59%|█████▉    | 89/150 [01:07<00:43,  1.39it/s]"
     ]
    },
    {
     "name": "stdout",
     "output_type": "stream",
     "text": [
      "\n",
      "predicted answer set was supposed to be empty for sample #88\n"
     ]
    },
    {
     "name": "stderr",
     "output_type": "stream",
     "text": [
      "\r 60%|██████    | 90/150 [01:08<00:42,  1.42it/s]"
     ]
    },
    {
     "name": "stdout",
     "output_type": "stream",
     "text": [
      "\n",
      "predicted answer set was supposed to be empty for sample #89\n"
     ]
    },
    {
     "name": "stderr",
     "output_type": "stream",
     "text": [
      "\r 61%|██████    | 91/150 [01:09<00:41,  1.43it/s]"
     ]
    },
    {
     "name": "stdout",
     "output_type": "stream",
     "text": [
      "\n",
      "error executing SPARQL query: QueryBadFormed: A bad request has been sent to the endpoint: probably the SPARQL query is badly formed. \n",
      "\n",
      "Response:\n",
      "b\"Virtuoso 37000 Error SP030: SPARQL compiler, line 6: Undefined default namespace prefix at ':type' before '.'\\n\\nSPARQL query:\\n#output-format:application/sparql-results+json\\nSELECT DISTINCT ?uri\\nWHERE {\\n  ?uri a <http://dbpedia.org/ontology/Element> .\\n  ?uri <http://dbpedia.org/ontology/type> <http://dbpedia.org/resource/Cadmium> .\\n  <http://dbpedia.org/ontology/type> <http://dbpedia.org/resource/WikicatSyntax-ns#>:type .\\n  <http://dbpedia.org/property/>:type <http://dbpedia.org/resource/>:W3.org/1999/02/22-rdf-syntax-ns#>:Nstax-ns#>:Ns#>:Nstax-ns#>:Ns#>:Ns#>:Ns#>:Ns#>:Ns#>:Ns#>:Ns#>:Ns#>:Ns#>:Ns#>:Ns#>:ns#>:ns#>:ns#>:ns#>:ns#>:ns#>:ns#>:ns#>:ns#>:ns#>:ns\\n\"\n",
      "\n",
      "syntax error for sample #90\n"
     ]
    },
    {
     "name": "stderr",
     "output_type": "stream",
     "text": [
      " 62%|██████▏   | 93/150 [01:10<00:39,  1.43it/s]"
     ]
    },
    {
     "name": "stdout",
     "output_type": "stream",
     "text": [
      "\n",
      "empty predicted answer set for sample #92\n"
     ]
    },
    {
     "name": "stderr",
     "output_type": "stream",
     "text": [
      "\r 63%|██████▎   | 94/150 [01:11<00:38,  1.44it/s]"
     ]
    },
    {
     "name": "stdout",
     "output_type": "stream",
     "text": [
      "\n",
      "predicted answer set was supposed to be empty for sample #93\n"
     ]
    },
    {
     "name": "stderr",
     "output_type": "stream",
     "text": [
      " 65%|██████▌   | 98/150 [01:13<00:36,  1.44it/s]"
     ]
    },
    {
     "name": "stdout",
     "output_type": "stream",
     "text": [
      "\n",
      "empty predicted answer set for sample #97\n"
     ]
    },
    {
     "name": "stderr",
     "output_type": "stream",
     "text": [
      " 67%|██████▋   | 101/150 [01:16<00:37,  1.31it/s]"
     ]
    },
    {
     "name": "stdout",
     "output_type": "stream",
     "text": [
      "\n",
      "empty predicted answer set for sample #100\n"
     ]
    },
    {
     "name": "stderr",
     "output_type": "stream",
     "text": [
      "\r 68%|██████▊   | 102/150 [01:17<00:37,  1.27it/s]"
     ]
    },
    {
     "name": "stdout",
     "output_type": "stream",
     "text": [
      "\n",
      "empty predicted answer set for sample #101\n"
     ]
    },
    {
     "name": "stderr",
     "output_type": "stream",
     "text": [
      " 69%|██████▉   | 104/150 [01:18<00:33,  1.36it/s]"
     ]
    },
    {
     "name": "stdout",
     "output_type": "stream",
     "text": [
      "\n",
      "empty predicted answer set for sample #103\n"
     ]
    },
    {
     "name": "stderr",
     "output_type": "stream",
     "text": [
      " 71%|███████   | 106/150 [01:19<00:31,  1.40it/s]"
     ]
    },
    {
     "name": "stdout",
     "output_type": "stream",
     "text": [
      "\n",
      "predicted answer set was supposed to be empty for sample #105\n"
     ]
    },
    {
     "name": "stderr",
     "output_type": "stream",
     "text": [
      "\r 71%|███████▏  | 107/150 [01:20<00:30,  1.43it/s]"
     ]
    },
    {
     "name": "stdout",
     "output_type": "stream",
     "text": [
      "\n",
      "empty predicted answer set for sample #106\n"
     ]
    },
    {
     "name": "stderr",
     "output_type": "stream",
     "text": [
      " 77%|███████▋  | 115/150 [01:26<00:25,  1.40it/s]"
     ]
    },
    {
     "name": "stdout",
     "output_type": "stream",
     "text": [
      "\n",
      "empty predicted answer set for sample #114\n"
     ]
    },
    {
     "name": "stderr",
     "output_type": "stream",
     "text": [
      "\r 77%|███████▋  | 116/150 [01:27<00:24,  1.41it/s]"
     ]
    },
    {
     "name": "stdout",
     "output_type": "stream",
     "text": [
      "\n",
      "empty predicted answer set for sample #115\n"
     ]
    },
    {
     "name": "stderr",
     "output_type": "stream",
     "text": [
      " 79%|███████▊  | 118/150 [01:29<00:23,  1.35it/s]"
     ]
    },
    {
     "name": "stdout",
     "output_type": "stream",
     "text": [
      "\n",
      "empty predicted answer set for sample #117\n"
     ]
    },
    {
     "name": "stderr",
     "output_type": "stream",
     "text": [
      " 82%|████████▏ | 123/150 [01:32<00:18,  1.42it/s]"
     ]
    },
    {
     "name": "stdout",
     "output_type": "stream",
     "text": [
      "\n",
      "empty predicted answer set for sample #122\n"
     ]
    },
    {
     "name": "stderr",
     "output_type": "stream",
     "text": [
      "\r 83%|████████▎ | 124/150 [01:33<00:18,  1.43it/s]"
     ]
    },
    {
     "name": "stdout",
     "output_type": "stream",
     "text": [
      "\n",
      "empty predicted answer set for sample #123\n"
     ]
    },
    {
     "name": "stderr",
     "output_type": "stream",
     "text": [
      "\r 83%|████████▎ | 125/150 [01:33<00:17,  1.43it/s]"
     ]
    },
    {
     "name": "stdout",
     "output_type": "stream",
     "text": [
      "\n",
      "empty predicted answer set for sample #124\n"
     ]
    },
    {
     "name": "stderr",
     "output_type": "stream",
     "text": [
      " 85%|████████▌ | 128/150 [01:36<00:15,  1.42it/s]"
     ]
    },
    {
     "name": "stdout",
     "output_type": "stream",
     "text": [
      "\n",
      "empty predicted answer set for sample #127\n"
     ]
    },
    {
     "name": "stderr",
     "output_type": "stream",
     "text": [
      "\r 86%|████████▌ | 129/150 [01:36<00:14,  1.43it/s]"
     ]
    },
    {
     "name": "stdout",
     "output_type": "stream",
     "text": [
      "\n",
      "error executing SPARQL query: QueryBadFormed: A bad request has been sent to the endpoint: probably the SPARQL query is badly formed. \n",
      "\n",
      "Response:\n",
      "b\"Virtuoso 37000 Error SP030: SPARQL compiler, line 6: syntax error at '}'\\n\\nSPARQL query:\\n#output-format:application/sparql-results+json\\nSELECT DISTINCT ?uri WHERE {\\n  {?uri <http://dbpedia.org/ontology/IsPartOf> <http://dbpedia.org/resource/Netherlands>} UNION\\n  {?uri <http://dbpedia.org/ontology/country> <http://dbpedia.org/resource/Netherlands>} UNION\\n  {?uri <http://dbpedia.org/ontology/country> ?country}\\n  {?country <http://dbpedia.org/resource/Netherlands>}\\n}\\n\"\n",
      "\n",
      "syntax error for sample #128\n"
     ]
    },
    {
     "name": "stderr",
     "output_type": "stream",
     "text": [
      "\r 87%|████████▋ | 130/150 [01:37<00:14,  1.35it/s]"
     ]
    },
    {
     "name": "stdout",
     "output_type": "stream",
     "text": [
      "\n",
      "empty predicted answer set for sample #129\n"
     ]
    },
    {
     "name": "stderr",
     "output_type": "stream",
     "text": [
      " 89%|████████▉ | 134/150 [01:40<00:11,  1.43it/s]"
     ]
    },
    {
     "name": "stdout",
     "output_type": "stream",
     "text": [
      "\n",
      "empty predicted answer set for sample #133\n"
     ]
    },
    {
     "name": "stderr",
     "output_type": "stream",
     "text": [
      " 91%|█████████ | 136/150 [01:41<00:09,  1.44it/s]"
     ]
    },
    {
     "name": "stdout",
     "output_type": "stream",
     "text": [
      "\n",
      "empty predicted answer set for sample #135\n"
     ]
    },
    {
     "name": "stderr",
     "output_type": "stream",
     "text": [
      " 92%|█████████▏| 138/150 [01:43<00:08,  1.46it/s]"
     ]
    },
    {
     "name": "stdout",
     "output_type": "stream",
     "text": [
      "\n",
      "empty predicted answer set for sample #137\n"
     ]
    },
    {
     "name": "stderr",
     "output_type": "stream",
     "text": [
      " 93%|█████████▎| 140/150 [01:44<00:06,  1.46it/s]"
     ]
    },
    {
     "name": "stdout",
     "output_type": "stream",
     "text": [
      "\n",
      "empty predicted answer set for sample #139\n"
     ]
    },
    {
     "name": "stderr",
     "output_type": "stream",
     "text": [
      " 95%|█████████▌| 143/150 [01:46<00:04,  1.46it/s]"
     ]
    },
    {
     "name": "stdout",
     "output_type": "stream",
     "text": [
      "\n",
      "empty predicted answer set for sample #142\n"
     ]
    },
    {
     "name": "stderr",
     "output_type": "stream",
     "text": [
      "\r 96%|█████████▌| 144/150 [01:47<00:04,  1.47it/s]"
     ]
    },
    {
     "name": "stdout",
     "output_type": "stream",
     "text": [
      "\n",
      "empty predicted answer set for sample #143\n"
     ]
    },
    {
     "name": "stderr",
     "output_type": "stream",
     "text": [
      " 97%|█████████▋| 146/150 [01:48<00:02,  1.41it/s]"
     ]
    },
    {
     "name": "stdout",
     "output_type": "stream",
     "text": [
      "\n",
      "empty predicted answer set for sample #145\n"
     ]
    },
    {
     "name": "stderr",
     "output_type": "stream",
     "text": [
      "\r 98%|█████████▊| 147/150 [01:49<00:02,  1.32it/s]"
     ]
    },
    {
     "name": "stdout",
     "output_type": "stream",
     "text": [
      "\n",
      "empty predicted answer set for sample #146\n"
     ]
    },
    {
     "name": "stderr",
     "output_type": "stream",
     "text": [
      "\r 99%|█████████▊| 148/150 [01:50<00:01,  1.36it/s]"
     ]
    },
    {
     "name": "stdout",
     "output_type": "stream",
     "text": [
      "\n",
      "empty predicted answer set for sample #147\n"
     ]
    },
    {
     "name": "stderr",
     "output_type": "stream",
     "text": [
      "100%|██████████| 150/150 [01:51<00:00,  1.34it/s]"
     ]
    },
    {
     "name": "stdout",
     "output_type": "stream",
     "text": [
      "\n",
      "empty predicted answer set for sample #149\n",
      "\n",
      "acc: 0.3132978837327292\n",
      "rec: 0.32484806484391165\n",
      "pre: 0.3132978837327292\n",
      "f1: 0.30899389778060526\n"
     ]
    },
    {
     "name": "stderr",
     "output_type": "stream",
     "text": [
      "\n"
     ]
    }
   ],
   "source": [
    "import requests\n",
    "import json\n",
    "from SPARQLWrapper import SPARQLWrapper, JSON\n",
    "from copy import deepcopy\n",
    "dbpedia_endpoint = \"http://dbpedia.org/sparql\"\n",
    "\n",
    "def execute_sparql_query(query):\n",
    "    sparql = SPARQLWrapper(dbpedia_endpoint)\n",
    "    sparql.setQuery(query)\n",
    "    sparql.setReturnFormat(JSON)\n",
    "\n",
    "    try:\n",
    "        results = sparql.queryAndConvert()\n",
    "        return results\n",
    "    except Exception as e:\n",
    "        print(f\"\\nerror executing SPARQL query: {e}\")\n",
    "        return None\n",
    "\n",
    "def process_text(txt):\n",
    "    return txt.strip().lower().replace(':','').replace('.','').replace('/','').replace('_','')\n",
    "\n",
    "def eval(gold, pred, boolean=False):\n",
    "    TP, FP, FN = 0, 0, 0\n",
    "    for item in pred:\n",
    "        new_item = process_text(item) if not boolean else item\n",
    "        if new_item in gold:\n",
    "            TP += 1\n",
    "        else:\n",
    "            FP += 1\n",
    "    pred = list(map(lambda x: process_text(x), pred)) if not boolean else pred\n",
    "    for item in gold:\n",
    "        if item not in pred:\n",
    "            FN += 1\n",
    "    acc = TP / len(pred)\n",
    "    recall = TP / (TP + FN)\n",
    "    precision = TP / (TP + FP)\n",
    "    f1 = ((2 * (precision * recall)) / (precision + recall)) if (precision + recall != 0) else 0\n",
    "    rec, pre = recall, precision\n",
    "    return acc, rec, pre, f1\n",
    "\n",
    "queries = []\n",
    "with open('/content/gpt-3.5-turbo_t5-3b-ep-10-t_qald-9-plus_v2.json', 'r') as f:\n",
    "  data = json.load(f)\n",
    "  queries = [d['pred_sparql'] for d in data]\n",
    "  ids = [d['id'] for d in data]\n",
    "  gold_ans = [d['gold_answers'] for d in data]\n",
    "  for j in range(len(gold_ans)):\n",
    "      if len(list(gold_ans[j].keys())) == 0:\n",
    "          ans = []\n",
    "      else:\n",
    "          assert len(list(gold_ans[j].keys())) == 1\n",
    "          gold_ans[j] = deepcopy(next(iter(gold_ans[j].values())))\n",
    "\n",
    "total_acc, total_rec, total_pre, total_f1 = 0, 0, 0, 0\n",
    "for i in trange(len(queries)):\n",
    "    query = queries[i]\n",
    "    pred_answers = {}\n",
    "    results = execute_sparql_query(query)\n",
    "    if (type(gold_ans[i]) != bool and len(gold_ans[i]) == 0) and (not results): # if results == None -> syntax error\n",
    "        print(f'\\nsyntax error for sample #{ids[i]}')\n",
    "        total_acc += 1\n",
    "        total_rec += 1\n",
    "        total_pre += 1\n",
    "        total_f1 += 1\n",
    "        continue\n",
    "    elif type(gold_ans[i]) != bool and (len(gold_ans[i]) > 0) and (not results): # if results == None -> syntax error\n",
    "        print(f'\\nsyntax error for sample #{ids[i]}')\n",
    "        continue\n",
    "    elif type(gold_ans[i]) == bool and (not results):\n",
    "        print(f'\\nsyntax error for sample #{ids[i]}')\n",
    "        continue\n",
    "    if 'boolean' in results.keys():\n",
    "        acc, rec, pre, f1 = eval([gold_ans[i]], [results['boolean']], boolean=True)\n",
    "        total_acc += acc\n",
    "        total_rec += rec\n",
    "        total_pre += pre\n",
    "        total_f1 += f1\n",
    "        continue\n",
    "    else:\n",
    "        for result in results[\"results\"][\"bindings\"]:\n",
    "            for var_name, var_data in result.items():\n",
    "                var_value = var_data[\"value\"]\n",
    "                if var_name in pred_answers.keys():\n",
    "                    pred_answers[var_name].append(var_value)\n",
    "                else:\n",
    "                    pred_answers[var_name] = [var_value]\n",
    "    if (type(gold_ans[i]) != bool) and (len(gold_ans[i]) == 0) and (len(list(pred_answers.keys())) == 0):\n",
    "        total_acc += 1\n",
    "        total_rec += 1\n",
    "        total_pre += 1\n",
    "        total_f1 += 1\n",
    "        continue\n",
    "    elif (type(gold_ans[i]) != bool) and (len(gold_ans[i]) > 0) and (len(list(pred_answers.keys())) == 0):\n",
    "        print(f'\\nempty predicted answer set for sample #{ids[i]}')\n",
    "        continue\n",
    "    elif (type(gold_ans[i]) != bool) and (len(gold_ans[i]) == 0) and (len(list(pred_answers.keys())) > 0):\n",
    "        print(f'\\npredicted answer set was supposed to be empty for sample #{ids[i]}')\n",
    "        continue\n",
    "    elif type(gold_ans[i]) == bool:\n",
    "        print(f'\\nresults are not of type boolean for sample #{ids[i]}')\n",
    "        continue\n",
    "    try:\n",
    "        assert len(list(pred_answers.keys())) == 1\n",
    "    except:\n",
    "        print(f'\\nresults dict has more keys than expected for sample #{ids[i]}')\n",
    "        continue\n",
    "    pred_ans = next(iter(pred_answers.values()))\n",
    "    acc, rec, pre, f1 = eval(list(map(lambda x: process_text(x), gold_ans[i])), pred_ans)\n",
    "    total_acc += acc\n",
    "    total_rec += rec\n",
    "    total_pre += pre\n",
    "    total_f1 += f1\n",
    "    # print(f'\\ninfo for sample #{ids[i]}:')\n",
    "    # print(f'acc = {acc}, rec = {rec}, pre = {pre}, f1 = {f1}')\n",
    "    # print('\\n'.join(gold_ans[i]))\n",
    "    # print('---')\n",
    "    # print('\\n'.join(pred_ans))\n",
    "    # print()\n",
    "print(f'\\nacc: {total_acc / len(queries)}')\n",
    "print(f'rec: {total_rec / len(queries)}')\n",
    "print(f'pre: {total_pre / len(queries)}')\n",
    "print(f'f1: {total_f1 / len(queries)}')"
   ]
  },
  {
   "cell_type": "markdown",
   "metadata": {
    "id": "WXkl7AUPNeHT"
   },
   "source": [
    "#### ChatGPT zero-shot setting w/ 20 triples\n",
    "model_11: gpt-3.5-turbo-tri-20"
   ]
  },
  {
   "cell_type": "code",
   "execution_count": null,
   "metadata": {
    "colab": {
     "base_uri": "https://localhost:8080/",
     "height": 1000
    },
    "id": "pPq6fPDsNkOK",
    "outputId": "9016fd40-69b0-41ba-c4e9-be3cc3357215"
   },
   "outputs": [
    {
     "data": {
      "text/html": [
       "\n",
       "  <style>\n",
       "    pre {\n",
       "        white-space: pre-wrap;\n",
       "    }\n",
       "  </style>\n",
       "  "
      ],
      "text/plain": [
       "<IPython.core.display.HTML object>"
      ]
     },
     "metadata": {},
     "output_type": "display_data"
    },
    {
     "name": "stderr",
     "output_type": "stream",
     "text": [
      "  3%|▎         | 4/150 [00:02<01:41,  1.44it/s]"
     ]
    },
    {
     "name": "stdout",
     "output_type": "stream",
     "text": [
      "\n",
      "empty predicted answer set for sample #3\n"
     ]
    },
    {
     "name": "stderr",
     "output_type": "stream",
     "text": [
      "  6%|▌         | 9/150 [00:07<02:53,  1.23s/it]"
     ]
    },
    {
     "name": "stdout",
     "output_type": "stream",
     "text": [
      "\n",
      "results are not of type boolean for sample #8\n"
     ]
    },
    {
     "name": "stderr",
     "output_type": "stream",
     "text": [
      "\r  7%|▋         | 10/150 [00:08<02:27,  1.06s/it]"
     ]
    },
    {
     "name": "stdout",
     "output_type": "stream",
     "text": [
      "\n",
      "empty predicted answer set for sample #9\n"
     ]
    },
    {
     "name": "stderr",
     "output_type": "stream",
     "text": [
      "\r  7%|▋         | 11/150 [00:09<02:10,  1.06it/s]"
     ]
    },
    {
     "name": "stdout",
     "output_type": "stream",
     "text": [
      "\n",
      "results dict has more keys than expected for sample #10\n"
     ]
    },
    {
     "name": "stderr",
     "output_type": "stream",
     "text": [
      "  9%|▊         | 13/150 [00:10<01:50,  1.24it/s]"
     ]
    },
    {
     "name": "stdout",
     "output_type": "stream",
     "text": [
      "\n",
      "error executing SPARQL query: QueryBadFormed: A bad request has been sent to the endpoint: probably the SPARQL query is badly formed. \n",
      "\n",
      "Response:\n",
      "b'Virtuoso 37000 Error SP031: SPARQL compiler: Variable ?numCaves is used in the result set outside aggregate and not mentioned in GROUP BY clause\\n\\nSPARQL query:\\n#output-format:application/sparql-results+json\\nSELECT DISTINCT ?country WHERE {\\n  ?cave rdf:type dbo:Cave .\\n  ?cave dbo:location ?country .\\n  {\\n    SELECT ?country (COUNT(?cave) AS ?numCaves) WHERE {\\n      ?cave rdf:type dbo:Cave .\\n      ?cave dbo:location ?country .\\n    } GROUP BY ?country HAVING (?numCaves > 2)\\n  }\\n}\\n'\n",
      "\n",
      "syntax error for sample #12\n"
     ]
    },
    {
     "name": "stderr",
     "output_type": "stream",
     "text": [
      " 12%|█▏        | 18/150 [00:14<01:32,  1.43it/s]"
     ]
    },
    {
     "name": "stdout",
     "output_type": "stream",
     "text": [
      "\n",
      "empty predicted answer set for sample #17\n"
     ]
    },
    {
     "name": "stderr",
     "output_type": "stream",
     "text": [
      "\r 13%|█▎        | 19/150 [00:14<01:30,  1.45it/s]"
     ]
    },
    {
     "name": "stdout",
     "output_type": "stream",
     "text": [
      "\n",
      "empty predicted answer set for sample #18\n"
     ]
    },
    {
     "name": "stderr",
     "output_type": "stream",
     "text": [
      " 15%|█▍        | 22/150 [00:17<02:09,  1.01s/it]"
     ]
    },
    {
     "name": "stdout",
     "output_type": "stream",
     "text": [
      "\n",
      "predicted answer set was supposed to be empty for sample #21\n"
     ]
    },
    {
     "name": "stderr",
     "output_type": "stream",
     "text": [
      " 16%|█▌        | 24/150 [00:19<01:45,  1.19it/s]"
     ]
    },
    {
     "name": "stdout",
     "output_type": "stream",
     "text": [
      "\n",
      "empty predicted answer set for sample #23\n"
     ]
    },
    {
     "name": "stderr",
     "output_type": "stream",
     "text": [
      "\r 17%|█▋        | 25/150 [00:19<01:38,  1.27it/s]"
     ]
    },
    {
     "name": "stdout",
     "output_type": "stream",
     "text": [
      "\n",
      "error executing SPARQL query: EndPointInternalError: The endpoint returned the HTTP status code 500. \n",
      "\n",
      "Response:\n",
      "b'Virtuoso 42000 Error SR186:SECURITY: No permission to execute procedure DB.DBA.SPARUL_RUN with user ID 111, group ID 111\\n\\nSPARQL query:\\n#output-format:application/sparql-results+json\\n\\n'\n",
      "\n",
      "syntax error for sample #24\n"
     ]
    },
    {
     "name": "stderr",
     "output_type": "stream",
     "text": [
      " 18%|█▊        | 27/150 [00:21<01:30,  1.37it/s]"
     ]
    },
    {
     "name": "stdout",
     "output_type": "stream",
     "text": [
      "\n",
      "empty predicted answer set for sample #26\n"
     ]
    },
    {
     "name": "stderr",
     "output_type": "stream",
     "text": [
      "\r 19%|█▊        | 28/150 [00:21<01:27,  1.40it/s]"
     ]
    },
    {
     "name": "stdout",
     "output_type": "stream",
     "text": [
      "\n",
      "predicted answer set was supposed to be empty for sample #27\n"
     ]
    },
    {
     "name": "stderr",
     "output_type": "stream",
     "text": [
      " 25%|██▍       | 37/150 [00:27<01:16,  1.48it/s]"
     ]
    },
    {
     "name": "stdout",
     "output_type": "stream",
     "text": [
      "\n",
      "empty predicted answer set for sample #36\n"
     ]
    },
    {
     "name": "stderr",
     "output_type": "stream",
     "text": [
      " 27%|██▋       | 40/150 [01:00<17:52,  9.75s/it]"
     ]
    },
    {
     "name": "stdout",
     "output_type": "stream",
     "text": [
      "\n",
      "predicted answer set was supposed to be empty for sample #39\n"
     ]
    },
    {
     "name": "stderr",
     "output_type": "stream",
     "text": [
      "\r 27%|██▋       | 41/150 [01:01<12:50,  7.07s/it]"
     ]
    },
    {
     "name": "stdout",
     "output_type": "stream",
     "text": [
      "\n",
      "predicted answer set was supposed to be empty for sample #40\n"
     ]
    },
    {
     "name": "stderr",
     "output_type": "stream",
     "text": [
      " 29%|██▉       | 44/150 [01:03<05:04,  2.87s/it]"
     ]
    },
    {
     "name": "stdout",
     "output_type": "stream",
     "text": [
      "\n",
      "predicted answer set was supposed to be empty for sample #43\n"
     ]
    },
    {
     "name": "stderr",
     "output_type": "stream",
     "text": [
      "\r 30%|███       | 45/150 [01:03<03:52,  2.21s/it]"
     ]
    },
    {
     "name": "stdout",
     "output_type": "stream",
     "text": [
      "\n",
      "empty predicted answer set for sample #44\n"
     ]
    },
    {
     "name": "stderr",
     "output_type": "stream",
     "text": [
      " 35%|███▌      | 53/150 [01:09<01:14,  1.30it/s]"
     ]
    },
    {
     "name": "stdout",
     "output_type": "stream",
     "text": [
      "\n",
      "empty predicted answer set for sample #52\n"
     ]
    },
    {
     "name": "stderr",
     "output_type": "stream",
     "text": [
      " 37%|███▋      | 56/150 [01:11<01:06,  1.41it/s]"
     ]
    },
    {
     "name": "stdout",
     "output_type": "stream",
     "text": [
      "\n",
      "results are not of type boolean for sample #55\n"
     ]
    },
    {
     "name": "stderr",
     "output_type": "stream",
     "text": [
      "\r 38%|███▊      | 57/150 [01:11<01:05,  1.43it/s]"
     ]
    },
    {
     "name": "stdout",
     "output_type": "stream",
     "text": [
      "\n",
      "error executing SPARQL query: QueryBadFormed: A bad request has been sent to the endpoint: probably the SPARQL query is badly formed. \n",
      "\n",
      "Response:\n",
      "b\"Virtuoso 37000 Error SP030: SPARQL compiler, line 5: Undefined namespace prefix in prefix:localpart notation at 'dct:subject' before 'dbc:Missions_to_the_Sun'\\n\\nSPARQL query:\\n#output-format:application/sparql-results+json\\nSELECT DISTINCT ?probe\\nWHERE {\\n  ?probe rdf:type dbo:Satellite .\\n  ?probe dct:subject dbc:Missions_to_the_Sun .\\n}\\n\"\n",
      "\n",
      "syntax error for sample #56\n"
     ]
    },
    {
     "name": "stderr",
     "output_type": "stream",
     "text": [
      "\r 39%|███▊      | 58/150 [01:12<01:03,  1.44it/s]"
     ]
    },
    {
     "name": "stdout",
     "output_type": "stream",
     "text": [
      "\n",
      "error executing SPARQL query: EndPointInternalError: The endpoint returned the HTTP status code 500. \n",
      "\n",
      "Response:\n",
      "b'Virtuoso 42000 Error SR186:SECURITY: No permission to execute procedure DB.DBA.SPARUL_RUN with user ID 111, group ID 111\\n\\nSPARQL query:\\n#output-format:application/sparql-results+json\\n\\n'\n",
      "\n",
      "syntax error for sample #57\n"
     ]
    },
    {
     "name": "stderr",
     "output_type": "stream",
     "text": [
      "\r 39%|███▉      | 59/150 [01:13<01:02,  1.45it/s]"
     ]
    },
    {
     "name": "stdout",
     "output_type": "stream",
     "text": [
      "\n",
      "empty predicted answer set for sample #58\n"
     ]
    },
    {
     "name": "stderr",
     "output_type": "stream",
     "text": [
      "\r 40%|████      | 60/150 [01:13<01:01,  1.46it/s]"
     ]
    },
    {
     "name": "stdout",
     "output_type": "stream",
     "text": [
      "\n",
      "error executing SPARQL query: EndPointInternalError: The endpoint returned the HTTP status code 500. \n",
      "\n",
      "Response:\n",
      "b'Virtuoso 42000 Error SR186:SECURITY: No permission to execute procedure DB.DBA.SPARUL_RUN with user ID 111, group ID 111\\n\\nSPARQL query:\\n#output-format:application/sparql-results+json\\n\\n'\n",
      "\n",
      "syntax error for sample #59\n"
     ]
    },
    {
     "name": "stderr",
     "output_type": "stream",
     "text": [
      " 41%|████▏     | 62/150 [01:15<00:59,  1.47it/s]"
     ]
    },
    {
     "name": "stdout",
     "output_type": "stream",
     "text": [
      "\n",
      "error executing SPARQL query: QueryBadFormed: A bad request has been sent to the endpoint: probably the SPARQL query is badly formed. \n",
      "\n",
      "Response:\n",
      "b\"Virtuoso 37000 Error SP030: SPARQL compiler, line 4: Undefined namespace prefix in prefix:localpart notation at 'dct:subject' before '<http://dbpedia.org/resource/Category:James_Bond_films>'\\n\\nSPARQL query:\\n#output-format:application/sparql-results+json\\nSELECT (COUNT(?uri) AS ?count)\\nWHERE {\\n  ?uri dct:subject <http://dbpedia.org/resource/Category:James_Bond_films>.\\n}\\n\"\n",
      "\n",
      "syntax error for sample #61\n"
     ]
    },
    {
     "name": "stderr",
     "output_type": "stream",
     "text": [
      " 43%|████▎     | 64/150 [01:16<00:58,  1.48it/s]"
     ]
    },
    {
     "name": "stdout",
     "output_type": "stream",
     "text": [
      "\n",
      "predicted answer set was supposed to be empty for sample #63\n"
     ]
    },
    {
     "name": "stderr",
     "output_type": "stream",
     "text": [
      " 45%|████▍     | 67/150 [01:18<00:56,  1.48it/s]"
     ]
    },
    {
     "name": "stdout",
     "output_type": "stream",
     "text": [
      "\n",
      "error executing SPARQL query: EndPointInternalError: The endpoint returned the HTTP status code 500. \n",
      "\n",
      "Response:\n",
      "b'Virtuoso 42000 Error SR186:SECURITY: No permission to execute procedure DB.DBA.SPARUL_RUN with user ID 111, group ID 111\\n\\nSPARQL query:\\n#output-format:application/sparql-results+json\\n\\n'\n",
      "\n",
      "syntax error for sample #66\n"
     ]
    },
    {
     "name": "stderr",
     "output_type": "stream",
     "text": [
      "\r 45%|████▌     | 68/150 [01:19<00:55,  1.48it/s]"
     ]
    },
    {
     "name": "stdout",
     "output_type": "stream",
     "text": [
      "\n",
      "error executing SPARQL query: QueryBadFormed: A bad request has been sent to the endpoint: probably the SPARQL query is badly formed. \n",
      "\n",
      "Response:\n",
      "b\"Virtuoso 37000 Error SP030: SPARQL compiler, line 6: Undefined namespace prefix in prefix:localpart notation at 'dct:subject' before 'dbc:Countries_in_Africa'\\n\\nSPARQL query:\\n#output-format:application/sparql-results+json\\nSELECT ?volcano ?elevation\\nWHERE {\\n  ?volcano a <http://dbpedia.org/ontology/Volcano> .\\n  ?volcano <http://dbpedia.org/ontology/locatedInArea> ?area .\\n  ?area dct:subject dbc:Countries_in_Africa .\\n  ?volcano <http://dbpedia.org/ontology/elevation> ?elevation .\\n}\\nORDER BY DESC(?elevation)\\nLIMIT 1\\n\"\n",
      "\n",
      "syntax error for sample #67\n"
     ]
    },
    {
     "name": "stderr",
     "output_type": "stream",
     "text": [
      "\r 46%|████▌     | 69/150 [01:20<00:54,  1.48it/s]"
     ]
    },
    {
     "name": "stdout",
     "output_type": "stream",
     "text": [
      "\n",
      "results dict has more keys than expected for sample #68\n"
     ]
    },
    {
     "name": "stderr",
     "output_type": "stream",
     "text": [
      " 47%|████▋     | 71/150 [01:21<00:53,  1.47it/s]"
     ]
    },
    {
     "name": "stdout",
     "output_type": "stream",
     "text": [
      "\n",
      "error executing SPARQL query: QueryBadFormed: A bad request has been sent to the endpoint: probably the SPARQL query is badly formed. \n",
      "\n",
      "Response:\n",
      "b\"Virtuoso 37000 Error SP030: SPARQL compiler, line 5: Undefined namespace prefix in prefix:localpart notation at 'dct:subject' before 'dbc:Mars_rovers'\\n\\nSPARQL query:\\n#output-format:application/sparql-results+json\\nSELECT ?spacecraft\\nWHERE {\\n  ?spacecraft rdf:type dbo:Satellite .\\n  ?spacecraft dct:subject dbc:Mars_rovers .\\n}\\n\"\n",
      "\n",
      "syntax error for sample #70\n"
     ]
    },
    {
     "name": "stderr",
     "output_type": "stream",
     "text": [
      "\r 48%|████▊     | 72/150 [01:22<00:53,  1.46it/s]"
     ]
    },
    {
     "name": "stdout",
     "output_type": "stream",
     "text": [
      "\n",
      "empty predicted answer set for sample #71\n"
     ]
    },
    {
     "name": "stderr",
     "output_type": "stream",
     "text": [
      " 49%|████▉     | 74/150 [01:23<00:57,  1.33it/s]"
     ]
    },
    {
     "name": "stdout",
     "output_type": "stream",
     "text": [
      "\n",
      "error executing SPARQL query: QueryBadFormed: A bad request has been sent to the endpoint: probably the SPARQL query is badly formed. \n",
      "\n",
      "Response:\n",
      "b\"Virtuoso 37000 Error SP030: SPARQL compiler, line 12: syntax error at '}'\\n\\nSPARQL query:\\n#output-format:application/sparql-results+json\\nSELECT ?x\\nWHERE {\\n  ?x a <http://dbpedia.org/ontology/Volcano> .\\n  ?x <http://dbpedia.org/ontology/locatedInArea> <http://dbpedia.org/resource/Java> .\\n  ?x <http://dbpedia.org/ontology/locatedInArea> <http://dbpedia.org/resource/Russia> .\\n  ?x <http://dbpedia.org/ontology/locatedInArea> <http://dbpedia.org/resource/Chile> .\\n  ?x <http://dbpedia.org/ontology/locatedInArea> <http://dbpedia.org/resource/Hokkaido> .\\n  ?x <http://dbpedia.org/ontology/locatedInArea> <http://dbpedia.org/resource/El_Salvador> .\\n  ?x <http://dbpedia.org/ontology/locatedInArea> <http://dbpedia.org/resource/Japan> .\\n  ?x\\n\"\n",
      "\n",
      "syntax error for sample #73\n"
     ]
    },
    {
     "name": "stderr",
     "output_type": "stream",
     "text": [
      " 51%|█████▏    | 77/150 [01:25<00:51,  1.42it/s]"
     ]
    },
    {
     "name": "stdout",
     "output_type": "stream",
     "text": [
      "\n",
      "empty predicted answer set for sample #76\n"
     ]
    },
    {
     "name": "stderr",
     "output_type": "stream",
     "text": [
      "\r 52%|█████▏    | 78/150 [01:26<00:50,  1.43it/s]"
     ]
    },
    {
     "name": "stdout",
     "output_type": "stream",
     "text": [
      "\n",
      "error executing SPARQL query: EndPointInternalError: The endpoint returned the HTTP status code 500. \n",
      "\n",
      "Response:\n",
      "b'Virtuoso 42000 Error SR186:SECURITY: No permission to execute procedure DB.DBA.SPARUL_RUN with user ID 111, group ID 111\\n\\nSPARQL query:\\n#output-format:application/sparql-results+json\\n\\n'\n",
      "\n",
      "syntax error for sample #77\n"
     ]
    },
    {
     "name": "stderr",
     "output_type": "stream",
     "text": [
      " 55%|█████▌    | 83/150 [01:29<00:45,  1.47it/s]"
     ]
    },
    {
     "name": "stdout",
     "output_type": "stream",
     "text": [
      "\n",
      "predicted answer set was supposed to be empty for sample #82\n"
     ]
    },
    {
     "name": "stderr",
     "output_type": "stream",
     "text": [
      " 57%|█████▋    | 86/150 [01:31<00:43,  1.46it/s]"
     ]
    },
    {
     "name": "stdout",
     "output_type": "stream",
     "text": [
      "\n",
      "results are not of type boolean for sample #85\n"
     ]
    },
    {
     "name": "stderr",
     "output_type": "stream",
     "text": [
      " 60%|██████    | 90/150 [01:35<00:49,  1.20it/s]"
     ]
    },
    {
     "name": "stdout",
     "output_type": "stream",
     "text": [
      "\n",
      "error executing SPARQL query: EndPointInternalError: The endpoint returned the HTTP status code 500. \n",
      "\n",
      "Response:\n",
      "b'Virtuoso 42000 Error SR186:SECURITY: No permission to execute procedure DB.DBA.SPARUL_RUN with user ID 111, group ID 111\\n\\nSPARQL query:\\n#output-format:application/sparql-results+json\\n\\n'\n",
      "\n",
      "syntax error for sample #89\n"
     ]
    },
    {
     "name": "stderr",
     "output_type": "stream",
     "text": [
      " 62%|██████▏   | 93/150 [01:39<00:56,  1.01it/s]"
     ]
    },
    {
     "name": "stdout",
     "output_type": "stream",
     "text": [
      "\n",
      "empty predicted answer set for sample #92\n"
     ]
    },
    {
     "name": "stderr",
     "output_type": "stream",
     "text": [
      " 64%|██████▍   | 96/150 [01:41<00:42,  1.28it/s]"
     ]
    },
    {
     "name": "stdout",
     "output_type": "stream",
     "text": [
      "\n",
      "error executing SPARQL query: EndPointInternalError: The endpoint returned the HTTP status code 500. \n",
      "\n",
      "Response:\n",
      "b'Virtuoso 42000 Error SR186:SECURITY: No permission to execute procedure DB.DBA.SPARUL_RUN with user ID 111, group ID 111\\n\\nSPARQL query:\\n#output-format:application/sparql-results+json\\n\\n'\n",
      "\n",
      "syntax error for sample #95\n"
     ]
    },
    {
     "name": "stderr",
     "output_type": "stream",
     "text": [
      " 67%|██████▋   | 101/150 [01:44<00:34,  1.44it/s]"
     ]
    },
    {
     "name": "stdout",
     "output_type": "stream",
     "text": [
      "\n",
      "error executing SPARQL query: QueryBadFormed: A bad request has been sent to the endpoint: probably the SPARQL query is badly formed. \n",
      "\n",
      "Response:\n",
      "b'Virtuoso 37000 Error SP030: SPARQL compiler, line 21: syntax error at \\'}\\'\\n\\nSPARQL query:\\n#output-format:application/sparql-results+json\\nSELECT DISTINCT ?person\\nWHERE {\\n  {\\n    <http://dbpedia.org/resource/Al_Capone> <http://dbpedia.org/ontology/alias> ?alias .\\n    FILTER (CONTAINS(LCASE(?alias), \"scarface\"))\\n  }\\n  UNION\\n  {\\n    <http://dbpedia.org/resource/Scarface_(rapper)> <http://dbpedia.org/ontology/alias> ?alias .\\n    FILTER (CONTAINS(LCASE(?alias), \"scarface\"))\\n  }\\n  UNION\\n  {\\n    <http://dbpedia.org/resource/%22Scarface%22_John_Williams> <http://dbpedia.org/ontology/alias> ?alias .\\n    FILTER (CONTAINS(LCASE(?alias), \"scarface\"))\\n  }\\n  UNION\\n  {\\n    <http://dbpedia.org/resource/Jos\\xc3\\xa9_Rodrigo_Ar\\xc3\\xa9chiga_Gamboa> <http://dbpedia.org/ontology/alias>\\n'\n",
      "\n",
      "syntax error for sample #100\n"
     ]
    },
    {
     "name": "stderr",
     "output_type": "stream",
     "text": [
      "\r 68%|██████▊   | 102/150 [01:45<00:33,  1.45it/s]"
     ]
    },
    {
     "name": "stdout",
     "output_type": "stream",
     "text": [
      "\n",
      "empty predicted answer set for sample #101\n"
     ]
    },
    {
     "name": "stderr",
     "output_type": "stream",
     "text": [
      " 69%|██████▉   | 104/150 [01:46<00:31,  1.46it/s]"
     ]
    },
    {
     "name": "stdout",
     "output_type": "stream",
     "text": [
      "\n",
      "error executing SPARQL query: QueryBadFormed: A bad request has been sent to the endpoint: probably the SPARQL query is badly formed. \n",
      "\n",
      "Response:\n",
      "b\"Virtuoso 37000 Error SP030: SPARQL compiler, line 17: syntax error at '<' before 'http:'\\n\\nSPARQL query:\\n#output-format:application/sparql-results+json\\nSELECT ?x ?y\\nWHERE {\\n  {\\n    <http://dbpedia.org/resource/Agnes_Keith,_Countess_of_Moray> <http://dbpedia.org/ontology/birthPlace> ?x .\\n    <http://dbpedia.org/resource/Agnes_Keith,_Countess_of_Moray> <http://dbpedia.org/ontology/deathPlace> ?y .\\n    FILTER (?x = ?y)\\n  }\\n  UNION\\n  {\\n    <http://dbpedia.org/resource/Ela_of_Salisbury,_3rd_Countess_of_Salisbury> <http://dbpedia.org/ontology/birthPlace> ?x .\\n    <http://dbpedia.org/resource/Ela_of_Salisbury,_3rd_Countess_of_Salisbury> <http://dbpedia.org/ontology/deathPlace> ?y .\\n    FILTER (?x = ?y)\\n  }\\n  UNION\\n  {\\n    <http://dbpedia\\n\"\n",
      "\n",
      "syntax error for sample #103\n"
     ]
    },
    {
     "name": "stderr",
     "output_type": "stream",
     "text": [
      "\r 70%|███████   | 105/150 [01:47<00:30,  1.47it/s]"
     ]
    },
    {
     "name": "stdout",
     "output_type": "stream",
     "text": [
      "\n",
      "error executing SPARQL query: EndPointInternalError: The endpoint returned the HTTP status code 500. \n",
      "\n",
      "Response:\n",
      "b'Virtuoso 42000 Error SR186:SECURITY: No permission to execute procedure DB.DBA.SPARUL_RUN with user ID 111, group ID 111\\n\\nSPARQL query:\\n#output-format:application/sparql-results+json\\n\\n'\n",
      "\n",
      "syntax error for sample #104\n"
     ]
    },
    {
     "name": "stderr",
     "output_type": "stream",
     "text": [
      " 72%|███████▏  | 108/150 [01:49<00:28,  1.48it/s]"
     ]
    },
    {
     "name": "stdout",
     "output_type": "stream",
     "text": [
      "\n",
      "error executing SPARQL query: EndPointInternalError: The endpoint returned the HTTP status code 500. \n",
      "\n",
      "Response:\n",
      "b'Virtuoso 42000 Error SR186:SECURITY: No permission to execute procedure DB.DBA.SPARUL_RUN with user ID 111, group ID 111\\n\\nSPARQL query:\\n#output-format:application/sparql-results+json\\n\\n'\n",
      "\n",
      "syntax error for sample #107\n"
     ]
    },
    {
     "name": "stderr",
     "output_type": "stream",
     "text": [
      "\r 73%|███████▎  | 109/150 [01:49<00:27,  1.48it/s]"
     ]
    },
    {
     "name": "stdout",
     "output_type": "stream",
     "text": [
      "\n",
      "error executing SPARQL query: EndPointInternalError: The endpoint returned the HTTP status code 500. \n",
      "\n",
      "Response:\n",
      "b'Virtuoso 42000 Error SR186:SECURITY: No permission to execute procedure DB.DBA.SPARUL_RUN with user ID 111, group ID 111\\n\\nSPARQL query:\\n#output-format:application/sparql-results+json\\n\\n'\n",
      "\n",
      "syntax error for sample #108\n"
     ]
    },
    {
     "name": "stderr",
     "output_type": "stream",
     "text": [
      "\r 73%|███████▎  | 110/150 [01:50<00:26,  1.48it/s]"
     ]
    },
    {
     "name": "stdout",
     "output_type": "stream",
     "text": [
      "\n",
      "results dict has more keys than expected for sample #109\n"
     ]
    },
    {
     "name": "stderr",
     "output_type": "stream",
     "text": [
      "\r 74%|███████▍  | 111/150 [01:51<00:26,  1.49it/s]"
     ]
    },
    {
     "name": "stdout",
     "output_type": "stream",
     "text": [
      "\n",
      "error executing SPARQL query: EndPointInternalError: The endpoint returned the HTTP status code 500. \n",
      "\n",
      "Response:\n",
      "b'Virtuoso 42000 Error SR186:SECURITY: No permission to execute procedure DB.DBA.SPARUL_RUN with user ID 111, group ID 111\\n\\nSPARQL query:\\n#output-format:application/sparql-results+json\\n\\n'\n",
      "\n",
      "syntax error for sample #110\n"
     ]
    },
    {
     "name": "stderr",
     "output_type": "stream",
     "text": [
      " 75%|███████▌  | 113/150 [01:52<00:25,  1.48it/s]"
     ]
    },
    {
     "name": "stdout",
     "output_type": "stream",
     "text": [
      "\n",
      "error executing SPARQL query: EndPointInternalError: The endpoint returned the HTTP status code 500. \n",
      "\n",
      "Response:\n",
      "b'Virtuoso 42000 Error SR186:SECURITY: No permission to execute procedure DB.DBA.SPARUL_RUN with user ID 111, group ID 111\\n\\nSPARQL query:\\n#output-format:application/sparql-results+json\\n\\n'\n",
      "\n",
      "syntax error for sample #112\n"
     ]
    },
    {
     "name": "stderr",
     "output_type": "stream",
     "text": [
      " 77%|███████▋  | 115/150 [01:53<00:23,  1.47it/s]"
     ]
    },
    {
     "name": "stdout",
     "output_type": "stream",
     "text": [
      "\n",
      "error executing SPARQL query: EndPointInternalError: The endpoint returned the HTTP status code 500. \n",
      "\n",
      "Response:\n",
      "b'Virtuoso 42000 Error SR186:SECURITY: No permission to execute procedure DB.DBA.SPARUL_RUN with user ID 111, group ID 111\\n\\nSPARQL query:\\n#output-format:application/sparql-results+json\\n\\n'\n",
      "\n",
      "syntax error for sample #114\n"
     ]
    },
    {
     "name": "stderr",
     "output_type": "stream",
     "text": [
      "\r 77%|███████▋  | 116/150 [01:54<00:23,  1.47it/s]"
     ]
    },
    {
     "name": "stdout",
     "output_type": "stream",
     "text": [
      "\n",
      "empty predicted answer set for sample #115\n"
     ]
    },
    {
     "name": "stderr",
     "output_type": "stream",
     "text": [
      " 79%|███████▉  | 119/150 [01:57<00:22,  1.35it/s]"
     ]
    },
    {
     "name": "stdout",
     "output_type": "stream",
     "text": [
      "\n",
      "results are not of type boolean for sample #118\n"
     ]
    },
    {
     "name": "stderr",
     "output_type": "stream",
     "text": [
      " 82%|████████▏ | 123/150 [01:59<00:18,  1.44it/s]"
     ]
    },
    {
     "name": "stdout",
     "output_type": "stream",
     "text": [
      "\n",
      "error executing SPARQL query: EndPointInternalError: The endpoint returned the HTTP status code 500. \n",
      "\n",
      "Response:\n",
      "b'Virtuoso 42000 Error SR186:SECURITY: No permission to execute procedure DB.DBA.SPARUL_RUN with user ID 111, group ID 111\\n\\nSPARQL query:\\n#output-format:application/sparql-results+json\\n\\n'\n",
      "\n",
      "syntax error for sample #122\n"
     ]
    },
    {
     "name": "stderr",
     "output_type": "stream",
     "text": [
      " 87%|████████▋ | 130/150 [02:04<00:13,  1.48it/s]"
     ]
    },
    {
     "name": "stdout",
     "output_type": "stream",
     "text": [
      "\n",
      "error executing SPARQL query: EndPointInternalError: The endpoint returned the HTTP status code 500. \n",
      "\n",
      "Response:\n",
      "b'Virtuoso 42000 Error SR186:SECURITY: No permission to execute procedure DB.DBA.SPARUL_RUN with user ID 111, group ID 111\\n\\nSPARQL query:\\n#output-format:application/sparql-results+json\\n\\n'\n",
      "\n",
      "syntax error for sample #129\n"
     ]
    },
    {
     "name": "stderr",
     "output_type": "stream",
     "text": [
      " 89%|████████▊ | 133/150 [02:06<00:11,  1.47it/s]"
     ]
    },
    {
     "name": "stdout",
     "output_type": "stream",
     "text": [
      "\n",
      "error executing SPARQL query: EndPointInternalError: The endpoint returned the HTTP status code 500. \n",
      "\n",
      "Response:\n",
      "b'Virtuoso 42000 Error SR186:SECURITY: No permission to execute procedure DB.DBA.SPARUL_RUN with user ID 111, group ID 111\\n\\nSPARQL query:\\n#output-format:application/sparql-results+json\\n\\n'\n",
      "\n",
      "syntax error for sample #132\n"
     ]
    },
    {
     "name": "stderr",
     "output_type": "stream",
     "text": [
      " 90%|█████████ | 135/150 [02:08<00:11,  1.36it/s]"
     ]
    },
    {
     "name": "stdout",
     "output_type": "stream",
     "text": [
      "\n",
      "empty predicted answer set for sample #134\n"
     ]
    },
    {
     "name": "stderr",
     "output_type": "stream",
     "text": [
      " 92%|█████████▏| 138/150 [02:10<00:08,  1.43it/s]"
     ]
    },
    {
     "name": "stdout",
     "output_type": "stream",
     "text": [
      "\n",
      "empty predicted answer set for sample #137\n"
     ]
    },
    {
     "name": "stderr",
     "output_type": "stream",
     "text": [
      "\r 93%|█████████▎| 139/150 [02:10<00:07,  1.44it/s]"
     ]
    },
    {
     "name": "stdout",
     "output_type": "stream",
     "text": [
      "\n",
      "empty predicted answer set for sample #138\n"
     ]
    },
    {
     "name": "stderr",
     "output_type": "stream",
     "text": [
      "\r 93%|█████████▎| 140/150 [02:11<00:06,  1.45it/s]"
     ]
    },
    {
     "name": "stdout",
     "output_type": "stream",
     "text": [
      "\n",
      "error executing SPARQL query: EndPointInternalError: The endpoint returned the HTTP status code 500. \n",
      "\n",
      "Response:\n",
      "b'Virtuoso 42000 Error SR186:SECURITY: No permission to execute procedure DB.DBA.SPARUL_RUN with user ID 111, group ID 111\\n\\nSPARQL query:\\n#output-format:application/sparql-results+json\\n\\n'\n",
      "\n",
      "syntax error for sample #139\n"
     ]
    },
    {
     "name": "stderr",
     "output_type": "stream",
     "text": [
      "\r 94%|█████████▍| 141/150 [02:12<00:06,  1.46it/s]"
     ]
    },
    {
     "name": "stdout",
     "output_type": "stream",
     "text": [
      "\n",
      "results dict has more keys than expected for sample #140\n"
     ]
    },
    {
     "name": "stderr",
     "output_type": "stream",
     "text": [
      " 95%|█████████▌| 143/150 [02:13<00:04,  1.47it/s]"
     ]
    },
    {
     "name": "stdout",
     "output_type": "stream",
     "text": [
      "\n",
      "results dict has more keys than expected for sample #142\n"
     ]
    },
    {
     "name": "stderr",
     "output_type": "stream",
     "text": [
      "\r 96%|█████████▌| 144/150 [02:14<00:04,  1.47it/s]"
     ]
    },
    {
     "name": "stdout",
     "output_type": "stream",
     "text": [
      "\n",
      "empty predicted answer set for sample #143\n"
     ]
    },
    {
     "name": "stderr",
     "output_type": "stream",
     "text": [
      " 97%|█████████▋| 146/150 [02:15<00:02,  1.47it/s]"
     ]
    },
    {
     "name": "stdout",
     "output_type": "stream",
     "text": [
      "\n",
      "error executing SPARQL query: QueryBadFormed: A bad request has been sent to the endpoint: probably the SPARQL query is badly formed. \n",
      "\n",
      "Response:\n",
      "b\"Virtuoso 37000 Error SP030: SPARQL compiler, line 5: syntax error at '}' before '}'\\n\\nSPARQL query:\\n#output-format:application/sparql-results+json\\nSELECT ?trail\\nWHERE {\\n  ?trail <http://dbpedia.org/property/hazards> ?hazard .\\n  FILTER NOT EXISTS { ?hazard <http://dbpedia.org/resource/Flash_flood> }\\n}\\n\"\n",
      "\n",
      "syntax error for sample #145\n"
     ]
    },
    {
     "name": "stderr",
     "output_type": "stream",
     "text": [
      "100%|██████████| 150/150 [02:18<00:00,  1.08it/s]"
     ]
    },
    {
     "name": "stdout",
     "output_type": "stream",
     "text": [
      "\n",
      "error executing SPARQL query: QueryBadFormed: A bad request has been sent to the endpoint: probably the SPARQL query is badly formed. \n",
      "\n",
      "Response:\n",
      "b'Virtuoso 37000 Error SP030: SPARQL compiler, line 4: Undefined namespace prefix in prefix:localpart notation at \\'dct:subject\\' before \\'dbc:Christopher_Columbus\\'\\n\\nSPARQL query:\\n#output-format:application/sparql-results+json\\nSELECT ?shipName WHERE {\\n  ?ship rdf:type dbo:Ship .\\n  ?ship dct:subject dbc:Christopher_Columbus .\\n  ?ship rdfs:label ?shipName .\\n  FILTER(lang(?shipName) = \"en\")\\n} LIMIT 3\\n'\n",
      "\n",
      "syntax error for sample #149\n",
      "\n",
      "acc: 0.45418197751443473\n",
      "rec: 0.46735068118741635\n",
      "pre: 0.45418197751443473\n",
      "f1: 0.45419785472070384\n"
     ]
    },
    {
     "name": "stderr",
     "output_type": "stream",
     "text": [
      "\n"
     ]
    }
   ],
   "source": [
    "import requests\n",
    "import json\n",
    "from SPARQLWrapper import SPARQLWrapper, JSON\n",
    "from copy import deepcopy\n",
    "dbpedia_endpoint = \"http://dbpedia.org/sparql\"\n",
    "\n",
    "def execute_sparql_query(query):\n",
    "    sparql = SPARQLWrapper(dbpedia_endpoint)\n",
    "    sparql.setQuery(query)\n",
    "    sparql.setReturnFormat(JSON)\n",
    "\n",
    "    try:\n",
    "        results = sparql.queryAndConvert()\n",
    "        return results\n",
    "    except Exception as e:\n",
    "        print(f\"\\nerror executing SPARQL query: {e}\")\n",
    "        return None\n",
    "\n",
    "def process_text(txt):\n",
    "    return txt.strip().lower().replace(':','').replace('.','').replace('/','').replace('_','')\n",
    "\n",
    "def eval(gold, pred, boolean=False):\n",
    "    TP, FP, FN = 0, 0, 0\n",
    "    for item in pred:\n",
    "        new_item = process_text(item) if not boolean else item\n",
    "        if new_item in gold:\n",
    "            TP += 1\n",
    "        else:\n",
    "            FP += 1\n",
    "    pred = list(map(lambda x: process_text(x), pred)) if not boolean else pred\n",
    "    for item in gold:\n",
    "        if item not in pred:\n",
    "            FN += 1\n",
    "    acc = TP / len(pred)\n",
    "    recall = TP / (TP + FN)\n",
    "    precision = TP / (TP + FP)\n",
    "    f1 = ((2 * (precision * recall)) / (precision + recall)) if (precision + recall != 0) else 0\n",
    "    rec, pre = recall, precision\n",
    "    return acc, rec, pre, f1\n",
    "\n",
    "queries = []\n",
    "with open('/content/gpt-3.5-turbo-tri-20_qald-9-plus.json', 'r') as f:\n",
    "  data = json.load(f)\n",
    "  queries = [d['pred_sparql'] for d in data]\n",
    "  ids = [d['id'] for d in data]\n",
    "  gold_ans = [d['gold_answers'] for d in data]\n",
    "  for j in range(len(gold_ans)):\n",
    "      if len(list(gold_ans[j].keys())) == 0:\n",
    "          ans = []\n",
    "      else:\n",
    "          assert len(list(gold_ans[j].keys())) == 1\n",
    "          gold_ans[j] = deepcopy(next(iter(gold_ans[j].values())))\n",
    "\n",
    "total_acc, total_rec, total_pre, total_f1 = 0, 0, 0, 0\n",
    "for i in trange(len(queries)):\n",
    "    query = queries[i]\n",
    "    pred_answers = {}\n",
    "    results = execute_sparql_query(query)\n",
    "    if (type(gold_ans[i]) != bool and len(gold_ans[i]) == 0) and (not results): # if results == None -> syntax error\n",
    "        print(f'\\nsyntax error for sample #{ids[i]}')\n",
    "        total_acc += 1\n",
    "        total_rec += 1\n",
    "        total_pre += 1\n",
    "        total_f1 += 1\n",
    "        continue\n",
    "    elif type(gold_ans[i]) != bool and (len(gold_ans[i]) > 0) and (not results): # if results == None -> syntax error\n",
    "        print(f'\\nsyntax error for sample #{ids[i]}')\n",
    "        continue\n",
    "    elif type(gold_ans[i]) == bool and (not results):\n",
    "        print(f'\\nsyntax error for sample #{ids[i]}')\n",
    "        continue\n",
    "    if 'boolean' in results.keys():\n",
    "        acc, rec, pre, f1 = eval([gold_ans[i]], [results['boolean']], boolean=True)\n",
    "        total_acc += acc\n",
    "        total_rec += rec\n",
    "        total_pre += pre\n",
    "        total_f1 += f1\n",
    "        continue\n",
    "    else:\n",
    "        for result in results[\"results\"][\"bindings\"]:\n",
    "            for var_name, var_data in result.items():\n",
    "                var_value = var_data[\"value\"]\n",
    "                if var_name in pred_answers.keys():\n",
    "                    pred_answers[var_name].append(var_value)\n",
    "                else:\n",
    "                    pred_answers[var_name] = [var_value]\n",
    "    if (type(gold_ans[i]) != bool) and (len(gold_ans[i]) == 0) and (len(list(pred_answers.keys())) == 0):\n",
    "        total_acc += 1\n",
    "        total_rec += 1\n",
    "        total_pre += 1\n",
    "        total_f1 += 1\n",
    "        continue\n",
    "    elif (type(gold_ans[i]) != bool) and (len(gold_ans[i]) > 0) and (len(list(pred_answers.keys())) == 0):\n",
    "        print(f'\\nempty predicted answer set for sample #{ids[i]}')\n",
    "        continue\n",
    "    elif (type(gold_ans[i]) != bool) and (len(gold_ans[i]) == 0) and (len(list(pred_answers.keys())) > 0):\n",
    "        print(f'\\npredicted answer set was supposed to be empty for sample #{ids[i]}')\n",
    "        continue\n",
    "    elif type(gold_ans[i]) == bool:\n",
    "        print(f'\\nresults are not of type boolean for sample #{ids[i]}')\n",
    "        continue\n",
    "    try:\n",
    "        assert len(list(pred_answers.keys())) == 1\n",
    "    except:\n",
    "        print(f'\\nresults dict has more keys than expected for sample #{ids[i]}')\n",
    "        continue\n",
    "    pred_ans = next(iter(pred_answers.values()))\n",
    "    acc, rec, pre, f1 = eval(list(map(lambda x: process_text(x), gold_ans[i])), pred_ans)\n",
    "    total_acc += acc\n",
    "    total_rec += rec\n",
    "    total_pre += pre\n",
    "    total_f1 += f1\n",
    "    # print(f'\\ninfo for sample #{ids[i]}:')\n",
    "    # print(f'acc = {acc}, rec = {rec}, pre = {pre}, f1 = {f1}')\n",
    "    # print('\\n'.join(gold_ans[i]))\n",
    "    # print('---')\n",
    "    # print('\\n'.join(pred_ans))\n",
    "    # print()\n",
    "print(f'\\nacc: {total_acc / len(queries)}')\n",
    "print(f'rec: {total_rec / len(queries)}')\n",
    "print(f'pre: {total_pre / len(queries)}')\n",
    "print(f'f1: {total_f1 / len(queries)}')"
   ]
  },
  {
   "cell_type": "markdown",
   "metadata": {
    "id": "k4oIZcb0Ylaf"
   },
   "source": [
    "#### ChatGPT zero-shot setting w/ 5 triples\n",
    "model_12: gpt-3.5-turbo-tri-5"
   ]
  },
  {
   "cell_type": "code",
   "execution_count": null,
   "metadata": {
    "colab": {
     "base_uri": "https://localhost:8080/",
     "height": 1000
    },
    "id": "1lMuouAZYvi2",
    "outputId": "83923a74-0399-4323-ca79-6c0deb78c1d0"
   },
   "outputs": [
    {
     "data": {
      "text/html": [
       "\n",
       "  <style>\n",
       "    pre {\n",
       "        white-space: pre-wrap;\n",
       "    }\n",
       "  </style>\n",
       "  "
      ],
      "text/plain": [
       "<IPython.core.display.HTML object>"
      ]
     },
     "metadata": {},
     "output_type": "display_data"
    },
    {
     "name": "stderr",
     "output_type": "stream",
     "text": [
      "  3%|▎         | 4/150 [00:02<01:44,  1.39it/s]"
     ]
    },
    {
     "name": "stdout",
     "output_type": "stream",
     "text": [
      "\n",
      "empty predicted answer set for sample #3\n"
     ]
    },
    {
     "name": "stderr",
     "output_type": "stream",
     "text": [
      "  6%|▌         | 9/150 [00:06<01:35,  1.47it/s]"
     ]
    },
    {
     "name": "stdout",
     "output_type": "stream",
     "text": [
      "\n",
      "error executing SPARQL query: EndPointInternalError: The endpoint returned the HTTP status code 500. \n",
      "\n",
      "Response:\n",
      "b'Virtuoso 42000 Error SR186:SECURITY: No permission to execute procedure DB.DBA.SPARUL_RUN with user ID 111, group ID 111\\n\\nSPARQL query:\\n#output-format:application/sparql-results+json\\n\\n'\n",
      "\n",
      "syntax error for sample #8\n"
     ]
    },
    {
     "name": "stderr",
     "output_type": "stream",
     "text": [
      "\r  7%|▋         | 10/150 [00:07<01:35,  1.47it/s]"
     ]
    },
    {
     "name": "stdout",
     "output_type": "stream",
     "text": [
      "\n",
      "empty predicted answer set for sample #9\n"
     ]
    },
    {
     "name": "stderr",
     "output_type": "stream",
     "text": [
      "\r  7%|▋         | 11/150 [00:07<01:34,  1.47it/s]"
     ]
    },
    {
     "name": "stdout",
     "output_type": "stream",
     "text": [
      "\n",
      "results dict has more keys than expected for sample #10\n"
     ]
    },
    {
     "name": "stderr",
     "output_type": "stream",
     "text": [
      "  9%|▊         | 13/150 [00:09<01:33,  1.47it/s]"
     ]
    },
    {
     "name": "stdout",
     "output_type": "stream",
     "text": [
      "\n",
      "error executing SPARQL query: QueryBadFormed: A bad request has been sent to the endpoint: probably the SPARQL query is badly formed. \n",
      "\n",
      "Response:\n",
      "b'Virtuoso 37000 Error SP031: SPARQL compiler: Variable ?count is used in the result set outside aggregate and not mentioned in GROUP BY clause\\n\\nSPARQL query:\\n#output-format:application/sparql-results+json\\nSELECT DISTINCT ?country WHERE {\\n  ?cave rdf:type dbo:Cave .\\n  ?cave dbo:location ?country .\\n  {\\n    SELECT ?country (COUNT(?cave) AS ?count) WHERE {\\n      ?cave rdf:type dbo:Cave .\\n      ?cave dbo:location ?country .\\n    } GROUP BY ?country HAVING (?count > 2)\\n  }\\n}\\n'\n",
      "\n",
      "syntax error for sample #12\n"
     ]
    },
    {
     "name": "stderr",
     "output_type": "stream",
     "text": [
      " 12%|█▏        | 18/150 [00:12<01:29,  1.47it/s]"
     ]
    },
    {
     "name": "stdout",
     "output_type": "stream",
     "text": [
      "\n",
      "empty predicted answer set for sample #17\n"
     ]
    },
    {
     "name": "stderr",
     "output_type": "stream",
     "text": [
      "\r 13%|█▎        | 19/150 [00:13<01:28,  1.48it/s]"
     ]
    },
    {
     "name": "stdout",
     "output_type": "stream",
     "text": [
      "\n",
      "empty predicted answer set for sample #18\n"
     ]
    },
    {
     "name": "stderr",
     "output_type": "stream",
     "text": [
      " 15%|█▍        | 22/150 [00:16<02:03,  1.04it/s]"
     ]
    },
    {
     "name": "stdout",
     "output_type": "stream",
     "text": [
      "\n",
      "predicted answer set was supposed to be empty for sample #21\n"
     ]
    },
    {
     "name": "stderr",
     "output_type": "stream",
     "text": [
      " 16%|█▌        | 24/150 [00:17<01:43,  1.22it/s]"
     ]
    },
    {
     "name": "stdout",
     "output_type": "stream",
     "text": [
      "\n",
      "empty predicted answer set for sample #23\n"
     ]
    },
    {
     "name": "stderr",
     "output_type": "stream",
     "text": [
      "\r 17%|█▋        | 25/150 [00:18<01:37,  1.29it/s]"
     ]
    },
    {
     "name": "stdout",
     "output_type": "stream",
     "text": [
      "\n",
      "error executing SPARQL query: EndPointInternalError: The endpoint returned the HTTP status code 500. \n",
      "\n",
      "Response:\n",
      "b'Virtuoso 42000 Error SR186:SECURITY: No permission to execute procedure DB.DBA.SPARUL_RUN with user ID 111, group ID 111\\n\\nSPARQL query:\\n#output-format:application/sparql-results+json\\n\\n'\n",
      "\n",
      "syntax error for sample #24\n"
     ]
    },
    {
     "name": "stderr",
     "output_type": "stream",
     "text": [
      " 18%|█▊        | 27/150 [00:19<01:29,  1.38it/s]"
     ]
    },
    {
     "name": "stdout",
     "output_type": "stream",
     "text": [
      "\n",
      "empty predicted answer set for sample #26\n"
     ]
    },
    {
     "name": "stderr",
     "output_type": "stream",
     "text": [
      "\r 19%|█▊        | 28/150 [00:20<01:26,  1.41it/s]"
     ]
    },
    {
     "name": "stdout",
     "output_type": "stream",
     "text": [
      "\n",
      "predicted answer set was supposed to be empty for sample #27\n"
     ]
    },
    {
     "name": "stderr",
     "output_type": "stream",
     "text": [
      " 25%|██▍       | 37/150 [00:26<01:17,  1.47it/s]"
     ]
    },
    {
     "name": "stdout",
     "output_type": "stream",
     "text": [
      "\n",
      "empty predicted answer set for sample #36\n"
     ]
    },
    {
     "name": "stderr",
     "output_type": "stream",
     "text": [
      " 27%|██▋       | 40/150 [00:59<18:12,  9.93s/it]"
     ]
    },
    {
     "name": "stdout",
     "output_type": "stream",
     "text": [
      "\n",
      "predicted answer set was supposed to be empty for sample #39\n"
     ]
    },
    {
     "name": "stderr",
     "output_type": "stream",
     "text": [
      "\r 27%|██▋       | 41/150 [00:59<13:01,  7.17s/it]"
     ]
    },
    {
     "name": "stdout",
     "output_type": "stream",
     "text": [
      "\n",
      "predicted answer set was supposed to be empty for sample #40\n"
     ]
    },
    {
     "name": "stderr",
     "output_type": "stream",
     "text": [
      " 29%|██▉       | 44/150 [01:01<05:07,  2.90s/it]"
     ]
    },
    {
     "name": "stdout",
     "output_type": "stream",
     "text": [
      "\n",
      "predicted answer set was supposed to be empty for sample #43\n"
     ]
    },
    {
     "name": "stderr",
     "output_type": "stream",
     "text": [
      " 35%|███▌      | 53/150 [01:08<01:13,  1.31it/s]"
     ]
    },
    {
     "name": "stdout",
     "output_type": "stream",
     "text": [
      "\n",
      "empty predicted answer set for sample #52\n"
     ]
    },
    {
     "name": "stderr",
     "output_type": "stream",
     "text": [
      " 37%|███▋      | 56/150 [01:10<01:06,  1.41it/s]"
     ]
    },
    {
     "name": "stdout",
     "output_type": "stream",
     "text": [
      "\n",
      "results are not of type boolean for sample #55\n"
     ]
    },
    {
     "name": "stderr",
     "output_type": "stream",
     "text": [
      "\r 38%|███▊      | 57/150 [01:11<01:21,  1.14it/s]"
     ]
    },
    {
     "name": "stdout",
     "output_type": "stream",
     "text": [
      "\n",
      "error executing SPARQL query: QueryBadFormed: A bad request has been sent to the endpoint: probably the SPARQL query is badly formed. \n",
      "\n",
      "Response:\n",
      "b\"Virtuoso 37000 Error SP030: SPARQL compiler, line 5: Undefined namespace prefix in prefix:localpart notation at 'dct:subject' before 'dbc:Missions_to_the_Sun'\\n\\nSPARQL query:\\n#output-format:application/sparql-results+json\\nSELECT DISTINCT ?probe\\nWHERE {\\n  ?probe rdf:type dbo:Satellite .\\n  ?probe dct:subject dbc:Missions_to_the_Sun .\\n}\\n\"\n",
      "\n",
      "syntax error for sample #56\n"
     ]
    },
    {
     "name": "stderr",
     "output_type": "stream",
     "text": [
      "\r 39%|███▊      | 58/150 [01:12<01:15,  1.22it/s]"
     ]
    },
    {
     "name": "stdout",
     "output_type": "stream",
     "text": [
      "\n",
      "error executing SPARQL query: EndPointInternalError: The endpoint returned the HTTP status code 500. \n",
      "\n",
      "Response:\n",
      "b'Virtuoso 42000 Error SR186:SECURITY: No permission to execute procedure DB.DBA.SPARUL_RUN with user ID 111, group ID 111\\n\\nSPARQL query:\\n#output-format:application/sparql-results+json\\n\\n'\n",
      "\n",
      "syntax error for sample #57\n"
     ]
    },
    {
     "name": "stderr",
     "output_type": "stream",
     "text": [
      "\r 39%|███▉      | 59/150 [01:12<01:10,  1.29it/s]"
     ]
    },
    {
     "name": "stdout",
     "output_type": "stream",
     "text": [
      "\n",
      "empty predicted answer set for sample #58\n"
     ]
    },
    {
     "name": "stderr",
     "output_type": "stream",
     "text": [
      "\r 40%|████      | 60/150 [01:13<01:07,  1.34it/s]"
     ]
    },
    {
     "name": "stdout",
     "output_type": "stream",
     "text": [
      "\n",
      "error executing SPARQL query: EndPointInternalError: The endpoint returned the HTTP status code 500. \n",
      "\n",
      "Response:\n",
      "b'Virtuoso 42000 Error SR186:SECURITY: No permission to execute procedure DB.DBA.SPARUL_RUN with user ID 111, group ID 111\\n\\nSPARQL query:\\n#output-format:application/sparql-results+json\\n\\n'\n",
      "\n",
      "syntax error for sample #59\n"
     ]
    },
    {
     "name": "stderr",
     "output_type": "stream",
     "text": [
      " 41%|████▏     | 62/150 [01:14<01:02,  1.41it/s]"
     ]
    },
    {
     "name": "stdout",
     "output_type": "stream",
     "text": [
      "\n",
      "error executing SPARQL query: QueryBadFormed: A bad request has been sent to the endpoint: probably the SPARQL query is badly formed. \n",
      "\n",
      "Response:\n",
      "b\"Virtuoso 37000 Error SP030: SPARQL compiler, line 4: Undefined namespace prefix in prefix:localpart notation at 'dct:subject' before '<http://dbpedia.org/resource/Category:James_Bond_films>'\\n\\nSPARQL query:\\n#output-format:application/sparql-results+json\\nSELECT (COUNT(?uri) AS ?count)\\nWHERE {\\n  ?uri dct:subject <http://dbpedia.org/resource/Category:James_Bond_films>.\\n}\\n\"\n",
      "\n",
      "syntax error for sample #61\n"
     ]
    },
    {
     "name": "stderr",
     "output_type": "stream",
     "text": [
      " 43%|████▎     | 64/150 [01:16<00:59,  1.44it/s]"
     ]
    },
    {
     "name": "stdout",
     "output_type": "stream",
     "text": [
      "\n",
      "predicted answer set was supposed to be empty for sample #63\n"
     ]
    },
    {
     "name": "stderr",
     "output_type": "stream",
     "text": [
      " 45%|████▍     | 67/150 [01:18<00:56,  1.47it/s]"
     ]
    },
    {
     "name": "stdout",
     "output_type": "stream",
     "text": [
      "\n",
      "error executing SPARQL query: EndPointInternalError: The endpoint returned the HTTP status code 500. \n",
      "\n",
      "Response:\n",
      "b'Virtuoso 42000 Error SR186:SECURITY: No permission to execute procedure DB.DBA.SPARUL_RUN with user ID 111, group ID 111\\n\\nSPARQL query:\\n#output-format:application/sparql-results+json\\n\\n'\n",
      "\n",
      "syntax error for sample #66\n"
     ]
    },
    {
     "name": "stderr",
     "output_type": "stream",
     "text": [
      "\r 45%|████▌     | 68/150 [01:18<00:58,  1.41it/s]"
     ]
    },
    {
     "name": "stdout",
     "output_type": "stream",
     "text": [
      "\n",
      "error executing SPARQL query: QueryBadFormed: A bad request has been sent to the endpoint: probably the SPARQL query is badly formed. \n",
      "\n",
      "Response:\n",
      "b\"Virtuoso 37000 Error SP030: SPARQL compiler, line 6: Undefined namespace prefix in prefix:localpart notation at 'dct:subject' before 'dbc:Countries_in_Africa'\\n\\nSPARQL query:\\n#output-format:application/sparql-results+json\\nSELECT ?volcano ?elevation\\nWHERE {\\n  ?volcano a <http://dbpedia.org/ontology/Volcano> .\\n  ?volcano <http://dbpedia.org/ontology/locatedInArea> ?area .\\n  ?area dct:subject dbc:Countries_in_Africa .\\n  ?volcano <http://dbpedia.org/ontology/elevation> ?elevation .\\n}\\nORDER BY DESC(?elevation)\\nLIMIT 1\\n\"\n",
      "\n",
      "syntax error for sample #67\n"
     ]
    },
    {
     "name": "stderr",
     "output_type": "stream",
     "text": [
      "\r 46%|████▌     | 69/150 [01:19<00:56,  1.43it/s]"
     ]
    },
    {
     "name": "stdout",
     "output_type": "stream",
     "text": [
      "\n",
      "results dict has more keys than expected for sample #68\n"
     ]
    },
    {
     "name": "stderr",
     "output_type": "stream",
     "text": [
      " 47%|████▋     | 71/150 [01:20<00:54,  1.45it/s]"
     ]
    },
    {
     "name": "stdout",
     "output_type": "stream",
     "text": [
      "\n",
      "error executing SPARQL query: QueryBadFormed: A bad request has been sent to the endpoint: probably the SPARQL query is badly formed. \n",
      "\n",
      "Response:\n",
      "b\"Virtuoso 37000 Error SP030: SPARQL compiler, line 5: Undefined namespace prefix in prefix:localpart notation at 'dbpedia:MELOS' before ','\\n\\nSPARQL query:\\n#output-format:application/sparql-results+json\\nSELECT ?spacecraft\\nWHERE {\\n  ?spacecraft rdf:type dbo:Satellite .\\n  FILTER (?spacecraft IN (dbpedia:MELOS, dbpedia:Curiosity_(rover), dbpedia:Mars_2, dbpedia:Mars_3))\\n}\\n\"\n",
      "\n",
      "syntax error for sample #70\n"
     ]
    },
    {
     "name": "stderr",
     "output_type": "stream",
     "text": [
      "\r 48%|████▊     | 72/150 [01:21<00:53,  1.46it/s]"
     ]
    },
    {
     "name": "stdout",
     "output_type": "stream",
     "text": [
      "\n",
      "empty predicted answer set for sample #71\n"
     ]
    },
    {
     "name": "stderr",
     "output_type": "stream",
     "text": [
      " 49%|████▉     | 74/150 [01:23<00:57,  1.32it/s]"
     ]
    },
    {
     "name": "stdout",
     "output_type": "stream",
     "text": [
      "\n",
      "results dict has more keys than expected for sample #73\n"
     ]
    },
    {
     "name": "stderr",
     "output_type": "stream",
     "text": [
      " 51%|█████▏    | 77/150 [01:25<00:51,  1.42it/s]"
     ]
    },
    {
     "name": "stdout",
     "output_type": "stream",
     "text": [
      "\n",
      "empty predicted answer set for sample #76\n"
     ]
    },
    {
     "name": "stderr",
     "output_type": "stream",
     "text": [
      "\r 52%|█████▏    | 78/150 [01:25<00:50,  1.44it/s]"
     ]
    },
    {
     "name": "stdout",
     "output_type": "stream",
     "text": [
      "\n",
      "empty predicted answer set for sample #77\n"
     ]
    },
    {
     "name": "stderr",
     "output_type": "stream",
     "text": [
      " 55%|█████▌    | 83/150 [01:29<00:48,  1.39it/s]"
     ]
    },
    {
     "name": "stdout",
     "output_type": "stream",
     "text": [
      "\n",
      "predicted answer set was supposed to be empty for sample #82\n"
     ]
    },
    {
     "name": "stderr",
     "output_type": "stream",
     "text": [
      " 57%|█████▋    | 86/150 [01:31<00:44,  1.44it/s]"
     ]
    },
    {
     "name": "stdout",
     "output_type": "stream",
     "text": [
      "\n",
      "results are not of type boolean for sample #85\n"
     ]
    },
    {
     "name": "stderr",
     "output_type": "stream",
     "text": [
      " 60%|██████    | 90/150 [01:34<00:43,  1.39it/s]"
     ]
    },
    {
     "name": "stdout",
     "output_type": "stream",
     "text": [
      "\n",
      "error executing SPARQL query: EndPointInternalError: The endpoint returned the HTTP status code 500. \n",
      "\n",
      "Response:\n",
      "b'Virtuoso 42000 Error SR186:SECURITY: No permission to execute procedure DB.DBA.SPARUL_RUN with user ID 111, group ID 111\\n\\nSPARQL query:\\n#output-format:application/sparql-results+json\\n\\n'\n",
      "\n",
      "syntax error for sample #89\n"
     ]
    },
    {
     "name": "stderr",
     "output_type": "stream",
     "text": [
      " 62%|██████▏   | 93/150 [01:38<00:55,  1.03it/s]"
     ]
    },
    {
     "name": "stdout",
     "output_type": "stream",
     "text": [
      "\n",
      "empty predicted answer set for sample #92\n"
     ]
    },
    {
     "name": "stderr",
     "output_type": "stream",
     "text": [
      " 64%|██████▍   | 96/150 [01:40<00:42,  1.26it/s]"
     ]
    },
    {
     "name": "stdout",
     "output_type": "stream",
     "text": [
      "\n",
      "error executing SPARQL query: EndPointInternalError: The endpoint returned the HTTP status code 500. \n",
      "\n",
      "Response:\n",
      "b'Virtuoso 42000 Error SR186:SECURITY: No permission to execute procedure DB.DBA.SPARUL_RUN with user ID 111, group ID 111\\n\\nSPARQL query:\\n#output-format:application/sparql-results+json\\n\\n'\n",
      "\n",
      "syntax error for sample #95\n"
     ]
    },
    {
     "name": "stderr",
     "output_type": "stream",
     "text": [
      " 67%|██████▋   | 101/150 [01:43<00:34,  1.43it/s]"
     ]
    },
    {
     "name": "stdout",
     "output_type": "stream",
     "text": [
      "\n",
      "error executing SPARQL query: QueryBadFormed: A bad request has been sent to the endpoint: probably the SPARQL query is badly formed. \n",
      "\n",
      "Response:\n",
      "b'Virtuoso 37000 Error SP030: SPARQL compiler, line 21: syntax error at \\'}\\'\\n\\nSPARQL query:\\n#output-format:application/sparql-results+json\\nSELECT DISTINCT ?person\\nWHERE {\\n  {\\n    <http://dbpedia.org/resource/Al_Capone> <http://dbpedia.org/ontology/alias> ?alias .\\n    FILTER (CONTAINS(LCASE(?alias), \"scarface\"))\\n  }\\n  UNION\\n  {\\n    <http://dbpedia.org/resource/Scarface_(rapper)> <http://dbpedia.org/ontology/alias> ?alias .\\n    FILTER (CONTAINS(LCASE(?alias), \"scarface\"))\\n  }\\n  UNION\\n  {\\n    <http://dbpedia.org/resource/%22Scarface%22_John_Williams> <http://dbpedia.org/ontology/alias> ?alias .\\n    FILTER (CONTAINS(LCASE(?alias), \"scarface\"))\\n  }\\n  UNION\\n  {\\n    <http://dbpedia.org/resource/Jos\\xc3\\xa9_Rodrigo_Ar\\xc3\\xa9chiga_Gamboa> <http://dbpedia.org/ontology/alias>\\n'\n",
      "\n",
      "syntax error for sample #100\n"
     ]
    },
    {
     "name": "stderr",
     "output_type": "stream",
     "text": [
      " 69%|██████▉   | 104/150 [01:45<00:31,  1.45it/s]"
     ]
    },
    {
     "name": "stdout",
     "output_type": "stream",
     "text": [
      "\n",
      "error executing SPARQL query: QueryBadFormed: A bad request has been sent to the endpoint: probably the SPARQL query is badly formed. \n",
      "\n",
      "Response:\n",
      "b\"Virtuoso 37000 Error SP030: SPARQL compiler, line 7: syntax error at 'type' before '<http://dbpedia.org/class/yago/WikicatDaughtersOfBritishEarls>'\\n\\nSPARQL query:\\n#output-format:application/sparql-results+json\\nSELECT ?daughter ?birthPlace ?deathPlace\\nWHERE {\\n  {\\n    SELECT ?daughter ?birthPlace\\n    WHERE {\\n      ?daughter <http://www.w3.org/1999/02/22-rdf-syntax-ns#>type <http://dbpedia.org/class/yago/WikicatDaughtersOfBritishEarls> .\\n      ?daughter <http://dbpedia.org/ontology/birthPlace> ?birthPlace .\\n    }\\n  }\\n  ?daughter <http://dbpedia.org/ontology/deathPlace> ?deathPlace .\\n  FILTER (?birthPlace = ?deathPlace)\\n}\\nLIMIT 100\\n\"\n",
      "\n",
      "syntax error for sample #103\n"
     ]
    },
    {
     "name": "stderr",
     "output_type": "stream",
     "text": [
      "\r 70%|███████   | 105/150 [01:46<00:30,  1.46it/s]"
     ]
    },
    {
     "name": "stdout",
     "output_type": "stream",
     "text": [
      "\n",
      "error executing SPARQL query: EndPointInternalError: The endpoint returned the HTTP status code 500. \n",
      "\n",
      "Response:\n",
      "b'Virtuoso 42000 Error SR186:SECURITY: No permission to execute procedure DB.DBA.SPARUL_RUN with user ID 111, group ID 111\\n\\nSPARQL query:\\n#output-format:application/sparql-results+json\\n\\n'\n",
      "\n",
      "syntax error for sample #104\n"
     ]
    },
    {
     "name": "stderr",
     "output_type": "stream",
     "text": [
      " 72%|███████▏  | 108/150 [01:48<00:28,  1.47it/s]"
     ]
    },
    {
     "name": "stdout",
     "output_type": "stream",
     "text": [
      "\n",
      "error executing SPARQL query: EndPointInternalError: The endpoint returned the HTTP status code 500. \n",
      "\n",
      "Response:\n",
      "b'Virtuoso 42000 Error SR186:SECURITY: No permission to execute procedure DB.DBA.SPARUL_RUN with user ID 111, group ID 111\\n\\nSPARQL query:\\n#output-format:application/sparql-results+json\\n\\n'\n",
      "\n",
      "syntax error for sample #107\n"
     ]
    },
    {
     "name": "stderr",
     "output_type": "stream",
     "text": [
      "\r 73%|███████▎  | 109/150 [01:49<00:28,  1.44it/s]"
     ]
    },
    {
     "name": "stdout",
     "output_type": "stream",
     "text": [
      "\n",
      "error executing SPARQL query: EndPointInternalError: The endpoint returned the HTTP status code 500. \n",
      "\n",
      "Response:\n",
      "b'Virtuoso 42000 Error SR186:SECURITY: No permission to execute procedure DB.DBA.SPARUL_RUN with user ID 111, group ID 111\\n\\nSPARQL query:\\n#output-format:application/sparql-results+json\\n\\n'\n",
      "\n",
      "syntax error for sample #108\n"
     ]
    },
    {
     "name": "stderr",
     "output_type": "stream",
     "text": [
      "\r 73%|███████▎  | 110/150 [01:50<00:27,  1.45it/s]"
     ]
    },
    {
     "name": "stdout",
     "output_type": "stream",
     "text": [
      "\n",
      "results dict has more keys than expected for sample #109\n"
     ]
    },
    {
     "name": "stderr",
     "output_type": "stream",
     "text": [
      "\r 74%|███████▍  | 111/150 [01:50<00:26,  1.46it/s]"
     ]
    },
    {
     "name": "stdout",
     "output_type": "stream",
     "text": [
      "\n",
      "error executing SPARQL query: EndPointInternalError: The endpoint returned the HTTP status code 500. \n",
      "\n",
      "Response:\n",
      "b'Virtuoso 42000 Error SR186:SECURITY: No permission to execute procedure DB.DBA.SPARUL_RUN with user ID 111, group ID 111\\n\\nSPARQL query:\\n#output-format:application/sparql-results+json\\n\\n'\n",
      "\n",
      "syntax error for sample #110\n"
     ]
    },
    {
     "name": "stderr",
     "output_type": "stream",
     "text": [
      " 75%|███████▌  | 113/150 [01:52<00:25,  1.48it/s]"
     ]
    },
    {
     "name": "stdout",
     "output_type": "stream",
     "text": [
      "\n",
      "error executing SPARQL query: EndPointInternalError: The endpoint returned the HTTP status code 500. \n",
      "\n",
      "Response:\n",
      "b'Virtuoso 42000 Error SR186:SECURITY: No permission to execute procedure DB.DBA.SPARUL_RUN with user ID 111, group ID 111\\n\\nSPARQL query:\\n#output-format:application/sparql-results+json\\n\\n'\n",
      "\n",
      "syntax error for sample #112\n"
     ]
    },
    {
     "name": "stderr",
     "output_type": "stream",
     "text": [
      " 77%|███████▋  | 115/150 [01:53<00:23,  1.48it/s]"
     ]
    },
    {
     "name": "stdout",
     "output_type": "stream",
     "text": [
      "\n",
      "error executing SPARQL query: EndPointInternalError: The endpoint returned the HTTP status code 500. \n",
      "\n",
      "Response:\n",
      "b'Virtuoso 42000 Error SR186:SECURITY: No permission to execute procedure DB.DBA.SPARUL_RUN with user ID 111, group ID 111\\n\\nSPARQL query:\\n#output-format:application/sparql-results+json\\n\\n'\n",
      "\n",
      "syntax error for sample #114\n"
     ]
    },
    {
     "name": "stderr",
     "output_type": "stream",
     "text": [
      "\r 77%|███████▋  | 116/150 [01:54<00:22,  1.48it/s]"
     ]
    },
    {
     "name": "stdout",
     "output_type": "stream",
     "text": [
      "\n",
      "empty predicted answer set for sample #115\n"
     ]
    },
    {
     "name": "stderr",
     "output_type": "stream",
     "text": [
      " 79%|███████▉  | 119/150 [01:56<00:23,  1.35it/s]"
     ]
    },
    {
     "name": "stdout",
     "output_type": "stream",
     "text": [
      "\n",
      "results are not of type boolean for sample #118\n"
     ]
    },
    {
     "name": "stderr",
     "output_type": "stream",
     "text": [
      " 83%|████████▎ | 124/150 [02:00<00:18,  1.40it/s]"
     ]
    },
    {
     "name": "stdout",
     "output_type": "stream",
     "text": [
      "\n",
      "empty predicted answer set for sample #123\n"
     ]
    },
    {
     "name": "stderr",
     "output_type": "stream",
     "text": [
      " 87%|████████▋ | 130/150 [02:04<00:13,  1.47it/s]"
     ]
    },
    {
     "name": "stdout",
     "output_type": "stream",
     "text": [
      "\n",
      "error executing SPARQL query: EndPointInternalError: The endpoint returned the HTTP status code 500. \n",
      "\n",
      "Response:\n",
      "b'Virtuoso 42000 Error SR186:SECURITY: No permission to execute procedure DB.DBA.SPARUL_RUN with user ID 111, group ID 111\\n\\nSPARQL query:\\n#output-format:application/sparql-results+json\\n\\n'\n",
      "\n",
      "syntax error for sample #129\n"
     ]
    },
    {
     "name": "stderr",
     "output_type": "stream",
     "text": [
      " 89%|████████▊ | 133/150 [02:06<00:11,  1.47it/s]"
     ]
    },
    {
     "name": "stdout",
     "output_type": "stream",
     "text": [
      "\n",
      "error executing SPARQL query: EndPointInternalError: The endpoint returned the HTTP status code 500. \n",
      "\n",
      "Response:\n",
      "b'Virtuoso 42000 Error SR186:SECURITY: No permission to execute procedure DB.DBA.SPARUL_RUN with user ID 111, group ID 111\\n\\nSPARQL query:\\n#output-format:application/sparql-results+json\\n\\n'\n",
      "\n",
      "syntax error for sample #132\n"
     ]
    },
    {
     "name": "stderr",
     "output_type": "stream",
     "text": [
      " 90%|█████████ | 135/150 [02:07<00:10,  1.47it/s]"
     ]
    },
    {
     "name": "stdout",
     "output_type": "stream",
     "text": [
      "\n",
      "empty predicted answer set for sample #134\n"
     ]
    },
    {
     "name": "stderr",
     "output_type": "stream",
     "text": [
      " 92%|█████████▏| 138/150 [02:09<00:08,  1.44it/s]"
     ]
    },
    {
     "name": "stdout",
     "output_type": "stream",
     "text": [
      "\n",
      "empty predicted answer set for sample #137\n"
     ]
    },
    {
     "name": "stderr",
     "output_type": "stream",
     "text": [
      "\r 93%|█████████▎| 139/150 [02:10<00:07,  1.45it/s]"
     ]
    },
    {
     "name": "stdout",
     "output_type": "stream",
     "text": [
      "\n",
      "empty predicted answer set for sample #138\n"
     ]
    },
    {
     "name": "stderr",
     "output_type": "stream",
     "text": [
      "\r 93%|█████████▎| 140/150 [02:11<00:06,  1.46it/s]"
     ]
    },
    {
     "name": "stdout",
     "output_type": "stream",
     "text": [
      "\n",
      "error executing SPARQL query: EndPointInternalError: The endpoint returned the HTTP status code 500. \n",
      "\n",
      "Response:\n",
      "b'Virtuoso 42000 Error SR186:SECURITY: No permission to execute procedure DB.DBA.SPARUL_RUN with user ID 111, group ID 111\\n\\nSPARQL query:\\n#output-format:application/sparql-results+json\\n\\n'\n",
      "\n",
      "syntax error for sample #139\n"
     ]
    },
    {
     "name": "stderr",
     "output_type": "stream",
     "text": [
      "\r 94%|█████████▍| 141/150 [02:11<00:06,  1.45it/s]"
     ]
    },
    {
     "name": "stdout",
     "output_type": "stream",
     "text": [
      "\n",
      "results dict has more keys than expected for sample #140\n"
     ]
    },
    {
     "name": "stderr",
     "output_type": "stream",
     "text": [
      " 95%|█████████▌| 143/150 [02:13<00:04,  1.46it/s]"
     ]
    },
    {
     "name": "stdout",
     "output_type": "stream",
     "text": [
      "\n",
      "results dict has more keys than expected for sample #142\n"
     ]
    },
    {
     "name": "stderr",
     "output_type": "stream",
     "text": [
      " 97%|█████████▋| 146/150 [02:15<00:02,  1.42it/s]"
     ]
    },
    {
     "name": "stdout",
     "output_type": "stream",
     "text": [
      "\n",
      "error executing SPARQL query: QueryBadFormed: A bad request has been sent to the endpoint: probably the SPARQL query is badly formed. \n",
      "\n",
      "Response:\n",
      "b\"Virtuoso 37000 Error SP030: SPARQL compiler, line 5: syntax error at '}' before '}'\\n\\nSPARQL query:\\n#output-format:application/sparql-results+json\\nSELECT ?trail\\nWHERE {\\n  ?trail <http://dbpedia.org/property/hazards> ?hazard .\\n  FILTER NOT EXISTS { ?hazard <http://dbpedia.org/resource/Flash_flood> }\\n}\\n\"\n",
      "\n",
      "syntax error for sample #145\n"
     ]
    },
    {
     "name": "stderr",
     "output_type": "stream",
     "text": [
      "100%|██████████| 150/150 [02:18<00:00,  1.09it/s]"
     ]
    },
    {
     "name": "stdout",
     "output_type": "stream",
     "text": [
      "\n",
      "empty predicted answer set for sample #149\n",
      "\n",
      "acc: 0.4658437655521407\n",
      "rec: 0.4848358526696809\n",
      "pre: 0.4658437655521407\n",
      "f1: 0.46571285459016454\n"
     ]
    },
    {
     "name": "stderr",
     "output_type": "stream",
     "text": [
      "\n"
     ]
    }
   ],
   "source": [
    "import requests\n",
    "import json\n",
    "from SPARQLWrapper import SPARQLWrapper, JSON\n",
    "from copy import deepcopy\n",
    "dbpedia_endpoint = \"http://dbpedia.org/sparql\"\n",
    "\n",
    "def execute_sparql_query(query):\n",
    "    sparql = SPARQLWrapper(dbpedia_endpoint)\n",
    "    sparql.setQuery(query)\n",
    "    sparql.setReturnFormat(JSON)\n",
    "\n",
    "    try:\n",
    "        results = sparql.queryAndConvert()\n",
    "        return results\n",
    "    except Exception as e:\n",
    "        print(f\"\\nerror executing SPARQL query: {e}\")\n",
    "        return None\n",
    "\n",
    "def process_text(txt):\n",
    "    return txt.strip().lower().replace(':','').replace('.','').replace('/','').replace('_','')\n",
    "\n",
    "def eval(gold, pred, boolean=False):\n",
    "    TP, FP, FN = 0, 0, 0\n",
    "    for item in pred:\n",
    "        new_item = process_text(item) if not boolean else item\n",
    "        if new_item in gold:\n",
    "            TP += 1\n",
    "        else:\n",
    "            FP += 1\n",
    "    pred = list(map(lambda x: process_text(x), pred)) if not boolean else pred\n",
    "    for item in gold:\n",
    "        if item not in pred:\n",
    "            FN += 1\n",
    "    acc = TP / len(pred)\n",
    "    recall = TP / (TP + FN)\n",
    "    precision = TP / (TP + FP)\n",
    "    f1 = ((2 * (precision * recall)) / (precision + recall)) if (precision + recall != 0) else 0\n",
    "    rec, pre = recall, precision\n",
    "    return acc, rec, pre, f1\n",
    "\n",
    "queries = []\n",
    "with open('/content/gpt-3.5-turbo-tri-5_qald-9-plus.json', 'r') as f:\n",
    "  data = json.load(f)\n",
    "  queries = [d['pred_sparql'] for d in data]\n",
    "  ids = [d['id'] for d in data]\n",
    "  gold_ans = [d['gold_answers'] for d in data]\n",
    "  for j in range(len(gold_ans)):\n",
    "      if len(list(gold_ans[j].keys())) == 0:\n",
    "          ans = []\n",
    "      else:\n",
    "          assert len(list(gold_ans[j].keys())) == 1\n",
    "          gold_ans[j] = deepcopy(next(iter(gold_ans[j].values())))\n",
    "\n",
    "total_acc, total_rec, total_pre, total_f1 = 0, 0, 0, 0\n",
    "for i in trange(len(queries)):\n",
    "    query = queries[i]\n",
    "    pred_answers = {}\n",
    "    results = execute_sparql_query(query)\n",
    "    if (type(gold_ans[i]) != bool and len(gold_ans[i]) == 0) and (not results): # if results == None -> syntax error\n",
    "        print(f'\\nsyntax error for sample #{ids[i]}')\n",
    "        total_acc += 1\n",
    "        total_rec += 1\n",
    "        total_pre += 1\n",
    "        total_f1 += 1\n",
    "        continue\n",
    "    elif type(gold_ans[i]) != bool and (len(gold_ans[i]) > 0) and (not results): # if results == None -> syntax error\n",
    "        print(f'\\nsyntax error for sample #{ids[i]}')\n",
    "        continue\n",
    "    elif type(gold_ans[i]) == bool and (not results):\n",
    "        print(f'\\nsyntax error for sample #{ids[i]}')\n",
    "        continue\n",
    "    if 'boolean' in results.keys():\n",
    "        acc, rec, pre, f1 = eval([gold_ans[i]], [results['boolean']], boolean=True)\n",
    "        total_acc += acc\n",
    "        total_rec += rec\n",
    "        total_pre += pre\n",
    "        total_f1 += f1\n",
    "        continue\n",
    "    else:\n",
    "        for result in results[\"results\"][\"bindings\"]:\n",
    "            for var_name, var_data in result.items():\n",
    "                var_value = var_data[\"value\"]\n",
    "                if var_name in pred_answers.keys():\n",
    "                    pred_answers[var_name].append(var_value)\n",
    "                else:\n",
    "                    pred_answers[var_name] = [var_value]\n",
    "    if (type(gold_ans[i]) != bool) and (len(gold_ans[i]) == 0) and (len(list(pred_answers.keys())) == 0):\n",
    "        total_acc += 1\n",
    "        total_rec += 1\n",
    "        total_pre += 1\n",
    "        total_f1 += 1\n",
    "        continue\n",
    "    elif (type(gold_ans[i]) != bool) and (len(gold_ans[i]) > 0) and (len(list(pred_answers.keys())) == 0):\n",
    "        print(f'\\nempty predicted answer set for sample #{ids[i]}')\n",
    "        continue\n",
    "    elif (type(gold_ans[i]) != bool) and (len(gold_ans[i]) == 0) and (len(list(pred_answers.keys())) > 0):\n",
    "        print(f'\\npredicted answer set was supposed to be empty for sample #{ids[i]}')\n",
    "        continue\n",
    "    elif type(gold_ans[i]) == bool:\n",
    "        print(f'\\nresults are not of type boolean for sample #{ids[i]}')\n",
    "        continue\n",
    "    try:\n",
    "        assert len(list(pred_answers.keys())) == 1\n",
    "    except:\n",
    "        print(f'\\nresults dict has more keys than expected for sample #{ids[i]}')\n",
    "        continue\n",
    "    pred_ans = next(iter(pred_answers.values()))\n",
    "    acc, rec, pre, f1 = eval(list(map(lambda x: process_text(x), gold_ans[i])), pred_ans)\n",
    "    total_acc += acc\n",
    "    total_rec += rec\n",
    "    total_pre += pre\n",
    "    total_f1 += f1\n",
    "    # print(f'\\ninfo for sample #{ids[i]}:')\n",
    "    # print(f'acc = {acc}, rec = {rec}, pre = {pre}, f1 = {f1}')\n",
    "    # print('\\n'.join(gold_ans[i]))\n",
    "    # print('---')\n",
    "    # print('\\n'.join(pred_ans))\n",
    "    # print()\n",
    "print(f'\\nacc: {total_acc / len(queries)}')\n",
    "print(f'rec: {total_rec / len(queries)}')\n",
    "print(f'pre: {total_pre / len(queries)}')\n",
    "print(f'f1: {total_f1 / len(queries)}')"
   ]
  },
  {
   "cell_type": "markdown",
   "metadata": {
    "id": "U_4AK1DZaMwJ"
   },
   "source": [
    "#### ChatGPT zero-shot setting w/ 1 triple\n",
    "model_13: gpt-3.5-turbo-tri-1"
   ]
  },
  {
   "cell_type": "code",
   "execution_count": null,
   "metadata": {
    "colab": {
     "base_uri": "https://localhost:8080/",
     "height": 1000
    },
    "id": "JjgHkWVNaMWd",
    "outputId": "82b0c549-a8f7-4b8a-bce1-c66c46dcf40c"
   },
   "outputs": [
    {
     "data": {
      "text/html": [
       "\n",
       "  <style>\n",
       "    pre {\n",
       "        white-space: pre-wrap;\n",
       "    }\n",
       "  </style>\n",
       "  "
      ],
      "text/plain": [
       "<IPython.core.display.HTML object>"
      ]
     },
     "metadata": {},
     "output_type": "display_data"
    },
    {
     "name": "stderr",
     "output_type": "stream",
     "text": [
      "  1%|▏         | 2/150 [00:01<01:42,  1.45it/s]"
     ]
    },
    {
     "name": "stdout",
     "output_type": "stream",
     "text": [
      "\n",
      "error executing SPARQL query: EndPointInternalError: The endpoint returned the HTTP status code 500. \n",
      "\n",
      "Response:\n",
      "b'Virtuoso 42000 Error SR186:SECURITY: No permission to execute procedure DB.DBA.SPARUL_RUN with user ID 111, group ID 111\\n\\nSPARQL query:\\n#output-format:application/sparql-results+json\\n\\n'\n",
      "\n",
      "syntax error for sample #1\n"
     ]
    },
    {
     "name": "stderr",
     "output_type": "stream",
     "text": [
      "\r  2%|▏         | 3/150 [00:02<01:44,  1.41it/s]"
     ]
    },
    {
     "name": "stdout",
     "output_type": "stream",
     "text": [
      "\n",
      "results dict has more keys than expected for sample #2\n"
     ]
    },
    {
     "name": "stderr",
     "output_type": "stream",
     "text": [
      "\r  3%|▎         | 4/150 [00:02<01:41,  1.44it/s]"
     ]
    },
    {
     "name": "stdout",
     "output_type": "stream",
     "text": [
      "\n",
      "error executing SPARQL query: EndPointInternalError: The endpoint returned the HTTP status code 500. \n",
      "\n",
      "Response:\n",
      "b'Virtuoso 42000 Error SR186:SECURITY: No permission to execute procedure DB.DBA.SPARUL_RUN with user ID 111, group ID 111\\n\\nSPARQL query:\\n#output-format:application/sparql-results+json\\n\\n'\n",
      "\n",
      "syntax error for sample #3\n"
     ]
    },
    {
     "name": "stderr",
     "output_type": "stream",
     "text": [
      "  6%|▌         | 9/150 [00:07<02:50,  1.21s/it]"
     ]
    },
    {
     "name": "stdout",
     "output_type": "stream",
     "text": [
      "\n",
      "results are not of type boolean for sample #8\n"
     ]
    },
    {
     "name": "stderr",
     "output_type": "stream",
     "text": [
      "\r  7%|▋         | 10/150 [00:08<02:26,  1.05s/it]"
     ]
    },
    {
     "name": "stdout",
     "output_type": "stream",
     "text": [
      "\n",
      "empty predicted answer set for sample #9\n"
     ]
    },
    {
     "name": "stderr",
     "output_type": "stream",
     "text": [
      "\r  7%|▋         | 11/150 [00:09<02:10,  1.07it/s]"
     ]
    },
    {
     "name": "stdout",
     "output_type": "stream",
     "text": [
      "\n",
      "error executing SPARQL query: EndPointInternalError: The endpoint returned the HTTP status code 500. \n",
      "\n",
      "Response:\n",
      "b'Virtuoso 42000 Error SR186:SECURITY: No permission to execute procedure DB.DBA.SPARUL_RUN with user ID 111, group ID 111\\n\\nSPARQL query:\\n#output-format:application/sparql-results+json\\n\\n'\n",
      "\n",
      "syntax error for sample #10\n"
     ]
    },
    {
     "name": "stderr",
     "output_type": "stream",
     "text": [
      " 12%|█▏        | 18/150 [00:14<01:34,  1.40it/s]"
     ]
    },
    {
     "name": "stdout",
     "output_type": "stream",
     "text": [
      "\n",
      "error executing SPARQL query: EndPointInternalError: The endpoint returned the HTTP status code 500. \n",
      "\n",
      "Response:\n",
      "b'Virtuoso 42000 Error SR186:SECURITY: No permission to execute procedure DB.DBA.SPARUL_RUN with user ID 111, group ID 111\\n\\nSPARQL query:\\n#output-format:application/sparql-results+json\\n\\n'\n",
      "\n",
      "syntax error for sample #17\n"
     ]
    },
    {
     "name": "stderr",
     "output_type": "stream",
     "text": [
      " 15%|█▌        | 23/150 [00:17<01:27,  1.45it/s]"
     ]
    },
    {
     "name": "stdout",
     "output_type": "stream",
     "text": [
      "\n",
      "error executing SPARQL query: EndPointInternalError: The endpoint returned the HTTP status code 500. \n",
      "\n",
      "Response:\n",
      "b'Virtuoso 42000 Error SR186:SECURITY: No permission to execute procedure DB.DBA.SPARUL_RUN with user ID 111, group ID 111\\n\\nSPARQL query:\\n#output-format:application/sparql-results+json\\n\\n'\n",
      "\n",
      "syntax error for sample #22\n"
     ]
    },
    {
     "name": "stderr",
     "output_type": "stream",
     "text": [
      "\r 16%|█▌        | 24/150 [00:18<01:26,  1.46it/s]"
     ]
    },
    {
     "name": "stdout",
     "output_type": "stream",
     "text": [
      "\n",
      "empty predicted answer set for sample #23\n"
     ]
    },
    {
     "name": "stderr",
     "output_type": "stream",
     "text": [
      "\r 17%|█▋        | 25/150 [00:19<01:25,  1.46it/s]"
     ]
    },
    {
     "name": "stdout",
     "output_type": "stream",
     "text": [
      "\n",
      "error executing SPARQL query: EndPointInternalError: The endpoint returned the HTTP status code 500. \n",
      "\n",
      "Response:\n",
      "b'Virtuoso 42000 Error SR186:SECURITY: No permission to execute procedure DB.DBA.SPARUL_RUN with user ID 111, group ID 111\\n\\nSPARQL query:\\n#output-format:application/sparql-results+json\\n\\n'\n",
      "\n",
      "syntax error for sample #24\n"
     ]
    },
    {
     "name": "stderr",
     "output_type": "stream",
     "text": [
      "\r 17%|█▋        | 26/150 [00:19<01:24,  1.46it/s]"
     ]
    },
    {
     "name": "stdout",
     "output_type": "stream",
     "text": [
      "\n",
      "error executing SPARQL query: EndPointInternalError: The endpoint returned the HTTP status code 500. \n",
      "\n",
      "Response:\n",
      "b'Virtuoso 42000 Error SR186:SECURITY: No permission to execute procedure DB.DBA.SPARUL_RUN with user ID 111, group ID 111\\n\\nSPARQL query:\\n#output-format:application/sparql-results+json\\n\\n'\n",
      "\n",
      "syntax error for sample #25\n"
     ]
    },
    {
     "name": "stderr",
     "output_type": "stream",
     "text": [
      "\r 18%|█▊        | 27/150 [00:20<01:23,  1.47it/s]"
     ]
    },
    {
     "name": "stdout",
     "output_type": "stream",
     "text": [
      "\n",
      "empty predicted answer set for sample #26\n"
     ]
    },
    {
     "name": "stderr",
     "output_type": "stream",
     "text": [
      "\r 19%|█▊        | 28/150 [00:21<01:22,  1.47it/s]"
     ]
    },
    {
     "name": "stdout",
     "output_type": "stream",
     "text": [
      "\n",
      "predicted answer set was supposed to be empty for sample #27\n"
     ]
    },
    {
     "name": "stderr",
     "output_type": "stream",
     "text": [
      " 22%|██▏       | 33/150 [00:24<01:19,  1.48it/s]"
     ]
    },
    {
     "name": "stdout",
     "output_type": "stream",
     "text": [
      "\n",
      "error executing SPARQL query: EndPointInternalError: The endpoint returned the HTTP status code 500. \n",
      "\n",
      "Response:\n",
      "b'Virtuoso 42000 Error SR186:SECURITY: No permission to execute procedure DB.DBA.SPARUL_RUN with user ID 111, group ID 111\\n\\nSPARQL query:\\n#output-format:application/sparql-results+json\\n\\n'\n",
      "\n",
      "syntax error for sample #32\n"
     ]
    },
    {
     "name": "stderr",
     "output_type": "stream",
     "text": [
      " 25%|██▍       | 37/150 [00:27<01:16,  1.47it/s]"
     ]
    },
    {
     "name": "stdout",
     "output_type": "stream",
     "text": [
      "\n",
      "empty predicted answer set for sample #36\n"
     ]
    },
    {
     "name": "stderr",
     "output_type": "stream",
     "text": [
      " 26%|██▌       | 39/150 [00:28<01:15,  1.48it/s]"
     ]
    },
    {
     "name": "stdout",
     "output_type": "stream",
     "text": [
      "\n",
      "error executing SPARQL query: EndPointInternalError: The endpoint returned the HTTP status code 500. \n",
      "\n",
      "Response:\n",
      "b'Virtuoso 42000 Error SR186:SECURITY: No permission to execute procedure DB.DBA.SPARUL_RUN with user ID 111, group ID 111\\n\\nSPARQL query:\\n#output-format:application/sparql-results+json\\n\\n'\n",
      "\n",
      "syntax error for sample #38\n"
     ]
    },
    {
     "name": "stderr",
     "output_type": "stream",
     "text": [
      "\r 27%|██▋       | 40/150 [01:01<18:44, 10.23s/it]"
     ]
    },
    {
     "name": "stdout",
     "output_type": "stream",
     "text": [
      "\n",
      "predicted answer set was supposed to be empty for sample #39\n"
     ]
    },
    {
     "name": "stderr",
     "output_type": "stream",
     "text": [
      "\r 27%|██▋       | 41/150 [01:01<13:28,  7.42s/it]"
     ]
    },
    {
     "name": "stdout",
     "output_type": "stream",
     "text": [
      "\n",
      "predicted answer set was supposed to be empty for sample #40\n"
     ]
    },
    {
     "name": "stderr",
     "output_type": "stream",
     "text": [
      " 29%|██▉       | 44/150 [01:04<05:17,  2.99s/it]"
     ]
    },
    {
     "name": "stdout",
     "output_type": "stream",
     "text": [
      "\n",
      "predicted answer set was supposed to be empty for sample #43\n"
     ]
    },
    {
     "name": "stderr",
     "output_type": "stream",
     "text": [
      "\r 30%|███       | 45/150 [01:04<04:01,  2.30s/it]"
     ]
    },
    {
     "name": "stdout",
     "output_type": "stream",
     "text": [
      "\n",
      "empty predicted answer set for sample #44\n"
     ]
    },
    {
     "name": "stderr",
     "output_type": "stream",
     "text": [
      " 35%|███▌      | 53/150 [01:10<01:15,  1.29it/s]"
     ]
    },
    {
     "name": "stdout",
     "output_type": "stream",
     "text": [
      "\n",
      "empty predicted answer set for sample #52\n"
     ]
    },
    {
     "name": "stderr",
     "output_type": "stream",
     "text": [
      " 37%|███▋      | 56/150 [01:12<01:06,  1.40it/s]"
     ]
    },
    {
     "name": "stdout",
     "output_type": "stream",
     "text": [
      "\n",
      "results are not of type boolean for sample #55\n"
     ]
    },
    {
     "name": "stderr",
     "output_type": "stream",
     "text": [
      " 39%|███▊      | 58/150 [01:14<01:31,  1.00it/s]"
     ]
    },
    {
     "name": "stdout",
     "output_type": "stream",
     "text": [
      "\n",
      "error executing SPARQL query: EndPointInternalError: The endpoint returned the HTTP status code 500. \n",
      "\n",
      "Response:\n",
      "b'Virtuoso 42000 Error SR186:SECURITY: No permission to execute procedure DB.DBA.SPARUL_RUN with user ID 111, group ID 111\\n\\nSPARQL query:\\n#output-format:application/sparql-results+json\\n\\n'\n",
      "\n",
      "syntax error for sample #57\n"
     ]
    },
    {
     "name": "stderr",
     "output_type": "stream",
     "text": [
      " 40%|████      | 60/150 [01:16<01:15,  1.20it/s]"
     ]
    },
    {
     "name": "stdout",
     "output_type": "stream",
     "text": [
      "\n",
      "error executing SPARQL query: EndPointInternalError: The endpoint returned the HTTP status code 500. \n",
      "\n",
      "Response:\n",
      "b'Virtuoso 42000 Error SR186:SECURITY: No permission to execute procedure DB.DBA.SPARUL_RUN with user ID 111, group ID 111\\n\\nSPARQL query:\\n#output-format:application/sparql-results+json\\n\\n'\n",
      "\n",
      "syntax error for sample #59\n"
     ]
    },
    {
     "name": "stderr",
     "output_type": "stream",
     "text": [
      " 41%|████▏     | 62/150 [01:17<01:06,  1.33it/s]"
     ]
    },
    {
     "name": "stdout",
     "output_type": "stream",
     "text": [
      "\n",
      "error executing SPARQL query: QueryBadFormed: A bad request has been sent to the endpoint: probably the SPARQL query is badly formed. \n",
      "\n",
      "Response:\n",
      "b\"Virtuoso 37000 Error SP030: SPARQL compiler, line 4: Undefined namespace prefix in prefix:localpart notation at 'dct:subject' before '<http://dbpedia.org/resource/Category:James_Bond_films>'\\n\\nSPARQL query:\\n#output-format:application/sparql-results+json\\nSELECT (COUNT(?uri) AS ?count)\\nWHERE {\\n  ?uri dct:subject <http://dbpedia.org/resource/Category:James_Bond_films>.\\n}\\n\"\n",
      "\n",
      "syntax error for sample #61\n"
     ]
    },
    {
     "name": "stderr",
     "output_type": "stream",
     "text": [
      " 43%|████▎     | 64/150 [01:19<01:01,  1.40it/s]"
     ]
    },
    {
     "name": "stdout",
     "output_type": "stream",
     "text": [
      "\n",
      "predicted answer set was supposed to be empty for sample #63\n"
     ]
    },
    {
     "name": "stderr",
     "output_type": "stream",
     "text": [
      " 45%|████▍     | 67/150 [01:21<00:57,  1.45it/s]"
     ]
    },
    {
     "name": "stdout",
     "output_type": "stream",
     "text": [
      "\n",
      "error executing SPARQL query: EndPointInternalError: The endpoint returned the HTTP status code 500. \n",
      "\n",
      "Response:\n",
      "b'Virtuoso 42000 Error SR186:SECURITY: No permission to execute procedure DB.DBA.SPARUL_RUN with user ID 111, group ID 111\\n\\nSPARQL query:\\n#output-format:application/sparql-results+json\\n\\n'\n",
      "\n",
      "syntax error for sample #66\n"
     ]
    },
    {
     "name": "stderr",
     "output_type": "stream",
     "text": [
      "\r 45%|████▌     | 68/150 [01:21<00:56,  1.46it/s]"
     ]
    },
    {
     "name": "stdout",
     "output_type": "stream",
     "text": [
      "\n",
      "results dict has more keys than expected for sample #67\n"
     ]
    },
    {
     "name": "stderr",
     "output_type": "stream",
     "text": [
      "\r 46%|████▌     | 69/150 [01:22<00:55,  1.46it/s]"
     ]
    },
    {
     "name": "stdout",
     "output_type": "stream",
     "text": [
      "\n",
      "results dict has more keys than expected for sample #68\n"
     ]
    },
    {
     "name": "stderr",
     "output_type": "stream",
     "text": [
      "\r 47%|████▋     | 70/150 [01:23<00:55,  1.44it/s]"
     ]
    },
    {
     "name": "stdout",
     "output_type": "stream",
     "text": [
      "\n",
      "empty predicted answer set for sample #69\n"
     ]
    },
    {
     "name": "stderr",
     "output_type": "stream",
     "text": [
      "\r 47%|████▋     | 71/150 [01:23<00:54,  1.45it/s]"
     ]
    },
    {
     "name": "stdout",
     "output_type": "stream",
     "text": [
      "\n",
      "empty predicted answer set for sample #70\n"
     ]
    },
    {
     "name": "stderr",
     "output_type": "stream",
     "text": [
      "\r 48%|████▊     | 72/150 [01:24<00:53,  1.46it/s]"
     ]
    },
    {
     "name": "stdout",
     "output_type": "stream",
     "text": [
      "\n",
      "empty predicted answer set for sample #71\n"
     ]
    },
    {
     "name": "stderr",
     "output_type": "stream",
     "text": [
      " 49%|████▉     | 74/150 [01:26<01:01,  1.24it/s]"
     ]
    },
    {
     "name": "stdout",
     "output_type": "stream",
     "text": [
      "\n",
      "empty predicted answer set for sample #73\n"
     ]
    },
    {
     "name": "stderr",
     "output_type": "stream",
     "text": [
      " 51%|█████     | 76/150 [01:27<00:54,  1.35it/s]"
     ]
    },
    {
     "name": "stdout",
     "output_type": "stream",
     "text": [
      "\n",
      "error executing SPARQL query: EndPointInternalError: The endpoint returned the HTTP status code 500. \n",
      "\n",
      "Response:\n",
      "b'Virtuoso 42000 Error SR186:SECURITY: No permission to execute procedure DB.DBA.SPARUL_RUN with user ID 111, group ID 111\\n\\nSPARQL query:\\n#output-format:application/sparql-results+json\\n\\n'\n",
      "\n",
      "syntax error for sample #75\n"
     ]
    },
    {
     "name": "stderr",
     "output_type": "stream",
     "text": [
      "\r 51%|█████▏    | 77/150 [01:28<00:52,  1.38it/s]"
     ]
    },
    {
     "name": "stdout",
     "output_type": "stream",
     "text": [
      "\n",
      "empty predicted answer set for sample #76\n"
     ]
    },
    {
     "name": "stderr",
     "output_type": "stream",
     "text": [
      "\r 52%|█████▏    | 78/150 [01:29<00:51,  1.41it/s]"
     ]
    },
    {
     "name": "stdout",
     "output_type": "stream",
     "text": [
      "\n",
      "empty predicted answer set for sample #77\n"
     ]
    },
    {
     "name": "stderr",
     "output_type": "stream",
     "text": [
      " 53%|█████▎    | 80/150 [01:30<00:48,  1.45it/s]"
     ]
    },
    {
     "name": "stdout",
     "output_type": "stream",
     "text": [
      "\n",
      "error executing SPARQL query: EndPointInternalError: The endpoint returned the HTTP status code 500. \n",
      "\n",
      "Response:\n",
      "b'Virtuoso 42000 Error SR186:SECURITY: No permission to execute procedure DB.DBA.SPARUL_RUN with user ID 111, group ID 111\\n\\nSPARQL query:\\n#output-format:application/sparql-results+json\\n\\n'\n",
      "\n",
      "syntax error for sample #79\n"
     ]
    },
    {
     "name": "stderr",
     "output_type": "stream",
     "text": [
      " 57%|█████▋    | 85/150 [01:34<00:45,  1.42it/s]"
     ]
    },
    {
     "name": "stdout",
     "output_type": "stream",
     "text": [
      "\n",
      "error executing SPARQL query: EndPointInternalError: The endpoint returned the HTTP status code 500. \n",
      "\n",
      "Response:\n",
      "b'Virtuoso 42000 Error SR186:SECURITY: No permission to execute procedure DB.DBA.SPARUL_RUN with user ID 111, group ID 111\\n\\nSPARQL query:\\n#output-format:application/sparql-results+json\\n\\n'\n",
      "\n",
      "syntax error for sample #84\n"
     ]
    },
    {
     "name": "stderr",
     "output_type": "stream",
     "text": [
      "\r 57%|█████▋    | 86/150 [01:34<00:44,  1.44it/s]"
     ]
    },
    {
     "name": "stdout",
     "output_type": "stream",
     "text": [
      "\n",
      "results are not of type boolean for sample #85\n"
     ]
    },
    {
     "name": "stderr",
     "output_type": "stream",
     "text": [
      "\r 58%|█████▊    | 87/150 [01:35<00:43,  1.44it/s]"
     ]
    },
    {
     "name": "stdout",
     "output_type": "stream",
     "text": [
      "\n",
      "error executing SPARQL query: EndPointInternalError: The endpoint returned the HTTP status code 500. \n",
      "\n",
      "Response:\n",
      "b'Virtuoso 42000 Error SR186:SECURITY: No permission to execute procedure DB.DBA.SPARUL_RUN with user ID 111, group ID 111\\n\\nSPARQL query:\\n#output-format:application/sparql-results+json\\n\\n'\n",
      "\n",
      "syntax error for sample #86\n"
     ]
    },
    {
     "name": "stderr",
     "output_type": "stream",
     "text": [
      " 60%|██████    | 90/150 [01:37<00:43,  1.39it/s]"
     ]
    },
    {
     "name": "stdout",
     "output_type": "stream",
     "text": [
      "\n",
      "error executing SPARQL query: EndPointInternalError: The endpoint returned the HTTP status code 500. \n",
      "\n",
      "Response:\n",
      "b'Virtuoso 42000 Error SR186:SECURITY: No permission to execute procedure DB.DBA.SPARUL_RUN with user ID 111, group ID 111\\n\\nSPARQL query:\\n#output-format:application/sparql-results+json\\n\\n'\n",
      "\n",
      "syntax error for sample #89\n"
     ]
    },
    {
     "name": "stderr",
     "output_type": "stream",
     "text": [
      " 62%|██████▏   | 93/150 [01:41<00:55,  1.04it/s]"
     ]
    },
    {
     "name": "stdout",
     "output_type": "stream",
     "text": [
      "\n",
      "error executing SPARQL query: EndPointInternalError: The endpoint returned the HTTP status code 500. \n",
      "\n",
      "Response:\n",
      "b'Virtuoso 42000 Error SR186:SECURITY: No permission to execute procedure DB.DBA.SPARUL_RUN with user ID 111, group ID 111\\n\\nSPARQL query:\\n#output-format:application/sparql-results+json\\n\\n'\n",
      "\n",
      "syntax error for sample #92\n"
     ]
    },
    {
     "name": "stderr",
     "output_type": "stream",
     "text": [
      " 64%|██████▍   | 96/150 [01:43<00:42,  1.28it/s]"
     ]
    },
    {
     "name": "stdout",
     "output_type": "stream",
     "text": [
      "\n",
      "error executing SPARQL query: EndPointInternalError: The endpoint returned the HTTP status code 500. \n",
      "\n",
      "Response:\n",
      "b'Virtuoso 42000 Error SR186:SECURITY: No permission to execute procedure DB.DBA.SPARUL_RUN with user ID 111, group ID 111\\n\\nSPARQL query:\\n#output-format:application/sparql-results+json\\n\\n'\n",
      "\n",
      "syntax error for sample #95\n"
     ]
    },
    {
     "name": "stderr",
     "output_type": "stream",
     "text": [
      " 68%|██████▊   | 102/150 [01:47<00:33,  1.41it/s]"
     ]
    },
    {
     "name": "stdout",
     "output_type": "stream",
     "text": [
      "\n",
      "error executing SPARQL query: EndPointInternalError: The endpoint returned the HTTP status code 500. \n",
      "\n",
      "Response:\n",
      "b'Virtuoso 42000 Error SR186:SECURITY: No permission to execute procedure DB.DBA.SPARUL_RUN with user ID 111, group ID 111\\n\\nSPARQL query:\\n#output-format:application/sparql-results+json\\n\\n'\n",
      "\n",
      "syntax error for sample #101\n"
     ]
    },
    {
     "name": "stderr",
     "output_type": "stream",
     "text": [
      "\r 69%|██████▊   | 103/150 [01:48<00:32,  1.44it/s]"
     ]
    },
    {
     "name": "stdout",
     "output_type": "stream",
     "text": [
      "\n",
      "error executing SPARQL query: EndPointInternalError: The endpoint returned the HTTP status code 500. \n",
      "\n",
      "Response:\n",
      "b'Virtuoso 42000 Error SR186:SECURITY: No permission to execute procedure DB.DBA.SPARUL_RUN with user ID 111, group ID 111\\n\\nSPARQL query:\\n#output-format:application/sparql-results+json\\n\\n'\n",
      "\n",
      "syntax error for sample #102\n"
     ]
    },
    {
     "name": "stderr",
     "output_type": "stream",
     "text": [
      "\r 69%|██████▉   | 104/150 [01:49<00:33,  1.37it/s]"
     ]
    },
    {
     "name": "stdout",
     "output_type": "stream",
     "text": [
      "\n",
      "empty predicted answer set for sample #103\n"
     ]
    },
    {
     "name": "stderr",
     "output_type": "stream",
     "text": [
      "\r 70%|███████   | 105/150 [01:50<00:32,  1.40it/s]"
     ]
    },
    {
     "name": "stdout",
     "output_type": "stream",
     "text": [
      "\n",
      "error executing SPARQL query: EndPointInternalError: The endpoint returned the HTTP status code 500. \n",
      "\n",
      "Response:\n",
      "b'Virtuoso 42000 Error SR186:SECURITY: No permission to execute procedure DB.DBA.SPARUL_RUN with user ID 111, group ID 111\\n\\nSPARQL query:\\n#output-format:application/sparql-results+json\\n\\n'\n",
      "\n",
      "syntax error for sample #104\n"
     ]
    },
    {
     "name": "stderr",
     "output_type": "stream",
     "text": [
      " 73%|███████▎  | 109/150 [01:52<00:28,  1.45it/s]"
     ]
    },
    {
     "name": "stdout",
     "output_type": "stream",
     "text": [
      "\n",
      "error executing SPARQL query: EndPointInternalError: The endpoint returned the HTTP status code 500. \n",
      "\n",
      "Response:\n",
      "b'Virtuoso 42000 Error SR186:SECURITY: No permission to execute procedure DB.DBA.SPARUL_RUN with user ID 111, group ID 111\\n\\nSPARQL query:\\n#output-format:application/sparql-results+json\\n\\n'\n",
      "\n",
      "syntax error for sample #108\n"
     ]
    },
    {
     "name": "stderr",
     "output_type": "stream",
     "text": [
      "\r 73%|███████▎  | 110/150 [01:53<00:27,  1.45it/s]"
     ]
    },
    {
     "name": "stdout",
     "output_type": "stream",
     "text": [
      "\n",
      "results dict has more keys than expected for sample #109\n"
     ]
    },
    {
     "name": "stderr",
     "output_type": "stream",
     "text": [
      "\r 74%|███████▍  | 111/150 [01:54<00:26,  1.46it/s]"
     ]
    },
    {
     "name": "stdout",
     "output_type": "stream",
     "text": [
      "\n",
      "error executing SPARQL query: EndPointInternalError: The endpoint returned the HTTP status code 500. \n",
      "\n",
      "Response:\n",
      "b'Virtuoso 42000 Error SR186:SECURITY: No permission to execute procedure DB.DBA.SPARUL_RUN with user ID 111, group ID 111\\n\\nSPARQL query:\\n#output-format:application/sparql-results+json\\n\\n'\n",
      "\n",
      "syntax error for sample #110\n"
     ]
    },
    {
     "name": "stderr",
     "output_type": "stream",
     "text": [
      " 77%|███████▋  | 115/150 [01:56<00:23,  1.47it/s]"
     ]
    },
    {
     "name": "stdout",
     "output_type": "stream",
     "text": [
      "\n",
      "error executing SPARQL query: EndPointInternalError: The endpoint returned the HTTP status code 500. \n",
      "\n",
      "Response:\n",
      "b'Virtuoso 42000 Error SR186:SECURITY: No permission to execute procedure DB.DBA.SPARUL_RUN with user ID 111, group ID 111\\n\\nSPARQL query:\\n#output-format:application/sparql-results+json\\n\\n'\n",
      "\n",
      "syntax error for sample #114\n"
     ]
    },
    {
     "name": "stderr",
     "output_type": "stream",
     "text": [
      "\r 77%|███████▋  | 116/150 [01:57<00:23,  1.47it/s]"
     ]
    },
    {
     "name": "stdout",
     "output_type": "stream",
     "text": [
      "\n",
      "error executing SPARQL query: EndPointInternalError: The endpoint returned the HTTP status code 500. \n",
      "\n",
      "Response:\n",
      "b\"Virtuoso 42000 Error SQ070:SECURITY: Must have SELECT privileges on view DB.DBA.SPARQL_SINV_2 for group ID 111 (SPARQL), user ID 111 (SPARQL)\\n\\nSPARQL query:\\n#output-format:application/sparql-results+json\\nSELECT ?animalLabel\\nWHERE {\\n  ?animal a <http://dbpedia.org/ontology/Animal> ;\\n          <http://dbpedia.org/ontology/threatenedStatus> <http://dbpedia.org/resource/Critically_endangered> .\\n  SERVICE <http://dbpedia.org/sparql> {\\n    ?animal rdfs:label ?animalLabel .\\n    FILTER (lang(?animalLabel) = 'en')\\n  }\\n}\\n\"\n",
      "\n",
      "syntax error for sample #115\n"
     ]
    },
    {
     "name": "stderr",
     "output_type": "stream",
     "text": [
      " 79%|███████▉  | 119/150 [01:59<00:22,  1.40it/s]"
     ]
    },
    {
     "name": "stdout",
     "output_type": "stream",
     "text": [
      "\n",
      "error executing SPARQL query: EndPointInternalError: The endpoint returned the HTTP status code 500. \n",
      "\n",
      "Response:\n",
      "b'Virtuoso 42000 Error SR186:SECURITY: No permission to execute procedure DB.DBA.SPARUL_RUN with user ID 111, group ID 111\\n\\nSPARQL query:\\n#output-format:application/sparql-results+json\\n\\n'\n",
      "\n",
      "syntax error for sample #118\n"
     ]
    },
    {
     "name": "stderr",
     "output_type": "stream",
     "text": [
      "\r 80%|████████  | 120/150 [02:00<00:21,  1.42it/s]"
     ]
    },
    {
     "name": "stdout",
     "output_type": "stream",
     "text": [
      "\n",
      "error executing SPARQL query: QueryBadFormed: A bad request has been sent to the endpoint: probably the SPARQL query is badly formed. \n",
      "\n",
      "Response:\n",
      "b'Virtuoso 37000 Error SP030: SPARQL compiler, line 4: Undefined namespace prefix in prefix:localpart notation at \\'dbpedia-owl:abbreviation\\' before \\'\"MN\"\\'\\n\\nSPARQL query:\\n#output-format:application/sparql-results+json\\nSELECT ?uri WHERE {\\n  ?uri a yago:WikicatStatesOfTheUnitedStates ;\\n       dbpedia-owl:abbreviation \"MN\" .\\n}\\n'\n",
      "\n",
      "syntax error for sample #119\n"
     ]
    },
    {
     "name": "stderr",
     "output_type": "stream",
     "text": [
      " 81%|████████▏ | 122/150 [02:02<00:20,  1.37it/s]"
     ]
    },
    {
     "name": "stdout",
     "output_type": "stream",
     "text": [
      "\n",
      "error executing SPARQL query: EndPointInternalError: The endpoint returned the HTTP status code 500. \n",
      "\n",
      "Response:\n",
      "b'Virtuoso 42000 Error SR186:SECURITY: No permission to execute procedure DB.DBA.SPARUL_RUN with user ID 111, group ID 111\\n\\nSPARQL query:\\n#output-format:application/sparql-results+json\\n\\n'\n",
      "\n",
      "syntax error for sample #121\n"
     ]
    },
    {
     "name": "stderr",
     "output_type": "stream",
     "text": [
      " 83%|████████▎ | 124/150 [02:03<00:18,  1.42it/s]"
     ]
    },
    {
     "name": "stdout",
     "output_type": "stream",
     "text": [
      "\n",
      "empty predicted answer set for sample #123\n"
     ]
    },
    {
     "name": "stderr",
     "output_type": "stream",
     "text": [
      "\r 83%|████████▎ | 125/150 [02:04<00:17,  1.42it/s]"
     ]
    },
    {
     "name": "stdout",
     "output_type": "stream",
     "text": [
      "\n",
      "empty predicted answer set for sample #124\n"
     ]
    },
    {
     "name": "stderr",
     "output_type": "stream",
     "text": [
      " 88%|████████▊ | 132/150 [02:09<00:13,  1.34it/s]"
     ]
    },
    {
     "name": "stdout",
     "output_type": "stream",
     "text": [
      "\n",
      "predicted answer set was supposed to be empty for sample #131\n"
     ]
    },
    {
     "name": "stderr",
     "output_type": "stream",
     "text": [
      "\r 89%|████████▊ | 133/150 [02:10<00:12,  1.38it/s]"
     ]
    },
    {
     "name": "stdout",
     "output_type": "stream",
     "text": [
      "\n",
      "error executing SPARQL query: EndPointInternalError: The endpoint returned the HTTP status code 500. \n",
      "\n",
      "Response:\n",
      "b'Virtuoso 42000 Error SR186:SECURITY: No permission to execute procedure DB.DBA.SPARUL_RUN with user ID 111, group ID 111\\n\\nSPARQL query:\\n#output-format:application/sparql-results+json\\n\\n'\n",
      "\n",
      "syntax error for sample #132\n"
     ]
    },
    {
     "name": "stderr",
     "output_type": "stream",
     "text": [
      " 90%|█████████ | 135/150 [02:11<00:10,  1.42it/s]"
     ]
    },
    {
     "name": "stdout",
     "output_type": "stream",
     "text": [
      "\n",
      "error executing SPARQL query: EndPointInternalError: The endpoint returned the HTTP status code 500. \n",
      "\n",
      "Response:\n",
      "b'Virtuoso 42000 Error SR186:SECURITY: No permission to execute procedure DB.DBA.SPARUL_RUN with user ID 111, group ID 111\\n\\nSPARQL query:\\n#output-format:application/sparql-results+json\\n\\n'\n",
      "\n",
      "syntax error for sample #134\n"
     ]
    },
    {
     "name": "stderr",
     "output_type": "stream",
     "text": [
      " 92%|█████████▏| 138/150 [02:13<00:08,  1.43it/s]"
     ]
    },
    {
     "name": "stdout",
     "output_type": "stream",
     "text": [
      "\n",
      "empty predicted answer set for sample #137\n"
     ]
    },
    {
     "name": "stderr",
     "output_type": "stream",
     "text": [
      "\r 93%|█████████▎| 139/150 [02:14<00:07,  1.43it/s]"
     ]
    },
    {
     "name": "stdout",
     "output_type": "stream",
     "text": [
      "\n",
      "empty predicted answer set for sample #138\n"
     ]
    },
    {
     "name": "stderr",
     "output_type": "stream",
     "text": [
      "\r 93%|█████████▎| 140/150 [02:15<00:06,  1.44it/s]"
     ]
    },
    {
     "name": "stdout",
     "output_type": "stream",
     "text": [
      "\n",
      "error executing SPARQL query: EndPointInternalError: The endpoint returned the HTTP status code 500. \n",
      "\n",
      "Response:\n",
      "b'Virtuoso 42000 Error SR186:SECURITY: No permission to execute procedure DB.DBA.SPARUL_RUN with user ID 111, group ID 111\\n\\nSPARQL query:\\n#output-format:application/sparql-results+json\\n\\n'\n",
      "\n",
      "syntax error for sample #139\n"
     ]
    },
    {
     "name": "stderr",
     "output_type": "stream",
     "text": [
      "\r 94%|█████████▍| 141/150 [02:15<00:06,  1.45it/s]"
     ]
    },
    {
     "name": "stdout",
     "output_type": "stream",
     "text": [
      "\n",
      "error executing SPARQL query: EndPointInternalError: The endpoint returned the HTTP status code 500. \n",
      "\n",
      "Response:\n",
      "b'Virtuoso 42000 Error SR186:SECURITY: No permission to execute procedure DB.DBA.SPARUL_RUN with user ID 111, group ID 111\\n\\nSPARQL query:\\n#output-format:application/sparql-results+json\\n\\n'\n",
      "\n",
      "syntax error for sample #140\n"
     ]
    },
    {
     "name": "stderr",
     "output_type": "stream",
     "text": [
      " 97%|█████████▋| 146/150 [02:19<00:02,  1.43it/s]"
     ]
    },
    {
     "name": "stdout",
     "output_type": "stream",
     "text": [
      "\n",
      "error executing SPARQL query: QueryBadFormed: A bad request has been sent to the endpoint: probably the SPARQL query is badly formed. \n",
      "\n",
      "Response:\n",
      "b'Virtuoso 37000 Error SP030: SPARQL compiler, line 6: syntax error at \\'.\\' before \\'}\\'\\n\\nSPARQL query:\\n#output-format:application/sparql-results+json\\nSELECT ?trail\\nWHERE {\\n  ?trail <http://dbpedia.org/property/hazards> ?hazard .\\n  FILTER NOT EXISTS {\\n    ?hazard <http://dbpedia.org/resource/Flash_flood> .\\n  }\\n  FILTER (CONTAINS(STR(?trail), \"Grand_Canyon\"))\\n}\\n'\n",
      "\n",
      "syntax error for sample #145\n"
     ]
    },
    {
     "name": "stderr",
     "output_type": "stream",
     "text": [
      "\r 98%|█████████▊| 147/150 [02:20<00:02,  1.40it/s]"
     ]
    },
    {
     "name": "stdout",
     "output_type": "stream",
     "text": [
      "\n",
      "empty predicted answer set for sample #146\n"
     ]
    },
    {
     "name": "stderr",
     "output_type": "stream",
     "text": [
      "\r 99%|█████████▊| 148/150 [02:20<00:01,  1.42it/s]"
     ]
    },
    {
     "name": "stdout",
     "output_type": "stream",
     "text": [
      "\n",
      "error executing SPARQL query: EndPointInternalError: The endpoint returned the HTTP status code 500. \n",
      "\n",
      "Response:\n",
      "b'Virtuoso 42000 Error SR186:SECURITY: No permission to execute procedure DB.DBA.SPARUL_RUN with user ID 111, group ID 111\\n\\nSPARQL query:\\n#output-format:application/sparql-results+json\\n\\n'\n",
      "\n",
      "syntax error for sample #147\n"
     ]
    },
    {
     "name": "stderr",
     "output_type": "stream",
     "text": [
      "100%|██████████| 150/150 [02:22<00:00,  1.05it/s]"
     ]
    },
    {
     "name": "stdout",
     "output_type": "stream",
     "text": [
      "\n",
      "error executing SPARQL query: EndPointInternalError: The endpoint returned the HTTP status code 500. \n",
      "\n",
      "Response:\n",
      "b'Virtuoso 42000 Error SR186:SECURITY: No permission to execute procedure DB.DBA.SPARUL_RUN with user ID 111, group ID 111\\n\\nSPARQL query:\\n#output-format:application/sparql-results+json\\n\\n'\n",
      "\n",
      "syntax error for sample #149\n",
      "\n",
      "acc: 0.4090507719442305\n",
      "rec: 0.4375458116164819\n",
      "pre: 0.4090507719442305\n",
      "f1: 0.4086512859378727\n"
     ]
    },
    {
     "name": "stderr",
     "output_type": "stream",
     "text": [
      "\n"
     ]
    }
   ],
   "source": [
    "import requests\n",
    "import json\n",
    "from SPARQLWrapper import SPARQLWrapper, JSON\n",
    "from copy import deepcopy\n",
    "dbpedia_endpoint = \"http://dbpedia.org/sparql\"\n",
    "\n",
    "def execute_sparql_query(query):\n",
    "    sparql = SPARQLWrapper(dbpedia_endpoint)\n",
    "    sparql.setQuery(query)\n",
    "    sparql.setReturnFormat(JSON)\n",
    "\n",
    "    try:\n",
    "        results = sparql.queryAndConvert()\n",
    "        return results\n",
    "    except Exception as e:\n",
    "        print(f\"\\nerror executing SPARQL query: {e}\")\n",
    "        return None\n",
    "\n",
    "def process_text(txt):\n",
    "    return txt.strip().lower().replace(':','').replace('.','').replace('/','').replace('_','')\n",
    "\n",
    "def eval(gold, pred, boolean=False):\n",
    "    TP, FP, FN = 0, 0, 0\n",
    "    for item in pred:\n",
    "        new_item = process_text(item) if not boolean else item\n",
    "        if new_item in gold:\n",
    "            TP += 1\n",
    "        else:\n",
    "            FP += 1\n",
    "    pred = list(map(lambda x: process_text(x), pred)) if not boolean else pred\n",
    "    for item in gold:\n",
    "        if item not in pred:\n",
    "            FN += 1\n",
    "    acc = TP / len(pred)\n",
    "    recall = TP / (TP + FN)\n",
    "    precision = TP / (TP + FP)\n",
    "    f1 = ((2 * (precision * recall)) / (precision + recall)) if (precision + recall != 0) else 0\n",
    "    rec, pre = recall, precision\n",
    "    return acc, rec, pre, f1\n",
    "\n",
    "queries = []\n",
    "with open('/content/gpt-3.5-turbo-tri-1_qald-9-plus.json', 'r') as f:\n",
    "  data = json.load(f)\n",
    "  queries = [d['pred_sparql'] for d in data]\n",
    "  ids = [d['id'] for d in data]\n",
    "  gold_ans = [d['gold_answers'] for d in data]\n",
    "  for j in range(len(gold_ans)):\n",
    "      if len(list(gold_ans[j].keys())) == 0:\n",
    "          ans = []\n",
    "      else:\n",
    "          assert len(list(gold_ans[j].keys())) == 1\n",
    "          gold_ans[j] = deepcopy(next(iter(gold_ans[j].values())))\n",
    "\n",
    "total_acc, total_rec, total_pre, total_f1 = 0, 0, 0, 0\n",
    "for i in trange(len(queries)):\n",
    "    query = queries[i]\n",
    "    pred_answers = {}\n",
    "    results = execute_sparql_query(query)\n",
    "    if (type(gold_ans[i]) != bool and len(gold_ans[i]) == 0) and (not results): # if results == None -> syntax error\n",
    "        print(f'\\nsyntax error for sample #{ids[i]}')\n",
    "        total_acc += 1\n",
    "        total_rec += 1\n",
    "        total_pre += 1\n",
    "        total_f1 += 1\n",
    "        continue\n",
    "    elif type(gold_ans[i]) != bool and (len(gold_ans[i]) > 0) and (not results): # if results == None -> syntax error\n",
    "        print(f'\\nsyntax error for sample #{ids[i]}')\n",
    "        continue\n",
    "    elif type(gold_ans[i]) == bool and (not results):\n",
    "        print(f'\\nsyntax error for sample #{ids[i]}')\n",
    "        continue\n",
    "    if 'boolean' in results.keys():\n",
    "        acc, rec, pre, f1 = eval([gold_ans[i]], [results['boolean']], boolean=True)\n",
    "        total_acc += acc\n",
    "        total_rec += rec\n",
    "        total_pre += pre\n",
    "        total_f1 += f1\n",
    "        continue\n",
    "    else:\n",
    "        for result in results[\"results\"][\"bindings\"]:\n",
    "            for var_name, var_data in result.items():\n",
    "                var_value = var_data[\"value\"]\n",
    "                if var_name in pred_answers.keys():\n",
    "                    pred_answers[var_name].append(var_value)\n",
    "                else:\n",
    "                    pred_answers[var_name] = [var_value]\n",
    "    if (type(gold_ans[i]) != bool) and (len(gold_ans[i]) == 0) and (len(list(pred_answers.keys())) == 0):\n",
    "        total_acc += 1\n",
    "        total_rec += 1\n",
    "        total_pre += 1\n",
    "        total_f1 += 1\n",
    "        continue\n",
    "    elif (type(gold_ans[i]) != bool) and (len(gold_ans[i]) > 0) and (len(list(pred_answers.keys())) == 0):\n",
    "        print(f'\\nempty predicted answer set for sample #{ids[i]}')\n",
    "        continue\n",
    "    elif (type(gold_ans[i]) != bool) and (len(gold_ans[i]) == 0) and (len(list(pred_answers.keys())) > 0):\n",
    "        print(f'\\npredicted answer set was supposed to be empty for sample #{ids[i]}')\n",
    "        continue\n",
    "    elif type(gold_ans[i]) == bool:\n",
    "        print(f'\\nresults are not of type boolean for sample #{ids[i]}')\n",
    "        continue\n",
    "    try:\n",
    "        assert len(list(pred_answers.keys())) == 1\n",
    "    except:\n",
    "        print(f'\\nresults dict has more keys than expected for sample #{ids[i]}')\n",
    "        continue\n",
    "    pred_ans = next(iter(pred_answers.values()))\n",
    "    acc, rec, pre, f1 = eval(list(map(lambda x: process_text(x), gold_ans[i])), pred_ans)\n",
    "    total_acc += acc\n",
    "    total_rec += rec\n",
    "    total_pre += pre\n",
    "    total_f1 += f1\n",
    "    # print(f'\\ninfo for sample #{ids[i]}:')\n",
    "    # print(f'acc = {acc}, rec = {rec}, pre = {pre}, f1 = {f1}')\n",
    "    # print('\\n'.join(gold_ans[i]))\n",
    "    # print('---')\n",
    "    # print('\\n'.join(pred_ans))\n",
    "    # print()\n",
    "print(f'\\nacc: {total_acc / len(queries)}')\n",
    "print(f'rec: {total_rec / len(queries)}')\n",
    "print(f'pre: {total_pre / len(queries)}')\n",
    "print(f'f1: {total_f1 / len(queries)}')"
   ]
  },
  {
   "cell_type": "markdown",
   "metadata": {
    "id": "qMyRAzBfleUm"
   },
   "source": [
    "#### ChatGPT API"
   ]
  },
  {
   "cell_type": "code",
   "execution_count": null,
   "metadata": {
    "id": "FPJxaWSOXeqV"
   },
   "outputs": [],
   "source": [
    "import json\n",
    "import os\n",
    "import openai\n",
    "from tqdm import trange\n",
    "\n",
    "def preprocess_text(text):\n",
    "  return text\n",
    "\n",
    "def lists_to_string(input_lists, limit=10, delim='\\n'):\n",
    "  # depth=3\n",
    "  output_string = ''\n",
    "  i = 0\n",
    "  for x in range(len(input_lists)):\n",
    "    for y in range(len(input_lists[x])):\n",
    "      if i >= limit:\n",
    "        return output_string.strip()\n",
    "      output_string += delim.join(input_lists[x][y]) + delim\n",
    "      i += 1\n",
    "  return output_string.strip()\n",
    "\n",
    "def extract_sparql_rule_based(response, start=\"```sparql\", end=\"```\"):\n",
    "    include = False\n",
    "    sparql = ''\n",
    "    for line in response.split('\\n'):\n",
    "        if line == start:\n",
    "            include = True\n",
    "            continue\n",
    "        if include:\n",
    "            if line == end:\n",
    "                break\n",
    "            else:\n",
    "                sparql += line + '\\n'\n",
    "    return sparql[:-1]\n",
    "\n",
    "openai.api_key = \"secret\"\n",
    "\n",
    "generated_responses = []\n",
    "data = []\n",
    "with open('/content/t5-3b-tri-10-ep-10-t_qald-9-plus_v3.json', 'r') as f:\n",
    "  data = json.load(f)\n",
    "  # queries = list(map(lambda x: preprocess_text(x['question']) + '\\n' + preprocess_text(lists_to_string(x['new_triples'])), data))\n",
    "\n",
    "for i in trange(len(data)):\n",
    "    test_sample = data[i]\n",
    "\n",
    "    first_response = openai.chat.completions.create(\n",
    "        model=\"gpt-3.5-turbo\",\n",
    "        messages=[\n",
    "            {\n",
    "                \"role\": \"system\",\n",
    "                \"content\": \"Your task is to correct the syntax of the given DBPedia SPARQL. Do not generate anything more than the SPARQL. Begin the code with ```sparql and end it with ```. If unspecified, consider the LIMIT equal to 100.\"\n",
    "                # \"content\": \"Your task is to generate the DBPedia SPARQL of the given question w.r.t. the following relevant triples. Do not generate anything more than the SPARQL. Begin the code with ```sparql and end it with ```. If unspecified, consider the LIMIT equal to 100.\"\n",
    "            },\n",
    "            {\n",
    "                \"role\": \"user\",\n",
    "                # \"content\": queries[i]\n",
    "                \"content\": test_sample['pred']\n",
    "                # \"content\": test_sample['question'],\n",
    "            },\n",
    "        ],\n",
    "        temperature=0.2,\n",
    "        max_tokens=200,\n",
    "        top_p=0.1,\n",
    "    ).choices[0].message.content.strip()\n",
    "\n",
    "    # second_response = openai.chat.completions.create(\n",
    "    #     model=\"gpt-3.5-turbo\",\n",
    "    #     messages=[\n",
    "    #         {\n",
    "    #             \"role\": \"system\",\n",
    "    #             \"content\": \"Your task is to correct the syntax of the given DBPedia SPARQL. Do not generate anything more than the SPARQL. Begin the code with ```sparql and end it with ```. If unspecified, consider the LIMIT equal to 100.\"\n",
    "    #             # \"content\": \"Your task is to generate the DBPedia SPARQL of the given question. Do not generate anything more than the SPARQL. Begin the code with ```sparql and end it with ```. If unspecified, consider the LIMIT equal to 100.\"\n",
    "    #         },\n",
    "    #         {\n",
    "    #             \"role\": \"user\",\n",
    "    #             \"content\": test_sample['pred']\n",
    "    #             # \"content\": test_sample['question'],\n",
    "    #         },\n",
    "    #         {\n",
    "    #             \"role\": \"assistant\",\n",
    "    #             \"content\": first_response,\n",
    "    #         },\n",
    "    #         {\n",
    "    #             \"role\": \"user\",\n",
    "    #             \"content\": \"It still has syntax errors! Try again.\",\n",
    "    #             # \"content\": \"It did not work! Try again.\",\n",
    "    #         }\n",
    "    #     ],\n",
    "    #     temperature=0.2,\n",
    "    #     max_tokens=200,\n",
    "    #     top_p=0.1,\n",
    "    # ).choices[0].message.content.strip()\n",
    "\n",
    "    generated_responses.append({\n",
    "        \"id\": i,\n",
    "        \"gold_answers\": test_sample['ans'],\n",
    "        # \"gold_answers\": test_sample['new_answers'],\n",
    "        \"pred_sparql\": extract_sparql_rule_based(first_response),\n",
    "        # \"pred_sparql_2\": extract_sparql_rule_based(second_response)\n",
    "    })\n",
    "\n",
    "with open(\"gpt-3.5-turbo_t5-3b-tri-10-ep-10-t_qald-9-plus_v3.json\", \"w\") as json_file:\n",
    "    json.dump(generated_responses, json_file, indent=4)"
   ]
  }
 ],
 "metadata": {
  "colab": {
   "collapsed_sections": [
    "AT9uSVsSkpd3",
    "qid-yRrFkXWT",
    "MMJfvqtyz9bJ",
    "O6O9hFWp_TXK",
    "pI-rwtOhgnRh",
    "xt0_l5eR9u6e",
    "nbpD6iSWxnjm",
    "5Z7uAvwJtJ-n",
    "ujpLuslP3zz-",
    "zhom8E8I6GF2",
    "WXkl7AUPNeHT",
    "k4oIZcb0Ylaf",
    "U_4AK1DZaMwJ",
    "qMyRAzBfleUm"
   ],
   "provenance": []
  },
  "kernelspec": {
   "display_name": "Python 3",
   "name": "python3"
  },
  "language_info": {
   "name": "python"
  }
 },
 "nbformat": 4,
 "nbformat_minor": 0
}
